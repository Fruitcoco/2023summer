{
 "cells": [
  {
   "cell_type": "code",
   "execution_count": 1,
   "id": "45a3cbea",
   "metadata": {},
   "outputs": [
    {
     "ename": "ModuleNotFoundError",
     "evalue": "No module named 'requests'",
     "output_type": "error",
     "traceback": [
      "\u001b[0;31m---------------------------------------------------------------------------\u001b[0m",
      "\u001b[0;31mModuleNotFoundError\u001b[0m                       Traceback (most recent call last)",
      "Cell \u001b[0;32mIn[1], line 1\u001b[0m\n\u001b[0;32m----> 1\u001b[0m \u001b[38;5;28;01mimport\u001b[39;00m \u001b[38;5;21;01mrequests\u001b[39;00m\n\u001b[1;32m      2\u001b[0m \u001b[38;5;28;01mimport\u001b[39;00m \u001b[38;5;21;01mrandom\u001b[39;00m\n\u001b[1;32m      3\u001b[0m \u001b[38;5;28;01mimport\u001b[39;00m \u001b[38;5;21;01mos\u001b[39;00m\n",
      "\u001b[0;31mModuleNotFoundError\u001b[0m: No module named 'requests'"
     ]
    }
   ],
   "source": [
    "import requests\n",
    "import random\n",
    "import os\n",
    "import pandas as pd\n",
    "from rdkit import Chem\n",
    "\n",
    "upload_url=r'http://xundrug.cn:5001/modules/upload0/'\n",
    "\n",
    "def predict_pka(smi):\n",
    "    param={\"Smiles\" : (\"tmg\", smi)}\n",
    "    headers={'token':'O05DriqqQLlry9kmpCwms2IJLC0MuLQ7'}\n",
    "    response=requests.post(url=upload_url, files=param, headers=headers)\n",
    "    jsonbool=int(response.headers['ifjson'])\n",
    "    if jsonbool==1:\n",
    "        res_json=response.json()\n",
    "        if res_json['status'] == 200:\n",
    "            pka_datas = res_json['gen_datas']\n",
    "            return pka_datas\n",
    "        else:\n",
    "            raise RuntimeError(\"Error for pKa prediction\")\n",
    "    else:\n",
    "        raise RuntimeError(\"Error for pKa prediction\")\n",
    "        \n",
    "if __name__==\"__main__\":\n",
    "    smi = \"COc(n1)ccc(c12)nccc2NC(=O)C3CCC(CC3)CCc(c4)ccc(c45)OCCO5\"\n",
    "    data_pka = predict_pka(smi)\n",
    "    print(data_pka)"
   ]
  }
 ],
 "metadata": {
  "kernelspec": {
   "display_name": "Python 3 (ipykernel)",
   "language": "python",
   "name": "python3"
  },
  "language_info": {
   "codemirror_mode": {
    "name": "ipython",
    "version": 3
   },
   "file_extension": ".py",
   "mimetype": "text/x-python",
   "name": "python",
   "nbconvert_exporter": "python",
   "pygments_lexer": "ipython3",
   "version": "3.8.16"
  }
 },
 "nbformat": 4,
 "nbformat_minor": 5
}
