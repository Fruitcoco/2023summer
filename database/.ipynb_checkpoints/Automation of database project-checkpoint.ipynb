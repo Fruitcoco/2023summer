{
 "cells": [
  {
   "cell_type": "code",
   "execution_count": 34,
   "id": "89ac7651",
   "metadata": {},
   "outputs": [],
   "source": [
    "#import the required package\n",
    "import pandas as pd\n",
    "import numpy as np\n",
    "from urllib.request import urlopen\n",
    "import json\n",
    "import requests\n",
    "import io\n",
    "from PIL import Image\n",
    "from IPython.display import HTML\n",
    "\n",
    "\n",
    "import mysql.connector as msql\n",
    "from mysql.connector import Error"
   ]
  },
  {
   "cell_type": "markdown",
   "id": "7b7b672c",
   "metadata": {},
   "source": [
    "## creating dataframe"
   ]
  },
  {
   "cell_type": "code",
   "execution_count": 37,
   "id": "bdbb87d3",
   "metadata": {},
   "outputs": [],
   "source": [
    "def auto_chem_df(chem_name):    \n",
    "    url_first=f'https://pubchem.ncbi.nlm.nih.gov/sdq/sdqagent.cgi?infmt=json&outfmt=json&query={{%22select%22:%22*%22,%22collection%22:%22compound%22,%22where%22:{{%22ands%22:[{{%22*%22:%22{chem_name}%22}}]}},%22order%22:[%22relevancescore,desc%22],%22start%22:1,%22limit%22:10,%22width%22:1000000,%22listids%22:0}}'\n",
    "    response_first = urlopen(url_first)\n",
    "    data_json0 = json.loads(response_first.read())\n",
    "    page=data_json0['SDQOutputSet'][0]['rows']\n",
    "    page_count=int(data_json0['SDQOutputSet'][0]['totalCount']/10)\n",
    "\n",
    "\n",
    "    cid_list=[]\n",
    "    cmpdname_list=[]\n",
    "    mf_list=[]\n",
    "    isosmiles_list=[]\n",
    "    for elem in page:\n",
    "        cid_list.append(elem['cid'])\n",
    "        cmpdname_list.append(elem['cmpdname'])\n",
    "        mf_list.append(elem['mf'])\n",
    "        isosmiles_list.append(elem['isosmiles'])\n",
    "\n",
    "\n",
    "    for p in range(1,page_count+1):  \n",
    "        #I used double {{}} to escape the syntax error\n",
    "        url_rest=f'https://pubchem.ncbi.nlm.nih.gov/sdq/sdqagent.cgi?infmt=json&outfmt=json&query={{%22select%22:%22*%22,%22collection%22:%22compound%22,%22where%22:{{%22ands%22:[{{%22*%22:%22{chem_name}%22}}]}},%22order%22:[%22relevancescore,desc%22],%22start%22:{p}1,%22limit%22:10,%22width%22:1000000,%22listids%22:0}}'\n",
    "        response_rest=urlopen(url_rest)\n",
    "        data_json=json.loads(response_rest.read())\n",
    "        page_output=data_json['SDQOutputSet'][0]['rows']\n",
    "\n",
    "        for elem in page_output:\n",
    "            cid_list.append(elem['cid'])\n",
    "            cmpdname_list.append(elem['cmpdname'])\n",
    "            mf_list.append(elem['mf'])\n",
    "            isosmiles_list.append(elem['isosmiles'])\n",
    "    ##Create a dataframe in python and save it to csv file\n",
    "    dic={'cid':cid_list,'cmpdname':cmpdname_list,'mf':mf_list,'isosmiles':isosmiles_list}\n",
    "    df=pd.DataFrame(dic)\n",
    "    \n",
    "    \n",
    "    \n",
    "    ##embed 2D-structure \n",
    "    df_copy=df.copy()\n",
    "    image_list=[]\n",
    "    for cid in df_copy['cid']:\n",
    "        file_name=f'<img src=\"https://pubchem.ncbi.nlm.nih.gov/image/imgsrv.fcgi?&cid={cid}&t=l\">'\n",
    "        image_list.append(file_name) \n",
    "    df_copy['2D-Structure']=image_list\n",
    "    \n",
    "    return HTML(df_copy.to_html(escape=False)),HTML(df_copy.head().to_html(escape=False)),df_copy\n",
    "\n",
    "    \n",
    "    \n",
    "##return [0]:visualization of full datafram [1]: part of visulization [2]:df for sql storage"
   ]
  },
  {
   "cell_type": "code",
   "execution_count": 38,
   "id": "253787fd",
   "metadata": {
    "scrolled": true
   },
   "outputs": [
    {
     "data": {
      "text/html": [
       "<table border=\"1\" class=\"dataframe\">\n",
       "  <thead>\n",
       "    <tr style=\"text-align: right;\">\n",
       "      <th></th>\n",
       "      <th>cid</th>\n",
       "      <th>cmpdname</th>\n",
       "      <th>mf</th>\n",
       "      <th>isosmiles</th>\n",
       "      <th>2D-Structure</th>\n",
       "    </tr>\n",
       "  </thead>\n",
       "  <tbody>\n",
       "    <tr>\n",
       "      <th>0</th>\n",
       "      <td>10184653</td>\n",
       "      <td>Afatinib</td>\n",
       "      <td>C24H25ClFN5O3</td>\n",
       "      <td>CN(C)C/C=C/C(=O)NC1=C(C=C2C(=C1)C(=NC=N2)NC3=CC(=C(C=C3)F)Cl)O[C@H]4CCOC4</td>\n",
       "      <td><img src=\"https://pubchem.ncbi.nlm.nih.gov/image/imgsrv.fcgi?&cid=10184653&t=l\"></td>\n",
       "    </tr>\n",
       "    <tr>\n",
       "      <th>1</th>\n",
       "      <td>176871</td>\n",
       "      <td>Erlotinib hydrochloride</td>\n",
       "      <td>C22H24ClN3O4</td>\n",
       "      <td>COCCOC1=C(C=C2C(=C1)C(=NC=N2)NC3=CC=CC(=C3)C#C)OCCOC.Cl</td>\n",
       "      <td><img src=\"https://pubchem.ncbi.nlm.nih.gov/image/imgsrv.fcgi?&cid=176871&t=l\"></td>\n",
       "    </tr>\n",
       "    <tr>\n",
       "      <th>2</th>\n",
       "      <td>118607832</td>\n",
       "      <td>Mobocertinib</td>\n",
       "      <td>C32H39N7O4</td>\n",
       "      <td>CC(C)OC(=O)C1=CN=C(N=C1C2=CN(C3=CC=CC=C32)C)NC4=C(C=C(C(=C4)NC(=O)C=C)N(C)CCN(C)C)OC</td>\n",
       "      <td><img src=\"https://pubchem.ncbi.nlm.nih.gov/image/imgsrv.fcgi?&cid=118607832&t=l\"></td>\n",
       "    </tr>\n",
       "    <tr>\n",
       "      <th>3</th>\n",
       "      <td>123631</td>\n",
       "      <td>Gefitinib</td>\n",
       "      <td>C22H24ClFN4O3</td>\n",
       "      <td>COC1=C(C=C2C(=C1)N=CN=C2NC3=CC(=C(C=C3)F)Cl)OCCCN4CCOCC4</td>\n",
       "      <td><img src=\"https://pubchem.ncbi.nlm.nih.gov/image/imgsrv.fcgi?&cid=123631&t=l\"></td>\n",
       "    </tr>\n",
       "    <tr>\n",
       "      <th>4</th>\n",
       "      <td>176870</td>\n",
       "      <td>Erlotinib</td>\n",
       "      <td>C22H23N3O4</td>\n",
       "      <td>COCCOC1=C(C=C2C(=C1)C(=NC=N2)NC3=CC=CC(=C3)C#C)OCCOC</td>\n",
       "      <td><img src=\"https://pubchem.ncbi.nlm.nih.gov/image/imgsrv.fcgi?&cid=176870&t=l\"></td>\n",
       "    </tr>\n",
       "  </tbody>\n",
       "</table>"
      ],
      "text/plain": [
       "<IPython.core.display.HTML object>"
      ]
     },
     "execution_count": 38,
     "metadata": {},
     "output_type": "execute_result"
    }
   ],
   "source": [
    "auto_chem_df('EGFR')[1]"
   ]
  },
  {
   "cell_type": "markdown",
   "id": "0895bb13",
   "metadata": {},
   "source": [
    "### Storage to SQL\n",
    "\n"
   ]
  },
  {
   "cell_type": "code",
   "execution_count": null,
   "id": "4bb294c5",
   "metadata": {},
   "outputs": [],
   "source": [
    "##Create database (DON't run this again after database is created)\n",
    "# from mysql.connector import Error\n",
    "# try:\n",
    "#     conn = msql.connect(host='localhost', user='root')\n",
    "#     if conn.is_connected():\n",
    "#         cursor = conn.cursor()\n",
    "#         cursor.execute(\"CREATE DATABASE chem\")\n",
    "#         print(\"Database is created\")       \n",
    "# except Error as e:\n",
    "#     print(\"Error while connecting to MySQL\", e) "
   ]
  },
  {
   "cell_type": "code",
   "execution_count": 40,
   "id": "400e233c",
   "metadata": {},
   "outputs": [],
   "source": [
    "#input auto_chem_df('xxx')[2] as df\n",
    "def create_sql_table(chem_name,database_name):\n",
    "    df=auto_chem_df(chem_name)[2]\n",
    "    try:\n",
    "        conn = msql.connect(host='localhost',  user='root', database=database_name)\n",
    "        if conn.is_connected():\n",
    "            cursor=conn.cursor()\n",
    "            cursor.execute('select database();')\n",
    "            record=cursor.fetchone()\n",
    "            print(\"You are connected to database:\", record)\n",
    "            cursor.execute(f'DROP TABLE IF EXISTS chem_data_{chem_name};')\n",
    "            print('Creating table...')\n",
    "\n",
    "            cursor.execute(f\"CREATE TABLE chem_data_{chem_name}(cid int, cmpdname varchar(255), \\\n",
    "            mf varchar(255),isosmiles varchar (255),image varchar(255))\")\n",
    "            print(\"table is created...\")\n",
    "            #loop through the df \n",
    "            for i, row in df.iterrows():\n",
    "                sql= f\"INSERT INTO chem.chem_data_{chem_name} VALUES (%s,%s,%s,%s,%s)\"\n",
    "                cursor.execute(sql, tuple(row))    \n",
    "\n",
    "                conn.commit()\n",
    "            print(\"Record insertion complete!\")    \n",
    "    except Error as e:\n",
    "        print(\"Error while connecting to MySQL\", e)"
   ]
  },
  {
   "cell_type": "code",
   "execution_count": 41,
   "id": "96ae9685",
   "metadata": {
    "scrolled": true
   },
   "outputs": [
    {
     "name": "stdout",
     "output_type": "stream",
     "text": [
      "You are connected to database: ('chem',)\n",
      "Creating table...\n",
      "table is created...\n",
      "Record insertion complete!\n"
     ]
    }
   ],
   "source": [
    "create_sql_table('actin','chem')"
   ]
  },
  {
   "cell_type": "code",
   "execution_count": null,
   "id": "1252536d",
   "metadata": {},
   "outputs": [],
   "source": []
  },
  {
   "cell_type": "code",
   "execution_count": null,
   "id": "cdeee683",
   "metadata": {},
   "outputs": [],
   "source": []
  },
  {
   "cell_type": "code",
   "execution_count": null,
   "id": "2ec4b006",
   "metadata": {},
   "outputs": [],
   "source": []
  },
  {
   "cell_type": "markdown",
   "id": "fa3d6fa1",
   "metadata": {},
   "source": [
    "scratch "
   ]
  },
  {
   "cell_type": "code",
   "execution_count": 25,
   "id": "24eaa1ae",
   "metadata": {},
   "outputs": [],
   "source": [
    "image_content=requests.get(url,stream=True).content\n",
    "image_file=io.BytesIO(image_content)\n",
    "image=Image.open(image_file)"
   ]
  },
  {
   "cell_type": "code",
   "execution_count": 26,
   "id": "b34f0b40",
   "metadata": {},
   "outputs": [
    {
     "data": {
      "image/png": "[encoded data removed]",
      "text/plain": [
       "<PIL.PngImagePlugin.PngImageFile image mode=P size=300x300>"
      ]
     },
     "execution_count": 26,
     "metadata": {},
     "output_type": "execute_result"
    }
   ],
   "source": [
    "image"
   ]
  },
  {
   "cell_type": "code",
   "execution_count": null,
   "id": "a78afa60",
   "metadata": {},
   "outputs": [],
   "source": []
  }
 ],
 "metadata": {
  "kernelspec": {
   "display_name": "Python 3 (ipykernel)",
   "language": "python",
   "name": "python3"
  },
  "language_info": {
   "codemirror_mode": {
    "name": "ipython",
    "version": 3
   },
   "file_extension": ".py",
   "mimetype": "text/x-python",
   "name": "python",
   "nbconvert_exporter": "python",
   "pygments_lexer": "ipython3",
   "version": "3.8.16"
  }
 },
 "nbformat": 4,
 "nbformat_minor": 5
}
