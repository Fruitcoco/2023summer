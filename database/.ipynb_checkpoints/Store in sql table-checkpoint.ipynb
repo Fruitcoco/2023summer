{
 "cells": [
  {
   "cell_type": "code",
   "execution_count": 12,
   "id": "0c20e415",
   "metadata": {},
   "outputs": [],
   "source": [
    "import pandas as pd"
   ]
  },
  {
   "cell_type": "code",
   "execution_count": 4,
   "id": "847469dd",
   "metadata": {},
   "outputs": [
    {
     "name": "stdout",
     "output_type": "stream",
     "text": [
      "Database is created\n"
     ]
    }
   ],
   "source": [
    "# import mysql.connector as msql\n",
    "# from mysql.connector import Error\n",
    "# try:\n",
    "#     conn = msql.connect(host='localhost', user='root')\n",
    "#     if conn.is_connected():\n",
    "#         cursor = conn.cursor()\n",
    "#         cursor.execute(\"CREATE DATABASE chem\")\n",
    "#         print(\"Database is created\")       \n",
    "# except Error as e:\n",
    "#     print(\"Error while connecting to MySQL\", e)    "
   ]
  },
  {
   "cell_type": "code",
   "execution_count": null,
   "id": "74b68582",
   "metadata": {},
   "outputs": [],
   "source": [
    "#reference to step 4 https://www.projectpro.io/recipes/connect-mysql-python-and-import-csv-file-into-mysql-and-create-table#mcetoc_1g2pojq7vi"
   ]
  },
  {
   "cell_type": "code",
   "execution_count": null,
   "id": "4798b2fa",
   "metadata": {},
   "outputs": [],
   "source": [
    "try:\n",
    "    conn = mysql.connect(host='localhost',  user='root', database='chem')\n",
    "    if conn.is_connected():\n",
    "        cursor=conn.cursor()\n",
    "        cursor.execuate('select database();')\n",
    "        record=cursor.fetchone()\n",
    "        print(\"You are connected to database:\", record)\n",
    "        cursor.execute('DROP TABLE IF EXISTS chem_data;')\n",
    "        print('Creating table...')\n",
    "    \n",
    "    \n",
    "    \n",
    "    "
   ]
  },
  {
   "cell_type": "code",
   "execution_count": null,
   "id": "23a16b82",
   "metadata": {},
   "outputs": [],
   "source": []
  },
  {
   "cell_type": "code",
   "execution_count": null,
   "id": "0155f708",
   "metadata": {},
   "outputs": [],
   "source": []
  },
  {
   "cell_type": "code",
   "execution_count": null,
   "id": "f70bceb4",
   "metadata": {},
   "outputs": [],
   "source": []
  },
  {
   "cell_type": "code",
   "execution_count": null,
   "id": "27608b0a",
   "metadata": {},
   "outputs": [],
   "source": []
  },
  {
   "cell_type": "code",
   "execution_count": 27,
   "id": "52a1802e",
   "metadata": {},
   "outputs": [],
   "source": [
    "df=pd.read_csv('pubchem.csv')\n",
    "df=df.iloc[: ,1:]\n"
   ]
  },
  {
   "cell_type": "code",
   "execution_count": 30,
   "id": "b38cef7f",
   "metadata": {},
   "outputs": [],
   "source": [
    "import mysql.connector\n",
    "\n",
    "db=mysql.connector.connect(\n",
    "    host='localhost',\n",
    "    user='root',\n",
    "    database='chem'\n",
    ")\n",
    "\n",
    "\n",
    "mycursor=db.cursor()\n",
    "\n",
    "mycursor.execute('''CREATE TABLE c(cid int primary key,\\\n",
    "                cmpdname varchar(255), mf varchar(255),isosmiles varchar(255))''') \n"
   ]
  },
  {
   "cell_type": "code",
   "execution_count": 32,
   "id": "5292ed4e",
   "metadata": {},
   "outputs": [
    {
     "ename": "ProgrammingError",
     "evalue": "Could not process parameters: int(10184653), it must be of type list, tuple or dict",
     "output_type": "error",
     "traceback": [
      "\u001b[0;31m---------------------------------------------------------------------------\u001b[0m",
      "\u001b[0;31mProgrammingError\u001b[0m                          Traceback (most recent call last)",
      "Cell \u001b[0;32mIn[32], line 3\u001b[0m\n\u001b[1;32m      1\u001b[0m \u001b[38;5;66;03m#insert dataframe to database\u001b[39;00m\n\u001b[1;32m      2\u001b[0m \u001b[38;5;28;01mfor\u001b[39;00m row \u001b[38;5;129;01min\u001b[39;00m df\u001b[38;5;241m.\u001b[39mitertuples():\n\u001b[0;32m----> 3\u001b[0m     \u001b[43mmycursor\u001b[49m\u001b[38;5;241;43m.\u001b[39;49m\u001b[43mexecute\u001b[49m\u001b[43m(\u001b[49m\u001b[38;5;124;43m'''\u001b[39;49m\u001b[38;5;124;43m \u001b[39;49m\n\u001b[1;32m      4\u001b[0m \u001b[38;5;124;43m                INSERT INTO c(cid,cmpdname)\u001b[39;49m\n\u001b[1;32m      5\u001b[0m \u001b[38;5;124;43m                VALUES(?,?,?)\u001b[39;49m\n\u001b[1;32m      6\u001b[0m \u001b[38;5;124;43m                \u001b[39;49m\u001b[38;5;124;43m'''\u001b[39;49m\u001b[43m,\u001b[49m\n\u001b[1;32m      7\u001b[0m \u001b[43m                \u001b[49m\u001b[43mrow\u001b[49m\u001b[38;5;241;43m.\u001b[39;49m\u001b[43mcid\u001b[49m\u001b[43m,\u001b[49m\n\u001b[1;32m      8\u001b[0m \u001b[43m                \u001b[49m\u001b[43mrow\u001b[49m\u001b[38;5;241;43m.\u001b[39;49m\u001b[43mcmpdname\u001b[49m\u001b[43m)\u001b[49m\n\u001b[1;32m      9\u001b[0m db\u001b[38;5;241m.\u001b[39mcommit()\n",
      "File \u001b[0;32m~/anaconda3/envs/2023summer/lib/python3.8/site-packages/mysql/connector/cursor.py:604\u001b[0m, in \u001b[0;36mexecute\u001b[0;34m(self, operation, params, multi)\u001b[0m\n\u001b[1;32m    602\u001b[0m     stmt \u001b[38;5;241m=\u001b[39m stmt\u001b[38;5;241m.\u001b[39mreplace(fmt, \u001b[38;5;124mb\u001b[39m\u001b[38;5;124m'\u001b[39m\u001b[38;5;124m,\u001b[39m\u001b[38;5;124m'\u001b[39m\u001b[38;5;241m.\u001b[39mjoin(values), \u001b[38;5;241m1\u001b[39m)\n\u001b[1;32m    603\u001b[0m     \u001b[38;5;28mself\u001b[39m\u001b[38;5;241m.\u001b[39m_executed \u001b[38;5;241m=\u001b[39m stmt\n\u001b[0;32m--> 604\u001b[0m     \u001b[38;5;28;01mreturn\u001b[39;00m stmt\n\u001b[1;32m    605\u001b[0m \u001b[38;5;28;01melse\u001b[39;00m:\n\u001b[1;32m    606\u001b[0m     \u001b[38;5;28;01mreturn\u001b[39;00m \u001b[38;5;28;01mNone\u001b[39;00m\n",
      "\u001b[0;31mProgrammingError\u001b[0m: Could not process parameters: int(10184653), it must be of type list, tuple or dict"
     ]
    }
   ],
   "source": [
    "#insert dataframe to database\n",
    "for row in df.itertuples():\n",
    "    mycursor.execute(''' \n",
    "                INSERT INTO c(cid,cmpdname)\n",
    "                VALUES(?,?,?)\n",
    "                ''',\n",
    "                row.cid,\n",
    "                row.cmpdname)\n",
    "db.commit()    \n",
    "    "
   ]
  },
  {
   "cell_type": "code",
   "execution_count": null,
   "id": "5ed0d9af",
   "metadata": {},
   "outputs": [],
   "source": []
  },
  {
   "cell_type": "code",
   "execution_count": null,
   "id": "b2ed1edc",
   "metadata": {},
   "outputs": [],
   "source": []
  },
  {
   "cell_type": "code",
   "execution_count": 9,
   "id": "bb378b1e",
   "metadata": {},
   "outputs": [
    {
     "name": "stdout",
     "output_type": "stream",
     "text": [
      "('name', 'varchar(50)', 'YES', '', None, '')\n",
      "('age', 'smallint unsigned', 'YES', '', None, '')\n",
      "('personID', 'int', 'NO', 'PRI', None, 'auto_increment')\n"
     ]
    }
   ],
   "source": [
    "\n",
    "\n",
    "\n",
    "\n",
    "\n",
    "for x in mycursor:\n",
    "    print(x)"
   ]
  },
  {
   "cell_type": "code",
   "execution_count": null,
   "id": "121158bf",
   "metadata": {},
   "outputs": [],
   "source": []
  }
 ],
 "metadata": {
  "kernelspec": {
   "display_name": "Python 3 (ipykernel)",
   "language": "python",
   "name": "python3"
  },
  "language_info": {
   "codemirror_mode": {
    "name": "ipython",
    "version": 3
   },
   "file_extension": ".py",
   "mimetype": "text/x-python",
   "name": "python",
   "nbconvert_exporter": "python",
   "pygments_lexer": "ipython3",
   "version": "3.8.16"
  }
 },
 "nbformat": 4,
 "nbformat_minor": 5
}
