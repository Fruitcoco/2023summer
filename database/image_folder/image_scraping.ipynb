{
 "cells": [
  {
   "cell_type": "markdown",
   "id": "aec55b78",
   "metadata": {},
   "source": [
    "Notice:\n",
    "\n",
    "To store image in the dataframe, it can be done by downloading the image or sourcing the url of the image from original website. I did both in this project"
   ]
  },
  {
   "cell_type": "code",
   "execution_count": 1,
   "id": "15e88629",
   "metadata": {},
   "outputs": [],
   "source": [
    "#import the required package\n",
    "import pandas as pd\n",
    "import requests\n",
    "import io\n",
    "from PIL import Image\n",
    "from IPython.display import HTML"
   ]
  },
  {
   "cell_type": "code",
   "execution_count": 2,
   "id": "29a9382f",
   "metadata": {
    "scrolled": true
   },
   "outputs": [
    {
     "data": {
      "text/html": [
       "<div>\n",
       "<style scoped>\n",
       "    .dataframe tbody tr th:only-of-type {\n",
       "        vertical-align: middle;\n",
       "    }\n",
       "\n",
       "    .dataframe tbody tr th {\n",
       "        vertical-align: top;\n",
       "    }\n",
       "\n",
       "    .dataframe thead th {\n",
       "        text-align: right;\n",
       "    }\n",
       "</style>\n",
       "<table border=\"1\" class=\"dataframe\">\n",
       "  <thead>\n",
       "    <tr style=\"text-align: right;\">\n",
       "      <th></th>\n",
       "      <th>cid</th>\n",
       "      <th>cmpdname</th>\n",
       "      <th>mf</th>\n",
       "      <th>isosmiles</th>\n",
       "    </tr>\n",
       "  </thead>\n",
       "  <tbody>\n",
       "    <tr>\n",
       "      <th>0</th>\n",
       "      <td>10184653</td>\n",
       "      <td>Afatinib</td>\n",
       "      <td>C24H25ClFN5O3</td>\n",
       "      <td>CN(C)C/C=C/C(=O)NC1=C(C=C2C(=C1)C(=NC=N2)NC3=C...</td>\n",
       "    </tr>\n",
       "    <tr>\n",
       "      <th>1</th>\n",
       "      <td>176871</td>\n",
       "      <td>Erlotinib hydrochloride</td>\n",
       "      <td>C22H24ClN3O4</td>\n",
       "      <td>COCCOC1=C(C=C2C(=C1)C(=NC=N2)NC3=CC=CC(=C3)C#C...</td>\n",
       "    </tr>\n",
       "    <tr>\n",
       "      <th>2</th>\n",
       "      <td>118607832</td>\n",
       "      <td>Mobocertinib</td>\n",
       "      <td>C32H39N7O4</td>\n",
       "      <td>CC(C)OC(=O)C1=CN=C(N=C1C2=CN(C3=CC=CC=C32)C)NC...</td>\n",
       "    </tr>\n",
       "    <tr>\n",
       "      <th>3</th>\n",
       "      <td>123631</td>\n",
       "      <td>Gefitinib</td>\n",
       "      <td>C22H24ClFN4O3</td>\n",
       "      <td>COC1=C(C=C2C(=C1)N=CN=C2NC3=CC(=C(C=C3)F)Cl)OC...</td>\n",
       "    </tr>\n",
       "    <tr>\n",
       "      <th>4</th>\n",
       "      <td>176870</td>\n",
       "      <td>Erlotinib</td>\n",
       "      <td>C22H23N3O4</td>\n",
       "      <td>COCCOC1=C(C=C2C(=C1)C(=NC=N2)NC3=CC=CC(=C3)C#C...</td>\n",
       "    </tr>\n",
       "    <tr>\n",
       "      <th>...</th>\n",
       "      <td>...</td>\n",
       "      <td>...</td>\n",
       "      <td>...</td>\n",
       "      <td>...</td>\n",
       "    </tr>\n",
       "    <tr>\n",
       "      <th>183</th>\n",
       "      <td>164517102</td>\n",
       "      <td>Egfr-IN-62</td>\n",
       "      <td>C30H33N9O2</td>\n",
       "      <td>CN1C=C(C2=CC=CC=C21)C3=NC(=NC=C3)NC4=C(C=C(C(=...</td>\n",
       "    </tr>\n",
       "    <tr>\n",
       "      <th>184</th>\n",
       "      <td>164887498</td>\n",
       "      <td>Egfr-IN-70</td>\n",
       "      <td>C31H36ClN5O5S</td>\n",
       "      <td>CCS(=O)(=O)N1C=C2C3=C1C=C(C=C3)OCCCCCCOC4=C(C=...</td>\n",
       "    </tr>\n",
       "    <tr>\n",
       "      <th>185</th>\n",
       "      <td>164887603</td>\n",
       "      <td>Egfr/her2-IN-8</td>\n",
       "      <td>C16H16N4O2S</td>\n",
       "      <td>CCC(=O)NNC(=O)C1=CSC2=NC=C(N12)C3=CC=C(C=C3)C</td>\n",
       "    </tr>\n",
       "    <tr>\n",
       "      <th>186</th>\n",
       "      <td>165412706</td>\n",
       "      <td>Egfr/her2/dhfr-IN-1</td>\n",
       "      <td>C14H11BrN4O2S</td>\n",
       "      <td>CC(=O)NNC(=O)C1=CSC2=NC=C(N12)C3=CC=C(C=C3)Br</td>\n",
       "    </tr>\n",
       "    <tr>\n",
       "      <th>187</th>\n",
       "      <td>168264808</td>\n",
       "      <td>CID 168264808</td>\n",
       "      <td>C28H28FN7O</td>\n",
       "      <td>CN1CCN(CC1)C2=CC=C(C=C2)NC3=NC4=C(C=C(C=C4)F)C...</td>\n",
       "    </tr>\n",
       "  </tbody>\n",
       "</table>\n",
       "<p>188 rows × 4 columns</p>\n",
       "</div>"
      ],
      "text/plain": [
       "           cid                 cmpdname             mf  \\\n",
       "0     10184653                 Afatinib  C24H25ClFN5O3   \n",
       "1       176871  Erlotinib hydrochloride   C22H24ClN3O4   \n",
       "2    118607832             Mobocertinib     C32H39N7O4   \n",
       "3       123631                Gefitinib  C22H24ClFN4O3   \n",
       "4       176870                Erlotinib     C22H23N3O4   \n",
       "..         ...                      ...            ...   \n",
       "183  164517102               Egfr-IN-62     C30H33N9O2   \n",
       "184  164887498               Egfr-IN-70  C31H36ClN5O5S   \n",
       "185  164887603           Egfr/her2-IN-8    C16H16N4O2S   \n",
       "186  165412706      Egfr/her2/dhfr-IN-1  C14H11BrN4O2S   \n",
       "187  168264808            CID 168264808     C28H28FN7O   \n",
       "\n",
       "                                             isosmiles  \n",
       "0    CN(C)C/C=C/C(=O)NC1=C(C=C2C(=C1)C(=NC=N2)NC3=C...  \n",
       "1    COCCOC1=C(C=C2C(=C1)C(=NC=N2)NC3=CC=CC(=C3)C#C...  \n",
       "2    CC(C)OC(=O)C1=CN=C(N=C1C2=CN(C3=CC=CC=C32)C)NC...  \n",
       "3    COC1=C(C=C2C(=C1)N=CN=C2NC3=CC(=C(C=C3)F)Cl)OC...  \n",
       "4    COCCOC1=C(C=C2C(=C1)C(=NC=N2)NC3=CC=CC(=C3)C#C...  \n",
       "..                                                 ...  \n",
       "183  CN1C=C(C2=CC=CC=C21)C3=NC(=NC=C3)NC4=C(C=C(C(=...  \n",
       "184  CCS(=O)(=O)N1C=C2C3=C1C=C(C=C3)OCCCCCCOC4=C(C=...  \n",
       "185      CCC(=O)NNC(=O)C1=CSC2=NC=C(N12)C3=CC=C(C=C3)C  \n",
       "186      CC(=O)NNC(=O)C1=CSC2=NC=C(N12)C3=CC=C(C=C3)Br  \n",
       "187  CN1CCN(CC1)C2=CC=C(C=C2)NC3=NC4=C(C=C(C=C4)F)C...  \n",
       "\n",
       "[188 rows x 4 columns]"
      ]
     },
     "execution_count": 2,
     "metadata": {},
     "output_type": "execute_result"
    }
   ],
   "source": [
    "#load the df to get info\n",
    "df=pd.read_csv('~/2023summerb/2023summer/database/chem.csv')\n",
    "df"
   ]
  },
  {
   "cell_type": "code",
   "execution_count": 3,
   "id": "876a2c80",
   "metadata": {},
   "outputs": [],
   "source": [
    "#download the images and save to the current directory \n",
    "for cid in df['cid']:\n",
    "    url=f'https://pubchem.ncbi.nlm.nih.gov/image/imgsrv.fcgi?&cid={cid}&t=l'\n",
    "    image_content=requests.get(url,stream=True).content\n",
    "    \n",
    "    image_file=io.BytesIO(image_content)\n",
    "    image=Image.open(image_file)\n",
    "    #convert format to be saved in image_folder\n",
    "    if image.mode != 'RGB':\n",
    "        image = image.convert('RGB')\n",
    "    #save to the image_folder\n",
    "    \n",
    "    with open(str(cid)+'.jpg','wb') as file:\n",
    "        image.save(file,\"JPEG\")\n",
    "##yeah yeah it succeed!    "
   ]
  },
  {
   "cell_type": "markdown",
   "id": "1c499bb5",
   "metadata": {},
   "source": [
    "### store image in a list and add to the dataframe[use the downloaded image]"
   ]
  },
  {
   "cell_type": "code",
   "execution_count": 3,
   "id": "b7fc7eb0",
   "metadata": {},
   "outputs": [
    {
     "data": {
      "text/html": [
       "<table border=\"1\" class=\"dataframe\">\n",
       "  <thead>\n",
       "    <tr style=\"text-align: right;\">\n",
       "      <th></th>\n",
       "      <th>cid</th>\n",
       "      <th>cmpdname</th>\n",
       "      <th>mf</th>\n",
       "      <th>isosmiles</th>\n",
       "      <th>2D-Structure</th>\n",
       "    </tr>\n",
       "  </thead>\n",
       "  <tbody>\n",
       "    <tr>\n",
       "      <th>0</th>\n",
       "      <td>10184653</td>\n",
       "      <td>Afatinib</td>\n",
       "      <td>C24H25ClFN5O3</td>\n",
       "      <td>CN(C)C/C=C/C(=O)NC1=C(C=C2C(=C1)C(=NC=N2)NC3=CC(=C(C=C3)F)Cl)O[C@H]4CCOC4</td>\n",
       "      <td><img src=\"10184653.jpg\"></td>\n",
       "    </tr>\n",
       "    <tr>\n",
       "      <th>1</th>\n",
       "      <td>176871</td>\n",
       "      <td>Erlotinib hydrochloride</td>\n",
       "      <td>C22H24ClN3O4</td>\n",
       "      <td>COCCOC1=C(C=C2C(=C1)C(=NC=N2)NC3=CC=CC(=C3)C#C)OCCOC.Cl</td>\n",
       "      <td><img src=\"176871.jpg\"></td>\n",
       "    </tr>\n",
       "    <tr>\n",
       "      <th>2</th>\n",
       "      <td>118607832</td>\n",
       "      <td>Mobocertinib</td>\n",
       "      <td>C32H39N7O4</td>\n",
       "      <td>CC(C)OC(=O)C1=CN=C(N=C1C2=CN(C3=CC=CC=C32)C)NC4=C(C=C(C(=C4)NC(=O)C=C)N(C)CCN(C)C)OC</td>\n",
       "      <td><img src=\"118607832.jpg\"></td>\n",
       "    </tr>\n",
       "    <tr>\n",
       "      <th>3</th>\n",
       "      <td>123631</td>\n",
       "      <td>Gefitinib</td>\n",
       "      <td>C22H24ClFN4O3</td>\n",
       "      <td>COC1=C(C=C2C(=C1)N=CN=C2NC3=CC(=C(C=C3)F)Cl)OCCCN4CCOCC4</td>\n",
       "      <td><img src=\"123631.jpg\"></td>\n",
       "    </tr>\n",
       "    <tr>\n",
       "      <th>4</th>\n",
       "      <td>176870</td>\n",
       "      <td>Erlotinib</td>\n",
       "      <td>C22H23N3O4</td>\n",
       "      <td>COCCOC1=C(C=C2C(=C1)C(=NC=N2)NC3=CC=CC(=C3)C#C)OCCOC</td>\n",
       "      <td><img src=\"176870.jpg\"></td>\n",
       "    </tr>\n",
       "  </tbody>\n",
       "</table>"
      ],
      "text/plain": [
       "<IPython.core.display.HTML object>"
      ]
     },
     "execution_count": 3,
     "metadata": {},
     "output_type": "execute_result"
    }
   ],
   "source": [
    "image_list=[]\n",
    "for cid in df['cid']:\n",
    "    file_name=f'<img src=\"{cid}.jpg\">'\n",
    "    image_list.append(file_name) \n",
    "df['2D-Structure']=image_list\n",
    "HTML(df.head().to_html(escape=False))"
   ]
  },
  {
   "cell_type": "markdown",
   "id": "508a153a",
   "metadata": {},
   "source": [
    "### Or I can use the url (without downloading)"
   ]
  },
  {
   "cell_type": "code",
   "execution_count": 4,
   "id": "e79c460b",
   "metadata": {},
   "outputs": [
    {
     "data": {
      "text/html": [
       "<table border=\"1\" class=\"dataframe\">\n",
       "  <thead>\n",
       "    <tr style=\"text-align: right;\">\n",
       "      <th></th>\n",
       "      <th>cid</th>\n",
       "      <th>cmpdname</th>\n",
       "      <th>mf</th>\n",
       "      <th>isosmiles</th>\n",
       "      <th>2D-Structure</th>\n",
       "    </tr>\n",
       "  </thead>\n",
       "  <tbody>\n",
       "    <tr>\n",
       "      <th>0</th>\n",
       "      <td>10184653</td>\n",
       "      <td>Afatinib</td>\n",
       "      <td>C24H25ClFN5O3</td>\n",
       "      <td>CN(C)C/C=C/C(=O)NC1=C(C=C2C(=C1)C(=NC=N2)NC3=CC(=C(C=C3)F)Cl)O[C@H]4CCOC4</td>\n",
       "      <td><img src=\"https://pubchem.ncbi.nlm.nih.gov/image/imgsrv.fcgi?&cid=10184653&t=l\"></td>\n",
       "    </tr>\n",
       "    <tr>\n",
       "      <th>1</th>\n",
       "      <td>176871</td>\n",
       "      <td>Erlotinib hydrochloride</td>\n",
       "      <td>C22H24ClN3O4</td>\n",
       "      <td>COCCOC1=C(C=C2C(=C1)C(=NC=N2)NC3=CC=CC(=C3)C#C)OCCOC.Cl</td>\n",
       "      <td><img src=\"https://pubchem.ncbi.nlm.nih.gov/image/imgsrv.fcgi?&cid=176871&t=l\"></td>\n",
       "    </tr>\n",
       "    <tr>\n",
       "      <th>2</th>\n",
       "      <td>118607832</td>\n",
       "      <td>Mobocertinib</td>\n",
       "      <td>C32H39N7O4</td>\n",
       "      <td>CC(C)OC(=O)C1=CN=C(N=C1C2=CN(C3=CC=CC=C32)C)NC4=C(C=C(C(=C4)NC(=O)C=C)N(C)CCN(C)C)OC</td>\n",
       "      <td><img src=\"https://pubchem.ncbi.nlm.nih.gov/image/imgsrv.fcgi?&cid=118607832&t=l\"></td>\n",
       "    </tr>\n",
       "    <tr>\n",
       "      <th>3</th>\n",
       "      <td>123631</td>\n",
       "      <td>Gefitinib</td>\n",
       "      <td>C22H24ClFN4O3</td>\n",
       "      <td>COC1=C(C=C2C(=C1)N=CN=C2NC3=CC(=C(C=C3)F)Cl)OCCCN4CCOCC4</td>\n",
       "      <td><img src=\"https://pubchem.ncbi.nlm.nih.gov/image/imgsrv.fcgi?&cid=123631&t=l\"></td>\n",
       "    </tr>\n",
       "    <tr>\n",
       "      <th>4</th>\n",
       "      <td>176870</td>\n",
       "      <td>Erlotinib</td>\n",
       "      <td>C22H23N3O4</td>\n",
       "      <td>COCCOC1=C(C=C2C(=C1)C(=NC=N2)NC3=CC=CC(=C3)C#C)OCCOC</td>\n",
       "      <td><img src=\"https://pubchem.ncbi.nlm.nih.gov/image/imgsrv.fcgi?&cid=176870&t=l\"></td>\n",
       "    </tr>\n",
       "  </tbody>\n",
       "</table>"
      ],
      "text/plain": [
       "<IPython.core.display.HTML object>"
      ]
     },
     "execution_count": 4,
     "metadata": {},
     "output_type": "execute_result"
    }
   ],
   "source": [
    "df_copy=df.copy()\n",
    "image_list=[]\n",
    "for cid in df['cid']:\n",
    "    file_name=f'<img src=\"https://pubchem.ncbi.nlm.nih.gov/image/imgsrv.fcgi?&cid={cid}&t=l\">'\n",
    "    image_list.append(file_name) \n",
    "df_copy['2D-Structure']=image_list\n",
    "HTML(df_copy.head().to_html(escape=False))"
   ]
  },
  {
   "cell_type": "code",
   "execution_count": 5,
   "id": "2ebfd97f",
   "metadata": {},
   "outputs": [
    {
     "data": {
      "text/html": [
       "<table border=\"1\" class=\"dataframe\">\n",
       "  <thead>\n",
       "    <tr style=\"text-align: right;\">\n",
       "      <th></th>\n",
       "      <th>cid</th>\n",
       "      <th>2D-Structure</th>\n",
       "    </tr>\n",
       "  </thead>\n",
       "  <tbody>\n",
       "    <tr>\n",
       "      <th>0</th>\n",
       "      <td>10184653</td>\n",
       "      <td><img src=\"https://pubchem.ncbi.nlm.nih.gov/image/imgsrv.fcgi?&cid=10184653&t=l\"></td>\n",
       "    </tr>\n",
       "    <tr>\n",
       "      <th>1</th>\n",
       "      <td>176871</td>\n",
       "      <td><img src=\"https://pubchem.ncbi.nlm.nih.gov/image/imgsrv.fcgi?&cid=176871&t=l\"></td>\n",
       "    </tr>\n",
       "    <tr>\n",
       "      <th>2</th>\n",
       "      <td>118607832</td>\n",
       "      <td><img src=\"https://pubchem.ncbi.nlm.nih.gov/image/imgsrv.fcgi?&cid=118607832&t=l\"></td>\n",
       "    </tr>\n",
       "    <tr>\n",
       "      <th>3</th>\n",
       "      <td>123631</td>\n",
       "      <td><img src=\"https://pubchem.ncbi.nlm.nih.gov/image/imgsrv.fcgi?&cid=123631&t=l\"></td>\n",
       "    </tr>\n",
       "    <tr>\n",
       "      <th>4</th>\n",
       "      <td>176870</td>\n",
       "      <td><img src=\"https://pubchem.ncbi.nlm.nih.gov/image/imgsrv.fcgi?&cid=176870&t=l\"></td>\n",
       "    </tr>\n",
       "  </tbody>\n",
       "</table>"
      ],
      "text/plain": [
       "<IPython.core.display.HTML object>"
      ]
     },
     "execution_count": 5,
     "metadata": {},
     "output_type": "execute_result"
    }
   ],
   "source": [
    "HTML(df_copy[['cid','2D-Structure']].head().to_html(escape=False))"
   ]
  },
  {
   "cell_type": "markdown",
   "id": "223d8b35",
   "metadata": {},
   "source": [
    "#### convert to csv"
   ]
  },
  {
   "cell_type": "code",
   "execution_count": 18,
   "id": "9b1bd0d6",
   "metadata": {},
   "outputs": [],
   "source": [
    "df_copy.to_csv(\"with_image.csv\",index=False)"
   ]
  },
  {
   "cell_type": "markdown",
   "id": "cb9c95ea",
   "metadata": {},
   "source": [
    "### 3D Structure"
   ]
  },
  {
   "cell_type": "markdown",
   "id": "8f42995f",
   "metadata": {},
   "source": [
    "I decided not to embed 3D version to the dataframe for the low resolution when 3D convert to 2D picture.  "
   ]
  },
  {
   "cell_type": "code",
   "execution_count": 3,
   "id": "ac57476e",
   "metadata": {},
   "outputs": [],
   "source": [
    "##file_name='<img src=\"https://pubchem.ncbi.nlm.nih.gov/image/img3d.cgi?&cid=176870&t=s\">'"
   ]
  },
  {
   "cell_type": "code",
   "execution_count": 6,
   "id": "508a08b0",
   "metadata": {},
   "outputs": [
    {
     "data": {
      "text/html": [
       "<table border=\"1\" class=\"dataframe\">\n",
       "  <thead>\n",
       "    <tr style=\"text-align: right;\">\n",
       "      <th></th>\n",
       "      <th>3D-Structure</th>\n",
       "    </tr>\n",
       "  </thead>\n",
       "  <tbody>\n",
       "    <tr>\n",
       "      <th>0</th>\n",
       "      <td><img src=\"https://pubchem.ncbi.nlm.nih.gov/image/img3d.cgi?&cid=10184653&t=s\"></td>\n",
       "    </tr>\n",
       "    <tr>\n",
       "      <th>1</th>\n",
       "      <td><img src=\"https://pubchem.ncbi.nlm.nih.gov/image/img3d.cgi?&cid=176871&t=s\"></td>\n",
       "    </tr>\n",
       "    <tr>\n",
       "      <th>2</th>\n",
       "      <td><img src=\"https://pubchem.ncbi.nlm.nih.gov/image/img3d.cgi?&cid=118607832&t=s\"></td>\n",
       "    </tr>\n",
       "    <tr>\n",
       "      <th>3</th>\n",
       "      <td><img src=\"https://pubchem.ncbi.nlm.nih.gov/image/img3d.cgi?&cid=123631&t=s\"></td>\n",
       "    </tr>\n",
       "    <tr>\n",
       "      <th>4</th>\n",
       "      <td><img src=\"https://pubchem.ncbi.nlm.nih.gov/image/img3d.cgi?&cid=176870&t=s\"></td>\n",
       "    </tr>\n",
       "  </tbody>\n",
       "</table>"
      ],
      "text/plain": [
       "<IPython.core.display.HTML object>"
      ]
     },
     "execution_count": 6,
     "metadata": {},
     "output_type": "execute_result"
    }
   ],
   "source": [
    "df_copy=df.copy()\n",
    "image_list=[]\n",
    "for cid in df_copy['cid']:\n",
    "    file_name=f'<img src=\"https://pubchem.ncbi.nlm.nih.gov/image/img3d.cgi?&cid={cid}&t=s\">'\n",
    "    image_list.append(file_name) \n",
    "df_copy['3D-Structure']=image_list\n",
    "HTML(df_copy[['3D-Structure']].head().to_html(escape=False))"
   ]
  },
  {
   "cell_type": "code",
   "execution_count": 28,
   "id": "1d79a6cd",
   "metadata": {},
   "outputs": [
    {
     "data": {
      "image/png": "[encoded data removed]",
      "text/plain": [
       "<Figure size 640x480 with 1 Axes>"
      ]
     },
     "metadata": {},
     "output_type": "display_data"
    }
   ],
   "source": [
    "img=mpim.imread('photo.jpg')\n",
    "implot=plt.imshow(img)\n",
    "plt.show()"
   ]
  }
 ],
 "metadata": {
  "kernelspec": {
   "display_name": "Python 3 (ipykernel)",
   "language": "python",
   "name": "python3"
  },
  "language_info": {
   "codemirror_mode": {
    "name": "ipython",
    "version": 3
   },
   "file_extension": ".py",
   "mimetype": "text/x-python",
   "name": "python",
   "nbconvert_exporter": "python",
   "pygments_lexer": "ipython3",
   "version": "3.8.16"
  }
 },
 "nbformat": 4,
 "nbformat_minor": 5
}
