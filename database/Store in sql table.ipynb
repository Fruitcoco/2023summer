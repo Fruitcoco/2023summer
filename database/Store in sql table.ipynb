{
 "cells": [
  {
   "cell_type": "markdown",
   "id": "74fe6b61",
   "metadata": {},
   "source": [
    "## Apply mysql.connector to connect python to sql database"
   ]
  },
  {
   "cell_type": "code",
   "execution_count": 1,
   "id": "0c20e415",
   "metadata": {},
   "outputs": [],
   "source": [
    "import pandas as pd\n",
    "import mysql.connector as msql\n",
    "from mysql.connector import Error"
   ]
  },
  {
   "cell_type": "code",
   "execution_count": 4,
   "id": "847469dd",
   "metadata": {
    "scrolled": true
   },
   "outputs": [
    {
     "name": "stdout",
     "output_type": "stream",
     "text": [
      "Database is created\n"
     ]
    }
   ],
   "source": [
    "##Create database (DON't run this again after database is created)\n",
    "# from mysql.connector import Error\n",
    "# try:\n",
    "#     conn = msql.connect(host='localhost', user='root')\n",
    "#     if conn.is_connected():\n",
    "#         cursor = conn.cursor()\n",
    "#         cursor.execute(\"CREATE DATABASE chem\")\n",
    "#         print(\"Database is created\")       \n",
    "# except Error as e:\n",
    "#     print(\"Error while connecting to MySQL\", e)    "
   ]
  },
  {
   "cell_type": "code",
   "execution_count": 9,
   "id": "03409cfe",
   "metadata": {},
   "outputs": [
    {
     "data": {
      "text/html": [
       "<div>\n",
       "<style scoped>\n",
       "    .dataframe tbody tr th:only-of-type {\n",
       "        vertical-align: middle;\n",
       "    }\n",
       "\n",
       "    .dataframe tbody tr th {\n",
       "        vertical-align: top;\n",
       "    }\n",
       "\n",
       "    .dataframe thead th {\n",
       "        text-align: right;\n",
       "    }\n",
       "</style>\n",
       "<table border=\"1\" class=\"dataframe\">\n",
       "  <thead>\n",
       "    <tr style=\"text-align: right;\">\n",
       "      <th></th>\n",
       "      <th>cid</th>\n",
       "      <th>cmpdname</th>\n",
       "      <th>mf</th>\n",
       "      <th>isosmiles</th>\n",
       "    </tr>\n",
       "  </thead>\n",
       "  <tbody>\n",
       "    <tr>\n",
       "      <th>0</th>\n",
       "      <td>10184653</td>\n",
       "      <td>Afatinib</td>\n",
       "      <td>C24H25ClFN5O3</td>\n",
       "      <td>CN(C)C/C=C/C(=O)NC1=C(C=C2C(=C1)C(=NC=N2)NC3=C...</td>\n",
       "    </tr>\n",
       "    <tr>\n",
       "      <th>1</th>\n",
       "      <td>176871</td>\n",
       "      <td>Erlotinib hydrochloride</td>\n",
       "      <td>C22H24ClN3O4</td>\n",
       "      <td>COCCOC1=C(C=C2C(=C1)C(=NC=N2)NC3=CC=CC(=C3)C#C...</td>\n",
       "    </tr>\n",
       "    <tr>\n",
       "      <th>2</th>\n",
       "      <td>118607832</td>\n",
       "      <td>Mobocertinib</td>\n",
       "      <td>C32H39N7O4</td>\n",
       "      <td>CC(C)OC(=O)C1=CN=C(N=C1C2=CN(C3=CC=CC=C32)C)NC...</td>\n",
       "    </tr>\n",
       "    <tr>\n",
       "      <th>3</th>\n",
       "      <td>123631</td>\n",
       "      <td>Gefitinib</td>\n",
       "      <td>C22H24ClFN4O3</td>\n",
       "      <td>COC1=C(C=C2C(=C1)N=CN=C2NC3=CC(=C(C=C3)F)Cl)OC...</td>\n",
       "    </tr>\n",
       "    <tr>\n",
       "      <th>4</th>\n",
       "      <td>176870</td>\n",
       "      <td>Erlotinib</td>\n",
       "      <td>C22H23N3O4</td>\n",
       "      <td>COCCOC1=C(C=C2C(=C1)C(=NC=N2)NC3=CC=CC(=C3)C#C...</td>\n",
       "    </tr>\n",
       "    <tr>\n",
       "      <th>...</th>\n",
       "      <td>...</td>\n",
       "      <td>...</td>\n",
       "      <td>...</td>\n",
       "      <td>...</td>\n",
       "    </tr>\n",
       "    <tr>\n",
       "      <th>183</th>\n",
       "      <td>164517102</td>\n",
       "      <td>Egfr-IN-62</td>\n",
       "      <td>C30H33N9O2</td>\n",
       "      <td>CN1C=C(C2=CC=CC=C21)C3=NC(=NC=C3)NC4=C(C=C(C(=...</td>\n",
       "    </tr>\n",
       "    <tr>\n",
       "      <th>184</th>\n",
       "      <td>164887498</td>\n",
       "      <td>Egfr-IN-70</td>\n",
       "      <td>C31H36ClN5O5S</td>\n",
       "      <td>CCS(=O)(=O)N1C=C2C3=C1C=C(C=C3)OCCCCCCOC4=C(C=...</td>\n",
       "    </tr>\n",
       "    <tr>\n",
       "      <th>185</th>\n",
       "      <td>164887603</td>\n",
       "      <td>Egfr/her2-IN-8</td>\n",
       "      <td>C16H16N4O2S</td>\n",
       "      <td>CCC(=O)NNC(=O)C1=CSC2=NC=C(N12)C3=CC=C(C=C3)C</td>\n",
       "    </tr>\n",
       "    <tr>\n",
       "      <th>186</th>\n",
       "      <td>165412706</td>\n",
       "      <td>Egfr/her2/dhfr-IN-1</td>\n",
       "      <td>C14H11BrN4O2S</td>\n",
       "      <td>CC(=O)NNC(=O)C1=CSC2=NC=C(N12)C3=CC=C(C=C3)Br</td>\n",
       "    </tr>\n",
       "    <tr>\n",
       "      <th>187</th>\n",
       "      <td>168264808</td>\n",
       "      <td>CID 168264808</td>\n",
       "      <td>C28H28FN7O</td>\n",
       "      <td>CN1CCN(CC1)C2=CC=C(C=C2)NC3=NC4=C(C=C(C=C4)F)C...</td>\n",
       "    </tr>\n",
       "  </tbody>\n",
       "</table>\n",
       "<p>188 rows × 4 columns</p>\n",
       "</div>"
      ],
      "text/plain": [
       "           cid                 cmpdname             mf  \\\n",
       "0     10184653                 Afatinib  C24H25ClFN5O3   \n",
       "1       176871  Erlotinib hydrochloride   C22H24ClN3O4   \n",
       "2    118607832             Mobocertinib     C32H39N7O4   \n",
       "3       123631                Gefitinib  C22H24ClFN4O3   \n",
       "4       176870                Erlotinib     C22H23N3O4   \n",
       "..         ...                      ...            ...   \n",
       "183  164517102               Egfr-IN-62     C30H33N9O2   \n",
       "184  164887498               Egfr-IN-70  C31H36ClN5O5S   \n",
       "185  164887603           Egfr/her2-IN-8    C16H16N4O2S   \n",
       "186  165412706      Egfr/her2/dhfr-IN-1  C14H11BrN4O2S   \n",
       "187  168264808            CID 168264808     C28H28FN7O   \n",
       "\n",
       "                                             isosmiles  \n",
       "0    CN(C)C/C=C/C(=O)NC1=C(C=C2C(=C1)C(=NC=N2)NC3=C...  \n",
       "1    COCCOC1=C(C=C2C(=C1)C(=NC=N2)NC3=CC=CC(=C3)C#C...  \n",
       "2    CC(C)OC(=O)C1=CN=C(N=C1C2=CN(C3=CC=CC=C32)C)NC...  \n",
       "3    COC1=C(C=C2C(=C1)N=CN=C2NC3=CC(=C(C=C3)F)Cl)OC...  \n",
       "4    COCCOC1=C(C=C2C(=C1)C(=NC=N2)NC3=CC=CC(=C3)C#C...  \n",
       "..                                                 ...  \n",
       "183  CN1C=C(C2=CC=CC=C21)C3=NC(=NC=C3)NC4=C(C=C(C(=...  \n",
       "184  CCS(=O)(=O)N1C=C2C3=C1C=C(C=C3)OCCCCCCOC4=C(C=...  \n",
       "185      CCC(=O)NNC(=O)C1=CSC2=NC=C(N12)C3=CC=C(C=C3)C  \n",
       "186      CC(=O)NNC(=O)C1=CSC2=NC=C(N12)C3=CC=C(C=C3)Br  \n",
       "187  CN1CCN(CC1)C2=CC=C(C=C2)NC3=NC4=C(C=C(C=C4)F)C...  \n",
       "\n",
       "[188 rows x 4 columns]"
      ]
     },
     "execution_count": 9,
     "metadata": {},
     "output_type": "execute_result"
    }
   ],
   "source": [
    "#load dataframe\n",
    "df=pd.read_csv('chem.csv')\n",
    "df"
   ]
  },
  {
   "cell_type": "code",
   "execution_count": null,
   "id": "74b68582",
   "metadata": {},
   "outputs": [],
   "source": [
    "#reference to step 4 https://www.projectpro.io/recipes/connect-mysql-python-and-import-csv-file-into-mysql-and-create-table#mcetoc_1g2pojq7vi"
   ]
  },
  {
   "cell_type": "markdown",
   "id": "27a6a66b",
   "metadata": {},
   "source": [
    "## Create sql table named chem_data"
   ]
  },
  {
   "cell_type": "code",
   "execution_count": 10,
   "id": "4798b2fa",
   "metadata": {},
   "outputs": [
    {
     "name": "stdout",
     "output_type": "stream",
     "text": [
      "You are connected to database: ('chem',)\n",
      "Creating table...\n",
      "table is created...\n",
      "Record insertion complete!\n"
     ]
    }
   ],
   "source": [
    "try:\n",
    "    conn = msql.connect(host='localhost',  user='root', database='chem')\n",
    "    if conn.is_connected():\n",
    "        cursor=conn.cursor()\n",
    "        cursor.execute('select database();')\n",
    "        record=cursor.fetchone()\n",
    "        print(\"You are connected to database:\", record)\n",
    "        cursor.execute('DROP TABLE IF EXISTS chem_data;')\n",
    "        print('Creating table...')\n",
    "        \n",
    "        cursor.execute(\"CREATE TABLE chem_data(cid int, cmpdname varchar(255), \\\n",
    "        mf varchar(255),isosmiles varchar (255))\")\n",
    "        print(\"table is created...\")\n",
    "        #loop through the df \n",
    "        for i, row in df.iterrows():\n",
    "            sql= \"INSERT INTO chem.chem_data VALUES (%s,%s,%s,%s)\"\n",
    "            cursor.execute(sql, tuple(row))\n",
    "            conn.commit()\n",
    "            \n",
    "        print(\"Record insertion complete!\")    \n",
    "        \n",
    "except Error as e:\n",
    "    print(\"Error while connecting to MySQL\", e)\n"
   ]
  },
  {
   "cell_type": "code",
   "execution_count": 5,
   "id": "0155f708",
   "metadata": {},
   "outputs": [],
   "source": [
    "# # Execute query\n",
    "# sql = \"SELECT * FROM chem.chem_data\"\n",
    "# cursor.execute(sql)\n",
    "# # Fetch all the records\n",
    "# result = cursor.fetchall()\n",
    "# for i in result:\n",
    "#     print(i)"
   ]
  },
  {
   "cell_type": "code",
   "execution_count": 6,
   "id": "f70bceb4",
   "metadata": {},
   "outputs": [],
   "source": [
    "#try the with image one, import HTML to display the image\n",
    "from IPython.display import HTML"
   ]
  },
  {
   "cell_type": "code",
   "execution_count": 12,
   "id": "27608b0a",
   "metadata": {
    "scrolled": true
   },
   "outputs": [
    {
     "data": {
      "text/html": [
       "<table border=\"1\" class=\"dataframe\">\n",
       "  <thead>\n",
       "    <tr style=\"text-align: right;\">\n",
       "      <th></th>\n",
       "      <th>cid</th>\n",
       "      <th>cmpdname</th>\n",
       "      <th>mf</th>\n",
       "      <th>isosmiles</th>\n",
       "      <th>2D-Structure</th>\n",
       "    </tr>\n",
       "  </thead>\n",
       "  <tbody>\n",
       "    <tr>\n",
       "      <th>0</th>\n",
       "      <td>10184653</td>\n",
       "      <td>Afatinib</td>\n",
       "      <td>C24H25ClFN5O3</td>\n",
       "      <td>CN(C)C/C=C/C(=O)NC1=C(C=C2C(=C1)C(=NC=N2)NC3=CC(=C(C=C3)F)Cl)O[C@H]4CCOC4</td>\n",
       "      <td><img src=\"https://pubchem.ncbi.nlm.nih.gov/image/imgsrv.fcgi?&cid=10184653&t=l\"></td>\n",
       "    </tr>\n",
       "    <tr>\n",
       "      <th>1</th>\n",
       "      <td>176871</td>\n",
       "      <td>Erlotinib hydrochloride</td>\n",
       "      <td>C22H24ClN3O4</td>\n",
       "      <td>COCCOC1=C(C=C2C(=C1)C(=NC=N2)NC3=CC=CC(=C3)C#C)OCCOC.Cl</td>\n",
       "      <td><img src=\"https://pubchem.ncbi.nlm.nih.gov/image/imgsrv.fcgi?&cid=176871&t=l\"></td>\n",
       "    </tr>\n",
       "    <tr>\n",
       "      <th>2</th>\n",
       "      <td>118607832</td>\n",
       "      <td>Mobocertinib</td>\n",
       "      <td>C32H39N7O4</td>\n",
       "      <td>CC(C)OC(=O)C1=CN=C(N=C1C2=CN(C3=CC=CC=C32)C)NC4=C(C=C(C(=C4)NC(=O)C=C)N(C)CCN(C)C)OC</td>\n",
       "      <td><img src=\"https://pubchem.ncbi.nlm.nih.gov/image/imgsrv.fcgi?&cid=118607832&t=l\"></td>\n",
       "    </tr>\n",
       "    <tr>\n",
       "      <th>3</th>\n",
       "      <td>123631</td>\n",
       "      <td>Gefitinib</td>\n",
       "      <td>C22H24ClFN4O3</td>\n",
       "      <td>COC1=C(C=C2C(=C1)N=CN=C2NC3=CC(=C(C=C3)F)Cl)OCCCN4CCOCC4</td>\n",
       "      <td><img src=\"https://pubchem.ncbi.nlm.nih.gov/image/imgsrv.fcgi?&cid=123631&t=l\"></td>\n",
       "    </tr>\n",
       "    <tr>\n",
       "      <th>4</th>\n",
       "      <td>176870</td>\n",
       "      <td>Erlotinib</td>\n",
       "      <td>C22H23N3O4</td>\n",
       "      <td>COCCOC1=C(C=C2C(=C1)C(=NC=N2)NC3=CC=CC(=C3)C#C)OCCOC</td>\n",
       "      <td><img src=\"https://pubchem.ncbi.nlm.nih.gov/image/imgsrv.fcgi?&cid=176870&t=l\"></td>\n",
       "    </tr>\n",
       "  </tbody>\n",
       "</table>"
      ],
      "text/plain": [
       "<IPython.core.display.HTML object>"
      ]
     },
     "execution_count": 12,
     "metadata": {},
     "output_type": "execute_result"
    }
   ],
   "source": [
    "df=pd.read_csv('~/2023summerb/2023summer/database/image_folder/with_image.csv')\n",
    "HTML(df.head().to_html(escape=False))"
   ]
  },
  {
   "cell_type": "code",
   "execution_count": 13,
   "id": "52a1802e",
   "metadata": {},
   "outputs": [
    {
     "name": "stdout",
     "output_type": "stream",
     "text": [
      "You are connected to database: ('chem',)\n",
      "Creating table...\n",
      "table is created...\n",
      "Record insertion complete!\n"
     ]
    }
   ],
   "source": [
    "##Create another sql table with image url\n",
    "\n",
    "try:\n",
    "    conn = msql.connect(host='localhost',  user='root', database='chem')\n",
    "    if conn.is_connected():\n",
    "        cursor=conn.cursor()\n",
    "        cursor.execute('select database();')\n",
    "        record=cursor.fetchone()\n",
    "        print(\"You are connected to database:\", record)\n",
    "        cursor.execute('DROP TABLE IF EXISTS chem_data_image;')\n",
    "        print('Creating table...')\n",
    "        \n",
    "        cursor.execute(\"CREATE TABLE chem_data_image(cid int, cmpdname varchar(255), \\\n",
    "        mf varchar(255),isosmiles varchar (255),image varchar(255))\")\n",
    "        print(\"table is created...\")\n",
    "        #loop through the df \n",
    "        for i, row in df.iterrows():\n",
    "            sql= \"INSERT INTO chem.chem_data_image VALUES (%s,%s,%s,%s,%s)\"\n",
    "            cursor.execute(sql, tuple(row))    \n",
    "            \n",
    "            conn.commit()\n",
    "        print(\"Record insertion complete!\")    \n",
    "except Error as e:\n",
    "    print(\"Error while connecting to MySQL\", e)"
   ]
  }
 ],
 "metadata": {
  "kernelspec": {
   "display_name": "Python 3 (ipykernel)",
   "language": "python",
   "name": "python3"
  },
  "language_info": {
   "codemirror_mode": {
    "name": "ipython",
    "version": 3
   },
   "file_extension": ".py",
   "mimetype": "text/x-python",
   "name": "python",
   "nbconvert_exporter": "python",
   "pygments_lexer": "ipython3",
   "version": "3.8.16"
  }
 },
 "nbformat": 4,
 "nbformat_minor": 5
}
