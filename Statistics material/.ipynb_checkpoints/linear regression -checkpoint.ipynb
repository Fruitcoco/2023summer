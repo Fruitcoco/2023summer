{
 "cells": [
  {
   "cell_type": "code",
   "execution_count": 3,
   "id": "09f1df71",
   "metadata": {},
   "outputs": [],
   "source": [
    "import numpy as np\n",
    "def Linear_regression(X,Y):\n",
    "    n=len(X)\n",
    "    sum_product=0\n",
    "    sum_x_square=0\n",
    "    sum_x=0\n",
    "    sum_y=0\n",
    "    mean_y=np.mean(Y)\n",
    "\n",
    "    for (x,y) in zip(X,Y):\n",
    "        sum_product+=x*y\n",
    "        sum_x_square+=x**2\n",
    "        sum_x+=x\n",
    "        sum_y+=y   \n",
    "       \n",
    "    beta=(sum_product-(sum_x*sum_y)/n) / (sum_x_square-(sum_x)**2/n)  \n",
    "    alpha=(sum_y/n) -beta*(sum_x/n)\n",
    "    \n",
    "    Sxx=(sum_x_square-(sum_x)**2/n)/n\n",
    "    Sxy=(sum_product-(sum_x*sum_y)/n)/n\n",
    "    \n",
    "    y_hat=[]\n",
    "    #comput y_hat\n",
    "    for (x,y) in zip(X,Y):\n",
    "        y_hat.append(x*beta+alpha)\n",
    "    \n",
    "    \n",
    "\n",
    "    #sum of squares family\n",
    "    SS_res=0\n",
    "    SS_T=0\n",
    "\n",
    "    for (y,y_hat_each) in zip(Y,y_hat):\n",
    "        SS_res +=(y-y_hat_each)**2\n",
    "        SS_T+=(y-mean_y)**2\n",
    "        \n",
    "    R_square=(SS_T-SS_res)/SS_T\n",
    "    \n",
    "    return beta,alpha,R_square\n",
    "\n",
    "       "
   ]
  },
  {
   "cell_type": "code",
   "execution_count": 4,
   "id": "2b60545f",
   "metadata": {},
   "outputs": [],
   "source": [
    "X=[-6,-7,5,-5,3,-4,0,-3,4,-1,-11,4,0,5,-5,-3,5,6,1,-5]\n",
    "Y=[9,10, 0,10,4,10,0,8, 1,8,10,3,4,-1,7,7,-6,-5,0,11]"
   ]
  },
  {
   "cell_type": "code",
   "execution_count": 6,
   "id": "85e1d414",
   "metadata": {},
   "outputs": [
    {
     "data": {
      "text/plain": [
       "0.7629216876711687"
      ]
     },
     "execution_count": 6,
     "metadata": {},
     "output_type": "execute_result"
    }
   ],
   "source": [
    "Linear_regression(X,Y)[2]"
   ]
  },
  {
   "cell_type": "code",
   "execution_count": null,
   "id": "2dbf576a",
   "metadata": {},
   "outputs": [],
   "source": []
  }
 ],
 "metadata": {
  "kernelspec": {
   "display_name": "Python 3 (ipykernel)",
   "language": "python",
   "name": "python3"
  },
  "language_info": {
   "codemirror_mode": {
    "name": "ipython",
    "version": 3
   },
   "file_extension": ".py",
   "mimetype": "text/x-python",
   "name": "python",
   "nbconvert_exporter": "python",
   "pygments_lexer": "ipython3",
   "version": "3.8.16"
  }
 },
 "nbformat": 4,
 "nbformat_minor": 5
}
