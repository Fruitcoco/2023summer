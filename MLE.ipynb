{
 "cells": [
  {
   "cell_type": "markdown",
   "id": "55ffaa4e",
   "metadata": {},
   "source": [
    "## Example one: simulate normal distribution data and find MLE for xi"
   ]
  },
  {
   "cell_type": "code",
   "execution_count": 26,
   "id": "e3e1de52",
   "metadata": {},
   "outputs": [],
   "source": [
    "import pandas as pd\n",
    "from scipy import stats\n",
    "import numpy as np\n",
    "from scipy.optimize import minimize\n",
    "\n",
    "np.random.seed(1)\n",
    "\n",
    "n = 100\n",
    "\n",
    "#set a data sample with known distribution: N(0,5)\n",
    "sample_data = np.random.normal(loc=0, scale=5, size=n)\n",
    "\n",
    "def gaussian(params):\n",
    "    mean = params[0]   \n",
    "    sd = params[1]\n",
    "\n",
    "    # Calculate negative log likelihood to maximize the likelihood \n",
    "    nll = -np.sum(stats.norm.logpdf(sample_data, loc=mean, scale=sd))\n",
    "\n",
    "    return nll\n",
    "\n",
    "\n",
    "initParams = [0, 1]\n",
    "\n",
    "results = minimize(gaussian, initParams, method='Nelder-Mead')"
   ]
  },
  {
   "cell_type": "code",
   "execution_count": 25,
   "id": "7e175112",
   "metadata": {
    "scrolled": true
   },
   "outputs": [
    {
     "data": {
      "text/plain": [
       "array([0.30287017, 4.42577591])"
      ]
     },
     "execution_count": 25,
     "metadata": {},
     "output_type": "execute_result"
    }
   ],
   "source": [
    "results.x"
   ]
  },
  {
   "cell_type": "markdown",
   "id": "5d1dc439",
   "metadata": {},
   "source": [
    "## Example 2: Using iris data to find the MLE for sepal length"
   ]
  },
  {
   "cell_type": "code",
   "execution_count": 29,
   "id": "1ae8351a",
   "metadata": {},
   "outputs": [],
   "source": [
    "from sklearn import datasets\n",
    "iris = datasets.load_iris()\n",
    "#extrat the Sepal Length information \n",
    "sepal_length =iris['data'][:,2]\n",
    "\n",
    "\n",
    "def gaussian(params):\n",
    "    mean = params[0]   \n",
    "    sd = params[1]\n",
    "\n",
    "    # Calculate negative log likelihood to maximize the likelihood \n",
    "    nll = -np.sum(stats.norm.logpdf(sepal_length, loc=mean, scale=sd))\n",
    "\n",
    "    return nll\n",
    "\n",
    "\n",
    "initParams = [0, 1]\n",
    "\n",
    "results = minimize(gaussian, initParams, method='Nelder-Mead')"
   ]
  },
  {
   "cell_type": "code",
   "execution_count": 30,
   "id": "17e55c1f",
   "metadata": {},
   "outputs": [
    {
     "data": {
      "text/plain": [
       "array([3.75801442, 1.75937546])"
      ]
     },
     "execution_count": 30,
     "metadata": {},
     "output_type": "execute_result"
    }
   ],
   "source": [
    "results.x"
   ]
  }
 ],
 "metadata": {
  "kernelspec": {
   "display_name": "Python 3 (ipykernel)",
   "language": "python",
   "name": "python3"
  },
  "language_info": {
   "codemirror_mode": {
    "name": "ipython",
    "version": 3
   },
   "file_extension": ".py",
   "mimetype": "text/x-python",
   "name": "python",
   "nbconvert_exporter": "python",
   "pygments_lexer": "ipython3",
   "version": "3.8.16"
  }
 },
 "nbformat": 4,
 "nbformat_minor": 5
}
