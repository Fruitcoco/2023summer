{
 "cells": [
  {
   "cell_type": "markdown",
   "id": "119696bc",
   "metadata": {},
   "source": [
    "## 15. Ordered Bar Chart"
   ]
  },
  {
   "cell_type": "code",
   "execution_count": 3,
   "id": "5e89ffd9",
   "metadata": {},
   "outputs": [],
   "source": [
    "import numpy as np\n",
    "import pandas as pd\n",
    "import matplotlib as mpl\n",
    "import matplotlib.pyplot as plt\n",
    "import seaborn as sns\n",
    "import warnings; warnings.filterwarnings(action='once')"
   ]
  },
  {
   "cell_type": "code",
   "execution_count": 19,
   "id": "220d510e",
   "metadata": {},
   "outputs": [],
   "source": [
    "# Prepare Data\n",
    "df_raw = pd.read_csv(\"https://github.com/selva86/datasets/raw/master/mpg_ggplot2.csv\")\n",
    "df = df_raw[['cty', 'manufacturer']].groupby('manufacturer').apply(lambda x: x.mean())\n",
    "df.sort_values('cty', inplace=True)\n",
    "df.reset_index(inplace=True)\n",
    "warnings.filterwarnings('ignore')"
   ]
  },
  {
   "cell_type": "code",
   "execution_count": 18,
   "id": "8afbbf24",
   "metadata": {},
   "outputs": [],
   "source": [
    "#Draw plot\n",
    "import matplotlib.patches as patches\n",
    "fig,ax=plt.subplots(figsize=(16,10),face)"
   ]
  },
  {
   "cell_type": "code",
   "execution_count": null,
   "id": "5131cef9",
   "metadata": {},
   "outputs": [],
   "source": []
  },
  {
   "cell_type": "code",
   "execution_count": null,
   "id": "d9a4c2e1",
   "metadata": {},
   "outputs": [],
   "source": []
  },
  {
   "cell_type": "code",
   "execution_count": null,
   "id": "0263bde3",
   "metadata": {},
   "outputs": [],
   "source": []
  },
  {
   "cell_type": "code",
   "execution_count": null,
   "id": "a8efd641",
   "metadata": {},
   "outputs": [],
   "source": []
  },
  {
   "cell_type": "code",
   "execution_count": null,
   "id": "2f576169",
   "metadata": {},
   "outputs": [],
   "source": []
  }
 ],
 "metadata": {
  "kernelspec": {
   "display_name": "Python 3 (ipykernel)",
   "language": "python",
   "name": "python3"
  },
  "language_info": {
   "codemirror_mode": {
    "name": "ipython",
    "version": 3
   },
   "file_extension": ".py",
   "mimetype": "text/x-python",
   "name": "python",
   "nbconvert_exporter": "python",
   "pygments_lexer": "ipython3",
   "version": "3.8.16"
  }
 },
 "nbformat": 4,
 "nbformat_minor": 5
}
