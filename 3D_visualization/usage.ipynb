{
 "cells": [
  {
   "cell_type": "code",
   "execution_count": 1,
   "id": "99f54939",
   "metadata": {},
   "outputs": [],
   "source": [
    "from mol2graph.molgraph import MolGraph \n",
    "from mol2graph.vis_helper import to_plotly_figure,to_networkx_graph\n",
    "from plotly.offline import init_notebook_mode, iplot"
   ]
  },
  {
   "cell_type": "code",
   "execution_count": 2,
   "id": "84be3e50",
   "metadata": {},
   "outputs": [],
   "source": [
    "import plotly.graph_objs as go"
   ]
  },
  {
   "cell_type": "code",
   "execution_count": 3,
   "id": "8be3290d",
   "metadata": {},
   "outputs": [
    {
     "data": {
      "text/html": [
       "        <script type=\"text/javascript\">\n",
       "        window.PlotlyConfig = {MathJaxConfig: 'local'};\n",
       "        if (window.MathJax && window.MathJax.Hub && window.MathJax.Hub.Config) {window.MathJax.Hub.Config({SVG: {font: \"STIX-Web\"}});}\n",
       "        if (typeof require !== 'undefined') {\n",
       "        require.undef(\"plotly\");\n",
       "        requirejs.config({\n",
       "            paths: {\n",
       "                'plotly': ['https://cdn.plot.ly/plotly-2.25.2.min']\n",
       "            }\n",
       "        });\n",
       "        require(['plotly'], function(Plotly) {\n",
       "            window._Plotly = Plotly;\n",
       "        });\n",
       "        }\n",
       "        </script>\n",
       "        "
      ]
     },
     "metadata": {},
     "output_type": "display_data"
    }
   ],
   "source": [
    "init_notebook_mode(connected=True)"
   ]
  },
  {
   "cell_type": "code",
   "execution_count": 4,
   "id": "3185e528",
   "metadata": {},
   "outputs": [],
   "source": [
    "mg = MolGraph()"
   ]
  },
  {
   "cell_type": "code",
   "execution_count": 5,
   "id": "83a34396",
   "metadata": {},
   "outputs": [],
   "source": [
    "mg.read_mol('/Users/freyali/2023summerb/2023summer/3D_visualization/归档/20667_sybyl.mol2')"
   ]
  },
  {
   "cell_type": "code",
   "execution_count": 6,
   "id": "fa981fac",
   "metadata": {},
   "outputs": [],
   "source": [
    "fig=to_plotly_figure(mg)[0]"
   ]
  },
  {
   "cell_type": "code",
   "execution_count": 7,
   "id": "d2778dda",
   "metadata": {
    "scrolled": false
   },
   "outputs": [
    {
     "data": {
      "application/vnd.plotly.v1+json": {
       "config": {
        "linkText": "Export to plot.ly",
        "plotlyServerURL": "https://plot.ly",
        "showLink": false
       },
       "data": [
        {
         "marker": {
          "color": [
           "red",
           "black",
           "red",
           "black",
           "red",
           "black",
           "black",
           "black",
           "red",
           "red",
           "yellow",
           "black",
           "black",
           "black",
           "black",
           "black",
           "black",
           "blue",
           "black",
           "black",
           "black",
           "blue",
           "yellow",
           "red",
           "red",
           "black",
           "black",
           "black",
           "black",
           "black",
           "black",
           "black",
           "black",
           "black",
           "black",
           "black",
           "darkred",
           "white",
           "white",
           "white",
           "white",
           "white",
           "white",
           "white",
           "white",
           "white",
           "white",
           "white",
           "white",
           "white",
           "white",
           "white",
           "white",
           "white",
           "white",
           "white",
           "white",
           "white",
           "white",
           "white"
          ],
          "line": {
           "color": "lightgray",
           "width": 2
          },
          "opacity": 0.8,
          "size": 7,
          "symbol": "circle"
         },
         "mode": "markers",
         "text": [
          "O1",
          "C1",
          "O2",
          "C2",
          "O3",
          "C3",
          "C4",
          "C5",
          "O4",
          "O5",
          "S1",
          "C6",
          "C7",
          "C8",
          "C9",
          "C10",
          "C11",
          "N1",
          "C12",
          "C13",
          "C14",
          "N2",
          "S2",
          "O6",
          "O7",
          "C15",
          "C16",
          "C17",
          "C18",
          "C19",
          "C20",
          "C21",
          "C22",
          "C23",
          "C24",
          "C25",
          "Br1",
          "H1",
          "H2",
          "H3",
          "H4",
          "H5",
          "H6",
          "H7",
          "H8",
          "H9",
          "H10",
          "H11",
          "H12",
          "H13",
          "H14",
          "H15",
          "H16",
          "H17",
          "H18",
          "H19",
          "H20",
          "H21",
          "H22",
          "H23"
         ],
         "type": "scatter3d",
         "x": [
          41.039,
          40.735,
          40.373,
          40.775,
          42.056,
          42.358,
          43.256,
          43.917,
          43.649,
          44.856,
          43.357,
          42.242,
          41.93,
          42.944,
          42.707,
          41.439,
          40.409,
          39.103,
          38.749,
          39.987,
          39.71,
          38.481,
          38.713,
          37.419,
          39.66,
          39.5,
          39.94,
          39.035,
          39.444,
          40.758,
          41.663,
          41.255,
          37.31,
          37.661,
          40.656,
          41.78,
          40.555,
          40.575,
          40.01,
          43.936,
          43.512,
          41.248,
          38.358,
          38.394,
          40.782,
          40.294,
          39.624,
          40.546,
          40.377,
          38.773,
          38,
          38.732,
          41.08,
          42.697,
          41.967,
          36.702,
          36.768,
          36.76,
          38.038,
          39.847
         ],
         "y": [
          17.188,
          17.514,
          18.806,
          16.529,
          15.953,
          15.038,
          15.323,
          16.597,
          17.652,
          16.621,
          13.98,
          13.02,
          11.624,
          10.838,
          9.503,
          8.945,
          9.736,
          9.223,
          8.357,
          7.552,
          6.561,
          5.785,
          4.094,
          3.343,
          3.51,
          3.93,
          2.526,
          1.583,
          0.263,
          -0.116,
          0.824,
          2.144,
          6.381,
          7.397,
          11.068,
          13.756,
          13.098,
          17.028,
          15.755,
          11.278,
          8.895,
          7.893,
          9.483,
          8.939,
          8.24,
          6.988,
          7.117,
          5.845,
          4.593,
          4.206,
          1.881,
          -0.477,
          -1.155,
          0.525,
          2.883,
          6.883,
          5.562,
          7.975,
          6.85,
          11.681
         ],
         "z": [
          11.242,
          12.421,
          12.715,
          13.51,
          13.53,
          14.508,
          15.509,
          15.777,
          15.139,
          16.78,
          16.515,
          15.683,
          16.062,
          16.638,
          16.987,
          16.773,
          16.226,
          15.992,
          14.885,
          14.535,
          13.419,
          13.615,
          13.851,
          13.936,
          12.845,
          15.446,
          15.686,
          16.185,
          16.396,
          16.107,
          15.605,
          15.393,
          14.27,
          15.346,
          15.876,
          14.586,
          13.269,
          14.47,
          13.351,
          16.816,
          17.426,
          17.031,
          16.654,
          14.021,
          14.213,
          15.428,
          12.473,
          13.407,
          15.483,
          16.224,
          16.411,
          16.79,
          16.274,
          15.377,
          14.997,
          13.503,
          14.765,
          15.598,
          16.223,
          15.453
         ]
        },
        {
         "hoverinfo": "none",
         "marker": {
          "color": "grey",
          "opacity": 1,
          "size": 7
         },
         "mode": "lines",
         "type": "scatter3d",
         "x": [
          41.039,
          40.735,
          null,
          40.735,
          41.039,
          null,
          40.735,
          40.373,
          null,
          40.735,
          40.775,
          null,
          40.373,
          40.735,
          null,
          40.775,
          40.735,
          null,
          40.775,
          42.056,
          null,
          40.775,
          40.575,
          null,
          40.775,
          40.01,
          null,
          42.056,
          40.775,
          null,
          42.056,
          42.358,
          null,
          40.575,
          40.775,
          null,
          40.01,
          40.775,
          null,
          42.358,
          41.78,
          null,
          42.358,
          42.056,
          null,
          42.358,
          43.256,
          null,
          43.256,
          43.357,
          null,
          43.256,
          42.358,
          null,
          43.256,
          43.917,
          null,
          41.78,
          42.242,
          null,
          41.78,
          40.555,
          null,
          41.78,
          42.358,
          null,
          43.917,
          43.649,
          null,
          43.917,
          44.856,
          null,
          43.917,
          43.256,
          null,
          43.357,
          42.242,
          null,
          43.357,
          43.256,
          null,
          43.649,
          43.917,
          null,
          44.856,
          43.917,
          null,
          42.242,
          43.357,
          null,
          42.242,
          41.78,
          null,
          42.242,
          41.93,
          null,
          41.93,
          40.656,
          null,
          41.93,
          42.242,
          null,
          41.93,
          42.944,
          null,
          42.944,
          41.93,
          null,
          42.944,
          42.707,
          null,
          42.944,
          43.936,
          null,
          40.656,
          40.409,
          null,
          40.656,
          39.847,
          null,
          40.656,
          41.93,
          null,
          42.707,
          43.512,
          null,
          42.707,
          42.944,
          null,
          42.707,
          41.439,
          null,
          43.936,
          42.944,
          null,
          41.439,
          40.409,
          null,
          41.439,
          41.248,
          null,
          41.439,
          42.707,
          null,
          43.512,
          42.707,
          null,
          40.409,
          39.103,
          null,
          40.409,
          40.656,
          null,
          40.409,
          41.439,
          null,
          41.248,
          41.439,
          null,
          39.103,
          40.409,
          null,
          39.103,
          38.749,
          null,
          39.103,
          38.358,
          null,
          38.749,
          39.103,
          null,
          38.749,
          39.987,
          null,
          38.749,
          38.394,
          null,
          38.749,
          37.661,
          null,
          38.358,
          39.103,
          null,
          39.987,
          38.749,
          null,
          39.987,
          39.71,
          null,
          39.987,
          40.294,
          null,
          39.987,
          40.782,
          null,
          37.661,
          37.31,
          null,
          37.661,
          36.76,
          null,
          37.661,
          38.749,
          null,
          37.661,
          38.038,
          null,
          38.394,
          38.749,
          null,
          39.71,
          39.987,
          null,
          39.71,
          38.481,
          null,
          39.71,
          39.624,
          null,
          39.71,
          40.546,
          null,
          40.782,
          39.987,
          null,
          40.294,
          39.987,
          null,
          38.481,
          37.31,
          null,
          38.481,
          39.71,
          null,
          38.481,
          38.713,
          null,
          39.624,
          39.71,
          null,
          40.546,
          39.71,
          null,
          38.713,
          39.66,
          null,
          38.713,
          39.5,
          null,
          38.713,
          38.481,
          null,
          38.713,
          37.419,
          null,
          37.31,
          36.768,
          null,
          37.31,
          37.661,
          null,
          37.31,
          38.481,
          null,
          37.31,
          36.702,
          null,
          37.419,
          38.713,
          null,
          39.66,
          38.713,
          null,
          39.5,
          40.377,
          null,
          39.5,
          38.773,
          null,
          39.5,
          39.94,
          null,
          39.5,
          38.713,
          null,
          39.94,
          39.5,
          null,
          39.94,
          39.035,
          null,
          39.94,
          41.255,
          null,
          40.377,
          39.5,
          null,
          38.773,
          39.5,
          null,
          39.035,
          39.94,
          null,
          39.035,
          39.444,
          null,
          39.035,
          38,
          null,
          41.255,
          41.967,
          null,
          41.255,
          39.94,
          null,
          41.255,
          41.663,
          null,
          39.444,
          38.732,
          null,
          39.444,
          39.035,
          null,
          39.444,
          40.758,
          null,
          38,
          39.035,
          null,
          40.758,
          39.444,
          null,
          40.758,
          41.663,
          null,
          40.758,
          41.08,
          null,
          38.732,
          39.444,
          null,
          41.663,
          42.697,
          null,
          41.663,
          40.758,
          null,
          41.663,
          41.255,
          null,
          41.08,
          40.758,
          null,
          42.697,
          41.663,
          null,
          41.967,
          41.255,
          null,
          36.702,
          37.31,
          null,
          36.768,
          37.31,
          null,
          36.76,
          37.661,
          null,
          38.038,
          37.661,
          null,
          39.847,
          40.656,
          null,
          40.555,
          41.78,
          null
         ],
         "y": [
          17.188,
          17.514,
          null,
          17.514,
          17.188,
          null,
          17.514,
          18.806,
          null,
          17.514,
          16.529,
          null,
          18.806,
          17.514,
          null,
          16.529,
          17.514,
          null,
          16.529,
          15.953,
          null,
          16.529,
          17.028,
          null,
          16.529,
          15.755,
          null,
          15.953,
          16.529,
          null,
          15.953,
          15.038,
          null,
          17.028,
          16.529,
          null,
          15.755,
          16.529,
          null,
          15.038,
          13.756,
          null,
          15.038,
          15.953,
          null,
          15.038,
          15.323,
          null,
          15.323,
          13.98,
          null,
          15.323,
          15.038,
          null,
          15.323,
          16.597,
          null,
          13.756,
          13.02,
          null,
          13.756,
          13.098,
          null,
          13.756,
          15.038,
          null,
          16.597,
          17.652,
          null,
          16.597,
          16.621,
          null,
          16.597,
          15.323,
          null,
          13.98,
          13.02,
          null,
          13.98,
          15.323,
          null,
          17.652,
          16.597,
          null,
          16.621,
          16.597,
          null,
          13.02,
          13.98,
          null,
          13.02,
          13.756,
          null,
          13.02,
          11.624,
          null,
          11.624,
          11.068,
          null,
          11.624,
          13.02,
          null,
          11.624,
          10.838,
          null,
          10.838,
          11.624,
          null,
          10.838,
          9.503,
          null,
          10.838,
          11.278,
          null,
          11.068,
          9.736,
          null,
          11.068,
          11.681,
          null,
          11.068,
          11.624,
          null,
          9.503,
          8.895,
          null,
          9.503,
          10.838,
          null,
          9.503,
          8.945,
          null,
          11.278,
          10.838,
          null,
          8.945,
          9.736,
          null,
          8.945,
          7.893,
          null,
          8.945,
          9.503,
          null,
          8.895,
          9.503,
          null,
          9.736,
          9.223,
          null,
          9.736,
          11.068,
          null,
          9.736,
          8.945,
          null,
          7.893,
          8.945,
          null,
          9.223,
          9.736,
          null,
          9.223,
          8.357,
          null,
          9.223,
          9.483,
          null,
          8.357,
          9.223,
          null,
          8.357,
          7.552,
          null,
          8.357,
          8.939,
          null,
          8.357,
          7.397,
          null,
          9.483,
          9.223,
          null,
          7.552,
          8.357,
          null,
          7.552,
          6.561,
          null,
          7.552,
          6.988,
          null,
          7.552,
          8.24,
          null,
          7.397,
          6.381,
          null,
          7.397,
          7.975,
          null,
          7.397,
          8.357,
          null,
          7.397,
          6.85,
          null,
          8.939,
          8.357,
          null,
          6.561,
          7.552,
          null,
          6.561,
          5.785,
          null,
          6.561,
          7.117,
          null,
          6.561,
          5.845,
          null,
          8.24,
          7.552,
          null,
          6.988,
          7.552,
          null,
          5.785,
          6.381,
          null,
          5.785,
          6.561,
          null,
          5.785,
          4.094,
          null,
          7.117,
          6.561,
          null,
          5.845,
          6.561,
          null,
          4.094,
          3.51,
          null,
          4.094,
          3.93,
          null,
          4.094,
          5.785,
          null,
          4.094,
          3.343,
          null,
          6.381,
          5.562,
          null,
          6.381,
          7.397,
          null,
          6.381,
          5.785,
          null,
          6.381,
          6.883,
          null,
          3.343,
          4.094,
          null,
          3.51,
          4.094,
          null,
          3.93,
          4.593,
          null,
          3.93,
          4.206,
          null,
          3.93,
          2.526,
          null,
          3.93,
          4.094,
          null,
          2.526,
          3.93,
          null,
          2.526,
          1.583,
          null,
          2.526,
          2.144,
          null,
          4.593,
          3.93,
          null,
          4.206,
          3.93,
          null,
          1.583,
          2.526,
          null,
          1.583,
          0.263,
          null,
          1.583,
          1.881,
          null,
          2.144,
          2.883,
          null,
          2.144,
          2.526,
          null,
          2.144,
          0.824,
          null,
          0.263,
          -0.477,
          null,
          0.263,
          1.583,
          null,
          0.263,
          -0.116,
          null,
          1.881,
          1.583,
          null,
          -0.116,
          0.263,
          null,
          -0.116,
          0.824,
          null,
          -0.116,
          -1.155,
          null,
          -0.477,
          0.263,
          null,
          0.824,
          0.525,
          null,
          0.824,
          -0.116,
          null,
          0.824,
          2.144,
          null,
          -1.155,
          -0.116,
          null,
          0.525,
          0.824,
          null,
          2.883,
          2.144,
          null,
          6.883,
          6.381,
          null,
          5.562,
          6.381,
          null,
          7.975,
          7.397,
          null,
          6.85,
          7.397,
          null,
          11.681,
          11.068,
          null,
          13.098,
          13.756,
          null
         ],
         "z": [
          11.242,
          12.421,
          null,
          12.421,
          11.242,
          null,
          12.421,
          12.715,
          null,
          12.421,
          13.51,
          null,
          12.715,
          12.421,
          null,
          13.51,
          12.421,
          null,
          13.51,
          13.53,
          null,
          13.51,
          14.47,
          null,
          13.51,
          13.351,
          null,
          13.53,
          13.51,
          null,
          13.53,
          14.508,
          null,
          14.47,
          13.51,
          null,
          13.351,
          13.51,
          null,
          14.508,
          14.586,
          null,
          14.508,
          13.53,
          null,
          14.508,
          15.509,
          null,
          15.509,
          16.515,
          null,
          15.509,
          14.508,
          null,
          15.509,
          15.777,
          null,
          14.586,
          15.683,
          null,
          14.586,
          13.269,
          null,
          14.586,
          14.508,
          null,
          15.777,
          15.139,
          null,
          15.777,
          16.78,
          null,
          15.777,
          15.509,
          null,
          16.515,
          15.683,
          null,
          16.515,
          15.509,
          null,
          15.139,
          15.777,
          null,
          16.78,
          15.777,
          null,
          15.683,
          16.515,
          null,
          15.683,
          14.586,
          null,
          15.683,
          16.062,
          null,
          16.062,
          15.876,
          null,
          16.062,
          15.683,
          null,
          16.062,
          16.638,
          null,
          16.638,
          16.062,
          null,
          16.638,
          16.987,
          null,
          16.638,
          16.816,
          null,
          15.876,
          16.226,
          null,
          15.876,
          15.453,
          null,
          15.876,
          16.062,
          null,
          16.987,
          17.426,
          null,
          16.987,
          16.638,
          null,
          16.987,
          16.773,
          null,
          16.816,
          16.638,
          null,
          16.773,
          16.226,
          null,
          16.773,
          17.031,
          null,
          16.773,
          16.987,
          null,
          17.426,
          16.987,
          null,
          16.226,
          15.992,
          null,
          16.226,
          15.876,
          null,
          16.226,
          16.773,
          null,
          17.031,
          16.773,
          null,
          15.992,
          16.226,
          null,
          15.992,
          14.885,
          null,
          15.992,
          16.654,
          null,
          14.885,
          15.992,
          null,
          14.885,
          14.535,
          null,
          14.885,
          14.021,
          null,
          14.885,
          15.346,
          null,
          16.654,
          15.992,
          null,
          14.535,
          14.885,
          null,
          14.535,
          13.419,
          null,
          14.535,
          15.428,
          null,
          14.535,
          14.213,
          null,
          15.346,
          14.27,
          null,
          15.346,
          15.598,
          null,
          15.346,
          14.885,
          null,
          15.346,
          16.223,
          null,
          14.021,
          14.885,
          null,
          13.419,
          14.535,
          null,
          13.419,
          13.615,
          null,
          13.419,
          12.473,
          null,
          13.419,
          13.407,
          null,
          14.213,
          14.535,
          null,
          15.428,
          14.535,
          null,
          13.615,
          14.27,
          null,
          13.615,
          13.419,
          null,
          13.615,
          13.851,
          null,
          12.473,
          13.419,
          null,
          13.407,
          13.419,
          null,
          13.851,
          12.845,
          null,
          13.851,
          15.446,
          null,
          13.851,
          13.615,
          null,
          13.851,
          13.936,
          null,
          14.27,
          14.765,
          null,
          14.27,
          15.346,
          null,
          14.27,
          13.615,
          null,
          14.27,
          13.503,
          null,
          13.936,
          13.851,
          null,
          12.845,
          13.851,
          null,
          15.446,
          15.483,
          null,
          15.446,
          16.224,
          null,
          15.446,
          15.686,
          null,
          15.446,
          13.851,
          null,
          15.686,
          15.446,
          null,
          15.686,
          16.185,
          null,
          15.686,
          15.393,
          null,
          15.483,
          15.446,
          null,
          16.224,
          15.446,
          null,
          16.185,
          15.686,
          null,
          16.185,
          16.396,
          null,
          16.185,
          16.411,
          null,
          15.393,
          14.997,
          null,
          15.393,
          15.686,
          null,
          15.393,
          15.605,
          null,
          16.396,
          16.79,
          null,
          16.396,
          16.185,
          null,
          16.396,
          16.107,
          null,
          16.411,
          16.185,
          null,
          16.107,
          16.396,
          null,
          16.107,
          15.605,
          null,
          16.107,
          16.274,
          null,
          16.79,
          16.396,
          null,
          15.605,
          15.377,
          null,
          15.605,
          16.107,
          null,
          15.605,
          15.393,
          null,
          16.274,
          16.107,
          null,
          15.377,
          15.605,
          null,
          14.997,
          15.393,
          null,
          13.503,
          14.27,
          null,
          14.765,
          14.27,
          null,
          15.598,
          15.346,
          null,
          16.223,
          15.346,
          null,
          15.453,
          15.876,
          null,
          13.269,
          14.586,
          null
         ]
        }
       ],
       "layout": {
        "margin": {
         "b": 0,
         "l": 0,
         "r": 0,
         "t": 0
        },
        "scene": {
         "annotations": [
          {
           "showarrow": false,
           "text": "O",
           "x": 41.039,
           "y": 17.188,
           "yshift": 15,
           "z": 11.242
          },
          {
           "showarrow": false,
           "text": "C",
           "x": 40.735,
           "y": 17.514,
           "yshift": 15,
           "z": 12.421
          },
          {
           "showarrow": false,
           "text": "O",
           "x": 40.373,
           "y": 18.806,
           "yshift": 15,
           "z": 12.715
          },
          {
           "showarrow": false,
           "text": "C",
           "x": 40.775,
           "y": 16.529,
           "yshift": 15,
           "z": 13.51
          },
          {
           "showarrow": false,
           "text": "O",
           "x": 42.056,
           "y": 15.953,
           "yshift": 15,
           "z": 13.53
          },
          {
           "showarrow": false,
           "text": "C",
           "x": 42.358,
           "y": 15.038,
           "yshift": 15,
           "z": 14.508
          },
          {
           "showarrow": false,
           "text": "C",
           "x": 43.256,
           "y": 15.323,
           "yshift": 15,
           "z": 15.509
          },
          {
           "showarrow": false,
           "text": "C",
           "x": 43.917,
           "y": 16.597,
           "yshift": 15,
           "z": 15.777
          },
          {
           "showarrow": false,
           "text": "O",
           "x": 43.649,
           "y": 17.652,
           "yshift": 15,
           "z": 15.139
          },
          {
           "showarrow": false,
           "text": "O",
           "x": 44.856,
           "y": 16.621,
           "yshift": 15,
           "z": 16.78
          },
          {
           "showarrow": false,
           "text": "S",
           "x": 43.357,
           "y": 13.98,
           "yshift": 15,
           "z": 16.515
          },
          {
           "showarrow": false,
           "text": "C",
           "x": 42.242,
           "y": 13.02,
           "yshift": 15,
           "z": 15.683
          },
          {
           "showarrow": false,
           "text": "C",
           "x": 41.93,
           "y": 11.624,
           "yshift": 15,
           "z": 16.062
          },
          {
           "showarrow": false,
           "text": "C",
           "x": 42.944,
           "y": 10.838,
           "yshift": 15,
           "z": 16.638
          },
          {
           "showarrow": false,
           "text": "C",
           "x": 42.707,
           "y": 9.503,
           "yshift": 15,
           "z": 16.987
          },
          {
           "showarrow": false,
           "text": "C",
           "x": 41.439,
           "y": 8.945,
           "yshift": 15,
           "z": 16.773
          },
          {
           "showarrow": false,
           "text": "C",
           "x": 40.409,
           "y": 9.736,
           "yshift": 15,
           "z": 16.226
          },
          {
           "showarrow": false,
           "text": "N",
           "x": 39.103,
           "y": 9.223,
           "yshift": 15,
           "z": 15.992
          },
          {
           "showarrow": false,
           "text": "C",
           "x": 38.749,
           "y": 8.357,
           "yshift": 15,
           "z": 14.885
          },
          {
           "showarrow": false,
           "text": "C",
           "x": 39.987,
           "y": 7.552,
           "yshift": 15,
           "z": 14.535
          },
          {
           "showarrow": false,
           "text": "C",
           "x": 39.71,
           "y": 6.561,
           "yshift": 15,
           "z": 13.419
          },
          {
           "showarrow": false,
           "text": "N",
           "x": 38.481,
           "y": 5.785,
           "yshift": 15,
           "z": 13.615
          },
          {
           "showarrow": false,
           "text": "S",
           "x": 38.713,
           "y": 4.094,
           "yshift": 15,
           "z": 13.851
          },
          {
           "showarrow": false,
           "text": "O",
           "x": 37.419,
           "y": 3.343,
           "yshift": 15,
           "z": 13.936
          },
          {
           "showarrow": false,
           "text": "O",
           "x": 39.66,
           "y": 3.51,
           "yshift": 15,
           "z": 12.845
          },
          {
           "showarrow": false,
           "text": "C",
           "x": 39.5,
           "y": 3.93,
           "yshift": 15,
           "z": 15.446
          },
          {
           "showarrow": false,
           "text": "C",
           "x": 39.94,
           "y": 2.526,
           "yshift": 15,
           "z": 15.686
          },
          {
           "showarrow": false,
           "text": "C",
           "x": 39.035,
           "y": 1.583,
           "yshift": 15,
           "z": 16.185
          },
          {
           "showarrow": false,
           "text": "C",
           "x": 39.444,
           "y": 0.263,
           "yshift": 15,
           "z": 16.396
          },
          {
           "showarrow": false,
           "text": "C",
           "x": 40.758,
           "y": -0.116,
           "yshift": 15,
           "z": 16.107
          },
          {
           "showarrow": false,
           "text": "C",
           "x": 41.663,
           "y": 0.824,
           "yshift": 15,
           "z": 15.605
          },
          {
           "showarrow": false,
           "text": "C",
           "x": 41.255,
           "y": 2.144,
           "yshift": 15,
           "z": 15.393
          },
          {
           "showarrow": false,
           "text": "C",
           "x": 37.31,
           "y": 6.381,
           "yshift": 15,
           "z": 14.27
          },
          {
           "showarrow": false,
           "text": "C",
           "x": 37.661,
           "y": 7.397,
           "yshift": 15,
           "z": 15.346
          },
          {
           "showarrow": false,
           "text": "C",
           "x": 40.656,
           "y": 11.068,
           "yshift": 15,
           "z": 15.876
          },
          {
           "showarrow": false,
           "text": "C",
           "x": 41.78,
           "y": 13.756,
           "yshift": 15,
           "z": 14.586
          },
          {
           "showarrow": false,
           "text": "Br",
           "x": 40.555,
           "y": 13.098,
           "yshift": 15,
           "z": 13.269
          },
          {
           "showarrow": false,
           "text": "H",
           "x": 40.575,
           "y": 17.028,
           "yshift": 15,
           "z": 14.47
          },
          {
           "showarrow": false,
           "text": "H",
           "x": 40.01,
           "y": 15.755,
           "yshift": 15,
           "z": 13.351
          },
          {
           "showarrow": false,
           "text": "H",
           "x": 43.936,
           "y": 11.278,
           "yshift": 15,
           "z": 16.816
          },
          {
           "showarrow": false,
           "text": "H",
           "x": 43.512,
           "y": 8.895,
           "yshift": 15,
           "z": 17.426
          },
          {
           "showarrow": false,
           "text": "H",
           "x": 41.248,
           "y": 7.893,
           "yshift": 15,
           "z": 17.031
          },
          {
           "showarrow": false,
           "text": "H",
           "x": 38.358,
           "y": 9.483,
           "yshift": 15,
           "z": 16.654
          },
          {
           "showarrow": false,
           "text": "H",
           "x": 38.394,
           "y": 8.939,
           "yshift": 15,
           "z": 14.021
          },
          {
           "showarrow": false,
           "text": "H",
           "x": 40.782,
           "y": 8.24,
           "yshift": 15,
           "z": 14.213
          },
          {
           "showarrow": false,
           "text": "H",
           "x": 40.294,
           "y": 6.988,
           "yshift": 15,
           "z": 15.428
          },
          {
           "showarrow": false,
           "text": "H",
           "x": 39.624,
           "y": 7.117,
           "yshift": 15,
           "z": 12.473
          },
          {
           "showarrow": false,
           "text": "H",
           "x": 40.546,
           "y": 5.845,
           "yshift": 15,
           "z": 13.407
          },
          {
           "showarrow": false,
           "text": "H",
           "x": 40.377,
           "y": 4.593,
           "yshift": 15,
           "z": 15.483
          },
          {
           "showarrow": false,
           "text": "H",
           "x": 38.773,
           "y": 4.206,
           "yshift": 15,
           "z": 16.224
          },
          {
           "showarrow": false,
           "text": "H",
           "x": 38,
           "y": 1.881,
           "yshift": 15,
           "z": 16.411
          },
          {
           "showarrow": false,
           "text": "H",
           "x": 38.732,
           "y": -0.477,
           "yshift": 15,
           "z": 16.79
          },
          {
           "showarrow": false,
           "text": "H",
           "x": 41.08,
           "y": -1.155,
           "yshift": 15,
           "z": 16.274
          },
          {
           "showarrow": false,
           "text": "H",
           "x": 42.697,
           "y": 0.525,
           "yshift": 15,
           "z": 15.377
          },
          {
           "showarrow": false,
           "text": "H",
           "x": 41.967,
           "y": 2.883,
           "yshift": 15,
           "z": 14.997
          },
          {
           "showarrow": false,
           "text": "H",
           "x": 36.702,
           "y": 6.883,
           "yshift": 15,
           "z": 13.503
          },
          {
           "showarrow": false,
           "text": "H",
           "x": 36.768,
           "y": 5.562,
           "yshift": 15,
           "z": 14.765
          },
          {
           "showarrow": false,
           "text": "H",
           "x": 36.76,
           "y": 7.975,
           "yshift": 15,
           "z": 15.598
          },
          {
           "showarrow": false,
           "text": "H",
           "x": 38.038,
           "y": 6.85,
           "yshift": 15,
           "z": 16.223
          },
          {
           "showarrow": false,
           "text": "H",
           "x": 39.847,
           "y": 11.681,
           "yshift": 15,
           "z": 15.453
          }
         ],
         "xaxis": {
          "showbackground": false,
          "showgrid": false,
          "showticklabels": false,
          "title": {
           "font": {
            "color": "white"
           }
          },
          "zeroline": false
         },
         "yaxis": {
          "showbackground": false,
          "showgrid": false,
          "showticklabels": false,
          "title": {
           "font": {
            "color": "white"
           }
          },
          "zeroline": false
         },
         "zaxis": {
          "showbackground": false,
          "showgrid": false,
          "showticklabels": false,
          "title": {
           "font": {
            "color": "white"
           }
          },
          "zeroline": false
         }
        },
        "showlegend": false,
        "template": {
         "data": {
          "bar": [
           {
            "error_x": {
             "color": "#2a3f5f"
            },
            "error_y": {
             "color": "#2a3f5f"
            },
            "marker": {
             "line": {
              "color": "#E5ECF6",
              "width": 0.5
             },
             "pattern": {
              "fillmode": "overlay",
              "size": 10,
              "solidity": 0.2
             }
            },
            "type": "bar"
           }
          ],
          "barpolar": [
           {
            "marker": {
             "line": {
              "color": "#E5ECF6",
              "width": 0.5
             },
             "pattern": {
              "fillmode": "overlay",
              "size": 10,
              "solidity": 0.2
             }
            },
            "type": "barpolar"
           }
          ],
          "carpet": [
           {
            "aaxis": {
             "endlinecolor": "#2a3f5f",
             "gridcolor": "white",
             "linecolor": "white",
             "minorgridcolor": "white",
             "startlinecolor": "#2a3f5f"
            },
            "baxis": {
             "endlinecolor": "#2a3f5f",
             "gridcolor": "white",
             "linecolor": "white",
             "minorgridcolor": "white",
             "startlinecolor": "#2a3f5f"
            },
            "type": "carpet"
           }
          ],
          "choropleth": [
           {
            "colorbar": {
             "outlinewidth": 0,
             "ticks": ""
            },
            "type": "choropleth"
           }
          ],
          "contour": [
           {
            "colorbar": {
             "outlinewidth": 0,
             "ticks": ""
            },
            "colorscale": [
             [
              0,
              "#0d0887"
             ],
             [
              0.1111111111111111,
              "#46039f"
             ],
             [
              0.2222222222222222,
              "#7201a8"
             ],
             [
              0.3333333333333333,
              "#9c179e"
             ],
             [
              0.4444444444444444,
              "#bd3786"
             ],
             [
              0.5555555555555556,
              "#d8576b"
             ],
             [
              0.6666666666666666,
              "#ed7953"
             ],
             [
              0.7777777777777778,
              "#fb9f3a"
             ],
             [
              0.8888888888888888,
              "#fdca26"
             ],
             [
              1,
              "#f0f921"
             ]
            ],
            "type": "contour"
           }
          ],
          "contourcarpet": [
           {
            "colorbar": {
             "outlinewidth": 0,
             "ticks": ""
            },
            "type": "contourcarpet"
           }
          ],
          "heatmap": [
           {
            "colorbar": {
             "outlinewidth": 0,
             "ticks": ""
            },
            "colorscale": [
             [
              0,
              "#0d0887"
             ],
             [
              0.1111111111111111,
              "#46039f"
             ],
             [
              0.2222222222222222,
              "#7201a8"
             ],
             [
              0.3333333333333333,
              "#9c179e"
             ],
             [
              0.4444444444444444,
              "#bd3786"
             ],
             [
              0.5555555555555556,
              "#d8576b"
             ],
             [
              0.6666666666666666,
              "#ed7953"
             ],
             [
              0.7777777777777778,
              "#fb9f3a"
             ],
             [
              0.8888888888888888,
              "#fdca26"
             ],
             [
              1,
              "#f0f921"
             ]
            ],
            "type": "heatmap"
           }
          ],
          "heatmapgl": [
           {
            "colorbar": {
             "outlinewidth": 0,
             "ticks": ""
            },
            "colorscale": [
             [
              0,
              "#0d0887"
             ],
             [
              0.1111111111111111,
              "#46039f"
             ],
             [
              0.2222222222222222,
              "#7201a8"
             ],
             [
              0.3333333333333333,
              "#9c179e"
             ],
             [
              0.4444444444444444,
              "#bd3786"
             ],
             [
              0.5555555555555556,
              "#d8576b"
             ],
             [
              0.6666666666666666,
              "#ed7953"
             ],
             [
              0.7777777777777778,
              "#fb9f3a"
             ],
             [
              0.8888888888888888,
              "#fdca26"
             ],
             [
              1,
              "#f0f921"
             ]
            ],
            "type": "heatmapgl"
           }
          ],
          "histogram": [
           {
            "marker": {
             "pattern": {
              "fillmode": "overlay",
              "size": 10,
              "solidity": 0.2
             }
            },
            "type": "histogram"
           }
          ],
          "histogram2d": [
           {
            "colorbar": {
             "outlinewidth": 0,
             "ticks": ""
            },
            "colorscale": [
             [
              0,
              "#0d0887"
             ],
             [
              0.1111111111111111,
              "#46039f"
             ],
             [
              0.2222222222222222,
              "#7201a8"
             ],
             [
              0.3333333333333333,
              "#9c179e"
             ],
             [
              0.4444444444444444,
              "#bd3786"
             ],
             [
              0.5555555555555556,
              "#d8576b"
             ],
             [
              0.6666666666666666,
              "#ed7953"
             ],
             [
              0.7777777777777778,
              "#fb9f3a"
             ],
             [
              0.8888888888888888,
              "#fdca26"
             ],
             [
              1,
              "#f0f921"
             ]
            ],
            "type": "histogram2d"
           }
          ],
          "histogram2dcontour": [
           {
            "colorbar": {
             "outlinewidth": 0,
             "ticks": ""
            },
            "colorscale": [
             [
              0,
              "#0d0887"
             ],
             [
              0.1111111111111111,
              "#46039f"
             ],
             [
              0.2222222222222222,
              "#7201a8"
             ],
             [
              0.3333333333333333,
              "#9c179e"
             ],
             [
              0.4444444444444444,
              "#bd3786"
             ],
             [
              0.5555555555555556,
              "#d8576b"
             ],
             [
              0.6666666666666666,
              "#ed7953"
             ],
             [
              0.7777777777777778,
              "#fb9f3a"
             ],
             [
              0.8888888888888888,
              "#fdca26"
             ],
             [
              1,
              "#f0f921"
             ]
            ],
            "type": "histogram2dcontour"
           }
          ],
          "mesh3d": [
           {
            "colorbar": {
             "outlinewidth": 0,
             "ticks": ""
            },
            "type": "mesh3d"
           }
          ],
          "parcoords": [
           {
            "line": {
             "colorbar": {
              "outlinewidth": 0,
              "ticks": ""
             }
            },
            "type": "parcoords"
           }
          ],
          "pie": [
           {
            "automargin": true,
            "type": "pie"
           }
          ],
          "scatter": [
           {
            "fillpattern": {
             "fillmode": "overlay",
             "size": 10,
             "solidity": 0.2
            },
            "type": "scatter"
           }
          ],
          "scatter3d": [
           {
            "line": {
             "colorbar": {
              "outlinewidth": 0,
              "ticks": ""
             }
            },
            "marker": {
             "colorbar": {
              "outlinewidth": 0,
              "ticks": ""
             }
            },
            "type": "scatter3d"
           }
          ],
          "scattercarpet": [
           {
            "marker": {
             "colorbar": {
              "outlinewidth": 0,
              "ticks": ""
             }
            },
            "type": "scattercarpet"
           }
          ],
          "scattergeo": [
           {
            "marker": {
             "colorbar": {
              "outlinewidth": 0,
              "ticks": ""
             }
            },
            "type": "scattergeo"
           }
          ],
          "scattergl": [
           {
            "marker": {
             "colorbar": {
              "outlinewidth": 0,
              "ticks": ""
             }
            },
            "type": "scattergl"
           }
          ],
          "scattermapbox": [
           {
            "marker": {
             "colorbar": {
              "outlinewidth": 0,
              "ticks": ""
             }
            },
            "type": "scattermapbox"
           }
          ],
          "scatterpolar": [
           {
            "marker": {
             "colorbar": {
              "outlinewidth": 0,
              "ticks": ""
             }
            },
            "type": "scatterpolar"
           }
          ],
          "scatterpolargl": [
           {
            "marker": {
             "colorbar": {
              "outlinewidth": 0,
              "ticks": ""
             }
            },
            "type": "scatterpolargl"
           }
          ],
          "scatterternary": [
           {
            "marker": {
             "colorbar": {
              "outlinewidth": 0,
              "ticks": ""
             }
            },
            "type": "scatterternary"
           }
          ],
          "surface": [
           {
            "colorbar": {
             "outlinewidth": 0,
             "ticks": ""
            },
            "colorscale": [
             [
              0,
              "#0d0887"
             ],
             [
              0.1111111111111111,
              "#46039f"
             ],
             [
              0.2222222222222222,
              "#7201a8"
             ],
             [
              0.3333333333333333,
              "#9c179e"
             ],
             [
              0.4444444444444444,
              "#bd3786"
             ],
             [
              0.5555555555555556,
              "#d8576b"
             ],
             [
              0.6666666666666666,
              "#ed7953"
             ],
             [
              0.7777777777777778,
              "#fb9f3a"
             ],
             [
              0.8888888888888888,
              "#fdca26"
             ],
             [
              1,
              "#f0f921"
             ]
            ],
            "type": "surface"
           }
          ],
          "table": [
           {
            "cells": {
             "fill": {
              "color": "#EBF0F8"
             },
             "line": {
              "color": "white"
             }
            },
            "header": {
             "fill": {
              "color": "#C8D4E3"
             },
             "line": {
              "color": "white"
             }
            },
            "type": "table"
           }
          ]
         },
         "layout": {
          "annotationdefaults": {
           "arrowcolor": "#2a3f5f",
           "arrowhead": 0,
           "arrowwidth": 1
          },
          "autotypenumbers": "strict",
          "coloraxis": {
           "colorbar": {
            "outlinewidth": 0,
            "ticks": ""
           }
          },
          "colorscale": {
           "diverging": [
            [
             0,
             "#8e0152"
            ],
            [
             0.1,
             "#c51b7d"
            ],
            [
             0.2,
             "#de77ae"
            ],
            [
             0.3,
             "#f1b6da"
            ],
            [
             0.4,
             "#fde0ef"
            ],
            [
             0.5,
             "#f7f7f7"
            ],
            [
             0.6,
             "#e6f5d0"
            ],
            [
             0.7,
             "#b8e186"
            ],
            [
             0.8,
             "#7fbc41"
            ],
            [
             0.9,
             "#4d9221"
            ],
            [
             1,
             "#276419"
            ]
           ],
           "sequential": [
            [
             0,
             "#0d0887"
            ],
            [
             0.1111111111111111,
             "#46039f"
            ],
            [
             0.2222222222222222,
             "#7201a8"
            ],
            [
             0.3333333333333333,
             "#9c179e"
            ],
            [
             0.4444444444444444,
             "#bd3786"
            ],
            [
             0.5555555555555556,
             "#d8576b"
            ],
            [
             0.6666666666666666,
             "#ed7953"
            ],
            [
             0.7777777777777778,
             "#fb9f3a"
            ],
            [
             0.8888888888888888,
             "#fdca26"
            ],
            [
             1,
             "#f0f921"
            ]
           ],
           "sequentialminus": [
            [
             0,
             "#0d0887"
            ],
            [
             0.1111111111111111,
             "#46039f"
            ],
            [
             0.2222222222222222,
             "#7201a8"
            ],
            [
             0.3333333333333333,
             "#9c179e"
            ],
            [
             0.4444444444444444,
             "#bd3786"
            ],
            [
             0.5555555555555556,
             "#d8576b"
            ],
            [
             0.6666666666666666,
             "#ed7953"
            ],
            [
             0.7777777777777778,
             "#fb9f3a"
            ],
            [
             0.8888888888888888,
             "#fdca26"
            ],
            [
             1,
             "#f0f921"
            ]
           ]
          },
          "colorway": [
           "#636efa",
           "#EF553B",
           "#00cc96",
           "#ab63fa",
           "#FFA15A",
           "#19d3f3",
           "#FF6692",
           "#B6E880",
           "#FF97FF",
           "#FECB52"
          ],
          "font": {
           "color": "#2a3f5f"
          },
          "geo": {
           "bgcolor": "white",
           "lakecolor": "white",
           "landcolor": "#E5ECF6",
           "showlakes": true,
           "showland": true,
           "subunitcolor": "white"
          },
          "hoverlabel": {
           "align": "left"
          },
          "hovermode": "closest",
          "mapbox": {
           "style": "light"
          },
          "paper_bgcolor": "white",
          "plot_bgcolor": "#E5ECF6",
          "polar": {
           "angularaxis": {
            "gridcolor": "white",
            "linecolor": "white",
            "ticks": ""
           },
           "bgcolor": "#E5ECF6",
           "radialaxis": {
            "gridcolor": "white",
            "linecolor": "white",
            "ticks": ""
           }
          },
          "scene": {
           "xaxis": {
            "backgroundcolor": "#E5ECF6",
            "gridcolor": "white",
            "gridwidth": 2,
            "linecolor": "white",
            "showbackground": true,
            "ticks": "",
            "zerolinecolor": "white"
           },
           "yaxis": {
            "backgroundcolor": "#E5ECF6",
            "gridcolor": "white",
            "gridwidth": 2,
            "linecolor": "white",
            "showbackground": true,
            "ticks": "",
            "zerolinecolor": "white"
           },
           "zaxis": {
            "backgroundcolor": "#E5ECF6",
            "gridcolor": "white",
            "gridwidth": 2,
            "linecolor": "white",
            "showbackground": true,
            "ticks": "",
            "zerolinecolor": "white"
           }
          },
          "shapedefaults": {
           "line": {
            "color": "#2a3f5f"
           }
          },
          "ternary": {
           "aaxis": {
            "gridcolor": "white",
            "linecolor": "white",
            "ticks": ""
           },
           "baxis": {
            "gridcolor": "white",
            "linecolor": "white",
            "ticks": ""
           },
           "bgcolor": "#E5ECF6",
           "caxis": {
            "gridcolor": "white",
            "linecolor": "white",
            "ticks": ""
           }
          },
          "title": {
           "x": 0.05
          },
          "xaxis": {
           "automargin": true,
           "gridcolor": "white",
           "linecolor": "white",
           "ticks": "",
           "title": {
            "standoff": 15
           },
           "zerolinecolor": "white",
           "zerolinewidth": 2
          },
          "yaxis": {
           "automargin": true,
           "gridcolor": "white",
           "linecolor": "white",
           "ticks": "",
           "title": {
            "standoff": 15
           },
           "zerolinecolor": "white",
           "zerolinewidth": 2
          }
         }
        },
        "updatemenus": [
         {
          "buttons": [
           {
            "args": [
             {
              "scene.annotations": [
               {
                "showarrow": false,
                "text": "O",
                "x": 41.039,
                "y": 17.188,
                "yshift": 15,
                "z": 11.242
               },
               {
                "showarrow": false,
                "text": "C",
                "x": 40.735,
                "y": 17.514,
                "yshift": 15,
                "z": 12.421
               },
               {
                "showarrow": false,
                "text": "O",
                "x": 40.373,
                "y": 18.806,
                "yshift": 15,
                "z": 12.715
               },
               {
                "showarrow": false,
                "text": "C",
                "x": 40.775,
                "y": 16.529,
                "yshift": 15,
                "z": 13.51
               },
               {
                "showarrow": false,
                "text": "O",
                "x": 42.056,
                "y": 15.953,
                "yshift": 15,
                "z": 13.53
               },
               {
                "showarrow": false,
                "text": "C",
                "x": 42.358,
                "y": 15.038,
                "yshift": 15,
                "z": 14.508
               },
               {
                "showarrow": false,
                "text": "C",
                "x": 43.256,
                "y": 15.323,
                "yshift": 15,
                "z": 15.509
               },
               {
                "showarrow": false,
                "text": "C",
                "x": 43.917,
                "y": 16.597,
                "yshift": 15,
                "z": 15.777
               },
               {
                "showarrow": false,
                "text": "O",
                "x": 43.649,
                "y": 17.652,
                "yshift": 15,
                "z": 15.139
               },
               {
                "showarrow": false,
                "text": "O",
                "x": 44.856,
                "y": 16.621,
                "yshift": 15,
                "z": 16.78
               },
               {
                "showarrow": false,
                "text": "S",
                "x": 43.357,
                "y": 13.98,
                "yshift": 15,
                "z": 16.515
               },
               {
                "showarrow": false,
                "text": "C",
                "x": 42.242,
                "y": 13.02,
                "yshift": 15,
                "z": 15.683
               },
               {
                "showarrow": false,
                "text": "C",
                "x": 41.93,
                "y": 11.624,
                "yshift": 15,
                "z": 16.062
               },
               {
                "showarrow": false,
                "text": "C",
                "x": 42.944,
                "y": 10.838,
                "yshift": 15,
                "z": 16.638
               },
               {
                "showarrow": false,
                "text": "C",
                "x": 42.707,
                "y": 9.503,
                "yshift": 15,
                "z": 16.987
               },
               {
                "showarrow": false,
                "text": "C",
                "x": 41.439,
                "y": 8.945,
                "yshift": 15,
                "z": 16.773
               },
               {
                "showarrow": false,
                "text": "C",
                "x": 40.409,
                "y": 9.736,
                "yshift": 15,
                "z": 16.226
               },
               {
                "showarrow": false,
                "text": "N",
                "x": 39.103,
                "y": 9.223,
                "yshift": 15,
                "z": 15.992
               },
               {
                "showarrow": false,
                "text": "C",
                "x": 38.749,
                "y": 8.357,
                "yshift": 15,
                "z": 14.885
               },
               {
                "showarrow": false,
                "text": "C",
                "x": 39.987,
                "y": 7.552,
                "yshift": 15,
                "z": 14.535
               },
               {
                "showarrow": false,
                "text": "C",
                "x": 39.71,
                "y": 6.561,
                "yshift": 15,
                "z": 13.419
               },
               {
                "showarrow": false,
                "text": "N",
                "x": 38.481,
                "y": 5.785,
                "yshift": 15,
                "z": 13.615
               },
               {
                "showarrow": false,
                "text": "S",
                "x": 38.713,
                "y": 4.094,
                "yshift": 15,
                "z": 13.851
               },
               {
                "showarrow": false,
                "text": "O",
                "x": 37.419,
                "y": 3.343,
                "yshift": 15,
                "z": 13.936
               },
               {
                "showarrow": false,
                "text": "O",
                "x": 39.66,
                "y": 3.51,
                "yshift": 15,
                "z": 12.845
               },
               {
                "showarrow": false,
                "text": "C",
                "x": 39.5,
                "y": 3.93,
                "yshift": 15,
                "z": 15.446
               },
               {
                "showarrow": false,
                "text": "C",
                "x": 39.94,
                "y": 2.526,
                "yshift": 15,
                "z": 15.686
               },
               {
                "showarrow": false,
                "text": "C",
                "x": 39.035,
                "y": 1.583,
                "yshift": 15,
                "z": 16.185
               },
               {
                "showarrow": false,
                "text": "C",
                "x": 39.444,
                "y": 0.263,
                "yshift": 15,
                "z": 16.396
               },
               {
                "showarrow": false,
                "text": "C",
                "x": 40.758,
                "y": -0.116,
                "yshift": 15,
                "z": 16.107
               },
               {
                "showarrow": false,
                "text": "C",
                "x": 41.663,
                "y": 0.824,
                "yshift": 15,
                "z": 15.605
               },
               {
                "showarrow": false,
                "text": "C",
                "x": 41.255,
                "y": 2.144,
                "yshift": 15,
                "z": 15.393
               },
               {
                "showarrow": false,
                "text": "C",
                "x": 37.31,
                "y": 6.381,
                "yshift": 15,
                "z": 14.27
               },
               {
                "showarrow": false,
                "text": "C",
                "x": 37.661,
                "y": 7.397,
                "yshift": 15,
                "z": 15.346
               },
               {
                "showarrow": false,
                "text": "C",
                "x": 40.656,
                "y": 11.068,
                "yshift": 15,
                "z": 15.876
               },
               {
                "showarrow": false,
                "text": "C",
                "x": 41.78,
                "y": 13.756,
                "yshift": 15,
                "z": 14.586
               },
               {
                "showarrow": false,
                "text": "Br",
                "x": 40.555,
                "y": 13.098,
                "yshift": 15,
                "z": 13.269
               },
               {
                "showarrow": false,
                "text": "H",
                "x": 40.575,
                "y": 17.028,
                "yshift": 15,
                "z": 14.47
               },
               {
                "showarrow": false,
                "text": "H",
                "x": 40.01,
                "y": 15.755,
                "yshift": 15,
                "z": 13.351
               },
               {
                "showarrow": false,
                "text": "H",
                "x": 43.936,
                "y": 11.278,
                "yshift": 15,
                "z": 16.816
               },
               {
                "showarrow": false,
                "text": "H",
                "x": 43.512,
                "y": 8.895,
                "yshift": 15,
                "z": 17.426
               },
               {
                "showarrow": false,
                "text": "H",
                "x": 41.248,
                "y": 7.893,
                "yshift": 15,
                "z": 17.031
               },
               {
                "showarrow": false,
                "text": "H",
                "x": 38.358,
                "y": 9.483,
                "yshift": 15,
                "z": 16.654
               },
               {
                "showarrow": false,
                "text": "H",
                "x": 38.394,
                "y": 8.939,
                "yshift": 15,
                "z": 14.021
               },
               {
                "showarrow": false,
                "text": "H",
                "x": 40.782,
                "y": 8.24,
                "yshift": 15,
                "z": 14.213
               },
               {
                "showarrow": false,
                "text": "H",
                "x": 40.294,
                "y": 6.988,
                "yshift": 15,
                "z": 15.428
               },
               {
                "showarrow": false,
                "text": "H",
                "x": 39.624,
                "y": 7.117,
                "yshift": 15,
                "z": 12.473
               },
               {
                "showarrow": false,
                "text": "H",
                "x": 40.546,
                "y": 5.845,
                "yshift": 15,
                "z": 13.407
               },
               {
                "showarrow": false,
                "text": "H",
                "x": 40.377,
                "y": 4.593,
                "yshift": 15,
                "z": 15.483
               },
               {
                "showarrow": false,
                "text": "H",
                "x": 38.773,
                "y": 4.206,
                "yshift": 15,
                "z": 16.224
               },
               {
                "showarrow": false,
                "text": "H",
                "x": 38,
                "y": 1.881,
                "yshift": 15,
                "z": 16.411
               },
               {
                "showarrow": false,
                "text": "H",
                "x": 38.732,
                "y": -0.477,
                "yshift": 15,
                "z": 16.79
               },
               {
                "showarrow": false,
                "text": "H",
                "x": 41.08,
                "y": -1.155,
                "yshift": 15,
                "z": 16.274
               },
               {
                "showarrow": false,
                "text": "H",
                "x": 42.697,
                "y": 0.525,
                "yshift": 15,
                "z": 15.377
               },
               {
                "showarrow": false,
                "text": "H",
                "x": 41.967,
                "y": 2.883,
                "yshift": 15,
                "z": 14.997
               },
               {
                "showarrow": false,
                "text": "H",
                "x": 36.702,
                "y": 6.883,
                "yshift": 15,
                "z": 13.503
               },
               {
                "showarrow": false,
                "text": "H",
                "x": 36.768,
                "y": 5.562,
                "yshift": 15,
                "z": 14.765
               },
               {
                "showarrow": false,
                "text": "H",
                "x": 36.76,
                "y": 7.975,
                "yshift": 15,
                "z": 15.598
               },
               {
                "showarrow": false,
                "text": "H",
                "x": 38.038,
                "y": 6.85,
                "yshift": 15,
                "z": 16.223
               },
               {
                "showarrow": false,
                "text": "H",
                "x": 39.847,
                "y": 11.681,
                "yshift": 15,
                "z": 15.453
               }
              ]
             }
            ],
            "label": " Elements",
            "method": "relayout"
           },
           {
            "args": [
             {
              "scene.annotations": [
               {
                "showarrow": false,
                "text": "O1",
                "x": 41.039,
                "y": 17.188,
                "yshift": 15,
                "z": 11.242
               },
               {
                "showarrow": false,
                "text": "C1",
                "x": 40.735,
                "y": 17.514,
                "yshift": 15,
                "z": 12.421
               },
               {
                "showarrow": false,
                "text": "O2",
                "x": 40.373,
                "y": 18.806,
                "yshift": 15,
                "z": 12.715
               },
               {
                "showarrow": false,
                "text": "C2",
                "x": 40.775,
                "y": 16.529,
                "yshift": 15,
                "z": 13.51
               },
               {
                "showarrow": false,
                "text": "O3",
                "x": 42.056,
                "y": 15.953,
                "yshift": 15,
                "z": 13.53
               },
               {
                "showarrow": false,
                "text": "C3",
                "x": 42.358,
                "y": 15.038,
                "yshift": 15,
                "z": 14.508
               },
               {
                "showarrow": false,
                "text": "C4",
                "x": 43.256,
                "y": 15.323,
                "yshift": 15,
                "z": 15.509
               },
               {
                "showarrow": false,
                "text": "C5",
                "x": 43.917,
                "y": 16.597,
                "yshift": 15,
                "z": 15.777
               },
               {
                "showarrow": false,
                "text": "O4",
                "x": 43.649,
                "y": 17.652,
                "yshift": 15,
                "z": 15.139
               },
               {
                "showarrow": false,
                "text": "O5",
                "x": 44.856,
                "y": 16.621,
                "yshift": 15,
                "z": 16.78
               },
               {
                "showarrow": false,
                "text": "S1",
                "x": 43.357,
                "y": 13.98,
                "yshift": 15,
                "z": 16.515
               },
               {
                "showarrow": false,
                "text": "C6",
                "x": 42.242,
                "y": 13.02,
                "yshift": 15,
                "z": 15.683
               },
               {
                "showarrow": false,
                "text": "C7",
                "x": 41.93,
                "y": 11.624,
                "yshift": 15,
                "z": 16.062
               },
               {
                "showarrow": false,
                "text": "C8",
                "x": 42.944,
                "y": 10.838,
                "yshift": 15,
                "z": 16.638
               },
               {
                "showarrow": false,
                "text": "C9",
                "x": 42.707,
                "y": 9.503,
                "yshift": 15,
                "z": 16.987
               },
               {
                "showarrow": false,
                "text": "C10",
                "x": 41.439,
                "y": 8.945,
                "yshift": 15,
                "z": 16.773
               },
               {
                "showarrow": false,
                "text": "C11",
                "x": 40.409,
                "y": 9.736,
                "yshift": 15,
                "z": 16.226
               },
               {
                "showarrow": false,
                "text": "N1",
                "x": 39.103,
                "y": 9.223,
                "yshift": 15,
                "z": 15.992
               },
               {
                "showarrow": false,
                "text": "C12",
                "x": 38.749,
                "y": 8.357,
                "yshift": 15,
                "z": 14.885
               },
               {
                "showarrow": false,
                "text": "C13",
                "x": 39.987,
                "y": 7.552,
                "yshift": 15,
                "z": 14.535
               },
               {
                "showarrow": false,
                "text": "C14",
                "x": 39.71,
                "y": 6.561,
                "yshift": 15,
                "z": 13.419
               },
               {
                "showarrow": false,
                "text": "N2",
                "x": 38.481,
                "y": 5.785,
                "yshift": 15,
                "z": 13.615
               },
               {
                "showarrow": false,
                "text": "S2",
                "x": 38.713,
                "y": 4.094,
                "yshift": 15,
                "z": 13.851
               },
               {
                "showarrow": false,
                "text": "O6",
                "x": 37.419,
                "y": 3.343,
                "yshift": 15,
                "z": 13.936
               },
               {
                "showarrow": false,
                "text": "O7",
                "x": 39.66,
                "y": 3.51,
                "yshift": 15,
                "z": 12.845
               },
               {
                "showarrow": false,
                "text": "C15",
                "x": 39.5,
                "y": 3.93,
                "yshift": 15,
                "z": 15.446
               },
               {
                "showarrow": false,
                "text": "C16",
                "x": 39.94,
                "y": 2.526,
                "yshift": 15,
                "z": 15.686
               },
               {
                "showarrow": false,
                "text": "C17",
                "x": 39.035,
                "y": 1.583,
                "yshift": 15,
                "z": 16.185
               },
               {
                "showarrow": false,
                "text": "C18",
                "x": 39.444,
                "y": 0.263,
                "yshift": 15,
                "z": 16.396
               },
               {
                "showarrow": false,
                "text": "C19",
                "x": 40.758,
                "y": -0.116,
                "yshift": 15,
                "z": 16.107
               },
               {
                "showarrow": false,
                "text": "C20",
                "x": 41.663,
                "y": 0.824,
                "yshift": 15,
                "z": 15.605
               },
               {
                "showarrow": false,
                "text": "C21",
                "x": 41.255,
                "y": 2.144,
                "yshift": 15,
                "z": 15.393
               },
               {
                "showarrow": false,
                "text": "C22",
                "x": 37.31,
                "y": 6.381,
                "yshift": 15,
                "z": 14.27
               },
               {
                "showarrow": false,
                "text": "C23",
                "x": 37.661,
                "y": 7.397,
                "yshift": 15,
                "z": 15.346
               },
               {
                "showarrow": false,
                "text": "C24",
                "x": 40.656,
                "y": 11.068,
                "yshift": 15,
                "z": 15.876
               },
               {
                "showarrow": false,
                "text": "C25",
                "x": 41.78,
                "y": 13.756,
                "yshift": 15,
                "z": 14.586
               },
               {
                "showarrow": false,
                "text": "Br1",
                "x": 40.555,
                "y": 13.098,
                "yshift": 15,
                "z": 13.269
               },
               {
                "showarrow": false,
                "text": "H1",
                "x": 40.575,
                "y": 17.028,
                "yshift": 15,
                "z": 14.47
               },
               {
                "showarrow": false,
                "text": "H2",
                "x": 40.01,
                "y": 15.755,
                "yshift": 15,
                "z": 13.351
               },
               {
                "showarrow": false,
                "text": "H3",
                "x": 43.936,
                "y": 11.278,
                "yshift": 15,
                "z": 16.816
               },
               {
                "showarrow": false,
                "text": "H4",
                "x": 43.512,
                "y": 8.895,
                "yshift": 15,
                "z": 17.426
               },
               {
                "showarrow": false,
                "text": "H5",
                "x": 41.248,
                "y": 7.893,
                "yshift": 15,
                "z": 17.031
               },
               {
                "showarrow": false,
                "text": "H6",
                "x": 38.358,
                "y": 9.483,
                "yshift": 15,
                "z": 16.654
               },
               {
                "showarrow": false,
                "text": "H7",
                "x": 38.394,
                "y": 8.939,
                "yshift": 15,
                "z": 14.021
               },
               {
                "showarrow": false,
                "text": "H8",
                "x": 40.782,
                "y": 8.24,
                "yshift": 15,
                "z": 14.213
               },
               {
                "showarrow": false,
                "text": "H9",
                "x": 40.294,
                "y": 6.988,
                "yshift": 15,
                "z": 15.428
               },
               {
                "showarrow": false,
                "text": "H10",
                "x": 39.624,
                "y": 7.117,
                "yshift": 15,
                "z": 12.473
               },
               {
                "showarrow": false,
                "text": "H11",
                "x": 40.546,
                "y": 5.845,
                "yshift": 15,
                "z": 13.407
               },
               {
                "showarrow": false,
                "text": "H12",
                "x": 40.377,
                "y": 4.593,
                "yshift": 15,
                "z": 15.483
               },
               {
                "showarrow": false,
                "text": "H13",
                "x": 38.773,
                "y": 4.206,
                "yshift": 15,
                "z": 16.224
               },
               {
                "showarrow": false,
                "text": "H14",
                "x": 38,
                "y": 1.881,
                "yshift": 15,
                "z": 16.411
               },
               {
                "showarrow": false,
                "text": "H15",
                "x": 38.732,
                "y": -0.477,
                "yshift": 15,
                "z": 16.79
               },
               {
                "showarrow": false,
                "text": "H16",
                "x": 41.08,
                "y": -1.155,
                "yshift": 15,
                "z": 16.274
               },
               {
                "showarrow": false,
                "text": "H17",
                "x": 42.697,
                "y": 0.525,
                "yshift": 15,
                "z": 15.377
               },
               {
                "showarrow": false,
                "text": "H18",
                "x": 41.967,
                "y": 2.883,
                "yshift": 15,
                "z": 14.997
               },
               {
                "showarrow": false,
                "text": "H19",
                "x": 36.702,
                "y": 6.883,
                "yshift": 15,
                "z": 13.503
               },
               {
                "showarrow": false,
                "text": "H20",
                "x": 36.768,
                "y": 5.562,
                "yshift": 15,
                "z": 14.765
               },
               {
                "showarrow": false,
                "text": "H21",
                "x": 36.76,
                "y": 7.975,
                "yshift": 15,
                "z": 15.598
               },
               {
                "showarrow": false,
                "text": "H22",
                "x": 38.038,
                "y": 6.85,
                "yshift": 15,
                "z": 16.223
               },
               {
                "showarrow": false,
                "text": "H23",
                "x": 39.847,
                "y": 11.681,
                "yshift": 15,
                "z": 15.453
               }
              ]
             }
            ],
            "label": "Atom Name",
            "method": "relayout"
           },
           {
            "args": [
             {
              "scene.annotations": [
               {
                "showarrow": false,
                "text": "O.co2",
                "x": 41.039,
                "y": 17.188,
                "yshift": 15,
                "z": 11.242
               },
               {
                "showarrow": false,
                "text": "C.2",
                "x": 40.735,
                "y": 17.514,
                "yshift": 15,
                "z": 12.421
               },
               {
                "showarrow": false,
                "text": "O.co2",
                "x": 40.373,
                "y": 18.806,
                "yshift": 15,
                "z": 12.715
               },
               {
                "showarrow": false,
                "text": "C.3",
                "x": 40.775,
                "y": 16.529,
                "yshift": 15,
                "z": 13.51
               },
               {
                "showarrow": false,
                "text": "O.3",
                "x": 42.056,
                "y": 15.953,
                "yshift": 15,
                "z": 13.53
               },
               {
                "showarrow": false,
                "text": "C.2",
                "x": 42.358,
                "y": 15.038,
                "yshift": 15,
                "z": 14.508
               },
               {
                "showarrow": false,
                "text": "C.2",
                "x": 43.256,
                "y": 15.323,
                "yshift": 15,
                "z": 15.509
               },
               {
                "showarrow": false,
                "text": "C.2",
                "x": 43.917,
                "y": 16.597,
                "yshift": 15,
                "z": 15.777
               },
               {
                "showarrow": false,
                "text": "O.co2",
                "x": 43.649,
                "y": 17.652,
                "yshift": 15,
                "z": 15.139
               },
               {
                "showarrow": false,
                "text": "O.co2",
                "x": 44.856,
                "y": 16.621,
                "yshift": 15,
                "z": 16.78
               },
               {
                "showarrow": false,
                "text": "S.3",
                "x": 43.357,
                "y": 13.98,
                "yshift": 15,
                "z": 16.515
               },
               {
                "showarrow": false,
                "text": "C.2",
                "x": 42.242,
                "y": 13.02,
                "yshift": 15,
                "z": 15.683
               },
               {
                "showarrow": false,
                "text": "C.ar",
                "x": 41.93,
                "y": 11.624,
                "yshift": 15,
                "z": 16.062
               },
               {
                "showarrow": false,
                "text": "C.ar",
                "x": 42.944,
                "y": 10.838,
                "yshift": 15,
                "z": 16.638
               },
               {
                "showarrow": false,
                "text": "C.ar",
                "x": 42.707,
                "y": 9.503,
                "yshift": 15,
                "z": 16.987
               },
               {
                "showarrow": false,
                "text": "C.ar",
                "x": 41.439,
                "y": 8.945,
                "yshift": 15,
                "z": 16.773
               },
               {
                "showarrow": false,
                "text": "C.ar",
                "x": 40.409,
                "y": 9.736,
                "yshift": 15,
                "z": 16.226
               },
               {
                "showarrow": false,
                "text": "N.3",
                "x": 39.103,
                "y": 9.223,
                "yshift": 15,
                "z": 15.992
               },
               {
                "showarrow": false,
                "text": "C.3",
                "x": 38.749,
                "y": 8.357,
                "yshift": 15,
                "z": 14.885
               },
               {
                "showarrow": false,
                "text": "C.3",
                "x": 39.987,
                "y": 7.552,
                "yshift": 15,
                "z": 14.535
               },
               {
                "showarrow": false,
                "text": "C.3",
                "x": 39.71,
                "y": 6.561,
                "yshift": 15,
                "z": 13.419
               },
               {
                "showarrow": false,
                "text": "N.3",
                "x": 38.481,
                "y": 5.785,
                "yshift": 15,
                "z": 13.615
               },
               {
                "showarrow": false,
                "text": "S.o2",
                "x": 38.713,
                "y": 4.094,
                "yshift": 15,
                "z": 13.851
               },
               {
                "showarrow": false,
                "text": "O.2",
                "x": 37.419,
                "y": 3.343,
                "yshift": 15,
                "z": 13.936
               },
               {
                "showarrow": false,
                "text": "O.2",
                "x": 39.66,
                "y": 3.51,
                "yshift": 15,
                "z": 12.845
               },
               {
                "showarrow": false,
                "text": "C.3",
                "x": 39.5,
                "y": 3.93,
                "yshift": 15,
                "z": 15.446
               },
               {
                "showarrow": false,
                "text": "C.ar",
                "x": 39.94,
                "y": 2.526,
                "yshift": 15,
                "z": 15.686
               },
               {
                "showarrow": false,
                "text": "C.ar",
                "x": 39.035,
                "y": 1.583,
                "yshift": 15,
                "z": 16.185
               },
               {
                "showarrow": false,
                "text": "C.ar",
                "x": 39.444,
                "y": 0.263,
                "yshift": 15,
                "z": 16.396
               },
               {
                "showarrow": false,
                "text": "C.ar",
                "x": 40.758,
                "y": -0.116,
                "yshift": 15,
                "z": 16.107
               },
               {
                "showarrow": false,
                "text": "C.ar",
                "x": 41.663,
                "y": 0.824,
                "yshift": 15,
                "z": 15.605
               },
               {
                "showarrow": false,
                "text": "C.ar",
                "x": 41.255,
                "y": 2.144,
                "yshift": 15,
                "z": 15.393
               },
               {
                "showarrow": false,
                "text": "C.3",
                "x": 37.31,
                "y": 6.381,
                "yshift": 15,
                "z": 14.27
               },
               {
                "showarrow": false,
                "text": "C.3",
                "x": 37.661,
                "y": 7.397,
                "yshift": 15,
                "z": 15.346
               },
               {
                "showarrow": false,
                "text": "C.ar",
                "x": 40.656,
                "y": 11.068,
                "yshift": 15,
                "z": 15.876
               },
               {
                "showarrow": false,
                "text": "C.2",
                "x": 41.78,
                "y": 13.756,
                "yshift": 15,
                "z": 14.586
               },
               {
                "showarrow": false,
                "text": "Br",
                "x": 40.555,
                "y": 13.098,
                "yshift": 15,
                "z": 13.269
               },
               {
                "showarrow": false,
                "text": "H",
                "x": 40.575,
                "y": 17.028,
                "yshift": 15,
                "z": 14.47
               },
               {
                "showarrow": false,
                "text": "H",
                "x": 40.01,
                "y": 15.755,
                "yshift": 15,
                "z": 13.351
               },
               {
                "showarrow": false,
                "text": "H",
                "x": 43.936,
                "y": 11.278,
                "yshift": 15,
                "z": 16.816
               },
               {
                "showarrow": false,
                "text": "H",
                "x": 43.512,
                "y": 8.895,
                "yshift": 15,
                "z": 17.426
               },
               {
                "showarrow": false,
                "text": "H",
                "x": 41.248,
                "y": 7.893,
                "yshift": 15,
                "z": 17.031
               },
               {
                "showarrow": false,
                "text": "H",
                "x": 38.358,
                "y": 9.483,
                "yshift": 15,
                "z": 16.654
               },
               {
                "showarrow": false,
                "text": "H",
                "x": 38.394,
                "y": 8.939,
                "yshift": 15,
                "z": 14.021
               },
               {
                "showarrow": false,
                "text": "H",
                "x": 40.782,
                "y": 8.24,
                "yshift": 15,
                "z": 14.213
               },
               {
                "showarrow": false,
                "text": "H",
                "x": 40.294,
                "y": 6.988,
                "yshift": 15,
                "z": 15.428
               },
               {
                "showarrow": false,
                "text": "H",
                "x": 39.624,
                "y": 7.117,
                "yshift": 15,
                "z": 12.473
               },
               {
                "showarrow": false,
                "text": "H",
                "x": 40.546,
                "y": 5.845,
                "yshift": 15,
                "z": 13.407
               },
               {
                "showarrow": false,
                "text": "H",
                "x": 40.377,
                "y": 4.593,
                "yshift": 15,
                "z": 15.483
               },
               {
                "showarrow": false,
                "text": "H",
                "x": 38.773,
                "y": 4.206,
                "yshift": 15,
                "z": 16.224
               },
               {
                "showarrow": false,
                "text": "H",
                "x": 38,
                "y": 1.881,
                "yshift": 15,
                "z": 16.411
               },
               {
                "showarrow": false,
                "text": "H",
                "x": 38.732,
                "y": -0.477,
                "yshift": 15,
                "z": 16.79
               },
               {
                "showarrow": false,
                "text": "H",
                "x": 41.08,
                "y": -1.155,
                "yshift": 15,
                "z": 16.274
               },
               {
                "showarrow": false,
                "text": "H",
                "x": 42.697,
                "y": 0.525,
                "yshift": 15,
                "z": 15.377
               },
               {
                "showarrow": false,
                "text": "H",
                "x": 41.967,
                "y": 2.883,
                "yshift": 15,
                "z": 14.997
               },
               {
                "showarrow": false,
                "text": "H",
                "x": 36.702,
                "y": 6.883,
                "yshift": 15,
                "z": 13.503
               },
               {
                "showarrow": false,
                "text": "H",
                "x": 36.768,
                "y": 5.562,
                "yshift": 15,
                "z": 14.765
               },
               {
                "showarrow": false,
                "text": "H",
                "x": 36.76,
                "y": 7.975,
                "yshift": 15,
                "z": 15.598
               },
               {
                "showarrow": false,
                "text": "H",
                "x": 38.038,
                "y": 6.85,
                "yshift": 15,
                "z": 16.223
               },
               {
                "showarrow": false,
                "text": "H",
                "x": 39.847,
                "y": 11.681,
                "yshift": 15,
                "z": 15.453
               }
              ]
             }
            ],
            "label": "Atom Type",
            "method": "relayout"
           },
           {
            "args": [
             {
              "scene.annotations": [
               {
                "font": {
                 "color": "steelblue"
                },
                "showarrow": false,
                "text": "1",
                "x": 40.887,
                "y": 17.351,
                "yshift": 15,
                "z": 11.8315
               },
               {
                "font": {
                 "color": "steelblue"
                },
                "showarrow": false,
                "text": "1",
                "x": 40.554,
                "y": 18.16,
                "yshift": 15,
                "z": 12.568
               },
               {
                "font": {
                 "color": "steelblue"
                },
                "showarrow": false,
                "text": "1",
                "x": 40.754999999999995,
                "y": 17.0215,
                "yshift": 15,
                "z": 12.965499999999999
               },
               {
                "font": {
                 "color": "steelblue"
                },
                "showarrow": false,
                "text": "1",
                "x": 41.415499999999994,
                "y": 16.241,
                "yshift": 15,
                "z": 13.52
               },
               {
                "font": {
                 "color": "steelblue"
                },
                "showarrow": false,
                "text": "1",
                "x": 40.675,
                "y": 16.7785,
                "yshift": 15,
                "z": 13.99
               },
               {
                "font": {
                 "color": "steelblue"
                },
                "showarrow": false,
                "text": "2",
                "x": 40.3925,
                "y": 16.142,
                "yshift": 15,
                "z": 13.4305
               },
               {
                "font": {
                 "color": "steelblue"
                },
                "showarrow": false,
                "text": "1",
                "x": 42.206999999999994,
                "y": 15.4955,
                "yshift": 15,
                "z": 14.018999999999998
               },
               {
                "font": {
                 "color": "steelblue"
                },
                "showarrow": false,
                "text": "1",
                "x": 42.807,
                "y": 15.1805,
                "yshift": 15,
                "z": 15.0085
               },
               {
                "font": {
                 "color": "steelblue"
                },
                "showarrow": false,
                "text": "1",
                "x": 42.069,
                "y": 14.397,
                "yshift": 15,
                "z": 14.547
               },
               {
                "font": {
                 "color": "steelblue"
                },
                "showarrow": false,
                "text": "1",
                "x": 43.5865,
                "y": 15.96,
                "yshift": 15,
                "z": 15.643
               },
               {
                "font": {
                 "color": "steelblue"
                },
                "showarrow": false,
                "text": "1",
                "x": 43.3065,
                "y": 14.6515,
                "yshift": 15,
                "z": 16.012
               },
               {
                "font": {
                 "color": "steelblue"
                },
                "showarrow": false,
                "text": "1",
                "x": 43.783,
                "y": 17.1245,
                "yshift": 15,
                "z": 15.457999999999998
               },
               {
                "font": {
                 "color": "steelblue"
                },
                "showarrow": false,
                "text": "ar",
                "x": 44.3865,
                "y": 16.609,
                "yshift": 15,
                "z": 16.2785
               },
               {
                "font": {
                 "color": "steelblue"
                },
                "showarrow": false,
                "text": "ar",
                "x": 42.799499999999995,
                "y": 13.5,
                "yshift": 15,
                "z": 16.099
               },
               {
                "font": {
                 "color": "steelblue"
                },
                "showarrow": false,
                "text": "ar",
                "x": 42.086,
                "y": 12.322,
                "yshift": 15,
                "z": 15.8725
               },
               {
                "font": {
                 "color": "steelblue"
                },
                "showarrow": false,
                "text": "ar",
                "x": 42.010999999999996,
                "y": 13.388,
                "yshift": 15,
                "z": 15.1345
               },
               {
                "font": {
                 "color": "steelblue"
                },
                "showarrow": false,
                "text": "1",
                "x": 42.437,
                "y": 11.231,
                "yshift": 15,
                "z": 16.35
               },
               {
                "font": {
                 "color": "steelblue"
                },
                "showarrow": false,
                "text": "1",
                "x": 41.293,
                "y": 11.346,
                "yshift": 15,
                "z": 15.969000000000001
               },
               {
                "font": {
                 "color": "steelblue"
                },
                "showarrow": false,
                "text": "1",
                "x": 42.825500000000005,
                "y": 10.1705,
                "yshift": 15,
                "z": 16.8125
               },
               {
                "font": {
                 "color": "steelblue"
                },
                "showarrow": false,
                "text": "1",
                "x": 43.44,
                "y": 11.058,
                "yshift": 15,
                "z": 16.727
               },
               {
                "font": {
                 "color": "steelblue"
                },
                "showarrow": false,
                "text": "1",
                "x": 42.073,
                "y": 9.224,
                "yshift": 15,
                "z": 16.88
               },
               {
                "font": {
                 "color": "steelblue"
                },
                "showarrow": false,
                "text": "1",
                "x": 43.1095,
                "y": 9.199,
                "yshift": 15,
                "z": 17.2065
               },
               {
                "font": {
                 "color": "steelblue"
                },
                "showarrow": false,
                "text": "2",
                "x": 40.924,
                "y": 9.3405,
                "yshift": 15,
                "z": 16.499499999999998
               },
               {
                "font": {
                 "color": "steelblue"
                },
                "showarrow": false,
                "text": "2",
                "x": 41.3435,
                "y": 8.419,
                "yshift": 15,
                "z": 16.902
               },
               {
                "font": {
                 "color": "steelblue"
                },
                "showarrow": false,
                "text": "1",
                "x": 39.756,
                "y": 9.479500000000002,
                "yshift": 15,
                "z": 16.109
               },
               {
                "font": {
                 "color": "steelblue"
                },
                "showarrow": false,
                "text": "1",
                "x": 40.5325,
                "y": 10.402000000000001,
                "yshift": 15,
                "z": 16.051
               },
               {
                "font": {
                 "color": "steelblue"
                },
                "showarrow": false,
                "text": "ar",
                "x": 38.926,
                "y": 8.79,
                "yshift": 15,
                "z": 15.438500000000001
               },
               {
                "font": {
                 "color": "steelblue"
                },
                "showarrow": false,
                "text": "ar",
                "x": 38.7305,
                "y": 9.353000000000002,
                "yshift": 15,
                "z": 16.323
               },
               {
                "font": {
                 "color": "steelblue"
                },
                "showarrow": false,
                "text": "ar",
                "x": 39.368,
                "y": 7.9544999999999995,
                "yshift": 15,
                "z": 14.71
               },
               {
                "font": {
                 "color": "steelblue"
                },
                "showarrow": false,
                "text": "ar",
                "x": 38.205,
                "y": 7.877,
                "yshift": 15,
                "z": 15.1155
               },
               {
                "font": {
                 "color": "steelblue"
                },
                "showarrow": false,
                "text": "ar",
                "x": 38.5715,
                "y": 8.648,
                "yshift": 15,
                "z": 14.453
               },
               {
                "font": {
                 "color": "steelblue"
                },
                "showarrow": false,
                "text": "1",
                "x": 39.8485,
                "y": 7.0565,
                "yshift": 15,
                "z": 13.977
               },
               {
                "font": {
                 "color": "steelblue"
                },
                "showarrow": false,
                "text": "1",
                "x": 40.3845,
                "y": 7.896,
                "yshift": 15,
                "z": 14.373999999999999
               },
               {
                "font": {
                 "color": "steelblue"
                },
                "showarrow": false,
                "text": "ar",
                "x": 40.1405,
                "y": 7.27,
                "yshift": 15,
                "z": 14.9815
               },
               {
                "font": {
                 "color": "steelblue"
                },
                "showarrow": false,
                "text": "2",
                "x": 39.0955,
                "y": 6.173,
                "yshift": 15,
                "z": 13.517
               },
               {
                "font": {
                 "color": "steelblue"
                },
                "showarrow": false,
                "text": "1",
                "x": 39.667,
                "y": 6.839,
                "yshift": 15,
                "z": 12.946000000000002
               },
               {
                "font": {
                 "color": "steelblue"
                },
                "showarrow": false,
                "text": "1",
                "x": 40.128,
                "y": 6.202999999999999,
                "yshift": 15,
                "z": 13.413
               },
               {
                "font": {
                 "color": "steelblue"
                },
                "showarrow": false,
                "text": "ar",
                "x": 38.597,
                "y": 4.939500000000001,
                "yshift": 15,
                "z": 13.733
               },
               {
                "font": {
                 "color": "steelblue"
                },
                "showarrow": false,
                "text": "1",
                "x": 37.8955,
                "y": 6.083,
                "yshift": 15,
                "z": 13.942499999999999
               },
               {
                "font": {
                 "color": "steelblue"
                },
                "showarrow": false,
                "text": "ar",
                "x": 38.066,
                "y": 3.7185,
                "yshift": 15,
                "z": 13.8935
               },
               {
                "font": {
                 "color": "steelblue"
                },
                "showarrow": false,
                "text": "1",
                "x": 39.186499999999995,
                "y": 3.802,
                "yshift": 15,
                "z": 13.348
               },
               {
                "font": {
                 "color": "steelblue"
                },
                "showarrow": false,
                "text": "1",
                "x": 39.1065,
                "y": 4.0120000000000005,
                "yshift": 15,
                "z": 14.6485
               },
               {
                "font": {
                 "color": "steelblue"
                },
                "showarrow": false,
                "text": "1",
                "x": 39.72,
                "y": 3.2279999999999998,
                "yshift": 15,
                "z": 15.565999999999999
               },
               {
                "font": {
                 "color": "steelblue"
                },
                "showarrow": false,
                "text": "1",
                "x": 39.938500000000005,
                "y": 4.2615,
                "yshift": 15,
                "z": 15.464500000000001
               },
               {
                "font": {
                 "color": "steelblue"
                },
                "showarrow": false,
                "text": "1",
                "x": 39.1365,
                "y": 4.0680000000000005,
                "yshift": 15,
                "z": 15.835
               },
               {
                "font": {
                 "color": "steelblue"
                },
                "showarrow": false,
                "text": "1",
                "x": 39.4875,
                "y": 2.0545,
                "yshift": 15,
                "z": 15.9355
               },
               {
                "font": {
                 "color": "steelblue"
                },
                "showarrow": false,
                "text": "1",
                "x": 40.5975,
                "y": 2.335,
                "yshift": 15,
                "z": 15.5395
               },
               {
                "font": {
                 "color": "steelblue"
                },
                "showarrow": false,
                "text": "1",
                "x": 39.2395,
                "y": 0.923,
                "yshift": 15,
                "z": 16.2905
               },
               {
                "font": {
                 "color": "steelblue"
                },
                "showarrow": false,
                "text": "1",
                "x": 38.5175,
                "y": 1.732,
                "yshift": 15,
                "z": 16.298000000000002
               },
               {
                "font": {
                 "color": "steelblue"
                },
                "showarrow": false,
                "text": "1",
                "x": 40.101,
                "y": 0.07350000000000001,
                "yshift": 15,
                "z": 16.2515
               },
               {
                "font": {
                 "color": "steelblue"
                },
                "showarrow": false,
                "text": "1",
                "x": 39.088,
                "y": -0.10699999999999998,
                "yshift": 15,
                "z": 16.593
               },
               {
                "font": {
                 "color": "steelblue"
                },
                "showarrow": false,
                "text": "1",
                "x": 41.210499999999996,
                "y": 0.354,
                "yshift": 15,
                "z": 15.856
               },
               {
                "font": {
                 "color": "steelblue"
                },
                "showarrow": false,
                "text": "1",
                "x": 40.919,
                "y": -0.6355000000000001,
                "yshift": 15,
                "z": 16.1905
               },
               {
                "font": {
                 "color": "steelblue"
                },
                "showarrow": false,
                "text": "1",
                "x": 41.459,
                "y": 1.484,
                "yshift": 15,
                "z": 15.499
               },
               {
                "font": {
                 "color": "steelblue"
                },
                "showarrow": false,
                "text": "1",
                "x": 42.18,
                "y": 0.6745,
                "yshift": 15,
                "z": 15.491
               },
               {
                "font": {
                 "color": "steelblue"
                },
                "showarrow": false,
                "text": "1",
                "x": 41.611000000000004,
                "y": 2.5135,
                "yshift": 15,
                "z": 15.195
               },
               {
                "font": {
                 "color": "steelblue"
                },
                "showarrow": false,
                "text": "1",
                "x": 37.4855,
                "y": 6.889,
                "yshift": 15,
                "z": 14.808
               },
               {
                "font": {
                 "color": "steelblue"
                },
                "showarrow": false,
                "text": "1",
                "x": 37.006,
                "y": 6.632,
                "yshift": 15,
                "z": 13.8865
               },
               {
                "font": {
                 "color": "steelblue"
                },
                "showarrow": false,
                "text": "1",
                "x": 37.039,
                "y": 5.971500000000001,
                "yshift": 15,
                "z": 14.5175
               },
               {
                "font": {
                 "color": "steelblue"
                },
                "showarrow": false,
                "text": "1",
                "x": 37.210499999999996,
                "y": 7.686,
                "yshift": 15,
                "z": 15.472000000000001
               },
               {
                "font": {
                 "color": "steelblue"
                },
                "showarrow": false,
                "text": "1",
                "x": 37.8495,
                "y": 7.1235,
                "yshift": 15,
                "z": 15.7845
               },
               {
                "font": {
                 "color": "steelblue"
                },
                "showarrow": false,
                "text": "1",
                "x": 40.2515,
                "y": 11.3745,
                "yshift": 15,
                "z": 15.6645
               },
               {
                "font": {
                 "color": "steelblue"
                },
                "showarrow": false,
                "text": "1",
                "x": 41.167500000000004,
                "y": 13.427,
                "yshift": 15,
                "z": 13.9275
               }
              ]
             }
            ],
            "label": "Bond Type",
            "method": "relayout"
           },
           {
            "args": [
             {
              "scene.annotations": [
               {
                "showarrow": false,
                "text": "O",
                "x": 41.039,
                "y": 17.188,
                "yshift": 15,
                "z": 11.242
               },
               {
                "showarrow": false,
                "text": "C",
                "x": 40.735,
                "y": 17.514,
                "yshift": 15,
                "z": 12.421
               },
               {
                "showarrow": false,
                "text": "O",
                "x": 40.373,
                "y": 18.806,
                "yshift": 15,
                "z": 12.715
               },
               {
                "showarrow": false,
                "text": "C",
                "x": 40.775,
                "y": 16.529,
                "yshift": 15,
                "z": 13.51
               },
               {
                "showarrow": false,
                "text": "O",
                "x": 42.056,
                "y": 15.953,
                "yshift": 15,
                "z": 13.53
               },
               {
                "showarrow": false,
                "text": "C",
                "x": 42.358,
                "y": 15.038,
                "yshift": 15,
                "z": 14.508
               },
               {
                "showarrow": false,
                "text": "C",
                "x": 43.256,
                "y": 15.323,
                "yshift": 15,
                "z": 15.509
               },
               {
                "showarrow": false,
                "text": "C",
                "x": 43.917,
                "y": 16.597,
                "yshift": 15,
                "z": 15.777
               },
               {
                "showarrow": false,
                "text": "O",
                "x": 43.649,
                "y": 17.652,
                "yshift": 15,
                "z": 15.139
               },
               {
                "showarrow": false,
                "text": "O",
                "x": 44.856,
                "y": 16.621,
                "yshift": 15,
                "z": 16.78
               },
               {
                "showarrow": false,
                "text": "S",
                "x": 43.357,
                "y": 13.98,
                "yshift": 15,
                "z": 16.515
               },
               {
                "showarrow": false,
                "text": "C",
                "x": 42.242,
                "y": 13.02,
                "yshift": 15,
                "z": 15.683
               },
               {
                "showarrow": false,
                "text": "C",
                "x": 41.93,
                "y": 11.624,
                "yshift": 15,
                "z": 16.062
               },
               {
                "showarrow": false,
                "text": "C",
                "x": 42.944,
                "y": 10.838,
                "yshift": 15,
                "z": 16.638
               },
               {
                "showarrow": false,
                "text": "C",
                "x": 42.707,
                "y": 9.503,
                "yshift": 15,
                "z": 16.987
               },
               {
                "showarrow": false,
                "text": "C",
                "x": 41.439,
                "y": 8.945,
                "yshift": 15,
                "z": 16.773
               },
               {
                "showarrow": false,
                "text": "C",
                "x": 40.409,
                "y": 9.736,
                "yshift": 15,
                "z": 16.226
               },
               {
                "showarrow": false,
                "text": "N",
                "x": 39.103,
                "y": 9.223,
                "yshift": 15,
                "z": 15.992
               },
               {
                "showarrow": false,
                "text": "C",
                "x": 38.749,
                "y": 8.357,
                "yshift": 15,
                "z": 14.885
               },
               {
                "showarrow": false,
                "text": "C",
                "x": 39.987,
                "y": 7.552,
                "yshift": 15,
                "z": 14.535
               },
               {
                "showarrow": false,
                "text": "C",
                "x": 39.71,
                "y": 6.561,
                "yshift": 15,
                "z": 13.419
               },
               {
                "showarrow": false,
                "text": "N",
                "x": 38.481,
                "y": 5.785,
                "yshift": 15,
                "z": 13.615
               },
               {
                "showarrow": false,
                "text": "S",
                "x": 38.713,
                "y": 4.094,
                "yshift": 15,
                "z": 13.851
               },
               {
                "showarrow": false,
                "text": "O",
                "x": 37.419,
                "y": 3.343,
                "yshift": 15,
                "z": 13.936
               },
               {
                "showarrow": false,
                "text": "O",
                "x": 39.66,
                "y": 3.51,
                "yshift": 15,
                "z": 12.845
               },
               {
                "showarrow": false,
                "text": "C",
                "x": 39.5,
                "y": 3.93,
                "yshift": 15,
                "z": 15.446
               },
               {
                "showarrow": false,
                "text": "C",
                "x": 39.94,
                "y": 2.526,
                "yshift": 15,
                "z": 15.686
               },
               {
                "showarrow": false,
                "text": "C",
                "x": 39.035,
                "y": 1.583,
                "yshift": 15,
                "z": 16.185
               },
               {
                "showarrow": false,
                "text": "C",
                "x": 39.444,
                "y": 0.263,
                "yshift": 15,
                "z": 16.396
               },
               {
                "showarrow": false,
                "text": "C",
                "x": 40.758,
                "y": -0.116,
                "yshift": 15,
                "z": 16.107
               },
               {
                "showarrow": false,
                "text": "C",
                "x": 41.663,
                "y": 0.824,
                "yshift": 15,
                "z": 15.605
               },
               {
                "showarrow": false,
                "text": "C",
                "x": 41.255,
                "y": 2.144,
                "yshift": 15,
                "z": 15.393
               },
               {
                "showarrow": false,
                "text": "C",
                "x": 37.31,
                "y": 6.381,
                "yshift": 15,
                "z": 14.27
               },
               {
                "showarrow": false,
                "text": "C",
                "x": 37.661,
                "y": 7.397,
                "yshift": 15,
                "z": 15.346
               },
               {
                "showarrow": false,
                "text": "C",
                "x": 40.656,
                "y": 11.068,
                "yshift": 15,
                "z": 15.876
               },
               {
                "showarrow": false,
                "text": "C",
                "x": 41.78,
                "y": 13.756,
                "yshift": 15,
                "z": 14.586
               },
               {
                "showarrow": false,
                "text": "Br",
                "x": 40.555,
                "y": 13.098,
                "yshift": 15,
                "z": 13.269
               },
               {
                "showarrow": false,
                "text": "H",
                "x": 40.575,
                "y": 17.028,
                "yshift": 15,
                "z": 14.47
               },
               {
                "showarrow": false,
                "text": "H",
                "x": 40.01,
                "y": 15.755,
                "yshift": 15,
                "z": 13.351
               },
               {
                "showarrow": false,
                "text": "H",
                "x": 43.936,
                "y": 11.278,
                "yshift": 15,
                "z": 16.816
               },
               {
                "showarrow": false,
                "text": "H",
                "x": 43.512,
                "y": 8.895,
                "yshift": 15,
                "z": 17.426
               },
               {
                "showarrow": false,
                "text": "H",
                "x": 41.248,
                "y": 7.893,
                "yshift": 15,
                "z": 17.031
               },
               {
                "showarrow": false,
                "text": "H",
                "x": 38.358,
                "y": 9.483,
                "yshift": 15,
                "z": 16.654
               },
               {
                "showarrow": false,
                "text": "H",
                "x": 38.394,
                "y": 8.939,
                "yshift": 15,
                "z": 14.021
               },
               {
                "showarrow": false,
                "text": "H",
                "x": 40.782,
                "y": 8.24,
                "yshift": 15,
                "z": 14.213
               },
               {
                "showarrow": false,
                "text": "H",
                "x": 40.294,
                "y": 6.988,
                "yshift": 15,
                "z": 15.428
               },
               {
                "showarrow": false,
                "text": "H",
                "x": 39.624,
                "y": 7.117,
                "yshift": 15,
                "z": 12.473
               },
               {
                "showarrow": false,
                "text": "H",
                "x": 40.546,
                "y": 5.845,
                "yshift": 15,
                "z": 13.407
               },
               {
                "showarrow": false,
                "text": "H",
                "x": 40.377,
                "y": 4.593,
                "yshift": 15,
                "z": 15.483
               },
               {
                "showarrow": false,
                "text": "H",
                "x": 38.773,
                "y": 4.206,
                "yshift": 15,
                "z": 16.224
               },
               {
                "showarrow": false,
                "text": "H",
                "x": 38,
                "y": 1.881,
                "yshift": 15,
                "z": 16.411
               },
               {
                "showarrow": false,
                "text": "H",
                "x": 38.732,
                "y": -0.477,
                "yshift": 15,
                "z": 16.79
               },
               {
                "showarrow": false,
                "text": "H",
                "x": 41.08,
                "y": -1.155,
                "yshift": 15,
                "z": 16.274
               },
               {
                "showarrow": false,
                "text": "H",
                "x": 42.697,
                "y": 0.525,
                "yshift": 15,
                "z": 15.377
               },
               {
                "showarrow": false,
                "text": "H",
                "x": 41.967,
                "y": 2.883,
                "yshift": 15,
                "z": 14.997
               },
               {
                "showarrow": false,
                "text": "H",
                "x": 36.702,
                "y": 6.883,
                "yshift": 15,
                "z": 13.503
               },
               {
                "showarrow": false,
                "text": "H",
                "x": 36.768,
                "y": 5.562,
                "yshift": 15,
                "z": 14.765
               },
               {
                "showarrow": false,
                "text": "H",
                "x": 36.76,
                "y": 7.975,
                "yshift": 15,
                "z": 15.598
               },
               {
                "showarrow": false,
                "text": "H",
                "x": 38.038,
                "y": 6.85,
                "yshift": 15,
                "z": 16.223
               },
               {
                "showarrow": false,
                "text": "H",
                "x": 39.847,
                "y": 11.681,
                "yshift": 15,
                "z": 15.453
               },
               {
                "font": {
                 "color": "steelblue"
                },
                "showarrow": false,
                "text": 1.77,
                "x": 40.887,
                "y": 17.351,
                "yshift": 15,
                "z": 11.8315
               },
               {
                "font": {
                 "color": "steelblue"
                },
                "showarrow": false,
                "text": 1.77,
                "x": 40.554,
                "y": 18.16,
                "yshift": 15,
                "z": 12.568
               },
               {
                "font": {
                 "color": "steelblue"
                },
                "showarrow": false,
                "text": 1.77,
                "x": 40.754999999999995,
                "y": 17.0215,
                "yshift": 15,
                "z": 12.965499999999999
               },
               {
                "font": {
                 "color": "steelblue"
                },
                "showarrow": false,
                "text": 1.77,
                "x": 41.415499999999994,
                "y": 16.241,
                "yshift": 15,
                "z": 13.52
               },
               {
                "font": {
                 "color": "steelblue"
                },
                "showarrow": false,
                "text": 1.18,
                "x": 40.675,
                "y": 16.7785,
                "yshift": 15,
                "z": 13.99
               },
               {
                "font": {
                 "color": "steelblue"
                },
                "showarrow": false,
                "text": 1.18,
                "x": 40.3925,
                "y": 16.142,
                "yshift": 15,
                "z": 13.4305
               },
               {
                "font": {
                 "color": "steelblue"
                },
                "showarrow": false,
                "text": 1.77,
                "x": 42.206999999999994,
                "y": 15.4955,
                "yshift": 15,
                "z": 14.018999999999998
               },
               {
                "font": {
                 "color": "steelblue"
                },
                "showarrow": false,
                "text": 1.77,
                "x": 42.807,
                "y": 15.1805,
                "yshift": 15,
                "z": 15.0085
               },
               {
                "font": {
                 "color": "steelblue"
                },
                "showarrow": false,
                "text": 1.77,
                "x": 42.069,
                "y": 14.397,
                "yshift": 15,
                "z": 14.547
               },
               {
                "font": {
                 "color": "steelblue"
                },
                "showarrow": false,
                "text": 1.77,
                "x": 43.5865,
                "y": 15.96,
                "yshift": 15,
                "z": 15.643
               },
               {
                "font": {
                 "color": "steelblue"
                },
                "showarrow": false,
                "text": 2.21,
                "x": 43.3065,
                "y": 14.6515,
                "yshift": 15,
                "z": 16.012
               },
               {
                "font": {
                 "color": "steelblue"
                },
                "showarrow": false,
                "text": 1.77,
                "x": 43.783,
                "y": 17.1245,
                "yshift": 15,
                "z": 15.457999999999998
               },
               {
                "font": {
                 "color": "steelblue"
                },
                "showarrow": false,
                "text": 1.77,
                "x": 44.3865,
                "y": 16.609,
                "yshift": 15,
                "z": 16.2785
               },
               {
                "font": {
                 "color": "steelblue"
                },
                "showarrow": false,
                "text": 2.21,
                "x": 42.799499999999995,
                "y": 13.5,
                "yshift": 15,
                "z": 16.099
               },
               {
                "font": {
                 "color": "steelblue"
                },
                "showarrow": false,
                "text": 1.77,
                "x": 42.086,
                "y": 12.322,
                "yshift": 15,
                "z": 15.8725
               },
               {
                "font": {
                 "color": "steelblue"
                },
                "showarrow": false,
                "text": 1.77,
                "x": 42.010999999999996,
                "y": 13.388,
                "yshift": 15,
                "z": 15.1345
               },
               {
                "font": {
                 "color": "steelblue"
                },
                "showarrow": false,
                "text": 1.77,
                "x": 42.437,
                "y": 11.231,
                "yshift": 15,
                "z": 16.35
               },
               {
                "font": {
                 "color": "steelblue"
                },
                "showarrow": false,
                "text": 1.77,
                "x": 41.293,
                "y": 11.346,
                "yshift": 15,
                "z": 15.969000000000001
               },
               {
                "font": {
                 "color": "steelblue"
                },
                "showarrow": false,
                "text": 1.77,
                "x": 42.825500000000005,
                "y": 10.1705,
                "yshift": 15,
                "z": 16.8125
               },
               {
                "font": {
                 "color": "steelblue"
                },
                "showarrow": false,
                "text": 1.18,
                "x": 43.44,
                "y": 11.058,
                "yshift": 15,
                "z": 16.727
               },
               {
                "font": {
                 "color": "steelblue"
                },
                "showarrow": false,
                "text": 1.77,
                "x": 42.073,
                "y": 9.224,
                "yshift": 15,
                "z": 16.88
               },
               {
                "font": {
                 "color": "steelblue"
                },
                "showarrow": false,
                "text": 1.18,
                "x": 43.1095,
                "y": 9.199,
                "yshift": 15,
                "z": 17.2065
               },
               {
                "font": {
                 "color": "steelblue"
                },
                "showarrow": false,
                "text": 1.77,
                "x": 40.924,
                "y": 9.3405,
                "yshift": 15,
                "z": 16.499499999999998
               },
               {
                "font": {
                 "color": "steelblue"
                },
                "showarrow": false,
                "text": 1.18,
                "x": 41.3435,
                "y": 8.419,
                "yshift": 15,
                "z": 16.902
               },
               {
                "font": {
                 "color": "steelblue"
                },
                "showarrow": false,
                "text": 1.77,
                "x": 39.756,
                "y": 9.479500000000002,
                "yshift": 15,
                "z": 16.109
               },
               {
                "font": {
                 "color": "steelblue"
                },
                "showarrow": false,
                "text": 1.77,
                "x": 40.5325,
                "y": 10.402000000000001,
                "yshift": 15,
                "z": 16.051
               },
               {
                "font": {
                 "color": "steelblue"
                },
                "showarrow": false,
                "text": 1.77,
                "x": 38.926,
                "y": 8.79,
                "yshift": 15,
                "z": 15.438500000000001
               },
               {
                "font": {
                 "color": "steelblue"
                },
                "showarrow": false,
                "text": 1.18,
                "x": 38.7305,
                "y": 9.353000000000002,
                "yshift": 15,
                "z": 16.323
               },
               {
                "font": {
                 "color": "steelblue"
                },
                "showarrow": false,
                "text": 1.77,
                "x": 39.368,
                "y": 7.9544999999999995,
                "yshift": 15,
                "z": 14.71
               },
               {
                "font": {
                 "color": "steelblue"
                },
                "showarrow": false,
                "text": 1.77,
                "x": 38.205,
                "y": 7.877,
                "yshift": 15,
                "z": 15.1155
               },
               {
                "font": {
                 "color": "steelblue"
                },
                "showarrow": false,
                "text": 1.18,
                "x": 38.5715,
                "y": 8.648,
                "yshift": 15,
                "z": 14.453
               },
               {
                "font": {
                 "color": "steelblue"
                },
                "showarrow": false,
                "text": 1.77,
                "x": 39.8485,
                "y": 7.0565,
                "yshift": 15,
                "z": 13.977
               },
               {
                "font": {
                 "color": "steelblue"
                },
                "showarrow": false,
                "text": 1.18,
                "x": 40.3845,
                "y": 7.896,
                "yshift": 15,
                "z": 14.373999999999999
               },
               {
                "font": {
                 "color": "steelblue"
                },
                "showarrow": false,
                "text": 1.18,
                "x": 40.1405,
                "y": 7.27,
                "yshift": 15,
                "z": 14.9815
               },
               {
                "font": {
                 "color": "steelblue"
                },
                "showarrow": false,
                "text": 1.77,
                "x": 39.0955,
                "y": 6.173,
                "yshift": 15,
                "z": 13.517
               },
               {
                "font": {
                 "color": "steelblue"
                },
                "showarrow": false,
                "text": 1.18,
                "x": 39.667,
                "y": 6.839,
                "yshift": 15,
                "z": 12.946000000000002
               },
               {
                "font": {
                 "color": "steelblue"
                },
                "showarrow": false,
                "text": 1.18,
                "x": 40.128,
                "y": 6.202999999999999,
                "yshift": 15,
                "z": 13.413
               },
               {
                "font": {
                 "color": "steelblue"
                },
                "showarrow": false,
                "text": 2.21,
                "x": 38.597,
                "y": 4.939500000000001,
                "yshift": 15,
                "z": 13.733
               },
               {
                "font": {
                 "color": "steelblue"
                },
                "showarrow": false,
                "text": 1.77,
                "x": 37.8955,
                "y": 6.083,
                "yshift": 15,
                "z": 13.942499999999999
               },
               {
                "font": {
                 "color": "steelblue"
                },
                "showarrow": false,
                "text": 2.21,
                "x": 38.066,
                "y": 3.7185,
                "yshift": 15,
                "z": 13.8935
               },
               {
                "font": {
                 "color": "steelblue"
                },
                "showarrow": false,
                "text": 2.21,
                "x": 39.186499999999995,
                "y": 3.802,
                "yshift": 15,
                "z": 13.348
               },
               {
                "font": {
                 "color": "steelblue"
                },
                "showarrow": false,
                "text": 2.21,
                "x": 39.1065,
                "y": 4.0120000000000005,
                "yshift": 15,
                "z": 14.6485
               },
               {
                "font": {
                 "color": "steelblue"
                },
                "showarrow": false,
                "text": 1.77,
                "x": 39.72,
                "y": 3.2279999999999998,
                "yshift": 15,
                "z": 15.565999999999999
               },
               {
                "font": {
                 "color": "steelblue"
                },
                "showarrow": false,
                "text": 1.18,
                "x": 39.938500000000005,
                "y": 4.2615,
                "yshift": 15,
                "z": 15.464500000000001
               },
               {
                "font": {
                 "color": "steelblue"
                },
                "showarrow": false,
                "text": 1.18,
                "x": 39.1365,
                "y": 4.0680000000000005,
                "yshift": 15,
                "z": 15.835
               },
               {
                "font": {
                 "color": "steelblue"
                },
                "showarrow": false,
                "text": 1.77,
                "x": 39.4875,
                "y": 2.0545,
                "yshift": 15,
                "z": 15.9355
               },
               {
                "font": {
                 "color": "steelblue"
                },
                "showarrow": false,
                "text": 1.77,
                "x": 40.5975,
                "y": 2.335,
                "yshift": 15,
                "z": 15.5395
               },
               {
                "font": {
                 "color": "steelblue"
                },
                "showarrow": false,
                "text": 1.77,
                "x": 39.2395,
                "y": 0.923,
                "yshift": 15,
                "z": 16.2905
               },
               {
                "font": {
                 "color": "steelblue"
                },
                "showarrow": false,
                "text": 1.18,
                "x": 38.5175,
                "y": 1.732,
                "yshift": 15,
                "z": 16.298000000000002
               },
               {
                "font": {
                 "color": "steelblue"
                },
                "showarrow": false,
                "text": 1.77,
                "x": 40.101,
                "y": 0.07350000000000001,
                "yshift": 15,
                "z": 16.2515
               },
               {
                "font": {
                 "color": "steelblue"
                },
                "showarrow": false,
                "text": 1.18,
                "x": 39.088,
                "y": -0.10699999999999998,
                "yshift": 15,
                "z": 16.593
               },
               {
                "font": {
                 "color": "steelblue"
                },
                "showarrow": false,
                "text": 1.77,
                "x": 41.210499999999996,
                "y": 0.354,
                "yshift": 15,
                "z": 15.856
               },
               {
                "font": {
                 "color": "steelblue"
                },
                "showarrow": false,
                "text": 1.18,
                "x": 40.919,
                "y": -0.6355000000000001,
                "yshift": 15,
                "z": 16.1905
               },
               {
                "font": {
                 "color": "steelblue"
                },
                "showarrow": false,
                "text": 1.77,
                "x": 41.459,
                "y": 1.484,
                "yshift": 15,
                "z": 15.499
               },
               {
                "font": {
                 "color": "steelblue"
                },
                "showarrow": false,
                "text": 1.18,
                "x": 42.18,
                "y": 0.6745,
                "yshift": 15,
                "z": 15.491
               },
               {
                "font": {
                 "color": "steelblue"
                },
                "showarrow": false,
                "text": 1.18,
                "x": 41.611000000000004,
                "y": 2.5135,
                "yshift": 15,
                "z": 15.195
               },
               {
                "font": {
                 "color": "steelblue"
                },
                "showarrow": false,
                "text": 1.77,
                "x": 37.4855,
                "y": 6.889,
                "yshift": 15,
                "z": 14.808
               },
               {
                "font": {
                 "color": "steelblue"
                },
                "showarrow": false,
                "text": 1.18,
                "x": 37.006,
                "y": 6.632,
                "yshift": 15,
                "z": 13.8865
               },
               {
                "font": {
                 "color": "steelblue"
                },
                "showarrow": false,
                "text": 1.18,
                "x": 37.039,
                "y": 5.971500000000001,
                "yshift": 15,
                "z": 14.5175
               },
               {
                "font": {
                 "color": "steelblue"
                },
                "showarrow": false,
                "text": 1.18,
                "x": 37.210499999999996,
                "y": 7.686,
                "yshift": 15,
                "z": 15.472000000000001
               },
               {
                "font": {
                 "color": "steelblue"
                },
                "showarrow": false,
                "text": 1.18,
                "x": 37.8495,
                "y": 7.1235,
                "yshift": 15,
                "z": 15.7845
               },
               {
                "font": {
                 "color": "steelblue"
                },
                "showarrow": false,
                "text": 1.18,
                "x": 40.2515,
                "y": 11.3745,
                "yshift": 15,
                "z": 15.6645
               },
               {
                "font": {
                 "color": "steelblue"
                },
                "showarrow": false,
                "text": 2.46,
                "x": 41.167500000000004,
                "y": 13.427,
                "yshift": 15,
                "z": 13.9275
               }
              ]
             }
            ],
            "label": " Elements & Bond Lengths",
            "method": "relayout"
           },
           {
            "args": [
             {
              "scene.annotations": [
               {
                "showarrow": false,
                "text": 0,
                "x": 41.039,
                "y": 17.188,
                "yshift": 15,
                "z": 11.242
               },
               {
                "showarrow": false,
                "text": 1,
                "x": 40.735,
                "y": 17.514,
                "yshift": 15,
                "z": 12.421
               },
               {
                "showarrow": false,
                "text": 2,
                "x": 40.373,
                "y": 18.806,
                "yshift": 15,
                "z": 12.715
               },
               {
                "showarrow": false,
                "text": 3,
                "x": 40.775,
                "y": 16.529,
                "yshift": 15,
                "z": 13.51
               },
               {
                "showarrow": false,
                "text": 4,
                "x": 42.056,
                "y": 15.953,
                "yshift": 15,
                "z": 13.53
               },
               {
                "showarrow": false,
                "text": 5,
                "x": 42.358,
                "y": 15.038,
                "yshift": 15,
                "z": 14.508
               },
               {
                "showarrow": false,
                "text": 6,
                "x": 43.256,
                "y": 15.323,
                "yshift": 15,
                "z": 15.509
               },
               {
                "showarrow": false,
                "text": 7,
                "x": 43.917,
                "y": 16.597,
                "yshift": 15,
                "z": 15.777
               },
               {
                "showarrow": false,
                "text": 8,
                "x": 43.649,
                "y": 17.652,
                "yshift": 15,
                "z": 15.139
               },
               {
                "showarrow": false,
                "text": 9,
                "x": 44.856,
                "y": 16.621,
                "yshift": 15,
                "z": 16.78
               },
               {
                "showarrow": false,
                "text": 10,
                "x": 43.357,
                "y": 13.98,
                "yshift": 15,
                "z": 16.515
               },
               {
                "showarrow": false,
                "text": 11,
                "x": 42.242,
                "y": 13.02,
                "yshift": 15,
                "z": 15.683
               },
               {
                "showarrow": false,
                "text": 12,
                "x": 41.93,
                "y": 11.624,
                "yshift": 15,
                "z": 16.062
               },
               {
                "showarrow": false,
                "text": 13,
                "x": 42.944,
                "y": 10.838,
                "yshift": 15,
                "z": 16.638
               },
               {
                "showarrow": false,
                "text": 14,
                "x": 42.707,
                "y": 9.503,
                "yshift": 15,
                "z": 16.987
               },
               {
                "showarrow": false,
                "text": 15,
                "x": 41.439,
                "y": 8.945,
                "yshift": 15,
                "z": 16.773
               },
               {
                "showarrow": false,
                "text": 16,
                "x": 40.409,
                "y": 9.736,
                "yshift": 15,
                "z": 16.226
               },
               {
                "showarrow": false,
                "text": 17,
                "x": 39.103,
                "y": 9.223,
                "yshift": 15,
                "z": 15.992
               },
               {
                "showarrow": false,
                "text": 18,
                "x": 38.749,
                "y": 8.357,
                "yshift": 15,
                "z": 14.885
               },
               {
                "showarrow": false,
                "text": 19,
                "x": 39.987,
                "y": 7.552,
                "yshift": 15,
                "z": 14.535
               },
               {
                "showarrow": false,
                "text": 20,
                "x": 39.71,
                "y": 6.561,
                "yshift": 15,
                "z": 13.419
               },
               {
                "showarrow": false,
                "text": 21,
                "x": 38.481,
                "y": 5.785,
                "yshift": 15,
                "z": 13.615
               },
               {
                "showarrow": false,
                "text": 22,
                "x": 38.713,
                "y": 4.094,
                "yshift": 15,
                "z": 13.851
               },
               {
                "showarrow": false,
                "text": 23,
                "x": 37.419,
                "y": 3.343,
                "yshift": 15,
                "z": 13.936
               },
               {
                "showarrow": false,
                "text": 24,
                "x": 39.66,
                "y": 3.51,
                "yshift": 15,
                "z": 12.845
               },
               {
                "showarrow": false,
                "text": 25,
                "x": 39.5,
                "y": 3.93,
                "yshift": 15,
                "z": 15.446
               },
               {
                "showarrow": false,
                "text": 26,
                "x": 39.94,
                "y": 2.526,
                "yshift": 15,
                "z": 15.686
               },
               {
                "showarrow": false,
                "text": 27,
                "x": 39.035,
                "y": 1.583,
                "yshift": 15,
                "z": 16.185
               },
               {
                "showarrow": false,
                "text": 28,
                "x": 39.444,
                "y": 0.263,
                "yshift": 15,
                "z": 16.396
               },
               {
                "showarrow": false,
                "text": 29,
                "x": 40.758,
                "y": -0.116,
                "yshift": 15,
                "z": 16.107
               },
               {
                "showarrow": false,
                "text": 30,
                "x": 41.663,
                "y": 0.824,
                "yshift": 15,
                "z": 15.605
               },
               {
                "showarrow": false,
                "text": 31,
                "x": 41.255,
                "y": 2.144,
                "yshift": 15,
                "z": 15.393
               },
               {
                "showarrow": false,
                "text": 32,
                "x": 37.31,
                "y": 6.381,
                "yshift": 15,
                "z": 14.27
               },
               {
                "showarrow": false,
                "text": 33,
                "x": 37.661,
                "y": 7.397,
                "yshift": 15,
                "z": 15.346
               },
               {
                "showarrow": false,
                "text": 34,
                "x": 40.656,
                "y": 11.068,
                "yshift": 15,
                "z": 15.876
               },
               {
                "showarrow": false,
                "text": 35,
                "x": 41.78,
                "y": 13.756,
                "yshift": 15,
                "z": 14.586
               },
               {
                "showarrow": false,
                "text": 36,
                "x": 40.555,
                "y": 13.098,
                "yshift": 15,
                "z": 13.269
               },
               {
                "showarrow": false,
                "text": 37,
                "x": 40.575,
                "y": 17.028,
                "yshift": 15,
                "z": 14.47
               },
               {
                "showarrow": false,
                "text": 38,
                "x": 40.01,
                "y": 15.755,
                "yshift": 15,
                "z": 13.351
               },
               {
                "showarrow": false,
                "text": 39,
                "x": 43.936,
                "y": 11.278,
                "yshift": 15,
                "z": 16.816
               },
               {
                "showarrow": false,
                "text": 40,
                "x": 43.512,
                "y": 8.895,
                "yshift": 15,
                "z": 17.426
               },
               {
                "showarrow": false,
                "text": 41,
                "x": 41.248,
                "y": 7.893,
                "yshift": 15,
                "z": 17.031
               },
               {
                "showarrow": false,
                "text": 42,
                "x": 38.358,
                "y": 9.483,
                "yshift": 15,
                "z": 16.654
               },
               {
                "showarrow": false,
                "text": 43,
                "x": 38.394,
                "y": 8.939,
                "yshift": 15,
                "z": 14.021
               },
               {
                "showarrow": false,
                "text": 44,
                "x": 40.782,
                "y": 8.24,
                "yshift": 15,
                "z": 14.213
               },
               {
                "showarrow": false,
                "text": 45,
                "x": 40.294,
                "y": 6.988,
                "yshift": 15,
                "z": 15.428
               },
               {
                "showarrow": false,
                "text": 46,
                "x": 39.624,
                "y": 7.117,
                "yshift": 15,
                "z": 12.473
               },
               {
                "showarrow": false,
                "text": 47,
                "x": 40.546,
                "y": 5.845,
                "yshift": 15,
                "z": 13.407
               },
               {
                "showarrow": false,
                "text": 48,
                "x": 40.377,
                "y": 4.593,
                "yshift": 15,
                "z": 15.483
               },
               {
                "showarrow": false,
                "text": 49,
                "x": 38.773,
                "y": 4.206,
                "yshift": 15,
                "z": 16.224
               },
               {
                "showarrow": false,
                "text": 50,
                "x": 38,
                "y": 1.881,
                "yshift": 15,
                "z": 16.411
               },
               {
                "showarrow": false,
                "text": 51,
                "x": 38.732,
                "y": -0.477,
                "yshift": 15,
                "z": 16.79
               },
               {
                "showarrow": false,
                "text": 52,
                "x": 41.08,
                "y": -1.155,
                "yshift": 15,
                "z": 16.274
               },
               {
                "showarrow": false,
                "text": 53,
                "x": 42.697,
                "y": 0.525,
                "yshift": 15,
                "z": 15.377
               },
               {
                "showarrow": false,
                "text": 54,
                "x": 41.967,
                "y": 2.883,
                "yshift": 15,
                "z": 14.997
               },
               {
                "showarrow": false,
                "text": 55,
                "x": 36.702,
                "y": 6.883,
                "yshift": 15,
                "z": 13.503
               },
               {
                "showarrow": false,
                "text": 56,
                "x": 36.768,
                "y": 5.562,
                "yshift": 15,
                "z": 14.765
               },
               {
                "showarrow": false,
                "text": 57,
                "x": 36.76,
                "y": 7.975,
                "yshift": 15,
                "z": 15.598
               },
               {
                "showarrow": false,
                "text": 58,
                "x": 38.038,
                "y": 6.85,
                "yshift": 15,
                "z": 16.223
               },
               {
                "showarrow": false,
                "text": 59,
                "x": 39.847,
                "y": 11.681,
                "yshift": 15,
                "z": 15.453
               }
              ]
             }
            ],
            "label": "Indices",
            "method": "relayout"
           },
           {
            "args": [
             {
              "scene.annotations": [
               {
                "showarrow": false,
                "text": 0,
                "x": 41.039,
                "y": 17.188,
                "yshift": 15,
                "z": 11.242
               },
               {
                "showarrow": false,
                "text": 1,
                "x": 40.735,
                "y": 17.514,
                "yshift": 15,
                "z": 12.421
               },
               {
                "showarrow": false,
                "text": 2,
                "x": 40.373,
                "y": 18.806,
                "yshift": 15,
                "z": 12.715
               },
               {
                "showarrow": false,
                "text": 3,
                "x": 40.775,
                "y": 16.529,
                "yshift": 15,
                "z": 13.51
               },
               {
                "showarrow": false,
                "text": 4,
                "x": 42.056,
                "y": 15.953,
                "yshift": 15,
                "z": 13.53
               },
               {
                "showarrow": false,
                "text": 5,
                "x": 42.358,
                "y": 15.038,
                "yshift": 15,
                "z": 14.508
               },
               {
                "showarrow": false,
                "text": 6,
                "x": 43.256,
                "y": 15.323,
                "yshift": 15,
                "z": 15.509
               },
               {
                "showarrow": false,
                "text": 7,
                "x": 43.917,
                "y": 16.597,
                "yshift": 15,
                "z": 15.777
               },
               {
                "showarrow": false,
                "text": 8,
                "x": 43.649,
                "y": 17.652,
                "yshift": 15,
                "z": 15.139
               },
               {
                "showarrow": false,
                "text": 9,
                "x": 44.856,
                "y": 16.621,
                "yshift": 15,
                "z": 16.78
               },
               {
                "showarrow": false,
                "text": 10,
                "x": 43.357,
                "y": 13.98,
                "yshift": 15,
                "z": 16.515
               },
               {
                "showarrow": false,
                "text": 11,
                "x": 42.242,
                "y": 13.02,
                "yshift": 15,
                "z": 15.683
               },
               {
                "showarrow": false,
                "text": 12,
                "x": 41.93,
                "y": 11.624,
                "yshift": 15,
                "z": 16.062
               },
               {
                "showarrow": false,
                "text": 13,
                "x": 42.944,
                "y": 10.838,
                "yshift": 15,
                "z": 16.638
               },
               {
                "showarrow": false,
                "text": 14,
                "x": 42.707,
                "y": 9.503,
                "yshift": 15,
                "z": 16.987
               },
               {
                "showarrow": false,
                "text": 15,
                "x": 41.439,
                "y": 8.945,
                "yshift": 15,
                "z": 16.773
               },
               {
                "showarrow": false,
                "text": 16,
                "x": 40.409,
                "y": 9.736,
                "yshift": 15,
                "z": 16.226
               },
               {
                "showarrow": false,
                "text": 17,
                "x": 39.103,
                "y": 9.223,
                "yshift": 15,
                "z": 15.992
               },
               {
                "showarrow": false,
                "text": 18,
                "x": 38.749,
                "y": 8.357,
                "yshift": 15,
                "z": 14.885
               },
               {
                "showarrow": false,
                "text": 19,
                "x": 39.987,
                "y": 7.552,
                "yshift": 15,
                "z": 14.535
               },
               {
                "showarrow": false,
                "text": 20,
                "x": 39.71,
                "y": 6.561,
                "yshift": 15,
                "z": 13.419
               },
               {
                "showarrow": false,
                "text": 21,
                "x": 38.481,
                "y": 5.785,
                "yshift": 15,
                "z": 13.615
               },
               {
                "showarrow": false,
                "text": 22,
                "x": 38.713,
                "y": 4.094,
                "yshift": 15,
                "z": 13.851
               },
               {
                "showarrow": false,
                "text": 23,
                "x": 37.419,
                "y": 3.343,
                "yshift": 15,
                "z": 13.936
               },
               {
                "showarrow": false,
                "text": 24,
                "x": 39.66,
                "y": 3.51,
                "yshift": 15,
                "z": 12.845
               },
               {
                "showarrow": false,
                "text": 25,
                "x": 39.5,
                "y": 3.93,
                "yshift": 15,
                "z": 15.446
               },
               {
                "showarrow": false,
                "text": 26,
                "x": 39.94,
                "y": 2.526,
                "yshift": 15,
                "z": 15.686
               },
               {
                "showarrow": false,
                "text": 27,
                "x": 39.035,
                "y": 1.583,
                "yshift": 15,
                "z": 16.185
               },
               {
                "showarrow": false,
                "text": 28,
                "x": 39.444,
                "y": 0.263,
                "yshift": 15,
                "z": 16.396
               },
               {
                "showarrow": false,
                "text": 29,
                "x": 40.758,
                "y": -0.116,
                "yshift": 15,
                "z": 16.107
               },
               {
                "showarrow": false,
                "text": 30,
                "x": 41.663,
                "y": 0.824,
                "yshift": 15,
                "z": 15.605
               },
               {
                "showarrow": false,
                "text": 31,
                "x": 41.255,
                "y": 2.144,
                "yshift": 15,
                "z": 15.393
               },
               {
                "showarrow": false,
                "text": 32,
                "x": 37.31,
                "y": 6.381,
                "yshift": 15,
                "z": 14.27
               },
               {
                "showarrow": false,
                "text": 33,
                "x": 37.661,
                "y": 7.397,
                "yshift": 15,
                "z": 15.346
               },
               {
                "showarrow": false,
                "text": 34,
                "x": 40.656,
                "y": 11.068,
                "yshift": 15,
                "z": 15.876
               },
               {
                "showarrow": false,
                "text": 35,
                "x": 41.78,
                "y": 13.756,
                "yshift": 15,
                "z": 14.586
               },
               {
                "showarrow": false,
                "text": 36,
                "x": 40.555,
                "y": 13.098,
                "yshift": 15,
                "z": 13.269
               },
               {
                "showarrow": false,
                "text": 37,
                "x": 40.575,
                "y": 17.028,
                "yshift": 15,
                "z": 14.47
               },
               {
                "showarrow": false,
                "text": 38,
                "x": 40.01,
                "y": 15.755,
                "yshift": 15,
                "z": 13.351
               },
               {
                "showarrow": false,
                "text": 39,
                "x": 43.936,
                "y": 11.278,
                "yshift": 15,
                "z": 16.816
               },
               {
                "showarrow": false,
                "text": 40,
                "x": 43.512,
                "y": 8.895,
                "yshift": 15,
                "z": 17.426
               },
               {
                "showarrow": false,
                "text": 41,
                "x": 41.248,
                "y": 7.893,
                "yshift": 15,
                "z": 17.031
               },
               {
                "showarrow": false,
                "text": 42,
                "x": 38.358,
                "y": 9.483,
                "yshift": 15,
                "z": 16.654
               },
               {
                "showarrow": false,
                "text": 43,
                "x": 38.394,
                "y": 8.939,
                "yshift": 15,
                "z": 14.021
               },
               {
                "showarrow": false,
                "text": 44,
                "x": 40.782,
                "y": 8.24,
                "yshift": 15,
                "z": 14.213
               },
               {
                "showarrow": false,
                "text": 45,
                "x": 40.294,
                "y": 6.988,
                "yshift": 15,
                "z": 15.428
               },
               {
                "showarrow": false,
                "text": 46,
                "x": 39.624,
                "y": 7.117,
                "yshift": 15,
                "z": 12.473
               },
               {
                "showarrow": false,
                "text": 47,
                "x": 40.546,
                "y": 5.845,
                "yshift": 15,
                "z": 13.407
               },
               {
                "showarrow": false,
                "text": 48,
                "x": 40.377,
                "y": 4.593,
                "yshift": 15,
                "z": 15.483
               },
               {
                "showarrow": false,
                "text": 49,
                "x": 38.773,
                "y": 4.206,
                "yshift": 15,
                "z": 16.224
               },
               {
                "showarrow": false,
                "text": 50,
                "x": 38,
                "y": 1.881,
                "yshift": 15,
                "z": 16.411
               },
               {
                "showarrow": false,
                "text": 51,
                "x": 38.732,
                "y": -0.477,
                "yshift": 15,
                "z": 16.79
               },
               {
                "showarrow": false,
                "text": 52,
                "x": 41.08,
                "y": -1.155,
                "yshift": 15,
                "z": 16.274
               },
               {
                "showarrow": false,
                "text": 53,
                "x": 42.697,
                "y": 0.525,
                "yshift": 15,
                "z": 15.377
               },
               {
                "showarrow": false,
                "text": 54,
                "x": 41.967,
                "y": 2.883,
                "yshift": 15,
                "z": 14.997
               },
               {
                "showarrow": false,
                "text": 55,
                "x": 36.702,
                "y": 6.883,
                "yshift": 15,
                "z": 13.503
               },
               {
                "showarrow": false,
                "text": 56,
                "x": 36.768,
                "y": 5.562,
                "yshift": 15,
                "z": 14.765
               },
               {
                "showarrow": false,
                "text": 57,
                "x": 36.76,
                "y": 7.975,
                "yshift": 15,
                "z": 15.598
               },
               {
                "showarrow": false,
                "text": 58,
                "x": 38.038,
                "y": 6.85,
                "yshift": 15,
                "z": 16.223
               },
               {
                "showarrow": false,
                "text": 59,
                "x": 39.847,
                "y": 11.681,
                "yshift": 15,
                "z": 15.453
               },
               {
                "font": {
                 "color": "steelblue"
                },
                "showarrow": false,
                "text": 1.77,
                "x": 40.887,
                "y": 17.351,
                "yshift": 15,
                "z": 11.8315
               },
               {
                "font": {
                 "color": "steelblue"
                },
                "showarrow": false,
                "text": 1.77,
                "x": 40.554,
                "y": 18.16,
                "yshift": 15,
                "z": 12.568
               },
               {
                "font": {
                 "color": "steelblue"
                },
                "showarrow": false,
                "text": 1.77,
                "x": 40.754999999999995,
                "y": 17.0215,
                "yshift": 15,
                "z": 12.965499999999999
               },
               {
                "font": {
                 "color": "steelblue"
                },
                "showarrow": false,
                "text": 1.77,
                "x": 41.415499999999994,
                "y": 16.241,
                "yshift": 15,
                "z": 13.52
               },
               {
                "font": {
                 "color": "steelblue"
                },
                "showarrow": false,
                "text": 1.18,
                "x": 40.675,
                "y": 16.7785,
                "yshift": 15,
                "z": 13.99
               },
               {
                "font": {
                 "color": "steelblue"
                },
                "showarrow": false,
                "text": 1.18,
                "x": 40.3925,
                "y": 16.142,
                "yshift": 15,
                "z": 13.4305
               },
               {
                "font": {
                 "color": "steelblue"
                },
                "showarrow": false,
                "text": 1.77,
                "x": 42.206999999999994,
                "y": 15.4955,
                "yshift": 15,
                "z": 14.018999999999998
               },
               {
                "font": {
                 "color": "steelblue"
                },
                "showarrow": false,
                "text": 1.77,
                "x": 42.807,
                "y": 15.1805,
                "yshift": 15,
                "z": 15.0085
               },
               {
                "font": {
                 "color": "steelblue"
                },
                "showarrow": false,
                "text": 1.77,
                "x": 42.069,
                "y": 14.397,
                "yshift": 15,
                "z": 14.547
               },
               {
                "font": {
                 "color": "steelblue"
                },
                "showarrow": false,
                "text": 1.77,
                "x": 43.5865,
                "y": 15.96,
                "yshift": 15,
                "z": 15.643
               },
               {
                "font": {
                 "color": "steelblue"
                },
                "showarrow": false,
                "text": 2.21,
                "x": 43.3065,
                "y": 14.6515,
                "yshift": 15,
                "z": 16.012
               },
               {
                "font": {
                 "color": "steelblue"
                },
                "showarrow": false,
                "text": 1.77,
                "x": 43.783,
                "y": 17.1245,
                "yshift": 15,
                "z": 15.457999999999998
               },
               {
                "font": {
                 "color": "steelblue"
                },
                "showarrow": false,
                "text": 1.77,
                "x": 44.3865,
                "y": 16.609,
                "yshift": 15,
                "z": 16.2785
               },
               {
                "font": {
                 "color": "steelblue"
                },
                "showarrow": false,
                "text": 2.21,
                "x": 42.799499999999995,
                "y": 13.5,
                "yshift": 15,
                "z": 16.099
               },
               {
                "font": {
                 "color": "steelblue"
                },
                "showarrow": false,
                "text": 1.77,
                "x": 42.086,
                "y": 12.322,
                "yshift": 15,
                "z": 15.8725
               },
               {
                "font": {
                 "color": "steelblue"
                },
                "showarrow": false,
                "text": 1.77,
                "x": 42.010999999999996,
                "y": 13.388,
                "yshift": 15,
                "z": 15.1345
               },
               {
                "font": {
                 "color": "steelblue"
                },
                "showarrow": false,
                "text": 1.77,
                "x": 42.437,
                "y": 11.231,
                "yshift": 15,
                "z": 16.35
               },
               {
                "font": {
                 "color": "steelblue"
                },
                "showarrow": false,
                "text": 1.77,
                "x": 41.293,
                "y": 11.346,
                "yshift": 15,
                "z": 15.969000000000001
               },
               {
                "font": {
                 "color": "steelblue"
                },
                "showarrow": false,
                "text": 1.77,
                "x": 42.825500000000005,
                "y": 10.1705,
                "yshift": 15,
                "z": 16.8125
               },
               {
                "font": {
                 "color": "steelblue"
                },
                "showarrow": false,
                "text": 1.18,
                "x": 43.44,
                "y": 11.058,
                "yshift": 15,
                "z": 16.727
               },
               {
                "font": {
                 "color": "steelblue"
                },
                "showarrow": false,
                "text": 1.77,
                "x": 42.073,
                "y": 9.224,
                "yshift": 15,
                "z": 16.88
               },
               {
                "font": {
                 "color": "steelblue"
                },
                "showarrow": false,
                "text": 1.18,
                "x": 43.1095,
                "y": 9.199,
                "yshift": 15,
                "z": 17.2065
               },
               {
                "font": {
                 "color": "steelblue"
                },
                "showarrow": false,
                "text": 1.77,
                "x": 40.924,
                "y": 9.3405,
                "yshift": 15,
                "z": 16.499499999999998
               },
               {
                "font": {
                 "color": "steelblue"
                },
                "showarrow": false,
                "text": 1.18,
                "x": 41.3435,
                "y": 8.419,
                "yshift": 15,
                "z": 16.902
               },
               {
                "font": {
                 "color": "steelblue"
                },
                "showarrow": false,
                "text": 1.77,
                "x": 39.756,
                "y": 9.479500000000002,
                "yshift": 15,
                "z": 16.109
               },
               {
                "font": {
                 "color": "steelblue"
                },
                "showarrow": false,
                "text": 1.77,
                "x": 40.5325,
                "y": 10.402000000000001,
                "yshift": 15,
                "z": 16.051
               },
               {
                "font": {
                 "color": "steelblue"
                },
                "showarrow": false,
                "text": 1.77,
                "x": 38.926,
                "y": 8.79,
                "yshift": 15,
                "z": 15.438500000000001
               },
               {
                "font": {
                 "color": "steelblue"
                },
                "showarrow": false,
                "text": 1.18,
                "x": 38.7305,
                "y": 9.353000000000002,
                "yshift": 15,
                "z": 16.323
               },
               {
                "font": {
                 "color": "steelblue"
                },
                "showarrow": false,
                "text": 1.77,
                "x": 39.368,
                "y": 7.9544999999999995,
                "yshift": 15,
                "z": 14.71
               },
               {
                "font": {
                 "color": "steelblue"
                },
                "showarrow": false,
                "text": 1.77,
                "x": 38.205,
                "y": 7.877,
                "yshift": 15,
                "z": 15.1155
               },
               {
                "font": {
                 "color": "steelblue"
                },
                "showarrow": false,
                "text": 1.18,
                "x": 38.5715,
                "y": 8.648,
                "yshift": 15,
                "z": 14.453
               },
               {
                "font": {
                 "color": "steelblue"
                },
                "showarrow": false,
                "text": 1.77,
                "x": 39.8485,
                "y": 7.0565,
                "yshift": 15,
                "z": 13.977
               },
               {
                "font": {
                 "color": "steelblue"
                },
                "showarrow": false,
                "text": 1.18,
                "x": 40.3845,
                "y": 7.896,
                "yshift": 15,
                "z": 14.373999999999999
               },
               {
                "font": {
                 "color": "steelblue"
                },
                "showarrow": false,
                "text": 1.18,
                "x": 40.1405,
                "y": 7.27,
                "yshift": 15,
                "z": 14.9815
               },
               {
                "font": {
                 "color": "steelblue"
                },
                "showarrow": false,
                "text": 1.77,
                "x": 39.0955,
                "y": 6.173,
                "yshift": 15,
                "z": 13.517
               },
               {
                "font": {
                 "color": "steelblue"
                },
                "showarrow": false,
                "text": 1.18,
                "x": 39.667,
                "y": 6.839,
                "yshift": 15,
                "z": 12.946000000000002
               },
               {
                "font": {
                 "color": "steelblue"
                },
                "showarrow": false,
                "text": 1.18,
                "x": 40.128,
                "y": 6.202999999999999,
                "yshift": 15,
                "z": 13.413
               },
               {
                "font": {
                 "color": "steelblue"
                },
                "showarrow": false,
                "text": 2.21,
                "x": 38.597,
                "y": 4.939500000000001,
                "yshift": 15,
                "z": 13.733
               },
               {
                "font": {
                 "color": "steelblue"
                },
                "showarrow": false,
                "text": 1.77,
                "x": 37.8955,
                "y": 6.083,
                "yshift": 15,
                "z": 13.942499999999999
               },
               {
                "font": {
                 "color": "steelblue"
                },
                "showarrow": false,
                "text": 2.21,
                "x": 38.066,
                "y": 3.7185,
                "yshift": 15,
                "z": 13.8935
               },
               {
                "font": {
                 "color": "steelblue"
                },
                "showarrow": false,
                "text": 2.21,
                "x": 39.186499999999995,
                "y": 3.802,
                "yshift": 15,
                "z": 13.348
               },
               {
                "font": {
                 "color": "steelblue"
                },
                "showarrow": false,
                "text": 2.21,
                "x": 39.1065,
                "y": 4.0120000000000005,
                "yshift": 15,
                "z": 14.6485
               },
               {
                "font": {
                 "color": "steelblue"
                },
                "showarrow": false,
                "text": 1.77,
                "x": 39.72,
                "y": 3.2279999999999998,
                "yshift": 15,
                "z": 15.565999999999999
               },
               {
                "font": {
                 "color": "steelblue"
                },
                "showarrow": false,
                "text": 1.18,
                "x": 39.938500000000005,
                "y": 4.2615,
                "yshift": 15,
                "z": 15.464500000000001
               },
               {
                "font": {
                 "color": "steelblue"
                },
                "showarrow": false,
                "text": 1.18,
                "x": 39.1365,
                "y": 4.0680000000000005,
                "yshift": 15,
                "z": 15.835
               },
               {
                "font": {
                 "color": "steelblue"
                },
                "showarrow": false,
                "text": 1.77,
                "x": 39.4875,
                "y": 2.0545,
                "yshift": 15,
                "z": 15.9355
               },
               {
                "font": {
                 "color": "steelblue"
                },
                "showarrow": false,
                "text": 1.77,
                "x": 40.5975,
                "y": 2.335,
                "yshift": 15,
                "z": 15.5395
               },
               {
                "font": {
                 "color": "steelblue"
                },
                "showarrow": false,
                "text": 1.77,
                "x": 39.2395,
                "y": 0.923,
                "yshift": 15,
                "z": 16.2905
               },
               {
                "font": {
                 "color": "steelblue"
                },
                "showarrow": false,
                "text": 1.18,
                "x": 38.5175,
                "y": 1.732,
                "yshift": 15,
                "z": 16.298000000000002
               },
               {
                "font": {
                 "color": "steelblue"
                },
                "showarrow": false,
                "text": 1.77,
                "x": 40.101,
                "y": 0.07350000000000001,
                "yshift": 15,
                "z": 16.2515
               },
               {
                "font": {
                 "color": "steelblue"
                },
                "showarrow": false,
                "text": 1.18,
                "x": 39.088,
                "y": -0.10699999999999998,
                "yshift": 15,
                "z": 16.593
               },
               {
                "font": {
                 "color": "steelblue"
                },
                "showarrow": false,
                "text": 1.77,
                "x": 41.210499999999996,
                "y": 0.354,
                "yshift": 15,
                "z": 15.856
               },
               {
                "font": {
                 "color": "steelblue"
                },
                "showarrow": false,
                "text": 1.18,
                "x": 40.919,
                "y": -0.6355000000000001,
                "yshift": 15,
                "z": 16.1905
               },
               {
                "font": {
                 "color": "steelblue"
                },
                "showarrow": false,
                "text": 1.77,
                "x": 41.459,
                "y": 1.484,
                "yshift": 15,
                "z": 15.499
               },
               {
                "font": {
                 "color": "steelblue"
                },
                "showarrow": false,
                "text": 1.18,
                "x": 42.18,
                "y": 0.6745,
                "yshift": 15,
                "z": 15.491
               },
               {
                "font": {
                 "color": "steelblue"
                },
                "showarrow": false,
                "text": 1.18,
                "x": 41.611000000000004,
                "y": 2.5135,
                "yshift": 15,
                "z": 15.195
               },
               {
                "font": {
                 "color": "steelblue"
                },
                "showarrow": false,
                "text": 1.77,
                "x": 37.4855,
                "y": 6.889,
                "yshift": 15,
                "z": 14.808
               },
               {
                "font": {
                 "color": "steelblue"
                },
                "showarrow": false,
                "text": 1.18,
                "x": 37.006,
                "y": 6.632,
                "yshift": 15,
                "z": 13.8865
               },
               {
                "font": {
                 "color": "steelblue"
                },
                "showarrow": false,
                "text": 1.18,
                "x": 37.039,
                "y": 5.971500000000001,
                "yshift": 15,
                "z": 14.5175
               },
               {
                "font": {
                 "color": "steelblue"
                },
                "showarrow": false,
                "text": 1.18,
                "x": 37.210499999999996,
                "y": 7.686,
                "yshift": 15,
                "z": 15.472000000000001
               },
               {
                "font": {
                 "color": "steelblue"
                },
                "showarrow": false,
                "text": 1.18,
                "x": 37.8495,
                "y": 7.1235,
                "yshift": 15,
                "z": 15.7845
               },
               {
                "font": {
                 "color": "steelblue"
                },
                "showarrow": false,
                "text": 1.18,
                "x": 40.2515,
                "y": 11.3745,
                "yshift": 15,
                "z": 15.6645
               },
               {
                "font": {
                 "color": "steelblue"
                },
                "showarrow": false,
                "text": 2.46,
                "x": 41.167500000000004,
                "y": 13.427,
                "yshift": 15,
                "z": 13.9275
               }
              ]
             }
            ],
            "label": "Indices & Bond Lengths",
            "method": "relayout"
           },
           {
            "args": [
             {
              "scene.annotations": [
               {
                "font": {
                 "color": "steelblue"
                },
                "showarrow": false,
                "text": 1.77,
                "x": 40.887,
                "y": 17.351,
                "yshift": 15,
                "z": 11.8315
               },
               {
                "font": {
                 "color": "steelblue"
                },
                "showarrow": false,
                "text": 1.77,
                "x": 40.554,
                "y": 18.16,
                "yshift": 15,
                "z": 12.568
               },
               {
                "font": {
                 "color": "steelblue"
                },
                "showarrow": false,
                "text": 1.77,
                "x": 40.754999999999995,
                "y": 17.0215,
                "yshift": 15,
                "z": 12.965499999999999
               },
               {
                "font": {
                 "color": "steelblue"
                },
                "showarrow": false,
                "text": 1.77,
                "x": 41.415499999999994,
                "y": 16.241,
                "yshift": 15,
                "z": 13.52
               },
               {
                "font": {
                 "color": "steelblue"
                },
                "showarrow": false,
                "text": 1.18,
                "x": 40.675,
                "y": 16.7785,
                "yshift": 15,
                "z": 13.99
               },
               {
                "font": {
                 "color": "steelblue"
                },
                "showarrow": false,
                "text": 1.18,
                "x": 40.3925,
                "y": 16.142,
                "yshift": 15,
                "z": 13.4305
               },
               {
                "font": {
                 "color": "steelblue"
                },
                "showarrow": false,
                "text": 1.77,
                "x": 42.206999999999994,
                "y": 15.4955,
                "yshift": 15,
                "z": 14.018999999999998
               },
               {
                "font": {
                 "color": "steelblue"
                },
                "showarrow": false,
                "text": 1.77,
                "x": 42.807,
                "y": 15.1805,
                "yshift": 15,
                "z": 15.0085
               },
               {
                "font": {
                 "color": "steelblue"
                },
                "showarrow": false,
                "text": 1.77,
                "x": 42.069,
                "y": 14.397,
                "yshift": 15,
                "z": 14.547
               },
               {
                "font": {
                 "color": "steelblue"
                },
                "showarrow": false,
                "text": 1.77,
                "x": 43.5865,
                "y": 15.96,
                "yshift": 15,
                "z": 15.643
               },
               {
                "font": {
                 "color": "steelblue"
                },
                "showarrow": false,
                "text": 2.21,
                "x": 43.3065,
                "y": 14.6515,
                "yshift": 15,
                "z": 16.012
               },
               {
                "font": {
                 "color": "steelblue"
                },
                "showarrow": false,
                "text": 1.77,
                "x": 43.783,
                "y": 17.1245,
                "yshift": 15,
                "z": 15.457999999999998
               },
               {
                "font": {
                 "color": "steelblue"
                },
                "showarrow": false,
                "text": 1.77,
                "x": 44.3865,
                "y": 16.609,
                "yshift": 15,
                "z": 16.2785
               },
               {
                "font": {
                 "color": "steelblue"
                },
                "showarrow": false,
                "text": 2.21,
                "x": 42.799499999999995,
                "y": 13.5,
                "yshift": 15,
                "z": 16.099
               },
               {
                "font": {
                 "color": "steelblue"
                },
                "showarrow": false,
                "text": 1.77,
                "x": 42.086,
                "y": 12.322,
                "yshift": 15,
                "z": 15.8725
               },
               {
                "font": {
                 "color": "steelblue"
                },
                "showarrow": false,
                "text": 1.77,
                "x": 42.010999999999996,
                "y": 13.388,
                "yshift": 15,
                "z": 15.1345
               },
               {
                "font": {
                 "color": "steelblue"
                },
                "showarrow": false,
                "text": 1.77,
                "x": 42.437,
                "y": 11.231,
                "yshift": 15,
                "z": 16.35
               },
               {
                "font": {
                 "color": "steelblue"
                },
                "showarrow": false,
                "text": 1.77,
                "x": 41.293,
                "y": 11.346,
                "yshift": 15,
                "z": 15.969000000000001
               },
               {
                "font": {
                 "color": "steelblue"
                },
                "showarrow": false,
                "text": 1.77,
                "x": 42.825500000000005,
                "y": 10.1705,
                "yshift": 15,
                "z": 16.8125
               },
               {
                "font": {
                 "color": "steelblue"
                },
                "showarrow": false,
                "text": 1.18,
                "x": 43.44,
                "y": 11.058,
                "yshift": 15,
                "z": 16.727
               },
               {
                "font": {
                 "color": "steelblue"
                },
                "showarrow": false,
                "text": 1.77,
                "x": 42.073,
                "y": 9.224,
                "yshift": 15,
                "z": 16.88
               },
               {
                "font": {
                 "color": "steelblue"
                },
                "showarrow": false,
                "text": 1.18,
                "x": 43.1095,
                "y": 9.199,
                "yshift": 15,
                "z": 17.2065
               },
               {
                "font": {
                 "color": "steelblue"
                },
                "showarrow": false,
                "text": 1.77,
                "x": 40.924,
                "y": 9.3405,
                "yshift": 15,
                "z": 16.499499999999998
               },
               {
                "font": {
                 "color": "steelblue"
                },
                "showarrow": false,
                "text": 1.18,
                "x": 41.3435,
                "y": 8.419,
                "yshift": 15,
                "z": 16.902
               },
               {
                "font": {
                 "color": "steelblue"
                },
                "showarrow": false,
                "text": 1.77,
                "x": 39.756,
                "y": 9.479500000000002,
                "yshift": 15,
                "z": 16.109
               },
               {
                "font": {
                 "color": "steelblue"
                },
                "showarrow": false,
                "text": 1.77,
                "x": 40.5325,
                "y": 10.402000000000001,
                "yshift": 15,
                "z": 16.051
               },
               {
                "font": {
                 "color": "steelblue"
                },
                "showarrow": false,
                "text": 1.77,
                "x": 38.926,
                "y": 8.79,
                "yshift": 15,
                "z": 15.438500000000001
               },
               {
                "font": {
                 "color": "steelblue"
                },
                "showarrow": false,
                "text": 1.18,
                "x": 38.7305,
                "y": 9.353000000000002,
                "yshift": 15,
                "z": 16.323
               },
               {
                "font": {
                 "color": "steelblue"
                },
                "showarrow": false,
                "text": 1.77,
                "x": 39.368,
                "y": 7.9544999999999995,
                "yshift": 15,
                "z": 14.71
               },
               {
                "font": {
                 "color": "steelblue"
                },
                "showarrow": false,
                "text": 1.77,
                "x": 38.205,
                "y": 7.877,
                "yshift": 15,
                "z": 15.1155
               },
               {
                "font": {
                 "color": "steelblue"
                },
                "showarrow": false,
                "text": 1.18,
                "x": 38.5715,
                "y": 8.648,
                "yshift": 15,
                "z": 14.453
               },
               {
                "font": {
                 "color": "steelblue"
                },
                "showarrow": false,
                "text": 1.77,
                "x": 39.8485,
                "y": 7.0565,
                "yshift": 15,
                "z": 13.977
               },
               {
                "font": {
                 "color": "steelblue"
                },
                "showarrow": false,
                "text": 1.18,
                "x": 40.3845,
                "y": 7.896,
                "yshift": 15,
                "z": 14.373999999999999
               },
               {
                "font": {
                 "color": "steelblue"
                },
                "showarrow": false,
                "text": 1.18,
                "x": 40.1405,
                "y": 7.27,
                "yshift": 15,
                "z": 14.9815
               },
               {
                "font": {
                 "color": "steelblue"
                },
                "showarrow": false,
                "text": 1.77,
                "x": 39.0955,
                "y": 6.173,
                "yshift": 15,
                "z": 13.517
               },
               {
                "font": {
                 "color": "steelblue"
                },
                "showarrow": false,
                "text": 1.18,
                "x": 39.667,
                "y": 6.839,
                "yshift": 15,
                "z": 12.946000000000002
               },
               {
                "font": {
                 "color": "steelblue"
                },
                "showarrow": false,
                "text": 1.18,
                "x": 40.128,
                "y": 6.202999999999999,
                "yshift": 15,
                "z": 13.413
               },
               {
                "font": {
                 "color": "steelblue"
                },
                "showarrow": false,
                "text": 2.21,
                "x": 38.597,
                "y": 4.939500000000001,
                "yshift": 15,
                "z": 13.733
               },
               {
                "font": {
                 "color": "steelblue"
                },
                "showarrow": false,
                "text": 1.77,
                "x": 37.8955,
                "y": 6.083,
                "yshift": 15,
                "z": 13.942499999999999
               },
               {
                "font": {
                 "color": "steelblue"
                },
                "showarrow": false,
                "text": 2.21,
                "x": 38.066,
                "y": 3.7185,
                "yshift": 15,
                "z": 13.8935
               },
               {
                "font": {
                 "color": "steelblue"
                },
                "showarrow": false,
                "text": 2.21,
                "x": 39.186499999999995,
                "y": 3.802,
                "yshift": 15,
                "z": 13.348
               },
               {
                "font": {
                 "color": "steelblue"
                },
                "showarrow": false,
                "text": 2.21,
                "x": 39.1065,
                "y": 4.0120000000000005,
                "yshift": 15,
                "z": 14.6485
               },
               {
                "font": {
                 "color": "steelblue"
                },
                "showarrow": false,
                "text": 1.77,
                "x": 39.72,
                "y": 3.2279999999999998,
                "yshift": 15,
                "z": 15.565999999999999
               },
               {
                "font": {
                 "color": "steelblue"
                },
                "showarrow": false,
                "text": 1.18,
                "x": 39.938500000000005,
                "y": 4.2615,
                "yshift": 15,
                "z": 15.464500000000001
               },
               {
                "font": {
                 "color": "steelblue"
                },
                "showarrow": false,
                "text": 1.18,
                "x": 39.1365,
                "y": 4.0680000000000005,
                "yshift": 15,
                "z": 15.835
               },
               {
                "font": {
                 "color": "steelblue"
                },
                "showarrow": false,
                "text": 1.77,
                "x": 39.4875,
                "y": 2.0545,
                "yshift": 15,
                "z": 15.9355
               },
               {
                "font": {
                 "color": "steelblue"
                },
                "showarrow": false,
                "text": 1.77,
                "x": 40.5975,
                "y": 2.335,
                "yshift": 15,
                "z": 15.5395
               },
               {
                "font": {
                 "color": "steelblue"
                },
                "showarrow": false,
                "text": 1.77,
                "x": 39.2395,
                "y": 0.923,
                "yshift": 15,
                "z": 16.2905
               },
               {
                "font": {
                 "color": "steelblue"
                },
                "showarrow": false,
                "text": 1.18,
                "x": 38.5175,
                "y": 1.732,
                "yshift": 15,
                "z": 16.298000000000002
               },
               {
                "font": {
                 "color": "steelblue"
                },
                "showarrow": false,
                "text": 1.77,
                "x": 40.101,
                "y": 0.07350000000000001,
                "yshift": 15,
                "z": 16.2515
               },
               {
                "font": {
                 "color": "steelblue"
                },
                "showarrow": false,
                "text": 1.18,
                "x": 39.088,
                "y": -0.10699999999999998,
                "yshift": 15,
                "z": 16.593
               },
               {
                "font": {
                 "color": "steelblue"
                },
                "showarrow": false,
                "text": 1.77,
                "x": 41.210499999999996,
                "y": 0.354,
                "yshift": 15,
                "z": 15.856
               },
               {
                "font": {
                 "color": "steelblue"
                },
                "showarrow": false,
                "text": 1.18,
                "x": 40.919,
                "y": -0.6355000000000001,
                "yshift": 15,
                "z": 16.1905
               },
               {
                "font": {
                 "color": "steelblue"
                },
                "showarrow": false,
                "text": 1.77,
                "x": 41.459,
                "y": 1.484,
                "yshift": 15,
                "z": 15.499
               },
               {
                "font": {
                 "color": "steelblue"
                },
                "showarrow": false,
                "text": 1.18,
                "x": 42.18,
                "y": 0.6745,
                "yshift": 15,
                "z": 15.491
               },
               {
                "font": {
                 "color": "steelblue"
                },
                "showarrow": false,
                "text": 1.18,
                "x": 41.611000000000004,
                "y": 2.5135,
                "yshift": 15,
                "z": 15.195
               },
               {
                "font": {
                 "color": "steelblue"
                },
                "showarrow": false,
                "text": 1.77,
                "x": 37.4855,
                "y": 6.889,
                "yshift": 15,
                "z": 14.808
               },
               {
                "font": {
                 "color": "steelblue"
                },
                "showarrow": false,
                "text": 1.18,
                "x": 37.006,
                "y": 6.632,
                "yshift": 15,
                "z": 13.8865
               },
               {
                "font": {
                 "color": "steelblue"
                },
                "showarrow": false,
                "text": 1.18,
                "x": 37.039,
                "y": 5.971500000000001,
                "yshift": 15,
                "z": 14.5175
               },
               {
                "font": {
                 "color": "steelblue"
                },
                "showarrow": false,
                "text": 1.18,
                "x": 37.210499999999996,
                "y": 7.686,
                "yshift": 15,
                "z": 15.472000000000001
               },
               {
                "font": {
                 "color": "steelblue"
                },
                "showarrow": false,
                "text": 1.18,
                "x": 37.8495,
                "y": 7.1235,
                "yshift": 15,
                "z": 15.7845
               },
               {
                "font": {
                 "color": "steelblue"
                },
                "showarrow": false,
                "text": 1.18,
                "x": 40.2515,
                "y": 11.3745,
                "yshift": 15,
                "z": 15.6645
               },
               {
                "font": {
                 "color": "steelblue"
                },
                "showarrow": false,
                "text": 2.46,
                "x": 41.167500000000004,
                "y": 13.427,
                "yshift": 15,
                "z": 13.9275
               }
              ]
             }
            ],
            "label": "Bond Lengths",
            "method": "relayout"
           },
           {
            "args": [
             {
              "scene.annotations": []
             }
            ],
            "label": "Hide All",
            "method": "relayout"
           }
          ],
          "direction": "down",
          "xanchor": "left",
          "yanchor": "top"
         }
        ]
       }
      },
      "text/html": [
       "<div>                            <div id=\"46191b3a-8fde-4cad-8e52-31a720400302\" class=\"plotly-graph-div\" style=\"height:525px; width:100%;\"></div>            <script type=\"text/javascript\">                require([\"plotly\"], function(Plotly) {                    window.PLOTLYENV=window.PLOTLYENV || {};                                    if (document.getElementById(\"46191b3a-8fde-4cad-8e52-31a720400302\")) {                    Plotly.newPlot(                        \"46191b3a-8fde-4cad-8e52-31a720400302\",                        [{\"marker\":{\"color\":[\"red\",\"black\",\"red\",\"black\",\"red\",\"black\",\"black\",\"black\",\"red\",\"red\",\"yellow\",\"black\",\"black\",\"black\",\"black\",\"black\",\"black\",\"blue\",\"black\",\"black\",\"black\",\"blue\",\"yellow\",\"red\",\"red\",\"black\",\"black\",\"black\",\"black\",\"black\",\"black\",\"black\",\"black\",\"black\",\"black\",\"black\",\"darkred\",\"white\",\"white\",\"white\",\"white\",\"white\",\"white\",\"white\",\"white\",\"white\",\"white\",\"white\",\"white\",\"white\",\"white\",\"white\",\"white\",\"white\",\"white\",\"white\",\"white\",\"white\",\"white\",\"white\"],\"line\":{\"color\":\"lightgray\",\"width\":2},\"opacity\":0.8,\"size\":7,\"symbol\":\"circle\"},\"mode\":\"markers\",\"text\":[\"O1\",\"C1\",\"O2\",\"C2\",\"O3\",\"C3\",\"C4\",\"C5\",\"O4\",\"O5\",\"S1\",\"C6\",\"C7\",\"C8\",\"C9\",\"C10\",\"C11\",\"N1\",\"C12\",\"C13\",\"C14\",\"N2\",\"S2\",\"O6\",\"O7\",\"C15\",\"C16\",\"C17\",\"C18\",\"C19\",\"C20\",\"C21\",\"C22\",\"C23\",\"C24\",\"C25\",\"Br1\",\"H1\",\"H2\",\"H3\",\"H4\",\"H5\",\"H6\",\"H7\",\"H8\",\"H9\",\"H10\",\"H11\",\"H12\",\"H13\",\"H14\",\"H15\",\"H16\",\"H17\",\"H18\",\"H19\",\"H20\",\"H21\",\"H22\",\"H23\"],\"x\":[41.039,40.735,40.373,40.775,42.056,42.358,43.256,43.917,43.649,44.856,43.357,42.242,41.93,42.944,42.707,41.439,40.409,39.103,38.749,39.987,39.71,38.481,38.713,37.419,39.66,39.5,39.94,39.035,39.444,40.758,41.663,41.255,37.31,37.661,40.656,41.78,40.555,40.575,40.01,43.936,43.512,41.248,38.358,38.394,40.782,40.294,39.624,40.546,40.377,38.773,38.0,38.732,41.08,42.697,41.967,36.702,36.768,36.76,38.038,39.847],\"y\":[17.188,17.514,18.806,16.529,15.953,15.038,15.323,16.597,17.652,16.621,13.98,13.02,11.624,10.838,9.503,8.945,9.736,9.223,8.357,7.552,6.561,5.785,4.094,3.343,3.51,3.93,2.526,1.583,0.263,-0.116,0.824,2.144,6.381,7.397,11.068,13.756,13.098,17.028,15.755,11.278,8.895,7.893,9.483,8.939,8.24,6.988,7.117,5.845,4.593,4.206,1.881,-0.477,-1.155,0.525,2.883,6.883,5.562,7.975,6.85,11.681],\"z\":[11.242,12.421,12.715,13.51,13.53,14.508,15.509,15.777,15.139,16.78,16.515,15.683,16.062,16.638,16.987,16.773,16.226,15.992,14.885,14.535,13.419,13.615,13.851,13.936,12.845,15.446,15.686,16.185,16.396,16.107,15.605,15.393,14.27,15.346,15.876,14.586,13.269,14.47,13.351,16.816,17.426,17.031,16.654,14.021,14.213,15.428,12.473,13.407,15.483,16.224,16.411,16.79,16.274,15.377,14.997,13.503,14.765,15.598,16.223,15.453],\"type\":\"scatter3d\"},{\"hoverinfo\":\"none\",\"marker\":{\"color\":\"grey\",\"opacity\":1,\"size\":7},\"mode\":\"lines\",\"x\":[41.039,40.735,null,40.735,41.039,null,40.735,40.373,null,40.735,40.775,null,40.373,40.735,null,40.775,40.735,null,40.775,42.056,null,40.775,40.575,null,40.775,40.01,null,42.056,40.775,null,42.056,42.358,null,40.575,40.775,null,40.01,40.775,null,42.358,41.78,null,42.358,42.056,null,42.358,43.256,null,43.256,43.357,null,43.256,42.358,null,43.256,43.917,null,41.78,42.242,null,41.78,40.555,null,41.78,42.358,null,43.917,43.649,null,43.917,44.856,null,43.917,43.256,null,43.357,42.242,null,43.357,43.256,null,43.649,43.917,null,44.856,43.917,null,42.242,43.357,null,42.242,41.78,null,42.242,41.93,null,41.93,40.656,null,41.93,42.242,null,41.93,42.944,null,42.944,41.93,null,42.944,42.707,null,42.944,43.936,null,40.656,40.409,null,40.656,39.847,null,40.656,41.93,null,42.707,43.512,null,42.707,42.944,null,42.707,41.439,null,43.936,42.944,null,41.439,40.409,null,41.439,41.248,null,41.439,42.707,null,43.512,42.707,null,40.409,39.103,null,40.409,40.656,null,40.409,41.439,null,41.248,41.439,null,39.103,40.409,null,39.103,38.749,null,39.103,38.358,null,38.749,39.103,null,38.749,39.987,null,38.749,38.394,null,38.749,37.661,null,38.358,39.103,null,39.987,38.749,null,39.987,39.71,null,39.987,40.294,null,39.987,40.782,null,37.661,37.31,null,37.661,36.76,null,37.661,38.749,null,37.661,38.038,null,38.394,38.749,null,39.71,39.987,null,39.71,38.481,null,39.71,39.624,null,39.71,40.546,null,40.782,39.987,null,40.294,39.987,null,38.481,37.31,null,38.481,39.71,null,38.481,38.713,null,39.624,39.71,null,40.546,39.71,null,38.713,39.66,null,38.713,39.5,null,38.713,38.481,null,38.713,37.419,null,37.31,36.768,null,37.31,37.661,null,37.31,38.481,null,37.31,36.702,null,37.419,38.713,null,39.66,38.713,null,39.5,40.377,null,39.5,38.773,null,39.5,39.94,null,39.5,38.713,null,39.94,39.5,null,39.94,39.035,null,39.94,41.255,null,40.377,39.5,null,38.773,39.5,null,39.035,39.94,null,39.035,39.444,null,39.035,38.0,null,41.255,41.967,null,41.255,39.94,null,41.255,41.663,null,39.444,38.732,null,39.444,39.035,null,39.444,40.758,null,38.0,39.035,null,40.758,39.444,null,40.758,41.663,null,40.758,41.08,null,38.732,39.444,null,41.663,42.697,null,41.663,40.758,null,41.663,41.255,null,41.08,40.758,null,42.697,41.663,null,41.967,41.255,null,36.702,37.31,null,36.768,37.31,null,36.76,37.661,null,38.038,37.661,null,39.847,40.656,null,40.555,41.78,null],\"y\":[17.188,17.514,null,17.514,17.188,null,17.514,18.806,null,17.514,16.529,null,18.806,17.514,null,16.529,17.514,null,16.529,15.953,null,16.529,17.028,null,16.529,15.755,null,15.953,16.529,null,15.953,15.038,null,17.028,16.529,null,15.755,16.529,null,15.038,13.756,null,15.038,15.953,null,15.038,15.323,null,15.323,13.98,null,15.323,15.038,null,15.323,16.597,null,13.756,13.02,null,13.756,13.098,null,13.756,15.038,null,16.597,17.652,null,16.597,16.621,null,16.597,15.323,null,13.98,13.02,null,13.98,15.323,null,17.652,16.597,null,16.621,16.597,null,13.02,13.98,null,13.02,13.756,null,13.02,11.624,null,11.624,11.068,null,11.624,13.02,null,11.624,10.838,null,10.838,11.624,null,10.838,9.503,null,10.838,11.278,null,11.068,9.736,null,11.068,11.681,null,11.068,11.624,null,9.503,8.895,null,9.503,10.838,null,9.503,8.945,null,11.278,10.838,null,8.945,9.736,null,8.945,7.893,null,8.945,9.503,null,8.895,9.503,null,9.736,9.223,null,9.736,11.068,null,9.736,8.945,null,7.893,8.945,null,9.223,9.736,null,9.223,8.357,null,9.223,9.483,null,8.357,9.223,null,8.357,7.552,null,8.357,8.939,null,8.357,7.397,null,9.483,9.223,null,7.552,8.357,null,7.552,6.561,null,7.552,6.988,null,7.552,8.24,null,7.397,6.381,null,7.397,7.975,null,7.397,8.357,null,7.397,6.85,null,8.939,8.357,null,6.561,7.552,null,6.561,5.785,null,6.561,7.117,null,6.561,5.845,null,8.24,7.552,null,6.988,7.552,null,5.785,6.381,null,5.785,6.561,null,5.785,4.094,null,7.117,6.561,null,5.845,6.561,null,4.094,3.51,null,4.094,3.93,null,4.094,5.785,null,4.094,3.343,null,6.381,5.562,null,6.381,7.397,null,6.381,5.785,null,6.381,6.883,null,3.343,4.094,null,3.51,4.094,null,3.93,4.593,null,3.93,4.206,null,3.93,2.526,null,3.93,4.094,null,2.526,3.93,null,2.526,1.583,null,2.526,2.144,null,4.593,3.93,null,4.206,3.93,null,1.583,2.526,null,1.583,0.263,null,1.583,1.881,null,2.144,2.883,null,2.144,2.526,null,2.144,0.824,null,0.263,-0.477,null,0.263,1.583,null,0.263,-0.116,null,1.881,1.583,null,-0.116,0.263,null,-0.116,0.824,null,-0.116,-1.155,null,-0.477,0.263,null,0.824,0.525,null,0.824,-0.116,null,0.824,2.144,null,-1.155,-0.116,null,0.525,0.824,null,2.883,2.144,null,6.883,6.381,null,5.562,6.381,null,7.975,7.397,null,6.85,7.397,null,11.681,11.068,null,13.098,13.756,null],\"z\":[11.242,12.421,null,12.421,11.242,null,12.421,12.715,null,12.421,13.51,null,12.715,12.421,null,13.51,12.421,null,13.51,13.53,null,13.51,14.47,null,13.51,13.351,null,13.53,13.51,null,13.53,14.508,null,14.47,13.51,null,13.351,13.51,null,14.508,14.586,null,14.508,13.53,null,14.508,15.509,null,15.509,16.515,null,15.509,14.508,null,15.509,15.777,null,14.586,15.683,null,14.586,13.269,null,14.586,14.508,null,15.777,15.139,null,15.777,16.78,null,15.777,15.509,null,16.515,15.683,null,16.515,15.509,null,15.139,15.777,null,16.78,15.777,null,15.683,16.515,null,15.683,14.586,null,15.683,16.062,null,16.062,15.876,null,16.062,15.683,null,16.062,16.638,null,16.638,16.062,null,16.638,16.987,null,16.638,16.816,null,15.876,16.226,null,15.876,15.453,null,15.876,16.062,null,16.987,17.426,null,16.987,16.638,null,16.987,16.773,null,16.816,16.638,null,16.773,16.226,null,16.773,17.031,null,16.773,16.987,null,17.426,16.987,null,16.226,15.992,null,16.226,15.876,null,16.226,16.773,null,17.031,16.773,null,15.992,16.226,null,15.992,14.885,null,15.992,16.654,null,14.885,15.992,null,14.885,14.535,null,14.885,14.021,null,14.885,15.346,null,16.654,15.992,null,14.535,14.885,null,14.535,13.419,null,14.535,15.428,null,14.535,14.213,null,15.346,14.27,null,15.346,15.598,null,15.346,14.885,null,15.346,16.223,null,14.021,14.885,null,13.419,14.535,null,13.419,13.615,null,13.419,12.473,null,13.419,13.407,null,14.213,14.535,null,15.428,14.535,null,13.615,14.27,null,13.615,13.419,null,13.615,13.851,null,12.473,13.419,null,13.407,13.419,null,13.851,12.845,null,13.851,15.446,null,13.851,13.615,null,13.851,13.936,null,14.27,14.765,null,14.27,15.346,null,14.27,13.615,null,14.27,13.503,null,13.936,13.851,null,12.845,13.851,null,15.446,15.483,null,15.446,16.224,null,15.446,15.686,null,15.446,13.851,null,15.686,15.446,null,15.686,16.185,null,15.686,15.393,null,15.483,15.446,null,16.224,15.446,null,16.185,15.686,null,16.185,16.396,null,16.185,16.411,null,15.393,14.997,null,15.393,15.686,null,15.393,15.605,null,16.396,16.79,null,16.396,16.185,null,16.396,16.107,null,16.411,16.185,null,16.107,16.396,null,16.107,15.605,null,16.107,16.274,null,16.79,16.396,null,15.605,15.377,null,15.605,16.107,null,15.605,15.393,null,16.274,16.107,null,15.377,15.605,null,14.997,15.393,null,13.503,14.27,null,14.765,14.27,null,15.598,15.346,null,16.223,15.346,null,15.453,15.876,null,13.269,14.586,null],\"type\":\"scatter3d\"}],                        {\"margin\":{\"b\":0,\"l\":0,\"r\":0,\"t\":0},\"scene\":{\"annotations\":[{\"showarrow\":false,\"text\":\"O\",\"x\":41.039,\"y\":17.188,\"yshift\":15,\"z\":11.242},{\"showarrow\":false,\"text\":\"C\",\"x\":40.735,\"y\":17.514,\"yshift\":15,\"z\":12.421},{\"showarrow\":false,\"text\":\"O\",\"x\":40.373,\"y\":18.806,\"yshift\":15,\"z\":12.715},{\"showarrow\":false,\"text\":\"C\",\"x\":40.775,\"y\":16.529,\"yshift\":15,\"z\":13.51},{\"showarrow\":false,\"text\":\"O\",\"x\":42.056,\"y\":15.953,\"yshift\":15,\"z\":13.53},{\"showarrow\":false,\"text\":\"C\",\"x\":42.358,\"y\":15.038,\"yshift\":15,\"z\":14.508},{\"showarrow\":false,\"text\":\"C\",\"x\":43.256,\"y\":15.323,\"yshift\":15,\"z\":15.509},{\"showarrow\":false,\"text\":\"C\",\"x\":43.917,\"y\":16.597,\"yshift\":15,\"z\":15.777},{\"showarrow\":false,\"text\":\"O\",\"x\":43.649,\"y\":17.652,\"yshift\":15,\"z\":15.139},{\"showarrow\":false,\"text\":\"O\",\"x\":44.856,\"y\":16.621,\"yshift\":15,\"z\":16.78},{\"showarrow\":false,\"text\":\"S\",\"x\":43.357,\"y\":13.98,\"yshift\":15,\"z\":16.515},{\"showarrow\":false,\"text\":\"C\",\"x\":42.242,\"y\":13.02,\"yshift\":15,\"z\":15.683},{\"showarrow\":false,\"text\":\"C\",\"x\":41.93,\"y\":11.624,\"yshift\":15,\"z\":16.062},{\"showarrow\":false,\"text\":\"C\",\"x\":42.944,\"y\":10.838,\"yshift\":15,\"z\":16.638},{\"showarrow\":false,\"text\":\"C\",\"x\":42.707,\"y\":9.503,\"yshift\":15,\"z\":16.987},{\"showarrow\":false,\"text\":\"C\",\"x\":41.439,\"y\":8.945,\"yshift\":15,\"z\":16.773},{\"showarrow\":false,\"text\":\"C\",\"x\":40.409,\"y\":9.736,\"yshift\":15,\"z\":16.226},{\"showarrow\":false,\"text\":\"N\",\"x\":39.103,\"y\":9.223,\"yshift\":15,\"z\":15.992},{\"showarrow\":false,\"text\":\"C\",\"x\":38.749,\"y\":8.357,\"yshift\":15,\"z\":14.885},{\"showarrow\":false,\"text\":\"C\",\"x\":39.987,\"y\":7.552,\"yshift\":15,\"z\":14.535},{\"showarrow\":false,\"text\":\"C\",\"x\":39.71,\"y\":6.561,\"yshift\":15,\"z\":13.419},{\"showarrow\":false,\"text\":\"N\",\"x\":38.481,\"y\":5.785,\"yshift\":15,\"z\":13.615},{\"showarrow\":false,\"text\":\"S\",\"x\":38.713,\"y\":4.094,\"yshift\":15,\"z\":13.851},{\"showarrow\":false,\"text\":\"O\",\"x\":37.419,\"y\":3.343,\"yshift\":15,\"z\":13.936},{\"showarrow\":false,\"text\":\"O\",\"x\":39.66,\"y\":3.51,\"yshift\":15,\"z\":12.845},{\"showarrow\":false,\"text\":\"C\",\"x\":39.5,\"y\":3.93,\"yshift\":15,\"z\":15.446},{\"showarrow\":false,\"text\":\"C\",\"x\":39.94,\"y\":2.526,\"yshift\":15,\"z\":15.686},{\"showarrow\":false,\"text\":\"C\",\"x\":39.035,\"y\":1.583,\"yshift\":15,\"z\":16.185},{\"showarrow\":false,\"text\":\"C\",\"x\":39.444,\"y\":0.263,\"yshift\":15,\"z\":16.396},{\"showarrow\":false,\"text\":\"C\",\"x\":40.758,\"y\":-0.116,\"yshift\":15,\"z\":16.107},{\"showarrow\":false,\"text\":\"C\",\"x\":41.663,\"y\":0.824,\"yshift\":15,\"z\":15.605},{\"showarrow\":false,\"text\":\"C\",\"x\":41.255,\"y\":2.144,\"yshift\":15,\"z\":15.393},{\"showarrow\":false,\"text\":\"C\",\"x\":37.31,\"y\":6.381,\"yshift\":15,\"z\":14.27},{\"showarrow\":false,\"text\":\"C\",\"x\":37.661,\"y\":7.397,\"yshift\":15,\"z\":15.346},{\"showarrow\":false,\"text\":\"C\",\"x\":40.656,\"y\":11.068,\"yshift\":15,\"z\":15.876},{\"showarrow\":false,\"text\":\"C\",\"x\":41.78,\"y\":13.756,\"yshift\":15,\"z\":14.586},{\"showarrow\":false,\"text\":\"Br\",\"x\":40.555,\"y\":13.098,\"yshift\":15,\"z\":13.269},{\"showarrow\":false,\"text\":\"H\",\"x\":40.575,\"y\":17.028,\"yshift\":15,\"z\":14.47},{\"showarrow\":false,\"text\":\"H\",\"x\":40.01,\"y\":15.755,\"yshift\":15,\"z\":13.351},{\"showarrow\":false,\"text\":\"H\",\"x\":43.936,\"y\":11.278,\"yshift\":15,\"z\":16.816},{\"showarrow\":false,\"text\":\"H\",\"x\":43.512,\"y\":8.895,\"yshift\":15,\"z\":17.426},{\"showarrow\":false,\"text\":\"H\",\"x\":41.248,\"y\":7.893,\"yshift\":15,\"z\":17.031},{\"showarrow\":false,\"text\":\"H\",\"x\":38.358,\"y\":9.483,\"yshift\":15,\"z\":16.654},{\"showarrow\":false,\"text\":\"H\",\"x\":38.394,\"y\":8.939,\"yshift\":15,\"z\":14.021},{\"showarrow\":false,\"text\":\"H\",\"x\":40.782,\"y\":8.24,\"yshift\":15,\"z\":14.213},{\"showarrow\":false,\"text\":\"H\",\"x\":40.294,\"y\":6.988,\"yshift\":15,\"z\":15.428},{\"showarrow\":false,\"text\":\"H\",\"x\":39.624,\"y\":7.117,\"yshift\":15,\"z\":12.473},{\"showarrow\":false,\"text\":\"H\",\"x\":40.546,\"y\":5.845,\"yshift\":15,\"z\":13.407},{\"showarrow\":false,\"text\":\"H\",\"x\":40.377,\"y\":4.593,\"yshift\":15,\"z\":15.483},{\"showarrow\":false,\"text\":\"H\",\"x\":38.773,\"y\":4.206,\"yshift\":15,\"z\":16.224},{\"showarrow\":false,\"text\":\"H\",\"x\":38.0,\"y\":1.881,\"yshift\":15,\"z\":16.411},{\"showarrow\":false,\"text\":\"H\",\"x\":38.732,\"y\":-0.477,\"yshift\":15,\"z\":16.79},{\"showarrow\":false,\"text\":\"H\",\"x\":41.08,\"y\":-1.155,\"yshift\":15,\"z\":16.274},{\"showarrow\":false,\"text\":\"H\",\"x\":42.697,\"y\":0.525,\"yshift\":15,\"z\":15.377},{\"showarrow\":false,\"text\":\"H\",\"x\":41.967,\"y\":2.883,\"yshift\":15,\"z\":14.997},{\"showarrow\":false,\"text\":\"H\",\"x\":36.702,\"y\":6.883,\"yshift\":15,\"z\":13.503},{\"showarrow\":false,\"text\":\"H\",\"x\":36.768,\"y\":5.562,\"yshift\":15,\"z\":14.765},{\"showarrow\":false,\"text\":\"H\",\"x\":36.76,\"y\":7.975,\"yshift\":15,\"z\":15.598},{\"showarrow\":false,\"text\":\"H\",\"x\":38.038,\"y\":6.85,\"yshift\":15,\"z\":16.223},{\"showarrow\":false,\"text\":\"H\",\"x\":39.847,\"y\":11.681,\"yshift\":15,\"z\":15.453}],\"xaxis\":{\"showbackground\":false,\"showgrid\":false,\"showticklabels\":false,\"title\":{\"font\":{\"color\":\"white\"}},\"zeroline\":false},\"yaxis\":{\"showbackground\":false,\"showgrid\":false,\"showticklabels\":false,\"title\":{\"font\":{\"color\":\"white\"}},\"zeroline\":false},\"zaxis\":{\"showbackground\":false,\"showgrid\":false,\"showticklabels\":false,\"title\":{\"font\":{\"color\":\"white\"}},\"zeroline\":false}},\"showlegend\":false,\"template\":{\"data\":{\"barpolar\":[{\"marker\":{\"line\":{\"color\":\"#E5ECF6\",\"width\":0.5},\"pattern\":{\"fillmode\":\"overlay\",\"size\":10,\"solidity\":0.2}},\"type\":\"barpolar\"}],\"bar\":[{\"error_x\":{\"color\":\"#2a3f5f\"},\"error_y\":{\"color\":\"#2a3f5f\"},\"marker\":{\"line\":{\"color\":\"#E5ECF6\",\"width\":0.5},\"pattern\":{\"fillmode\":\"overlay\",\"size\":10,\"solidity\":0.2}},\"type\":\"bar\"}],\"carpet\":[{\"aaxis\":{\"endlinecolor\":\"#2a3f5f\",\"gridcolor\":\"white\",\"linecolor\":\"white\",\"minorgridcolor\":\"white\",\"startlinecolor\":\"#2a3f5f\"},\"baxis\":{\"endlinecolor\":\"#2a3f5f\",\"gridcolor\":\"white\",\"linecolor\":\"white\",\"minorgridcolor\":\"white\",\"startlinecolor\":\"#2a3f5f\"},\"type\":\"carpet\"}],\"choropleth\":[{\"colorbar\":{\"outlinewidth\":0,\"ticks\":\"\"},\"type\":\"choropleth\"}],\"contourcarpet\":[{\"colorbar\":{\"outlinewidth\":0,\"ticks\":\"\"},\"type\":\"contourcarpet\"}],\"contour\":[{\"colorbar\":{\"outlinewidth\":0,\"ticks\":\"\"},\"colorscale\":[[0.0,\"#0d0887\"],[0.1111111111111111,\"#46039f\"],[0.2222222222222222,\"#7201a8\"],[0.3333333333333333,\"#9c179e\"],[0.4444444444444444,\"#bd3786\"],[0.5555555555555556,\"#d8576b\"],[0.6666666666666666,\"#ed7953\"],[0.7777777777777778,\"#fb9f3a\"],[0.8888888888888888,\"#fdca26\"],[1.0,\"#f0f921\"]],\"type\":\"contour\"}],\"heatmapgl\":[{\"colorbar\":{\"outlinewidth\":0,\"ticks\":\"\"},\"colorscale\":[[0.0,\"#0d0887\"],[0.1111111111111111,\"#46039f\"],[0.2222222222222222,\"#7201a8\"],[0.3333333333333333,\"#9c179e\"],[0.4444444444444444,\"#bd3786\"],[0.5555555555555556,\"#d8576b\"],[0.6666666666666666,\"#ed7953\"],[0.7777777777777778,\"#fb9f3a\"],[0.8888888888888888,\"#fdca26\"],[1.0,\"#f0f921\"]],\"type\":\"heatmapgl\"}],\"heatmap\":[{\"colorbar\":{\"outlinewidth\":0,\"ticks\":\"\"},\"colorscale\":[[0.0,\"#0d0887\"],[0.1111111111111111,\"#46039f\"],[0.2222222222222222,\"#7201a8\"],[0.3333333333333333,\"#9c179e\"],[0.4444444444444444,\"#bd3786\"],[0.5555555555555556,\"#d8576b\"],[0.6666666666666666,\"#ed7953\"],[0.7777777777777778,\"#fb9f3a\"],[0.8888888888888888,\"#fdca26\"],[1.0,\"#f0f921\"]],\"type\":\"heatmap\"}],\"histogram2dcontour\":[{\"colorbar\":{\"outlinewidth\":0,\"ticks\":\"\"},\"colorscale\":[[0.0,\"#0d0887\"],[0.1111111111111111,\"#46039f\"],[0.2222222222222222,\"#7201a8\"],[0.3333333333333333,\"#9c179e\"],[0.4444444444444444,\"#bd3786\"],[0.5555555555555556,\"#d8576b\"],[0.6666666666666666,\"#ed7953\"],[0.7777777777777778,\"#fb9f3a\"],[0.8888888888888888,\"#fdca26\"],[1.0,\"#f0f921\"]],\"type\":\"histogram2dcontour\"}],\"histogram2d\":[{\"colorbar\":{\"outlinewidth\":0,\"ticks\":\"\"},\"colorscale\":[[0.0,\"#0d0887\"],[0.1111111111111111,\"#46039f\"],[0.2222222222222222,\"#7201a8\"],[0.3333333333333333,\"#9c179e\"],[0.4444444444444444,\"#bd3786\"],[0.5555555555555556,\"#d8576b\"],[0.6666666666666666,\"#ed7953\"],[0.7777777777777778,\"#fb9f3a\"],[0.8888888888888888,\"#fdca26\"],[1.0,\"#f0f921\"]],\"type\":\"histogram2d\"}],\"histogram\":[{\"marker\":{\"pattern\":{\"fillmode\":\"overlay\",\"size\":10,\"solidity\":0.2}},\"type\":\"histogram\"}],\"mesh3d\":[{\"colorbar\":{\"outlinewidth\":0,\"ticks\":\"\"},\"type\":\"mesh3d\"}],\"parcoords\":[{\"line\":{\"colorbar\":{\"outlinewidth\":0,\"ticks\":\"\"}},\"type\":\"parcoords\"}],\"pie\":[{\"automargin\":true,\"type\":\"pie\"}],\"scatter3d\":[{\"line\":{\"colorbar\":{\"outlinewidth\":0,\"ticks\":\"\"}},\"marker\":{\"colorbar\":{\"outlinewidth\":0,\"ticks\":\"\"}},\"type\":\"scatter3d\"}],\"scattercarpet\":[{\"marker\":{\"colorbar\":{\"outlinewidth\":0,\"ticks\":\"\"}},\"type\":\"scattercarpet\"}],\"scattergeo\":[{\"marker\":{\"colorbar\":{\"outlinewidth\":0,\"ticks\":\"\"}},\"type\":\"scattergeo\"}],\"scattergl\":[{\"marker\":{\"colorbar\":{\"outlinewidth\":0,\"ticks\":\"\"}},\"type\":\"scattergl\"}],\"scattermapbox\":[{\"marker\":{\"colorbar\":{\"outlinewidth\":0,\"ticks\":\"\"}},\"type\":\"scattermapbox\"}],\"scatterpolargl\":[{\"marker\":{\"colorbar\":{\"outlinewidth\":0,\"ticks\":\"\"}},\"type\":\"scatterpolargl\"}],\"scatterpolar\":[{\"marker\":{\"colorbar\":{\"outlinewidth\":0,\"ticks\":\"\"}},\"type\":\"scatterpolar\"}],\"scatter\":[{\"fillpattern\":{\"fillmode\":\"overlay\",\"size\":10,\"solidity\":0.2},\"type\":\"scatter\"}],\"scatterternary\":[{\"marker\":{\"colorbar\":{\"outlinewidth\":0,\"ticks\":\"\"}},\"type\":\"scatterternary\"}],\"surface\":[{\"colorbar\":{\"outlinewidth\":0,\"ticks\":\"\"},\"colorscale\":[[0.0,\"#0d0887\"],[0.1111111111111111,\"#46039f\"],[0.2222222222222222,\"#7201a8\"],[0.3333333333333333,\"#9c179e\"],[0.4444444444444444,\"#bd3786\"],[0.5555555555555556,\"#d8576b\"],[0.6666666666666666,\"#ed7953\"],[0.7777777777777778,\"#fb9f3a\"],[0.8888888888888888,\"#fdca26\"],[1.0,\"#f0f921\"]],\"type\":\"surface\"}],\"table\":[{\"cells\":{\"fill\":{\"color\":\"#EBF0F8\"},\"line\":{\"color\":\"white\"}},\"header\":{\"fill\":{\"color\":\"#C8D4E3\"},\"line\":{\"color\":\"white\"}},\"type\":\"table\"}]},\"layout\":{\"annotationdefaults\":{\"arrowcolor\":\"#2a3f5f\",\"arrowhead\":0,\"arrowwidth\":1},\"autotypenumbers\":\"strict\",\"coloraxis\":{\"colorbar\":{\"outlinewidth\":0,\"ticks\":\"\"}},\"colorscale\":{\"diverging\":[[0,\"#8e0152\"],[0.1,\"#c51b7d\"],[0.2,\"#de77ae\"],[0.3,\"#f1b6da\"],[0.4,\"#fde0ef\"],[0.5,\"#f7f7f7\"],[0.6,\"#e6f5d0\"],[0.7,\"#b8e186\"],[0.8,\"#7fbc41\"],[0.9,\"#4d9221\"],[1,\"#276419\"]],\"sequential\":[[0.0,\"#0d0887\"],[0.1111111111111111,\"#46039f\"],[0.2222222222222222,\"#7201a8\"],[0.3333333333333333,\"#9c179e\"],[0.4444444444444444,\"#bd3786\"],[0.5555555555555556,\"#d8576b\"],[0.6666666666666666,\"#ed7953\"],[0.7777777777777778,\"#fb9f3a\"],[0.8888888888888888,\"#fdca26\"],[1.0,\"#f0f921\"]],\"sequentialminus\":[[0.0,\"#0d0887\"],[0.1111111111111111,\"#46039f\"],[0.2222222222222222,\"#7201a8\"],[0.3333333333333333,\"#9c179e\"],[0.4444444444444444,\"#bd3786\"],[0.5555555555555556,\"#d8576b\"],[0.6666666666666666,\"#ed7953\"],[0.7777777777777778,\"#fb9f3a\"],[0.8888888888888888,\"#fdca26\"],[1.0,\"#f0f921\"]]},\"colorway\":[\"#636efa\",\"#EF553B\",\"#00cc96\",\"#ab63fa\",\"#FFA15A\",\"#19d3f3\",\"#FF6692\",\"#B6E880\",\"#FF97FF\",\"#FECB52\"],\"font\":{\"color\":\"#2a3f5f\"},\"geo\":{\"bgcolor\":\"white\",\"lakecolor\":\"white\",\"landcolor\":\"#E5ECF6\",\"showlakes\":true,\"showland\":true,\"subunitcolor\":\"white\"},\"hoverlabel\":{\"align\":\"left\"},\"hovermode\":\"closest\",\"mapbox\":{\"style\":\"light\"},\"paper_bgcolor\":\"white\",\"plot_bgcolor\":\"#E5ECF6\",\"polar\":{\"angularaxis\":{\"gridcolor\":\"white\",\"linecolor\":\"white\",\"ticks\":\"\"},\"bgcolor\":\"#E5ECF6\",\"radialaxis\":{\"gridcolor\":\"white\",\"linecolor\":\"white\",\"ticks\":\"\"}},\"scene\":{\"xaxis\":{\"backgroundcolor\":\"#E5ECF6\",\"gridcolor\":\"white\",\"gridwidth\":2,\"linecolor\":\"white\",\"showbackground\":true,\"ticks\":\"\",\"zerolinecolor\":\"white\"},\"yaxis\":{\"backgroundcolor\":\"#E5ECF6\",\"gridcolor\":\"white\",\"gridwidth\":2,\"linecolor\":\"white\",\"showbackground\":true,\"ticks\":\"\",\"zerolinecolor\":\"white\"},\"zaxis\":{\"backgroundcolor\":\"#E5ECF6\",\"gridcolor\":\"white\",\"gridwidth\":2,\"linecolor\":\"white\",\"showbackground\":true,\"ticks\":\"\",\"zerolinecolor\":\"white\"}},\"shapedefaults\":{\"line\":{\"color\":\"#2a3f5f\"}},\"ternary\":{\"aaxis\":{\"gridcolor\":\"white\",\"linecolor\":\"white\",\"ticks\":\"\"},\"baxis\":{\"gridcolor\":\"white\",\"linecolor\":\"white\",\"ticks\":\"\"},\"bgcolor\":\"#E5ECF6\",\"caxis\":{\"gridcolor\":\"white\",\"linecolor\":\"white\",\"ticks\":\"\"}},\"title\":{\"x\":0.05},\"xaxis\":{\"automargin\":true,\"gridcolor\":\"white\",\"linecolor\":\"white\",\"ticks\":\"\",\"title\":{\"standoff\":15},\"zerolinecolor\":\"white\",\"zerolinewidth\":2},\"yaxis\":{\"automargin\":true,\"gridcolor\":\"white\",\"linecolor\":\"white\",\"ticks\":\"\",\"title\":{\"standoff\":15},\"zerolinecolor\":\"white\",\"zerolinewidth\":2}}},\"updatemenus\":[{\"buttons\":[{\"args\":[{\"scene.annotations\":[{\"text\":\"O\",\"x\":41.039,\"y\":17.188,\"z\":11.242,\"showarrow\":false,\"yshift\":15},{\"text\":\"C\",\"x\":40.735,\"y\":17.514,\"z\":12.421,\"showarrow\":false,\"yshift\":15},{\"text\":\"O\",\"x\":40.373,\"y\":18.806,\"z\":12.715,\"showarrow\":false,\"yshift\":15},{\"text\":\"C\",\"x\":40.775,\"y\":16.529,\"z\":13.51,\"showarrow\":false,\"yshift\":15},{\"text\":\"O\",\"x\":42.056,\"y\":15.953,\"z\":13.53,\"showarrow\":false,\"yshift\":15},{\"text\":\"C\",\"x\":42.358,\"y\":15.038,\"z\":14.508,\"showarrow\":false,\"yshift\":15},{\"text\":\"C\",\"x\":43.256,\"y\":15.323,\"z\":15.509,\"showarrow\":false,\"yshift\":15},{\"text\":\"C\",\"x\":43.917,\"y\":16.597,\"z\":15.777,\"showarrow\":false,\"yshift\":15},{\"text\":\"O\",\"x\":43.649,\"y\":17.652,\"z\":15.139,\"showarrow\":false,\"yshift\":15},{\"text\":\"O\",\"x\":44.856,\"y\":16.621,\"z\":16.78,\"showarrow\":false,\"yshift\":15},{\"text\":\"S\",\"x\":43.357,\"y\":13.98,\"z\":16.515,\"showarrow\":false,\"yshift\":15},{\"text\":\"C\",\"x\":42.242,\"y\":13.02,\"z\":15.683,\"showarrow\":false,\"yshift\":15},{\"text\":\"C\",\"x\":41.93,\"y\":11.624,\"z\":16.062,\"showarrow\":false,\"yshift\":15},{\"text\":\"C\",\"x\":42.944,\"y\":10.838,\"z\":16.638,\"showarrow\":false,\"yshift\":15},{\"text\":\"C\",\"x\":42.707,\"y\":9.503,\"z\":16.987,\"showarrow\":false,\"yshift\":15},{\"text\":\"C\",\"x\":41.439,\"y\":8.945,\"z\":16.773,\"showarrow\":false,\"yshift\":15},{\"text\":\"C\",\"x\":40.409,\"y\":9.736,\"z\":16.226,\"showarrow\":false,\"yshift\":15},{\"text\":\"N\",\"x\":39.103,\"y\":9.223,\"z\":15.992,\"showarrow\":false,\"yshift\":15},{\"text\":\"C\",\"x\":38.749,\"y\":8.357,\"z\":14.885,\"showarrow\":false,\"yshift\":15},{\"text\":\"C\",\"x\":39.987,\"y\":7.552,\"z\":14.535,\"showarrow\":false,\"yshift\":15},{\"text\":\"C\",\"x\":39.71,\"y\":6.561,\"z\":13.419,\"showarrow\":false,\"yshift\":15},{\"text\":\"N\",\"x\":38.481,\"y\":5.785,\"z\":13.615,\"showarrow\":false,\"yshift\":15},{\"text\":\"S\",\"x\":38.713,\"y\":4.094,\"z\":13.851,\"showarrow\":false,\"yshift\":15},{\"text\":\"O\",\"x\":37.419,\"y\":3.343,\"z\":13.936,\"showarrow\":false,\"yshift\":15},{\"text\":\"O\",\"x\":39.66,\"y\":3.51,\"z\":12.845,\"showarrow\":false,\"yshift\":15},{\"text\":\"C\",\"x\":39.5,\"y\":3.93,\"z\":15.446,\"showarrow\":false,\"yshift\":15},{\"text\":\"C\",\"x\":39.94,\"y\":2.526,\"z\":15.686,\"showarrow\":false,\"yshift\":15},{\"text\":\"C\",\"x\":39.035,\"y\":1.583,\"z\":16.185,\"showarrow\":false,\"yshift\":15},{\"text\":\"C\",\"x\":39.444,\"y\":0.263,\"z\":16.396,\"showarrow\":false,\"yshift\":15},{\"text\":\"C\",\"x\":40.758,\"y\":-0.116,\"z\":16.107,\"showarrow\":false,\"yshift\":15},{\"text\":\"C\",\"x\":41.663,\"y\":0.824,\"z\":15.605,\"showarrow\":false,\"yshift\":15},{\"text\":\"C\",\"x\":41.255,\"y\":2.144,\"z\":15.393,\"showarrow\":false,\"yshift\":15},{\"text\":\"C\",\"x\":37.31,\"y\":6.381,\"z\":14.27,\"showarrow\":false,\"yshift\":15},{\"text\":\"C\",\"x\":37.661,\"y\":7.397,\"z\":15.346,\"showarrow\":false,\"yshift\":15},{\"text\":\"C\",\"x\":40.656,\"y\":11.068,\"z\":15.876,\"showarrow\":false,\"yshift\":15},{\"text\":\"C\",\"x\":41.78,\"y\":13.756,\"z\":14.586,\"showarrow\":false,\"yshift\":15},{\"text\":\"Br\",\"x\":40.555,\"y\":13.098,\"z\":13.269,\"showarrow\":false,\"yshift\":15},{\"text\":\"H\",\"x\":40.575,\"y\":17.028,\"z\":14.47,\"showarrow\":false,\"yshift\":15},{\"text\":\"H\",\"x\":40.01,\"y\":15.755,\"z\":13.351,\"showarrow\":false,\"yshift\":15},{\"text\":\"H\",\"x\":43.936,\"y\":11.278,\"z\":16.816,\"showarrow\":false,\"yshift\":15},{\"text\":\"H\",\"x\":43.512,\"y\":8.895,\"z\":17.426,\"showarrow\":false,\"yshift\":15},{\"text\":\"H\",\"x\":41.248,\"y\":7.893,\"z\":17.031,\"showarrow\":false,\"yshift\":15},{\"text\":\"H\",\"x\":38.358,\"y\":9.483,\"z\":16.654,\"showarrow\":false,\"yshift\":15},{\"text\":\"H\",\"x\":38.394,\"y\":8.939,\"z\":14.021,\"showarrow\":false,\"yshift\":15},{\"text\":\"H\",\"x\":40.782,\"y\":8.24,\"z\":14.213,\"showarrow\":false,\"yshift\":15},{\"text\":\"H\",\"x\":40.294,\"y\":6.988,\"z\":15.428,\"showarrow\":false,\"yshift\":15},{\"text\":\"H\",\"x\":39.624,\"y\":7.117,\"z\":12.473,\"showarrow\":false,\"yshift\":15},{\"text\":\"H\",\"x\":40.546,\"y\":5.845,\"z\":13.407,\"showarrow\":false,\"yshift\":15},{\"text\":\"H\",\"x\":40.377,\"y\":4.593,\"z\":15.483,\"showarrow\":false,\"yshift\":15},{\"text\":\"H\",\"x\":38.773,\"y\":4.206,\"z\":16.224,\"showarrow\":false,\"yshift\":15},{\"text\":\"H\",\"x\":38.0,\"y\":1.881,\"z\":16.411,\"showarrow\":false,\"yshift\":15},{\"text\":\"H\",\"x\":38.732,\"y\":-0.477,\"z\":16.79,\"showarrow\":false,\"yshift\":15},{\"text\":\"H\",\"x\":41.08,\"y\":-1.155,\"z\":16.274,\"showarrow\":false,\"yshift\":15},{\"text\":\"H\",\"x\":42.697,\"y\":0.525,\"z\":15.377,\"showarrow\":false,\"yshift\":15},{\"text\":\"H\",\"x\":41.967,\"y\":2.883,\"z\":14.997,\"showarrow\":false,\"yshift\":15},{\"text\":\"H\",\"x\":36.702,\"y\":6.883,\"z\":13.503,\"showarrow\":false,\"yshift\":15},{\"text\":\"H\",\"x\":36.768,\"y\":5.562,\"z\":14.765,\"showarrow\":false,\"yshift\":15},{\"text\":\"H\",\"x\":36.76,\"y\":7.975,\"z\":15.598,\"showarrow\":false,\"yshift\":15},{\"text\":\"H\",\"x\":38.038,\"y\":6.85,\"z\":16.223,\"showarrow\":false,\"yshift\":15},{\"text\":\"H\",\"x\":39.847,\"y\":11.681,\"z\":15.453,\"showarrow\":false,\"yshift\":15}]}],\"label\":\" Elements\",\"method\":\"relayout\"},{\"args\":[{\"scene.annotations\":[{\"text\":\"O1\",\"x\":41.039,\"y\":17.188,\"z\":11.242,\"showarrow\":false,\"yshift\":15},{\"text\":\"C1\",\"x\":40.735,\"y\":17.514,\"z\":12.421,\"showarrow\":false,\"yshift\":15},{\"text\":\"O2\",\"x\":40.373,\"y\":18.806,\"z\":12.715,\"showarrow\":false,\"yshift\":15},{\"text\":\"C2\",\"x\":40.775,\"y\":16.529,\"z\":13.51,\"showarrow\":false,\"yshift\":15},{\"text\":\"O3\",\"x\":42.056,\"y\":15.953,\"z\":13.53,\"showarrow\":false,\"yshift\":15},{\"text\":\"C3\",\"x\":42.358,\"y\":15.038,\"z\":14.508,\"showarrow\":false,\"yshift\":15},{\"text\":\"C4\",\"x\":43.256,\"y\":15.323,\"z\":15.509,\"showarrow\":false,\"yshift\":15},{\"text\":\"C5\",\"x\":43.917,\"y\":16.597,\"z\":15.777,\"showarrow\":false,\"yshift\":15},{\"text\":\"O4\",\"x\":43.649,\"y\":17.652,\"z\":15.139,\"showarrow\":false,\"yshift\":15},{\"text\":\"O5\",\"x\":44.856,\"y\":16.621,\"z\":16.78,\"showarrow\":false,\"yshift\":15},{\"text\":\"S1\",\"x\":43.357,\"y\":13.98,\"z\":16.515,\"showarrow\":false,\"yshift\":15},{\"text\":\"C6\",\"x\":42.242,\"y\":13.02,\"z\":15.683,\"showarrow\":false,\"yshift\":15},{\"text\":\"C7\",\"x\":41.93,\"y\":11.624,\"z\":16.062,\"showarrow\":false,\"yshift\":15},{\"text\":\"C8\",\"x\":42.944,\"y\":10.838,\"z\":16.638,\"showarrow\":false,\"yshift\":15},{\"text\":\"C9\",\"x\":42.707,\"y\":9.503,\"z\":16.987,\"showarrow\":false,\"yshift\":15},{\"text\":\"C10\",\"x\":41.439,\"y\":8.945,\"z\":16.773,\"showarrow\":false,\"yshift\":15},{\"text\":\"C11\",\"x\":40.409,\"y\":9.736,\"z\":16.226,\"showarrow\":false,\"yshift\":15},{\"text\":\"N1\",\"x\":39.103,\"y\":9.223,\"z\":15.992,\"showarrow\":false,\"yshift\":15},{\"text\":\"C12\",\"x\":38.749,\"y\":8.357,\"z\":14.885,\"showarrow\":false,\"yshift\":15},{\"text\":\"C13\",\"x\":39.987,\"y\":7.552,\"z\":14.535,\"showarrow\":false,\"yshift\":15},{\"text\":\"C14\",\"x\":39.71,\"y\":6.561,\"z\":13.419,\"showarrow\":false,\"yshift\":15},{\"text\":\"N2\",\"x\":38.481,\"y\":5.785,\"z\":13.615,\"showarrow\":false,\"yshift\":15},{\"text\":\"S2\",\"x\":38.713,\"y\":4.094,\"z\":13.851,\"showarrow\":false,\"yshift\":15},{\"text\":\"O6\",\"x\":37.419,\"y\":3.343,\"z\":13.936,\"showarrow\":false,\"yshift\":15},{\"text\":\"O7\",\"x\":39.66,\"y\":3.51,\"z\":12.845,\"showarrow\":false,\"yshift\":15},{\"text\":\"C15\",\"x\":39.5,\"y\":3.93,\"z\":15.446,\"showarrow\":false,\"yshift\":15},{\"text\":\"C16\",\"x\":39.94,\"y\":2.526,\"z\":15.686,\"showarrow\":false,\"yshift\":15},{\"text\":\"C17\",\"x\":39.035,\"y\":1.583,\"z\":16.185,\"showarrow\":false,\"yshift\":15},{\"text\":\"C18\",\"x\":39.444,\"y\":0.263,\"z\":16.396,\"showarrow\":false,\"yshift\":15},{\"text\":\"C19\",\"x\":40.758,\"y\":-0.116,\"z\":16.107,\"showarrow\":false,\"yshift\":15},{\"text\":\"C20\",\"x\":41.663,\"y\":0.824,\"z\":15.605,\"showarrow\":false,\"yshift\":15},{\"text\":\"C21\",\"x\":41.255,\"y\":2.144,\"z\":15.393,\"showarrow\":false,\"yshift\":15},{\"text\":\"C22\",\"x\":37.31,\"y\":6.381,\"z\":14.27,\"showarrow\":false,\"yshift\":15},{\"text\":\"C23\",\"x\":37.661,\"y\":7.397,\"z\":15.346,\"showarrow\":false,\"yshift\":15},{\"text\":\"C24\",\"x\":40.656,\"y\":11.068,\"z\":15.876,\"showarrow\":false,\"yshift\":15},{\"text\":\"C25\",\"x\":41.78,\"y\":13.756,\"z\":14.586,\"showarrow\":false,\"yshift\":15},{\"text\":\"Br1\",\"x\":40.555,\"y\":13.098,\"z\":13.269,\"showarrow\":false,\"yshift\":15},{\"text\":\"H1\",\"x\":40.575,\"y\":17.028,\"z\":14.47,\"showarrow\":false,\"yshift\":15},{\"text\":\"H2\",\"x\":40.01,\"y\":15.755,\"z\":13.351,\"showarrow\":false,\"yshift\":15},{\"text\":\"H3\",\"x\":43.936,\"y\":11.278,\"z\":16.816,\"showarrow\":false,\"yshift\":15},{\"text\":\"H4\",\"x\":43.512,\"y\":8.895,\"z\":17.426,\"showarrow\":false,\"yshift\":15},{\"text\":\"H5\",\"x\":41.248,\"y\":7.893,\"z\":17.031,\"showarrow\":false,\"yshift\":15},{\"text\":\"H6\",\"x\":38.358,\"y\":9.483,\"z\":16.654,\"showarrow\":false,\"yshift\":15},{\"text\":\"H7\",\"x\":38.394,\"y\":8.939,\"z\":14.021,\"showarrow\":false,\"yshift\":15},{\"text\":\"H8\",\"x\":40.782,\"y\":8.24,\"z\":14.213,\"showarrow\":false,\"yshift\":15},{\"text\":\"H9\",\"x\":40.294,\"y\":6.988,\"z\":15.428,\"showarrow\":false,\"yshift\":15},{\"text\":\"H10\",\"x\":39.624,\"y\":7.117,\"z\":12.473,\"showarrow\":false,\"yshift\":15},{\"text\":\"H11\",\"x\":40.546,\"y\":5.845,\"z\":13.407,\"showarrow\":false,\"yshift\":15},{\"text\":\"H12\",\"x\":40.377,\"y\":4.593,\"z\":15.483,\"showarrow\":false,\"yshift\":15},{\"text\":\"H13\",\"x\":38.773,\"y\":4.206,\"z\":16.224,\"showarrow\":false,\"yshift\":15},{\"text\":\"H14\",\"x\":38.0,\"y\":1.881,\"z\":16.411,\"showarrow\":false,\"yshift\":15},{\"text\":\"H15\",\"x\":38.732,\"y\":-0.477,\"z\":16.79,\"showarrow\":false,\"yshift\":15},{\"text\":\"H16\",\"x\":41.08,\"y\":-1.155,\"z\":16.274,\"showarrow\":false,\"yshift\":15},{\"text\":\"H17\",\"x\":42.697,\"y\":0.525,\"z\":15.377,\"showarrow\":false,\"yshift\":15},{\"text\":\"H18\",\"x\":41.967,\"y\":2.883,\"z\":14.997,\"showarrow\":false,\"yshift\":15},{\"text\":\"H19\",\"x\":36.702,\"y\":6.883,\"z\":13.503,\"showarrow\":false,\"yshift\":15},{\"text\":\"H20\",\"x\":36.768,\"y\":5.562,\"z\":14.765,\"showarrow\":false,\"yshift\":15},{\"text\":\"H21\",\"x\":36.76,\"y\":7.975,\"z\":15.598,\"showarrow\":false,\"yshift\":15},{\"text\":\"H22\",\"x\":38.038,\"y\":6.85,\"z\":16.223,\"showarrow\":false,\"yshift\":15},{\"text\":\"H23\",\"x\":39.847,\"y\":11.681,\"z\":15.453,\"showarrow\":false,\"yshift\":15}]}],\"label\":\"Atom Name\",\"method\":\"relayout\"},{\"args\":[{\"scene.annotations\":[{\"text\":\"O.co2\",\"x\":41.039,\"y\":17.188,\"z\":11.242,\"showarrow\":false,\"yshift\":15},{\"text\":\"C.2\",\"x\":40.735,\"y\":17.514,\"z\":12.421,\"showarrow\":false,\"yshift\":15},{\"text\":\"O.co2\",\"x\":40.373,\"y\":18.806,\"z\":12.715,\"showarrow\":false,\"yshift\":15},{\"text\":\"C.3\",\"x\":40.775,\"y\":16.529,\"z\":13.51,\"showarrow\":false,\"yshift\":15},{\"text\":\"O.3\",\"x\":42.056,\"y\":15.953,\"z\":13.53,\"showarrow\":false,\"yshift\":15},{\"text\":\"C.2\",\"x\":42.358,\"y\":15.038,\"z\":14.508,\"showarrow\":false,\"yshift\":15},{\"text\":\"C.2\",\"x\":43.256,\"y\":15.323,\"z\":15.509,\"showarrow\":false,\"yshift\":15},{\"text\":\"C.2\",\"x\":43.917,\"y\":16.597,\"z\":15.777,\"showarrow\":false,\"yshift\":15},{\"text\":\"O.co2\",\"x\":43.649,\"y\":17.652,\"z\":15.139,\"showarrow\":false,\"yshift\":15},{\"text\":\"O.co2\",\"x\":44.856,\"y\":16.621,\"z\":16.78,\"showarrow\":false,\"yshift\":15},{\"text\":\"S.3\",\"x\":43.357,\"y\":13.98,\"z\":16.515,\"showarrow\":false,\"yshift\":15},{\"text\":\"C.2\",\"x\":42.242,\"y\":13.02,\"z\":15.683,\"showarrow\":false,\"yshift\":15},{\"text\":\"C.ar\",\"x\":41.93,\"y\":11.624,\"z\":16.062,\"showarrow\":false,\"yshift\":15},{\"text\":\"C.ar\",\"x\":42.944,\"y\":10.838,\"z\":16.638,\"showarrow\":false,\"yshift\":15},{\"text\":\"C.ar\",\"x\":42.707,\"y\":9.503,\"z\":16.987,\"showarrow\":false,\"yshift\":15},{\"text\":\"C.ar\",\"x\":41.439,\"y\":8.945,\"z\":16.773,\"showarrow\":false,\"yshift\":15},{\"text\":\"C.ar\",\"x\":40.409,\"y\":9.736,\"z\":16.226,\"showarrow\":false,\"yshift\":15},{\"text\":\"N.3\",\"x\":39.103,\"y\":9.223,\"z\":15.992,\"showarrow\":false,\"yshift\":15},{\"text\":\"C.3\",\"x\":38.749,\"y\":8.357,\"z\":14.885,\"showarrow\":false,\"yshift\":15},{\"text\":\"C.3\",\"x\":39.987,\"y\":7.552,\"z\":14.535,\"showarrow\":false,\"yshift\":15},{\"text\":\"C.3\",\"x\":39.71,\"y\":6.561,\"z\":13.419,\"showarrow\":false,\"yshift\":15},{\"text\":\"N.3\",\"x\":38.481,\"y\":5.785,\"z\":13.615,\"showarrow\":false,\"yshift\":15},{\"text\":\"S.o2\",\"x\":38.713,\"y\":4.094,\"z\":13.851,\"showarrow\":false,\"yshift\":15},{\"text\":\"O.2\",\"x\":37.419,\"y\":3.343,\"z\":13.936,\"showarrow\":false,\"yshift\":15},{\"text\":\"O.2\",\"x\":39.66,\"y\":3.51,\"z\":12.845,\"showarrow\":false,\"yshift\":15},{\"text\":\"C.3\",\"x\":39.5,\"y\":3.93,\"z\":15.446,\"showarrow\":false,\"yshift\":15},{\"text\":\"C.ar\",\"x\":39.94,\"y\":2.526,\"z\":15.686,\"showarrow\":false,\"yshift\":15},{\"text\":\"C.ar\",\"x\":39.035,\"y\":1.583,\"z\":16.185,\"showarrow\":false,\"yshift\":15},{\"text\":\"C.ar\",\"x\":39.444,\"y\":0.263,\"z\":16.396,\"showarrow\":false,\"yshift\":15},{\"text\":\"C.ar\",\"x\":40.758,\"y\":-0.116,\"z\":16.107,\"showarrow\":false,\"yshift\":15},{\"text\":\"C.ar\",\"x\":41.663,\"y\":0.824,\"z\":15.605,\"showarrow\":false,\"yshift\":15},{\"text\":\"C.ar\",\"x\":41.255,\"y\":2.144,\"z\":15.393,\"showarrow\":false,\"yshift\":15},{\"text\":\"C.3\",\"x\":37.31,\"y\":6.381,\"z\":14.27,\"showarrow\":false,\"yshift\":15},{\"text\":\"C.3\",\"x\":37.661,\"y\":7.397,\"z\":15.346,\"showarrow\":false,\"yshift\":15},{\"text\":\"C.ar\",\"x\":40.656,\"y\":11.068,\"z\":15.876,\"showarrow\":false,\"yshift\":15},{\"text\":\"C.2\",\"x\":41.78,\"y\":13.756,\"z\":14.586,\"showarrow\":false,\"yshift\":15},{\"text\":\"Br\",\"x\":40.555,\"y\":13.098,\"z\":13.269,\"showarrow\":false,\"yshift\":15},{\"text\":\"H\",\"x\":40.575,\"y\":17.028,\"z\":14.47,\"showarrow\":false,\"yshift\":15},{\"text\":\"H\",\"x\":40.01,\"y\":15.755,\"z\":13.351,\"showarrow\":false,\"yshift\":15},{\"text\":\"H\",\"x\":43.936,\"y\":11.278,\"z\":16.816,\"showarrow\":false,\"yshift\":15},{\"text\":\"H\",\"x\":43.512,\"y\":8.895,\"z\":17.426,\"showarrow\":false,\"yshift\":15},{\"text\":\"H\",\"x\":41.248,\"y\":7.893,\"z\":17.031,\"showarrow\":false,\"yshift\":15},{\"text\":\"H\",\"x\":38.358,\"y\":9.483,\"z\":16.654,\"showarrow\":false,\"yshift\":15},{\"text\":\"H\",\"x\":38.394,\"y\":8.939,\"z\":14.021,\"showarrow\":false,\"yshift\":15},{\"text\":\"H\",\"x\":40.782,\"y\":8.24,\"z\":14.213,\"showarrow\":false,\"yshift\":15},{\"text\":\"H\",\"x\":40.294,\"y\":6.988,\"z\":15.428,\"showarrow\":false,\"yshift\":15},{\"text\":\"H\",\"x\":39.624,\"y\":7.117,\"z\":12.473,\"showarrow\":false,\"yshift\":15},{\"text\":\"H\",\"x\":40.546,\"y\":5.845,\"z\":13.407,\"showarrow\":false,\"yshift\":15},{\"text\":\"H\",\"x\":40.377,\"y\":4.593,\"z\":15.483,\"showarrow\":false,\"yshift\":15},{\"text\":\"H\",\"x\":38.773,\"y\":4.206,\"z\":16.224,\"showarrow\":false,\"yshift\":15},{\"text\":\"H\",\"x\":38.0,\"y\":1.881,\"z\":16.411,\"showarrow\":false,\"yshift\":15},{\"text\":\"H\",\"x\":38.732,\"y\":-0.477,\"z\":16.79,\"showarrow\":false,\"yshift\":15},{\"text\":\"H\",\"x\":41.08,\"y\":-1.155,\"z\":16.274,\"showarrow\":false,\"yshift\":15},{\"text\":\"H\",\"x\":42.697,\"y\":0.525,\"z\":15.377,\"showarrow\":false,\"yshift\":15},{\"text\":\"H\",\"x\":41.967,\"y\":2.883,\"z\":14.997,\"showarrow\":false,\"yshift\":15},{\"text\":\"H\",\"x\":36.702,\"y\":6.883,\"z\":13.503,\"showarrow\":false,\"yshift\":15},{\"text\":\"H\",\"x\":36.768,\"y\":5.562,\"z\":14.765,\"showarrow\":false,\"yshift\":15},{\"text\":\"H\",\"x\":36.76,\"y\":7.975,\"z\":15.598,\"showarrow\":false,\"yshift\":15},{\"text\":\"H\",\"x\":38.038,\"y\":6.85,\"z\":16.223,\"showarrow\":false,\"yshift\":15},{\"text\":\"H\",\"x\":39.847,\"y\":11.681,\"z\":15.453,\"showarrow\":false,\"yshift\":15}]}],\"label\":\"Atom Type\",\"method\":\"relayout\"},{\"args\":[{\"scene.annotations\":[{\"text\":\"1\",\"x\":40.887,\"y\":17.351,\"z\":11.8315,\"showarrow\":false,\"yshift\":15,\"font\":{\"color\":\"steelblue\"}},{\"text\":\"1\",\"x\":40.554,\"y\":18.16,\"z\":12.568,\"showarrow\":false,\"yshift\":15,\"font\":{\"color\":\"steelblue\"}},{\"text\":\"1\",\"x\":40.754999999999995,\"y\":17.0215,\"z\":12.965499999999999,\"showarrow\":false,\"yshift\":15,\"font\":{\"color\":\"steelblue\"}},{\"text\":\"1\",\"x\":41.415499999999994,\"y\":16.241,\"z\":13.52,\"showarrow\":false,\"yshift\":15,\"font\":{\"color\":\"steelblue\"}},{\"text\":\"1\",\"x\":40.675,\"y\":16.7785,\"z\":13.99,\"showarrow\":false,\"yshift\":15,\"font\":{\"color\":\"steelblue\"}},{\"text\":\"2\",\"x\":40.3925,\"y\":16.142,\"z\":13.4305,\"showarrow\":false,\"yshift\":15,\"font\":{\"color\":\"steelblue\"}},{\"text\":\"1\",\"x\":42.206999999999994,\"y\":15.4955,\"z\":14.018999999999998,\"showarrow\":false,\"yshift\":15,\"font\":{\"color\":\"steelblue\"}},{\"text\":\"1\",\"x\":42.807,\"y\":15.1805,\"z\":15.0085,\"showarrow\":false,\"yshift\":15,\"font\":{\"color\":\"steelblue\"}},{\"text\":\"1\",\"x\":42.069,\"y\":14.397,\"z\":14.547,\"showarrow\":false,\"yshift\":15,\"font\":{\"color\":\"steelblue\"}},{\"text\":\"1\",\"x\":43.5865,\"y\":15.96,\"z\":15.643,\"showarrow\":false,\"yshift\":15,\"font\":{\"color\":\"steelblue\"}},{\"text\":\"1\",\"x\":43.3065,\"y\":14.6515,\"z\":16.012,\"showarrow\":false,\"yshift\":15,\"font\":{\"color\":\"steelblue\"}},{\"text\":\"1\",\"x\":43.783,\"y\":17.1245,\"z\":15.457999999999998,\"showarrow\":false,\"yshift\":15,\"font\":{\"color\":\"steelblue\"}},{\"text\":\"ar\",\"x\":44.3865,\"y\":16.609,\"z\":16.2785,\"showarrow\":false,\"yshift\":15,\"font\":{\"color\":\"steelblue\"}},{\"text\":\"ar\",\"x\":42.799499999999995,\"y\":13.5,\"z\":16.099,\"showarrow\":false,\"yshift\":15,\"font\":{\"color\":\"steelblue\"}},{\"text\":\"ar\",\"x\":42.086,\"y\":12.322,\"z\":15.8725,\"showarrow\":false,\"yshift\":15,\"font\":{\"color\":\"steelblue\"}},{\"text\":\"ar\",\"x\":42.010999999999996,\"y\":13.388,\"z\":15.1345,\"showarrow\":false,\"yshift\":15,\"font\":{\"color\":\"steelblue\"}},{\"text\":\"1\",\"x\":42.437,\"y\":11.231,\"z\":16.35,\"showarrow\":false,\"yshift\":15,\"font\":{\"color\":\"steelblue\"}},{\"text\":\"1\",\"x\":41.293,\"y\":11.346,\"z\":15.969000000000001,\"showarrow\":false,\"yshift\":15,\"font\":{\"color\":\"steelblue\"}},{\"text\":\"1\",\"x\":42.825500000000005,\"y\":10.1705,\"z\":16.8125,\"showarrow\":false,\"yshift\":15,\"font\":{\"color\":\"steelblue\"}},{\"text\":\"1\",\"x\":43.44,\"y\":11.058,\"z\":16.727,\"showarrow\":false,\"yshift\":15,\"font\":{\"color\":\"steelblue\"}},{\"text\":\"1\",\"x\":42.073,\"y\":9.224,\"z\":16.88,\"showarrow\":false,\"yshift\":15,\"font\":{\"color\":\"steelblue\"}},{\"text\":\"1\",\"x\":43.1095,\"y\":9.199,\"z\":17.2065,\"showarrow\":false,\"yshift\":15,\"font\":{\"color\":\"steelblue\"}},{\"text\":\"2\",\"x\":40.924,\"y\":9.3405,\"z\":16.499499999999998,\"showarrow\":false,\"yshift\":15,\"font\":{\"color\":\"steelblue\"}},{\"text\":\"2\",\"x\":41.3435,\"y\":8.419,\"z\":16.902,\"showarrow\":false,\"yshift\":15,\"font\":{\"color\":\"steelblue\"}},{\"text\":\"1\",\"x\":39.756,\"y\":9.479500000000002,\"z\":16.109,\"showarrow\":false,\"yshift\":15,\"font\":{\"color\":\"steelblue\"}},{\"text\":\"1\",\"x\":40.5325,\"y\":10.402000000000001,\"z\":16.051,\"showarrow\":false,\"yshift\":15,\"font\":{\"color\":\"steelblue\"}},{\"text\":\"ar\",\"x\":38.926,\"y\":8.79,\"z\":15.438500000000001,\"showarrow\":false,\"yshift\":15,\"font\":{\"color\":\"steelblue\"}},{\"text\":\"ar\",\"x\":38.7305,\"y\":9.353000000000002,\"z\":16.323,\"showarrow\":false,\"yshift\":15,\"font\":{\"color\":\"steelblue\"}},{\"text\":\"ar\",\"x\":39.368,\"y\":7.9544999999999995,\"z\":14.71,\"showarrow\":false,\"yshift\":15,\"font\":{\"color\":\"steelblue\"}},{\"text\":\"ar\",\"x\":38.205,\"y\":7.877,\"z\":15.1155,\"showarrow\":false,\"yshift\":15,\"font\":{\"color\":\"steelblue\"}},{\"text\":\"ar\",\"x\":38.5715,\"y\":8.648,\"z\":14.453,\"showarrow\":false,\"yshift\":15,\"font\":{\"color\":\"steelblue\"}},{\"text\":\"1\",\"x\":39.8485,\"y\":7.0565,\"z\":13.977,\"showarrow\":false,\"yshift\":15,\"font\":{\"color\":\"steelblue\"}},{\"text\":\"1\",\"x\":40.3845,\"y\":7.896,\"z\":14.373999999999999,\"showarrow\":false,\"yshift\":15,\"font\":{\"color\":\"steelblue\"}},{\"text\":\"ar\",\"x\":40.1405,\"y\":7.27,\"z\":14.9815,\"showarrow\":false,\"yshift\":15,\"font\":{\"color\":\"steelblue\"}},{\"text\":\"2\",\"x\":39.0955,\"y\":6.173,\"z\":13.517,\"showarrow\":false,\"yshift\":15,\"font\":{\"color\":\"steelblue\"}},{\"text\":\"1\",\"x\":39.667,\"y\":6.839,\"z\":12.946000000000002,\"showarrow\":false,\"yshift\":15,\"font\":{\"color\":\"steelblue\"}},{\"text\":\"1\",\"x\":40.128,\"y\":6.202999999999999,\"z\":13.413,\"showarrow\":false,\"yshift\":15,\"font\":{\"color\":\"steelblue\"}},{\"text\":\"ar\",\"x\":38.597,\"y\":4.939500000000001,\"z\":13.733,\"showarrow\":false,\"yshift\":15,\"font\":{\"color\":\"steelblue\"}},{\"text\":\"1\",\"x\":37.8955,\"y\":6.083,\"z\":13.942499999999999,\"showarrow\":false,\"yshift\":15,\"font\":{\"color\":\"steelblue\"}},{\"text\":\"ar\",\"x\":38.066,\"y\":3.7185,\"z\":13.8935,\"showarrow\":false,\"yshift\":15,\"font\":{\"color\":\"steelblue\"}},{\"text\":\"1\",\"x\":39.186499999999995,\"y\":3.802,\"z\":13.348,\"showarrow\":false,\"yshift\":15,\"font\":{\"color\":\"steelblue\"}},{\"text\":\"1\",\"x\":39.1065,\"y\":4.0120000000000005,\"z\":14.6485,\"showarrow\":false,\"yshift\":15,\"font\":{\"color\":\"steelblue\"}},{\"text\":\"1\",\"x\":39.72,\"y\":3.2279999999999998,\"z\":15.565999999999999,\"showarrow\":false,\"yshift\":15,\"font\":{\"color\":\"steelblue\"}},{\"text\":\"1\",\"x\":39.938500000000005,\"y\":4.2615,\"z\":15.464500000000001,\"showarrow\":false,\"yshift\":15,\"font\":{\"color\":\"steelblue\"}},{\"text\":\"1\",\"x\":39.1365,\"y\":4.0680000000000005,\"z\":15.835,\"showarrow\":false,\"yshift\":15,\"font\":{\"color\":\"steelblue\"}},{\"text\":\"1\",\"x\":39.4875,\"y\":2.0545,\"z\":15.9355,\"showarrow\":false,\"yshift\":15,\"font\":{\"color\":\"steelblue\"}},{\"text\":\"1\",\"x\":40.5975,\"y\":2.335,\"z\":15.5395,\"showarrow\":false,\"yshift\":15,\"font\":{\"color\":\"steelblue\"}},{\"text\":\"1\",\"x\":39.2395,\"y\":0.923,\"z\":16.2905,\"showarrow\":false,\"yshift\":15,\"font\":{\"color\":\"steelblue\"}},{\"text\":\"1\",\"x\":38.5175,\"y\":1.732,\"z\":16.298000000000002,\"showarrow\":false,\"yshift\":15,\"font\":{\"color\":\"steelblue\"}},{\"text\":\"1\",\"x\":40.101,\"y\":0.07350000000000001,\"z\":16.2515,\"showarrow\":false,\"yshift\":15,\"font\":{\"color\":\"steelblue\"}},{\"text\":\"1\",\"x\":39.088,\"y\":-0.10699999999999998,\"z\":16.593,\"showarrow\":false,\"yshift\":15,\"font\":{\"color\":\"steelblue\"}},{\"text\":\"1\",\"x\":41.210499999999996,\"y\":0.354,\"z\":15.856,\"showarrow\":false,\"yshift\":15,\"font\":{\"color\":\"steelblue\"}},{\"text\":\"1\",\"x\":40.919,\"y\":-0.6355000000000001,\"z\":16.1905,\"showarrow\":false,\"yshift\":15,\"font\":{\"color\":\"steelblue\"}},{\"text\":\"1\",\"x\":41.459,\"y\":1.484,\"z\":15.499,\"showarrow\":false,\"yshift\":15,\"font\":{\"color\":\"steelblue\"}},{\"text\":\"1\",\"x\":42.18,\"y\":0.6745,\"z\":15.491,\"showarrow\":false,\"yshift\":15,\"font\":{\"color\":\"steelblue\"}},{\"text\":\"1\",\"x\":41.611000000000004,\"y\":2.5135,\"z\":15.195,\"showarrow\":false,\"yshift\":15,\"font\":{\"color\":\"steelblue\"}},{\"text\":\"1\",\"x\":37.4855,\"y\":6.889,\"z\":14.808,\"showarrow\":false,\"yshift\":15,\"font\":{\"color\":\"steelblue\"}},{\"text\":\"1\",\"x\":37.006,\"y\":6.632,\"z\":13.8865,\"showarrow\":false,\"yshift\":15,\"font\":{\"color\":\"steelblue\"}},{\"text\":\"1\",\"x\":37.039,\"y\":5.971500000000001,\"z\":14.5175,\"showarrow\":false,\"yshift\":15,\"font\":{\"color\":\"steelblue\"}},{\"text\":\"1\",\"x\":37.210499999999996,\"y\":7.686,\"z\":15.472000000000001,\"showarrow\":false,\"yshift\":15,\"font\":{\"color\":\"steelblue\"}},{\"text\":\"1\",\"x\":37.8495,\"y\":7.1235,\"z\":15.7845,\"showarrow\":false,\"yshift\":15,\"font\":{\"color\":\"steelblue\"}},{\"text\":\"1\",\"x\":40.2515,\"y\":11.3745,\"z\":15.6645,\"showarrow\":false,\"yshift\":15,\"font\":{\"color\":\"steelblue\"}},{\"text\":\"1\",\"x\":41.167500000000004,\"y\":13.427,\"z\":13.9275,\"showarrow\":false,\"yshift\":15,\"font\":{\"color\":\"steelblue\"}}]}],\"label\":\"Bond Type\",\"method\":\"relayout\"},{\"args\":[{\"scene.annotations\":[{\"text\":\"O\",\"x\":41.039,\"y\":17.188,\"z\":11.242,\"showarrow\":false,\"yshift\":15},{\"text\":\"C\",\"x\":40.735,\"y\":17.514,\"z\":12.421,\"showarrow\":false,\"yshift\":15},{\"text\":\"O\",\"x\":40.373,\"y\":18.806,\"z\":12.715,\"showarrow\":false,\"yshift\":15},{\"text\":\"C\",\"x\":40.775,\"y\":16.529,\"z\":13.51,\"showarrow\":false,\"yshift\":15},{\"text\":\"O\",\"x\":42.056,\"y\":15.953,\"z\":13.53,\"showarrow\":false,\"yshift\":15},{\"text\":\"C\",\"x\":42.358,\"y\":15.038,\"z\":14.508,\"showarrow\":false,\"yshift\":15},{\"text\":\"C\",\"x\":43.256,\"y\":15.323,\"z\":15.509,\"showarrow\":false,\"yshift\":15},{\"text\":\"C\",\"x\":43.917,\"y\":16.597,\"z\":15.777,\"showarrow\":false,\"yshift\":15},{\"text\":\"O\",\"x\":43.649,\"y\":17.652,\"z\":15.139,\"showarrow\":false,\"yshift\":15},{\"text\":\"O\",\"x\":44.856,\"y\":16.621,\"z\":16.78,\"showarrow\":false,\"yshift\":15},{\"text\":\"S\",\"x\":43.357,\"y\":13.98,\"z\":16.515,\"showarrow\":false,\"yshift\":15},{\"text\":\"C\",\"x\":42.242,\"y\":13.02,\"z\":15.683,\"showarrow\":false,\"yshift\":15},{\"text\":\"C\",\"x\":41.93,\"y\":11.624,\"z\":16.062,\"showarrow\":false,\"yshift\":15},{\"text\":\"C\",\"x\":42.944,\"y\":10.838,\"z\":16.638,\"showarrow\":false,\"yshift\":15},{\"text\":\"C\",\"x\":42.707,\"y\":9.503,\"z\":16.987,\"showarrow\":false,\"yshift\":15},{\"text\":\"C\",\"x\":41.439,\"y\":8.945,\"z\":16.773,\"showarrow\":false,\"yshift\":15},{\"text\":\"C\",\"x\":40.409,\"y\":9.736,\"z\":16.226,\"showarrow\":false,\"yshift\":15},{\"text\":\"N\",\"x\":39.103,\"y\":9.223,\"z\":15.992,\"showarrow\":false,\"yshift\":15},{\"text\":\"C\",\"x\":38.749,\"y\":8.357,\"z\":14.885,\"showarrow\":false,\"yshift\":15},{\"text\":\"C\",\"x\":39.987,\"y\":7.552,\"z\":14.535,\"showarrow\":false,\"yshift\":15},{\"text\":\"C\",\"x\":39.71,\"y\":6.561,\"z\":13.419,\"showarrow\":false,\"yshift\":15},{\"text\":\"N\",\"x\":38.481,\"y\":5.785,\"z\":13.615,\"showarrow\":false,\"yshift\":15},{\"text\":\"S\",\"x\":38.713,\"y\":4.094,\"z\":13.851,\"showarrow\":false,\"yshift\":15},{\"text\":\"O\",\"x\":37.419,\"y\":3.343,\"z\":13.936,\"showarrow\":false,\"yshift\":15},{\"text\":\"O\",\"x\":39.66,\"y\":3.51,\"z\":12.845,\"showarrow\":false,\"yshift\":15},{\"text\":\"C\",\"x\":39.5,\"y\":3.93,\"z\":15.446,\"showarrow\":false,\"yshift\":15},{\"text\":\"C\",\"x\":39.94,\"y\":2.526,\"z\":15.686,\"showarrow\":false,\"yshift\":15},{\"text\":\"C\",\"x\":39.035,\"y\":1.583,\"z\":16.185,\"showarrow\":false,\"yshift\":15},{\"text\":\"C\",\"x\":39.444,\"y\":0.263,\"z\":16.396,\"showarrow\":false,\"yshift\":15},{\"text\":\"C\",\"x\":40.758,\"y\":-0.116,\"z\":16.107,\"showarrow\":false,\"yshift\":15},{\"text\":\"C\",\"x\":41.663,\"y\":0.824,\"z\":15.605,\"showarrow\":false,\"yshift\":15},{\"text\":\"C\",\"x\":41.255,\"y\":2.144,\"z\":15.393,\"showarrow\":false,\"yshift\":15},{\"text\":\"C\",\"x\":37.31,\"y\":6.381,\"z\":14.27,\"showarrow\":false,\"yshift\":15},{\"text\":\"C\",\"x\":37.661,\"y\":7.397,\"z\":15.346,\"showarrow\":false,\"yshift\":15},{\"text\":\"C\",\"x\":40.656,\"y\":11.068,\"z\":15.876,\"showarrow\":false,\"yshift\":15},{\"text\":\"C\",\"x\":41.78,\"y\":13.756,\"z\":14.586,\"showarrow\":false,\"yshift\":15},{\"text\":\"Br\",\"x\":40.555,\"y\":13.098,\"z\":13.269,\"showarrow\":false,\"yshift\":15},{\"text\":\"H\",\"x\":40.575,\"y\":17.028,\"z\":14.47,\"showarrow\":false,\"yshift\":15},{\"text\":\"H\",\"x\":40.01,\"y\":15.755,\"z\":13.351,\"showarrow\":false,\"yshift\":15},{\"text\":\"H\",\"x\":43.936,\"y\":11.278,\"z\":16.816,\"showarrow\":false,\"yshift\":15},{\"text\":\"H\",\"x\":43.512,\"y\":8.895,\"z\":17.426,\"showarrow\":false,\"yshift\":15},{\"text\":\"H\",\"x\":41.248,\"y\":7.893,\"z\":17.031,\"showarrow\":false,\"yshift\":15},{\"text\":\"H\",\"x\":38.358,\"y\":9.483,\"z\":16.654,\"showarrow\":false,\"yshift\":15},{\"text\":\"H\",\"x\":38.394,\"y\":8.939,\"z\":14.021,\"showarrow\":false,\"yshift\":15},{\"text\":\"H\",\"x\":40.782,\"y\":8.24,\"z\":14.213,\"showarrow\":false,\"yshift\":15},{\"text\":\"H\",\"x\":40.294,\"y\":6.988,\"z\":15.428,\"showarrow\":false,\"yshift\":15},{\"text\":\"H\",\"x\":39.624,\"y\":7.117,\"z\":12.473,\"showarrow\":false,\"yshift\":15},{\"text\":\"H\",\"x\":40.546,\"y\":5.845,\"z\":13.407,\"showarrow\":false,\"yshift\":15},{\"text\":\"H\",\"x\":40.377,\"y\":4.593,\"z\":15.483,\"showarrow\":false,\"yshift\":15},{\"text\":\"H\",\"x\":38.773,\"y\":4.206,\"z\":16.224,\"showarrow\":false,\"yshift\":15},{\"text\":\"H\",\"x\":38.0,\"y\":1.881,\"z\":16.411,\"showarrow\":false,\"yshift\":15},{\"text\":\"H\",\"x\":38.732,\"y\":-0.477,\"z\":16.79,\"showarrow\":false,\"yshift\":15},{\"text\":\"H\",\"x\":41.08,\"y\":-1.155,\"z\":16.274,\"showarrow\":false,\"yshift\":15},{\"text\":\"H\",\"x\":42.697,\"y\":0.525,\"z\":15.377,\"showarrow\":false,\"yshift\":15},{\"text\":\"H\",\"x\":41.967,\"y\":2.883,\"z\":14.997,\"showarrow\":false,\"yshift\":15},{\"text\":\"H\",\"x\":36.702,\"y\":6.883,\"z\":13.503,\"showarrow\":false,\"yshift\":15},{\"text\":\"H\",\"x\":36.768,\"y\":5.562,\"z\":14.765,\"showarrow\":false,\"yshift\":15},{\"text\":\"H\",\"x\":36.76,\"y\":7.975,\"z\":15.598,\"showarrow\":false,\"yshift\":15},{\"text\":\"H\",\"x\":38.038,\"y\":6.85,\"z\":16.223,\"showarrow\":false,\"yshift\":15},{\"text\":\"H\",\"x\":39.847,\"y\":11.681,\"z\":15.453,\"showarrow\":false,\"yshift\":15},{\"text\":1.77,\"x\":40.887,\"y\":17.351,\"z\":11.8315,\"showarrow\":false,\"yshift\":15,\"font\":{\"color\":\"steelblue\"}},{\"text\":1.77,\"x\":40.554,\"y\":18.16,\"z\":12.568,\"showarrow\":false,\"yshift\":15,\"font\":{\"color\":\"steelblue\"}},{\"text\":1.77,\"x\":40.754999999999995,\"y\":17.0215,\"z\":12.965499999999999,\"showarrow\":false,\"yshift\":15,\"font\":{\"color\":\"steelblue\"}},{\"text\":1.77,\"x\":41.415499999999994,\"y\":16.241,\"z\":13.52,\"showarrow\":false,\"yshift\":15,\"font\":{\"color\":\"steelblue\"}},{\"text\":1.18,\"x\":40.675,\"y\":16.7785,\"z\":13.99,\"showarrow\":false,\"yshift\":15,\"font\":{\"color\":\"steelblue\"}},{\"text\":1.18,\"x\":40.3925,\"y\":16.142,\"z\":13.4305,\"showarrow\":false,\"yshift\":15,\"font\":{\"color\":\"steelblue\"}},{\"text\":1.77,\"x\":42.206999999999994,\"y\":15.4955,\"z\":14.018999999999998,\"showarrow\":false,\"yshift\":15,\"font\":{\"color\":\"steelblue\"}},{\"text\":1.77,\"x\":42.807,\"y\":15.1805,\"z\":15.0085,\"showarrow\":false,\"yshift\":15,\"font\":{\"color\":\"steelblue\"}},{\"text\":1.77,\"x\":42.069,\"y\":14.397,\"z\":14.547,\"showarrow\":false,\"yshift\":15,\"font\":{\"color\":\"steelblue\"}},{\"text\":1.77,\"x\":43.5865,\"y\":15.96,\"z\":15.643,\"showarrow\":false,\"yshift\":15,\"font\":{\"color\":\"steelblue\"}},{\"text\":2.21,\"x\":43.3065,\"y\":14.6515,\"z\":16.012,\"showarrow\":false,\"yshift\":15,\"font\":{\"color\":\"steelblue\"}},{\"text\":1.77,\"x\":43.783,\"y\":17.1245,\"z\":15.457999999999998,\"showarrow\":false,\"yshift\":15,\"font\":{\"color\":\"steelblue\"}},{\"text\":1.77,\"x\":44.3865,\"y\":16.609,\"z\":16.2785,\"showarrow\":false,\"yshift\":15,\"font\":{\"color\":\"steelblue\"}},{\"text\":2.21,\"x\":42.799499999999995,\"y\":13.5,\"z\":16.099,\"showarrow\":false,\"yshift\":15,\"font\":{\"color\":\"steelblue\"}},{\"text\":1.77,\"x\":42.086,\"y\":12.322,\"z\":15.8725,\"showarrow\":false,\"yshift\":15,\"font\":{\"color\":\"steelblue\"}},{\"text\":1.77,\"x\":42.010999999999996,\"y\":13.388,\"z\":15.1345,\"showarrow\":false,\"yshift\":15,\"font\":{\"color\":\"steelblue\"}},{\"text\":1.77,\"x\":42.437,\"y\":11.231,\"z\":16.35,\"showarrow\":false,\"yshift\":15,\"font\":{\"color\":\"steelblue\"}},{\"text\":1.77,\"x\":41.293,\"y\":11.346,\"z\":15.969000000000001,\"showarrow\":false,\"yshift\":15,\"font\":{\"color\":\"steelblue\"}},{\"text\":1.77,\"x\":42.825500000000005,\"y\":10.1705,\"z\":16.8125,\"showarrow\":false,\"yshift\":15,\"font\":{\"color\":\"steelblue\"}},{\"text\":1.18,\"x\":43.44,\"y\":11.058,\"z\":16.727,\"showarrow\":false,\"yshift\":15,\"font\":{\"color\":\"steelblue\"}},{\"text\":1.77,\"x\":42.073,\"y\":9.224,\"z\":16.88,\"showarrow\":false,\"yshift\":15,\"font\":{\"color\":\"steelblue\"}},{\"text\":1.18,\"x\":43.1095,\"y\":9.199,\"z\":17.2065,\"showarrow\":false,\"yshift\":15,\"font\":{\"color\":\"steelblue\"}},{\"text\":1.77,\"x\":40.924,\"y\":9.3405,\"z\":16.499499999999998,\"showarrow\":false,\"yshift\":15,\"font\":{\"color\":\"steelblue\"}},{\"text\":1.18,\"x\":41.3435,\"y\":8.419,\"z\":16.902,\"showarrow\":false,\"yshift\":15,\"font\":{\"color\":\"steelblue\"}},{\"text\":1.77,\"x\":39.756,\"y\":9.479500000000002,\"z\":16.109,\"showarrow\":false,\"yshift\":15,\"font\":{\"color\":\"steelblue\"}},{\"text\":1.77,\"x\":40.5325,\"y\":10.402000000000001,\"z\":16.051,\"showarrow\":false,\"yshift\":15,\"font\":{\"color\":\"steelblue\"}},{\"text\":1.77,\"x\":38.926,\"y\":8.79,\"z\":15.438500000000001,\"showarrow\":false,\"yshift\":15,\"font\":{\"color\":\"steelblue\"}},{\"text\":1.18,\"x\":38.7305,\"y\":9.353000000000002,\"z\":16.323,\"showarrow\":false,\"yshift\":15,\"font\":{\"color\":\"steelblue\"}},{\"text\":1.77,\"x\":39.368,\"y\":7.9544999999999995,\"z\":14.71,\"showarrow\":false,\"yshift\":15,\"font\":{\"color\":\"steelblue\"}},{\"text\":1.77,\"x\":38.205,\"y\":7.877,\"z\":15.1155,\"showarrow\":false,\"yshift\":15,\"font\":{\"color\":\"steelblue\"}},{\"text\":1.18,\"x\":38.5715,\"y\":8.648,\"z\":14.453,\"showarrow\":false,\"yshift\":15,\"font\":{\"color\":\"steelblue\"}},{\"text\":1.77,\"x\":39.8485,\"y\":7.0565,\"z\":13.977,\"showarrow\":false,\"yshift\":15,\"font\":{\"color\":\"steelblue\"}},{\"text\":1.18,\"x\":40.3845,\"y\":7.896,\"z\":14.373999999999999,\"showarrow\":false,\"yshift\":15,\"font\":{\"color\":\"steelblue\"}},{\"text\":1.18,\"x\":40.1405,\"y\":7.27,\"z\":14.9815,\"showarrow\":false,\"yshift\":15,\"font\":{\"color\":\"steelblue\"}},{\"text\":1.77,\"x\":39.0955,\"y\":6.173,\"z\":13.517,\"showarrow\":false,\"yshift\":15,\"font\":{\"color\":\"steelblue\"}},{\"text\":1.18,\"x\":39.667,\"y\":6.839,\"z\":12.946000000000002,\"showarrow\":false,\"yshift\":15,\"font\":{\"color\":\"steelblue\"}},{\"text\":1.18,\"x\":40.128,\"y\":6.202999999999999,\"z\":13.413,\"showarrow\":false,\"yshift\":15,\"font\":{\"color\":\"steelblue\"}},{\"text\":2.21,\"x\":38.597,\"y\":4.939500000000001,\"z\":13.733,\"showarrow\":false,\"yshift\":15,\"font\":{\"color\":\"steelblue\"}},{\"text\":1.77,\"x\":37.8955,\"y\":6.083,\"z\":13.942499999999999,\"showarrow\":false,\"yshift\":15,\"font\":{\"color\":\"steelblue\"}},{\"text\":2.21,\"x\":38.066,\"y\":3.7185,\"z\":13.8935,\"showarrow\":false,\"yshift\":15,\"font\":{\"color\":\"steelblue\"}},{\"text\":2.21,\"x\":39.186499999999995,\"y\":3.802,\"z\":13.348,\"showarrow\":false,\"yshift\":15,\"font\":{\"color\":\"steelblue\"}},{\"text\":2.21,\"x\":39.1065,\"y\":4.0120000000000005,\"z\":14.6485,\"showarrow\":false,\"yshift\":15,\"font\":{\"color\":\"steelblue\"}},{\"text\":1.77,\"x\":39.72,\"y\":3.2279999999999998,\"z\":15.565999999999999,\"showarrow\":false,\"yshift\":15,\"font\":{\"color\":\"steelblue\"}},{\"text\":1.18,\"x\":39.938500000000005,\"y\":4.2615,\"z\":15.464500000000001,\"showarrow\":false,\"yshift\":15,\"font\":{\"color\":\"steelblue\"}},{\"text\":1.18,\"x\":39.1365,\"y\":4.0680000000000005,\"z\":15.835,\"showarrow\":false,\"yshift\":15,\"font\":{\"color\":\"steelblue\"}},{\"text\":1.77,\"x\":39.4875,\"y\":2.0545,\"z\":15.9355,\"showarrow\":false,\"yshift\":15,\"font\":{\"color\":\"steelblue\"}},{\"text\":1.77,\"x\":40.5975,\"y\":2.335,\"z\":15.5395,\"showarrow\":false,\"yshift\":15,\"font\":{\"color\":\"steelblue\"}},{\"text\":1.77,\"x\":39.2395,\"y\":0.923,\"z\":16.2905,\"showarrow\":false,\"yshift\":15,\"font\":{\"color\":\"steelblue\"}},{\"text\":1.18,\"x\":38.5175,\"y\":1.732,\"z\":16.298000000000002,\"showarrow\":false,\"yshift\":15,\"font\":{\"color\":\"steelblue\"}},{\"text\":1.77,\"x\":40.101,\"y\":0.07350000000000001,\"z\":16.2515,\"showarrow\":false,\"yshift\":15,\"font\":{\"color\":\"steelblue\"}},{\"text\":1.18,\"x\":39.088,\"y\":-0.10699999999999998,\"z\":16.593,\"showarrow\":false,\"yshift\":15,\"font\":{\"color\":\"steelblue\"}},{\"text\":1.77,\"x\":41.210499999999996,\"y\":0.354,\"z\":15.856,\"showarrow\":false,\"yshift\":15,\"font\":{\"color\":\"steelblue\"}},{\"text\":1.18,\"x\":40.919,\"y\":-0.6355000000000001,\"z\":16.1905,\"showarrow\":false,\"yshift\":15,\"font\":{\"color\":\"steelblue\"}},{\"text\":1.77,\"x\":41.459,\"y\":1.484,\"z\":15.499,\"showarrow\":false,\"yshift\":15,\"font\":{\"color\":\"steelblue\"}},{\"text\":1.18,\"x\":42.18,\"y\":0.6745,\"z\":15.491,\"showarrow\":false,\"yshift\":15,\"font\":{\"color\":\"steelblue\"}},{\"text\":1.18,\"x\":41.611000000000004,\"y\":2.5135,\"z\":15.195,\"showarrow\":false,\"yshift\":15,\"font\":{\"color\":\"steelblue\"}},{\"text\":1.77,\"x\":37.4855,\"y\":6.889,\"z\":14.808,\"showarrow\":false,\"yshift\":15,\"font\":{\"color\":\"steelblue\"}},{\"text\":1.18,\"x\":37.006,\"y\":6.632,\"z\":13.8865,\"showarrow\":false,\"yshift\":15,\"font\":{\"color\":\"steelblue\"}},{\"text\":1.18,\"x\":37.039,\"y\":5.971500000000001,\"z\":14.5175,\"showarrow\":false,\"yshift\":15,\"font\":{\"color\":\"steelblue\"}},{\"text\":1.18,\"x\":37.210499999999996,\"y\":7.686,\"z\":15.472000000000001,\"showarrow\":false,\"yshift\":15,\"font\":{\"color\":\"steelblue\"}},{\"text\":1.18,\"x\":37.8495,\"y\":7.1235,\"z\":15.7845,\"showarrow\":false,\"yshift\":15,\"font\":{\"color\":\"steelblue\"}},{\"text\":1.18,\"x\":40.2515,\"y\":11.3745,\"z\":15.6645,\"showarrow\":false,\"yshift\":15,\"font\":{\"color\":\"steelblue\"}},{\"text\":2.46,\"x\":41.167500000000004,\"y\":13.427,\"z\":13.9275,\"showarrow\":false,\"yshift\":15,\"font\":{\"color\":\"steelblue\"}}]}],\"label\":\" Elements & Bond Lengths\",\"method\":\"relayout\"},{\"args\":[{\"scene.annotations\":[{\"text\":0,\"x\":41.039,\"y\":17.188,\"z\":11.242,\"showarrow\":false,\"yshift\":15},{\"text\":1,\"x\":40.735,\"y\":17.514,\"z\":12.421,\"showarrow\":false,\"yshift\":15},{\"text\":2,\"x\":40.373,\"y\":18.806,\"z\":12.715,\"showarrow\":false,\"yshift\":15},{\"text\":3,\"x\":40.775,\"y\":16.529,\"z\":13.51,\"showarrow\":false,\"yshift\":15},{\"text\":4,\"x\":42.056,\"y\":15.953,\"z\":13.53,\"showarrow\":false,\"yshift\":15},{\"text\":5,\"x\":42.358,\"y\":15.038,\"z\":14.508,\"showarrow\":false,\"yshift\":15},{\"text\":6,\"x\":43.256,\"y\":15.323,\"z\":15.509,\"showarrow\":false,\"yshift\":15},{\"text\":7,\"x\":43.917,\"y\":16.597,\"z\":15.777,\"showarrow\":false,\"yshift\":15},{\"text\":8,\"x\":43.649,\"y\":17.652,\"z\":15.139,\"showarrow\":false,\"yshift\":15},{\"text\":9,\"x\":44.856,\"y\":16.621,\"z\":16.78,\"showarrow\":false,\"yshift\":15},{\"text\":10,\"x\":43.357,\"y\":13.98,\"z\":16.515,\"showarrow\":false,\"yshift\":15},{\"text\":11,\"x\":42.242,\"y\":13.02,\"z\":15.683,\"showarrow\":false,\"yshift\":15},{\"text\":12,\"x\":41.93,\"y\":11.624,\"z\":16.062,\"showarrow\":false,\"yshift\":15},{\"text\":13,\"x\":42.944,\"y\":10.838,\"z\":16.638,\"showarrow\":false,\"yshift\":15},{\"text\":14,\"x\":42.707,\"y\":9.503,\"z\":16.987,\"showarrow\":false,\"yshift\":15},{\"text\":15,\"x\":41.439,\"y\":8.945,\"z\":16.773,\"showarrow\":false,\"yshift\":15},{\"text\":16,\"x\":40.409,\"y\":9.736,\"z\":16.226,\"showarrow\":false,\"yshift\":15},{\"text\":17,\"x\":39.103,\"y\":9.223,\"z\":15.992,\"showarrow\":false,\"yshift\":15},{\"text\":18,\"x\":38.749,\"y\":8.357,\"z\":14.885,\"showarrow\":false,\"yshift\":15},{\"text\":19,\"x\":39.987,\"y\":7.552,\"z\":14.535,\"showarrow\":false,\"yshift\":15},{\"text\":20,\"x\":39.71,\"y\":6.561,\"z\":13.419,\"showarrow\":false,\"yshift\":15},{\"text\":21,\"x\":38.481,\"y\":5.785,\"z\":13.615,\"showarrow\":false,\"yshift\":15},{\"text\":22,\"x\":38.713,\"y\":4.094,\"z\":13.851,\"showarrow\":false,\"yshift\":15},{\"text\":23,\"x\":37.419,\"y\":3.343,\"z\":13.936,\"showarrow\":false,\"yshift\":15},{\"text\":24,\"x\":39.66,\"y\":3.51,\"z\":12.845,\"showarrow\":false,\"yshift\":15},{\"text\":25,\"x\":39.5,\"y\":3.93,\"z\":15.446,\"showarrow\":false,\"yshift\":15},{\"text\":26,\"x\":39.94,\"y\":2.526,\"z\":15.686,\"showarrow\":false,\"yshift\":15},{\"text\":27,\"x\":39.035,\"y\":1.583,\"z\":16.185,\"showarrow\":false,\"yshift\":15},{\"text\":28,\"x\":39.444,\"y\":0.263,\"z\":16.396,\"showarrow\":false,\"yshift\":15},{\"text\":29,\"x\":40.758,\"y\":-0.116,\"z\":16.107,\"showarrow\":false,\"yshift\":15},{\"text\":30,\"x\":41.663,\"y\":0.824,\"z\":15.605,\"showarrow\":false,\"yshift\":15},{\"text\":31,\"x\":41.255,\"y\":2.144,\"z\":15.393,\"showarrow\":false,\"yshift\":15},{\"text\":32,\"x\":37.31,\"y\":6.381,\"z\":14.27,\"showarrow\":false,\"yshift\":15},{\"text\":33,\"x\":37.661,\"y\":7.397,\"z\":15.346,\"showarrow\":false,\"yshift\":15},{\"text\":34,\"x\":40.656,\"y\":11.068,\"z\":15.876,\"showarrow\":false,\"yshift\":15},{\"text\":35,\"x\":41.78,\"y\":13.756,\"z\":14.586,\"showarrow\":false,\"yshift\":15},{\"text\":36,\"x\":40.555,\"y\":13.098,\"z\":13.269,\"showarrow\":false,\"yshift\":15},{\"text\":37,\"x\":40.575,\"y\":17.028,\"z\":14.47,\"showarrow\":false,\"yshift\":15},{\"text\":38,\"x\":40.01,\"y\":15.755,\"z\":13.351,\"showarrow\":false,\"yshift\":15},{\"text\":39,\"x\":43.936,\"y\":11.278,\"z\":16.816,\"showarrow\":false,\"yshift\":15},{\"text\":40,\"x\":43.512,\"y\":8.895,\"z\":17.426,\"showarrow\":false,\"yshift\":15},{\"text\":41,\"x\":41.248,\"y\":7.893,\"z\":17.031,\"showarrow\":false,\"yshift\":15},{\"text\":42,\"x\":38.358,\"y\":9.483,\"z\":16.654,\"showarrow\":false,\"yshift\":15},{\"text\":43,\"x\":38.394,\"y\":8.939,\"z\":14.021,\"showarrow\":false,\"yshift\":15},{\"text\":44,\"x\":40.782,\"y\":8.24,\"z\":14.213,\"showarrow\":false,\"yshift\":15},{\"text\":45,\"x\":40.294,\"y\":6.988,\"z\":15.428,\"showarrow\":false,\"yshift\":15},{\"text\":46,\"x\":39.624,\"y\":7.117,\"z\":12.473,\"showarrow\":false,\"yshift\":15},{\"text\":47,\"x\":40.546,\"y\":5.845,\"z\":13.407,\"showarrow\":false,\"yshift\":15},{\"text\":48,\"x\":40.377,\"y\":4.593,\"z\":15.483,\"showarrow\":false,\"yshift\":15},{\"text\":49,\"x\":38.773,\"y\":4.206,\"z\":16.224,\"showarrow\":false,\"yshift\":15},{\"text\":50,\"x\":38.0,\"y\":1.881,\"z\":16.411,\"showarrow\":false,\"yshift\":15},{\"text\":51,\"x\":38.732,\"y\":-0.477,\"z\":16.79,\"showarrow\":false,\"yshift\":15},{\"text\":52,\"x\":41.08,\"y\":-1.155,\"z\":16.274,\"showarrow\":false,\"yshift\":15},{\"text\":53,\"x\":42.697,\"y\":0.525,\"z\":15.377,\"showarrow\":false,\"yshift\":15},{\"text\":54,\"x\":41.967,\"y\":2.883,\"z\":14.997,\"showarrow\":false,\"yshift\":15},{\"text\":55,\"x\":36.702,\"y\":6.883,\"z\":13.503,\"showarrow\":false,\"yshift\":15},{\"text\":56,\"x\":36.768,\"y\":5.562,\"z\":14.765,\"showarrow\":false,\"yshift\":15},{\"text\":57,\"x\":36.76,\"y\":7.975,\"z\":15.598,\"showarrow\":false,\"yshift\":15},{\"text\":58,\"x\":38.038,\"y\":6.85,\"z\":16.223,\"showarrow\":false,\"yshift\":15},{\"text\":59,\"x\":39.847,\"y\":11.681,\"z\":15.453,\"showarrow\":false,\"yshift\":15}]}],\"label\":\"Indices\",\"method\":\"relayout\"},{\"args\":[{\"scene.annotations\":[{\"text\":0,\"x\":41.039,\"y\":17.188,\"z\":11.242,\"showarrow\":false,\"yshift\":15},{\"text\":1,\"x\":40.735,\"y\":17.514,\"z\":12.421,\"showarrow\":false,\"yshift\":15},{\"text\":2,\"x\":40.373,\"y\":18.806,\"z\":12.715,\"showarrow\":false,\"yshift\":15},{\"text\":3,\"x\":40.775,\"y\":16.529,\"z\":13.51,\"showarrow\":false,\"yshift\":15},{\"text\":4,\"x\":42.056,\"y\":15.953,\"z\":13.53,\"showarrow\":false,\"yshift\":15},{\"text\":5,\"x\":42.358,\"y\":15.038,\"z\":14.508,\"showarrow\":false,\"yshift\":15},{\"text\":6,\"x\":43.256,\"y\":15.323,\"z\":15.509,\"showarrow\":false,\"yshift\":15},{\"text\":7,\"x\":43.917,\"y\":16.597,\"z\":15.777,\"showarrow\":false,\"yshift\":15},{\"text\":8,\"x\":43.649,\"y\":17.652,\"z\":15.139,\"showarrow\":false,\"yshift\":15},{\"text\":9,\"x\":44.856,\"y\":16.621,\"z\":16.78,\"showarrow\":false,\"yshift\":15},{\"text\":10,\"x\":43.357,\"y\":13.98,\"z\":16.515,\"showarrow\":false,\"yshift\":15},{\"text\":11,\"x\":42.242,\"y\":13.02,\"z\":15.683,\"showarrow\":false,\"yshift\":15},{\"text\":12,\"x\":41.93,\"y\":11.624,\"z\":16.062,\"showarrow\":false,\"yshift\":15},{\"text\":13,\"x\":42.944,\"y\":10.838,\"z\":16.638,\"showarrow\":false,\"yshift\":15},{\"text\":14,\"x\":42.707,\"y\":9.503,\"z\":16.987,\"showarrow\":false,\"yshift\":15},{\"text\":15,\"x\":41.439,\"y\":8.945,\"z\":16.773,\"showarrow\":false,\"yshift\":15},{\"text\":16,\"x\":40.409,\"y\":9.736,\"z\":16.226,\"showarrow\":false,\"yshift\":15},{\"text\":17,\"x\":39.103,\"y\":9.223,\"z\":15.992,\"showarrow\":false,\"yshift\":15},{\"text\":18,\"x\":38.749,\"y\":8.357,\"z\":14.885,\"showarrow\":false,\"yshift\":15},{\"text\":19,\"x\":39.987,\"y\":7.552,\"z\":14.535,\"showarrow\":false,\"yshift\":15},{\"text\":20,\"x\":39.71,\"y\":6.561,\"z\":13.419,\"showarrow\":false,\"yshift\":15},{\"text\":21,\"x\":38.481,\"y\":5.785,\"z\":13.615,\"showarrow\":false,\"yshift\":15},{\"text\":22,\"x\":38.713,\"y\":4.094,\"z\":13.851,\"showarrow\":false,\"yshift\":15},{\"text\":23,\"x\":37.419,\"y\":3.343,\"z\":13.936,\"showarrow\":false,\"yshift\":15},{\"text\":24,\"x\":39.66,\"y\":3.51,\"z\":12.845,\"showarrow\":false,\"yshift\":15},{\"text\":25,\"x\":39.5,\"y\":3.93,\"z\":15.446,\"showarrow\":false,\"yshift\":15},{\"text\":26,\"x\":39.94,\"y\":2.526,\"z\":15.686,\"showarrow\":false,\"yshift\":15},{\"text\":27,\"x\":39.035,\"y\":1.583,\"z\":16.185,\"showarrow\":false,\"yshift\":15},{\"text\":28,\"x\":39.444,\"y\":0.263,\"z\":16.396,\"showarrow\":false,\"yshift\":15},{\"text\":29,\"x\":40.758,\"y\":-0.116,\"z\":16.107,\"showarrow\":false,\"yshift\":15},{\"text\":30,\"x\":41.663,\"y\":0.824,\"z\":15.605,\"showarrow\":false,\"yshift\":15},{\"text\":31,\"x\":41.255,\"y\":2.144,\"z\":15.393,\"showarrow\":false,\"yshift\":15},{\"text\":32,\"x\":37.31,\"y\":6.381,\"z\":14.27,\"showarrow\":false,\"yshift\":15},{\"text\":33,\"x\":37.661,\"y\":7.397,\"z\":15.346,\"showarrow\":false,\"yshift\":15},{\"text\":34,\"x\":40.656,\"y\":11.068,\"z\":15.876,\"showarrow\":false,\"yshift\":15},{\"text\":35,\"x\":41.78,\"y\":13.756,\"z\":14.586,\"showarrow\":false,\"yshift\":15},{\"text\":36,\"x\":40.555,\"y\":13.098,\"z\":13.269,\"showarrow\":false,\"yshift\":15},{\"text\":37,\"x\":40.575,\"y\":17.028,\"z\":14.47,\"showarrow\":false,\"yshift\":15},{\"text\":38,\"x\":40.01,\"y\":15.755,\"z\":13.351,\"showarrow\":false,\"yshift\":15},{\"text\":39,\"x\":43.936,\"y\":11.278,\"z\":16.816,\"showarrow\":false,\"yshift\":15},{\"text\":40,\"x\":43.512,\"y\":8.895,\"z\":17.426,\"showarrow\":false,\"yshift\":15},{\"text\":41,\"x\":41.248,\"y\":7.893,\"z\":17.031,\"showarrow\":false,\"yshift\":15},{\"text\":42,\"x\":38.358,\"y\":9.483,\"z\":16.654,\"showarrow\":false,\"yshift\":15},{\"text\":43,\"x\":38.394,\"y\":8.939,\"z\":14.021,\"showarrow\":false,\"yshift\":15},{\"text\":44,\"x\":40.782,\"y\":8.24,\"z\":14.213,\"showarrow\":false,\"yshift\":15},{\"text\":45,\"x\":40.294,\"y\":6.988,\"z\":15.428,\"showarrow\":false,\"yshift\":15},{\"text\":46,\"x\":39.624,\"y\":7.117,\"z\":12.473,\"showarrow\":false,\"yshift\":15},{\"text\":47,\"x\":40.546,\"y\":5.845,\"z\":13.407,\"showarrow\":false,\"yshift\":15},{\"text\":48,\"x\":40.377,\"y\":4.593,\"z\":15.483,\"showarrow\":false,\"yshift\":15},{\"text\":49,\"x\":38.773,\"y\":4.206,\"z\":16.224,\"showarrow\":false,\"yshift\":15},{\"text\":50,\"x\":38.0,\"y\":1.881,\"z\":16.411,\"showarrow\":false,\"yshift\":15},{\"text\":51,\"x\":38.732,\"y\":-0.477,\"z\":16.79,\"showarrow\":false,\"yshift\":15},{\"text\":52,\"x\":41.08,\"y\":-1.155,\"z\":16.274,\"showarrow\":false,\"yshift\":15},{\"text\":53,\"x\":42.697,\"y\":0.525,\"z\":15.377,\"showarrow\":false,\"yshift\":15},{\"text\":54,\"x\":41.967,\"y\":2.883,\"z\":14.997,\"showarrow\":false,\"yshift\":15},{\"text\":55,\"x\":36.702,\"y\":6.883,\"z\":13.503,\"showarrow\":false,\"yshift\":15},{\"text\":56,\"x\":36.768,\"y\":5.562,\"z\":14.765,\"showarrow\":false,\"yshift\":15},{\"text\":57,\"x\":36.76,\"y\":7.975,\"z\":15.598,\"showarrow\":false,\"yshift\":15},{\"text\":58,\"x\":38.038,\"y\":6.85,\"z\":16.223,\"showarrow\":false,\"yshift\":15},{\"text\":59,\"x\":39.847,\"y\":11.681,\"z\":15.453,\"showarrow\":false,\"yshift\":15},{\"text\":1.77,\"x\":40.887,\"y\":17.351,\"z\":11.8315,\"showarrow\":false,\"yshift\":15,\"font\":{\"color\":\"steelblue\"}},{\"text\":1.77,\"x\":40.554,\"y\":18.16,\"z\":12.568,\"showarrow\":false,\"yshift\":15,\"font\":{\"color\":\"steelblue\"}},{\"text\":1.77,\"x\":40.754999999999995,\"y\":17.0215,\"z\":12.965499999999999,\"showarrow\":false,\"yshift\":15,\"font\":{\"color\":\"steelblue\"}},{\"text\":1.77,\"x\":41.415499999999994,\"y\":16.241,\"z\":13.52,\"showarrow\":false,\"yshift\":15,\"font\":{\"color\":\"steelblue\"}},{\"text\":1.18,\"x\":40.675,\"y\":16.7785,\"z\":13.99,\"showarrow\":false,\"yshift\":15,\"font\":{\"color\":\"steelblue\"}},{\"text\":1.18,\"x\":40.3925,\"y\":16.142,\"z\":13.4305,\"showarrow\":false,\"yshift\":15,\"font\":{\"color\":\"steelblue\"}},{\"text\":1.77,\"x\":42.206999999999994,\"y\":15.4955,\"z\":14.018999999999998,\"showarrow\":false,\"yshift\":15,\"font\":{\"color\":\"steelblue\"}},{\"text\":1.77,\"x\":42.807,\"y\":15.1805,\"z\":15.0085,\"showarrow\":false,\"yshift\":15,\"font\":{\"color\":\"steelblue\"}},{\"text\":1.77,\"x\":42.069,\"y\":14.397,\"z\":14.547,\"showarrow\":false,\"yshift\":15,\"font\":{\"color\":\"steelblue\"}},{\"text\":1.77,\"x\":43.5865,\"y\":15.96,\"z\":15.643,\"showarrow\":false,\"yshift\":15,\"font\":{\"color\":\"steelblue\"}},{\"text\":2.21,\"x\":43.3065,\"y\":14.6515,\"z\":16.012,\"showarrow\":false,\"yshift\":15,\"font\":{\"color\":\"steelblue\"}},{\"text\":1.77,\"x\":43.783,\"y\":17.1245,\"z\":15.457999999999998,\"showarrow\":false,\"yshift\":15,\"font\":{\"color\":\"steelblue\"}},{\"text\":1.77,\"x\":44.3865,\"y\":16.609,\"z\":16.2785,\"showarrow\":false,\"yshift\":15,\"font\":{\"color\":\"steelblue\"}},{\"text\":2.21,\"x\":42.799499999999995,\"y\":13.5,\"z\":16.099,\"showarrow\":false,\"yshift\":15,\"font\":{\"color\":\"steelblue\"}},{\"text\":1.77,\"x\":42.086,\"y\":12.322,\"z\":15.8725,\"showarrow\":false,\"yshift\":15,\"font\":{\"color\":\"steelblue\"}},{\"text\":1.77,\"x\":42.010999999999996,\"y\":13.388,\"z\":15.1345,\"showarrow\":false,\"yshift\":15,\"font\":{\"color\":\"steelblue\"}},{\"text\":1.77,\"x\":42.437,\"y\":11.231,\"z\":16.35,\"showarrow\":false,\"yshift\":15,\"font\":{\"color\":\"steelblue\"}},{\"text\":1.77,\"x\":41.293,\"y\":11.346,\"z\":15.969000000000001,\"showarrow\":false,\"yshift\":15,\"font\":{\"color\":\"steelblue\"}},{\"text\":1.77,\"x\":42.825500000000005,\"y\":10.1705,\"z\":16.8125,\"showarrow\":false,\"yshift\":15,\"font\":{\"color\":\"steelblue\"}},{\"text\":1.18,\"x\":43.44,\"y\":11.058,\"z\":16.727,\"showarrow\":false,\"yshift\":15,\"font\":{\"color\":\"steelblue\"}},{\"text\":1.77,\"x\":42.073,\"y\":9.224,\"z\":16.88,\"showarrow\":false,\"yshift\":15,\"font\":{\"color\":\"steelblue\"}},{\"text\":1.18,\"x\":43.1095,\"y\":9.199,\"z\":17.2065,\"showarrow\":false,\"yshift\":15,\"font\":{\"color\":\"steelblue\"}},{\"text\":1.77,\"x\":40.924,\"y\":9.3405,\"z\":16.499499999999998,\"showarrow\":false,\"yshift\":15,\"font\":{\"color\":\"steelblue\"}},{\"text\":1.18,\"x\":41.3435,\"y\":8.419,\"z\":16.902,\"showarrow\":false,\"yshift\":15,\"font\":{\"color\":\"steelblue\"}},{\"text\":1.77,\"x\":39.756,\"y\":9.479500000000002,\"z\":16.109,\"showarrow\":false,\"yshift\":15,\"font\":{\"color\":\"steelblue\"}},{\"text\":1.77,\"x\":40.5325,\"y\":10.402000000000001,\"z\":16.051,\"showarrow\":false,\"yshift\":15,\"font\":{\"color\":\"steelblue\"}},{\"text\":1.77,\"x\":38.926,\"y\":8.79,\"z\":15.438500000000001,\"showarrow\":false,\"yshift\":15,\"font\":{\"color\":\"steelblue\"}},{\"text\":1.18,\"x\":38.7305,\"y\":9.353000000000002,\"z\":16.323,\"showarrow\":false,\"yshift\":15,\"font\":{\"color\":\"steelblue\"}},{\"text\":1.77,\"x\":39.368,\"y\":7.9544999999999995,\"z\":14.71,\"showarrow\":false,\"yshift\":15,\"font\":{\"color\":\"steelblue\"}},{\"text\":1.77,\"x\":38.205,\"y\":7.877,\"z\":15.1155,\"showarrow\":false,\"yshift\":15,\"font\":{\"color\":\"steelblue\"}},{\"text\":1.18,\"x\":38.5715,\"y\":8.648,\"z\":14.453,\"showarrow\":false,\"yshift\":15,\"font\":{\"color\":\"steelblue\"}},{\"text\":1.77,\"x\":39.8485,\"y\":7.0565,\"z\":13.977,\"showarrow\":false,\"yshift\":15,\"font\":{\"color\":\"steelblue\"}},{\"text\":1.18,\"x\":40.3845,\"y\":7.896,\"z\":14.373999999999999,\"showarrow\":false,\"yshift\":15,\"font\":{\"color\":\"steelblue\"}},{\"text\":1.18,\"x\":40.1405,\"y\":7.27,\"z\":14.9815,\"showarrow\":false,\"yshift\":15,\"font\":{\"color\":\"steelblue\"}},{\"text\":1.77,\"x\":39.0955,\"y\":6.173,\"z\":13.517,\"showarrow\":false,\"yshift\":15,\"font\":{\"color\":\"steelblue\"}},{\"text\":1.18,\"x\":39.667,\"y\":6.839,\"z\":12.946000000000002,\"showarrow\":false,\"yshift\":15,\"font\":{\"color\":\"steelblue\"}},{\"text\":1.18,\"x\":40.128,\"y\":6.202999999999999,\"z\":13.413,\"showarrow\":false,\"yshift\":15,\"font\":{\"color\":\"steelblue\"}},{\"text\":2.21,\"x\":38.597,\"y\":4.939500000000001,\"z\":13.733,\"showarrow\":false,\"yshift\":15,\"font\":{\"color\":\"steelblue\"}},{\"text\":1.77,\"x\":37.8955,\"y\":6.083,\"z\":13.942499999999999,\"showarrow\":false,\"yshift\":15,\"font\":{\"color\":\"steelblue\"}},{\"text\":2.21,\"x\":38.066,\"y\":3.7185,\"z\":13.8935,\"showarrow\":false,\"yshift\":15,\"font\":{\"color\":\"steelblue\"}},{\"text\":2.21,\"x\":39.186499999999995,\"y\":3.802,\"z\":13.348,\"showarrow\":false,\"yshift\":15,\"font\":{\"color\":\"steelblue\"}},{\"text\":2.21,\"x\":39.1065,\"y\":4.0120000000000005,\"z\":14.6485,\"showarrow\":false,\"yshift\":15,\"font\":{\"color\":\"steelblue\"}},{\"text\":1.77,\"x\":39.72,\"y\":3.2279999999999998,\"z\":15.565999999999999,\"showarrow\":false,\"yshift\":15,\"font\":{\"color\":\"steelblue\"}},{\"text\":1.18,\"x\":39.938500000000005,\"y\":4.2615,\"z\":15.464500000000001,\"showarrow\":false,\"yshift\":15,\"font\":{\"color\":\"steelblue\"}},{\"text\":1.18,\"x\":39.1365,\"y\":4.0680000000000005,\"z\":15.835,\"showarrow\":false,\"yshift\":15,\"font\":{\"color\":\"steelblue\"}},{\"text\":1.77,\"x\":39.4875,\"y\":2.0545,\"z\":15.9355,\"showarrow\":false,\"yshift\":15,\"font\":{\"color\":\"steelblue\"}},{\"text\":1.77,\"x\":40.5975,\"y\":2.335,\"z\":15.5395,\"showarrow\":false,\"yshift\":15,\"font\":{\"color\":\"steelblue\"}},{\"text\":1.77,\"x\":39.2395,\"y\":0.923,\"z\":16.2905,\"showarrow\":false,\"yshift\":15,\"font\":{\"color\":\"steelblue\"}},{\"text\":1.18,\"x\":38.5175,\"y\":1.732,\"z\":16.298000000000002,\"showarrow\":false,\"yshift\":15,\"font\":{\"color\":\"steelblue\"}},{\"text\":1.77,\"x\":40.101,\"y\":0.07350000000000001,\"z\":16.2515,\"showarrow\":false,\"yshift\":15,\"font\":{\"color\":\"steelblue\"}},{\"text\":1.18,\"x\":39.088,\"y\":-0.10699999999999998,\"z\":16.593,\"showarrow\":false,\"yshift\":15,\"font\":{\"color\":\"steelblue\"}},{\"text\":1.77,\"x\":41.210499999999996,\"y\":0.354,\"z\":15.856,\"showarrow\":false,\"yshift\":15,\"font\":{\"color\":\"steelblue\"}},{\"text\":1.18,\"x\":40.919,\"y\":-0.6355000000000001,\"z\":16.1905,\"showarrow\":false,\"yshift\":15,\"font\":{\"color\":\"steelblue\"}},{\"text\":1.77,\"x\":41.459,\"y\":1.484,\"z\":15.499,\"showarrow\":false,\"yshift\":15,\"font\":{\"color\":\"steelblue\"}},{\"text\":1.18,\"x\":42.18,\"y\":0.6745,\"z\":15.491,\"showarrow\":false,\"yshift\":15,\"font\":{\"color\":\"steelblue\"}},{\"text\":1.18,\"x\":41.611000000000004,\"y\":2.5135,\"z\":15.195,\"showarrow\":false,\"yshift\":15,\"font\":{\"color\":\"steelblue\"}},{\"text\":1.77,\"x\":37.4855,\"y\":6.889,\"z\":14.808,\"showarrow\":false,\"yshift\":15,\"font\":{\"color\":\"steelblue\"}},{\"text\":1.18,\"x\":37.006,\"y\":6.632,\"z\":13.8865,\"showarrow\":false,\"yshift\":15,\"font\":{\"color\":\"steelblue\"}},{\"text\":1.18,\"x\":37.039,\"y\":5.971500000000001,\"z\":14.5175,\"showarrow\":false,\"yshift\":15,\"font\":{\"color\":\"steelblue\"}},{\"text\":1.18,\"x\":37.210499999999996,\"y\":7.686,\"z\":15.472000000000001,\"showarrow\":false,\"yshift\":15,\"font\":{\"color\":\"steelblue\"}},{\"text\":1.18,\"x\":37.8495,\"y\":7.1235,\"z\":15.7845,\"showarrow\":false,\"yshift\":15,\"font\":{\"color\":\"steelblue\"}},{\"text\":1.18,\"x\":40.2515,\"y\":11.3745,\"z\":15.6645,\"showarrow\":false,\"yshift\":15,\"font\":{\"color\":\"steelblue\"}},{\"text\":2.46,\"x\":41.167500000000004,\"y\":13.427,\"z\":13.9275,\"showarrow\":false,\"yshift\":15,\"font\":{\"color\":\"steelblue\"}}]}],\"label\":\"Indices & Bond Lengths\",\"method\":\"relayout\"},{\"args\":[{\"scene.annotations\":[{\"text\":1.77,\"x\":40.887,\"y\":17.351,\"z\":11.8315,\"showarrow\":false,\"yshift\":15,\"font\":{\"color\":\"steelblue\"}},{\"text\":1.77,\"x\":40.554,\"y\":18.16,\"z\":12.568,\"showarrow\":false,\"yshift\":15,\"font\":{\"color\":\"steelblue\"}},{\"text\":1.77,\"x\":40.754999999999995,\"y\":17.0215,\"z\":12.965499999999999,\"showarrow\":false,\"yshift\":15,\"font\":{\"color\":\"steelblue\"}},{\"text\":1.77,\"x\":41.415499999999994,\"y\":16.241,\"z\":13.52,\"showarrow\":false,\"yshift\":15,\"font\":{\"color\":\"steelblue\"}},{\"text\":1.18,\"x\":40.675,\"y\":16.7785,\"z\":13.99,\"showarrow\":false,\"yshift\":15,\"font\":{\"color\":\"steelblue\"}},{\"text\":1.18,\"x\":40.3925,\"y\":16.142,\"z\":13.4305,\"showarrow\":false,\"yshift\":15,\"font\":{\"color\":\"steelblue\"}},{\"text\":1.77,\"x\":42.206999999999994,\"y\":15.4955,\"z\":14.018999999999998,\"showarrow\":false,\"yshift\":15,\"font\":{\"color\":\"steelblue\"}},{\"text\":1.77,\"x\":42.807,\"y\":15.1805,\"z\":15.0085,\"showarrow\":false,\"yshift\":15,\"font\":{\"color\":\"steelblue\"}},{\"text\":1.77,\"x\":42.069,\"y\":14.397,\"z\":14.547,\"showarrow\":false,\"yshift\":15,\"font\":{\"color\":\"steelblue\"}},{\"text\":1.77,\"x\":43.5865,\"y\":15.96,\"z\":15.643,\"showarrow\":false,\"yshift\":15,\"font\":{\"color\":\"steelblue\"}},{\"text\":2.21,\"x\":43.3065,\"y\":14.6515,\"z\":16.012,\"showarrow\":false,\"yshift\":15,\"font\":{\"color\":\"steelblue\"}},{\"text\":1.77,\"x\":43.783,\"y\":17.1245,\"z\":15.457999999999998,\"showarrow\":false,\"yshift\":15,\"font\":{\"color\":\"steelblue\"}},{\"text\":1.77,\"x\":44.3865,\"y\":16.609,\"z\":16.2785,\"showarrow\":false,\"yshift\":15,\"font\":{\"color\":\"steelblue\"}},{\"text\":2.21,\"x\":42.799499999999995,\"y\":13.5,\"z\":16.099,\"showarrow\":false,\"yshift\":15,\"font\":{\"color\":\"steelblue\"}},{\"text\":1.77,\"x\":42.086,\"y\":12.322,\"z\":15.8725,\"showarrow\":false,\"yshift\":15,\"font\":{\"color\":\"steelblue\"}},{\"text\":1.77,\"x\":42.010999999999996,\"y\":13.388,\"z\":15.1345,\"showarrow\":false,\"yshift\":15,\"font\":{\"color\":\"steelblue\"}},{\"text\":1.77,\"x\":42.437,\"y\":11.231,\"z\":16.35,\"showarrow\":false,\"yshift\":15,\"font\":{\"color\":\"steelblue\"}},{\"text\":1.77,\"x\":41.293,\"y\":11.346,\"z\":15.969000000000001,\"showarrow\":false,\"yshift\":15,\"font\":{\"color\":\"steelblue\"}},{\"text\":1.77,\"x\":42.825500000000005,\"y\":10.1705,\"z\":16.8125,\"showarrow\":false,\"yshift\":15,\"font\":{\"color\":\"steelblue\"}},{\"text\":1.18,\"x\":43.44,\"y\":11.058,\"z\":16.727,\"showarrow\":false,\"yshift\":15,\"font\":{\"color\":\"steelblue\"}},{\"text\":1.77,\"x\":42.073,\"y\":9.224,\"z\":16.88,\"showarrow\":false,\"yshift\":15,\"font\":{\"color\":\"steelblue\"}},{\"text\":1.18,\"x\":43.1095,\"y\":9.199,\"z\":17.2065,\"showarrow\":false,\"yshift\":15,\"font\":{\"color\":\"steelblue\"}},{\"text\":1.77,\"x\":40.924,\"y\":9.3405,\"z\":16.499499999999998,\"showarrow\":false,\"yshift\":15,\"font\":{\"color\":\"steelblue\"}},{\"text\":1.18,\"x\":41.3435,\"y\":8.419,\"z\":16.902,\"showarrow\":false,\"yshift\":15,\"font\":{\"color\":\"steelblue\"}},{\"text\":1.77,\"x\":39.756,\"y\":9.479500000000002,\"z\":16.109,\"showarrow\":false,\"yshift\":15,\"font\":{\"color\":\"steelblue\"}},{\"text\":1.77,\"x\":40.5325,\"y\":10.402000000000001,\"z\":16.051,\"showarrow\":false,\"yshift\":15,\"font\":{\"color\":\"steelblue\"}},{\"text\":1.77,\"x\":38.926,\"y\":8.79,\"z\":15.438500000000001,\"showarrow\":false,\"yshift\":15,\"font\":{\"color\":\"steelblue\"}},{\"text\":1.18,\"x\":38.7305,\"y\":9.353000000000002,\"z\":16.323,\"showarrow\":false,\"yshift\":15,\"font\":{\"color\":\"steelblue\"}},{\"text\":1.77,\"x\":39.368,\"y\":7.9544999999999995,\"z\":14.71,\"showarrow\":false,\"yshift\":15,\"font\":{\"color\":\"steelblue\"}},{\"text\":1.77,\"x\":38.205,\"y\":7.877,\"z\":15.1155,\"showarrow\":false,\"yshift\":15,\"font\":{\"color\":\"steelblue\"}},{\"text\":1.18,\"x\":38.5715,\"y\":8.648,\"z\":14.453,\"showarrow\":false,\"yshift\":15,\"font\":{\"color\":\"steelblue\"}},{\"text\":1.77,\"x\":39.8485,\"y\":7.0565,\"z\":13.977,\"showarrow\":false,\"yshift\":15,\"font\":{\"color\":\"steelblue\"}},{\"text\":1.18,\"x\":40.3845,\"y\":7.896,\"z\":14.373999999999999,\"showarrow\":false,\"yshift\":15,\"font\":{\"color\":\"steelblue\"}},{\"text\":1.18,\"x\":40.1405,\"y\":7.27,\"z\":14.9815,\"showarrow\":false,\"yshift\":15,\"font\":{\"color\":\"steelblue\"}},{\"text\":1.77,\"x\":39.0955,\"y\":6.173,\"z\":13.517,\"showarrow\":false,\"yshift\":15,\"font\":{\"color\":\"steelblue\"}},{\"text\":1.18,\"x\":39.667,\"y\":6.839,\"z\":12.946000000000002,\"showarrow\":false,\"yshift\":15,\"font\":{\"color\":\"steelblue\"}},{\"text\":1.18,\"x\":40.128,\"y\":6.202999999999999,\"z\":13.413,\"showarrow\":false,\"yshift\":15,\"font\":{\"color\":\"steelblue\"}},{\"text\":2.21,\"x\":38.597,\"y\":4.939500000000001,\"z\":13.733,\"showarrow\":false,\"yshift\":15,\"font\":{\"color\":\"steelblue\"}},{\"text\":1.77,\"x\":37.8955,\"y\":6.083,\"z\":13.942499999999999,\"showarrow\":false,\"yshift\":15,\"font\":{\"color\":\"steelblue\"}},{\"text\":2.21,\"x\":38.066,\"y\":3.7185,\"z\":13.8935,\"showarrow\":false,\"yshift\":15,\"font\":{\"color\":\"steelblue\"}},{\"text\":2.21,\"x\":39.186499999999995,\"y\":3.802,\"z\":13.348,\"showarrow\":false,\"yshift\":15,\"font\":{\"color\":\"steelblue\"}},{\"text\":2.21,\"x\":39.1065,\"y\":4.0120000000000005,\"z\":14.6485,\"showarrow\":false,\"yshift\":15,\"font\":{\"color\":\"steelblue\"}},{\"text\":1.77,\"x\":39.72,\"y\":3.2279999999999998,\"z\":15.565999999999999,\"showarrow\":false,\"yshift\":15,\"font\":{\"color\":\"steelblue\"}},{\"text\":1.18,\"x\":39.938500000000005,\"y\":4.2615,\"z\":15.464500000000001,\"showarrow\":false,\"yshift\":15,\"font\":{\"color\":\"steelblue\"}},{\"text\":1.18,\"x\":39.1365,\"y\":4.0680000000000005,\"z\":15.835,\"showarrow\":false,\"yshift\":15,\"font\":{\"color\":\"steelblue\"}},{\"text\":1.77,\"x\":39.4875,\"y\":2.0545,\"z\":15.9355,\"showarrow\":false,\"yshift\":15,\"font\":{\"color\":\"steelblue\"}},{\"text\":1.77,\"x\":40.5975,\"y\":2.335,\"z\":15.5395,\"showarrow\":false,\"yshift\":15,\"font\":{\"color\":\"steelblue\"}},{\"text\":1.77,\"x\":39.2395,\"y\":0.923,\"z\":16.2905,\"showarrow\":false,\"yshift\":15,\"font\":{\"color\":\"steelblue\"}},{\"text\":1.18,\"x\":38.5175,\"y\":1.732,\"z\":16.298000000000002,\"showarrow\":false,\"yshift\":15,\"font\":{\"color\":\"steelblue\"}},{\"text\":1.77,\"x\":40.101,\"y\":0.07350000000000001,\"z\":16.2515,\"showarrow\":false,\"yshift\":15,\"font\":{\"color\":\"steelblue\"}},{\"text\":1.18,\"x\":39.088,\"y\":-0.10699999999999998,\"z\":16.593,\"showarrow\":false,\"yshift\":15,\"font\":{\"color\":\"steelblue\"}},{\"text\":1.77,\"x\":41.210499999999996,\"y\":0.354,\"z\":15.856,\"showarrow\":false,\"yshift\":15,\"font\":{\"color\":\"steelblue\"}},{\"text\":1.18,\"x\":40.919,\"y\":-0.6355000000000001,\"z\":16.1905,\"showarrow\":false,\"yshift\":15,\"font\":{\"color\":\"steelblue\"}},{\"text\":1.77,\"x\":41.459,\"y\":1.484,\"z\":15.499,\"showarrow\":false,\"yshift\":15,\"font\":{\"color\":\"steelblue\"}},{\"text\":1.18,\"x\":42.18,\"y\":0.6745,\"z\":15.491,\"showarrow\":false,\"yshift\":15,\"font\":{\"color\":\"steelblue\"}},{\"text\":1.18,\"x\":41.611000000000004,\"y\":2.5135,\"z\":15.195,\"showarrow\":false,\"yshift\":15,\"font\":{\"color\":\"steelblue\"}},{\"text\":1.77,\"x\":37.4855,\"y\":6.889,\"z\":14.808,\"showarrow\":false,\"yshift\":15,\"font\":{\"color\":\"steelblue\"}},{\"text\":1.18,\"x\":37.006,\"y\":6.632,\"z\":13.8865,\"showarrow\":false,\"yshift\":15,\"font\":{\"color\":\"steelblue\"}},{\"text\":1.18,\"x\":37.039,\"y\":5.971500000000001,\"z\":14.5175,\"showarrow\":false,\"yshift\":15,\"font\":{\"color\":\"steelblue\"}},{\"text\":1.18,\"x\":37.210499999999996,\"y\":7.686,\"z\":15.472000000000001,\"showarrow\":false,\"yshift\":15,\"font\":{\"color\":\"steelblue\"}},{\"text\":1.18,\"x\":37.8495,\"y\":7.1235,\"z\":15.7845,\"showarrow\":false,\"yshift\":15,\"font\":{\"color\":\"steelblue\"}},{\"text\":1.18,\"x\":40.2515,\"y\":11.3745,\"z\":15.6645,\"showarrow\":false,\"yshift\":15,\"font\":{\"color\":\"steelblue\"}},{\"text\":2.46,\"x\":41.167500000000004,\"y\":13.427,\"z\":13.9275,\"showarrow\":false,\"yshift\":15,\"font\":{\"color\":\"steelblue\"}}]}],\"label\":\"Bond Lengths\",\"method\":\"relayout\"},{\"args\":[{\"scene.annotations\":[]}],\"label\":\"Hide All\",\"method\":\"relayout\"}],\"direction\":\"down\",\"xanchor\":\"left\",\"yanchor\":\"top\"}]},                        {\"responsive\": true}                    ).then(function(){\n",
       "                            \n",
       "var gd = document.getElementById('46191b3a-8fde-4cad-8e52-31a720400302');\n",
       "var x = new MutationObserver(function (mutations, observer) {{\n",
       "        var display = window.getComputedStyle(gd).display;\n",
       "        if (!display || display === 'none') {{\n",
       "            console.log([gd, 'removed!']);\n",
       "            Plotly.purge(gd);\n",
       "            observer.disconnect();\n",
       "        }}\n",
       "}});\n",
       "\n",
       "// Listen for the removal of the full notebook cells\n",
       "var notebookContainer = gd.closest('#notebook-container');\n",
       "if (notebookContainer) {{\n",
       "    x.observe(notebookContainer, {childList: true});\n",
       "}}\n",
       "\n",
       "// Listen for the clearing of the current output cell\n",
       "var outputEl = gd.closest('.output');\n",
       "if (outputEl) {{\n",
       "    x.observe(outputEl, {childList: true});\n",
       "}}\n",
       "\n",
       "                        })                };                });            </script>        </div>"
      ]
     },
     "metadata": {},
     "output_type": "display_data"
    }
   ],
   "source": [
    "iplot(fig)"
   ]
  },
  {
   "cell_type": "code",
   "execution_count": 8,
   "id": "4747ef84",
   "metadata": {},
   "outputs": [],
   "source": [
    "# An Attempt to put two molecula in one graph\n",
    "#this function definitely needs improvement for the vast amounts of hard coding involves here :(\n",
    "def two_graphs (file_path1,file_path2):\n",
    "    obj1= MolGraph()\n",
    "    obj2= MolGraph()\n",
    "    obj1.read_mol(file_path1)\n",
    "    obj2.read_mol(file_path2)\n",
    "    obj1_data=to_plotly_figure(obj1)[1]\n",
    "    obj2_data=to_plotly_figure(obj2)[1]\n",
    "    both_data=obj1_data\n",
    "    \n",
    "    ###data portion appending\n",
    "    ##append color\n",
    "    both_data[0]['marker']['color']=obj1_data[0]['marker']['color']+obj2_data[0]['marker']['color']\n",
    "    #apppend text\n",
    "    both_data[0]['text']=obj1_data[0]['text']+obj2_data[0]['text']\n",
    "    #append 'x'\n",
    "    both_data[0]['x']=obj1_data[0]['x']+obj2_data[0]['x']\n",
    "    #append 'y'\n",
    "    both_data[0]['y']= obj1_data[0]['y']+obj2_data[0]['y']\n",
    "    #append 'z'\n",
    "    both_data[0]['z']=obj1_data[0]['z']+obj2_data[0]['z']\n",
    "    #append [1] 'x'\n",
    "    both_data[1]['x']=obj1_data[1]['x']+obj2_data[1]['x']\n",
    "    #append[1]'y'\n",
    "    both_data[1]['y']=obj1_data[1]['y']+obj2_data[1]['y']\n",
    "    #append[1]'z'\n",
    "    both_data[1]['z']=obj1_data[1]['z']+obj2_data[1]['z']\n",
    "    \n",
    "    #layout part appending\n",
    "    layout=to_plotly_figure(obj1)[2]\n",
    "    obj1_layout=to_plotly_figure(obj1)[2]\n",
    "    obj2_layout=to_plotly_figure(obj2)[2]\n",
    "    layout['scene']['annotations']=obj1_layout['scene']['annotations']+obj2_layout['scene']['annotations']\n",
    "    \n",
    "    #for loop updatemenus to append data in each level of updatemenus except Hide All (label)\n",
    "    for i in range(len(obj1_layout['updatemenus'][0]['buttons'])-1):\n",
    "    \n",
    "        layout['updatemenus'][0]['buttons'][i]['args'][0]['scene.annotations']=obj1_layout['updatemenus'][0]['buttons'][i]['args'][0]['scene.annotations']+obj2_layout['updatemenus'][0]['buttons'][i]['args'][0]['scene.annotations']\n",
    "    \n",
    "\n",
    "    return go.Figure(data=both_data,layout=layout)\n",
    "\n",
    "    \n",
    "    "
   ]
  },
  {
   "cell_type": "code",
   "execution_count": 9,
   "id": "5da50579",
   "metadata": {},
   "outputs": [],
   "source": [
    "file_path1='/Users/freyali/2023summerb/2023summer/3D_visualization/归档/20667_sybyl.mol2'\n",
    "file_path2='/Users/freyali/2023summerb/2023summer/3D_visualization/归档/23484_sybyl.mol2'"
   ]
  },
  {
   "cell_type": "code",
   "execution_count": 10,
   "id": "85f89bea",
   "metadata": {
    "scrolled": false
   },
   "outputs": [
    {
     "data": {
      "application/vnd.plotly.v1+json": {
       "config": {
        "plotlyServerURL": "https://plot.ly"
       },
       "data": [
        {
         "marker": {
          "color": [
           "red",
           "black",
           "red",
           "black",
           "red",
           "black",
           "black",
           "black",
           "red",
           "red",
           "yellow",
           "black",
           "black",
           "black",
           "black",
           "black",
           "black",
           "blue",
           "black",
           "black",
           "black",
           "blue",
           "yellow",
           "red",
           "red",
           "black",
           "black",
           "black",
           "black",
           "black",
           "black",
           "black",
           "black",
           "black",
           "black",
           "black",
           "darkred",
           "white",
           "white",
           "white",
           "white",
           "white",
           "white",
           "white",
           "white",
           "white",
           "white",
           "white",
           "white",
           "white",
           "white",
           "white",
           "white",
           "white",
           "white",
           "white",
           "white",
           "white",
           "white",
           "white",
           "red",
           "black",
           "red",
           "black",
           "red",
           "black",
           "black",
           "black",
           "black",
           "black",
           "black",
           "black",
           "black",
           "blue",
           "black",
           "black",
           "black",
           "blue",
           "yellow",
           "red",
           "red",
           "black",
           "black",
           "black",
           "black",
           "black",
           "black",
           "black",
           "black",
           "black",
           "black",
           "yellow",
           "black",
           "black",
           "red",
           "red",
           "white",
           "white",
           "white",
           "white",
           "white",
           "white",
           "white",
           "white",
           "white",
           "white",
           "white",
           "white",
           "white",
           "white",
           "white",
           "white",
           "white",
           "white",
           "white",
           "white",
           "white",
           "white",
           "white",
           "white"
          ],
          "line": {
           "color": "lightgray",
           "width": 2
          },
          "opacity": 0.8,
          "size": 7,
          "symbol": "circle"
         },
         "mode": "markers",
         "text": [
          "O1",
          "C1",
          "O2",
          "C2",
          "O3",
          "C3",
          "C4",
          "C5",
          "O4",
          "O5",
          "S1",
          "C6",
          "C7",
          "C8",
          "C9",
          "C10",
          "C11",
          "N1",
          "C12",
          "C13",
          "C14",
          "N2",
          "S2",
          "O6",
          "O7",
          "C15",
          "C16",
          "C17",
          "C18",
          "C19",
          "C20",
          "C21",
          "C22",
          "C23",
          "C24",
          "C25",
          "Br1",
          "H1",
          "H2",
          "H3",
          "H4",
          "H5",
          "H6",
          "H7",
          "H8",
          "H9",
          "H10",
          "H11",
          "H12",
          "H13",
          "H14",
          "H15",
          "H16",
          "H17",
          "H18",
          "H19",
          "H20",
          "H21",
          "H22",
          "H23",
          "O1",
          "C1",
          "O2",
          "C2",
          "O3",
          "C3",
          "C4",
          "C5",
          "C6",
          "C7",
          "C8",
          "C9",
          "C10",
          "N1",
          "C11",
          "C12",
          "C13",
          "N2",
          "S1",
          "O4",
          "O5",
          "C14",
          "C15",
          "C16",
          "C17",
          "C18",
          "C19",
          "C20",
          "C21",
          "C22",
          "C23",
          "S2",
          "C24",
          "C25",
          "O6",
          "O7",
          "H1",
          "H2",
          "H3",
          "H4",
          "H5",
          "H6",
          "H7",
          "H8",
          "H9",
          "H10",
          "H11",
          "H12",
          "H13",
          "H14",
          "H15",
          "H16",
          "H17",
          "H18",
          "H19",
          "H20",
          "H21",
          "H22",
          "H23",
          "H24"
         ],
         "type": "scatter3d",
         "x": [
          41.039,
          40.735,
          40.373,
          40.775,
          42.056,
          42.358,
          43.256,
          43.917,
          43.649,
          44.856,
          43.357,
          42.242,
          41.93,
          42.944,
          42.707,
          41.439,
          40.409,
          39.103,
          38.749,
          39.987,
          39.71,
          38.481,
          38.713,
          37.419,
          39.66,
          39.5,
          39.94,
          39.035,
          39.444,
          40.758,
          41.663,
          41.255,
          37.31,
          37.661,
          40.656,
          41.78,
          40.555,
          40.575,
          40.01,
          43.936,
          43.512,
          41.248,
          38.358,
          38.394,
          40.782,
          40.294,
          39.624,
          40.546,
          40.377,
          38.773,
          38,
          38.732,
          41.08,
          42.697,
          41.967,
          36.702,
          36.768,
          36.76,
          38.038,
          39.847,
          39.044,
          40.196,
          41.237,
          40.455,
          41.645,
          42.164,
          41.512,
          42.249,
          41.933,
          42.944,
          42.706,
          41.438,
          40.41,
          39.105,
          38.777,
          40.05,
          39.729,
          38.749,
          38.606,
          38.676,
          37.27,
          39.877,
          39.788,
          40.079,
          39.992,
          39.616,
          39.331,
          39.418,
          37.466,
          37.648,
          40.659,
          43.673,
          43.374,
          44.212,
          45.388,
          43.675,
          39.622,
          40.55,
          40.538,
          43.937,
          43.51,
          41.244,
          38.349,
          38.421,
          40.759,
          40.491,
          39.312,
          40.639,
          39.77,
          40.854,
          40.377,
          40.218,
          39.546,
          39.037,
          39.196,
          37.153,
          36.693,
          36.709,
          37.912,
          39.855
         ],
         "y": [
          17.188,
          17.514,
          18.806,
          16.529,
          15.953,
          15.038,
          15.323,
          16.597,
          17.652,
          16.621,
          13.98,
          13.02,
          11.624,
          10.838,
          9.503,
          8.945,
          9.736,
          9.223,
          8.357,
          7.552,
          6.561,
          5.785,
          4.094,
          3.343,
          3.51,
          3.93,
          2.526,
          1.583,
          0.263,
          -0.116,
          0.824,
          2.144,
          6.381,
          7.397,
          11.068,
          13.756,
          13.098,
          17.028,
          15.755,
          11.278,
          8.895,
          7.893,
          9.483,
          8.939,
          8.24,
          6.988,
          7.117,
          5.845,
          4.593,
          4.206,
          1.881,
          -0.477,
          -1.155,
          0.525,
          2.883,
          6.883,
          5.562,
          7.975,
          6.85,
          11.681,
          17.603,
          17.099,
          17.64,
          15.916,
          16.135,
          15.117,
          13.882,
          13.026,
          11.631,
          10.842,
          9.507,
          8.953,
          9.745,
          9.229,
          8.326,
          7.557,
          6.41,
          5.556,
          4.027,
          4.254,
          3.436,
          2.875,
          2.546,
          3.515,
          3.197,
          1.909,
          0.938,
          1.256,
          6.242,
          7.389,
          11.076,
          13.812,
          15.243,
          16.434,
          16.405,
          17.62,
          15.764,
          15.02,
          13.624,
          11.28,
          8.898,
          7.902,
          9.514,
          8.864,
          8.241,
          7.145,
          6.804,
          5.841,
          1.947,
          3.349,
          4.528,
          3.961,
          1.66,
          -0.075,
          0.49,
          6.634,
          5.547,
          7.96,
          6.974,
          11.688
         ],
         "z": [
          11.242,
          12.421,
          12.715,
          13.51,
          13.53,
          14.508,
          15.509,
          15.777,
          15.139,
          16.78,
          16.515,
          15.683,
          16.062,
          16.638,
          16.987,
          16.773,
          16.226,
          15.992,
          14.885,
          14.535,
          13.419,
          13.615,
          13.851,
          13.936,
          12.845,
          15.446,
          15.686,
          16.185,
          16.396,
          16.107,
          15.605,
          15.393,
          14.27,
          15.346,
          15.876,
          14.586,
          13.269,
          14.47,
          13.351,
          16.816,
          17.426,
          17.031,
          16.654,
          14.021,
          14.213,
          15.428,
          12.473,
          13.407,
          15.483,
          16.224,
          16.411,
          16.79,
          16.274,
          15.377,
          14.997,
          13.503,
          14.765,
          15.598,
          16.223,
          15.453,
          12.296,
          12.364,
          11.648,
          13.197,
          13.911,
          14.672,
          14.868,
          15.688,
          16.062,
          16.64,
          16.988,
          16.773,
          16.221,
          15.987,
          14.903,
          14.539,
          13.593,
          14.253,
          13.457,
          11.971,
          13.814,
          13.97,
          15.421,
          16.388,
          17.747,
          18.141,
          17.177,
          15.818,
          14.38,
          15.363,
          15.866,
          16.14,
          15.314,
          15.415,
          15.871,
          14.974,
          13.898,
          12.565,
          14.427,
          16.82,
          17.427,
          17.033,
          16.625,
          14.012,
          14.051,
          15.459,
          12.655,
          13.353,
          13.389,
          13.791,
          16.078,
          18.506,
          19.21,
          17.487,
          15.06,
          13.401,
          14.739,
          15.428,
          16.346,
          15.431
         ]
        },
        {
         "hoverinfo": "none",
         "marker": {
          "color": "grey",
          "opacity": 1,
          "size": 7
         },
         "mode": "lines",
         "type": "scatter3d",
         "x": [
          41.039,
          40.735,
          null,
          40.735,
          41.039,
          null,
          40.735,
          40.373,
          null,
          40.735,
          40.775,
          null,
          40.373,
          40.735,
          null,
          40.775,
          40.735,
          null,
          40.775,
          42.056,
          null,
          40.775,
          40.575,
          null,
          40.775,
          40.01,
          null,
          42.056,
          40.775,
          null,
          42.056,
          42.358,
          null,
          40.575,
          40.775,
          null,
          40.01,
          40.775,
          null,
          42.358,
          41.78,
          null,
          42.358,
          42.056,
          null,
          42.358,
          43.256,
          null,
          43.256,
          43.357,
          null,
          43.256,
          42.358,
          null,
          43.256,
          43.917,
          null,
          41.78,
          42.242,
          null,
          41.78,
          40.555,
          null,
          41.78,
          42.358,
          null,
          43.917,
          43.649,
          null,
          43.917,
          44.856,
          null,
          43.917,
          43.256,
          null,
          43.357,
          42.242,
          null,
          43.357,
          43.256,
          null,
          43.649,
          43.917,
          null,
          44.856,
          43.917,
          null,
          42.242,
          43.357,
          null,
          42.242,
          41.78,
          null,
          42.242,
          41.93,
          null,
          41.93,
          40.656,
          null,
          41.93,
          42.242,
          null,
          41.93,
          42.944,
          null,
          42.944,
          41.93,
          null,
          42.944,
          42.707,
          null,
          42.944,
          43.936,
          null,
          40.656,
          40.409,
          null,
          40.656,
          39.847,
          null,
          40.656,
          41.93,
          null,
          42.707,
          43.512,
          null,
          42.707,
          42.944,
          null,
          42.707,
          41.439,
          null,
          43.936,
          42.944,
          null,
          41.439,
          40.409,
          null,
          41.439,
          41.248,
          null,
          41.439,
          42.707,
          null,
          43.512,
          42.707,
          null,
          40.409,
          39.103,
          null,
          40.409,
          40.656,
          null,
          40.409,
          41.439,
          null,
          41.248,
          41.439,
          null,
          39.103,
          40.409,
          null,
          39.103,
          38.749,
          null,
          39.103,
          38.358,
          null,
          38.749,
          39.103,
          null,
          38.749,
          39.987,
          null,
          38.749,
          38.394,
          null,
          38.749,
          37.661,
          null,
          38.358,
          39.103,
          null,
          39.987,
          38.749,
          null,
          39.987,
          39.71,
          null,
          39.987,
          40.294,
          null,
          39.987,
          40.782,
          null,
          37.661,
          37.31,
          null,
          37.661,
          36.76,
          null,
          37.661,
          38.749,
          null,
          37.661,
          38.038,
          null,
          38.394,
          38.749,
          null,
          39.71,
          39.987,
          null,
          39.71,
          38.481,
          null,
          39.71,
          39.624,
          null,
          39.71,
          40.546,
          null,
          40.782,
          39.987,
          null,
          40.294,
          39.987,
          null,
          38.481,
          37.31,
          null,
          38.481,
          39.71,
          null,
          38.481,
          38.713,
          null,
          39.624,
          39.71,
          null,
          40.546,
          39.71,
          null,
          38.713,
          39.66,
          null,
          38.713,
          39.5,
          null,
          38.713,
          38.481,
          null,
          38.713,
          37.419,
          null,
          37.31,
          36.768,
          null,
          37.31,
          37.661,
          null,
          37.31,
          38.481,
          null,
          37.31,
          36.702,
          null,
          37.419,
          38.713,
          null,
          39.66,
          38.713,
          null,
          39.5,
          40.377,
          null,
          39.5,
          38.773,
          null,
          39.5,
          39.94,
          null,
          39.5,
          38.713,
          null,
          39.94,
          39.5,
          null,
          39.94,
          39.035,
          null,
          39.94,
          41.255,
          null,
          40.377,
          39.5,
          null,
          38.773,
          39.5,
          null,
          39.035,
          39.94,
          null,
          39.035,
          39.444,
          null,
          39.035,
          38,
          null,
          41.255,
          41.967,
          null,
          41.255,
          39.94,
          null,
          41.255,
          41.663,
          null,
          39.444,
          38.732,
          null,
          39.444,
          39.035,
          null,
          39.444,
          40.758,
          null,
          38,
          39.035,
          null,
          40.758,
          39.444,
          null,
          40.758,
          41.663,
          null,
          40.758,
          41.08,
          null,
          38.732,
          39.444,
          null,
          41.663,
          42.697,
          null,
          41.663,
          40.758,
          null,
          41.663,
          41.255,
          null,
          41.08,
          40.758,
          null,
          42.697,
          41.663,
          null,
          41.967,
          41.255,
          null,
          36.702,
          37.31,
          null,
          36.768,
          37.31,
          null,
          36.76,
          37.661,
          null,
          38.038,
          37.661,
          null,
          39.847,
          40.656,
          null,
          40.555,
          41.78,
          null,
          39.044,
          40.196,
          null,
          40.196,
          39.044,
          null,
          40.196,
          41.237,
          null,
          40.196,
          40.455,
          null,
          41.237,
          40.196,
          null,
          40.455,
          40.196,
          null,
          40.455,
          41.645,
          null,
          40.455,
          40.55,
          null,
          40.455,
          39.622,
          null,
          41.645,
          40.455,
          null,
          41.645,
          42.164,
          null,
          39.622,
          40.455,
          null,
          40.55,
          40.455,
          null,
          42.164,
          43.374,
          null,
          42.164,
          41.645,
          null,
          42.164,
          41.512,
          null,
          41.512,
          42.164,
          null,
          41.512,
          40.538,
          null,
          41.512,
          42.249,
          null,
          43.374,
          44.212,
          null,
          43.374,
          42.164,
          null,
          43.374,
          43.673,
          null,
          42.249,
          41.933,
          null,
          42.249,
          41.512,
          null,
          42.249,
          43.673,
          null,
          40.538,
          41.512,
          null,
          41.933,
          42.944,
          null,
          41.933,
          40.659,
          null,
          41.933,
          42.249,
          null,
          43.673,
          43.374,
          null,
          43.673,
          42.249,
          null,
          42.944,
          41.933,
          null,
          42.944,
          42.706,
          null,
          42.944,
          43.937,
          null,
          40.659,
          41.933,
          null,
          40.659,
          39.855,
          null,
          40.659,
          40.41,
          null,
          42.706,
          43.51,
          null,
          42.706,
          42.944,
          null,
          42.706,
          41.438,
          null,
          43.937,
          42.944,
          null,
          41.438,
          41.244,
          null,
          41.438,
          42.706,
          null,
          41.438,
          40.41,
          null,
          43.51,
          42.706,
          null,
          40.41,
          41.438,
          null,
          40.41,
          39.105,
          null,
          40.41,
          40.659,
          null,
          41.244,
          41.438,
          null,
          39.105,
          38.349,
          null,
          39.105,
          40.41,
          null,
          39.105,
          38.777,
          null,
          38.777,
          37.648,
          null,
          38.777,
          38.421,
          null,
          38.777,
          39.105,
          null,
          38.777,
          40.05,
          null,
          38.349,
          39.105,
          null,
          40.05,
          39.729,
          null,
          40.05,
          40.759,
          null,
          40.05,
          40.491,
          null,
          40.05,
          38.777,
          null,
          37.648,
          36.709,
          null,
          37.648,
          37.912,
          null,
          37.648,
          37.466,
          null,
          37.648,
          38.777,
          null,
          38.421,
          38.777,
          null,
          39.729,
          38.749,
          null,
          39.729,
          40.639,
          null,
          39.729,
          39.312,
          null,
          39.729,
          40.05,
          null,
          40.759,
          40.05,
          null,
          40.491,
          40.05,
          null,
          38.749,
          39.729,
          null,
          38.749,
          38.606,
          null,
          38.749,
          37.466,
          null,
          39.312,
          39.729,
          null,
          40.639,
          39.729,
          null,
          38.606,
          38.749,
          null,
          38.606,
          38.676,
          null,
          38.606,
          37.27,
          null,
          38.606,
          39.877,
          null,
          37.466,
          36.693,
          null,
          37.466,
          38.749,
          null,
          37.466,
          37.648,
          null,
          37.466,
          37.153,
          null,
          38.676,
          38.606,
          null,
          37.27,
          38.606,
          null,
          39.877,
          39.77,
          null,
          39.877,
          40.854,
          null,
          39.877,
          38.606,
          null,
          39.877,
          39.788,
          null,
          39.788,
          39.418,
          null,
          39.788,
          39.877,
          null,
          39.788,
          40.079,
          null,
          39.77,
          39.877,
          null,
          40.854,
          39.877,
          null,
          40.079,
          39.992,
          null,
          40.079,
          40.377,
          null,
          40.079,
          39.788,
          null,
          39.418,
          39.196,
          null,
          39.418,
          39.331,
          null,
          39.418,
          39.788,
          null,
          39.992,
          39.616,
          null,
          39.992,
          40.218,
          null,
          39.992,
          40.079,
          null,
          40.377,
          40.079,
          null,
          39.616,
          39.992,
          null,
          39.616,
          39.331,
          null,
          39.616,
          39.546,
          null,
          40.218,
          39.992,
          null,
          39.331,
          39.616,
          null,
          39.331,
          39.418,
          null,
          39.331,
          39.037,
          null,
          39.546,
          39.616,
          null,
          39.037,
          39.331,
          null,
          39.196,
          39.418,
          null,
          37.153,
          37.466,
          null,
          36.693,
          37.466,
          null,
          36.709,
          37.648,
          null,
          37.912,
          37.648,
          null,
          39.855,
          40.659,
          null,
          44.212,
          43.374,
          null,
          44.212,
          45.388,
          null,
          44.212,
          43.675,
          null,
          45.388,
          44.212,
          null,
          43.675,
          44.212,
          null
         ],
         "y": [
          17.188,
          17.514,
          null,
          17.514,
          17.188,
          null,
          17.514,
          18.806,
          null,
          17.514,
          16.529,
          null,
          18.806,
          17.514,
          null,
          16.529,
          17.514,
          null,
          16.529,
          15.953,
          null,
          16.529,
          17.028,
          null,
          16.529,
          15.755,
          null,
          15.953,
          16.529,
          null,
          15.953,
          15.038,
          null,
          17.028,
          16.529,
          null,
          15.755,
          16.529,
          null,
          15.038,
          13.756,
          null,
          15.038,
          15.953,
          null,
          15.038,
          15.323,
          null,
          15.323,
          13.98,
          null,
          15.323,
          15.038,
          null,
          15.323,
          16.597,
          null,
          13.756,
          13.02,
          null,
          13.756,
          13.098,
          null,
          13.756,
          15.038,
          null,
          16.597,
          17.652,
          null,
          16.597,
          16.621,
          null,
          16.597,
          15.323,
          null,
          13.98,
          13.02,
          null,
          13.98,
          15.323,
          null,
          17.652,
          16.597,
          null,
          16.621,
          16.597,
          null,
          13.02,
          13.98,
          null,
          13.02,
          13.756,
          null,
          13.02,
          11.624,
          null,
          11.624,
          11.068,
          null,
          11.624,
          13.02,
          null,
          11.624,
          10.838,
          null,
          10.838,
          11.624,
          null,
          10.838,
          9.503,
          null,
          10.838,
          11.278,
          null,
          11.068,
          9.736,
          null,
          11.068,
          11.681,
          null,
          11.068,
          11.624,
          null,
          9.503,
          8.895,
          null,
          9.503,
          10.838,
          null,
          9.503,
          8.945,
          null,
          11.278,
          10.838,
          null,
          8.945,
          9.736,
          null,
          8.945,
          7.893,
          null,
          8.945,
          9.503,
          null,
          8.895,
          9.503,
          null,
          9.736,
          9.223,
          null,
          9.736,
          11.068,
          null,
          9.736,
          8.945,
          null,
          7.893,
          8.945,
          null,
          9.223,
          9.736,
          null,
          9.223,
          8.357,
          null,
          9.223,
          9.483,
          null,
          8.357,
          9.223,
          null,
          8.357,
          7.552,
          null,
          8.357,
          8.939,
          null,
          8.357,
          7.397,
          null,
          9.483,
          9.223,
          null,
          7.552,
          8.357,
          null,
          7.552,
          6.561,
          null,
          7.552,
          6.988,
          null,
          7.552,
          8.24,
          null,
          7.397,
          6.381,
          null,
          7.397,
          7.975,
          null,
          7.397,
          8.357,
          null,
          7.397,
          6.85,
          null,
          8.939,
          8.357,
          null,
          6.561,
          7.552,
          null,
          6.561,
          5.785,
          null,
          6.561,
          7.117,
          null,
          6.561,
          5.845,
          null,
          8.24,
          7.552,
          null,
          6.988,
          7.552,
          null,
          5.785,
          6.381,
          null,
          5.785,
          6.561,
          null,
          5.785,
          4.094,
          null,
          7.117,
          6.561,
          null,
          5.845,
          6.561,
          null,
          4.094,
          3.51,
          null,
          4.094,
          3.93,
          null,
          4.094,
          5.785,
          null,
          4.094,
          3.343,
          null,
          6.381,
          5.562,
          null,
          6.381,
          7.397,
          null,
          6.381,
          5.785,
          null,
          6.381,
          6.883,
          null,
          3.343,
          4.094,
          null,
          3.51,
          4.094,
          null,
          3.93,
          4.593,
          null,
          3.93,
          4.206,
          null,
          3.93,
          2.526,
          null,
          3.93,
          4.094,
          null,
          2.526,
          3.93,
          null,
          2.526,
          1.583,
          null,
          2.526,
          2.144,
          null,
          4.593,
          3.93,
          null,
          4.206,
          3.93,
          null,
          1.583,
          2.526,
          null,
          1.583,
          0.263,
          null,
          1.583,
          1.881,
          null,
          2.144,
          2.883,
          null,
          2.144,
          2.526,
          null,
          2.144,
          0.824,
          null,
          0.263,
          -0.477,
          null,
          0.263,
          1.583,
          null,
          0.263,
          -0.116,
          null,
          1.881,
          1.583,
          null,
          -0.116,
          0.263,
          null,
          -0.116,
          0.824,
          null,
          -0.116,
          -1.155,
          null,
          -0.477,
          0.263,
          null,
          0.824,
          0.525,
          null,
          0.824,
          -0.116,
          null,
          0.824,
          2.144,
          null,
          -1.155,
          -0.116,
          null,
          0.525,
          0.824,
          null,
          2.883,
          2.144,
          null,
          6.883,
          6.381,
          null,
          5.562,
          6.381,
          null,
          7.975,
          7.397,
          null,
          6.85,
          7.397,
          null,
          11.681,
          11.068,
          null,
          13.098,
          13.756,
          null,
          17.603,
          17.099,
          null,
          17.099,
          17.603,
          null,
          17.099,
          17.64,
          null,
          17.099,
          15.916,
          null,
          17.64,
          17.099,
          null,
          15.916,
          17.099,
          null,
          15.916,
          16.135,
          null,
          15.916,
          15.02,
          null,
          15.916,
          15.764,
          null,
          16.135,
          15.916,
          null,
          16.135,
          15.117,
          null,
          15.764,
          15.916,
          null,
          15.02,
          15.916,
          null,
          15.117,
          15.243,
          null,
          15.117,
          16.135,
          null,
          15.117,
          13.882,
          null,
          13.882,
          15.117,
          null,
          13.882,
          13.624,
          null,
          13.882,
          13.026,
          null,
          15.243,
          16.434,
          null,
          15.243,
          15.117,
          null,
          15.243,
          13.812,
          null,
          13.026,
          11.631,
          null,
          13.026,
          13.882,
          null,
          13.026,
          13.812,
          null,
          13.624,
          13.882,
          null,
          11.631,
          10.842,
          null,
          11.631,
          11.076,
          null,
          11.631,
          13.026,
          null,
          13.812,
          15.243,
          null,
          13.812,
          13.026,
          null,
          10.842,
          11.631,
          null,
          10.842,
          9.507,
          null,
          10.842,
          11.28,
          null,
          11.076,
          11.631,
          null,
          11.076,
          11.688,
          null,
          11.076,
          9.745,
          null,
          9.507,
          8.898,
          null,
          9.507,
          10.842,
          null,
          9.507,
          8.953,
          null,
          11.28,
          10.842,
          null,
          8.953,
          7.902,
          null,
          8.953,
          9.507,
          null,
          8.953,
          9.745,
          null,
          8.898,
          9.507,
          null,
          9.745,
          8.953,
          null,
          9.745,
          9.229,
          null,
          9.745,
          11.076,
          null,
          7.902,
          8.953,
          null,
          9.229,
          9.514,
          null,
          9.229,
          9.745,
          null,
          9.229,
          8.326,
          null,
          8.326,
          7.389,
          null,
          8.326,
          8.864,
          null,
          8.326,
          9.229,
          null,
          8.326,
          7.557,
          null,
          9.514,
          9.229,
          null,
          7.557,
          6.41,
          null,
          7.557,
          8.241,
          null,
          7.557,
          7.145,
          null,
          7.557,
          8.326,
          null,
          7.389,
          7.96,
          null,
          7.389,
          6.974,
          null,
          7.389,
          6.242,
          null,
          7.389,
          8.326,
          null,
          8.864,
          8.326,
          null,
          6.41,
          5.556,
          null,
          6.41,
          5.841,
          null,
          6.41,
          6.804,
          null,
          6.41,
          7.557,
          null,
          8.241,
          7.557,
          null,
          7.145,
          7.557,
          null,
          5.556,
          6.41,
          null,
          5.556,
          4.027,
          null,
          5.556,
          6.242,
          null,
          6.804,
          6.41,
          null,
          5.841,
          6.41,
          null,
          4.027,
          5.556,
          null,
          4.027,
          4.254,
          null,
          4.027,
          3.436,
          null,
          4.027,
          2.875,
          null,
          6.242,
          5.547,
          null,
          6.242,
          5.556,
          null,
          6.242,
          7.389,
          null,
          6.242,
          6.634,
          null,
          4.254,
          4.027,
          null,
          3.436,
          4.027,
          null,
          2.875,
          1.947,
          null,
          2.875,
          3.349,
          null,
          2.875,
          4.027,
          null,
          2.875,
          2.546,
          null,
          2.546,
          1.256,
          null,
          2.546,
          2.875,
          null,
          2.546,
          3.515,
          null,
          1.947,
          2.875,
          null,
          3.349,
          2.875,
          null,
          3.515,
          3.197,
          null,
          3.515,
          4.528,
          null,
          3.515,
          2.546,
          null,
          1.256,
          0.49,
          null,
          1.256,
          0.938,
          null,
          1.256,
          2.546,
          null,
          3.197,
          1.909,
          null,
          3.197,
          3.961,
          null,
          3.197,
          3.515,
          null,
          4.528,
          3.515,
          null,
          1.909,
          3.197,
          null,
          1.909,
          0.938,
          null,
          1.909,
          1.66,
          null,
          3.961,
          3.197,
          null,
          0.938,
          1.909,
          null,
          0.938,
          1.256,
          null,
          0.938,
          -0.075,
          null,
          1.66,
          1.909,
          null,
          -0.075,
          0.938,
          null,
          0.49,
          1.256,
          null,
          6.634,
          6.242,
          null,
          5.547,
          6.242,
          null,
          7.96,
          7.389,
          null,
          6.974,
          7.389,
          null,
          11.688,
          11.076,
          null,
          16.434,
          15.243,
          null,
          16.434,
          16.405,
          null,
          16.434,
          17.62,
          null,
          16.405,
          16.434,
          null,
          17.62,
          16.434,
          null
         ],
         "z": [
          11.242,
          12.421,
          null,
          12.421,
          11.242,
          null,
          12.421,
          12.715,
          null,
          12.421,
          13.51,
          null,
          12.715,
          12.421,
          null,
          13.51,
          12.421,
          null,
          13.51,
          13.53,
          null,
          13.51,
          14.47,
          null,
          13.51,
          13.351,
          null,
          13.53,
          13.51,
          null,
          13.53,
          14.508,
          null,
          14.47,
          13.51,
          null,
          13.351,
          13.51,
          null,
          14.508,
          14.586,
          null,
          14.508,
          13.53,
          null,
          14.508,
          15.509,
          null,
          15.509,
          16.515,
          null,
          15.509,
          14.508,
          null,
          15.509,
          15.777,
          null,
          14.586,
          15.683,
          null,
          14.586,
          13.269,
          null,
          14.586,
          14.508,
          null,
          15.777,
          15.139,
          null,
          15.777,
          16.78,
          null,
          15.777,
          15.509,
          null,
          16.515,
          15.683,
          null,
          16.515,
          15.509,
          null,
          15.139,
          15.777,
          null,
          16.78,
          15.777,
          null,
          15.683,
          16.515,
          null,
          15.683,
          14.586,
          null,
          15.683,
          16.062,
          null,
          16.062,
          15.876,
          null,
          16.062,
          15.683,
          null,
          16.062,
          16.638,
          null,
          16.638,
          16.062,
          null,
          16.638,
          16.987,
          null,
          16.638,
          16.816,
          null,
          15.876,
          16.226,
          null,
          15.876,
          15.453,
          null,
          15.876,
          16.062,
          null,
          16.987,
          17.426,
          null,
          16.987,
          16.638,
          null,
          16.987,
          16.773,
          null,
          16.816,
          16.638,
          null,
          16.773,
          16.226,
          null,
          16.773,
          17.031,
          null,
          16.773,
          16.987,
          null,
          17.426,
          16.987,
          null,
          16.226,
          15.992,
          null,
          16.226,
          15.876,
          null,
          16.226,
          16.773,
          null,
          17.031,
          16.773,
          null,
          15.992,
          16.226,
          null,
          15.992,
          14.885,
          null,
          15.992,
          16.654,
          null,
          14.885,
          15.992,
          null,
          14.885,
          14.535,
          null,
          14.885,
          14.021,
          null,
          14.885,
          15.346,
          null,
          16.654,
          15.992,
          null,
          14.535,
          14.885,
          null,
          14.535,
          13.419,
          null,
          14.535,
          15.428,
          null,
          14.535,
          14.213,
          null,
          15.346,
          14.27,
          null,
          15.346,
          15.598,
          null,
          15.346,
          14.885,
          null,
          15.346,
          16.223,
          null,
          14.021,
          14.885,
          null,
          13.419,
          14.535,
          null,
          13.419,
          13.615,
          null,
          13.419,
          12.473,
          null,
          13.419,
          13.407,
          null,
          14.213,
          14.535,
          null,
          15.428,
          14.535,
          null,
          13.615,
          14.27,
          null,
          13.615,
          13.419,
          null,
          13.615,
          13.851,
          null,
          12.473,
          13.419,
          null,
          13.407,
          13.419,
          null,
          13.851,
          12.845,
          null,
          13.851,
          15.446,
          null,
          13.851,
          13.615,
          null,
          13.851,
          13.936,
          null,
          14.27,
          14.765,
          null,
          14.27,
          15.346,
          null,
          14.27,
          13.615,
          null,
          14.27,
          13.503,
          null,
          13.936,
          13.851,
          null,
          12.845,
          13.851,
          null,
          15.446,
          15.483,
          null,
          15.446,
          16.224,
          null,
          15.446,
          15.686,
          null,
          15.446,
          13.851,
          null,
          15.686,
          15.446,
          null,
          15.686,
          16.185,
          null,
          15.686,
          15.393,
          null,
          15.483,
          15.446,
          null,
          16.224,
          15.446,
          null,
          16.185,
          15.686,
          null,
          16.185,
          16.396,
          null,
          16.185,
          16.411,
          null,
          15.393,
          14.997,
          null,
          15.393,
          15.686,
          null,
          15.393,
          15.605,
          null,
          16.396,
          16.79,
          null,
          16.396,
          16.185,
          null,
          16.396,
          16.107,
          null,
          16.411,
          16.185,
          null,
          16.107,
          16.396,
          null,
          16.107,
          15.605,
          null,
          16.107,
          16.274,
          null,
          16.79,
          16.396,
          null,
          15.605,
          15.377,
          null,
          15.605,
          16.107,
          null,
          15.605,
          15.393,
          null,
          16.274,
          16.107,
          null,
          15.377,
          15.605,
          null,
          14.997,
          15.393,
          null,
          13.503,
          14.27,
          null,
          14.765,
          14.27,
          null,
          15.598,
          15.346,
          null,
          16.223,
          15.346,
          null,
          15.453,
          15.876,
          null,
          13.269,
          14.586,
          null,
          12.296,
          12.364,
          null,
          12.364,
          12.296,
          null,
          12.364,
          11.648,
          null,
          12.364,
          13.197,
          null,
          11.648,
          12.364,
          null,
          13.197,
          12.364,
          null,
          13.197,
          13.911,
          null,
          13.197,
          12.565,
          null,
          13.197,
          13.898,
          null,
          13.911,
          13.197,
          null,
          13.911,
          14.672,
          null,
          13.898,
          13.197,
          null,
          12.565,
          13.197,
          null,
          14.672,
          15.314,
          null,
          14.672,
          13.911,
          null,
          14.672,
          14.868,
          null,
          14.868,
          14.672,
          null,
          14.868,
          14.427,
          null,
          14.868,
          15.688,
          null,
          15.314,
          15.415,
          null,
          15.314,
          14.672,
          null,
          15.314,
          16.14,
          null,
          15.688,
          16.062,
          null,
          15.688,
          14.868,
          null,
          15.688,
          16.14,
          null,
          14.427,
          14.868,
          null,
          16.062,
          16.64,
          null,
          16.062,
          15.866,
          null,
          16.062,
          15.688,
          null,
          16.14,
          15.314,
          null,
          16.14,
          15.688,
          null,
          16.64,
          16.062,
          null,
          16.64,
          16.988,
          null,
          16.64,
          16.82,
          null,
          15.866,
          16.062,
          null,
          15.866,
          15.431,
          null,
          15.866,
          16.221,
          null,
          16.988,
          17.427,
          null,
          16.988,
          16.64,
          null,
          16.988,
          16.773,
          null,
          16.82,
          16.64,
          null,
          16.773,
          17.033,
          null,
          16.773,
          16.988,
          null,
          16.773,
          16.221,
          null,
          17.427,
          16.988,
          null,
          16.221,
          16.773,
          null,
          16.221,
          15.987,
          null,
          16.221,
          15.866,
          null,
          17.033,
          16.773,
          null,
          15.987,
          16.625,
          null,
          15.987,
          16.221,
          null,
          15.987,
          14.903,
          null,
          14.903,
          15.363,
          null,
          14.903,
          14.012,
          null,
          14.903,
          15.987,
          null,
          14.903,
          14.539,
          null,
          16.625,
          15.987,
          null,
          14.539,
          13.593,
          null,
          14.539,
          14.051,
          null,
          14.539,
          15.459,
          null,
          14.539,
          14.903,
          null,
          15.363,
          15.428,
          null,
          15.363,
          16.346,
          null,
          15.363,
          14.38,
          null,
          15.363,
          14.903,
          null,
          14.012,
          14.903,
          null,
          13.593,
          14.253,
          null,
          13.593,
          13.353,
          null,
          13.593,
          12.655,
          null,
          13.593,
          14.539,
          null,
          14.051,
          14.539,
          null,
          15.459,
          14.539,
          null,
          14.253,
          13.593,
          null,
          14.253,
          13.457,
          null,
          14.253,
          14.38,
          null,
          12.655,
          13.593,
          null,
          13.353,
          13.593,
          null,
          13.457,
          14.253,
          null,
          13.457,
          11.971,
          null,
          13.457,
          13.814,
          null,
          13.457,
          13.97,
          null,
          14.38,
          14.739,
          null,
          14.38,
          14.253,
          null,
          14.38,
          15.363,
          null,
          14.38,
          13.401,
          null,
          11.971,
          13.457,
          null,
          13.814,
          13.457,
          null,
          13.97,
          13.389,
          null,
          13.97,
          13.791,
          null,
          13.97,
          13.457,
          null,
          13.97,
          15.421,
          null,
          15.421,
          15.818,
          null,
          15.421,
          13.97,
          null,
          15.421,
          16.388,
          null,
          13.389,
          13.97,
          null,
          13.791,
          13.97,
          null,
          16.388,
          17.747,
          null,
          16.388,
          16.078,
          null,
          16.388,
          15.421,
          null,
          15.818,
          15.06,
          null,
          15.818,
          17.177,
          null,
          15.818,
          15.421,
          null,
          17.747,
          18.141,
          null,
          17.747,
          18.506,
          null,
          17.747,
          16.388,
          null,
          16.078,
          16.388,
          null,
          18.141,
          17.747,
          null,
          18.141,
          17.177,
          null,
          18.141,
          19.21,
          null,
          18.506,
          17.747,
          null,
          17.177,
          18.141,
          null,
          17.177,
          15.818,
          null,
          17.177,
          17.487,
          null,
          19.21,
          18.141,
          null,
          17.487,
          17.177,
          null,
          15.06,
          15.818,
          null,
          13.401,
          14.38,
          null,
          14.739,
          14.38,
          null,
          15.428,
          15.363,
          null,
          16.346,
          15.363,
          null,
          15.431,
          15.866,
          null,
          15.415,
          15.314,
          null,
          15.415,
          15.871,
          null,
          15.415,
          14.974,
          null,
          15.871,
          15.415,
          null,
          14.974,
          15.415,
          null
         ]
        }
       ],
       "layout": {
        "margin": {
         "b": 0,
         "l": 0,
         "r": 0,
         "t": 0
        },
        "scene": {
         "annotations": [
          {
           "showarrow": false,
           "text": "O",
           "x": 41.039,
           "y": 17.188,
           "yshift": 15,
           "z": 11.242
          },
          {
           "showarrow": false,
           "text": "C",
           "x": 40.735,
           "y": 17.514,
           "yshift": 15,
           "z": 12.421
          },
          {
           "showarrow": false,
           "text": "O",
           "x": 40.373,
           "y": 18.806,
           "yshift": 15,
           "z": 12.715
          },
          {
           "showarrow": false,
           "text": "C",
           "x": 40.775,
           "y": 16.529,
           "yshift": 15,
           "z": 13.51
          },
          {
           "showarrow": false,
           "text": "O",
           "x": 42.056,
           "y": 15.953,
           "yshift": 15,
           "z": 13.53
          },
          {
           "showarrow": false,
           "text": "C",
           "x": 42.358,
           "y": 15.038,
           "yshift": 15,
           "z": 14.508
          },
          {
           "showarrow": false,
           "text": "C",
           "x": 43.256,
           "y": 15.323,
           "yshift": 15,
           "z": 15.509
          },
          {
           "showarrow": false,
           "text": "C",
           "x": 43.917,
           "y": 16.597,
           "yshift": 15,
           "z": 15.777
          },
          {
           "showarrow": false,
           "text": "O",
           "x": 43.649,
           "y": 17.652,
           "yshift": 15,
           "z": 15.139
          },
          {
           "showarrow": false,
           "text": "O",
           "x": 44.856,
           "y": 16.621,
           "yshift": 15,
           "z": 16.78
          },
          {
           "showarrow": false,
           "text": "S",
           "x": 43.357,
           "y": 13.98,
           "yshift": 15,
           "z": 16.515
          },
          {
           "showarrow": false,
           "text": "C",
           "x": 42.242,
           "y": 13.02,
           "yshift": 15,
           "z": 15.683
          },
          {
           "showarrow": false,
           "text": "C",
           "x": 41.93,
           "y": 11.624,
           "yshift": 15,
           "z": 16.062
          },
          {
           "showarrow": false,
           "text": "C",
           "x": 42.944,
           "y": 10.838,
           "yshift": 15,
           "z": 16.638
          },
          {
           "showarrow": false,
           "text": "C",
           "x": 42.707,
           "y": 9.503,
           "yshift": 15,
           "z": 16.987
          },
          {
           "showarrow": false,
           "text": "C",
           "x": 41.439,
           "y": 8.945,
           "yshift": 15,
           "z": 16.773
          },
          {
           "showarrow": false,
           "text": "C",
           "x": 40.409,
           "y": 9.736,
           "yshift": 15,
           "z": 16.226
          },
          {
           "showarrow": false,
           "text": "N",
           "x": 39.103,
           "y": 9.223,
           "yshift": 15,
           "z": 15.992
          },
          {
           "showarrow": false,
           "text": "C",
           "x": 38.749,
           "y": 8.357,
           "yshift": 15,
           "z": 14.885
          },
          {
           "showarrow": false,
           "text": "C",
           "x": 39.987,
           "y": 7.552,
           "yshift": 15,
           "z": 14.535
          },
          {
           "showarrow": false,
           "text": "C",
           "x": 39.71,
           "y": 6.561,
           "yshift": 15,
           "z": 13.419
          },
          {
           "showarrow": false,
           "text": "N",
           "x": 38.481,
           "y": 5.785,
           "yshift": 15,
           "z": 13.615
          },
          {
           "showarrow": false,
           "text": "S",
           "x": 38.713,
           "y": 4.094,
           "yshift": 15,
           "z": 13.851
          },
          {
           "showarrow": false,
           "text": "O",
           "x": 37.419,
           "y": 3.343,
           "yshift": 15,
           "z": 13.936
          },
          {
           "showarrow": false,
           "text": "O",
           "x": 39.66,
           "y": 3.51,
           "yshift": 15,
           "z": 12.845
          },
          {
           "showarrow": false,
           "text": "C",
           "x": 39.5,
           "y": 3.93,
           "yshift": 15,
           "z": 15.446
          },
          {
           "showarrow": false,
           "text": "C",
           "x": 39.94,
           "y": 2.526,
           "yshift": 15,
           "z": 15.686
          },
          {
           "showarrow": false,
           "text": "C",
           "x": 39.035,
           "y": 1.583,
           "yshift": 15,
           "z": 16.185
          },
          {
           "showarrow": false,
           "text": "C",
           "x": 39.444,
           "y": 0.263,
           "yshift": 15,
           "z": 16.396
          },
          {
           "showarrow": false,
           "text": "C",
           "x": 40.758,
           "y": -0.116,
           "yshift": 15,
           "z": 16.107
          },
          {
           "showarrow": false,
           "text": "C",
           "x": 41.663,
           "y": 0.824,
           "yshift": 15,
           "z": 15.605
          },
          {
           "showarrow": false,
           "text": "C",
           "x": 41.255,
           "y": 2.144,
           "yshift": 15,
           "z": 15.393
          },
          {
           "showarrow": false,
           "text": "C",
           "x": 37.31,
           "y": 6.381,
           "yshift": 15,
           "z": 14.27
          },
          {
           "showarrow": false,
           "text": "C",
           "x": 37.661,
           "y": 7.397,
           "yshift": 15,
           "z": 15.346
          },
          {
           "showarrow": false,
           "text": "C",
           "x": 40.656,
           "y": 11.068,
           "yshift": 15,
           "z": 15.876
          },
          {
           "showarrow": false,
           "text": "C",
           "x": 41.78,
           "y": 13.756,
           "yshift": 15,
           "z": 14.586
          },
          {
           "showarrow": false,
           "text": "Br",
           "x": 40.555,
           "y": 13.098,
           "yshift": 15,
           "z": 13.269
          },
          {
           "showarrow": false,
           "text": "H",
           "x": 40.575,
           "y": 17.028,
           "yshift": 15,
           "z": 14.47
          },
          {
           "showarrow": false,
           "text": "H",
           "x": 40.01,
           "y": 15.755,
           "yshift": 15,
           "z": 13.351
          },
          {
           "showarrow": false,
           "text": "H",
           "x": 43.936,
           "y": 11.278,
           "yshift": 15,
           "z": 16.816
          },
          {
           "showarrow": false,
           "text": "H",
           "x": 43.512,
           "y": 8.895,
           "yshift": 15,
           "z": 17.426
          },
          {
           "showarrow": false,
           "text": "H",
           "x": 41.248,
           "y": 7.893,
           "yshift": 15,
           "z": 17.031
          },
          {
           "showarrow": false,
           "text": "H",
           "x": 38.358,
           "y": 9.483,
           "yshift": 15,
           "z": 16.654
          },
          {
           "showarrow": false,
           "text": "H",
           "x": 38.394,
           "y": 8.939,
           "yshift": 15,
           "z": 14.021
          },
          {
           "showarrow": false,
           "text": "H",
           "x": 40.782,
           "y": 8.24,
           "yshift": 15,
           "z": 14.213
          },
          {
           "showarrow": false,
           "text": "H",
           "x": 40.294,
           "y": 6.988,
           "yshift": 15,
           "z": 15.428
          },
          {
           "showarrow": false,
           "text": "H",
           "x": 39.624,
           "y": 7.117,
           "yshift": 15,
           "z": 12.473
          },
          {
           "showarrow": false,
           "text": "H",
           "x": 40.546,
           "y": 5.845,
           "yshift": 15,
           "z": 13.407
          },
          {
           "showarrow": false,
           "text": "H",
           "x": 40.377,
           "y": 4.593,
           "yshift": 15,
           "z": 15.483
          },
          {
           "showarrow": false,
           "text": "H",
           "x": 38.773,
           "y": 4.206,
           "yshift": 15,
           "z": 16.224
          },
          {
           "showarrow": false,
           "text": "H",
           "x": 38,
           "y": 1.881,
           "yshift": 15,
           "z": 16.411
          },
          {
           "showarrow": false,
           "text": "H",
           "x": 38.732,
           "y": -0.477,
           "yshift": 15,
           "z": 16.79
          },
          {
           "showarrow": false,
           "text": "H",
           "x": 41.08,
           "y": -1.155,
           "yshift": 15,
           "z": 16.274
          },
          {
           "showarrow": false,
           "text": "H",
           "x": 42.697,
           "y": 0.525,
           "yshift": 15,
           "z": 15.377
          },
          {
           "showarrow": false,
           "text": "H",
           "x": 41.967,
           "y": 2.883,
           "yshift": 15,
           "z": 14.997
          },
          {
           "showarrow": false,
           "text": "H",
           "x": 36.702,
           "y": 6.883,
           "yshift": 15,
           "z": 13.503
          },
          {
           "showarrow": false,
           "text": "H",
           "x": 36.768,
           "y": 5.562,
           "yshift": 15,
           "z": 14.765
          },
          {
           "showarrow": false,
           "text": "H",
           "x": 36.76,
           "y": 7.975,
           "yshift": 15,
           "z": 15.598
          },
          {
           "showarrow": false,
           "text": "H",
           "x": 38.038,
           "y": 6.85,
           "yshift": 15,
           "z": 16.223
          },
          {
           "showarrow": false,
           "text": "H",
           "x": 39.847,
           "y": 11.681,
           "yshift": 15,
           "z": 15.453
          },
          {
           "showarrow": false,
           "text": "O",
           "x": 39.044,
           "y": 17.603,
           "yshift": 15,
           "z": 12.296
          },
          {
           "showarrow": false,
           "text": "C",
           "x": 40.196,
           "y": 17.099,
           "yshift": 15,
           "z": 12.364
          },
          {
           "showarrow": false,
           "text": "O",
           "x": 41.237,
           "y": 17.64,
           "yshift": 15,
           "z": 11.648
          },
          {
           "showarrow": false,
           "text": "C",
           "x": 40.455,
           "y": 15.916,
           "yshift": 15,
           "z": 13.197
          },
          {
           "showarrow": false,
           "text": "O",
           "x": 41.645,
           "y": 16.135,
           "yshift": 15,
           "z": 13.911
          },
          {
           "showarrow": false,
           "text": "C",
           "x": 42.164,
           "y": 15.117,
           "yshift": 15,
           "z": 14.672
          },
          {
           "showarrow": false,
           "text": "C",
           "x": 41.512,
           "y": 13.882,
           "yshift": 15,
           "z": 14.868
          },
          {
           "showarrow": false,
           "text": "C",
           "x": 42.249,
           "y": 13.026,
           "yshift": 15,
           "z": 15.688
          },
          {
           "showarrow": false,
           "text": "C",
           "x": 41.933,
           "y": 11.631,
           "yshift": 15,
           "z": 16.062
          },
          {
           "showarrow": false,
           "text": "C",
           "x": 42.944,
           "y": 10.842,
           "yshift": 15,
           "z": 16.64
          },
          {
           "showarrow": false,
           "text": "C",
           "x": 42.706,
           "y": 9.507,
           "yshift": 15,
           "z": 16.988
          },
          {
           "showarrow": false,
           "text": "C",
           "x": 41.438,
           "y": 8.953,
           "yshift": 15,
           "z": 16.773
          },
          {
           "showarrow": false,
           "text": "C",
           "x": 40.41,
           "y": 9.745,
           "yshift": 15,
           "z": 16.221
          },
          {
           "showarrow": false,
           "text": "N",
           "x": 39.105,
           "y": 9.229,
           "yshift": 15,
           "z": 15.987
          },
          {
           "showarrow": false,
           "text": "C",
           "x": 38.777,
           "y": 8.326,
           "yshift": 15,
           "z": 14.903
          },
          {
           "showarrow": false,
           "text": "C",
           "x": 40.05,
           "y": 7.557,
           "yshift": 15,
           "z": 14.539
          },
          {
           "showarrow": false,
           "text": "C",
           "x": 39.729,
           "y": 6.41,
           "yshift": 15,
           "z": 13.593
          },
          {
           "showarrow": false,
           "text": "N",
           "x": 38.749,
           "y": 5.556,
           "yshift": 15,
           "z": 14.253
          },
          {
           "showarrow": false,
           "text": "S",
           "x": 38.606,
           "y": 4.027,
           "yshift": 15,
           "z": 13.457
          },
          {
           "showarrow": false,
           "text": "O",
           "x": 38.676,
           "y": 4.254,
           "yshift": 15,
           "z": 11.971
          },
          {
           "showarrow": false,
           "text": "O",
           "x": 37.27,
           "y": 3.436,
           "yshift": 15,
           "z": 13.814
          },
          {
           "showarrow": false,
           "text": "C",
           "x": 39.877,
           "y": 2.875,
           "yshift": 15,
           "z": 13.97
          },
          {
           "showarrow": false,
           "text": "C",
           "x": 39.788,
           "y": 2.546,
           "yshift": 15,
           "z": 15.421
          },
          {
           "showarrow": false,
           "text": "C",
           "x": 40.079,
           "y": 3.515,
           "yshift": 15,
           "z": 16.388
          },
          {
           "showarrow": false,
           "text": "C",
           "x": 39.992,
           "y": 3.197,
           "yshift": 15,
           "z": 17.747
          },
          {
           "showarrow": false,
           "text": "C",
           "x": 39.616,
           "y": 1.909,
           "yshift": 15,
           "z": 18.141
          },
          {
           "showarrow": false,
           "text": "C",
           "x": 39.331,
           "y": 0.938,
           "yshift": 15,
           "z": 17.177
          },
          {
           "showarrow": false,
           "text": "C",
           "x": 39.418,
           "y": 1.256,
           "yshift": 15,
           "z": 15.818
          },
          {
           "showarrow": false,
           "text": "C",
           "x": 37.466,
           "y": 6.242,
           "yshift": 15,
           "z": 14.38
          },
          {
           "showarrow": false,
           "text": "C",
           "x": 37.648,
           "y": 7.389,
           "yshift": 15,
           "z": 15.363
          },
          {
           "showarrow": false,
           "text": "C",
           "x": 40.659,
           "y": 11.076,
           "yshift": 15,
           "z": 15.866
          },
          {
           "showarrow": false,
           "text": "S",
           "x": 43.673,
           "y": 13.812,
           "yshift": 15,
           "z": 16.14
          },
          {
           "showarrow": false,
           "text": "C",
           "x": 43.374,
           "y": 15.243,
           "yshift": 15,
           "z": 15.314
          },
          {
           "showarrow": false,
           "text": "C",
           "x": 44.212,
           "y": 16.434,
           "yshift": 15,
           "z": 15.415
          },
          {
           "showarrow": false,
           "text": "O",
           "x": 45.388,
           "y": 16.405,
           "yshift": 15,
           "z": 15.871
          },
          {
           "showarrow": false,
           "text": "O",
           "x": 43.675,
           "y": 17.62,
           "yshift": 15,
           "z": 14.974
          },
          {
           "showarrow": false,
           "text": "H",
           "x": 39.622,
           "y": 15.764,
           "yshift": 15,
           "z": 13.898
          },
          {
           "showarrow": false,
           "text": "H",
           "x": 40.55,
           "y": 15.02,
           "yshift": 15,
           "z": 12.565
          },
          {
           "showarrow": false,
           "text": "H",
           "x": 40.538,
           "y": 13.624,
           "yshift": 15,
           "z": 14.427
          },
          {
           "showarrow": false,
           "text": "H",
           "x": 43.937,
           "y": 11.28,
           "yshift": 15,
           "z": 16.82
          },
          {
           "showarrow": false,
           "text": "H",
           "x": 43.51,
           "y": 8.898,
           "yshift": 15,
           "z": 17.427
          },
          {
           "showarrow": false,
           "text": "H",
           "x": 41.244,
           "y": 7.902,
           "yshift": 15,
           "z": 17.033
          },
          {
           "showarrow": false,
           "text": "H",
           "x": 38.349,
           "y": 9.514,
           "yshift": 15,
           "z": 16.625
          },
          {
           "showarrow": false,
           "text": "H",
           "x": 38.421,
           "y": 8.864,
           "yshift": 15,
           "z": 14.012
          },
          {
           "showarrow": false,
           "text": "H",
           "x": 40.759,
           "y": 8.241,
           "yshift": 15,
           "z": 14.051
          },
          {
           "showarrow": false,
           "text": "H",
           "x": 40.491,
           "y": 7.145,
           "yshift": 15,
           "z": 15.459
          },
          {
           "showarrow": false,
           "text": "H",
           "x": 39.312,
           "y": 6.804,
           "yshift": 15,
           "z": 12.655
          },
          {
           "showarrow": false,
           "text": "H",
           "x": 40.639,
           "y": 5.841,
           "yshift": 15,
           "z": 13.353
          },
          {
           "showarrow": false,
           "text": "H",
           "x": 39.77,
           "y": 1.947,
           "yshift": 15,
           "z": 13.389
          },
          {
           "showarrow": false,
           "text": "H",
           "x": 40.854,
           "y": 3.349,
           "yshift": 15,
           "z": 13.791
          },
          {
           "showarrow": false,
           "text": "H",
           "x": 40.377,
           "y": 4.528,
           "yshift": 15,
           "z": 16.078
          },
          {
           "showarrow": false,
           "text": "H",
           "x": 40.218,
           "y": 3.961,
           "yshift": 15,
           "z": 18.506
          },
          {
           "showarrow": false,
           "text": "H",
           "x": 39.546,
           "y": 1.66,
           "yshift": 15,
           "z": 19.21
          },
          {
           "showarrow": false,
           "text": "H",
           "x": 39.037,
           "y": -0.075,
           "yshift": 15,
           "z": 17.487
          },
          {
           "showarrow": false,
           "text": "H",
           "x": 39.196,
           "y": 0.49,
           "yshift": 15,
           "z": 15.06
          },
          {
           "showarrow": false,
           "text": "H",
           "x": 37.153,
           "y": 6.634,
           "yshift": 15,
           "z": 13.401
          },
          {
           "showarrow": false,
           "text": "H",
           "x": 36.693,
           "y": 5.547,
           "yshift": 15,
           "z": 14.739
          },
          {
           "showarrow": false,
           "text": "H",
           "x": 36.709,
           "y": 7.96,
           "yshift": 15,
           "z": 15.428
          },
          {
           "showarrow": false,
           "text": "H",
           "x": 37.912,
           "y": 6.974,
           "yshift": 15,
           "z": 16.346
          },
          {
           "showarrow": false,
           "text": "H",
           "x": 39.855,
           "y": 11.688,
           "yshift": 15,
           "z": 15.431
          }
         ],
         "xaxis": {
          "showbackground": false,
          "showgrid": false,
          "showticklabels": false,
          "title": {
           "font": {
            "color": "white"
           }
          },
          "zeroline": false
         },
         "yaxis": {
          "showbackground": false,
          "showgrid": false,
          "showticklabels": false,
          "title": {
           "font": {
            "color": "white"
           }
          },
          "zeroline": false
         },
         "zaxis": {
          "showbackground": false,
          "showgrid": false,
          "showticklabels": false,
          "title": {
           "font": {
            "color": "white"
           }
          },
          "zeroline": false
         }
        },
        "showlegend": false,
        "template": {
         "data": {
          "bar": [
           {
            "error_x": {
             "color": "#2a3f5f"
            },
            "error_y": {
             "color": "#2a3f5f"
            },
            "marker": {
             "line": {
              "color": "#E5ECF6",
              "width": 0.5
             },
             "pattern": {
              "fillmode": "overlay",
              "size": 10,
              "solidity": 0.2
             }
            },
            "type": "bar"
           }
          ],
          "barpolar": [
           {
            "marker": {
             "line": {
              "color": "#E5ECF6",
              "width": 0.5
             },
             "pattern": {
              "fillmode": "overlay",
              "size": 10,
              "solidity": 0.2
             }
            },
            "type": "barpolar"
           }
          ],
          "carpet": [
           {
            "aaxis": {
             "endlinecolor": "#2a3f5f",
             "gridcolor": "white",
             "linecolor": "white",
             "minorgridcolor": "white",
             "startlinecolor": "#2a3f5f"
            },
            "baxis": {
             "endlinecolor": "#2a3f5f",
             "gridcolor": "white",
             "linecolor": "white",
             "minorgridcolor": "white",
             "startlinecolor": "#2a3f5f"
            },
            "type": "carpet"
           }
          ],
          "choropleth": [
           {
            "colorbar": {
             "outlinewidth": 0,
             "ticks": ""
            },
            "type": "choropleth"
           }
          ],
          "contour": [
           {
            "colorbar": {
             "outlinewidth": 0,
             "ticks": ""
            },
            "colorscale": [
             [
              0,
              "#0d0887"
             ],
             [
              0.1111111111111111,
              "#46039f"
             ],
             [
              0.2222222222222222,
              "#7201a8"
             ],
             [
              0.3333333333333333,
              "#9c179e"
             ],
             [
              0.4444444444444444,
              "#bd3786"
             ],
             [
              0.5555555555555556,
              "#d8576b"
             ],
             [
              0.6666666666666666,
              "#ed7953"
             ],
             [
              0.7777777777777778,
              "#fb9f3a"
             ],
             [
              0.8888888888888888,
              "#fdca26"
             ],
             [
              1,
              "#f0f921"
             ]
            ],
            "type": "contour"
           }
          ],
          "contourcarpet": [
           {
            "colorbar": {
             "outlinewidth": 0,
             "ticks": ""
            },
            "type": "contourcarpet"
           }
          ],
          "heatmap": [
           {
            "colorbar": {
             "outlinewidth": 0,
             "ticks": ""
            },
            "colorscale": [
             [
              0,
              "#0d0887"
             ],
             [
              0.1111111111111111,
              "#46039f"
             ],
             [
              0.2222222222222222,
              "#7201a8"
             ],
             [
              0.3333333333333333,
              "#9c179e"
             ],
             [
              0.4444444444444444,
              "#bd3786"
             ],
             [
              0.5555555555555556,
              "#d8576b"
             ],
             [
              0.6666666666666666,
              "#ed7953"
             ],
             [
              0.7777777777777778,
              "#fb9f3a"
             ],
             [
              0.8888888888888888,
              "#fdca26"
             ],
             [
              1,
              "#f0f921"
             ]
            ],
            "type": "heatmap"
           }
          ],
          "heatmapgl": [
           {
            "colorbar": {
             "outlinewidth": 0,
             "ticks": ""
            },
            "colorscale": [
             [
              0,
              "#0d0887"
             ],
             [
              0.1111111111111111,
              "#46039f"
             ],
             [
              0.2222222222222222,
              "#7201a8"
             ],
             [
              0.3333333333333333,
              "#9c179e"
             ],
             [
              0.4444444444444444,
              "#bd3786"
             ],
             [
              0.5555555555555556,
              "#d8576b"
             ],
             [
              0.6666666666666666,
              "#ed7953"
             ],
             [
              0.7777777777777778,
              "#fb9f3a"
             ],
             [
              0.8888888888888888,
              "#fdca26"
             ],
             [
              1,
              "#f0f921"
             ]
            ],
            "type": "heatmapgl"
           }
          ],
          "histogram": [
           {
            "marker": {
             "pattern": {
              "fillmode": "overlay",
              "size": 10,
              "solidity": 0.2
             }
            },
            "type": "histogram"
           }
          ],
          "histogram2d": [
           {
            "colorbar": {
             "outlinewidth": 0,
             "ticks": ""
            },
            "colorscale": [
             [
              0,
              "#0d0887"
             ],
             [
              0.1111111111111111,
              "#46039f"
             ],
             [
              0.2222222222222222,
              "#7201a8"
             ],
             [
              0.3333333333333333,
              "#9c179e"
             ],
             [
              0.4444444444444444,
              "#bd3786"
             ],
             [
              0.5555555555555556,
              "#d8576b"
             ],
             [
              0.6666666666666666,
              "#ed7953"
             ],
             [
              0.7777777777777778,
              "#fb9f3a"
             ],
             [
              0.8888888888888888,
              "#fdca26"
             ],
             [
              1,
              "#f0f921"
             ]
            ],
            "type": "histogram2d"
           }
          ],
          "histogram2dcontour": [
           {
            "colorbar": {
             "outlinewidth": 0,
             "ticks": ""
            },
            "colorscale": [
             [
              0,
              "#0d0887"
             ],
             [
              0.1111111111111111,
              "#46039f"
             ],
             [
              0.2222222222222222,
              "#7201a8"
             ],
             [
              0.3333333333333333,
              "#9c179e"
             ],
             [
              0.4444444444444444,
              "#bd3786"
             ],
             [
              0.5555555555555556,
              "#d8576b"
             ],
             [
              0.6666666666666666,
              "#ed7953"
             ],
             [
              0.7777777777777778,
              "#fb9f3a"
             ],
             [
              0.8888888888888888,
              "#fdca26"
             ],
             [
              1,
              "#f0f921"
             ]
            ],
            "type": "histogram2dcontour"
           }
          ],
          "mesh3d": [
           {
            "colorbar": {
             "outlinewidth": 0,
             "ticks": ""
            },
            "type": "mesh3d"
           }
          ],
          "parcoords": [
           {
            "line": {
             "colorbar": {
              "outlinewidth": 0,
              "ticks": ""
             }
            },
            "type": "parcoords"
           }
          ],
          "pie": [
           {
            "automargin": true,
            "type": "pie"
           }
          ],
          "scatter": [
           {
            "fillpattern": {
             "fillmode": "overlay",
             "size": 10,
             "solidity": 0.2
            },
            "type": "scatter"
           }
          ],
          "scatter3d": [
           {
            "line": {
             "colorbar": {
              "outlinewidth": 0,
              "ticks": ""
             }
            },
            "marker": {
             "colorbar": {
              "outlinewidth": 0,
              "ticks": ""
             }
            },
            "type": "scatter3d"
           }
          ],
          "scattercarpet": [
           {
            "marker": {
             "colorbar": {
              "outlinewidth": 0,
              "ticks": ""
             }
            },
            "type": "scattercarpet"
           }
          ],
          "scattergeo": [
           {
            "marker": {
             "colorbar": {
              "outlinewidth": 0,
              "ticks": ""
             }
            },
            "type": "scattergeo"
           }
          ],
          "scattergl": [
           {
            "marker": {
             "colorbar": {
              "outlinewidth": 0,
              "ticks": ""
             }
            },
            "type": "scattergl"
           }
          ],
          "scattermapbox": [
           {
            "marker": {
             "colorbar": {
              "outlinewidth": 0,
              "ticks": ""
             }
            },
            "type": "scattermapbox"
           }
          ],
          "scatterpolar": [
           {
            "marker": {
             "colorbar": {
              "outlinewidth": 0,
              "ticks": ""
             }
            },
            "type": "scatterpolar"
           }
          ],
          "scatterpolargl": [
           {
            "marker": {
             "colorbar": {
              "outlinewidth": 0,
              "ticks": ""
             }
            },
            "type": "scatterpolargl"
           }
          ],
          "scatterternary": [
           {
            "marker": {
             "colorbar": {
              "outlinewidth": 0,
              "ticks": ""
             }
            },
            "type": "scatterternary"
           }
          ],
          "surface": [
           {
            "colorbar": {
             "outlinewidth": 0,
             "ticks": ""
            },
            "colorscale": [
             [
              0,
              "#0d0887"
             ],
             [
              0.1111111111111111,
              "#46039f"
             ],
             [
              0.2222222222222222,
              "#7201a8"
             ],
             [
              0.3333333333333333,
              "#9c179e"
             ],
             [
              0.4444444444444444,
              "#bd3786"
             ],
             [
              0.5555555555555556,
              "#d8576b"
             ],
             [
              0.6666666666666666,
              "#ed7953"
             ],
             [
              0.7777777777777778,
              "#fb9f3a"
             ],
             [
              0.8888888888888888,
              "#fdca26"
             ],
             [
              1,
              "#f0f921"
             ]
            ],
            "type": "surface"
           }
          ],
          "table": [
           {
            "cells": {
             "fill": {
              "color": "#EBF0F8"
             },
             "line": {
              "color": "white"
             }
            },
            "header": {
             "fill": {
              "color": "#C8D4E3"
             },
             "line": {
              "color": "white"
             }
            },
            "type": "table"
           }
          ]
         },
         "layout": {
          "annotationdefaults": {
           "arrowcolor": "#2a3f5f",
           "arrowhead": 0,
           "arrowwidth": 1
          },
          "autotypenumbers": "strict",
          "coloraxis": {
           "colorbar": {
            "outlinewidth": 0,
            "ticks": ""
           }
          },
          "colorscale": {
           "diverging": [
            [
             0,
             "#8e0152"
            ],
            [
             0.1,
             "#c51b7d"
            ],
            [
             0.2,
             "#de77ae"
            ],
            [
             0.3,
             "#f1b6da"
            ],
            [
             0.4,
             "#fde0ef"
            ],
            [
             0.5,
             "#f7f7f7"
            ],
            [
             0.6,
             "#e6f5d0"
            ],
            [
             0.7,
             "#b8e186"
            ],
            [
             0.8,
             "#7fbc41"
            ],
            [
             0.9,
             "#4d9221"
            ],
            [
             1,
             "#276419"
            ]
           ],
           "sequential": [
            [
             0,
             "#0d0887"
            ],
            [
             0.1111111111111111,
             "#46039f"
            ],
            [
             0.2222222222222222,
             "#7201a8"
            ],
            [
             0.3333333333333333,
             "#9c179e"
            ],
            [
             0.4444444444444444,
             "#bd3786"
            ],
            [
             0.5555555555555556,
             "#d8576b"
            ],
            [
             0.6666666666666666,
             "#ed7953"
            ],
            [
             0.7777777777777778,
             "#fb9f3a"
            ],
            [
             0.8888888888888888,
             "#fdca26"
            ],
            [
             1,
             "#f0f921"
            ]
           ],
           "sequentialminus": [
            [
             0,
             "#0d0887"
            ],
            [
             0.1111111111111111,
             "#46039f"
            ],
            [
             0.2222222222222222,
             "#7201a8"
            ],
            [
             0.3333333333333333,
             "#9c179e"
            ],
            [
             0.4444444444444444,
             "#bd3786"
            ],
            [
             0.5555555555555556,
             "#d8576b"
            ],
            [
             0.6666666666666666,
             "#ed7953"
            ],
            [
             0.7777777777777778,
             "#fb9f3a"
            ],
            [
             0.8888888888888888,
             "#fdca26"
            ],
            [
             1,
             "#f0f921"
            ]
           ]
          },
          "colorway": [
           "#636efa",
           "#EF553B",
           "#00cc96",
           "#ab63fa",
           "#FFA15A",
           "#19d3f3",
           "#FF6692",
           "#B6E880",
           "#FF97FF",
           "#FECB52"
          ],
          "font": {
           "color": "#2a3f5f"
          },
          "geo": {
           "bgcolor": "white",
           "lakecolor": "white",
           "landcolor": "#E5ECF6",
           "showlakes": true,
           "showland": true,
           "subunitcolor": "white"
          },
          "hoverlabel": {
           "align": "left"
          },
          "hovermode": "closest",
          "mapbox": {
           "style": "light"
          },
          "paper_bgcolor": "white",
          "plot_bgcolor": "#E5ECF6",
          "polar": {
           "angularaxis": {
            "gridcolor": "white",
            "linecolor": "white",
            "ticks": ""
           },
           "bgcolor": "#E5ECF6",
           "radialaxis": {
            "gridcolor": "white",
            "linecolor": "white",
            "ticks": ""
           }
          },
          "scene": {
           "xaxis": {
            "backgroundcolor": "#E5ECF6",
            "gridcolor": "white",
            "gridwidth": 2,
            "linecolor": "white",
            "showbackground": true,
            "ticks": "",
            "zerolinecolor": "white"
           },
           "yaxis": {
            "backgroundcolor": "#E5ECF6",
            "gridcolor": "white",
            "gridwidth": 2,
            "linecolor": "white",
            "showbackground": true,
            "ticks": "",
            "zerolinecolor": "white"
           },
           "zaxis": {
            "backgroundcolor": "#E5ECF6",
            "gridcolor": "white",
            "gridwidth": 2,
            "linecolor": "white",
            "showbackground": true,
            "ticks": "",
            "zerolinecolor": "white"
           }
          },
          "shapedefaults": {
           "line": {
            "color": "#2a3f5f"
           }
          },
          "ternary": {
           "aaxis": {
            "gridcolor": "white",
            "linecolor": "white",
            "ticks": ""
           },
           "baxis": {
            "gridcolor": "white",
            "linecolor": "white",
            "ticks": ""
           },
           "bgcolor": "#E5ECF6",
           "caxis": {
            "gridcolor": "white",
            "linecolor": "white",
            "ticks": ""
           }
          },
          "title": {
           "x": 0.05
          },
          "xaxis": {
           "automargin": true,
           "gridcolor": "white",
           "linecolor": "white",
           "ticks": "",
           "title": {
            "standoff": 15
           },
           "zerolinecolor": "white",
           "zerolinewidth": 2
          },
          "yaxis": {
           "automargin": true,
           "gridcolor": "white",
           "linecolor": "white",
           "ticks": "",
           "title": {
            "standoff": 15
           },
           "zerolinecolor": "white",
           "zerolinewidth": 2
          }
         }
        },
        "updatemenus": [
         {
          "buttons": [
           {
            "args": [
             {
              "scene.annotations": [
               {
                "showarrow": false,
                "text": "O",
                "x": 41.039,
                "y": 17.188,
                "yshift": 15,
                "z": 11.242
               },
               {
                "showarrow": false,
                "text": "C",
                "x": 40.735,
                "y": 17.514,
                "yshift": 15,
                "z": 12.421
               },
               {
                "showarrow": false,
                "text": "O",
                "x": 40.373,
                "y": 18.806,
                "yshift": 15,
                "z": 12.715
               },
               {
                "showarrow": false,
                "text": "C",
                "x": 40.775,
                "y": 16.529,
                "yshift": 15,
                "z": 13.51
               },
               {
                "showarrow": false,
                "text": "O",
                "x": 42.056,
                "y": 15.953,
                "yshift": 15,
                "z": 13.53
               },
               {
                "showarrow": false,
                "text": "C",
                "x": 42.358,
                "y": 15.038,
                "yshift": 15,
                "z": 14.508
               },
               {
                "showarrow": false,
                "text": "C",
                "x": 43.256,
                "y": 15.323,
                "yshift": 15,
                "z": 15.509
               },
               {
                "showarrow": false,
                "text": "C",
                "x": 43.917,
                "y": 16.597,
                "yshift": 15,
                "z": 15.777
               },
               {
                "showarrow": false,
                "text": "O",
                "x": 43.649,
                "y": 17.652,
                "yshift": 15,
                "z": 15.139
               },
               {
                "showarrow": false,
                "text": "O",
                "x": 44.856,
                "y": 16.621,
                "yshift": 15,
                "z": 16.78
               },
               {
                "showarrow": false,
                "text": "S",
                "x": 43.357,
                "y": 13.98,
                "yshift": 15,
                "z": 16.515
               },
               {
                "showarrow": false,
                "text": "C",
                "x": 42.242,
                "y": 13.02,
                "yshift": 15,
                "z": 15.683
               },
               {
                "showarrow": false,
                "text": "C",
                "x": 41.93,
                "y": 11.624,
                "yshift": 15,
                "z": 16.062
               },
               {
                "showarrow": false,
                "text": "C",
                "x": 42.944,
                "y": 10.838,
                "yshift": 15,
                "z": 16.638
               },
               {
                "showarrow": false,
                "text": "C",
                "x": 42.707,
                "y": 9.503,
                "yshift": 15,
                "z": 16.987
               },
               {
                "showarrow": false,
                "text": "C",
                "x": 41.439,
                "y": 8.945,
                "yshift": 15,
                "z": 16.773
               },
               {
                "showarrow": false,
                "text": "C",
                "x": 40.409,
                "y": 9.736,
                "yshift": 15,
                "z": 16.226
               },
               {
                "showarrow": false,
                "text": "N",
                "x": 39.103,
                "y": 9.223,
                "yshift": 15,
                "z": 15.992
               },
               {
                "showarrow": false,
                "text": "C",
                "x": 38.749,
                "y": 8.357,
                "yshift": 15,
                "z": 14.885
               },
               {
                "showarrow": false,
                "text": "C",
                "x": 39.987,
                "y": 7.552,
                "yshift": 15,
                "z": 14.535
               },
               {
                "showarrow": false,
                "text": "C",
                "x": 39.71,
                "y": 6.561,
                "yshift": 15,
                "z": 13.419
               },
               {
                "showarrow": false,
                "text": "N",
                "x": 38.481,
                "y": 5.785,
                "yshift": 15,
                "z": 13.615
               },
               {
                "showarrow": false,
                "text": "S",
                "x": 38.713,
                "y": 4.094,
                "yshift": 15,
                "z": 13.851
               },
               {
                "showarrow": false,
                "text": "O",
                "x": 37.419,
                "y": 3.343,
                "yshift": 15,
                "z": 13.936
               },
               {
                "showarrow": false,
                "text": "O",
                "x": 39.66,
                "y": 3.51,
                "yshift": 15,
                "z": 12.845
               },
               {
                "showarrow": false,
                "text": "C",
                "x": 39.5,
                "y": 3.93,
                "yshift": 15,
                "z": 15.446
               },
               {
                "showarrow": false,
                "text": "C",
                "x": 39.94,
                "y": 2.526,
                "yshift": 15,
                "z": 15.686
               },
               {
                "showarrow": false,
                "text": "C",
                "x": 39.035,
                "y": 1.583,
                "yshift": 15,
                "z": 16.185
               },
               {
                "showarrow": false,
                "text": "C",
                "x": 39.444,
                "y": 0.263,
                "yshift": 15,
                "z": 16.396
               },
               {
                "showarrow": false,
                "text": "C",
                "x": 40.758,
                "y": -0.116,
                "yshift": 15,
                "z": 16.107
               },
               {
                "showarrow": false,
                "text": "C",
                "x": 41.663,
                "y": 0.824,
                "yshift": 15,
                "z": 15.605
               },
               {
                "showarrow": false,
                "text": "C",
                "x": 41.255,
                "y": 2.144,
                "yshift": 15,
                "z": 15.393
               },
               {
                "showarrow": false,
                "text": "C",
                "x": 37.31,
                "y": 6.381,
                "yshift": 15,
                "z": 14.27
               },
               {
                "showarrow": false,
                "text": "C",
                "x": 37.661,
                "y": 7.397,
                "yshift": 15,
                "z": 15.346
               },
               {
                "showarrow": false,
                "text": "C",
                "x": 40.656,
                "y": 11.068,
                "yshift": 15,
                "z": 15.876
               },
               {
                "showarrow": false,
                "text": "C",
                "x": 41.78,
                "y": 13.756,
                "yshift": 15,
                "z": 14.586
               },
               {
                "showarrow": false,
                "text": "Br",
                "x": 40.555,
                "y": 13.098,
                "yshift": 15,
                "z": 13.269
               },
               {
                "showarrow": false,
                "text": "H",
                "x": 40.575,
                "y": 17.028,
                "yshift": 15,
                "z": 14.47
               },
               {
                "showarrow": false,
                "text": "H",
                "x": 40.01,
                "y": 15.755,
                "yshift": 15,
                "z": 13.351
               },
               {
                "showarrow": false,
                "text": "H",
                "x": 43.936,
                "y": 11.278,
                "yshift": 15,
                "z": 16.816
               },
               {
                "showarrow": false,
                "text": "H",
                "x": 43.512,
                "y": 8.895,
                "yshift": 15,
                "z": 17.426
               },
               {
                "showarrow": false,
                "text": "H",
                "x": 41.248,
                "y": 7.893,
                "yshift": 15,
                "z": 17.031
               },
               {
                "showarrow": false,
                "text": "H",
                "x": 38.358,
                "y": 9.483,
                "yshift": 15,
                "z": 16.654
               },
               {
                "showarrow": false,
                "text": "H",
                "x": 38.394,
                "y": 8.939,
                "yshift": 15,
                "z": 14.021
               },
               {
                "showarrow": false,
                "text": "H",
                "x": 40.782,
                "y": 8.24,
                "yshift": 15,
                "z": 14.213
               },
               {
                "showarrow": false,
                "text": "H",
                "x": 40.294,
                "y": 6.988,
                "yshift": 15,
                "z": 15.428
               },
               {
                "showarrow": false,
                "text": "H",
                "x": 39.624,
                "y": 7.117,
                "yshift": 15,
                "z": 12.473
               },
               {
                "showarrow": false,
                "text": "H",
                "x": 40.546,
                "y": 5.845,
                "yshift": 15,
                "z": 13.407
               },
               {
                "showarrow": false,
                "text": "H",
                "x": 40.377,
                "y": 4.593,
                "yshift": 15,
                "z": 15.483
               },
               {
                "showarrow": false,
                "text": "H",
                "x": 38.773,
                "y": 4.206,
                "yshift": 15,
                "z": 16.224
               },
               {
                "showarrow": false,
                "text": "H",
                "x": 38,
                "y": 1.881,
                "yshift": 15,
                "z": 16.411
               },
               {
                "showarrow": false,
                "text": "H",
                "x": 38.732,
                "y": -0.477,
                "yshift": 15,
                "z": 16.79
               },
               {
                "showarrow": false,
                "text": "H",
                "x": 41.08,
                "y": -1.155,
                "yshift": 15,
                "z": 16.274
               },
               {
                "showarrow": false,
                "text": "H",
                "x": 42.697,
                "y": 0.525,
                "yshift": 15,
                "z": 15.377
               },
               {
                "showarrow": false,
                "text": "H",
                "x": 41.967,
                "y": 2.883,
                "yshift": 15,
                "z": 14.997
               },
               {
                "showarrow": false,
                "text": "H",
                "x": 36.702,
                "y": 6.883,
                "yshift": 15,
                "z": 13.503
               },
               {
                "showarrow": false,
                "text": "H",
                "x": 36.768,
                "y": 5.562,
                "yshift": 15,
                "z": 14.765
               },
               {
                "showarrow": false,
                "text": "H",
                "x": 36.76,
                "y": 7.975,
                "yshift": 15,
                "z": 15.598
               },
               {
                "showarrow": false,
                "text": "H",
                "x": 38.038,
                "y": 6.85,
                "yshift": 15,
                "z": 16.223
               },
               {
                "showarrow": false,
                "text": "H",
                "x": 39.847,
                "y": 11.681,
                "yshift": 15,
                "z": 15.453
               },
               {
                "showarrow": false,
                "text": "O",
                "x": 39.044,
                "y": 17.603,
                "yshift": 15,
                "z": 12.296
               },
               {
                "showarrow": false,
                "text": "C",
                "x": 40.196,
                "y": 17.099,
                "yshift": 15,
                "z": 12.364
               },
               {
                "showarrow": false,
                "text": "O",
                "x": 41.237,
                "y": 17.64,
                "yshift": 15,
                "z": 11.648
               },
               {
                "showarrow": false,
                "text": "C",
                "x": 40.455,
                "y": 15.916,
                "yshift": 15,
                "z": 13.197
               },
               {
                "showarrow": false,
                "text": "O",
                "x": 41.645,
                "y": 16.135,
                "yshift": 15,
                "z": 13.911
               },
               {
                "showarrow": false,
                "text": "C",
                "x": 42.164,
                "y": 15.117,
                "yshift": 15,
                "z": 14.672
               },
               {
                "showarrow": false,
                "text": "C",
                "x": 41.512,
                "y": 13.882,
                "yshift": 15,
                "z": 14.868
               },
               {
                "showarrow": false,
                "text": "C",
                "x": 42.249,
                "y": 13.026,
                "yshift": 15,
                "z": 15.688
               },
               {
                "showarrow": false,
                "text": "C",
                "x": 41.933,
                "y": 11.631,
                "yshift": 15,
                "z": 16.062
               },
               {
                "showarrow": false,
                "text": "C",
                "x": 42.944,
                "y": 10.842,
                "yshift": 15,
                "z": 16.64
               },
               {
                "showarrow": false,
                "text": "C",
                "x": 42.706,
                "y": 9.507,
                "yshift": 15,
                "z": 16.988
               },
               {
                "showarrow": false,
                "text": "C",
                "x": 41.438,
                "y": 8.953,
                "yshift": 15,
                "z": 16.773
               },
               {
                "showarrow": false,
                "text": "C",
                "x": 40.41,
                "y": 9.745,
                "yshift": 15,
                "z": 16.221
               },
               {
                "showarrow": false,
                "text": "N",
                "x": 39.105,
                "y": 9.229,
                "yshift": 15,
                "z": 15.987
               },
               {
                "showarrow": false,
                "text": "C",
                "x": 38.777,
                "y": 8.326,
                "yshift": 15,
                "z": 14.903
               },
               {
                "showarrow": false,
                "text": "C",
                "x": 40.05,
                "y": 7.557,
                "yshift": 15,
                "z": 14.539
               },
               {
                "showarrow": false,
                "text": "C",
                "x": 39.729,
                "y": 6.41,
                "yshift": 15,
                "z": 13.593
               },
               {
                "showarrow": false,
                "text": "N",
                "x": 38.749,
                "y": 5.556,
                "yshift": 15,
                "z": 14.253
               },
               {
                "showarrow": false,
                "text": "S",
                "x": 38.606,
                "y": 4.027,
                "yshift": 15,
                "z": 13.457
               },
               {
                "showarrow": false,
                "text": "O",
                "x": 38.676,
                "y": 4.254,
                "yshift": 15,
                "z": 11.971
               },
               {
                "showarrow": false,
                "text": "O",
                "x": 37.27,
                "y": 3.436,
                "yshift": 15,
                "z": 13.814
               },
               {
                "showarrow": false,
                "text": "C",
                "x": 39.877,
                "y": 2.875,
                "yshift": 15,
                "z": 13.97
               },
               {
                "showarrow": false,
                "text": "C",
                "x": 39.788,
                "y": 2.546,
                "yshift": 15,
                "z": 15.421
               },
               {
                "showarrow": false,
                "text": "C",
                "x": 40.079,
                "y": 3.515,
                "yshift": 15,
                "z": 16.388
               },
               {
                "showarrow": false,
                "text": "C",
                "x": 39.992,
                "y": 3.197,
                "yshift": 15,
                "z": 17.747
               },
               {
                "showarrow": false,
                "text": "C",
                "x": 39.616,
                "y": 1.909,
                "yshift": 15,
                "z": 18.141
               },
               {
                "showarrow": false,
                "text": "C",
                "x": 39.331,
                "y": 0.938,
                "yshift": 15,
                "z": 17.177
               },
               {
                "showarrow": false,
                "text": "C",
                "x": 39.418,
                "y": 1.256,
                "yshift": 15,
                "z": 15.818
               },
               {
                "showarrow": false,
                "text": "C",
                "x": 37.466,
                "y": 6.242,
                "yshift": 15,
                "z": 14.38
               },
               {
                "showarrow": false,
                "text": "C",
                "x": 37.648,
                "y": 7.389,
                "yshift": 15,
                "z": 15.363
               },
               {
                "showarrow": false,
                "text": "C",
                "x": 40.659,
                "y": 11.076,
                "yshift": 15,
                "z": 15.866
               },
               {
                "showarrow": false,
                "text": "S",
                "x": 43.673,
                "y": 13.812,
                "yshift": 15,
                "z": 16.14
               },
               {
                "showarrow": false,
                "text": "C",
                "x": 43.374,
                "y": 15.243,
                "yshift": 15,
                "z": 15.314
               },
               {
                "showarrow": false,
                "text": "C",
                "x": 44.212,
                "y": 16.434,
                "yshift": 15,
                "z": 15.415
               },
               {
                "showarrow": false,
                "text": "O",
                "x": 45.388,
                "y": 16.405,
                "yshift": 15,
                "z": 15.871
               },
               {
                "showarrow": false,
                "text": "O",
                "x": 43.675,
                "y": 17.62,
                "yshift": 15,
                "z": 14.974
               },
               {
                "showarrow": false,
                "text": "H",
                "x": 39.622,
                "y": 15.764,
                "yshift": 15,
                "z": 13.898
               },
               {
                "showarrow": false,
                "text": "H",
                "x": 40.55,
                "y": 15.02,
                "yshift": 15,
                "z": 12.565
               },
               {
                "showarrow": false,
                "text": "H",
                "x": 40.538,
                "y": 13.624,
                "yshift": 15,
                "z": 14.427
               },
               {
                "showarrow": false,
                "text": "H",
                "x": 43.937,
                "y": 11.28,
                "yshift": 15,
                "z": 16.82
               },
               {
                "showarrow": false,
                "text": "H",
                "x": 43.51,
                "y": 8.898,
                "yshift": 15,
                "z": 17.427
               },
               {
                "showarrow": false,
                "text": "H",
                "x": 41.244,
                "y": 7.902,
                "yshift": 15,
                "z": 17.033
               },
               {
                "showarrow": false,
                "text": "H",
                "x": 38.349,
                "y": 9.514,
                "yshift": 15,
                "z": 16.625
               },
               {
                "showarrow": false,
                "text": "H",
                "x": 38.421,
                "y": 8.864,
                "yshift": 15,
                "z": 14.012
               },
               {
                "showarrow": false,
                "text": "H",
                "x": 40.759,
                "y": 8.241,
                "yshift": 15,
                "z": 14.051
               },
               {
                "showarrow": false,
                "text": "H",
                "x": 40.491,
                "y": 7.145,
                "yshift": 15,
                "z": 15.459
               },
               {
                "showarrow": false,
                "text": "H",
                "x": 39.312,
                "y": 6.804,
                "yshift": 15,
                "z": 12.655
               },
               {
                "showarrow": false,
                "text": "H",
                "x": 40.639,
                "y": 5.841,
                "yshift": 15,
                "z": 13.353
               },
               {
                "showarrow": false,
                "text": "H",
                "x": 39.77,
                "y": 1.947,
                "yshift": 15,
                "z": 13.389
               },
               {
                "showarrow": false,
                "text": "H",
                "x": 40.854,
                "y": 3.349,
                "yshift": 15,
                "z": 13.791
               },
               {
                "showarrow": false,
                "text": "H",
                "x": 40.377,
                "y": 4.528,
                "yshift": 15,
                "z": 16.078
               },
               {
                "showarrow": false,
                "text": "H",
                "x": 40.218,
                "y": 3.961,
                "yshift": 15,
                "z": 18.506
               },
               {
                "showarrow": false,
                "text": "H",
                "x": 39.546,
                "y": 1.66,
                "yshift": 15,
                "z": 19.21
               },
               {
                "showarrow": false,
                "text": "H",
                "x": 39.037,
                "y": -0.075,
                "yshift": 15,
                "z": 17.487
               },
               {
                "showarrow": false,
                "text": "H",
                "x": 39.196,
                "y": 0.49,
                "yshift": 15,
                "z": 15.06
               },
               {
                "showarrow": false,
                "text": "H",
                "x": 37.153,
                "y": 6.634,
                "yshift": 15,
                "z": 13.401
               },
               {
                "showarrow": false,
                "text": "H",
                "x": 36.693,
                "y": 5.547,
                "yshift": 15,
                "z": 14.739
               },
               {
                "showarrow": false,
                "text": "H",
                "x": 36.709,
                "y": 7.96,
                "yshift": 15,
                "z": 15.428
               },
               {
                "showarrow": false,
                "text": "H",
                "x": 37.912,
                "y": 6.974,
                "yshift": 15,
                "z": 16.346
               },
               {
                "showarrow": false,
                "text": "H",
                "x": 39.855,
                "y": 11.688,
                "yshift": 15,
                "z": 15.431
               }
              ]
             }
            ],
            "label": " Elements",
            "method": "relayout"
           },
           {
            "args": [
             {
              "scene.annotations": [
               {
                "showarrow": false,
                "text": "O1",
                "x": 41.039,
                "y": 17.188,
                "yshift": 15,
                "z": 11.242
               },
               {
                "showarrow": false,
                "text": "C1",
                "x": 40.735,
                "y": 17.514,
                "yshift": 15,
                "z": 12.421
               },
               {
                "showarrow": false,
                "text": "O2",
                "x": 40.373,
                "y": 18.806,
                "yshift": 15,
                "z": 12.715
               },
               {
                "showarrow": false,
                "text": "C2",
                "x": 40.775,
                "y": 16.529,
                "yshift": 15,
                "z": 13.51
               },
               {
                "showarrow": false,
                "text": "O3",
                "x": 42.056,
                "y": 15.953,
                "yshift": 15,
                "z": 13.53
               },
               {
                "showarrow": false,
                "text": "C3",
                "x": 42.358,
                "y": 15.038,
                "yshift": 15,
                "z": 14.508
               },
               {
                "showarrow": false,
                "text": "C4",
                "x": 43.256,
                "y": 15.323,
                "yshift": 15,
                "z": 15.509
               },
               {
                "showarrow": false,
                "text": "C5",
                "x": 43.917,
                "y": 16.597,
                "yshift": 15,
                "z": 15.777
               },
               {
                "showarrow": false,
                "text": "O4",
                "x": 43.649,
                "y": 17.652,
                "yshift": 15,
                "z": 15.139
               },
               {
                "showarrow": false,
                "text": "O5",
                "x": 44.856,
                "y": 16.621,
                "yshift": 15,
                "z": 16.78
               },
               {
                "showarrow": false,
                "text": "S1",
                "x": 43.357,
                "y": 13.98,
                "yshift": 15,
                "z": 16.515
               },
               {
                "showarrow": false,
                "text": "C6",
                "x": 42.242,
                "y": 13.02,
                "yshift": 15,
                "z": 15.683
               },
               {
                "showarrow": false,
                "text": "C7",
                "x": 41.93,
                "y": 11.624,
                "yshift": 15,
                "z": 16.062
               },
               {
                "showarrow": false,
                "text": "C8",
                "x": 42.944,
                "y": 10.838,
                "yshift": 15,
                "z": 16.638
               },
               {
                "showarrow": false,
                "text": "C9",
                "x": 42.707,
                "y": 9.503,
                "yshift": 15,
                "z": 16.987
               },
               {
                "showarrow": false,
                "text": "C10",
                "x": 41.439,
                "y": 8.945,
                "yshift": 15,
                "z": 16.773
               },
               {
                "showarrow": false,
                "text": "C11",
                "x": 40.409,
                "y": 9.736,
                "yshift": 15,
                "z": 16.226
               },
               {
                "showarrow": false,
                "text": "N1",
                "x": 39.103,
                "y": 9.223,
                "yshift": 15,
                "z": 15.992
               },
               {
                "showarrow": false,
                "text": "C12",
                "x": 38.749,
                "y": 8.357,
                "yshift": 15,
                "z": 14.885
               },
               {
                "showarrow": false,
                "text": "C13",
                "x": 39.987,
                "y": 7.552,
                "yshift": 15,
                "z": 14.535
               },
               {
                "showarrow": false,
                "text": "C14",
                "x": 39.71,
                "y": 6.561,
                "yshift": 15,
                "z": 13.419
               },
               {
                "showarrow": false,
                "text": "N2",
                "x": 38.481,
                "y": 5.785,
                "yshift": 15,
                "z": 13.615
               },
               {
                "showarrow": false,
                "text": "S2",
                "x": 38.713,
                "y": 4.094,
                "yshift": 15,
                "z": 13.851
               },
               {
                "showarrow": false,
                "text": "O6",
                "x": 37.419,
                "y": 3.343,
                "yshift": 15,
                "z": 13.936
               },
               {
                "showarrow": false,
                "text": "O7",
                "x": 39.66,
                "y": 3.51,
                "yshift": 15,
                "z": 12.845
               },
               {
                "showarrow": false,
                "text": "C15",
                "x": 39.5,
                "y": 3.93,
                "yshift": 15,
                "z": 15.446
               },
               {
                "showarrow": false,
                "text": "C16",
                "x": 39.94,
                "y": 2.526,
                "yshift": 15,
                "z": 15.686
               },
               {
                "showarrow": false,
                "text": "C17",
                "x": 39.035,
                "y": 1.583,
                "yshift": 15,
                "z": 16.185
               },
               {
                "showarrow": false,
                "text": "C18",
                "x": 39.444,
                "y": 0.263,
                "yshift": 15,
                "z": 16.396
               },
               {
                "showarrow": false,
                "text": "C19",
                "x": 40.758,
                "y": -0.116,
                "yshift": 15,
                "z": 16.107
               },
               {
                "showarrow": false,
                "text": "C20",
                "x": 41.663,
                "y": 0.824,
                "yshift": 15,
                "z": 15.605
               },
               {
                "showarrow": false,
                "text": "C21",
                "x": 41.255,
                "y": 2.144,
                "yshift": 15,
                "z": 15.393
               },
               {
                "showarrow": false,
                "text": "C22",
                "x": 37.31,
                "y": 6.381,
                "yshift": 15,
                "z": 14.27
               },
               {
                "showarrow": false,
                "text": "C23",
                "x": 37.661,
                "y": 7.397,
                "yshift": 15,
                "z": 15.346
               },
               {
                "showarrow": false,
                "text": "C24",
                "x": 40.656,
                "y": 11.068,
                "yshift": 15,
                "z": 15.876
               },
               {
                "showarrow": false,
                "text": "C25",
                "x": 41.78,
                "y": 13.756,
                "yshift": 15,
                "z": 14.586
               },
               {
                "showarrow": false,
                "text": "Br1",
                "x": 40.555,
                "y": 13.098,
                "yshift": 15,
                "z": 13.269
               },
               {
                "showarrow": false,
                "text": "H1",
                "x": 40.575,
                "y": 17.028,
                "yshift": 15,
                "z": 14.47
               },
               {
                "showarrow": false,
                "text": "H2",
                "x": 40.01,
                "y": 15.755,
                "yshift": 15,
                "z": 13.351
               },
               {
                "showarrow": false,
                "text": "H3",
                "x": 43.936,
                "y": 11.278,
                "yshift": 15,
                "z": 16.816
               },
               {
                "showarrow": false,
                "text": "H4",
                "x": 43.512,
                "y": 8.895,
                "yshift": 15,
                "z": 17.426
               },
               {
                "showarrow": false,
                "text": "H5",
                "x": 41.248,
                "y": 7.893,
                "yshift": 15,
                "z": 17.031
               },
               {
                "showarrow": false,
                "text": "H6",
                "x": 38.358,
                "y": 9.483,
                "yshift": 15,
                "z": 16.654
               },
               {
                "showarrow": false,
                "text": "H7",
                "x": 38.394,
                "y": 8.939,
                "yshift": 15,
                "z": 14.021
               },
               {
                "showarrow": false,
                "text": "H8",
                "x": 40.782,
                "y": 8.24,
                "yshift": 15,
                "z": 14.213
               },
               {
                "showarrow": false,
                "text": "H9",
                "x": 40.294,
                "y": 6.988,
                "yshift": 15,
                "z": 15.428
               },
               {
                "showarrow": false,
                "text": "H10",
                "x": 39.624,
                "y": 7.117,
                "yshift": 15,
                "z": 12.473
               },
               {
                "showarrow": false,
                "text": "H11",
                "x": 40.546,
                "y": 5.845,
                "yshift": 15,
                "z": 13.407
               },
               {
                "showarrow": false,
                "text": "H12",
                "x": 40.377,
                "y": 4.593,
                "yshift": 15,
                "z": 15.483
               },
               {
                "showarrow": false,
                "text": "H13",
                "x": 38.773,
                "y": 4.206,
                "yshift": 15,
                "z": 16.224
               },
               {
                "showarrow": false,
                "text": "H14",
                "x": 38,
                "y": 1.881,
                "yshift": 15,
                "z": 16.411
               },
               {
                "showarrow": false,
                "text": "H15",
                "x": 38.732,
                "y": -0.477,
                "yshift": 15,
                "z": 16.79
               },
               {
                "showarrow": false,
                "text": "H16",
                "x": 41.08,
                "y": -1.155,
                "yshift": 15,
                "z": 16.274
               },
               {
                "showarrow": false,
                "text": "H17",
                "x": 42.697,
                "y": 0.525,
                "yshift": 15,
                "z": 15.377
               },
               {
                "showarrow": false,
                "text": "H18",
                "x": 41.967,
                "y": 2.883,
                "yshift": 15,
                "z": 14.997
               },
               {
                "showarrow": false,
                "text": "H19",
                "x": 36.702,
                "y": 6.883,
                "yshift": 15,
                "z": 13.503
               },
               {
                "showarrow": false,
                "text": "H20",
                "x": 36.768,
                "y": 5.562,
                "yshift": 15,
                "z": 14.765
               },
               {
                "showarrow": false,
                "text": "H21",
                "x": 36.76,
                "y": 7.975,
                "yshift": 15,
                "z": 15.598
               },
               {
                "showarrow": false,
                "text": "H22",
                "x": 38.038,
                "y": 6.85,
                "yshift": 15,
                "z": 16.223
               },
               {
                "showarrow": false,
                "text": "H23",
                "x": 39.847,
                "y": 11.681,
                "yshift": 15,
                "z": 15.453
               },
               {
                "showarrow": false,
                "text": "O1",
                "x": 39.044,
                "y": 17.603,
                "yshift": 15,
                "z": 12.296
               },
               {
                "showarrow": false,
                "text": "C1",
                "x": 40.196,
                "y": 17.099,
                "yshift": 15,
                "z": 12.364
               },
               {
                "showarrow": false,
                "text": "O2",
                "x": 41.237,
                "y": 17.64,
                "yshift": 15,
                "z": 11.648
               },
               {
                "showarrow": false,
                "text": "C2",
                "x": 40.455,
                "y": 15.916,
                "yshift": 15,
                "z": 13.197
               },
               {
                "showarrow": false,
                "text": "O3",
                "x": 41.645,
                "y": 16.135,
                "yshift": 15,
                "z": 13.911
               },
               {
                "showarrow": false,
                "text": "C3",
                "x": 42.164,
                "y": 15.117,
                "yshift": 15,
                "z": 14.672
               },
               {
                "showarrow": false,
                "text": "C4",
                "x": 41.512,
                "y": 13.882,
                "yshift": 15,
                "z": 14.868
               },
               {
                "showarrow": false,
                "text": "C5",
                "x": 42.249,
                "y": 13.026,
                "yshift": 15,
                "z": 15.688
               },
               {
                "showarrow": false,
                "text": "C6",
                "x": 41.933,
                "y": 11.631,
                "yshift": 15,
                "z": 16.062
               },
               {
                "showarrow": false,
                "text": "C7",
                "x": 42.944,
                "y": 10.842,
                "yshift": 15,
                "z": 16.64
               },
               {
                "showarrow": false,
                "text": "C8",
                "x": 42.706,
                "y": 9.507,
                "yshift": 15,
                "z": 16.988
               },
               {
                "showarrow": false,
                "text": "C9",
                "x": 41.438,
                "y": 8.953,
                "yshift": 15,
                "z": 16.773
               },
               {
                "showarrow": false,
                "text": "C10",
                "x": 40.41,
                "y": 9.745,
                "yshift": 15,
                "z": 16.221
               },
               {
                "showarrow": false,
                "text": "N1",
                "x": 39.105,
                "y": 9.229,
                "yshift": 15,
                "z": 15.987
               },
               {
                "showarrow": false,
                "text": "C11",
                "x": 38.777,
                "y": 8.326,
                "yshift": 15,
                "z": 14.903
               },
               {
                "showarrow": false,
                "text": "C12",
                "x": 40.05,
                "y": 7.557,
                "yshift": 15,
                "z": 14.539
               },
               {
                "showarrow": false,
                "text": "C13",
                "x": 39.729,
                "y": 6.41,
                "yshift": 15,
                "z": 13.593
               },
               {
                "showarrow": false,
                "text": "N2",
                "x": 38.749,
                "y": 5.556,
                "yshift": 15,
                "z": 14.253
               },
               {
                "showarrow": false,
                "text": "S1",
                "x": 38.606,
                "y": 4.027,
                "yshift": 15,
                "z": 13.457
               },
               {
                "showarrow": false,
                "text": "O4",
                "x": 38.676,
                "y": 4.254,
                "yshift": 15,
                "z": 11.971
               },
               {
                "showarrow": false,
                "text": "O5",
                "x": 37.27,
                "y": 3.436,
                "yshift": 15,
                "z": 13.814
               },
               {
                "showarrow": false,
                "text": "C14",
                "x": 39.877,
                "y": 2.875,
                "yshift": 15,
                "z": 13.97
               },
               {
                "showarrow": false,
                "text": "C15",
                "x": 39.788,
                "y": 2.546,
                "yshift": 15,
                "z": 15.421
               },
               {
                "showarrow": false,
                "text": "C16",
                "x": 40.079,
                "y": 3.515,
                "yshift": 15,
                "z": 16.388
               },
               {
                "showarrow": false,
                "text": "C17",
                "x": 39.992,
                "y": 3.197,
                "yshift": 15,
                "z": 17.747
               },
               {
                "showarrow": false,
                "text": "C18",
                "x": 39.616,
                "y": 1.909,
                "yshift": 15,
                "z": 18.141
               },
               {
                "showarrow": false,
                "text": "C19",
                "x": 39.331,
                "y": 0.938,
                "yshift": 15,
                "z": 17.177
               },
               {
                "showarrow": false,
                "text": "C20",
                "x": 39.418,
                "y": 1.256,
                "yshift": 15,
                "z": 15.818
               },
               {
                "showarrow": false,
                "text": "C21",
                "x": 37.466,
                "y": 6.242,
                "yshift": 15,
                "z": 14.38
               },
               {
                "showarrow": false,
                "text": "C22",
                "x": 37.648,
                "y": 7.389,
                "yshift": 15,
                "z": 15.363
               },
               {
                "showarrow": false,
                "text": "C23",
                "x": 40.659,
                "y": 11.076,
                "yshift": 15,
                "z": 15.866
               },
               {
                "showarrow": false,
                "text": "S2",
                "x": 43.673,
                "y": 13.812,
                "yshift": 15,
                "z": 16.14
               },
               {
                "showarrow": false,
                "text": "C24",
                "x": 43.374,
                "y": 15.243,
                "yshift": 15,
                "z": 15.314
               },
               {
                "showarrow": false,
                "text": "C25",
                "x": 44.212,
                "y": 16.434,
                "yshift": 15,
                "z": 15.415
               },
               {
                "showarrow": false,
                "text": "O6",
                "x": 45.388,
                "y": 16.405,
                "yshift": 15,
                "z": 15.871
               },
               {
                "showarrow": false,
                "text": "O7",
                "x": 43.675,
                "y": 17.62,
                "yshift": 15,
                "z": 14.974
               },
               {
                "showarrow": false,
                "text": "H1",
                "x": 39.622,
                "y": 15.764,
                "yshift": 15,
                "z": 13.898
               },
               {
                "showarrow": false,
                "text": "H2",
                "x": 40.55,
                "y": 15.02,
                "yshift": 15,
                "z": 12.565
               },
               {
                "showarrow": false,
                "text": "H3",
                "x": 40.538,
                "y": 13.624,
                "yshift": 15,
                "z": 14.427
               },
               {
                "showarrow": false,
                "text": "H4",
                "x": 43.937,
                "y": 11.28,
                "yshift": 15,
                "z": 16.82
               },
               {
                "showarrow": false,
                "text": "H5",
                "x": 43.51,
                "y": 8.898,
                "yshift": 15,
                "z": 17.427
               },
               {
                "showarrow": false,
                "text": "H6",
                "x": 41.244,
                "y": 7.902,
                "yshift": 15,
                "z": 17.033
               },
               {
                "showarrow": false,
                "text": "H7",
                "x": 38.349,
                "y": 9.514,
                "yshift": 15,
                "z": 16.625
               },
               {
                "showarrow": false,
                "text": "H8",
                "x": 38.421,
                "y": 8.864,
                "yshift": 15,
                "z": 14.012
               },
               {
                "showarrow": false,
                "text": "H9",
                "x": 40.759,
                "y": 8.241,
                "yshift": 15,
                "z": 14.051
               },
               {
                "showarrow": false,
                "text": "H10",
                "x": 40.491,
                "y": 7.145,
                "yshift": 15,
                "z": 15.459
               },
               {
                "showarrow": false,
                "text": "H11",
                "x": 39.312,
                "y": 6.804,
                "yshift": 15,
                "z": 12.655
               },
               {
                "showarrow": false,
                "text": "H12",
                "x": 40.639,
                "y": 5.841,
                "yshift": 15,
                "z": 13.353
               },
               {
                "showarrow": false,
                "text": "H13",
                "x": 39.77,
                "y": 1.947,
                "yshift": 15,
                "z": 13.389
               },
               {
                "showarrow": false,
                "text": "H14",
                "x": 40.854,
                "y": 3.349,
                "yshift": 15,
                "z": 13.791
               },
               {
                "showarrow": false,
                "text": "H15",
                "x": 40.377,
                "y": 4.528,
                "yshift": 15,
                "z": 16.078
               },
               {
                "showarrow": false,
                "text": "H16",
                "x": 40.218,
                "y": 3.961,
                "yshift": 15,
                "z": 18.506
               },
               {
                "showarrow": false,
                "text": "H17",
                "x": 39.546,
                "y": 1.66,
                "yshift": 15,
                "z": 19.21
               },
               {
                "showarrow": false,
                "text": "H18",
                "x": 39.037,
                "y": -0.075,
                "yshift": 15,
                "z": 17.487
               },
               {
                "showarrow": false,
                "text": "H19",
                "x": 39.196,
                "y": 0.49,
                "yshift": 15,
                "z": 15.06
               },
               {
                "showarrow": false,
                "text": "H20",
                "x": 37.153,
                "y": 6.634,
                "yshift": 15,
                "z": 13.401
               },
               {
                "showarrow": false,
                "text": "H21",
                "x": 36.693,
                "y": 5.547,
                "yshift": 15,
                "z": 14.739
               },
               {
                "showarrow": false,
                "text": "H22",
                "x": 36.709,
                "y": 7.96,
                "yshift": 15,
                "z": 15.428
               },
               {
                "showarrow": false,
                "text": "H23",
                "x": 37.912,
                "y": 6.974,
                "yshift": 15,
                "z": 16.346
               },
               {
                "showarrow": false,
                "text": "H24",
                "x": 39.855,
                "y": 11.688,
                "yshift": 15,
                "z": 15.431
               }
              ]
             }
            ],
            "label": "Atom Name",
            "method": "relayout"
           },
           {
            "args": [
             {
              "scene.annotations": [
               {
                "showarrow": false,
                "text": "O.co2",
                "x": 41.039,
                "y": 17.188,
                "yshift": 15,
                "z": 11.242
               },
               {
                "showarrow": false,
                "text": "C.2",
                "x": 40.735,
                "y": 17.514,
                "yshift": 15,
                "z": 12.421
               },
               {
                "showarrow": false,
                "text": "O.co2",
                "x": 40.373,
                "y": 18.806,
                "yshift": 15,
                "z": 12.715
               },
               {
                "showarrow": false,
                "text": "C.3",
                "x": 40.775,
                "y": 16.529,
                "yshift": 15,
                "z": 13.51
               },
               {
                "showarrow": false,
                "text": "O.3",
                "x": 42.056,
                "y": 15.953,
                "yshift": 15,
                "z": 13.53
               },
               {
                "showarrow": false,
                "text": "C.2",
                "x": 42.358,
                "y": 15.038,
                "yshift": 15,
                "z": 14.508
               },
               {
                "showarrow": false,
                "text": "C.2",
                "x": 43.256,
                "y": 15.323,
                "yshift": 15,
                "z": 15.509
               },
               {
                "showarrow": false,
                "text": "C.2",
                "x": 43.917,
                "y": 16.597,
                "yshift": 15,
                "z": 15.777
               },
               {
                "showarrow": false,
                "text": "O.co2",
                "x": 43.649,
                "y": 17.652,
                "yshift": 15,
                "z": 15.139
               },
               {
                "showarrow": false,
                "text": "O.co2",
                "x": 44.856,
                "y": 16.621,
                "yshift": 15,
                "z": 16.78
               },
               {
                "showarrow": false,
                "text": "S.3",
                "x": 43.357,
                "y": 13.98,
                "yshift": 15,
                "z": 16.515
               },
               {
                "showarrow": false,
                "text": "C.2",
                "x": 42.242,
                "y": 13.02,
                "yshift": 15,
                "z": 15.683
               },
               {
                "showarrow": false,
                "text": "C.ar",
                "x": 41.93,
                "y": 11.624,
                "yshift": 15,
                "z": 16.062
               },
               {
                "showarrow": false,
                "text": "C.ar",
                "x": 42.944,
                "y": 10.838,
                "yshift": 15,
                "z": 16.638
               },
               {
                "showarrow": false,
                "text": "C.ar",
                "x": 42.707,
                "y": 9.503,
                "yshift": 15,
                "z": 16.987
               },
               {
                "showarrow": false,
                "text": "C.ar",
                "x": 41.439,
                "y": 8.945,
                "yshift": 15,
                "z": 16.773
               },
               {
                "showarrow": false,
                "text": "C.ar",
                "x": 40.409,
                "y": 9.736,
                "yshift": 15,
                "z": 16.226
               },
               {
                "showarrow": false,
                "text": "N.3",
                "x": 39.103,
                "y": 9.223,
                "yshift": 15,
                "z": 15.992
               },
               {
                "showarrow": false,
                "text": "C.3",
                "x": 38.749,
                "y": 8.357,
                "yshift": 15,
                "z": 14.885
               },
               {
                "showarrow": false,
                "text": "C.3",
                "x": 39.987,
                "y": 7.552,
                "yshift": 15,
                "z": 14.535
               },
               {
                "showarrow": false,
                "text": "C.3",
                "x": 39.71,
                "y": 6.561,
                "yshift": 15,
                "z": 13.419
               },
               {
                "showarrow": false,
                "text": "N.3",
                "x": 38.481,
                "y": 5.785,
                "yshift": 15,
                "z": 13.615
               },
               {
                "showarrow": false,
                "text": "S.o2",
                "x": 38.713,
                "y": 4.094,
                "yshift": 15,
                "z": 13.851
               },
               {
                "showarrow": false,
                "text": "O.2",
                "x": 37.419,
                "y": 3.343,
                "yshift": 15,
                "z": 13.936
               },
               {
                "showarrow": false,
                "text": "O.2",
                "x": 39.66,
                "y": 3.51,
                "yshift": 15,
                "z": 12.845
               },
               {
                "showarrow": false,
                "text": "C.3",
                "x": 39.5,
                "y": 3.93,
                "yshift": 15,
                "z": 15.446
               },
               {
                "showarrow": false,
                "text": "C.ar",
                "x": 39.94,
                "y": 2.526,
                "yshift": 15,
                "z": 15.686
               },
               {
                "showarrow": false,
                "text": "C.ar",
                "x": 39.035,
                "y": 1.583,
                "yshift": 15,
                "z": 16.185
               },
               {
                "showarrow": false,
                "text": "C.ar",
                "x": 39.444,
                "y": 0.263,
                "yshift": 15,
                "z": 16.396
               },
               {
                "showarrow": false,
                "text": "C.ar",
                "x": 40.758,
                "y": -0.116,
                "yshift": 15,
                "z": 16.107
               },
               {
                "showarrow": false,
                "text": "C.ar",
                "x": 41.663,
                "y": 0.824,
                "yshift": 15,
                "z": 15.605
               },
               {
                "showarrow": false,
                "text": "C.ar",
                "x": 41.255,
                "y": 2.144,
                "yshift": 15,
                "z": 15.393
               },
               {
                "showarrow": false,
                "text": "C.3",
                "x": 37.31,
                "y": 6.381,
                "yshift": 15,
                "z": 14.27
               },
               {
                "showarrow": false,
                "text": "C.3",
                "x": 37.661,
                "y": 7.397,
                "yshift": 15,
                "z": 15.346
               },
               {
                "showarrow": false,
                "text": "C.ar",
                "x": 40.656,
                "y": 11.068,
                "yshift": 15,
                "z": 15.876
               },
               {
                "showarrow": false,
                "text": "C.2",
                "x": 41.78,
                "y": 13.756,
                "yshift": 15,
                "z": 14.586
               },
               {
                "showarrow": false,
                "text": "Br",
                "x": 40.555,
                "y": 13.098,
                "yshift": 15,
                "z": 13.269
               },
               {
                "showarrow": false,
                "text": "H",
                "x": 40.575,
                "y": 17.028,
                "yshift": 15,
                "z": 14.47
               },
               {
                "showarrow": false,
                "text": "H",
                "x": 40.01,
                "y": 15.755,
                "yshift": 15,
                "z": 13.351
               },
               {
                "showarrow": false,
                "text": "H",
                "x": 43.936,
                "y": 11.278,
                "yshift": 15,
                "z": 16.816
               },
               {
                "showarrow": false,
                "text": "H",
                "x": 43.512,
                "y": 8.895,
                "yshift": 15,
                "z": 17.426
               },
               {
                "showarrow": false,
                "text": "H",
                "x": 41.248,
                "y": 7.893,
                "yshift": 15,
                "z": 17.031
               },
               {
                "showarrow": false,
                "text": "H",
                "x": 38.358,
                "y": 9.483,
                "yshift": 15,
                "z": 16.654
               },
               {
                "showarrow": false,
                "text": "H",
                "x": 38.394,
                "y": 8.939,
                "yshift": 15,
                "z": 14.021
               },
               {
                "showarrow": false,
                "text": "H",
                "x": 40.782,
                "y": 8.24,
                "yshift": 15,
                "z": 14.213
               },
               {
                "showarrow": false,
                "text": "H",
                "x": 40.294,
                "y": 6.988,
                "yshift": 15,
                "z": 15.428
               },
               {
                "showarrow": false,
                "text": "H",
                "x": 39.624,
                "y": 7.117,
                "yshift": 15,
                "z": 12.473
               },
               {
                "showarrow": false,
                "text": "H",
                "x": 40.546,
                "y": 5.845,
                "yshift": 15,
                "z": 13.407
               },
               {
                "showarrow": false,
                "text": "H",
                "x": 40.377,
                "y": 4.593,
                "yshift": 15,
                "z": 15.483
               },
               {
                "showarrow": false,
                "text": "H",
                "x": 38.773,
                "y": 4.206,
                "yshift": 15,
                "z": 16.224
               },
               {
                "showarrow": false,
                "text": "H",
                "x": 38,
                "y": 1.881,
                "yshift": 15,
                "z": 16.411
               },
               {
                "showarrow": false,
                "text": "H",
                "x": 38.732,
                "y": -0.477,
                "yshift": 15,
                "z": 16.79
               },
               {
                "showarrow": false,
                "text": "H",
                "x": 41.08,
                "y": -1.155,
                "yshift": 15,
                "z": 16.274
               },
               {
                "showarrow": false,
                "text": "H",
                "x": 42.697,
                "y": 0.525,
                "yshift": 15,
                "z": 15.377
               },
               {
                "showarrow": false,
                "text": "H",
                "x": 41.967,
                "y": 2.883,
                "yshift": 15,
                "z": 14.997
               },
               {
                "showarrow": false,
                "text": "H",
                "x": 36.702,
                "y": 6.883,
                "yshift": 15,
                "z": 13.503
               },
               {
                "showarrow": false,
                "text": "H",
                "x": 36.768,
                "y": 5.562,
                "yshift": 15,
                "z": 14.765
               },
               {
                "showarrow": false,
                "text": "H",
                "x": 36.76,
                "y": 7.975,
                "yshift": 15,
                "z": 15.598
               },
               {
                "showarrow": false,
                "text": "H",
                "x": 38.038,
                "y": 6.85,
                "yshift": 15,
                "z": 16.223
               },
               {
                "showarrow": false,
                "text": "H",
                "x": 39.847,
                "y": 11.681,
                "yshift": 15,
                "z": 15.453
               },
               {
                "showarrow": false,
                "text": "O.co2",
                "x": 39.044,
                "y": 17.603,
                "yshift": 15,
                "z": 12.296
               },
               {
                "showarrow": false,
                "text": "C.2",
                "x": 40.196,
                "y": 17.099,
                "yshift": 15,
                "z": 12.364
               },
               {
                "showarrow": false,
                "text": "O.co2",
                "x": 41.237,
                "y": 17.64,
                "yshift": 15,
                "z": 11.648
               },
               {
                "showarrow": false,
                "text": "C.3",
                "x": 40.455,
                "y": 15.916,
                "yshift": 15,
                "z": 13.197
               },
               {
                "showarrow": false,
                "text": "O.3",
                "x": 41.645,
                "y": 16.135,
                "yshift": 15,
                "z": 13.911
               },
               {
                "showarrow": false,
                "text": "C.2",
                "x": 42.164,
                "y": 15.117,
                "yshift": 15,
                "z": 14.672
               },
               {
                "showarrow": false,
                "text": "C.2",
                "x": 41.512,
                "y": 13.882,
                "yshift": 15,
                "z": 14.868
               },
               {
                "showarrow": false,
                "text": "C.2",
                "x": 42.249,
                "y": 13.026,
                "yshift": 15,
                "z": 15.688
               },
               {
                "showarrow": false,
                "text": "C.ar",
                "x": 41.933,
                "y": 11.631,
                "yshift": 15,
                "z": 16.062
               },
               {
                "showarrow": false,
                "text": "C.ar",
                "x": 42.944,
                "y": 10.842,
                "yshift": 15,
                "z": 16.64
               },
               {
                "showarrow": false,
                "text": "C.ar",
                "x": 42.706,
                "y": 9.507,
                "yshift": 15,
                "z": 16.988
               },
               {
                "showarrow": false,
                "text": "C.ar",
                "x": 41.438,
                "y": 8.953,
                "yshift": 15,
                "z": 16.773
               },
               {
                "showarrow": false,
                "text": "C.ar",
                "x": 40.41,
                "y": 9.745,
                "yshift": 15,
                "z": 16.221
               },
               {
                "showarrow": false,
                "text": "N.3",
                "x": 39.105,
                "y": 9.229,
                "yshift": 15,
                "z": 15.987
               },
               {
                "showarrow": false,
                "text": "C.3",
                "x": 38.777,
                "y": 8.326,
                "yshift": 15,
                "z": 14.903
               },
               {
                "showarrow": false,
                "text": "C.3",
                "x": 40.05,
                "y": 7.557,
                "yshift": 15,
                "z": 14.539
               },
               {
                "showarrow": false,
                "text": "C.3",
                "x": 39.729,
                "y": 6.41,
                "yshift": 15,
                "z": 13.593
               },
               {
                "showarrow": false,
                "text": "N.3",
                "x": 38.749,
                "y": 5.556,
                "yshift": 15,
                "z": 14.253
               },
               {
                "showarrow": false,
                "text": "S.o2",
                "x": 38.606,
                "y": 4.027,
                "yshift": 15,
                "z": 13.457
               },
               {
                "showarrow": false,
                "text": "O.2",
                "x": 38.676,
                "y": 4.254,
                "yshift": 15,
                "z": 11.971
               },
               {
                "showarrow": false,
                "text": "O.2",
                "x": 37.27,
                "y": 3.436,
                "yshift": 15,
                "z": 13.814
               },
               {
                "showarrow": false,
                "text": "C.3",
                "x": 39.877,
                "y": 2.875,
                "yshift": 15,
                "z": 13.97
               },
               {
                "showarrow": false,
                "text": "C.ar",
                "x": 39.788,
                "y": 2.546,
                "yshift": 15,
                "z": 15.421
               },
               {
                "showarrow": false,
                "text": "C.ar",
                "x": 40.079,
                "y": 3.515,
                "yshift": 15,
                "z": 16.388
               },
               {
                "showarrow": false,
                "text": "C.ar",
                "x": 39.992,
                "y": 3.197,
                "yshift": 15,
                "z": 17.747
               },
               {
                "showarrow": false,
                "text": "C.ar",
                "x": 39.616,
                "y": 1.909,
                "yshift": 15,
                "z": 18.141
               },
               {
                "showarrow": false,
                "text": "C.ar",
                "x": 39.331,
                "y": 0.938,
                "yshift": 15,
                "z": 17.177
               },
               {
                "showarrow": false,
                "text": "C.ar",
                "x": 39.418,
                "y": 1.256,
                "yshift": 15,
                "z": 15.818
               },
               {
                "showarrow": false,
                "text": "C.3",
                "x": 37.466,
                "y": 6.242,
                "yshift": 15,
                "z": 14.38
               },
               {
                "showarrow": false,
                "text": "C.3",
                "x": 37.648,
                "y": 7.389,
                "yshift": 15,
                "z": 15.363
               },
               {
                "showarrow": false,
                "text": "C.ar",
                "x": 40.659,
                "y": 11.076,
                "yshift": 15,
                "z": 15.866
               },
               {
                "showarrow": false,
                "text": "S.3",
                "x": 43.673,
                "y": 13.812,
                "yshift": 15,
                "z": 16.14
               },
               {
                "showarrow": false,
                "text": "C.2",
                "x": 43.374,
                "y": 15.243,
                "yshift": 15,
                "z": 15.314
               },
               {
                "showarrow": false,
                "text": "C.2",
                "x": 44.212,
                "y": 16.434,
                "yshift": 15,
                "z": 15.415
               },
               {
                "showarrow": false,
                "text": "O.co2",
                "x": 45.388,
                "y": 16.405,
                "yshift": 15,
                "z": 15.871
               },
               {
                "showarrow": false,
                "text": "O.co2",
                "x": 43.675,
                "y": 17.62,
                "yshift": 15,
                "z": 14.974
               },
               {
                "showarrow": false,
                "text": "H",
                "x": 39.622,
                "y": 15.764,
                "yshift": 15,
                "z": 13.898
               },
               {
                "showarrow": false,
                "text": "H",
                "x": 40.55,
                "y": 15.02,
                "yshift": 15,
                "z": 12.565
               },
               {
                "showarrow": false,
                "text": "H",
                "x": 40.538,
                "y": 13.624,
                "yshift": 15,
                "z": 14.427
               },
               {
                "showarrow": false,
                "text": "H",
                "x": 43.937,
                "y": 11.28,
                "yshift": 15,
                "z": 16.82
               },
               {
                "showarrow": false,
                "text": "H",
                "x": 43.51,
                "y": 8.898,
                "yshift": 15,
                "z": 17.427
               },
               {
                "showarrow": false,
                "text": "H",
                "x": 41.244,
                "y": 7.902,
                "yshift": 15,
                "z": 17.033
               },
               {
                "showarrow": false,
                "text": "H",
                "x": 38.349,
                "y": 9.514,
                "yshift": 15,
                "z": 16.625
               },
               {
                "showarrow": false,
                "text": "H",
                "x": 38.421,
                "y": 8.864,
                "yshift": 15,
                "z": 14.012
               },
               {
                "showarrow": false,
                "text": "H",
                "x": 40.759,
                "y": 8.241,
                "yshift": 15,
                "z": 14.051
               },
               {
                "showarrow": false,
                "text": "H",
                "x": 40.491,
                "y": 7.145,
                "yshift": 15,
                "z": 15.459
               },
               {
                "showarrow": false,
                "text": "H",
                "x": 39.312,
                "y": 6.804,
                "yshift": 15,
                "z": 12.655
               },
               {
                "showarrow": false,
                "text": "H",
                "x": 40.639,
                "y": 5.841,
                "yshift": 15,
                "z": 13.353
               },
               {
                "showarrow": false,
                "text": "H",
                "x": 39.77,
                "y": 1.947,
                "yshift": 15,
                "z": 13.389
               },
               {
                "showarrow": false,
                "text": "H",
                "x": 40.854,
                "y": 3.349,
                "yshift": 15,
                "z": 13.791
               },
               {
                "showarrow": false,
                "text": "H",
                "x": 40.377,
                "y": 4.528,
                "yshift": 15,
                "z": 16.078
               },
               {
                "showarrow": false,
                "text": "H",
                "x": 40.218,
                "y": 3.961,
                "yshift": 15,
                "z": 18.506
               },
               {
                "showarrow": false,
                "text": "H",
                "x": 39.546,
                "y": 1.66,
                "yshift": 15,
                "z": 19.21
               },
               {
                "showarrow": false,
                "text": "H",
                "x": 39.037,
                "y": -0.075,
                "yshift": 15,
                "z": 17.487
               },
               {
                "showarrow": false,
                "text": "H",
                "x": 39.196,
                "y": 0.49,
                "yshift": 15,
                "z": 15.06
               },
               {
                "showarrow": false,
                "text": "H",
                "x": 37.153,
                "y": 6.634,
                "yshift": 15,
                "z": 13.401
               },
               {
                "showarrow": false,
                "text": "H",
                "x": 36.693,
                "y": 5.547,
                "yshift": 15,
                "z": 14.739
               },
               {
                "showarrow": false,
                "text": "H",
                "x": 36.709,
                "y": 7.96,
                "yshift": 15,
                "z": 15.428
               },
               {
                "showarrow": false,
                "text": "H",
                "x": 37.912,
                "y": 6.974,
                "yshift": 15,
                "z": 16.346
               },
               {
                "showarrow": false,
                "text": "H",
                "x": 39.855,
                "y": 11.688,
                "yshift": 15,
                "z": 15.431
               }
              ]
             }
            ],
            "label": "Atom Type",
            "method": "relayout"
           },
           {
            "args": [
             {
              "scene.annotations": [
               {
                "font": {
                 "color": "steelblue"
                },
                "showarrow": false,
                "text": "1",
                "x": 40.887,
                "y": 17.351,
                "yshift": 15,
                "z": 11.8315
               },
               {
                "font": {
                 "color": "steelblue"
                },
                "showarrow": false,
                "text": "1",
                "x": 40.554,
                "y": 18.16,
                "yshift": 15,
                "z": 12.568
               },
               {
                "font": {
                 "color": "steelblue"
                },
                "showarrow": false,
                "text": "1",
                "x": 40.754999999999995,
                "y": 17.0215,
                "yshift": 15,
                "z": 12.965499999999999
               },
               {
                "font": {
                 "color": "steelblue"
                },
                "showarrow": false,
                "text": "1",
                "x": 41.415499999999994,
                "y": 16.241,
                "yshift": 15,
                "z": 13.52
               },
               {
                "font": {
                 "color": "steelblue"
                },
                "showarrow": false,
                "text": "1",
                "x": 40.675,
                "y": 16.7785,
                "yshift": 15,
                "z": 13.99
               },
               {
                "font": {
                 "color": "steelblue"
                },
                "showarrow": false,
                "text": "2",
                "x": 40.3925,
                "y": 16.142,
                "yshift": 15,
                "z": 13.4305
               },
               {
                "font": {
                 "color": "steelblue"
                },
                "showarrow": false,
                "text": "1",
                "x": 42.206999999999994,
                "y": 15.4955,
                "yshift": 15,
                "z": 14.018999999999998
               },
               {
                "font": {
                 "color": "steelblue"
                },
                "showarrow": false,
                "text": "1",
                "x": 42.807,
                "y": 15.1805,
                "yshift": 15,
                "z": 15.0085
               },
               {
                "font": {
                 "color": "steelblue"
                },
                "showarrow": false,
                "text": "1",
                "x": 42.069,
                "y": 14.397,
                "yshift": 15,
                "z": 14.547
               },
               {
                "font": {
                 "color": "steelblue"
                },
                "showarrow": false,
                "text": "1",
                "x": 43.5865,
                "y": 15.96,
                "yshift": 15,
                "z": 15.643
               },
               {
                "font": {
                 "color": "steelblue"
                },
                "showarrow": false,
                "text": "1",
                "x": 43.3065,
                "y": 14.6515,
                "yshift": 15,
                "z": 16.012
               },
               {
                "font": {
                 "color": "steelblue"
                },
                "showarrow": false,
                "text": "1",
                "x": 43.783,
                "y": 17.1245,
                "yshift": 15,
                "z": 15.457999999999998
               },
               {
                "font": {
                 "color": "steelblue"
                },
                "showarrow": false,
                "text": "ar",
                "x": 44.3865,
                "y": 16.609,
                "yshift": 15,
                "z": 16.2785
               },
               {
                "font": {
                 "color": "steelblue"
                },
                "showarrow": false,
                "text": "ar",
                "x": 42.799499999999995,
                "y": 13.5,
                "yshift": 15,
                "z": 16.099
               },
               {
                "font": {
                 "color": "steelblue"
                },
                "showarrow": false,
                "text": "ar",
                "x": 42.086,
                "y": 12.322,
                "yshift": 15,
                "z": 15.8725
               },
               {
                "font": {
                 "color": "steelblue"
                },
                "showarrow": false,
                "text": "ar",
                "x": 42.010999999999996,
                "y": 13.388,
                "yshift": 15,
                "z": 15.1345
               },
               {
                "font": {
                 "color": "steelblue"
                },
                "showarrow": false,
                "text": "1",
                "x": 42.437,
                "y": 11.231,
                "yshift": 15,
                "z": 16.35
               },
               {
                "font": {
                 "color": "steelblue"
                },
                "showarrow": false,
                "text": "1",
                "x": 41.293,
                "y": 11.346,
                "yshift": 15,
                "z": 15.969000000000001
               },
               {
                "font": {
                 "color": "steelblue"
                },
                "showarrow": false,
                "text": "1",
                "x": 42.825500000000005,
                "y": 10.1705,
                "yshift": 15,
                "z": 16.8125
               },
               {
                "font": {
                 "color": "steelblue"
                },
                "showarrow": false,
                "text": "1",
                "x": 43.44,
                "y": 11.058,
                "yshift": 15,
                "z": 16.727
               },
               {
                "font": {
                 "color": "steelblue"
                },
                "showarrow": false,
                "text": "1",
                "x": 42.073,
                "y": 9.224,
                "yshift": 15,
                "z": 16.88
               },
               {
                "font": {
                 "color": "steelblue"
                },
                "showarrow": false,
                "text": "1",
                "x": 43.1095,
                "y": 9.199,
                "yshift": 15,
                "z": 17.2065
               },
               {
                "font": {
                 "color": "steelblue"
                },
                "showarrow": false,
                "text": "2",
                "x": 40.924,
                "y": 9.3405,
                "yshift": 15,
                "z": 16.499499999999998
               },
               {
                "font": {
                 "color": "steelblue"
                },
                "showarrow": false,
                "text": "2",
                "x": 41.3435,
                "y": 8.419,
                "yshift": 15,
                "z": 16.902
               },
               {
                "font": {
                 "color": "steelblue"
                },
                "showarrow": false,
                "text": "1",
                "x": 39.756,
                "y": 9.479500000000002,
                "yshift": 15,
                "z": 16.109
               },
               {
                "font": {
                 "color": "steelblue"
                },
                "showarrow": false,
                "text": "1",
                "x": 40.5325,
                "y": 10.402000000000001,
                "yshift": 15,
                "z": 16.051
               },
               {
                "font": {
                 "color": "steelblue"
                },
                "showarrow": false,
                "text": "ar",
                "x": 38.926,
                "y": 8.79,
                "yshift": 15,
                "z": 15.438500000000001
               },
               {
                "font": {
                 "color": "steelblue"
                },
                "showarrow": false,
                "text": "ar",
                "x": 38.7305,
                "y": 9.353000000000002,
                "yshift": 15,
                "z": 16.323
               },
               {
                "font": {
                 "color": "steelblue"
                },
                "showarrow": false,
                "text": "ar",
                "x": 39.368,
                "y": 7.9544999999999995,
                "yshift": 15,
                "z": 14.71
               },
               {
                "font": {
                 "color": "steelblue"
                },
                "showarrow": false,
                "text": "ar",
                "x": 38.205,
                "y": 7.877,
                "yshift": 15,
                "z": 15.1155
               },
               {
                "font": {
                 "color": "steelblue"
                },
                "showarrow": false,
                "text": "ar",
                "x": 38.5715,
                "y": 8.648,
                "yshift": 15,
                "z": 14.453
               },
               {
                "font": {
                 "color": "steelblue"
                },
                "showarrow": false,
                "text": "1",
                "x": 39.8485,
                "y": 7.0565,
                "yshift": 15,
                "z": 13.977
               },
               {
                "font": {
                 "color": "steelblue"
                },
                "showarrow": false,
                "text": "1",
                "x": 40.3845,
                "y": 7.896,
                "yshift": 15,
                "z": 14.373999999999999
               },
               {
                "font": {
                 "color": "steelblue"
                },
                "showarrow": false,
                "text": "ar",
                "x": 40.1405,
                "y": 7.27,
                "yshift": 15,
                "z": 14.9815
               },
               {
                "font": {
                 "color": "steelblue"
                },
                "showarrow": false,
                "text": "2",
                "x": 39.0955,
                "y": 6.173,
                "yshift": 15,
                "z": 13.517
               },
               {
                "font": {
                 "color": "steelblue"
                },
                "showarrow": false,
                "text": "1",
                "x": 39.667,
                "y": 6.839,
                "yshift": 15,
                "z": 12.946000000000002
               },
               {
                "font": {
                 "color": "steelblue"
                },
                "showarrow": false,
                "text": "1",
                "x": 40.128,
                "y": 6.202999999999999,
                "yshift": 15,
                "z": 13.413
               },
               {
                "font": {
                 "color": "steelblue"
                },
                "showarrow": false,
                "text": "ar",
                "x": 38.597,
                "y": 4.939500000000001,
                "yshift": 15,
                "z": 13.733
               },
               {
                "font": {
                 "color": "steelblue"
                },
                "showarrow": false,
                "text": "1",
                "x": 37.8955,
                "y": 6.083,
                "yshift": 15,
                "z": 13.942499999999999
               },
               {
                "font": {
                 "color": "steelblue"
                },
                "showarrow": false,
                "text": "ar",
                "x": 38.066,
                "y": 3.7185,
                "yshift": 15,
                "z": 13.8935
               },
               {
                "font": {
                 "color": "steelblue"
                },
                "showarrow": false,
                "text": "1",
                "x": 39.186499999999995,
                "y": 3.802,
                "yshift": 15,
                "z": 13.348
               },
               {
                "font": {
                 "color": "steelblue"
                },
                "showarrow": false,
                "text": "1",
                "x": 39.1065,
                "y": 4.0120000000000005,
                "yshift": 15,
                "z": 14.6485
               },
               {
                "font": {
                 "color": "steelblue"
                },
                "showarrow": false,
                "text": "1",
                "x": 39.72,
                "y": 3.2279999999999998,
                "yshift": 15,
                "z": 15.565999999999999
               },
               {
                "font": {
                 "color": "steelblue"
                },
                "showarrow": false,
                "text": "1",
                "x": 39.938500000000005,
                "y": 4.2615,
                "yshift": 15,
                "z": 15.464500000000001
               },
               {
                "font": {
                 "color": "steelblue"
                },
                "showarrow": false,
                "text": "1",
                "x": 39.1365,
                "y": 4.0680000000000005,
                "yshift": 15,
                "z": 15.835
               },
               {
                "font": {
                 "color": "steelblue"
                },
                "showarrow": false,
                "text": "1",
                "x": 39.4875,
                "y": 2.0545,
                "yshift": 15,
                "z": 15.9355
               },
               {
                "font": {
                 "color": "steelblue"
                },
                "showarrow": false,
                "text": "1",
                "x": 40.5975,
                "y": 2.335,
                "yshift": 15,
                "z": 15.5395
               },
               {
                "font": {
                 "color": "steelblue"
                },
                "showarrow": false,
                "text": "1",
                "x": 39.2395,
                "y": 0.923,
                "yshift": 15,
                "z": 16.2905
               },
               {
                "font": {
                 "color": "steelblue"
                },
                "showarrow": false,
                "text": "1",
                "x": 38.5175,
                "y": 1.732,
                "yshift": 15,
                "z": 16.298000000000002
               },
               {
                "font": {
                 "color": "steelblue"
                },
                "showarrow": false,
                "text": "1",
                "x": 40.101,
                "y": 0.07350000000000001,
                "yshift": 15,
                "z": 16.2515
               },
               {
                "font": {
                 "color": "steelblue"
                },
                "showarrow": false,
                "text": "1",
                "x": 39.088,
                "y": -0.10699999999999998,
                "yshift": 15,
                "z": 16.593
               },
               {
                "font": {
                 "color": "steelblue"
                },
                "showarrow": false,
                "text": "1",
                "x": 41.210499999999996,
                "y": 0.354,
                "yshift": 15,
                "z": 15.856
               },
               {
                "font": {
                 "color": "steelblue"
                },
                "showarrow": false,
                "text": "1",
                "x": 40.919,
                "y": -0.6355000000000001,
                "yshift": 15,
                "z": 16.1905
               },
               {
                "font": {
                 "color": "steelblue"
                },
                "showarrow": false,
                "text": "1",
                "x": 41.459,
                "y": 1.484,
                "yshift": 15,
                "z": 15.499
               },
               {
                "font": {
                 "color": "steelblue"
                },
                "showarrow": false,
                "text": "1",
                "x": 42.18,
                "y": 0.6745,
                "yshift": 15,
                "z": 15.491
               },
               {
                "font": {
                 "color": "steelblue"
                },
                "showarrow": false,
                "text": "1",
                "x": 41.611000000000004,
                "y": 2.5135,
                "yshift": 15,
                "z": 15.195
               },
               {
                "font": {
                 "color": "steelblue"
                },
                "showarrow": false,
                "text": "1",
                "x": 37.4855,
                "y": 6.889,
                "yshift": 15,
                "z": 14.808
               },
               {
                "font": {
                 "color": "steelblue"
                },
                "showarrow": false,
                "text": "1",
                "x": 37.006,
                "y": 6.632,
                "yshift": 15,
                "z": 13.8865
               },
               {
                "font": {
                 "color": "steelblue"
                },
                "showarrow": false,
                "text": "1",
                "x": 37.039,
                "y": 5.971500000000001,
                "yshift": 15,
                "z": 14.5175
               },
               {
                "font": {
                 "color": "steelblue"
                },
                "showarrow": false,
                "text": "1",
                "x": 37.210499999999996,
                "y": 7.686,
                "yshift": 15,
                "z": 15.472000000000001
               },
               {
                "font": {
                 "color": "steelblue"
                },
                "showarrow": false,
                "text": "1",
                "x": 37.8495,
                "y": 7.1235,
                "yshift": 15,
                "z": 15.7845
               },
               {
                "font": {
                 "color": "steelblue"
                },
                "showarrow": false,
                "text": "1",
                "x": 40.2515,
                "y": 11.3745,
                "yshift": 15,
                "z": 15.6645
               },
               {
                "font": {
                 "color": "steelblue"
                },
                "showarrow": false,
                "text": "1",
                "x": 41.167500000000004,
                "y": 13.427,
                "yshift": 15,
                "z": 13.9275
               },
               {
                "font": {
                 "color": "steelblue"
                },
                "showarrow": false,
                "text": "1",
                "x": 39.62,
                "y": 17.351,
                "yshift": 15,
                "z": 12.33
               },
               {
                "font": {
                 "color": "steelblue"
                },
                "showarrow": false,
                "text": "1",
                "x": 40.716499999999996,
                "y": 17.369500000000002,
                "yshift": 15,
                "z": 12.006
               },
               {
                "font": {
                 "color": "steelblue"
                },
                "showarrow": false,
                "text": "1",
                "x": 40.3255,
                "y": 16.5075,
                "yshift": 15,
                "z": 12.7805
               },
               {
                "font": {
                 "color": "steelblue"
                },
                "showarrow": false,
                "text": "1",
                "x": 41.05,
                "y": 16.0255,
                "yshift": 15,
                "z": 13.553999999999998
               },
               {
                "font": {
                 "color": "steelblue"
                },
                "showarrow": false,
                "text": "1",
                "x": 40.0385,
                "y": 15.84,
                "yshift": 15,
                "z": 13.5475
               },
               {
                "font": {
                 "color": "steelblue"
                },
                "showarrow": false,
                "text": "1",
                "x": 40.5025,
                "y": 15.468,
                "yshift": 15,
                "z": 12.881
               },
               {
                "font": {
                 "color": "steelblue"
                },
                "showarrow": false,
                "text": "2",
                "x": 41.9045,
                "y": 15.626000000000001,
                "yshift": 15,
                "z": 14.2915
               },
               {
                "font": {
                 "color": "steelblue"
                },
                "showarrow": false,
                "text": "1",
                "x": 41.838,
                "y": 14.499500000000001,
                "yshift": 15,
                "z": 14.77
               },
               {
                "font": {
                 "color": "steelblue"
                },
                "showarrow": false,
                "text": "ar",
                "x": 42.769000000000005,
                "y": 15.18,
                "yshift": 15,
                "z": 14.993
               },
               {
                "font": {
                 "color": "steelblue"
                },
                "showarrow": false,
                "text": "ar",
                "x": 41.8805,
                "y": 13.454,
                "yshift": 15,
                "z": 15.278
               },
               {
                "font": {
                 "color": "steelblue"
                },
                "showarrow": false,
                "text": "ar",
                "x": 41.025,
                "y": 13.753,
                "yshift": 15,
                "z": 14.6475
               },
               {
                "font": {
                 "color": "steelblue"
                },
                "showarrow": false,
                "text": "ar",
                "x": 42.091,
                "y": 12.3285,
                "yshift": 15,
                "z": 15.875
               },
               {
                "font": {
                 "color": "steelblue"
                },
                "showarrow": false,
                "text": "1",
                "x": 42.961,
                "y": 13.419,
                "yshift": 15,
                "z": 15.914000000000001
               },
               {
                "font": {
                 "color": "steelblue"
                },
                "showarrow": false,
                "text": "1",
                "x": 42.438500000000005,
                "y": 11.2365,
                "yshift": 15,
                "z": 16.351
               },
               {
                "font": {
                 "color": "steelblue"
                },
                "showarrow": false,
                "text": "1",
                "x": 41.296,
                "y": 11.3535,
                "yshift": 15,
                "z": 15.964
               },
               {
                "font": {
                 "color": "steelblue"
                },
                "showarrow": false,
                "text": "1",
                "x": 42.825,
                "y": 10.1745,
                "yshift": 15,
                "z": 16.814
               },
               {
                "font": {
                 "color": "steelblue"
                },
                "showarrow": false,
                "text": "1",
                "x": 43.4405,
                "y": 11.061,
                "yshift": 15,
                "z": 16.73
               },
               {
                "font": {
                 "color": "steelblue"
                },
                "showarrow": false,
                "text": "1",
                "x": 42.072,
                "y": 9.23,
                "yshift": 15,
                "z": 16.880499999999998
               },
               {
                "font": {
                 "color": "steelblue"
                },
                "showarrow": false,
                "text": "2",
                "x": 43.108000000000004,
                "y": 9.2025,
                "yshift": 15,
                "z": 17.2075
               },
               {
                "font": {
                 "color": "steelblue"
                },
                "showarrow": false,
                "text": "2",
                "x": 40.924,
                "y": 9.349,
                "yshift": 15,
                "z": 16.497
               },
               {
                "font": {
                 "color": "steelblue"
                },
                "showarrow": false,
                "text": "1",
                "x": 41.341,
                "y": 8.4275,
                "yshift": 15,
                "z": 16.903
               },
               {
                "font": {
                 "color": "steelblue"
                },
                "showarrow": false,
                "text": "1",
                "x": 39.75749999999999,
                "y": 9.486999999999998,
                "yshift": 15,
                "z": 16.104
               },
               {
                "font": {
                 "color": "steelblue"
                },
                "showarrow": false,
                "text": "ar",
                "x": 40.534499999999994,
                "y": 10.410499999999999,
                "yshift": 15,
                "z": 16.0435
               },
               {
                "font": {
                 "color": "steelblue"
                },
                "showarrow": false,
                "text": "ar",
                "x": 38.941,
                "y": 8.7775,
                "yshift": 15,
                "z": 15.445
               },
               {
                "font": {
                 "color": "steelblue"
                },
                "showarrow": false,
                "text": "ar",
                "x": 38.727,
                "y": 9.3715,
                "yshift": 15,
                "z": 16.306
               },
               {
                "font": {
                 "color": "steelblue"
                },
                "showarrow": false,
                "text": "ar",
                "x": 39.4135,
                "y": 7.9415000000000004,
                "yshift": 15,
                "z": 14.721
               },
               {
                "font": {
                 "color": "steelblue"
                },
                "showarrow": false,
                "text": "ar",
                "x": 38.212500000000006,
                "y": 7.8575,
                "yshift": 15,
                "z": 15.133
               },
               {
                "font": {
                 "color": "steelblue"
                },
                "showarrow": false,
                "text": "1",
                "x": 38.599000000000004,
                "y": 8.595,
                "yshift": 15,
                "z": 14.4575
               },
               {
                "font": {
                 "color": "steelblue"
                },
                "showarrow": false,
                "text": "1",
                "x": 39.8895,
                "y": 6.9835,
                "yshift": 15,
                "z": 14.065999999999999
               },
               {
                "font": {
                 "color": "steelblue"
                },
                "showarrow": false,
                "text": "ar",
                "x": 40.4045,
                "y": 7.899,
                "yshift": 15,
                "z": 14.295
               },
               {
                "font": {
                 "color": "steelblue"
                },
                "showarrow": false,
                "text": "1",
                "x": 40.2705,
                "y": 7.351,
                "yshift": 15,
                "z": 14.998999999999999
               },
               {
                "font": {
                 "color": "steelblue"
                },
                "showarrow": false,
                "text": "1",
                "x": 39.239000000000004,
                "y": 5.9830000000000005,
                "yshift": 15,
                "z": 13.923
               },
               {
                "font": {
                 "color": "steelblue"
                },
                "showarrow": false,
                "text": "1",
                "x": 39.5205,
                "y": 6.607,
                "yshift": 15,
                "z": 13.123999999999999
               },
               {
                "font": {
                 "color": "steelblue"
                },
                "showarrow": false,
                "text": "1",
                "x": 40.184,
                "y": 6.125500000000001,
                "yshift": 15,
                "z": 13.472999999999999
               },
               {
                "font": {
                 "color": "steelblue"
                },
                "showarrow": false,
                "text": "1",
                "x": 38.6775,
                "y": 4.7915,
                "yshift": 15,
                "z": 13.855
               },
               {
                "font": {
                 "color": "steelblue"
                },
                "showarrow": false,
                "text": "2",
                "x": 38.1075,
                "y": 5.899,
                "yshift": 15,
                "z": 14.316500000000001
               },
               {
                "font": {
                 "color": "steelblue"
                },
                "showarrow": false,
                "text": "ar",
                "x": 38.641000000000005,
                "y": 4.140499999999999,
                "yshift": 15,
                "z": 12.714
               },
               {
                "font": {
                 "color": "steelblue"
                },
                "showarrow": false,
                "text": "1",
                "x": 37.938,
                "y": 3.7315,
                "yshift": 15,
                "z": 13.6355
               },
               {
                "font": {
                 "color": "steelblue"
                },
                "showarrow": false,
                "text": "ar",
                "x": 39.2415,
                "y": 3.451,
                "yshift": 15,
                "z": 13.7135
               },
               {
                "font": {
                 "color": "steelblue"
                },
                "showarrow": false,
                "text": "1",
                "x": 39.832499999999996,
                "y": 2.7104999999999997,
                "yshift": 15,
                "z": 14.6955
               },
               {
                "font": {
                 "color": "steelblue"
                },
                "showarrow": false,
                "text": "1",
                "x": 39.8235,
                "y": 2.411,
                "yshift": 15,
                "z": 13.6795
               },
               {
                "font": {
                 "color": "steelblue"
                },
                "showarrow": false,
                "text": "1",
                "x": 40.3655,
                "y": 3.112,
                "yshift": 15,
                "z": 13.880500000000001
               },
               {
                "font": {
                 "color": "steelblue"
                },
                "showarrow": false,
                "text": "1",
                "x": 39.933499999999995,
                "y": 3.0305,
                "yshift": 15,
                "z": 15.9045
               },
               {
                "font": {
                 "color": "steelblue"
                },
                "showarrow": false,
                "text": "1",
                "x": 39.602999999999994,
                "y": 1.9009999999999998,
                "yshift": 15,
                "z": 15.619499999999999
               },
               {
                "font": {
                 "color": "steelblue"
                },
                "showarrow": false,
                "text": "1",
                "x": 40.0355,
                "y": 3.356,
                "yshift": 15,
                "z": 17.067500000000003
               },
               {
                "font": {
                 "color": "steelblue"
                },
                "showarrow": false,
                "text": "1",
                "x": 40.228,
                "y": 4.0215,
                "yshift": 15,
                "z": 16.233
               },
               {
                "font": {
                 "color": "steelblue"
                },
                "showarrow": false,
                "text": "1",
                "x": 39.804,
                "y": 2.553,
                "yshift": 15,
                "z": 17.944
               },
               {
                "font": {
                 "color": "steelblue"
                },
                "showarrow": false,
                "text": "1",
                "x": 40.105000000000004,
                "y": 3.5789999999999997,
                "yshift": 15,
                "z": 18.1265
               },
               {
                "font": {
                 "color": "steelblue"
                },
                "showarrow": false,
                "text": "1",
                "x": 39.4735,
                "y": 1.4235,
                "yshift": 15,
                "z": 17.659
               },
               {
                "font": {
                 "color": "steelblue"
                },
                "showarrow": false,
                "text": "1",
                "x": 39.581,
                "y": 1.7845,
                "yshift": 15,
                "z": 18.6755
               },
               {
                "font": {
                 "color": "steelblue"
                },
                "showarrow": false,
                "text": "1",
                "x": 39.3745,
                "y": 1.097,
                "yshift": 15,
                "z": 16.4975
               },
               {
                "font": {
                 "color": "steelblue"
                },
                "showarrow": false,
                "text": "1",
                "x": 39.184,
                "y": 0.4315,
                "yshift": 15,
                "z": 17.332
               },
               {
                "font": {
                 "color": "steelblue"
                },
                "showarrow": false,
                "text": "1",
                "x": 39.307,
                "y": 0.873,
                "yshift": 15,
                "z": 15.439
               },
               {
                "font": {
                 "color": "steelblue"
                },
                "showarrow": false,
                "text": "1",
                "x": 37.557,
                "y": 6.8155,
                "yshift": 15,
                "z": 14.871500000000001
               },
               {
                "font": {
                 "color": "steelblue"
                },
                "showarrow": false,
                "text": "1",
                "x": 37.3095,
                "y": 6.438000000000001,
                "yshift": 15,
                "z": 13.8905
               },
               {
                "font": {
                 "color": "steelblue"
                },
                "showarrow": false,
                "text": "1",
                "x": 37.079499999999996,
                "y": 5.8945,
                "yshift": 15,
                "z": 14.5595
               },
               {
                "font": {
                 "color": "steelblue"
                },
                "showarrow": false,
                "text": "1",
                "x": 37.1785,
                "y": 7.6745,
                "yshift": 15,
                "z": 15.3955
               },
               {
                "font": {
                 "color": "steelblue"
                },
                "showarrow": false,
                "text": "1",
                "x": 37.78,
                "y": 7.1815,
                "yshift": 15,
                "z": 15.8545
               },
               {
                "font": {
                 "color": "steelblue"
                },
                "showarrow": false,
                "text": "1",
                "x": 40.257,
                "y": 11.382000000000001,
                "yshift": 15,
                "z": 15.648499999999999
               },
               {
                "font": {
                 "color": "steelblue"
                },
                "showarrow": false,
                "text": "1",
                "x": 43.5235,
                "y": 14.5275,
                "yshift": 15,
                "z": 15.727
               },
               {
                "font": {
                 "color": "steelblue"
                },
                "showarrow": false,
                "text": "1",
                "x": 43.793000000000006,
                "y": 15.8385,
                "yshift": 15,
                "z": 15.3645
               },
               {
                "font": {
                 "color": "steelblue"
                },
                "showarrow": false,
                "text": "1",
                "x": 44.8,
                "y": 16.4195,
                "yshift": 15,
                "z": 15.643
               },
               {
                "font": {
                 "color": "steelblue"
                },
                "showarrow": false,
                "text": "1",
                "x": 43.9435,
                "y": 17.027,
                "yshift": 15,
                "z": 15.1945
               }
              ]
             }
            ],
            "label": "Bond Type",
            "method": "relayout"
           },
           {
            "args": [
             {
              "scene.annotations": [
               {
                "showarrow": false,
                "text": "O",
                "x": 41.039,
                "y": 17.188,
                "yshift": 15,
                "z": 11.242
               },
               {
                "showarrow": false,
                "text": "C",
                "x": 40.735,
                "y": 17.514,
                "yshift": 15,
                "z": 12.421
               },
               {
                "showarrow": false,
                "text": "O",
                "x": 40.373,
                "y": 18.806,
                "yshift": 15,
                "z": 12.715
               },
               {
                "showarrow": false,
                "text": "C",
                "x": 40.775,
                "y": 16.529,
                "yshift": 15,
                "z": 13.51
               },
               {
                "showarrow": false,
                "text": "O",
                "x": 42.056,
                "y": 15.953,
                "yshift": 15,
                "z": 13.53
               },
               {
                "showarrow": false,
                "text": "C",
                "x": 42.358,
                "y": 15.038,
                "yshift": 15,
                "z": 14.508
               },
               {
                "showarrow": false,
                "text": "C",
                "x": 43.256,
                "y": 15.323,
                "yshift": 15,
                "z": 15.509
               },
               {
                "showarrow": false,
                "text": "C",
                "x": 43.917,
                "y": 16.597,
                "yshift": 15,
                "z": 15.777
               },
               {
                "showarrow": false,
                "text": "O",
                "x": 43.649,
                "y": 17.652,
                "yshift": 15,
                "z": 15.139
               },
               {
                "showarrow": false,
                "text": "O",
                "x": 44.856,
                "y": 16.621,
                "yshift": 15,
                "z": 16.78
               },
               {
                "showarrow": false,
                "text": "S",
                "x": 43.357,
                "y": 13.98,
                "yshift": 15,
                "z": 16.515
               },
               {
                "showarrow": false,
                "text": "C",
                "x": 42.242,
                "y": 13.02,
                "yshift": 15,
                "z": 15.683
               },
               {
                "showarrow": false,
                "text": "C",
                "x": 41.93,
                "y": 11.624,
                "yshift": 15,
                "z": 16.062
               },
               {
                "showarrow": false,
                "text": "C",
                "x": 42.944,
                "y": 10.838,
                "yshift": 15,
                "z": 16.638
               },
               {
                "showarrow": false,
                "text": "C",
                "x": 42.707,
                "y": 9.503,
                "yshift": 15,
                "z": 16.987
               },
               {
                "showarrow": false,
                "text": "C",
                "x": 41.439,
                "y": 8.945,
                "yshift": 15,
                "z": 16.773
               },
               {
                "showarrow": false,
                "text": "C",
                "x": 40.409,
                "y": 9.736,
                "yshift": 15,
                "z": 16.226
               },
               {
                "showarrow": false,
                "text": "N",
                "x": 39.103,
                "y": 9.223,
                "yshift": 15,
                "z": 15.992
               },
               {
                "showarrow": false,
                "text": "C",
                "x": 38.749,
                "y": 8.357,
                "yshift": 15,
                "z": 14.885
               },
               {
                "showarrow": false,
                "text": "C",
                "x": 39.987,
                "y": 7.552,
                "yshift": 15,
                "z": 14.535
               },
               {
                "showarrow": false,
                "text": "C",
                "x": 39.71,
                "y": 6.561,
                "yshift": 15,
                "z": 13.419
               },
               {
                "showarrow": false,
                "text": "N",
                "x": 38.481,
                "y": 5.785,
                "yshift": 15,
                "z": 13.615
               },
               {
                "showarrow": false,
                "text": "S",
                "x": 38.713,
                "y": 4.094,
                "yshift": 15,
                "z": 13.851
               },
               {
                "showarrow": false,
                "text": "O",
                "x": 37.419,
                "y": 3.343,
                "yshift": 15,
                "z": 13.936
               },
               {
                "showarrow": false,
                "text": "O",
                "x": 39.66,
                "y": 3.51,
                "yshift": 15,
                "z": 12.845
               },
               {
                "showarrow": false,
                "text": "C",
                "x": 39.5,
                "y": 3.93,
                "yshift": 15,
                "z": 15.446
               },
               {
                "showarrow": false,
                "text": "C",
                "x": 39.94,
                "y": 2.526,
                "yshift": 15,
                "z": 15.686
               },
               {
                "showarrow": false,
                "text": "C",
                "x": 39.035,
                "y": 1.583,
                "yshift": 15,
                "z": 16.185
               },
               {
                "showarrow": false,
                "text": "C",
                "x": 39.444,
                "y": 0.263,
                "yshift": 15,
                "z": 16.396
               },
               {
                "showarrow": false,
                "text": "C",
                "x": 40.758,
                "y": -0.116,
                "yshift": 15,
                "z": 16.107
               },
               {
                "showarrow": false,
                "text": "C",
                "x": 41.663,
                "y": 0.824,
                "yshift": 15,
                "z": 15.605
               },
               {
                "showarrow": false,
                "text": "C",
                "x": 41.255,
                "y": 2.144,
                "yshift": 15,
                "z": 15.393
               },
               {
                "showarrow": false,
                "text": "C",
                "x": 37.31,
                "y": 6.381,
                "yshift": 15,
                "z": 14.27
               },
               {
                "showarrow": false,
                "text": "C",
                "x": 37.661,
                "y": 7.397,
                "yshift": 15,
                "z": 15.346
               },
               {
                "showarrow": false,
                "text": "C",
                "x": 40.656,
                "y": 11.068,
                "yshift": 15,
                "z": 15.876
               },
               {
                "showarrow": false,
                "text": "C",
                "x": 41.78,
                "y": 13.756,
                "yshift": 15,
                "z": 14.586
               },
               {
                "showarrow": false,
                "text": "Br",
                "x": 40.555,
                "y": 13.098,
                "yshift": 15,
                "z": 13.269
               },
               {
                "showarrow": false,
                "text": "H",
                "x": 40.575,
                "y": 17.028,
                "yshift": 15,
                "z": 14.47
               },
               {
                "showarrow": false,
                "text": "H",
                "x": 40.01,
                "y": 15.755,
                "yshift": 15,
                "z": 13.351
               },
               {
                "showarrow": false,
                "text": "H",
                "x": 43.936,
                "y": 11.278,
                "yshift": 15,
                "z": 16.816
               },
               {
                "showarrow": false,
                "text": "H",
                "x": 43.512,
                "y": 8.895,
                "yshift": 15,
                "z": 17.426
               },
               {
                "showarrow": false,
                "text": "H",
                "x": 41.248,
                "y": 7.893,
                "yshift": 15,
                "z": 17.031
               },
               {
                "showarrow": false,
                "text": "H",
                "x": 38.358,
                "y": 9.483,
                "yshift": 15,
                "z": 16.654
               },
               {
                "showarrow": false,
                "text": "H",
                "x": 38.394,
                "y": 8.939,
                "yshift": 15,
                "z": 14.021
               },
               {
                "showarrow": false,
                "text": "H",
                "x": 40.782,
                "y": 8.24,
                "yshift": 15,
                "z": 14.213
               },
               {
                "showarrow": false,
                "text": "H",
                "x": 40.294,
                "y": 6.988,
                "yshift": 15,
                "z": 15.428
               },
               {
                "showarrow": false,
                "text": "H",
                "x": 39.624,
                "y": 7.117,
                "yshift": 15,
                "z": 12.473
               },
               {
                "showarrow": false,
                "text": "H",
                "x": 40.546,
                "y": 5.845,
                "yshift": 15,
                "z": 13.407
               },
               {
                "showarrow": false,
                "text": "H",
                "x": 40.377,
                "y": 4.593,
                "yshift": 15,
                "z": 15.483
               },
               {
                "showarrow": false,
                "text": "H",
                "x": 38.773,
                "y": 4.206,
                "yshift": 15,
                "z": 16.224
               },
               {
                "showarrow": false,
                "text": "H",
                "x": 38,
                "y": 1.881,
                "yshift": 15,
                "z": 16.411
               },
               {
                "showarrow": false,
                "text": "H",
                "x": 38.732,
                "y": -0.477,
                "yshift": 15,
                "z": 16.79
               },
               {
                "showarrow": false,
                "text": "H",
                "x": 41.08,
                "y": -1.155,
                "yshift": 15,
                "z": 16.274
               },
               {
                "showarrow": false,
                "text": "H",
                "x": 42.697,
                "y": 0.525,
                "yshift": 15,
                "z": 15.377
               },
               {
                "showarrow": false,
                "text": "H",
                "x": 41.967,
                "y": 2.883,
                "yshift": 15,
                "z": 14.997
               },
               {
                "showarrow": false,
                "text": "H",
                "x": 36.702,
                "y": 6.883,
                "yshift": 15,
                "z": 13.503
               },
               {
                "showarrow": false,
                "text": "H",
                "x": 36.768,
                "y": 5.562,
                "yshift": 15,
                "z": 14.765
               },
               {
                "showarrow": false,
                "text": "H",
                "x": 36.76,
                "y": 7.975,
                "yshift": 15,
                "z": 15.598
               },
               {
                "showarrow": false,
                "text": "H",
                "x": 38.038,
                "y": 6.85,
                "yshift": 15,
                "z": 16.223
               },
               {
                "showarrow": false,
                "text": "H",
                "x": 39.847,
                "y": 11.681,
                "yshift": 15,
                "z": 15.453
               },
               {
                "font": {
                 "color": "steelblue"
                },
                "showarrow": false,
                "text": 1.77,
                "x": 40.887,
                "y": 17.351,
                "yshift": 15,
                "z": 11.8315
               },
               {
                "font": {
                 "color": "steelblue"
                },
                "showarrow": false,
                "text": 1.77,
                "x": 40.554,
                "y": 18.16,
                "yshift": 15,
                "z": 12.568
               },
               {
                "font": {
                 "color": "steelblue"
                },
                "showarrow": false,
                "text": 1.77,
                "x": 40.754999999999995,
                "y": 17.0215,
                "yshift": 15,
                "z": 12.965499999999999
               },
               {
                "font": {
                 "color": "steelblue"
                },
                "showarrow": false,
                "text": 1.77,
                "x": 41.415499999999994,
                "y": 16.241,
                "yshift": 15,
                "z": 13.52
               },
               {
                "font": {
                 "color": "steelblue"
                },
                "showarrow": false,
                "text": 1.18,
                "x": 40.675,
                "y": 16.7785,
                "yshift": 15,
                "z": 13.99
               },
               {
                "font": {
                 "color": "steelblue"
                },
                "showarrow": false,
                "text": 1.18,
                "x": 40.3925,
                "y": 16.142,
                "yshift": 15,
                "z": 13.4305
               },
               {
                "font": {
                 "color": "steelblue"
                },
                "showarrow": false,
                "text": 1.77,
                "x": 42.206999999999994,
                "y": 15.4955,
                "yshift": 15,
                "z": 14.018999999999998
               },
               {
                "font": {
                 "color": "steelblue"
                },
                "showarrow": false,
                "text": 1.77,
                "x": 42.807,
                "y": 15.1805,
                "yshift": 15,
                "z": 15.0085
               },
               {
                "font": {
                 "color": "steelblue"
                },
                "showarrow": false,
                "text": 1.77,
                "x": 42.069,
                "y": 14.397,
                "yshift": 15,
                "z": 14.547
               },
               {
                "font": {
                 "color": "steelblue"
                },
                "showarrow": false,
                "text": 1.77,
                "x": 43.5865,
                "y": 15.96,
                "yshift": 15,
                "z": 15.643
               },
               {
                "font": {
                 "color": "steelblue"
                },
                "showarrow": false,
                "text": 2.21,
                "x": 43.3065,
                "y": 14.6515,
                "yshift": 15,
                "z": 16.012
               },
               {
                "font": {
                 "color": "steelblue"
                },
                "showarrow": false,
                "text": 1.77,
                "x": 43.783,
                "y": 17.1245,
                "yshift": 15,
                "z": 15.457999999999998
               },
               {
                "font": {
                 "color": "steelblue"
                },
                "showarrow": false,
                "text": 1.77,
                "x": 44.3865,
                "y": 16.609,
                "yshift": 15,
                "z": 16.2785
               },
               {
                "font": {
                 "color": "steelblue"
                },
                "showarrow": false,
                "text": 2.21,
                "x": 42.799499999999995,
                "y": 13.5,
                "yshift": 15,
                "z": 16.099
               },
               {
                "font": {
                 "color": "steelblue"
                },
                "showarrow": false,
                "text": 1.77,
                "x": 42.086,
                "y": 12.322,
                "yshift": 15,
                "z": 15.8725
               },
               {
                "font": {
                 "color": "steelblue"
                },
                "showarrow": false,
                "text": 1.77,
                "x": 42.010999999999996,
                "y": 13.388,
                "yshift": 15,
                "z": 15.1345
               },
               {
                "font": {
                 "color": "steelblue"
                },
                "showarrow": false,
                "text": 1.77,
                "x": 42.437,
                "y": 11.231,
                "yshift": 15,
                "z": 16.35
               },
               {
                "font": {
                 "color": "steelblue"
                },
                "showarrow": false,
                "text": 1.77,
                "x": 41.293,
                "y": 11.346,
                "yshift": 15,
                "z": 15.969000000000001
               },
               {
                "font": {
                 "color": "steelblue"
                },
                "showarrow": false,
                "text": 1.77,
                "x": 42.825500000000005,
                "y": 10.1705,
                "yshift": 15,
                "z": 16.8125
               },
               {
                "font": {
                 "color": "steelblue"
                },
                "showarrow": false,
                "text": 1.18,
                "x": 43.44,
                "y": 11.058,
                "yshift": 15,
                "z": 16.727
               },
               {
                "font": {
                 "color": "steelblue"
                },
                "showarrow": false,
                "text": 1.77,
                "x": 42.073,
                "y": 9.224,
                "yshift": 15,
                "z": 16.88
               },
               {
                "font": {
                 "color": "steelblue"
                },
                "showarrow": false,
                "text": 1.18,
                "x": 43.1095,
                "y": 9.199,
                "yshift": 15,
                "z": 17.2065
               },
               {
                "font": {
                 "color": "steelblue"
                },
                "showarrow": false,
                "text": 1.77,
                "x": 40.924,
                "y": 9.3405,
                "yshift": 15,
                "z": 16.499499999999998
               },
               {
                "font": {
                 "color": "steelblue"
                },
                "showarrow": false,
                "text": 1.18,
                "x": 41.3435,
                "y": 8.419,
                "yshift": 15,
                "z": 16.902
               },
               {
                "font": {
                 "color": "steelblue"
                },
                "showarrow": false,
                "text": 1.77,
                "x": 39.756,
                "y": 9.479500000000002,
                "yshift": 15,
                "z": 16.109
               },
               {
                "font": {
                 "color": "steelblue"
                },
                "showarrow": false,
                "text": 1.77,
                "x": 40.5325,
                "y": 10.402000000000001,
                "yshift": 15,
                "z": 16.051
               },
               {
                "font": {
                 "color": "steelblue"
                },
                "showarrow": false,
                "text": 1.77,
                "x": 38.926,
                "y": 8.79,
                "yshift": 15,
                "z": 15.438500000000001
               },
               {
                "font": {
                 "color": "steelblue"
                },
                "showarrow": false,
                "text": 1.18,
                "x": 38.7305,
                "y": 9.353000000000002,
                "yshift": 15,
                "z": 16.323
               },
               {
                "font": {
                 "color": "steelblue"
                },
                "showarrow": false,
                "text": 1.77,
                "x": 39.368,
                "y": 7.9544999999999995,
                "yshift": 15,
                "z": 14.71
               },
               {
                "font": {
                 "color": "steelblue"
                },
                "showarrow": false,
                "text": 1.77,
                "x": 38.205,
                "y": 7.877,
                "yshift": 15,
                "z": 15.1155
               },
               {
                "font": {
                 "color": "steelblue"
                },
                "showarrow": false,
                "text": 1.18,
                "x": 38.5715,
                "y": 8.648,
                "yshift": 15,
                "z": 14.453
               },
               {
                "font": {
                 "color": "steelblue"
                },
                "showarrow": false,
                "text": 1.77,
                "x": 39.8485,
                "y": 7.0565,
                "yshift": 15,
                "z": 13.977
               },
               {
                "font": {
                 "color": "steelblue"
                },
                "showarrow": false,
                "text": 1.18,
                "x": 40.3845,
                "y": 7.896,
                "yshift": 15,
                "z": 14.373999999999999
               },
               {
                "font": {
                 "color": "steelblue"
                },
                "showarrow": false,
                "text": 1.18,
                "x": 40.1405,
                "y": 7.27,
                "yshift": 15,
                "z": 14.9815
               },
               {
                "font": {
                 "color": "steelblue"
                },
                "showarrow": false,
                "text": 1.77,
                "x": 39.0955,
                "y": 6.173,
                "yshift": 15,
                "z": 13.517
               },
               {
                "font": {
                 "color": "steelblue"
                },
                "showarrow": false,
                "text": 1.18,
                "x": 39.667,
                "y": 6.839,
                "yshift": 15,
                "z": 12.946000000000002
               },
               {
                "font": {
                 "color": "steelblue"
                },
                "showarrow": false,
                "text": 1.18,
                "x": 40.128,
                "y": 6.202999999999999,
                "yshift": 15,
                "z": 13.413
               },
               {
                "font": {
                 "color": "steelblue"
                },
                "showarrow": false,
                "text": 2.21,
                "x": 38.597,
                "y": 4.939500000000001,
                "yshift": 15,
                "z": 13.733
               },
               {
                "font": {
                 "color": "steelblue"
                },
                "showarrow": false,
                "text": 1.77,
                "x": 37.8955,
                "y": 6.083,
                "yshift": 15,
                "z": 13.942499999999999
               },
               {
                "font": {
                 "color": "steelblue"
                },
                "showarrow": false,
                "text": 2.21,
                "x": 38.066,
                "y": 3.7185,
                "yshift": 15,
                "z": 13.8935
               },
               {
                "font": {
                 "color": "steelblue"
                },
                "showarrow": false,
                "text": 2.21,
                "x": 39.186499999999995,
                "y": 3.802,
                "yshift": 15,
                "z": 13.348
               },
               {
                "font": {
                 "color": "steelblue"
                },
                "showarrow": false,
                "text": 2.21,
                "x": 39.1065,
                "y": 4.0120000000000005,
                "yshift": 15,
                "z": 14.6485
               },
               {
                "font": {
                 "color": "steelblue"
                },
                "showarrow": false,
                "text": 1.77,
                "x": 39.72,
                "y": 3.2279999999999998,
                "yshift": 15,
                "z": 15.565999999999999
               },
               {
                "font": {
                 "color": "steelblue"
                },
                "showarrow": false,
                "text": 1.18,
                "x": 39.938500000000005,
                "y": 4.2615,
                "yshift": 15,
                "z": 15.464500000000001
               },
               {
                "font": {
                 "color": "steelblue"
                },
                "showarrow": false,
                "text": 1.18,
                "x": 39.1365,
                "y": 4.0680000000000005,
                "yshift": 15,
                "z": 15.835
               },
               {
                "font": {
                 "color": "steelblue"
                },
                "showarrow": false,
                "text": 1.77,
                "x": 39.4875,
                "y": 2.0545,
                "yshift": 15,
                "z": 15.9355
               },
               {
                "font": {
                 "color": "steelblue"
                },
                "showarrow": false,
                "text": 1.77,
                "x": 40.5975,
                "y": 2.335,
                "yshift": 15,
                "z": 15.5395
               },
               {
                "font": {
                 "color": "steelblue"
                },
                "showarrow": false,
                "text": 1.77,
                "x": 39.2395,
                "y": 0.923,
                "yshift": 15,
                "z": 16.2905
               },
               {
                "font": {
                 "color": "steelblue"
                },
                "showarrow": false,
                "text": 1.18,
                "x": 38.5175,
                "y": 1.732,
                "yshift": 15,
                "z": 16.298000000000002
               },
               {
                "font": {
                 "color": "steelblue"
                },
                "showarrow": false,
                "text": 1.77,
                "x": 40.101,
                "y": 0.07350000000000001,
                "yshift": 15,
                "z": 16.2515
               },
               {
                "font": {
                 "color": "steelblue"
                },
                "showarrow": false,
                "text": 1.18,
                "x": 39.088,
                "y": -0.10699999999999998,
                "yshift": 15,
                "z": 16.593
               },
               {
                "font": {
                 "color": "steelblue"
                },
                "showarrow": false,
                "text": 1.77,
                "x": 41.210499999999996,
                "y": 0.354,
                "yshift": 15,
                "z": 15.856
               },
               {
                "font": {
                 "color": "steelblue"
                },
                "showarrow": false,
                "text": 1.18,
                "x": 40.919,
                "y": -0.6355000000000001,
                "yshift": 15,
                "z": 16.1905
               },
               {
                "font": {
                 "color": "steelblue"
                },
                "showarrow": false,
                "text": 1.77,
                "x": 41.459,
                "y": 1.484,
                "yshift": 15,
                "z": 15.499
               },
               {
                "font": {
                 "color": "steelblue"
                },
                "showarrow": false,
                "text": 1.18,
                "x": 42.18,
                "y": 0.6745,
                "yshift": 15,
                "z": 15.491
               },
               {
                "font": {
                 "color": "steelblue"
                },
                "showarrow": false,
                "text": 1.18,
                "x": 41.611000000000004,
                "y": 2.5135,
                "yshift": 15,
                "z": 15.195
               },
               {
                "font": {
                 "color": "steelblue"
                },
                "showarrow": false,
                "text": 1.77,
                "x": 37.4855,
                "y": 6.889,
                "yshift": 15,
                "z": 14.808
               },
               {
                "font": {
                 "color": "steelblue"
                },
                "showarrow": false,
                "text": 1.18,
                "x": 37.006,
                "y": 6.632,
                "yshift": 15,
                "z": 13.8865
               },
               {
                "font": {
                 "color": "steelblue"
                },
                "showarrow": false,
                "text": 1.18,
                "x": 37.039,
                "y": 5.971500000000001,
                "yshift": 15,
                "z": 14.5175
               },
               {
                "font": {
                 "color": "steelblue"
                },
                "showarrow": false,
                "text": 1.18,
                "x": 37.210499999999996,
                "y": 7.686,
                "yshift": 15,
                "z": 15.472000000000001
               },
               {
                "font": {
                 "color": "steelblue"
                },
                "showarrow": false,
                "text": 1.18,
                "x": 37.8495,
                "y": 7.1235,
                "yshift": 15,
                "z": 15.7845
               },
               {
                "font": {
                 "color": "steelblue"
                },
                "showarrow": false,
                "text": 1.18,
                "x": 40.2515,
                "y": 11.3745,
                "yshift": 15,
                "z": 15.6645
               },
               {
                "font": {
                 "color": "steelblue"
                },
                "showarrow": false,
                "text": 2.46,
                "x": 41.167500000000004,
                "y": 13.427,
                "yshift": 15,
                "z": 13.9275
               },
               {
                "showarrow": false,
                "text": "O",
                "x": 39.044,
                "y": 17.603,
                "yshift": 15,
                "z": 12.296
               },
               {
                "showarrow": false,
                "text": "C",
                "x": 40.196,
                "y": 17.099,
                "yshift": 15,
                "z": 12.364
               },
               {
                "showarrow": false,
                "text": "O",
                "x": 41.237,
                "y": 17.64,
                "yshift": 15,
                "z": 11.648
               },
               {
                "showarrow": false,
                "text": "C",
                "x": 40.455,
                "y": 15.916,
                "yshift": 15,
                "z": 13.197
               },
               {
                "showarrow": false,
                "text": "O",
                "x": 41.645,
                "y": 16.135,
                "yshift": 15,
                "z": 13.911
               },
               {
                "showarrow": false,
                "text": "C",
                "x": 42.164,
                "y": 15.117,
                "yshift": 15,
                "z": 14.672
               },
               {
                "showarrow": false,
                "text": "C",
                "x": 41.512,
                "y": 13.882,
                "yshift": 15,
                "z": 14.868
               },
               {
                "showarrow": false,
                "text": "C",
                "x": 42.249,
                "y": 13.026,
                "yshift": 15,
                "z": 15.688
               },
               {
                "showarrow": false,
                "text": "C",
                "x": 41.933,
                "y": 11.631,
                "yshift": 15,
                "z": 16.062
               },
               {
                "showarrow": false,
                "text": "C",
                "x": 42.944,
                "y": 10.842,
                "yshift": 15,
                "z": 16.64
               },
               {
                "showarrow": false,
                "text": "C",
                "x": 42.706,
                "y": 9.507,
                "yshift": 15,
                "z": 16.988
               },
               {
                "showarrow": false,
                "text": "C",
                "x": 41.438,
                "y": 8.953,
                "yshift": 15,
                "z": 16.773
               },
               {
                "showarrow": false,
                "text": "C",
                "x": 40.41,
                "y": 9.745,
                "yshift": 15,
                "z": 16.221
               },
               {
                "showarrow": false,
                "text": "N",
                "x": 39.105,
                "y": 9.229,
                "yshift": 15,
                "z": 15.987
               },
               {
                "showarrow": false,
                "text": "C",
                "x": 38.777,
                "y": 8.326,
                "yshift": 15,
                "z": 14.903
               },
               {
                "showarrow": false,
                "text": "C",
                "x": 40.05,
                "y": 7.557,
                "yshift": 15,
                "z": 14.539
               },
               {
                "showarrow": false,
                "text": "C",
                "x": 39.729,
                "y": 6.41,
                "yshift": 15,
                "z": 13.593
               },
               {
                "showarrow": false,
                "text": "N",
                "x": 38.749,
                "y": 5.556,
                "yshift": 15,
                "z": 14.253
               },
               {
                "showarrow": false,
                "text": "S",
                "x": 38.606,
                "y": 4.027,
                "yshift": 15,
                "z": 13.457
               },
               {
                "showarrow": false,
                "text": "O",
                "x": 38.676,
                "y": 4.254,
                "yshift": 15,
                "z": 11.971
               },
               {
                "showarrow": false,
                "text": "O",
                "x": 37.27,
                "y": 3.436,
                "yshift": 15,
                "z": 13.814
               },
               {
                "showarrow": false,
                "text": "C",
                "x": 39.877,
                "y": 2.875,
                "yshift": 15,
                "z": 13.97
               },
               {
                "showarrow": false,
                "text": "C",
                "x": 39.788,
                "y": 2.546,
                "yshift": 15,
                "z": 15.421
               },
               {
                "showarrow": false,
                "text": "C",
                "x": 40.079,
                "y": 3.515,
                "yshift": 15,
                "z": 16.388
               },
               {
                "showarrow": false,
                "text": "C",
                "x": 39.992,
                "y": 3.197,
                "yshift": 15,
                "z": 17.747
               },
               {
                "showarrow": false,
                "text": "C",
                "x": 39.616,
                "y": 1.909,
                "yshift": 15,
                "z": 18.141
               },
               {
                "showarrow": false,
                "text": "C",
                "x": 39.331,
                "y": 0.938,
                "yshift": 15,
                "z": 17.177
               },
               {
                "showarrow": false,
                "text": "C",
                "x": 39.418,
                "y": 1.256,
                "yshift": 15,
                "z": 15.818
               },
               {
                "showarrow": false,
                "text": "C",
                "x": 37.466,
                "y": 6.242,
                "yshift": 15,
                "z": 14.38
               },
               {
                "showarrow": false,
                "text": "C",
                "x": 37.648,
                "y": 7.389,
                "yshift": 15,
                "z": 15.363
               },
               {
                "showarrow": false,
                "text": "C",
                "x": 40.659,
                "y": 11.076,
                "yshift": 15,
                "z": 15.866
               },
               {
                "showarrow": false,
                "text": "S",
                "x": 43.673,
                "y": 13.812,
                "yshift": 15,
                "z": 16.14
               },
               {
                "showarrow": false,
                "text": "C",
                "x": 43.374,
                "y": 15.243,
                "yshift": 15,
                "z": 15.314
               },
               {
                "showarrow": false,
                "text": "C",
                "x": 44.212,
                "y": 16.434,
                "yshift": 15,
                "z": 15.415
               },
               {
                "showarrow": false,
                "text": "O",
                "x": 45.388,
                "y": 16.405,
                "yshift": 15,
                "z": 15.871
               },
               {
                "showarrow": false,
                "text": "O",
                "x": 43.675,
                "y": 17.62,
                "yshift": 15,
                "z": 14.974
               },
               {
                "showarrow": false,
                "text": "H",
                "x": 39.622,
                "y": 15.764,
                "yshift": 15,
                "z": 13.898
               },
               {
                "showarrow": false,
                "text": "H",
                "x": 40.55,
                "y": 15.02,
                "yshift": 15,
                "z": 12.565
               },
               {
                "showarrow": false,
                "text": "H",
                "x": 40.538,
                "y": 13.624,
                "yshift": 15,
                "z": 14.427
               },
               {
                "showarrow": false,
                "text": "H",
                "x": 43.937,
                "y": 11.28,
                "yshift": 15,
                "z": 16.82
               },
               {
                "showarrow": false,
                "text": "H",
                "x": 43.51,
                "y": 8.898,
                "yshift": 15,
                "z": 17.427
               },
               {
                "showarrow": false,
                "text": "H",
                "x": 41.244,
                "y": 7.902,
                "yshift": 15,
                "z": 17.033
               },
               {
                "showarrow": false,
                "text": "H",
                "x": 38.349,
                "y": 9.514,
                "yshift": 15,
                "z": 16.625
               },
               {
                "showarrow": false,
                "text": "H",
                "x": 38.421,
                "y": 8.864,
                "yshift": 15,
                "z": 14.012
               },
               {
                "showarrow": false,
                "text": "H",
                "x": 40.759,
                "y": 8.241,
                "yshift": 15,
                "z": 14.051
               },
               {
                "showarrow": false,
                "text": "H",
                "x": 40.491,
                "y": 7.145,
                "yshift": 15,
                "z": 15.459
               },
               {
                "showarrow": false,
                "text": "H",
                "x": 39.312,
                "y": 6.804,
                "yshift": 15,
                "z": 12.655
               },
               {
                "showarrow": false,
                "text": "H",
                "x": 40.639,
                "y": 5.841,
                "yshift": 15,
                "z": 13.353
               },
               {
                "showarrow": false,
                "text": "H",
                "x": 39.77,
                "y": 1.947,
                "yshift": 15,
                "z": 13.389
               },
               {
                "showarrow": false,
                "text": "H",
                "x": 40.854,
                "y": 3.349,
                "yshift": 15,
                "z": 13.791
               },
               {
                "showarrow": false,
                "text": "H",
                "x": 40.377,
                "y": 4.528,
                "yshift": 15,
                "z": 16.078
               },
               {
                "showarrow": false,
                "text": "H",
                "x": 40.218,
                "y": 3.961,
                "yshift": 15,
                "z": 18.506
               },
               {
                "showarrow": false,
                "text": "H",
                "x": 39.546,
                "y": 1.66,
                "yshift": 15,
                "z": 19.21
               },
               {
                "showarrow": false,
                "text": "H",
                "x": 39.037,
                "y": -0.075,
                "yshift": 15,
                "z": 17.487
               },
               {
                "showarrow": false,
                "text": "H",
                "x": 39.196,
                "y": 0.49,
                "yshift": 15,
                "z": 15.06
               },
               {
                "showarrow": false,
                "text": "H",
                "x": 37.153,
                "y": 6.634,
                "yshift": 15,
                "z": 13.401
               },
               {
                "showarrow": false,
                "text": "H",
                "x": 36.693,
                "y": 5.547,
                "yshift": 15,
                "z": 14.739
               },
               {
                "showarrow": false,
                "text": "H",
                "x": 36.709,
                "y": 7.96,
                "yshift": 15,
                "z": 15.428
               },
               {
                "showarrow": false,
                "text": "H",
                "x": 37.912,
                "y": 6.974,
                "yshift": 15,
                "z": 16.346
               },
               {
                "showarrow": false,
                "text": "H",
                "x": 39.855,
                "y": 11.688,
                "yshift": 15,
                "z": 15.431
               },
               {
                "font": {
                 "color": "steelblue"
                },
                "showarrow": false,
                "text": 1.77,
                "x": 39.62,
                "y": 17.351,
                "yshift": 15,
                "z": 12.33
               },
               {
                "font": {
                 "color": "steelblue"
                },
                "showarrow": false,
                "text": 1.77,
                "x": 40.716499999999996,
                "y": 17.369500000000002,
                "yshift": 15,
                "z": 12.006
               },
               {
                "font": {
                 "color": "steelblue"
                },
                "showarrow": false,
                "text": 1.77,
                "x": 40.3255,
                "y": 16.5075,
                "yshift": 15,
                "z": 12.7805
               },
               {
                "font": {
                 "color": "steelblue"
                },
                "showarrow": false,
                "text": 1.77,
                "x": 41.05,
                "y": 16.0255,
                "yshift": 15,
                "z": 13.553999999999998
               },
               {
                "font": {
                 "color": "steelblue"
                },
                "showarrow": false,
                "text": 1.18,
                "x": 40.0385,
                "y": 15.84,
                "yshift": 15,
                "z": 13.5475
               },
               {
                "font": {
                 "color": "steelblue"
                },
                "showarrow": false,
                "text": 1.18,
                "x": 40.5025,
                "y": 15.468,
                "yshift": 15,
                "z": 12.881
               },
               {
                "font": {
                 "color": "steelblue"
                },
                "showarrow": false,
                "text": 1.77,
                "x": 41.9045,
                "y": 15.626000000000001,
                "yshift": 15,
                "z": 14.2915
               },
               {
                "font": {
                 "color": "steelblue"
                },
                "showarrow": false,
                "text": 1.77,
                "x": 41.838,
                "y": 14.499500000000001,
                "yshift": 15,
                "z": 14.77
               },
               {
                "font": {
                 "color": "steelblue"
                },
                "showarrow": false,
                "text": 1.77,
                "x": 42.769000000000005,
                "y": 15.18,
                "yshift": 15,
                "z": 14.993
               },
               {
                "font": {
                 "color": "steelblue"
                },
                "showarrow": false,
                "text": 1.77,
                "x": 41.8805,
                "y": 13.454,
                "yshift": 15,
                "z": 15.278
               },
               {
                "font": {
                 "color": "steelblue"
                },
                "showarrow": false,
                "text": 1.18,
                "x": 41.025,
                "y": 13.753,
                "yshift": 15,
                "z": 14.6475
               },
               {
                "font": {
                 "color": "steelblue"
                },
                "showarrow": false,
                "text": 1.77,
                "x": 42.091,
                "y": 12.3285,
                "yshift": 15,
                "z": 15.875
               },
               {
                "font": {
                 "color": "steelblue"
                },
                "showarrow": false,
                "text": 2.21,
                "x": 42.961,
                "y": 13.419,
                "yshift": 15,
                "z": 15.914000000000001
               },
               {
                "font": {
                 "color": "steelblue"
                },
                "showarrow": false,
                "text": 1.77,
                "x": 42.438500000000005,
                "y": 11.2365,
                "yshift": 15,
                "z": 16.351
               },
               {
                "font": {
                 "color": "steelblue"
                },
                "showarrow": false,
                "text": 1.77,
                "x": 41.296,
                "y": 11.3535,
                "yshift": 15,
                "z": 15.964
               },
               {
                "font": {
                 "color": "steelblue"
                },
                "showarrow": false,
                "text": 1.77,
                "x": 42.825,
                "y": 10.1745,
                "yshift": 15,
                "z": 16.814
               },
               {
                "font": {
                 "color": "steelblue"
                },
                "showarrow": false,
                "text": 1.18,
                "x": 43.4405,
                "y": 11.061,
                "yshift": 15,
                "z": 16.73
               },
               {
                "font": {
                 "color": "steelblue"
                },
                "showarrow": false,
                "text": 1.77,
                "x": 42.072,
                "y": 9.23,
                "yshift": 15,
                "z": 16.880499999999998
               },
               {
                "font": {
                 "color": "steelblue"
                },
                "showarrow": false,
                "text": 1.18,
                "x": 43.108000000000004,
                "y": 9.2025,
                "yshift": 15,
                "z": 17.2075
               },
               {
                "font": {
                 "color": "steelblue"
                },
                "showarrow": false,
                "text": 1.77,
                "x": 40.924,
                "y": 9.349,
                "yshift": 15,
                "z": 16.497
               },
               {
                "font": {
                 "color": "steelblue"
                },
                "showarrow": false,
                "text": 1.18,
                "x": 41.341,
                "y": 8.4275,
                "yshift": 15,
                "z": 16.903
               },
               {
                "font": {
                 "color": "steelblue"
                },
                "showarrow": false,
                "text": 1.77,
                "x": 39.75749999999999,
                "y": 9.486999999999998,
                "yshift": 15,
                "z": 16.104
               },
               {
                "font": {
                 "color": "steelblue"
                },
                "showarrow": false,
                "text": 1.77,
                "x": 40.534499999999994,
                "y": 10.410499999999999,
                "yshift": 15,
                "z": 16.0435
               },
               {
                "font": {
                 "color": "steelblue"
                },
                "showarrow": false,
                "text": 1.77,
                "x": 38.941,
                "y": 8.7775,
                "yshift": 15,
                "z": 15.445
               },
               {
                "font": {
                 "color": "steelblue"
                },
                "showarrow": false,
                "text": 1.18,
                "x": 38.727,
                "y": 9.3715,
                "yshift": 15,
                "z": 16.306
               },
               {
                "font": {
                 "color": "steelblue"
                },
                "showarrow": false,
                "text": 1.77,
                "x": 39.4135,
                "y": 7.9415000000000004,
                "yshift": 15,
                "z": 14.721
               },
               {
                "font": {
                 "color": "steelblue"
                },
                "showarrow": false,
                "text": 1.77,
                "x": 38.212500000000006,
                "y": 7.8575,
                "yshift": 15,
                "z": 15.133
               },
               {
                "font": {
                 "color": "steelblue"
                },
                "showarrow": false,
                "text": 1.18,
                "x": 38.599000000000004,
                "y": 8.595,
                "yshift": 15,
                "z": 14.4575
               },
               {
                "font": {
                 "color": "steelblue"
                },
                "showarrow": false,
                "text": 1.77,
                "x": 39.8895,
                "y": 6.9835,
                "yshift": 15,
                "z": 14.065999999999999
               },
               {
                "font": {
                 "color": "steelblue"
                },
                "showarrow": false,
                "text": 1.18,
                "x": 40.4045,
                "y": 7.899,
                "yshift": 15,
                "z": 14.295
               },
               {
                "font": {
                 "color": "steelblue"
                },
                "showarrow": false,
                "text": 1.18,
                "x": 40.2705,
                "y": 7.351,
                "yshift": 15,
                "z": 14.998999999999999
               },
               {
                "font": {
                 "color": "steelblue"
                },
                "showarrow": false,
                "text": 1.77,
                "x": 39.239000000000004,
                "y": 5.9830000000000005,
                "yshift": 15,
                "z": 13.923
               },
               {
                "font": {
                 "color": "steelblue"
                },
                "showarrow": false,
                "text": 1.18,
                "x": 39.5205,
                "y": 6.607,
                "yshift": 15,
                "z": 13.123999999999999
               },
               {
                "font": {
                 "color": "steelblue"
                },
                "showarrow": false,
                "text": 1.18,
                "x": 40.184,
                "y": 6.125500000000001,
                "yshift": 15,
                "z": 13.472999999999999
               },
               {
                "font": {
                 "color": "steelblue"
                },
                "showarrow": false,
                "text": 2.21,
                "x": 38.6775,
                "y": 4.7915,
                "yshift": 15,
                "z": 13.855
               },
               {
                "font": {
                 "color": "steelblue"
                },
                "showarrow": false,
                "text": 1.77,
                "x": 38.1075,
                "y": 5.899,
                "yshift": 15,
                "z": 14.316500000000001
               },
               {
                "font": {
                 "color": "steelblue"
                },
                "showarrow": false,
                "text": 2.21,
                "x": 38.641000000000005,
                "y": 4.140499999999999,
                "yshift": 15,
                "z": 12.714
               },
               {
                "font": {
                 "color": "steelblue"
                },
                "showarrow": false,
                "text": 2.21,
                "x": 37.938,
                "y": 3.7315,
                "yshift": 15,
                "z": 13.6355
               },
               {
                "font": {
                 "color": "steelblue"
                },
                "showarrow": false,
                "text": 2.21,
                "x": 39.2415,
                "y": 3.451,
                "yshift": 15,
                "z": 13.7135
               },
               {
                "font": {
                 "color": "steelblue"
                },
                "showarrow": false,
                "text": 1.77,
                "x": 39.832499999999996,
                "y": 2.7104999999999997,
                "yshift": 15,
                "z": 14.6955
               },
               {
                "font": {
                 "color": "steelblue"
                },
                "showarrow": false,
                "text": 1.18,
                "x": 39.8235,
                "y": 2.411,
                "yshift": 15,
                "z": 13.6795
               },
               {
                "font": {
                 "color": "steelblue"
                },
                "showarrow": false,
                "text": 1.18,
                "x": 40.3655,
                "y": 3.112,
                "yshift": 15,
                "z": 13.880500000000001
               },
               {
                "font": {
                 "color": "steelblue"
                },
                "showarrow": false,
                "text": 1.77,
                "x": 39.933499999999995,
                "y": 3.0305,
                "yshift": 15,
                "z": 15.9045
               },
               {
                "font": {
                 "color": "steelblue"
                },
                "showarrow": false,
                "text": 1.77,
                "x": 39.602999999999994,
                "y": 1.9009999999999998,
                "yshift": 15,
                "z": 15.619499999999999
               },
               {
                "font": {
                 "color": "steelblue"
                },
                "showarrow": false,
                "text": 1.77,
                "x": 40.0355,
                "y": 3.356,
                "yshift": 15,
                "z": 17.067500000000003
               },
               {
                "font": {
                 "color": "steelblue"
                },
                "showarrow": false,
                "text": 1.18,
                "x": 40.228,
                "y": 4.0215,
                "yshift": 15,
                "z": 16.233
               },
               {
                "font": {
                 "color": "steelblue"
                },
                "showarrow": false,
                "text": 1.77,
                "x": 39.804,
                "y": 2.553,
                "yshift": 15,
                "z": 17.944
               },
               {
                "font": {
                 "color": "steelblue"
                },
                "showarrow": false,
                "text": 1.18,
                "x": 40.105000000000004,
                "y": 3.5789999999999997,
                "yshift": 15,
                "z": 18.1265
               },
               {
                "font": {
                 "color": "steelblue"
                },
                "showarrow": false,
                "text": 1.77,
                "x": 39.4735,
                "y": 1.4235,
                "yshift": 15,
                "z": 17.659
               },
               {
                "font": {
                 "color": "steelblue"
                },
                "showarrow": false,
                "text": 1.18,
                "x": 39.581,
                "y": 1.7845,
                "yshift": 15,
                "z": 18.6755
               },
               {
                "font": {
                 "color": "steelblue"
                },
                "showarrow": false,
                "text": 1.77,
                "x": 39.3745,
                "y": 1.097,
                "yshift": 15,
                "z": 16.4975
               },
               {
                "font": {
                 "color": "steelblue"
                },
                "showarrow": false,
                "text": 1.18,
                "x": 39.184,
                "y": 0.4315,
                "yshift": 15,
                "z": 17.332
               },
               {
                "font": {
                 "color": "steelblue"
                },
                "showarrow": false,
                "text": 1.18,
                "x": 39.307,
                "y": 0.873,
                "yshift": 15,
                "z": 15.439
               },
               {
                "font": {
                 "color": "steelblue"
                },
                "showarrow": false,
                "text": 1.77,
                "x": 37.557,
                "y": 6.8155,
                "yshift": 15,
                "z": 14.871500000000001
               },
               {
                "font": {
                 "color": "steelblue"
                },
                "showarrow": false,
                "text": 1.18,
                "x": 37.3095,
                "y": 6.438000000000001,
                "yshift": 15,
                "z": 13.8905
               },
               {
                "font": {
                 "color": "steelblue"
                },
                "showarrow": false,
                "text": 1.18,
                "x": 37.079499999999996,
                "y": 5.8945,
                "yshift": 15,
                "z": 14.5595
               },
               {
                "font": {
                 "color": "steelblue"
                },
                "showarrow": false,
                "text": 1.18,
                "x": 37.1785,
                "y": 7.6745,
                "yshift": 15,
                "z": 15.3955
               },
               {
                "font": {
                 "color": "steelblue"
                },
                "showarrow": false,
                "text": 1.18,
                "x": 37.78,
                "y": 7.1815,
                "yshift": 15,
                "z": 15.8545
               },
               {
                "font": {
                 "color": "steelblue"
                },
                "showarrow": false,
                "text": 1.18,
                "x": 40.257,
                "y": 11.382000000000001,
                "yshift": 15,
                "z": 15.648499999999999
               },
               {
                "font": {
                 "color": "steelblue"
                },
                "showarrow": false,
                "text": 2.21,
                "x": 43.5235,
                "y": 14.5275,
                "yshift": 15,
                "z": 15.727
               },
               {
                "font": {
                 "color": "steelblue"
                },
                "showarrow": false,
                "text": 1.77,
                "x": 43.793000000000006,
                "y": 15.8385,
                "yshift": 15,
                "z": 15.3645
               },
               {
                "font": {
                 "color": "steelblue"
                },
                "showarrow": false,
                "text": 1.77,
                "x": 44.8,
                "y": 16.4195,
                "yshift": 15,
                "z": 15.643
               },
               {
                "font": {
                 "color": "steelblue"
                },
                "showarrow": false,
                "text": 1.77,
                "x": 43.9435,
                "y": 17.027,
                "yshift": 15,
                "z": 15.1945
               }
              ]
             }
            ],
            "label": " Elements & Bond Lengths",
            "method": "relayout"
           },
           {
            "args": [
             {
              "scene.annotations": [
               {
                "showarrow": false,
                "text": 0,
                "x": 41.039,
                "y": 17.188,
                "yshift": 15,
                "z": 11.242
               },
               {
                "showarrow": false,
                "text": 1,
                "x": 40.735,
                "y": 17.514,
                "yshift": 15,
                "z": 12.421
               },
               {
                "showarrow": false,
                "text": 2,
                "x": 40.373,
                "y": 18.806,
                "yshift": 15,
                "z": 12.715
               },
               {
                "showarrow": false,
                "text": 3,
                "x": 40.775,
                "y": 16.529,
                "yshift": 15,
                "z": 13.51
               },
               {
                "showarrow": false,
                "text": 4,
                "x": 42.056,
                "y": 15.953,
                "yshift": 15,
                "z": 13.53
               },
               {
                "showarrow": false,
                "text": 5,
                "x": 42.358,
                "y": 15.038,
                "yshift": 15,
                "z": 14.508
               },
               {
                "showarrow": false,
                "text": 6,
                "x": 43.256,
                "y": 15.323,
                "yshift": 15,
                "z": 15.509
               },
               {
                "showarrow": false,
                "text": 7,
                "x": 43.917,
                "y": 16.597,
                "yshift": 15,
                "z": 15.777
               },
               {
                "showarrow": false,
                "text": 8,
                "x": 43.649,
                "y": 17.652,
                "yshift": 15,
                "z": 15.139
               },
               {
                "showarrow": false,
                "text": 9,
                "x": 44.856,
                "y": 16.621,
                "yshift": 15,
                "z": 16.78
               },
               {
                "showarrow": false,
                "text": 10,
                "x": 43.357,
                "y": 13.98,
                "yshift": 15,
                "z": 16.515
               },
               {
                "showarrow": false,
                "text": 11,
                "x": 42.242,
                "y": 13.02,
                "yshift": 15,
                "z": 15.683
               },
               {
                "showarrow": false,
                "text": 12,
                "x": 41.93,
                "y": 11.624,
                "yshift": 15,
                "z": 16.062
               },
               {
                "showarrow": false,
                "text": 13,
                "x": 42.944,
                "y": 10.838,
                "yshift": 15,
                "z": 16.638
               },
               {
                "showarrow": false,
                "text": 14,
                "x": 42.707,
                "y": 9.503,
                "yshift": 15,
                "z": 16.987
               },
               {
                "showarrow": false,
                "text": 15,
                "x": 41.439,
                "y": 8.945,
                "yshift": 15,
                "z": 16.773
               },
               {
                "showarrow": false,
                "text": 16,
                "x": 40.409,
                "y": 9.736,
                "yshift": 15,
                "z": 16.226
               },
               {
                "showarrow": false,
                "text": 17,
                "x": 39.103,
                "y": 9.223,
                "yshift": 15,
                "z": 15.992
               },
               {
                "showarrow": false,
                "text": 18,
                "x": 38.749,
                "y": 8.357,
                "yshift": 15,
                "z": 14.885
               },
               {
                "showarrow": false,
                "text": 19,
                "x": 39.987,
                "y": 7.552,
                "yshift": 15,
                "z": 14.535
               },
               {
                "showarrow": false,
                "text": 20,
                "x": 39.71,
                "y": 6.561,
                "yshift": 15,
                "z": 13.419
               },
               {
                "showarrow": false,
                "text": 21,
                "x": 38.481,
                "y": 5.785,
                "yshift": 15,
                "z": 13.615
               },
               {
                "showarrow": false,
                "text": 22,
                "x": 38.713,
                "y": 4.094,
                "yshift": 15,
                "z": 13.851
               },
               {
                "showarrow": false,
                "text": 23,
                "x": 37.419,
                "y": 3.343,
                "yshift": 15,
                "z": 13.936
               },
               {
                "showarrow": false,
                "text": 24,
                "x": 39.66,
                "y": 3.51,
                "yshift": 15,
                "z": 12.845
               },
               {
                "showarrow": false,
                "text": 25,
                "x": 39.5,
                "y": 3.93,
                "yshift": 15,
                "z": 15.446
               },
               {
                "showarrow": false,
                "text": 26,
                "x": 39.94,
                "y": 2.526,
                "yshift": 15,
                "z": 15.686
               },
               {
                "showarrow": false,
                "text": 27,
                "x": 39.035,
                "y": 1.583,
                "yshift": 15,
                "z": 16.185
               },
               {
                "showarrow": false,
                "text": 28,
                "x": 39.444,
                "y": 0.263,
                "yshift": 15,
                "z": 16.396
               },
               {
                "showarrow": false,
                "text": 29,
                "x": 40.758,
                "y": -0.116,
                "yshift": 15,
                "z": 16.107
               },
               {
                "showarrow": false,
                "text": 30,
                "x": 41.663,
                "y": 0.824,
                "yshift": 15,
                "z": 15.605
               },
               {
                "showarrow": false,
                "text": 31,
                "x": 41.255,
                "y": 2.144,
                "yshift": 15,
                "z": 15.393
               },
               {
                "showarrow": false,
                "text": 32,
                "x": 37.31,
                "y": 6.381,
                "yshift": 15,
                "z": 14.27
               },
               {
                "showarrow": false,
                "text": 33,
                "x": 37.661,
                "y": 7.397,
                "yshift": 15,
                "z": 15.346
               },
               {
                "showarrow": false,
                "text": 34,
                "x": 40.656,
                "y": 11.068,
                "yshift": 15,
                "z": 15.876
               },
               {
                "showarrow": false,
                "text": 35,
                "x": 41.78,
                "y": 13.756,
                "yshift": 15,
                "z": 14.586
               },
               {
                "showarrow": false,
                "text": 36,
                "x": 40.555,
                "y": 13.098,
                "yshift": 15,
                "z": 13.269
               },
               {
                "showarrow": false,
                "text": 37,
                "x": 40.575,
                "y": 17.028,
                "yshift": 15,
                "z": 14.47
               },
               {
                "showarrow": false,
                "text": 38,
                "x": 40.01,
                "y": 15.755,
                "yshift": 15,
                "z": 13.351
               },
               {
                "showarrow": false,
                "text": 39,
                "x": 43.936,
                "y": 11.278,
                "yshift": 15,
                "z": 16.816
               },
               {
                "showarrow": false,
                "text": 40,
                "x": 43.512,
                "y": 8.895,
                "yshift": 15,
                "z": 17.426
               },
               {
                "showarrow": false,
                "text": 41,
                "x": 41.248,
                "y": 7.893,
                "yshift": 15,
                "z": 17.031
               },
               {
                "showarrow": false,
                "text": 42,
                "x": 38.358,
                "y": 9.483,
                "yshift": 15,
                "z": 16.654
               },
               {
                "showarrow": false,
                "text": 43,
                "x": 38.394,
                "y": 8.939,
                "yshift": 15,
                "z": 14.021
               },
               {
                "showarrow": false,
                "text": 44,
                "x": 40.782,
                "y": 8.24,
                "yshift": 15,
                "z": 14.213
               },
               {
                "showarrow": false,
                "text": 45,
                "x": 40.294,
                "y": 6.988,
                "yshift": 15,
                "z": 15.428
               },
               {
                "showarrow": false,
                "text": 46,
                "x": 39.624,
                "y": 7.117,
                "yshift": 15,
                "z": 12.473
               },
               {
                "showarrow": false,
                "text": 47,
                "x": 40.546,
                "y": 5.845,
                "yshift": 15,
                "z": 13.407
               },
               {
                "showarrow": false,
                "text": 48,
                "x": 40.377,
                "y": 4.593,
                "yshift": 15,
                "z": 15.483
               },
               {
                "showarrow": false,
                "text": 49,
                "x": 38.773,
                "y": 4.206,
                "yshift": 15,
                "z": 16.224
               },
               {
                "showarrow": false,
                "text": 50,
                "x": 38,
                "y": 1.881,
                "yshift": 15,
                "z": 16.411
               },
               {
                "showarrow": false,
                "text": 51,
                "x": 38.732,
                "y": -0.477,
                "yshift": 15,
                "z": 16.79
               },
               {
                "showarrow": false,
                "text": 52,
                "x": 41.08,
                "y": -1.155,
                "yshift": 15,
                "z": 16.274
               },
               {
                "showarrow": false,
                "text": 53,
                "x": 42.697,
                "y": 0.525,
                "yshift": 15,
                "z": 15.377
               },
               {
                "showarrow": false,
                "text": 54,
                "x": 41.967,
                "y": 2.883,
                "yshift": 15,
                "z": 14.997
               },
               {
                "showarrow": false,
                "text": 55,
                "x": 36.702,
                "y": 6.883,
                "yshift": 15,
                "z": 13.503
               },
               {
                "showarrow": false,
                "text": 56,
                "x": 36.768,
                "y": 5.562,
                "yshift": 15,
                "z": 14.765
               },
               {
                "showarrow": false,
                "text": 57,
                "x": 36.76,
                "y": 7.975,
                "yshift": 15,
                "z": 15.598
               },
               {
                "showarrow": false,
                "text": 58,
                "x": 38.038,
                "y": 6.85,
                "yshift": 15,
                "z": 16.223
               },
               {
                "showarrow": false,
                "text": 59,
                "x": 39.847,
                "y": 11.681,
                "yshift": 15,
                "z": 15.453
               },
               {
                "showarrow": false,
                "text": 0,
                "x": 39.044,
                "y": 17.603,
                "yshift": 15,
                "z": 12.296
               },
               {
                "showarrow": false,
                "text": 1,
                "x": 40.196,
                "y": 17.099,
                "yshift": 15,
                "z": 12.364
               },
               {
                "showarrow": false,
                "text": 2,
                "x": 41.237,
                "y": 17.64,
                "yshift": 15,
                "z": 11.648
               },
               {
                "showarrow": false,
                "text": 3,
                "x": 40.455,
                "y": 15.916,
                "yshift": 15,
                "z": 13.197
               },
               {
                "showarrow": false,
                "text": 4,
                "x": 41.645,
                "y": 16.135,
                "yshift": 15,
                "z": 13.911
               },
               {
                "showarrow": false,
                "text": 5,
                "x": 42.164,
                "y": 15.117,
                "yshift": 15,
                "z": 14.672
               },
               {
                "showarrow": false,
                "text": 6,
                "x": 41.512,
                "y": 13.882,
                "yshift": 15,
                "z": 14.868
               },
               {
                "showarrow": false,
                "text": 7,
                "x": 42.249,
                "y": 13.026,
                "yshift": 15,
                "z": 15.688
               },
               {
                "showarrow": false,
                "text": 8,
                "x": 41.933,
                "y": 11.631,
                "yshift": 15,
                "z": 16.062
               },
               {
                "showarrow": false,
                "text": 9,
                "x": 42.944,
                "y": 10.842,
                "yshift": 15,
                "z": 16.64
               },
               {
                "showarrow": false,
                "text": 10,
                "x": 42.706,
                "y": 9.507,
                "yshift": 15,
                "z": 16.988
               },
               {
                "showarrow": false,
                "text": 11,
                "x": 41.438,
                "y": 8.953,
                "yshift": 15,
                "z": 16.773
               },
               {
                "showarrow": false,
                "text": 12,
                "x": 40.41,
                "y": 9.745,
                "yshift": 15,
                "z": 16.221
               },
               {
                "showarrow": false,
                "text": 13,
                "x": 39.105,
                "y": 9.229,
                "yshift": 15,
                "z": 15.987
               },
               {
                "showarrow": false,
                "text": 14,
                "x": 38.777,
                "y": 8.326,
                "yshift": 15,
                "z": 14.903
               },
               {
                "showarrow": false,
                "text": 15,
                "x": 40.05,
                "y": 7.557,
                "yshift": 15,
                "z": 14.539
               },
               {
                "showarrow": false,
                "text": 16,
                "x": 39.729,
                "y": 6.41,
                "yshift": 15,
                "z": 13.593
               },
               {
                "showarrow": false,
                "text": 17,
                "x": 38.749,
                "y": 5.556,
                "yshift": 15,
                "z": 14.253
               },
               {
                "showarrow": false,
                "text": 18,
                "x": 38.606,
                "y": 4.027,
                "yshift": 15,
                "z": 13.457
               },
               {
                "showarrow": false,
                "text": 19,
                "x": 38.676,
                "y": 4.254,
                "yshift": 15,
                "z": 11.971
               },
               {
                "showarrow": false,
                "text": 20,
                "x": 37.27,
                "y": 3.436,
                "yshift": 15,
                "z": 13.814
               },
               {
                "showarrow": false,
                "text": 21,
                "x": 39.877,
                "y": 2.875,
                "yshift": 15,
                "z": 13.97
               },
               {
                "showarrow": false,
                "text": 22,
                "x": 39.788,
                "y": 2.546,
                "yshift": 15,
                "z": 15.421
               },
               {
                "showarrow": false,
                "text": 23,
                "x": 40.079,
                "y": 3.515,
                "yshift": 15,
                "z": 16.388
               },
               {
                "showarrow": false,
                "text": 24,
                "x": 39.992,
                "y": 3.197,
                "yshift": 15,
                "z": 17.747
               },
               {
                "showarrow": false,
                "text": 25,
                "x": 39.616,
                "y": 1.909,
                "yshift": 15,
                "z": 18.141
               },
               {
                "showarrow": false,
                "text": 26,
                "x": 39.331,
                "y": 0.938,
                "yshift": 15,
                "z": 17.177
               },
               {
                "showarrow": false,
                "text": 27,
                "x": 39.418,
                "y": 1.256,
                "yshift": 15,
                "z": 15.818
               },
               {
                "showarrow": false,
                "text": 28,
                "x": 37.466,
                "y": 6.242,
                "yshift": 15,
                "z": 14.38
               },
               {
                "showarrow": false,
                "text": 29,
                "x": 37.648,
                "y": 7.389,
                "yshift": 15,
                "z": 15.363
               },
               {
                "showarrow": false,
                "text": 30,
                "x": 40.659,
                "y": 11.076,
                "yshift": 15,
                "z": 15.866
               },
               {
                "showarrow": false,
                "text": 31,
                "x": 43.673,
                "y": 13.812,
                "yshift": 15,
                "z": 16.14
               },
               {
                "showarrow": false,
                "text": 32,
                "x": 43.374,
                "y": 15.243,
                "yshift": 15,
                "z": 15.314
               },
               {
                "showarrow": false,
                "text": 33,
                "x": 44.212,
                "y": 16.434,
                "yshift": 15,
                "z": 15.415
               },
               {
                "showarrow": false,
                "text": 34,
                "x": 45.388,
                "y": 16.405,
                "yshift": 15,
                "z": 15.871
               },
               {
                "showarrow": false,
                "text": 35,
                "x": 43.675,
                "y": 17.62,
                "yshift": 15,
                "z": 14.974
               },
               {
                "showarrow": false,
                "text": 36,
                "x": 39.622,
                "y": 15.764,
                "yshift": 15,
                "z": 13.898
               },
               {
                "showarrow": false,
                "text": 37,
                "x": 40.55,
                "y": 15.02,
                "yshift": 15,
                "z": 12.565
               },
               {
                "showarrow": false,
                "text": 38,
                "x": 40.538,
                "y": 13.624,
                "yshift": 15,
                "z": 14.427
               },
               {
                "showarrow": false,
                "text": 39,
                "x": 43.937,
                "y": 11.28,
                "yshift": 15,
                "z": 16.82
               },
               {
                "showarrow": false,
                "text": 40,
                "x": 43.51,
                "y": 8.898,
                "yshift": 15,
                "z": 17.427
               },
               {
                "showarrow": false,
                "text": 41,
                "x": 41.244,
                "y": 7.902,
                "yshift": 15,
                "z": 17.033
               },
               {
                "showarrow": false,
                "text": 42,
                "x": 38.349,
                "y": 9.514,
                "yshift": 15,
                "z": 16.625
               },
               {
                "showarrow": false,
                "text": 43,
                "x": 38.421,
                "y": 8.864,
                "yshift": 15,
                "z": 14.012
               },
               {
                "showarrow": false,
                "text": 44,
                "x": 40.759,
                "y": 8.241,
                "yshift": 15,
                "z": 14.051
               },
               {
                "showarrow": false,
                "text": 45,
                "x": 40.491,
                "y": 7.145,
                "yshift": 15,
                "z": 15.459
               },
               {
                "showarrow": false,
                "text": 46,
                "x": 39.312,
                "y": 6.804,
                "yshift": 15,
                "z": 12.655
               },
               {
                "showarrow": false,
                "text": 47,
                "x": 40.639,
                "y": 5.841,
                "yshift": 15,
                "z": 13.353
               },
               {
                "showarrow": false,
                "text": 48,
                "x": 39.77,
                "y": 1.947,
                "yshift": 15,
                "z": 13.389
               },
               {
                "showarrow": false,
                "text": 49,
                "x": 40.854,
                "y": 3.349,
                "yshift": 15,
                "z": 13.791
               },
               {
                "showarrow": false,
                "text": 50,
                "x": 40.377,
                "y": 4.528,
                "yshift": 15,
                "z": 16.078
               },
               {
                "showarrow": false,
                "text": 51,
                "x": 40.218,
                "y": 3.961,
                "yshift": 15,
                "z": 18.506
               },
               {
                "showarrow": false,
                "text": 52,
                "x": 39.546,
                "y": 1.66,
                "yshift": 15,
                "z": 19.21
               },
               {
                "showarrow": false,
                "text": 53,
                "x": 39.037,
                "y": -0.075,
                "yshift": 15,
                "z": 17.487
               },
               {
                "showarrow": false,
                "text": 54,
                "x": 39.196,
                "y": 0.49,
                "yshift": 15,
                "z": 15.06
               },
               {
                "showarrow": false,
                "text": 55,
                "x": 37.153,
                "y": 6.634,
                "yshift": 15,
                "z": 13.401
               },
               {
                "showarrow": false,
                "text": 56,
                "x": 36.693,
                "y": 5.547,
                "yshift": 15,
                "z": 14.739
               },
               {
                "showarrow": false,
                "text": 57,
                "x": 36.709,
                "y": 7.96,
                "yshift": 15,
                "z": 15.428
               },
               {
                "showarrow": false,
                "text": 58,
                "x": 37.912,
                "y": 6.974,
                "yshift": 15,
                "z": 16.346
               },
               {
                "showarrow": false,
                "text": 59,
                "x": 39.855,
                "y": 11.688,
                "yshift": 15,
                "z": 15.431
               }
              ]
             }
            ],
            "label": "Indices",
            "method": "relayout"
           },
           {
            "args": [
             {
              "scene.annotations": [
               {
                "showarrow": false,
                "text": 0,
                "x": 41.039,
                "y": 17.188,
                "yshift": 15,
                "z": 11.242
               },
               {
                "showarrow": false,
                "text": 1,
                "x": 40.735,
                "y": 17.514,
                "yshift": 15,
                "z": 12.421
               },
               {
                "showarrow": false,
                "text": 2,
                "x": 40.373,
                "y": 18.806,
                "yshift": 15,
                "z": 12.715
               },
               {
                "showarrow": false,
                "text": 3,
                "x": 40.775,
                "y": 16.529,
                "yshift": 15,
                "z": 13.51
               },
               {
                "showarrow": false,
                "text": 4,
                "x": 42.056,
                "y": 15.953,
                "yshift": 15,
                "z": 13.53
               },
               {
                "showarrow": false,
                "text": 5,
                "x": 42.358,
                "y": 15.038,
                "yshift": 15,
                "z": 14.508
               },
               {
                "showarrow": false,
                "text": 6,
                "x": 43.256,
                "y": 15.323,
                "yshift": 15,
                "z": 15.509
               },
               {
                "showarrow": false,
                "text": 7,
                "x": 43.917,
                "y": 16.597,
                "yshift": 15,
                "z": 15.777
               },
               {
                "showarrow": false,
                "text": 8,
                "x": 43.649,
                "y": 17.652,
                "yshift": 15,
                "z": 15.139
               },
               {
                "showarrow": false,
                "text": 9,
                "x": 44.856,
                "y": 16.621,
                "yshift": 15,
                "z": 16.78
               },
               {
                "showarrow": false,
                "text": 10,
                "x": 43.357,
                "y": 13.98,
                "yshift": 15,
                "z": 16.515
               },
               {
                "showarrow": false,
                "text": 11,
                "x": 42.242,
                "y": 13.02,
                "yshift": 15,
                "z": 15.683
               },
               {
                "showarrow": false,
                "text": 12,
                "x": 41.93,
                "y": 11.624,
                "yshift": 15,
                "z": 16.062
               },
               {
                "showarrow": false,
                "text": 13,
                "x": 42.944,
                "y": 10.838,
                "yshift": 15,
                "z": 16.638
               },
               {
                "showarrow": false,
                "text": 14,
                "x": 42.707,
                "y": 9.503,
                "yshift": 15,
                "z": 16.987
               },
               {
                "showarrow": false,
                "text": 15,
                "x": 41.439,
                "y": 8.945,
                "yshift": 15,
                "z": 16.773
               },
               {
                "showarrow": false,
                "text": 16,
                "x": 40.409,
                "y": 9.736,
                "yshift": 15,
                "z": 16.226
               },
               {
                "showarrow": false,
                "text": 17,
                "x": 39.103,
                "y": 9.223,
                "yshift": 15,
                "z": 15.992
               },
               {
                "showarrow": false,
                "text": 18,
                "x": 38.749,
                "y": 8.357,
                "yshift": 15,
                "z": 14.885
               },
               {
                "showarrow": false,
                "text": 19,
                "x": 39.987,
                "y": 7.552,
                "yshift": 15,
                "z": 14.535
               },
               {
                "showarrow": false,
                "text": 20,
                "x": 39.71,
                "y": 6.561,
                "yshift": 15,
                "z": 13.419
               },
               {
                "showarrow": false,
                "text": 21,
                "x": 38.481,
                "y": 5.785,
                "yshift": 15,
                "z": 13.615
               },
               {
                "showarrow": false,
                "text": 22,
                "x": 38.713,
                "y": 4.094,
                "yshift": 15,
                "z": 13.851
               },
               {
                "showarrow": false,
                "text": 23,
                "x": 37.419,
                "y": 3.343,
                "yshift": 15,
                "z": 13.936
               },
               {
                "showarrow": false,
                "text": 24,
                "x": 39.66,
                "y": 3.51,
                "yshift": 15,
                "z": 12.845
               },
               {
                "showarrow": false,
                "text": 25,
                "x": 39.5,
                "y": 3.93,
                "yshift": 15,
                "z": 15.446
               },
               {
                "showarrow": false,
                "text": 26,
                "x": 39.94,
                "y": 2.526,
                "yshift": 15,
                "z": 15.686
               },
               {
                "showarrow": false,
                "text": 27,
                "x": 39.035,
                "y": 1.583,
                "yshift": 15,
                "z": 16.185
               },
               {
                "showarrow": false,
                "text": 28,
                "x": 39.444,
                "y": 0.263,
                "yshift": 15,
                "z": 16.396
               },
               {
                "showarrow": false,
                "text": 29,
                "x": 40.758,
                "y": -0.116,
                "yshift": 15,
                "z": 16.107
               },
               {
                "showarrow": false,
                "text": 30,
                "x": 41.663,
                "y": 0.824,
                "yshift": 15,
                "z": 15.605
               },
               {
                "showarrow": false,
                "text": 31,
                "x": 41.255,
                "y": 2.144,
                "yshift": 15,
                "z": 15.393
               },
               {
                "showarrow": false,
                "text": 32,
                "x": 37.31,
                "y": 6.381,
                "yshift": 15,
                "z": 14.27
               },
               {
                "showarrow": false,
                "text": 33,
                "x": 37.661,
                "y": 7.397,
                "yshift": 15,
                "z": 15.346
               },
               {
                "showarrow": false,
                "text": 34,
                "x": 40.656,
                "y": 11.068,
                "yshift": 15,
                "z": 15.876
               },
               {
                "showarrow": false,
                "text": 35,
                "x": 41.78,
                "y": 13.756,
                "yshift": 15,
                "z": 14.586
               },
               {
                "showarrow": false,
                "text": 36,
                "x": 40.555,
                "y": 13.098,
                "yshift": 15,
                "z": 13.269
               },
               {
                "showarrow": false,
                "text": 37,
                "x": 40.575,
                "y": 17.028,
                "yshift": 15,
                "z": 14.47
               },
               {
                "showarrow": false,
                "text": 38,
                "x": 40.01,
                "y": 15.755,
                "yshift": 15,
                "z": 13.351
               },
               {
                "showarrow": false,
                "text": 39,
                "x": 43.936,
                "y": 11.278,
                "yshift": 15,
                "z": 16.816
               },
               {
                "showarrow": false,
                "text": 40,
                "x": 43.512,
                "y": 8.895,
                "yshift": 15,
                "z": 17.426
               },
               {
                "showarrow": false,
                "text": 41,
                "x": 41.248,
                "y": 7.893,
                "yshift": 15,
                "z": 17.031
               },
               {
                "showarrow": false,
                "text": 42,
                "x": 38.358,
                "y": 9.483,
                "yshift": 15,
                "z": 16.654
               },
               {
                "showarrow": false,
                "text": 43,
                "x": 38.394,
                "y": 8.939,
                "yshift": 15,
                "z": 14.021
               },
               {
                "showarrow": false,
                "text": 44,
                "x": 40.782,
                "y": 8.24,
                "yshift": 15,
                "z": 14.213
               },
               {
                "showarrow": false,
                "text": 45,
                "x": 40.294,
                "y": 6.988,
                "yshift": 15,
                "z": 15.428
               },
               {
                "showarrow": false,
                "text": 46,
                "x": 39.624,
                "y": 7.117,
                "yshift": 15,
                "z": 12.473
               },
               {
                "showarrow": false,
                "text": 47,
                "x": 40.546,
                "y": 5.845,
                "yshift": 15,
                "z": 13.407
               },
               {
                "showarrow": false,
                "text": 48,
                "x": 40.377,
                "y": 4.593,
                "yshift": 15,
                "z": 15.483
               },
               {
                "showarrow": false,
                "text": 49,
                "x": 38.773,
                "y": 4.206,
                "yshift": 15,
                "z": 16.224
               },
               {
                "showarrow": false,
                "text": 50,
                "x": 38,
                "y": 1.881,
                "yshift": 15,
                "z": 16.411
               },
               {
                "showarrow": false,
                "text": 51,
                "x": 38.732,
                "y": -0.477,
                "yshift": 15,
                "z": 16.79
               },
               {
                "showarrow": false,
                "text": 52,
                "x": 41.08,
                "y": -1.155,
                "yshift": 15,
                "z": 16.274
               },
               {
                "showarrow": false,
                "text": 53,
                "x": 42.697,
                "y": 0.525,
                "yshift": 15,
                "z": 15.377
               },
               {
                "showarrow": false,
                "text": 54,
                "x": 41.967,
                "y": 2.883,
                "yshift": 15,
                "z": 14.997
               },
               {
                "showarrow": false,
                "text": 55,
                "x": 36.702,
                "y": 6.883,
                "yshift": 15,
                "z": 13.503
               },
               {
                "showarrow": false,
                "text": 56,
                "x": 36.768,
                "y": 5.562,
                "yshift": 15,
                "z": 14.765
               },
               {
                "showarrow": false,
                "text": 57,
                "x": 36.76,
                "y": 7.975,
                "yshift": 15,
                "z": 15.598
               },
               {
                "showarrow": false,
                "text": 58,
                "x": 38.038,
                "y": 6.85,
                "yshift": 15,
                "z": 16.223
               },
               {
                "showarrow": false,
                "text": 59,
                "x": 39.847,
                "y": 11.681,
                "yshift": 15,
                "z": 15.453
               },
               {
                "font": {
                 "color": "steelblue"
                },
                "showarrow": false,
                "text": 1.77,
                "x": 40.887,
                "y": 17.351,
                "yshift": 15,
                "z": 11.8315
               },
               {
                "font": {
                 "color": "steelblue"
                },
                "showarrow": false,
                "text": 1.77,
                "x": 40.554,
                "y": 18.16,
                "yshift": 15,
                "z": 12.568
               },
               {
                "font": {
                 "color": "steelblue"
                },
                "showarrow": false,
                "text": 1.77,
                "x": 40.754999999999995,
                "y": 17.0215,
                "yshift": 15,
                "z": 12.965499999999999
               },
               {
                "font": {
                 "color": "steelblue"
                },
                "showarrow": false,
                "text": 1.77,
                "x": 41.415499999999994,
                "y": 16.241,
                "yshift": 15,
                "z": 13.52
               },
               {
                "font": {
                 "color": "steelblue"
                },
                "showarrow": false,
                "text": 1.18,
                "x": 40.675,
                "y": 16.7785,
                "yshift": 15,
                "z": 13.99
               },
               {
                "font": {
                 "color": "steelblue"
                },
                "showarrow": false,
                "text": 1.18,
                "x": 40.3925,
                "y": 16.142,
                "yshift": 15,
                "z": 13.4305
               },
               {
                "font": {
                 "color": "steelblue"
                },
                "showarrow": false,
                "text": 1.77,
                "x": 42.206999999999994,
                "y": 15.4955,
                "yshift": 15,
                "z": 14.018999999999998
               },
               {
                "font": {
                 "color": "steelblue"
                },
                "showarrow": false,
                "text": 1.77,
                "x": 42.807,
                "y": 15.1805,
                "yshift": 15,
                "z": 15.0085
               },
               {
                "font": {
                 "color": "steelblue"
                },
                "showarrow": false,
                "text": 1.77,
                "x": 42.069,
                "y": 14.397,
                "yshift": 15,
                "z": 14.547
               },
               {
                "font": {
                 "color": "steelblue"
                },
                "showarrow": false,
                "text": 1.77,
                "x": 43.5865,
                "y": 15.96,
                "yshift": 15,
                "z": 15.643
               },
               {
                "font": {
                 "color": "steelblue"
                },
                "showarrow": false,
                "text": 2.21,
                "x": 43.3065,
                "y": 14.6515,
                "yshift": 15,
                "z": 16.012
               },
               {
                "font": {
                 "color": "steelblue"
                },
                "showarrow": false,
                "text": 1.77,
                "x": 43.783,
                "y": 17.1245,
                "yshift": 15,
                "z": 15.457999999999998
               },
               {
                "font": {
                 "color": "steelblue"
                },
                "showarrow": false,
                "text": 1.77,
                "x": 44.3865,
                "y": 16.609,
                "yshift": 15,
                "z": 16.2785
               },
               {
                "font": {
                 "color": "steelblue"
                },
                "showarrow": false,
                "text": 2.21,
                "x": 42.799499999999995,
                "y": 13.5,
                "yshift": 15,
                "z": 16.099
               },
               {
                "font": {
                 "color": "steelblue"
                },
                "showarrow": false,
                "text": 1.77,
                "x": 42.086,
                "y": 12.322,
                "yshift": 15,
                "z": 15.8725
               },
               {
                "font": {
                 "color": "steelblue"
                },
                "showarrow": false,
                "text": 1.77,
                "x": 42.010999999999996,
                "y": 13.388,
                "yshift": 15,
                "z": 15.1345
               },
               {
                "font": {
                 "color": "steelblue"
                },
                "showarrow": false,
                "text": 1.77,
                "x": 42.437,
                "y": 11.231,
                "yshift": 15,
                "z": 16.35
               },
               {
                "font": {
                 "color": "steelblue"
                },
                "showarrow": false,
                "text": 1.77,
                "x": 41.293,
                "y": 11.346,
                "yshift": 15,
                "z": 15.969000000000001
               },
               {
                "font": {
                 "color": "steelblue"
                },
                "showarrow": false,
                "text": 1.77,
                "x": 42.825500000000005,
                "y": 10.1705,
                "yshift": 15,
                "z": 16.8125
               },
               {
                "font": {
                 "color": "steelblue"
                },
                "showarrow": false,
                "text": 1.18,
                "x": 43.44,
                "y": 11.058,
                "yshift": 15,
                "z": 16.727
               },
               {
                "font": {
                 "color": "steelblue"
                },
                "showarrow": false,
                "text": 1.77,
                "x": 42.073,
                "y": 9.224,
                "yshift": 15,
                "z": 16.88
               },
               {
                "font": {
                 "color": "steelblue"
                },
                "showarrow": false,
                "text": 1.18,
                "x": 43.1095,
                "y": 9.199,
                "yshift": 15,
                "z": 17.2065
               },
               {
                "font": {
                 "color": "steelblue"
                },
                "showarrow": false,
                "text": 1.77,
                "x": 40.924,
                "y": 9.3405,
                "yshift": 15,
                "z": 16.499499999999998
               },
               {
                "font": {
                 "color": "steelblue"
                },
                "showarrow": false,
                "text": 1.18,
                "x": 41.3435,
                "y": 8.419,
                "yshift": 15,
                "z": 16.902
               },
               {
                "font": {
                 "color": "steelblue"
                },
                "showarrow": false,
                "text": 1.77,
                "x": 39.756,
                "y": 9.479500000000002,
                "yshift": 15,
                "z": 16.109
               },
               {
                "font": {
                 "color": "steelblue"
                },
                "showarrow": false,
                "text": 1.77,
                "x": 40.5325,
                "y": 10.402000000000001,
                "yshift": 15,
                "z": 16.051
               },
               {
                "font": {
                 "color": "steelblue"
                },
                "showarrow": false,
                "text": 1.77,
                "x": 38.926,
                "y": 8.79,
                "yshift": 15,
                "z": 15.438500000000001
               },
               {
                "font": {
                 "color": "steelblue"
                },
                "showarrow": false,
                "text": 1.18,
                "x": 38.7305,
                "y": 9.353000000000002,
                "yshift": 15,
                "z": 16.323
               },
               {
                "font": {
                 "color": "steelblue"
                },
                "showarrow": false,
                "text": 1.77,
                "x": 39.368,
                "y": 7.9544999999999995,
                "yshift": 15,
                "z": 14.71
               },
               {
                "font": {
                 "color": "steelblue"
                },
                "showarrow": false,
                "text": 1.77,
                "x": 38.205,
                "y": 7.877,
                "yshift": 15,
                "z": 15.1155
               },
               {
                "font": {
                 "color": "steelblue"
                },
                "showarrow": false,
                "text": 1.18,
                "x": 38.5715,
                "y": 8.648,
                "yshift": 15,
                "z": 14.453
               },
               {
                "font": {
                 "color": "steelblue"
                },
                "showarrow": false,
                "text": 1.77,
                "x": 39.8485,
                "y": 7.0565,
                "yshift": 15,
                "z": 13.977
               },
               {
                "font": {
                 "color": "steelblue"
                },
                "showarrow": false,
                "text": 1.18,
                "x": 40.3845,
                "y": 7.896,
                "yshift": 15,
                "z": 14.373999999999999
               },
               {
                "font": {
                 "color": "steelblue"
                },
                "showarrow": false,
                "text": 1.18,
                "x": 40.1405,
                "y": 7.27,
                "yshift": 15,
                "z": 14.9815
               },
               {
                "font": {
                 "color": "steelblue"
                },
                "showarrow": false,
                "text": 1.77,
                "x": 39.0955,
                "y": 6.173,
                "yshift": 15,
                "z": 13.517
               },
               {
                "font": {
                 "color": "steelblue"
                },
                "showarrow": false,
                "text": 1.18,
                "x": 39.667,
                "y": 6.839,
                "yshift": 15,
                "z": 12.946000000000002
               },
               {
                "font": {
                 "color": "steelblue"
                },
                "showarrow": false,
                "text": 1.18,
                "x": 40.128,
                "y": 6.202999999999999,
                "yshift": 15,
                "z": 13.413
               },
               {
                "font": {
                 "color": "steelblue"
                },
                "showarrow": false,
                "text": 2.21,
                "x": 38.597,
                "y": 4.939500000000001,
                "yshift": 15,
                "z": 13.733
               },
               {
                "font": {
                 "color": "steelblue"
                },
                "showarrow": false,
                "text": 1.77,
                "x": 37.8955,
                "y": 6.083,
                "yshift": 15,
                "z": 13.942499999999999
               },
               {
                "font": {
                 "color": "steelblue"
                },
                "showarrow": false,
                "text": 2.21,
                "x": 38.066,
                "y": 3.7185,
                "yshift": 15,
                "z": 13.8935
               },
               {
                "font": {
                 "color": "steelblue"
                },
                "showarrow": false,
                "text": 2.21,
                "x": 39.186499999999995,
                "y": 3.802,
                "yshift": 15,
                "z": 13.348
               },
               {
                "font": {
                 "color": "steelblue"
                },
                "showarrow": false,
                "text": 2.21,
                "x": 39.1065,
                "y": 4.0120000000000005,
                "yshift": 15,
                "z": 14.6485
               },
               {
                "font": {
                 "color": "steelblue"
                },
                "showarrow": false,
                "text": 1.77,
                "x": 39.72,
                "y": 3.2279999999999998,
                "yshift": 15,
                "z": 15.565999999999999
               },
               {
                "font": {
                 "color": "steelblue"
                },
                "showarrow": false,
                "text": 1.18,
                "x": 39.938500000000005,
                "y": 4.2615,
                "yshift": 15,
                "z": 15.464500000000001
               },
               {
                "font": {
                 "color": "steelblue"
                },
                "showarrow": false,
                "text": 1.18,
                "x": 39.1365,
                "y": 4.0680000000000005,
                "yshift": 15,
                "z": 15.835
               },
               {
                "font": {
                 "color": "steelblue"
                },
                "showarrow": false,
                "text": 1.77,
                "x": 39.4875,
                "y": 2.0545,
                "yshift": 15,
                "z": 15.9355
               },
               {
                "font": {
                 "color": "steelblue"
                },
                "showarrow": false,
                "text": 1.77,
                "x": 40.5975,
                "y": 2.335,
                "yshift": 15,
                "z": 15.5395
               },
               {
                "font": {
                 "color": "steelblue"
                },
                "showarrow": false,
                "text": 1.77,
                "x": 39.2395,
                "y": 0.923,
                "yshift": 15,
                "z": 16.2905
               },
               {
                "font": {
                 "color": "steelblue"
                },
                "showarrow": false,
                "text": 1.18,
                "x": 38.5175,
                "y": 1.732,
                "yshift": 15,
                "z": 16.298000000000002
               },
               {
                "font": {
                 "color": "steelblue"
                },
                "showarrow": false,
                "text": 1.77,
                "x": 40.101,
                "y": 0.07350000000000001,
                "yshift": 15,
                "z": 16.2515
               },
               {
                "font": {
                 "color": "steelblue"
                },
                "showarrow": false,
                "text": 1.18,
                "x": 39.088,
                "y": -0.10699999999999998,
                "yshift": 15,
                "z": 16.593
               },
               {
                "font": {
                 "color": "steelblue"
                },
                "showarrow": false,
                "text": 1.77,
                "x": 41.210499999999996,
                "y": 0.354,
                "yshift": 15,
                "z": 15.856
               },
               {
                "font": {
                 "color": "steelblue"
                },
                "showarrow": false,
                "text": 1.18,
                "x": 40.919,
                "y": -0.6355000000000001,
                "yshift": 15,
                "z": 16.1905
               },
               {
                "font": {
                 "color": "steelblue"
                },
                "showarrow": false,
                "text": 1.77,
                "x": 41.459,
                "y": 1.484,
                "yshift": 15,
                "z": 15.499
               },
               {
                "font": {
                 "color": "steelblue"
                },
                "showarrow": false,
                "text": 1.18,
                "x": 42.18,
                "y": 0.6745,
                "yshift": 15,
                "z": 15.491
               },
               {
                "font": {
                 "color": "steelblue"
                },
                "showarrow": false,
                "text": 1.18,
                "x": 41.611000000000004,
                "y": 2.5135,
                "yshift": 15,
                "z": 15.195
               },
               {
                "font": {
                 "color": "steelblue"
                },
                "showarrow": false,
                "text": 1.77,
                "x": 37.4855,
                "y": 6.889,
                "yshift": 15,
                "z": 14.808
               },
               {
                "font": {
                 "color": "steelblue"
                },
                "showarrow": false,
                "text": 1.18,
                "x": 37.006,
                "y": 6.632,
                "yshift": 15,
                "z": 13.8865
               },
               {
                "font": {
                 "color": "steelblue"
                },
                "showarrow": false,
                "text": 1.18,
                "x": 37.039,
                "y": 5.971500000000001,
                "yshift": 15,
                "z": 14.5175
               },
               {
                "font": {
                 "color": "steelblue"
                },
                "showarrow": false,
                "text": 1.18,
                "x": 37.210499999999996,
                "y": 7.686,
                "yshift": 15,
                "z": 15.472000000000001
               },
               {
                "font": {
                 "color": "steelblue"
                },
                "showarrow": false,
                "text": 1.18,
                "x": 37.8495,
                "y": 7.1235,
                "yshift": 15,
                "z": 15.7845
               },
               {
                "font": {
                 "color": "steelblue"
                },
                "showarrow": false,
                "text": 1.18,
                "x": 40.2515,
                "y": 11.3745,
                "yshift": 15,
                "z": 15.6645
               },
               {
                "font": {
                 "color": "steelblue"
                },
                "showarrow": false,
                "text": 2.46,
                "x": 41.167500000000004,
                "y": 13.427,
                "yshift": 15,
                "z": 13.9275
               },
               {
                "showarrow": false,
                "text": 0,
                "x": 39.044,
                "y": 17.603,
                "yshift": 15,
                "z": 12.296
               },
               {
                "showarrow": false,
                "text": 1,
                "x": 40.196,
                "y": 17.099,
                "yshift": 15,
                "z": 12.364
               },
               {
                "showarrow": false,
                "text": 2,
                "x": 41.237,
                "y": 17.64,
                "yshift": 15,
                "z": 11.648
               },
               {
                "showarrow": false,
                "text": 3,
                "x": 40.455,
                "y": 15.916,
                "yshift": 15,
                "z": 13.197
               },
               {
                "showarrow": false,
                "text": 4,
                "x": 41.645,
                "y": 16.135,
                "yshift": 15,
                "z": 13.911
               },
               {
                "showarrow": false,
                "text": 5,
                "x": 42.164,
                "y": 15.117,
                "yshift": 15,
                "z": 14.672
               },
               {
                "showarrow": false,
                "text": 6,
                "x": 41.512,
                "y": 13.882,
                "yshift": 15,
                "z": 14.868
               },
               {
                "showarrow": false,
                "text": 7,
                "x": 42.249,
                "y": 13.026,
                "yshift": 15,
                "z": 15.688
               },
               {
                "showarrow": false,
                "text": 8,
                "x": 41.933,
                "y": 11.631,
                "yshift": 15,
                "z": 16.062
               },
               {
                "showarrow": false,
                "text": 9,
                "x": 42.944,
                "y": 10.842,
                "yshift": 15,
                "z": 16.64
               },
               {
                "showarrow": false,
                "text": 10,
                "x": 42.706,
                "y": 9.507,
                "yshift": 15,
                "z": 16.988
               },
               {
                "showarrow": false,
                "text": 11,
                "x": 41.438,
                "y": 8.953,
                "yshift": 15,
                "z": 16.773
               },
               {
                "showarrow": false,
                "text": 12,
                "x": 40.41,
                "y": 9.745,
                "yshift": 15,
                "z": 16.221
               },
               {
                "showarrow": false,
                "text": 13,
                "x": 39.105,
                "y": 9.229,
                "yshift": 15,
                "z": 15.987
               },
               {
                "showarrow": false,
                "text": 14,
                "x": 38.777,
                "y": 8.326,
                "yshift": 15,
                "z": 14.903
               },
               {
                "showarrow": false,
                "text": 15,
                "x": 40.05,
                "y": 7.557,
                "yshift": 15,
                "z": 14.539
               },
               {
                "showarrow": false,
                "text": 16,
                "x": 39.729,
                "y": 6.41,
                "yshift": 15,
                "z": 13.593
               },
               {
                "showarrow": false,
                "text": 17,
                "x": 38.749,
                "y": 5.556,
                "yshift": 15,
                "z": 14.253
               },
               {
                "showarrow": false,
                "text": 18,
                "x": 38.606,
                "y": 4.027,
                "yshift": 15,
                "z": 13.457
               },
               {
                "showarrow": false,
                "text": 19,
                "x": 38.676,
                "y": 4.254,
                "yshift": 15,
                "z": 11.971
               },
               {
                "showarrow": false,
                "text": 20,
                "x": 37.27,
                "y": 3.436,
                "yshift": 15,
                "z": 13.814
               },
               {
                "showarrow": false,
                "text": 21,
                "x": 39.877,
                "y": 2.875,
                "yshift": 15,
                "z": 13.97
               },
               {
                "showarrow": false,
                "text": 22,
                "x": 39.788,
                "y": 2.546,
                "yshift": 15,
                "z": 15.421
               },
               {
                "showarrow": false,
                "text": 23,
                "x": 40.079,
                "y": 3.515,
                "yshift": 15,
                "z": 16.388
               },
               {
                "showarrow": false,
                "text": 24,
                "x": 39.992,
                "y": 3.197,
                "yshift": 15,
                "z": 17.747
               },
               {
                "showarrow": false,
                "text": 25,
                "x": 39.616,
                "y": 1.909,
                "yshift": 15,
                "z": 18.141
               },
               {
                "showarrow": false,
                "text": 26,
                "x": 39.331,
                "y": 0.938,
                "yshift": 15,
                "z": 17.177
               },
               {
                "showarrow": false,
                "text": 27,
                "x": 39.418,
                "y": 1.256,
                "yshift": 15,
                "z": 15.818
               },
               {
                "showarrow": false,
                "text": 28,
                "x": 37.466,
                "y": 6.242,
                "yshift": 15,
                "z": 14.38
               },
               {
                "showarrow": false,
                "text": 29,
                "x": 37.648,
                "y": 7.389,
                "yshift": 15,
                "z": 15.363
               },
               {
                "showarrow": false,
                "text": 30,
                "x": 40.659,
                "y": 11.076,
                "yshift": 15,
                "z": 15.866
               },
               {
                "showarrow": false,
                "text": 31,
                "x": 43.673,
                "y": 13.812,
                "yshift": 15,
                "z": 16.14
               },
               {
                "showarrow": false,
                "text": 32,
                "x": 43.374,
                "y": 15.243,
                "yshift": 15,
                "z": 15.314
               },
               {
                "showarrow": false,
                "text": 33,
                "x": 44.212,
                "y": 16.434,
                "yshift": 15,
                "z": 15.415
               },
               {
                "showarrow": false,
                "text": 34,
                "x": 45.388,
                "y": 16.405,
                "yshift": 15,
                "z": 15.871
               },
               {
                "showarrow": false,
                "text": 35,
                "x": 43.675,
                "y": 17.62,
                "yshift": 15,
                "z": 14.974
               },
               {
                "showarrow": false,
                "text": 36,
                "x": 39.622,
                "y": 15.764,
                "yshift": 15,
                "z": 13.898
               },
               {
                "showarrow": false,
                "text": 37,
                "x": 40.55,
                "y": 15.02,
                "yshift": 15,
                "z": 12.565
               },
               {
                "showarrow": false,
                "text": 38,
                "x": 40.538,
                "y": 13.624,
                "yshift": 15,
                "z": 14.427
               },
               {
                "showarrow": false,
                "text": 39,
                "x": 43.937,
                "y": 11.28,
                "yshift": 15,
                "z": 16.82
               },
               {
                "showarrow": false,
                "text": 40,
                "x": 43.51,
                "y": 8.898,
                "yshift": 15,
                "z": 17.427
               },
               {
                "showarrow": false,
                "text": 41,
                "x": 41.244,
                "y": 7.902,
                "yshift": 15,
                "z": 17.033
               },
               {
                "showarrow": false,
                "text": 42,
                "x": 38.349,
                "y": 9.514,
                "yshift": 15,
                "z": 16.625
               },
               {
                "showarrow": false,
                "text": 43,
                "x": 38.421,
                "y": 8.864,
                "yshift": 15,
                "z": 14.012
               },
               {
                "showarrow": false,
                "text": 44,
                "x": 40.759,
                "y": 8.241,
                "yshift": 15,
                "z": 14.051
               },
               {
                "showarrow": false,
                "text": 45,
                "x": 40.491,
                "y": 7.145,
                "yshift": 15,
                "z": 15.459
               },
               {
                "showarrow": false,
                "text": 46,
                "x": 39.312,
                "y": 6.804,
                "yshift": 15,
                "z": 12.655
               },
               {
                "showarrow": false,
                "text": 47,
                "x": 40.639,
                "y": 5.841,
                "yshift": 15,
                "z": 13.353
               },
               {
                "showarrow": false,
                "text": 48,
                "x": 39.77,
                "y": 1.947,
                "yshift": 15,
                "z": 13.389
               },
               {
                "showarrow": false,
                "text": 49,
                "x": 40.854,
                "y": 3.349,
                "yshift": 15,
                "z": 13.791
               },
               {
                "showarrow": false,
                "text": 50,
                "x": 40.377,
                "y": 4.528,
                "yshift": 15,
                "z": 16.078
               },
               {
                "showarrow": false,
                "text": 51,
                "x": 40.218,
                "y": 3.961,
                "yshift": 15,
                "z": 18.506
               },
               {
                "showarrow": false,
                "text": 52,
                "x": 39.546,
                "y": 1.66,
                "yshift": 15,
                "z": 19.21
               },
               {
                "showarrow": false,
                "text": 53,
                "x": 39.037,
                "y": -0.075,
                "yshift": 15,
                "z": 17.487
               },
               {
                "showarrow": false,
                "text": 54,
                "x": 39.196,
                "y": 0.49,
                "yshift": 15,
                "z": 15.06
               },
               {
                "showarrow": false,
                "text": 55,
                "x": 37.153,
                "y": 6.634,
                "yshift": 15,
                "z": 13.401
               },
               {
                "showarrow": false,
                "text": 56,
                "x": 36.693,
                "y": 5.547,
                "yshift": 15,
                "z": 14.739
               },
               {
                "showarrow": false,
                "text": 57,
                "x": 36.709,
                "y": 7.96,
                "yshift": 15,
                "z": 15.428
               },
               {
                "showarrow": false,
                "text": 58,
                "x": 37.912,
                "y": 6.974,
                "yshift": 15,
                "z": 16.346
               },
               {
                "showarrow": false,
                "text": 59,
                "x": 39.855,
                "y": 11.688,
                "yshift": 15,
                "z": 15.431
               },
               {
                "font": {
                 "color": "steelblue"
                },
                "showarrow": false,
                "text": 1.77,
                "x": 39.62,
                "y": 17.351,
                "yshift": 15,
                "z": 12.33
               },
               {
                "font": {
                 "color": "steelblue"
                },
                "showarrow": false,
                "text": 1.77,
                "x": 40.716499999999996,
                "y": 17.369500000000002,
                "yshift": 15,
                "z": 12.006
               },
               {
                "font": {
                 "color": "steelblue"
                },
                "showarrow": false,
                "text": 1.77,
                "x": 40.3255,
                "y": 16.5075,
                "yshift": 15,
                "z": 12.7805
               },
               {
                "font": {
                 "color": "steelblue"
                },
                "showarrow": false,
                "text": 1.77,
                "x": 41.05,
                "y": 16.0255,
                "yshift": 15,
                "z": 13.553999999999998
               },
               {
                "font": {
                 "color": "steelblue"
                },
                "showarrow": false,
                "text": 1.18,
                "x": 40.0385,
                "y": 15.84,
                "yshift": 15,
                "z": 13.5475
               },
               {
                "font": {
                 "color": "steelblue"
                },
                "showarrow": false,
                "text": 1.18,
                "x": 40.5025,
                "y": 15.468,
                "yshift": 15,
                "z": 12.881
               },
               {
                "font": {
                 "color": "steelblue"
                },
                "showarrow": false,
                "text": 1.77,
                "x": 41.9045,
                "y": 15.626000000000001,
                "yshift": 15,
                "z": 14.2915
               },
               {
                "font": {
                 "color": "steelblue"
                },
                "showarrow": false,
                "text": 1.77,
                "x": 41.838,
                "y": 14.499500000000001,
                "yshift": 15,
                "z": 14.77
               },
               {
                "font": {
                 "color": "steelblue"
                },
                "showarrow": false,
                "text": 1.77,
                "x": 42.769000000000005,
                "y": 15.18,
                "yshift": 15,
                "z": 14.993
               },
               {
                "font": {
                 "color": "steelblue"
                },
                "showarrow": false,
                "text": 1.77,
                "x": 41.8805,
                "y": 13.454,
                "yshift": 15,
                "z": 15.278
               },
               {
                "font": {
                 "color": "steelblue"
                },
                "showarrow": false,
                "text": 1.18,
                "x": 41.025,
                "y": 13.753,
                "yshift": 15,
                "z": 14.6475
               },
               {
                "font": {
                 "color": "steelblue"
                },
                "showarrow": false,
                "text": 1.77,
                "x": 42.091,
                "y": 12.3285,
                "yshift": 15,
                "z": 15.875
               },
               {
                "font": {
                 "color": "steelblue"
                },
                "showarrow": false,
                "text": 2.21,
                "x": 42.961,
                "y": 13.419,
                "yshift": 15,
                "z": 15.914000000000001
               },
               {
                "font": {
                 "color": "steelblue"
                },
                "showarrow": false,
                "text": 1.77,
                "x": 42.438500000000005,
                "y": 11.2365,
                "yshift": 15,
                "z": 16.351
               },
               {
                "font": {
                 "color": "steelblue"
                },
                "showarrow": false,
                "text": 1.77,
                "x": 41.296,
                "y": 11.3535,
                "yshift": 15,
                "z": 15.964
               },
               {
                "font": {
                 "color": "steelblue"
                },
                "showarrow": false,
                "text": 1.77,
                "x": 42.825,
                "y": 10.1745,
                "yshift": 15,
                "z": 16.814
               },
               {
                "font": {
                 "color": "steelblue"
                },
                "showarrow": false,
                "text": 1.18,
                "x": 43.4405,
                "y": 11.061,
                "yshift": 15,
                "z": 16.73
               },
               {
                "font": {
                 "color": "steelblue"
                },
                "showarrow": false,
                "text": 1.77,
                "x": 42.072,
                "y": 9.23,
                "yshift": 15,
                "z": 16.880499999999998
               },
               {
                "font": {
                 "color": "steelblue"
                },
                "showarrow": false,
                "text": 1.18,
                "x": 43.108000000000004,
                "y": 9.2025,
                "yshift": 15,
                "z": 17.2075
               },
               {
                "font": {
                 "color": "steelblue"
                },
                "showarrow": false,
                "text": 1.77,
                "x": 40.924,
                "y": 9.349,
                "yshift": 15,
                "z": 16.497
               },
               {
                "font": {
                 "color": "steelblue"
                },
                "showarrow": false,
                "text": 1.18,
                "x": 41.341,
                "y": 8.4275,
                "yshift": 15,
                "z": 16.903
               },
               {
                "font": {
                 "color": "steelblue"
                },
                "showarrow": false,
                "text": 1.77,
                "x": 39.75749999999999,
                "y": 9.486999999999998,
                "yshift": 15,
                "z": 16.104
               },
               {
                "font": {
                 "color": "steelblue"
                },
                "showarrow": false,
                "text": 1.77,
                "x": 40.534499999999994,
                "y": 10.410499999999999,
                "yshift": 15,
                "z": 16.0435
               },
               {
                "font": {
                 "color": "steelblue"
                },
                "showarrow": false,
                "text": 1.77,
                "x": 38.941,
                "y": 8.7775,
                "yshift": 15,
                "z": 15.445
               },
               {
                "font": {
                 "color": "steelblue"
                },
                "showarrow": false,
                "text": 1.18,
                "x": 38.727,
                "y": 9.3715,
                "yshift": 15,
                "z": 16.306
               },
               {
                "font": {
                 "color": "steelblue"
                },
                "showarrow": false,
                "text": 1.77,
                "x": 39.4135,
                "y": 7.9415000000000004,
                "yshift": 15,
                "z": 14.721
               },
               {
                "font": {
                 "color": "steelblue"
                },
                "showarrow": false,
                "text": 1.77,
                "x": 38.212500000000006,
                "y": 7.8575,
                "yshift": 15,
                "z": 15.133
               },
               {
                "font": {
                 "color": "steelblue"
                },
                "showarrow": false,
                "text": 1.18,
                "x": 38.599000000000004,
                "y": 8.595,
                "yshift": 15,
                "z": 14.4575
               },
               {
                "font": {
                 "color": "steelblue"
                },
                "showarrow": false,
                "text": 1.77,
                "x": 39.8895,
                "y": 6.9835,
                "yshift": 15,
                "z": 14.065999999999999
               },
               {
                "font": {
                 "color": "steelblue"
                },
                "showarrow": false,
                "text": 1.18,
                "x": 40.4045,
                "y": 7.899,
                "yshift": 15,
                "z": 14.295
               },
               {
                "font": {
                 "color": "steelblue"
                },
                "showarrow": false,
                "text": 1.18,
                "x": 40.2705,
                "y": 7.351,
                "yshift": 15,
                "z": 14.998999999999999
               },
               {
                "font": {
                 "color": "steelblue"
                },
                "showarrow": false,
                "text": 1.77,
                "x": 39.239000000000004,
                "y": 5.9830000000000005,
                "yshift": 15,
                "z": 13.923
               },
               {
                "font": {
                 "color": "steelblue"
                },
                "showarrow": false,
                "text": 1.18,
                "x": 39.5205,
                "y": 6.607,
                "yshift": 15,
                "z": 13.123999999999999
               },
               {
                "font": {
                 "color": "steelblue"
                },
                "showarrow": false,
                "text": 1.18,
                "x": 40.184,
                "y": 6.125500000000001,
                "yshift": 15,
                "z": 13.472999999999999
               },
               {
                "font": {
                 "color": "steelblue"
                },
                "showarrow": false,
                "text": 2.21,
                "x": 38.6775,
                "y": 4.7915,
                "yshift": 15,
                "z": 13.855
               },
               {
                "font": {
                 "color": "steelblue"
                },
                "showarrow": false,
                "text": 1.77,
                "x": 38.1075,
                "y": 5.899,
                "yshift": 15,
                "z": 14.316500000000001
               },
               {
                "font": {
                 "color": "steelblue"
                },
                "showarrow": false,
                "text": 2.21,
                "x": 38.641000000000005,
                "y": 4.140499999999999,
                "yshift": 15,
                "z": 12.714
               },
               {
                "font": {
                 "color": "steelblue"
                },
                "showarrow": false,
                "text": 2.21,
                "x": 37.938,
                "y": 3.7315,
                "yshift": 15,
                "z": 13.6355
               },
               {
                "font": {
                 "color": "steelblue"
                },
                "showarrow": false,
                "text": 2.21,
                "x": 39.2415,
                "y": 3.451,
                "yshift": 15,
                "z": 13.7135
               },
               {
                "font": {
                 "color": "steelblue"
                },
                "showarrow": false,
                "text": 1.77,
                "x": 39.832499999999996,
                "y": 2.7104999999999997,
                "yshift": 15,
                "z": 14.6955
               },
               {
                "font": {
                 "color": "steelblue"
                },
                "showarrow": false,
                "text": 1.18,
                "x": 39.8235,
                "y": 2.411,
                "yshift": 15,
                "z": 13.6795
               },
               {
                "font": {
                 "color": "steelblue"
                },
                "showarrow": false,
                "text": 1.18,
                "x": 40.3655,
                "y": 3.112,
                "yshift": 15,
                "z": 13.880500000000001
               },
               {
                "font": {
                 "color": "steelblue"
                },
                "showarrow": false,
                "text": 1.77,
                "x": 39.933499999999995,
                "y": 3.0305,
                "yshift": 15,
                "z": 15.9045
               },
               {
                "font": {
                 "color": "steelblue"
                },
                "showarrow": false,
                "text": 1.77,
                "x": 39.602999999999994,
                "y": 1.9009999999999998,
                "yshift": 15,
                "z": 15.619499999999999
               },
               {
                "font": {
                 "color": "steelblue"
                },
                "showarrow": false,
                "text": 1.77,
                "x": 40.0355,
                "y": 3.356,
                "yshift": 15,
                "z": 17.067500000000003
               },
               {
                "font": {
                 "color": "steelblue"
                },
                "showarrow": false,
                "text": 1.18,
                "x": 40.228,
                "y": 4.0215,
                "yshift": 15,
                "z": 16.233
               },
               {
                "font": {
                 "color": "steelblue"
                },
                "showarrow": false,
                "text": 1.77,
                "x": 39.804,
                "y": 2.553,
                "yshift": 15,
                "z": 17.944
               },
               {
                "font": {
                 "color": "steelblue"
                },
                "showarrow": false,
                "text": 1.18,
                "x": 40.105000000000004,
                "y": 3.5789999999999997,
                "yshift": 15,
                "z": 18.1265
               },
               {
                "font": {
                 "color": "steelblue"
                },
                "showarrow": false,
                "text": 1.77,
                "x": 39.4735,
                "y": 1.4235,
                "yshift": 15,
                "z": 17.659
               },
               {
                "font": {
                 "color": "steelblue"
                },
                "showarrow": false,
                "text": 1.18,
                "x": 39.581,
                "y": 1.7845,
                "yshift": 15,
                "z": 18.6755
               },
               {
                "font": {
                 "color": "steelblue"
                },
                "showarrow": false,
                "text": 1.77,
                "x": 39.3745,
                "y": 1.097,
                "yshift": 15,
                "z": 16.4975
               },
               {
                "font": {
                 "color": "steelblue"
                },
                "showarrow": false,
                "text": 1.18,
                "x": 39.184,
                "y": 0.4315,
                "yshift": 15,
                "z": 17.332
               },
               {
                "font": {
                 "color": "steelblue"
                },
                "showarrow": false,
                "text": 1.18,
                "x": 39.307,
                "y": 0.873,
                "yshift": 15,
                "z": 15.439
               },
               {
                "font": {
                 "color": "steelblue"
                },
                "showarrow": false,
                "text": 1.77,
                "x": 37.557,
                "y": 6.8155,
                "yshift": 15,
                "z": 14.871500000000001
               },
               {
                "font": {
                 "color": "steelblue"
                },
                "showarrow": false,
                "text": 1.18,
                "x": 37.3095,
                "y": 6.438000000000001,
                "yshift": 15,
                "z": 13.8905
               },
               {
                "font": {
                 "color": "steelblue"
                },
                "showarrow": false,
                "text": 1.18,
                "x": 37.079499999999996,
                "y": 5.8945,
                "yshift": 15,
                "z": 14.5595
               },
               {
                "font": {
                 "color": "steelblue"
                },
                "showarrow": false,
                "text": 1.18,
                "x": 37.1785,
                "y": 7.6745,
                "yshift": 15,
                "z": 15.3955
               },
               {
                "font": {
                 "color": "steelblue"
                },
                "showarrow": false,
                "text": 1.18,
                "x": 37.78,
                "y": 7.1815,
                "yshift": 15,
                "z": 15.8545
               },
               {
                "font": {
                 "color": "steelblue"
                },
                "showarrow": false,
                "text": 1.18,
                "x": 40.257,
                "y": 11.382000000000001,
                "yshift": 15,
                "z": 15.648499999999999
               },
               {
                "font": {
                 "color": "steelblue"
                },
                "showarrow": false,
                "text": 2.21,
                "x": 43.5235,
                "y": 14.5275,
                "yshift": 15,
                "z": 15.727
               },
               {
                "font": {
                 "color": "steelblue"
                },
                "showarrow": false,
                "text": 1.77,
                "x": 43.793000000000006,
                "y": 15.8385,
                "yshift": 15,
                "z": 15.3645
               },
               {
                "font": {
                 "color": "steelblue"
                },
                "showarrow": false,
                "text": 1.77,
                "x": 44.8,
                "y": 16.4195,
                "yshift": 15,
                "z": 15.643
               },
               {
                "font": {
                 "color": "steelblue"
                },
                "showarrow": false,
                "text": 1.77,
                "x": 43.9435,
                "y": 17.027,
                "yshift": 15,
                "z": 15.1945
               }
              ]
             }
            ],
            "label": "Indices & Bond Lengths",
            "method": "relayout"
           },
           {
            "args": [
             {
              "scene.annotations": [
               {
                "font": {
                 "color": "steelblue"
                },
                "showarrow": false,
                "text": 1.77,
                "x": 40.887,
                "y": 17.351,
                "yshift": 15,
                "z": 11.8315
               },
               {
                "font": {
                 "color": "steelblue"
                },
                "showarrow": false,
                "text": 1.77,
                "x": 40.554,
                "y": 18.16,
                "yshift": 15,
                "z": 12.568
               },
               {
                "font": {
                 "color": "steelblue"
                },
                "showarrow": false,
                "text": 1.77,
                "x": 40.754999999999995,
                "y": 17.0215,
                "yshift": 15,
                "z": 12.965499999999999
               },
               {
                "font": {
                 "color": "steelblue"
                },
                "showarrow": false,
                "text": 1.77,
                "x": 41.415499999999994,
                "y": 16.241,
                "yshift": 15,
                "z": 13.52
               },
               {
                "font": {
                 "color": "steelblue"
                },
                "showarrow": false,
                "text": 1.18,
                "x": 40.675,
                "y": 16.7785,
                "yshift": 15,
                "z": 13.99
               },
               {
                "font": {
                 "color": "steelblue"
                },
                "showarrow": false,
                "text": 1.18,
                "x": 40.3925,
                "y": 16.142,
                "yshift": 15,
                "z": 13.4305
               },
               {
                "font": {
                 "color": "steelblue"
                },
                "showarrow": false,
                "text": 1.77,
                "x": 42.206999999999994,
                "y": 15.4955,
                "yshift": 15,
                "z": 14.018999999999998
               },
               {
                "font": {
                 "color": "steelblue"
                },
                "showarrow": false,
                "text": 1.77,
                "x": 42.807,
                "y": 15.1805,
                "yshift": 15,
                "z": 15.0085
               },
               {
                "font": {
                 "color": "steelblue"
                },
                "showarrow": false,
                "text": 1.77,
                "x": 42.069,
                "y": 14.397,
                "yshift": 15,
                "z": 14.547
               },
               {
                "font": {
                 "color": "steelblue"
                },
                "showarrow": false,
                "text": 1.77,
                "x": 43.5865,
                "y": 15.96,
                "yshift": 15,
                "z": 15.643
               },
               {
                "font": {
                 "color": "steelblue"
                },
                "showarrow": false,
                "text": 2.21,
                "x": 43.3065,
                "y": 14.6515,
                "yshift": 15,
                "z": 16.012
               },
               {
                "font": {
                 "color": "steelblue"
                },
                "showarrow": false,
                "text": 1.77,
                "x": 43.783,
                "y": 17.1245,
                "yshift": 15,
                "z": 15.457999999999998
               },
               {
                "font": {
                 "color": "steelblue"
                },
                "showarrow": false,
                "text": 1.77,
                "x": 44.3865,
                "y": 16.609,
                "yshift": 15,
                "z": 16.2785
               },
               {
                "font": {
                 "color": "steelblue"
                },
                "showarrow": false,
                "text": 2.21,
                "x": 42.799499999999995,
                "y": 13.5,
                "yshift": 15,
                "z": 16.099
               },
               {
                "font": {
                 "color": "steelblue"
                },
                "showarrow": false,
                "text": 1.77,
                "x": 42.086,
                "y": 12.322,
                "yshift": 15,
                "z": 15.8725
               },
               {
                "font": {
                 "color": "steelblue"
                },
                "showarrow": false,
                "text": 1.77,
                "x": 42.010999999999996,
                "y": 13.388,
                "yshift": 15,
                "z": 15.1345
               },
               {
                "font": {
                 "color": "steelblue"
                },
                "showarrow": false,
                "text": 1.77,
                "x": 42.437,
                "y": 11.231,
                "yshift": 15,
                "z": 16.35
               },
               {
                "font": {
                 "color": "steelblue"
                },
                "showarrow": false,
                "text": 1.77,
                "x": 41.293,
                "y": 11.346,
                "yshift": 15,
                "z": 15.969000000000001
               },
               {
                "font": {
                 "color": "steelblue"
                },
                "showarrow": false,
                "text": 1.77,
                "x": 42.825500000000005,
                "y": 10.1705,
                "yshift": 15,
                "z": 16.8125
               },
               {
                "font": {
                 "color": "steelblue"
                },
                "showarrow": false,
                "text": 1.18,
                "x": 43.44,
                "y": 11.058,
                "yshift": 15,
                "z": 16.727
               },
               {
                "font": {
                 "color": "steelblue"
                },
                "showarrow": false,
                "text": 1.77,
                "x": 42.073,
                "y": 9.224,
                "yshift": 15,
                "z": 16.88
               },
               {
                "font": {
                 "color": "steelblue"
                },
                "showarrow": false,
                "text": 1.18,
                "x": 43.1095,
                "y": 9.199,
                "yshift": 15,
                "z": 17.2065
               },
               {
                "font": {
                 "color": "steelblue"
                },
                "showarrow": false,
                "text": 1.77,
                "x": 40.924,
                "y": 9.3405,
                "yshift": 15,
                "z": 16.499499999999998
               },
               {
                "font": {
                 "color": "steelblue"
                },
                "showarrow": false,
                "text": 1.18,
                "x": 41.3435,
                "y": 8.419,
                "yshift": 15,
                "z": 16.902
               },
               {
                "font": {
                 "color": "steelblue"
                },
                "showarrow": false,
                "text": 1.77,
                "x": 39.756,
                "y": 9.479500000000002,
                "yshift": 15,
                "z": 16.109
               },
               {
                "font": {
                 "color": "steelblue"
                },
                "showarrow": false,
                "text": 1.77,
                "x": 40.5325,
                "y": 10.402000000000001,
                "yshift": 15,
                "z": 16.051
               },
               {
                "font": {
                 "color": "steelblue"
                },
                "showarrow": false,
                "text": 1.77,
                "x": 38.926,
                "y": 8.79,
                "yshift": 15,
                "z": 15.438500000000001
               },
               {
                "font": {
                 "color": "steelblue"
                },
                "showarrow": false,
                "text": 1.18,
                "x": 38.7305,
                "y": 9.353000000000002,
                "yshift": 15,
                "z": 16.323
               },
               {
                "font": {
                 "color": "steelblue"
                },
                "showarrow": false,
                "text": 1.77,
                "x": 39.368,
                "y": 7.9544999999999995,
                "yshift": 15,
                "z": 14.71
               },
               {
                "font": {
                 "color": "steelblue"
                },
                "showarrow": false,
                "text": 1.77,
                "x": 38.205,
                "y": 7.877,
                "yshift": 15,
                "z": 15.1155
               },
               {
                "font": {
                 "color": "steelblue"
                },
                "showarrow": false,
                "text": 1.18,
                "x": 38.5715,
                "y": 8.648,
                "yshift": 15,
                "z": 14.453
               },
               {
                "font": {
                 "color": "steelblue"
                },
                "showarrow": false,
                "text": 1.77,
                "x": 39.8485,
                "y": 7.0565,
                "yshift": 15,
                "z": 13.977
               },
               {
                "font": {
                 "color": "steelblue"
                },
                "showarrow": false,
                "text": 1.18,
                "x": 40.3845,
                "y": 7.896,
                "yshift": 15,
                "z": 14.373999999999999
               },
               {
                "font": {
                 "color": "steelblue"
                },
                "showarrow": false,
                "text": 1.18,
                "x": 40.1405,
                "y": 7.27,
                "yshift": 15,
                "z": 14.9815
               },
               {
                "font": {
                 "color": "steelblue"
                },
                "showarrow": false,
                "text": 1.77,
                "x": 39.0955,
                "y": 6.173,
                "yshift": 15,
                "z": 13.517
               },
               {
                "font": {
                 "color": "steelblue"
                },
                "showarrow": false,
                "text": 1.18,
                "x": 39.667,
                "y": 6.839,
                "yshift": 15,
                "z": 12.946000000000002
               },
               {
                "font": {
                 "color": "steelblue"
                },
                "showarrow": false,
                "text": 1.18,
                "x": 40.128,
                "y": 6.202999999999999,
                "yshift": 15,
                "z": 13.413
               },
               {
                "font": {
                 "color": "steelblue"
                },
                "showarrow": false,
                "text": 2.21,
                "x": 38.597,
                "y": 4.939500000000001,
                "yshift": 15,
                "z": 13.733
               },
               {
                "font": {
                 "color": "steelblue"
                },
                "showarrow": false,
                "text": 1.77,
                "x": 37.8955,
                "y": 6.083,
                "yshift": 15,
                "z": 13.942499999999999
               },
               {
                "font": {
                 "color": "steelblue"
                },
                "showarrow": false,
                "text": 2.21,
                "x": 38.066,
                "y": 3.7185,
                "yshift": 15,
                "z": 13.8935
               },
               {
                "font": {
                 "color": "steelblue"
                },
                "showarrow": false,
                "text": 2.21,
                "x": 39.186499999999995,
                "y": 3.802,
                "yshift": 15,
                "z": 13.348
               },
               {
                "font": {
                 "color": "steelblue"
                },
                "showarrow": false,
                "text": 2.21,
                "x": 39.1065,
                "y": 4.0120000000000005,
                "yshift": 15,
                "z": 14.6485
               },
               {
                "font": {
                 "color": "steelblue"
                },
                "showarrow": false,
                "text": 1.77,
                "x": 39.72,
                "y": 3.2279999999999998,
                "yshift": 15,
                "z": 15.565999999999999
               },
               {
                "font": {
                 "color": "steelblue"
                },
                "showarrow": false,
                "text": 1.18,
                "x": 39.938500000000005,
                "y": 4.2615,
                "yshift": 15,
                "z": 15.464500000000001
               },
               {
                "font": {
                 "color": "steelblue"
                },
                "showarrow": false,
                "text": 1.18,
                "x": 39.1365,
                "y": 4.0680000000000005,
                "yshift": 15,
                "z": 15.835
               },
               {
                "font": {
                 "color": "steelblue"
                },
                "showarrow": false,
                "text": 1.77,
                "x": 39.4875,
                "y": 2.0545,
                "yshift": 15,
                "z": 15.9355
               },
               {
                "font": {
                 "color": "steelblue"
                },
                "showarrow": false,
                "text": 1.77,
                "x": 40.5975,
                "y": 2.335,
                "yshift": 15,
                "z": 15.5395
               },
               {
                "font": {
                 "color": "steelblue"
                },
                "showarrow": false,
                "text": 1.77,
                "x": 39.2395,
                "y": 0.923,
                "yshift": 15,
                "z": 16.2905
               },
               {
                "font": {
                 "color": "steelblue"
                },
                "showarrow": false,
                "text": 1.18,
                "x": 38.5175,
                "y": 1.732,
                "yshift": 15,
                "z": 16.298000000000002
               },
               {
                "font": {
                 "color": "steelblue"
                },
                "showarrow": false,
                "text": 1.77,
                "x": 40.101,
                "y": 0.07350000000000001,
                "yshift": 15,
                "z": 16.2515
               },
               {
                "font": {
                 "color": "steelblue"
                },
                "showarrow": false,
                "text": 1.18,
                "x": 39.088,
                "y": -0.10699999999999998,
                "yshift": 15,
                "z": 16.593
               },
               {
                "font": {
                 "color": "steelblue"
                },
                "showarrow": false,
                "text": 1.77,
                "x": 41.210499999999996,
                "y": 0.354,
                "yshift": 15,
                "z": 15.856
               },
               {
                "font": {
                 "color": "steelblue"
                },
                "showarrow": false,
                "text": 1.18,
                "x": 40.919,
                "y": -0.6355000000000001,
                "yshift": 15,
                "z": 16.1905
               },
               {
                "font": {
                 "color": "steelblue"
                },
                "showarrow": false,
                "text": 1.77,
                "x": 41.459,
                "y": 1.484,
                "yshift": 15,
                "z": 15.499
               },
               {
                "font": {
                 "color": "steelblue"
                },
                "showarrow": false,
                "text": 1.18,
                "x": 42.18,
                "y": 0.6745,
                "yshift": 15,
                "z": 15.491
               },
               {
                "font": {
                 "color": "steelblue"
                },
                "showarrow": false,
                "text": 1.18,
                "x": 41.611000000000004,
                "y": 2.5135,
                "yshift": 15,
                "z": 15.195
               },
               {
                "font": {
                 "color": "steelblue"
                },
                "showarrow": false,
                "text": 1.77,
                "x": 37.4855,
                "y": 6.889,
                "yshift": 15,
                "z": 14.808
               },
               {
                "font": {
                 "color": "steelblue"
                },
                "showarrow": false,
                "text": 1.18,
                "x": 37.006,
                "y": 6.632,
                "yshift": 15,
                "z": 13.8865
               },
               {
                "font": {
                 "color": "steelblue"
                },
                "showarrow": false,
                "text": 1.18,
                "x": 37.039,
                "y": 5.971500000000001,
                "yshift": 15,
                "z": 14.5175
               },
               {
                "font": {
                 "color": "steelblue"
                },
                "showarrow": false,
                "text": 1.18,
                "x": 37.210499999999996,
                "y": 7.686,
                "yshift": 15,
                "z": 15.472000000000001
               },
               {
                "font": {
                 "color": "steelblue"
                },
                "showarrow": false,
                "text": 1.18,
                "x": 37.8495,
                "y": 7.1235,
                "yshift": 15,
                "z": 15.7845
               },
               {
                "font": {
                 "color": "steelblue"
                },
                "showarrow": false,
                "text": 1.18,
                "x": 40.2515,
                "y": 11.3745,
                "yshift": 15,
                "z": 15.6645
               },
               {
                "font": {
                 "color": "steelblue"
                },
                "showarrow": false,
                "text": 2.46,
                "x": 41.167500000000004,
                "y": 13.427,
                "yshift": 15,
                "z": 13.9275
               },
               {
                "font": {
                 "color": "steelblue"
                },
                "showarrow": false,
                "text": 1.77,
                "x": 39.62,
                "y": 17.351,
                "yshift": 15,
                "z": 12.33
               },
               {
                "font": {
                 "color": "steelblue"
                },
                "showarrow": false,
                "text": 1.77,
                "x": 40.716499999999996,
                "y": 17.369500000000002,
                "yshift": 15,
                "z": 12.006
               },
               {
                "font": {
                 "color": "steelblue"
                },
                "showarrow": false,
                "text": 1.77,
                "x": 40.3255,
                "y": 16.5075,
                "yshift": 15,
                "z": 12.7805
               },
               {
                "font": {
                 "color": "steelblue"
                },
                "showarrow": false,
                "text": 1.77,
                "x": 41.05,
                "y": 16.0255,
                "yshift": 15,
                "z": 13.553999999999998
               },
               {
                "font": {
                 "color": "steelblue"
                },
                "showarrow": false,
                "text": 1.18,
                "x": 40.0385,
                "y": 15.84,
                "yshift": 15,
                "z": 13.5475
               },
               {
                "font": {
                 "color": "steelblue"
                },
                "showarrow": false,
                "text": 1.18,
                "x": 40.5025,
                "y": 15.468,
                "yshift": 15,
                "z": 12.881
               },
               {
                "font": {
                 "color": "steelblue"
                },
                "showarrow": false,
                "text": 1.77,
                "x": 41.9045,
                "y": 15.626000000000001,
                "yshift": 15,
                "z": 14.2915
               },
               {
                "font": {
                 "color": "steelblue"
                },
                "showarrow": false,
                "text": 1.77,
                "x": 41.838,
                "y": 14.499500000000001,
                "yshift": 15,
                "z": 14.77
               },
               {
                "font": {
                 "color": "steelblue"
                },
                "showarrow": false,
                "text": 1.77,
                "x": 42.769000000000005,
                "y": 15.18,
                "yshift": 15,
                "z": 14.993
               },
               {
                "font": {
                 "color": "steelblue"
                },
                "showarrow": false,
                "text": 1.77,
                "x": 41.8805,
                "y": 13.454,
                "yshift": 15,
                "z": 15.278
               },
               {
                "font": {
                 "color": "steelblue"
                },
                "showarrow": false,
                "text": 1.18,
                "x": 41.025,
                "y": 13.753,
                "yshift": 15,
                "z": 14.6475
               },
               {
                "font": {
                 "color": "steelblue"
                },
                "showarrow": false,
                "text": 1.77,
                "x": 42.091,
                "y": 12.3285,
                "yshift": 15,
                "z": 15.875
               },
               {
                "font": {
                 "color": "steelblue"
                },
                "showarrow": false,
                "text": 2.21,
                "x": 42.961,
                "y": 13.419,
                "yshift": 15,
                "z": 15.914000000000001
               },
               {
                "font": {
                 "color": "steelblue"
                },
                "showarrow": false,
                "text": 1.77,
                "x": 42.438500000000005,
                "y": 11.2365,
                "yshift": 15,
                "z": 16.351
               },
               {
                "font": {
                 "color": "steelblue"
                },
                "showarrow": false,
                "text": 1.77,
                "x": 41.296,
                "y": 11.3535,
                "yshift": 15,
                "z": 15.964
               },
               {
                "font": {
                 "color": "steelblue"
                },
                "showarrow": false,
                "text": 1.77,
                "x": 42.825,
                "y": 10.1745,
                "yshift": 15,
                "z": 16.814
               },
               {
                "font": {
                 "color": "steelblue"
                },
                "showarrow": false,
                "text": 1.18,
                "x": 43.4405,
                "y": 11.061,
                "yshift": 15,
                "z": 16.73
               },
               {
                "font": {
                 "color": "steelblue"
                },
                "showarrow": false,
                "text": 1.77,
                "x": 42.072,
                "y": 9.23,
                "yshift": 15,
                "z": 16.880499999999998
               },
               {
                "font": {
                 "color": "steelblue"
                },
                "showarrow": false,
                "text": 1.18,
                "x": 43.108000000000004,
                "y": 9.2025,
                "yshift": 15,
                "z": 17.2075
               },
               {
                "font": {
                 "color": "steelblue"
                },
                "showarrow": false,
                "text": 1.77,
                "x": 40.924,
                "y": 9.349,
                "yshift": 15,
                "z": 16.497
               },
               {
                "font": {
                 "color": "steelblue"
                },
                "showarrow": false,
                "text": 1.18,
                "x": 41.341,
                "y": 8.4275,
                "yshift": 15,
                "z": 16.903
               },
               {
                "font": {
                 "color": "steelblue"
                },
                "showarrow": false,
                "text": 1.77,
                "x": 39.75749999999999,
                "y": 9.486999999999998,
                "yshift": 15,
                "z": 16.104
               },
               {
                "font": {
                 "color": "steelblue"
                },
                "showarrow": false,
                "text": 1.77,
                "x": 40.534499999999994,
                "y": 10.410499999999999,
                "yshift": 15,
                "z": 16.0435
               },
               {
                "font": {
                 "color": "steelblue"
                },
                "showarrow": false,
                "text": 1.77,
                "x": 38.941,
                "y": 8.7775,
                "yshift": 15,
                "z": 15.445
               },
               {
                "font": {
                 "color": "steelblue"
                },
                "showarrow": false,
                "text": 1.18,
                "x": 38.727,
                "y": 9.3715,
                "yshift": 15,
                "z": 16.306
               },
               {
                "font": {
                 "color": "steelblue"
                },
                "showarrow": false,
                "text": 1.77,
                "x": 39.4135,
                "y": 7.9415000000000004,
                "yshift": 15,
                "z": 14.721
               },
               {
                "font": {
                 "color": "steelblue"
                },
                "showarrow": false,
                "text": 1.77,
                "x": 38.212500000000006,
                "y": 7.8575,
                "yshift": 15,
                "z": 15.133
               },
               {
                "font": {
                 "color": "steelblue"
                },
                "showarrow": false,
                "text": 1.18,
                "x": 38.599000000000004,
                "y": 8.595,
                "yshift": 15,
                "z": 14.4575
               },
               {
                "font": {
                 "color": "steelblue"
                },
                "showarrow": false,
                "text": 1.77,
                "x": 39.8895,
                "y": 6.9835,
                "yshift": 15,
                "z": 14.065999999999999
               },
               {
                "font": {
                 "color": "steelblue"
                },
                "showarrow": false,
                "text": 1.18,
                "x": 40.4045,
                "y": 7.899,
                "yshift": 15,
                "z": 14.295
               },
               {
                "font": {
                 "color": "steelblue"
                },
                "showarrow": false,
                "text": 1.18,
                "x": 40.2705,
                "y": 7.351,
                "yshift": 15,
                "z": 14.998999999999999
               },
               {
                "font": {
                 "color": "steelblue"
                },
                "showarrow": false,
                "text": 1.77,
                "x": 39.239000000000004,
                "y": 5.9830000000000005,
                "yshift": 15,
                "z": 13.923
               },
               {
                "font": {
                 "color": "steelblue"
                },
                "showarrow": false,
                "text": 1.18,
                "x": 39.5205,
                "y": 6.607,
                "yshift": 15,
                "z": 13.123999999999999
               },
               {
                "font": {
                 "color": "steelblue"
                },
                "showarrow": false,
                "text": 1.18,
                "x": 40.184,
                "y": 6.125500000000001,
                "yshift": 15,
                "z": 13.472999999999999
               },
               {
                "font": {
                 "color": "steelblue"
                },
                "showarrow": false,
                "text": 2.21,
                "x": 38.6775,
                "y": 4.7915,
                "yshift": 15,
                "z": 13.855
               },
               {
                "font": {
                 "color": "steelblue"
                },
                "showarrow": false,
                "text": 1.77,
                "x": 38.1075,
                "y": 5.899,
                "yshift": 15,
                "z": 14.316500000000001
               },
               {
                "font": {
                 "color": "steelblue"
                },
                "showarrow": false,
                "text": 2.21,
                "x": 38.641000000000005,
                "y": 4.140499999999999,
                "yshift": 15,
                "z": 12.714
               },
               {
                "font": {
                 "color": "steelblue"
                },
                "showarrow": false,
                "text": 2.21,
                "x": 37.938,
                "y": 3.7315,
                "yshift": 15,
                "z": 13.6355
               },
               {
                "font": {
                 "color": "steelblue"
                },
                "showarrow": false,
                "text": 2.21,
                "x": 39.2415,
                "y": 3.451,
                "yshift": 15,
                "z": 13.7135
               },
               {
                "font": {
                 "color": "steelblue"
                },
                "showarrow": false,
                "text": 1.77,
                "x": 39.832499999999996,
                "y": 2.7104999999999997,
                "yshift": 15,
                "z": 14.6955
               },
               {
                "font": {
                 "color": "steelblue"
                },
                "showarrow": false,
                "text": 1.18,
                "x": 39.8235,
                "y": 2.411,
                "yshift": 15,
                "z": 13.6795
               },
               {
                "font": {
                 "color": "steelblue"
                },
                "showarrow": false,
                "text": 1.18,
                "x": 40.3655,
                "y": 3.112,
                "yshift": 15,
                "z": 13.880500000000001
               },
               {
                "font": {
                 "color": "steelblue"
                },
                "showarrow": false,
                "text": 1.77,
                "x": 39.933499999999995,
                "y": 3.0305,
                "yshift": 15,
                "z": 15.9045
               },
               {
                "font": {
                 "color": "steelblue"
                },
                "showarrow": false,
                "text": 1.77,
                "x": 39.602999999999994,
                "y": 1.9009999999999998,
                "yshift": 15,
                "z": 15.619499999999999
               },
               {
                "font": {
                 "color": "steelblue"
                },
                "showarrow": false,
                "text": 1.77,
                "x": 40.0355,
                "y": 3.356,
                "yshift": 15,
                "z": 17.067500000000003
               },
               {
                "font": {
                 "color": "steelblue"
                },
                "showarrow": false,
                "text": 1.18,
                "x": 40.228,
                "y": 4.0215,
                "yshift": 15,
                "z": 16.233
               },
               {
                "font": {
                 "color": "steelblue"
                },
                "showarrow": false,
                "text": 1.77,
                "x": 39.804,
                "y": 2.553,
                "yshift": 15,
                "z": 17.944
               },
               {
                "font": {
                 "color": "steelblue"
                },
                "showarrow": false,
                "text": 1.18,
                "x": 40.105000000000004,
                "y": 3.5789999999999997,
                "yshift": 15,
                "z": 18.1265
               },
               {
                "font": {
                 "color": "steelblue"
                },
                "showarrow": false,
                "text": 1.77,
                "x": 39.4735,
                "y": 1.4235,
                "yshift": 15,
                "z": 17.659
               },
               {
                "font": {
                 "color": "steelblue"
                },
                "showarrow": false,
                "text": 1.18,
                "x": 39.581,
                "y": 1.7845,
                "yshift": 15,
                "z": 18.6755
               },
               {
                "font": {
                 "color": "steelblue"
                },
                "showarrow": false,
                "text": 1.77,
                "x": 39.3745,
                "y": 1.097,
                "yshift": 15,
                "z": 16.4975
               },
               {
                "font": {
                 "color": "steelblue"
                },
                "showarrow": false,
                "text": 1.18,
                "x": 39.184,
                "y": 0.4315,
                "yshift": 15,
                "z": 17.332
               },
               {
                "font": {
                 "color": "steelblue"
                },
                "showarrow": false,
                "text": 1.18,
                "x": 39.307,
                "y": 0.873,
                "yshift": 15,
                "z": 15.439
               },
               {
                "font": {
                 "color": "steelblue"
                },
                "showarrow": false,
                "text": 1.77,
                "x": 37.557,
                "y": 6.8155,
                "yshift": 15,
                "z": 14.871500000000001
               },
               {
                "font": {
                 "color": "steelblue"
                },
                "showarrow": false,
                "text": 1.18,
                "x": 37.3095,
                "y": 6.438000000000001,
                "yshift": 15,
                "z": 13.8905
               },
               {
                "font": {
                 "color": "steelblue"
                },
                "showarrow": false,
                "text": 1.18,
                "x": 37.079499999999996,
                "y": 5.8945,
                "yshift": 15,
                "z": 14.5595
               },
               {
                "font": {
                 "color": "steelblue"
                },
                "showarrow": false,
                "text": 1.18,
                "x": 37.1785,
                "y": 7.6745,
                "yshift": 15,
                "z": 15.3955
               },
               {
                "font": {
                 "color": "steelblue"
                },
                "showarrow": false,
                "text": 1.18,
                "x": 37.78,
                "y": 7.1815,
                "yshift": 15,
                "z": 15.8545
               },
               {
                "font": {
                 "color": "steelblue"
                },
                "showarrow": false,
                "text": 1.18,
                "x": 40.257,
                "y": 11.382000000000001,
                "yshift": 15,
                "z": 15.648499999999999
               },
               {
                "font": {
                 "color": "steelblue"
                },
                "showarrow": false,
                "text": 2.21,
                "x": 43.5235,
                "y": 14.5275,
                "yshift": 15,
                "z": 15.727
               },
               {
                "font": {
                 "color": "steelblue"
                },
                "showarrow": false,
                "text": 1.77,
                "x": 43.793000000000006,
                "y": 15.8385,
                "yshift": 15,
                "z": 15.3645
               },
               {
                "font": {
                 "color": "steelblue"
                },
                "showarrow": false,
                "text": 1.77,
                "x": 44.8,
                "y": 16.4195,
                "yshift": 15,
                "z": 15.643
               },
               {
                "font": {
                 "color": "steelblue"
                },
                "showarrow": false,
                "text": 1.77,
                "x": 43.9435,
                "y": 17.027,
                "yshift": 15,
                "z": 15.1945
               }
              ]
             }
            ],
            "label": "Bond Lengths",
            "method": "relayout"
           },
           {
            "args": [
             {
              "scene.annotations": []
             }
            ],
            "label": "Hide All",
            "method": "relayout"
           }
          ],
          "direction": "down",
          "xanchor": "left",
          "yanchor": "top"
         }
        ]
       }
      },
      "text/html": [
       "<div>                            <div id=\"8aa3e6a1-5164-4160-b6bf-f61a08daa5c8\" class=\"plotly-graph-div\" style=\"height:525px; width:100%;\"></div>            <script type=\"text/javascript\">                require([\"plotly\"], function(Plotly) {                    window.PLOTLYENV=window.PLOTLYENV || {};                                    if (document.getElementById(\"8aa3e6a1-5164-4160-b6bf-f61a08daa5c8\")) {                    Plotly.newPlot(                        \"8aa3e6a1-5164-4160-b6bf-f61a08daa5c8\",                        [{\"marker\":{\"color\":[\"red\",\"black\",\"red\",\"black\",\"red\",\"black\",\"black\",\"black\",\"red\",\"red\",\"yellow\",\"black\",\"black\",\"black\",\"black\",\"black\",\"black\",\"blue\",\"black\",\"black\",\"black\",\"blue\",\"yellow\",\"red\",\"red\",\"black\",\"black\",\"black\",\"black\",\"black\",\"black\",\"black\",\"black\",\"black\",\"black\",\"black\",\"darkred\",\"white\",\"white\",\"white\",\"white\",\"white\",\"white\",\"white\",\"white\",\"white\",\"white\",\"white\",\"white\",\"white\",\"white\",\"white\",\"white\",\"white\",\"white\",\"white\",\"white\",\"white\",\"white\",\"white\",\"red\",\"black\",\"red\",\"black\",\"red\",\"black\",\"black\",\"black\",\"black\",\"black\",\"black\",\"black\",\"black\",\"blue\",\"black\",\"black\",\"black\",\"blue\",\"yellow\",\"red\",\"red\",\"black\",\"black\",\"black\",\"black\",\"black\",\"black\",\"black\",\"black\",\"black\",\"black\",\"yellow\",\"black\",\"black\",\"red\",\"red\",\"white\",\"white\",\"white\",\"white\",\"white\",\"white\",\"white\",\"white\",\"white\",\"white\",\"white\",\"white\",\"white\",\"white\",\"white\",\"white\",\"white\",\"white\",\"white\",\"white\",\"white\",\"white\",\"white\",\"white\"],\"line\":{\"color\":\"lightgray\",\"width\":2},\"opacity\":0.8,\"size\":7,\"symbol\":\"circle\"},\"mode\":\"markers\",\"text\":[\"O1\",\"C1\",\"O2\",\"C2\",\"O3\",\"C3\",\"C4\",\"C5\",\"O4\",\"O5\",\"S1\",\"C6\",\"C7\",\"C8\",\"C9\",\"C10\",\"C11\",\"N1\",\"C12\",\"C13\",\"C14\",\"N2\",\"S2\",\"O6\",\"O7\",\"C15\",\"C16\",\"C17\",\"C18\",\"C19\",\"C20\",\"C21\",\"C22\",\"C23\",\"C24\",\"C25\",\"Br1\",\"H1\",\"H2\",\"H3\",\"H4\",\"H5\",\"H6\",\"H7\",\"H8\",\"H9\",\"H10\",\"H11\",\"H12\",\"H13\",\"H14\",\"H15\",\"H16\",\"H17\",\"H18\",\"H19\",\"H20\",\"H21\",\"H22\",\"H23\",\"O1\",\"C1\",\"O2\",\"C2\",\"O3\",\"C3\",\"C4\",\"C5\",\"C6\",\"C7\",\"C8\",\"C9\",\"C10\",\"N1\",\"C11\",\"C12\",\"C13\",\"N2\",\"S1\",\"O4\",\"O5\",\"C14\",\"C15\",\"C16\",\"C17\",\"C18\",\"C19\",\"C20\",\"C21\",\"C22\",\"C23\",\"S2\",\"C24\",\"C25\",\"O6\",\"O7\",\"H1\",\"H2\",\"H3\",\"H4\",\"H5\",\"H6\",\"H7\",\"H8\",\"H9\",\"H10\",\"H11\",\"H12\",\"H13\",\"H14\",\"H15\",\"H16\",\"H17\",\"H18\",\"H19\",\"H20\",\"H21\",\"H22\",\"H23\",\"H24\"],\"x\":[41.039,40.735,40.373,40.775,42.056,42.358,43.256,43.917,43.649,44.856,43.357,42.242,41.93,42.944,42.707,41.439,40.409,39.103,38.749,39.987,39.71,38.481,38.713,37.419,39.66,39.5,39.94,39.035,39.444,40.758,41.663,41.255,37.31,37.661,40.656,41.78,40.555,40.575,40.01,43.936,43.512,41.248,38.358,38.394,40.782,40.294,39.624,40.546,40.377,38.773,38.0,38.732,41.08,42.697,41.967,36.702,36.768,36.76,38.038,39.847,39.044,40.196,41.237,40.455,41.645,42.164,41.512,42.249,41.933,42.944,42.706,41.438,40.41,39.105,38.777,40.05,39.729,38.749,38.606,38.676,37.27,39.877,39.788,40.079,39.992,39.616,39.331,39.418,37.466,37.648,40.659,43.673,43.374,44.212,45.388,43.675,39.622,40.55,40.538,43.937,43.51,41.244,38.349,38.421,40.759,40.491,39.312,40.639,39.77,40.854,40.377,40.218,39.546,39.037,39.196,37.153,36.693,36.709,37.912,39.855],\"y\":[17.188,17.514,18.806,16.529,15.953,15.038,15.323,16.597,17.652,16.621,13.98,13.02,11.624,10.838,9.503,8.945,9.736,9.223,8.357,7.552,6.561,5.785,4.094,3.343,3.51,3.93,2.526,1.583,0.263,-0.116,0.824,2.144,6.381,7.397,11.068,13.756,13.098,17.028,15.755,11.278,8.895,7.893,9.483,8.939,8.24,6.988,7.117,5.845,4.593,4.206,1.881,-0.477,-1.155,0.525,2.883,6.883,5.562,7.975,6.85,11.681,17.603,17.099,17.64,15.916,16.135,15.117,13.882,13.026,11.631,10.842,9.507,8.953,9.745,9.229,8.326,7.557,6.41,5.556,4.027,4.254,3.436,2.875,2.546,3.515,3.197,1.909,0.938,1.256,6.242,7.389,11.076,13.812,15.243,16.434,16.405,17.62,15.764,15.02,13.624,11.28,8.898,7.902,9.514,8.864,8.241,7.145,6.804,5.841,1.947,3.349,4.528,3.961,1.66,-0.075,0.49,6.634,5.547,7.96,6.974,11.688],\"z\":[11.242,12.421,12.715,13.51,13.53,14.508,15.509,15.777,15.139,16.78,16.515,15.683,16.062,16.638,16.987,16.773,16.226,15.992,14.885,14.535,13.419,13.615,13.851,13.936,12.845,15.446,15.686,16.185,16.396,16.107,15.605,15.393,14.27,15.346,15.876,14.586,13.269,14.47,13.351,16.816,17.426,17.031,16.654,14.021,14.213,15.428,12.473,13.407,15.483,16.224,16.411,16.79,16.274,15.377,14.997,13.503,14.765,15.598,16.223,15.453,12.296,12.364,11.648,13.197,13.911,14.672,14.868,15.688,16.062,16.64,16.988,16.773,16.221,15.987,14.903,14.539,13.593,14.253,13.457,11.971,13.814,13.97,15.421,16.388,17.747,18.141,17.177,15.818,14.38,15.363,15.866,16.14,15.314,15.415,15.871,14.974,13.898,12.565,14.427,16.82,17.427,17.033,16.625,14.012,14.051,15.459,12.655,13.353,13.389,13.791,16.078,18.506,19.21,17.487,15.06,13.401,14.739,15.428,16.346,15.431],\"type\":\"scatter3d\"},{\"hoverinfo\":\"none\",\"marker\":{\"color\":\"grey\",\"opacity\":1,\"size\":7},\"mode\":\"lines\",\"x\":[41.039,40.735,null,40.735,41.039,null,40.735,40.373,null,40.735,40.775,null,40.373,40.735,null,40.775,40.735,null,40.775,42.056,null,40.775,40.575,null,40.775,40.01,null,42.056,40.775,null,42.056,42.358,null,40.575,40.775,null,40.01,40.775,null,42.358,41.78,null,42.358,42.056,null,42.358,43.256,null,43.256,43.357,null,43.256,42.358,null,43.256,43.917,null,41.78,42.242,null,41.78,40.555,null,41.78,42.358,null,43.917,43.649,null,43.917,44.856,null,43.917,43.256,null,43.357,42.242,null,43.357,43.256,null,43.649,43.917,null,44.856,43.917,null,42.242,43.357,null,42.242,41.78,null,42.242,41.93,null,41.93,40.656,null,41.93,42.242,null,41.93,42.944,null,42.944,41.93,null,42.944,42.707,null,42.944,43.936,null,40.656,40.409,null,40.656,39.847,null,40.656,41.93,null,42.707,43.512,null,42.707,42.944,null,42.707,41.439,null,43.936,42.944,null,41.439,40.409,null,41.439,41.248,null,41.439,42.707,null,43.512,42.707,null,40.409,39.103,null,40.409,40.656,null,40.409,41.439,null,41.248,41.439,null,39.103,40.409,null,39.103,38.749,null,39.103,38.358,null,38.749,39.103,null,38.749,39.987,null,38.749,38.394,null,38.749,37.661,null,38.358,39.103,null,39.987,38.749,null,39.987,39.71,null,39.987,40.294,null,39.987,40.782,null,37.661,37.31,null,37.661,36.76,null,37.661,38.749,null,37.661,38.038,null,38.394,38.749,null,39.71,39.987,null,39.71,38.481,null,39.71,39.624,null,39.71,40.546,null,40.782,39.987,null,40.294,39.987,null,38.481,37.31,null,38.481,39.71,null,38.481,38.713,null,39.624,39.71,null,40.546,39.71,null,38.713,39.66,null,38.713,39.5,null,38.713,38.481,null,38.713,37.419,null,37.31,36.768,null,37.31,37.661,null,37.31,38.481,null,37.31,36.702,null,37.419,38.713,null,39.66,38.713,null,39.5,40.377,null,39.5,38.773,null,39.5,39.94,null,39.5,38.713,null,39.94,39.5,null,39.94,39.035,null,39.94,41.255,null,40.377,39.5,null,38.773,39.5,null,39.035,39.94,null,39.035,39.444,null,39.035,38.0,null,41.255,41.967,null,41.255,39.94,null,41.255,41.663,null,39.444,38.732,null,39.444,39.035,null,39.444,40.758,null,38.0,39.035,null,40.758,39.444,null,40.758,41.663,null,40.758,41.08,null,38.732,39.444,null,41.663,42.697,null,41.663,40.758,null,41.663,41.255,null,41.08,40.758,null,42.697,41.663,null,41.967,41.255,null,36.702,37.31,null,36.768,37.31,null,36.76,37.661,null,38.038,37.661,null,39.847,40.656,null,40.555,41.78,null,39.044,40.196,null,40.196,39.044,null,40.196,41.237,null,40.196,40.455,null,41.237,40.196,null,40.455,40.196,null,40.455,41.645,null,40.455,40.55,null,40.455,39.622,null,41.645,40.455,null,41.645,42.164,null,39.622,40.455,null,40.55,40.455,null,42.164,43.374,null,42.164,41.645,null,42.164,41.512,null,41.512,42.164,null,41.512,40.538,null,41.512,42.249,null,43.374,44.212,null,43.374,42.164,null,43.374,43.673,null,42.249,41.933,null,42.249,41.512,null,42.249,43.673,null,40.538,41.512,null,41.933,42.944,null,41.933,40.659,null,41.933,42.249,null,43.673,43.374,null,43.673,42.249,null,42.944,41.933,null,42.944,42.706,null,42.944,43.937,null,40.659,41.933,null,40.659,39.855,null,40.659,40.41,null,42.706,43.51,null,42.706,42.944,null,42.706,41.438,null,43.937,42.944,null,41.438,41.244,null,41.438,42.706,null,41.438,40.41,null,43.51,42.706,null,40.41,41.438,null,40.41,39.105,null,40.41,40.659,null,41.244,41.438,null,39.105,38.349,null,39.105,40.41,null,39.105,38.777,null,38.777,37.648,null,38.777,38.421,null,38.777,39.105,null,38.777,40.05,null,38.349,39.105,null,40.05,39.729,null,40.05,40.759,null,40.05,40.491,null,40.05,38.777,null,37.648,36.709,null,37.648,37.912,null,37.648,37.466,null,37.648,38.777,null,38.421,38.777,null,39.729,38.749,null,39.729,40.639,null,39.729,39.312,null,39.729,40.05,null,40.759,40.05,null,40.491,40.05,null,38.749,39.729,null,38.749,38.606,null,38.749,37.466,null,39.312,39.729,null,40.639,39.729,null,38.606,38.749,null,38.606,38.676,null,38.606,37.27,null,38.606,39.877,null,37.466,36.693,null,37.466,38.749,null,37.466,37.648,null,37.466,37.153,null,38.676,38.606,null,37.27,38.606,null,39.877,39.77,null,39.877,40.854,null,39.877,38.606,null,39.877,39.788,null,39.788,39.418,null,39.788,39.877,null,39.788,40.079,null,39.77,39.877,null,40.854,39.877,null,40.079,39.992,null,40.079,40.377,null,40.079,39.788,null,39.418,39.196,null,39.418,39.331,null,39.418,39.788,null,39.992,39.616,null,39.992,40.218,null,39.992,40.079,null,40.377,40.079,null,39.616,39.992,null,39.616,39.331,null,39.616,39.546,null,40.218,39.992,null,39.331,39.616,null,39.331,39.418,null,39.331,39.037,null,39.546,39.616,null,39.037,39.331,null,39.196,39.418,null,37.153,37.466,null,36.693,37.466,null,36.709,37.648,null,37.912,37.648,null,39.855,40.659,null,44.212,43.374,null,44.212,45.388,null,44.212,43.675,null,45.388,44.212,null,43.675,44.212,null],\"y\":[17.188,17.514,null,17.514,17.188,null,17.514,18.806,null,17.514,16.529,null,18.806,17.514,null,16.529,17.514,null,16.529,15.953,null,16.529,17.028,null,16.529,15.755,null,15.953,16.529,null,15.953,15.038,null,17.028,16.529,null,15.755,16.529,null,15.038,13.756,null,15.038,15.953,null,15.038,15.323,null,15.323,13.98,null,15.323,15.038,null,15.323,16.597,null,13.756,13.02,null,13.756,13.098,null,13.756,15.038,null,16.597,17.652,null,16.597,16.621,null,16.597,15.323,null,13.98,13.02,null,13.98,15.323,null,17.652,16.597,null,16.621,16.597,null,13.02,13.98,null,13.02,13.756,null,13.02,11.624,null,11.624,11.068,null,11.624,13.02,null,11.624,10.838,null,10.838,11.624,null,10.838,9.503,null,10.838,11.278,null,11.068,9.736,null,11.068,11.681,null,11.068,11.624,null,9.503,8.895,null,9.503,10.838,null,9.503,8.945,null,11.278,10.838,null,8.945,9.736,null,8.945,7.893,null,8.945,9.503,null,8.895,9.503,null,9.736,9.223,null,9.736,11.068,null,9.736,8.945,null,7.893,8.945,null,9.223,9.736,null,9.223,8.357,null,9.223,9.483,null,8.357,9.223,null,8.357,7.552,null,8.357,8.939,null,8.357,7.397,null,9.483,9.223,null,7.552,8.357,null,7.552,6.561,null,7.552,6.988,null,7.552,8.24,null,7.397,6.381,null,7.397,7.975,null,7.397,8.357,null,7.397,6.85,null,8.939,8.357,null,6.561,7.552,null,6.561,5.785,null,6.561,7.117,null,6.561,5.845,null,8.24,7.552,null,6.988,7.552,null,5.785,6.381,null,5.785,6.561,null,5.785,4.094,null,7.117,6.561,null,5.845,6.561,null,4.094,3.51,null,4.094,3.93,null,4.094,5.785,null,4.094,3.343,null,6.381,5.562,null,6.381,7.397,null,6.381,5.785,null,6.381,6.883,null,3.343,4.094,null,3.51,4.094,null,3.93,4.593,null,3.93,4.206,null,3.93,2.526,null,3.93,4.094,null,2.526,3.93,null,2.526,1.583,null,2.526,2.144,null,4.593,3.93,null,4.206,3.93,null,1.583,2.526,null,1.583,0.263,null,1.583,1.881,null,2.144,2.883,null,2.144,2.526,null,2.144,0.824,null,0.263,-0.477,null,0.263,1.583,null,0.263,-0.116,null,1.881,1.583,null,-0.116,0.263,null,-0.116,0.824,null,-0.116,-1.155,null,-0.477,0.263,null,0.824,0.525,null,0.824,-0.116,null,0.824,2.144,null,-1.155,-0.116,null,0.525,0.824,null,2.883,2.144,null,6.883,6.381,null,5.562,6.381,null,7.975,7.397,null,6.85,7.397,null,11.681,11.068,null,13.098,13.756,null,17.603,17.099,null,17.099,17.603,null,17.099,17.64,null,17.099,15.916,null,17.64,17.099,null,15.916,17.099,null,15.916,16.135,null,15.916,15.02,null,15.916,15.764,null,16.135,15.916,null,16.135,15.117,null,15.764,15.916,null,15.02,15.916,null,15.117,15.243,null,15.117,16.135,null,15.117,13.882,null,13.882,15.117,null,13.882,13.624,null,13.882,13.026,null,15.243,16.434,null,15.243,15.117,null,15.243,13.812,null,13.026,11.631,null,13.026,13.882,null,13.026,13.812,null,13.624,13.882,null,11.631,10.842,null,11.631,11.076,null,11.631,13.026,null,13.812,15.243,null,13.812,13.026,null,10.842,11.631,null,10.842,9.507,null,10.842,11.28,null,11.076,11.631,null,11.076,11.688,null,11.076,9.745,null,9.507,8.898,null,9.507,10.842,null,9.507,8.953,null,11.28,10.842,null,8.953,7.902,null,8.953,9.507,null,8.953,9.745,null,8.898,9.507,null,9.745,8.953,null,9.745,9.229,null,9.745,11.076,null,7.902,8.953,null,9.229,9.514,null,9.229,9.745,null,9.229,8.326,null,8.326,7.389,null,8.326,8.864,null,8.326,9.229,null,8.326,7.557,null,9.514,9.229,null,7.557,6.41,null,7.557,8.241,null,7.557,7.145,null,7.557,8.326,null,7.389,7.96,null,7.389,6.974,null,7.389,6.242,null,7.389,8.326,null,8.864,8.326,null,6.41,5.556,null,6.41,5.841,null,6.41,6.804,null,6.41,7.557,null,8.241,7.557,null,7.145,7.557,null,5.556,6.41,null,5.556,4.027,null,5.556,6.242,null,6.804,6.41,null,5.841,6.41,null,4.027,5.556,null,4.027,4.254,null,4.027,3.436,null,4.027,2.875,null,6.242,5.547,null,6.242,5.556,null,6.242,7.389,null,6.242,6.634,null,4.254,4.027,null,3.436,4.027,null,2.875,1.947,null,2.875,3.349,null,2.875,4.027,null,2.875,2.546,null,2.546,1.256,null,2.546,2.875,null,2.546,3.515,null,1.947,2.875,null,3.349,2.875,null,3.515,3.197,null,3.515,4.528,null,3.515,2.546,null,1.256,0.49,null,1.256,0.938,null,1.256,2.546,null,3.197,1.909,null,3.197,3.961,null,3.197,3.515,null,4.528,3.515,null,1.909,3.197,null,1.909,0.938,null,1.909,1.66,null,3.961,3.197,null,0.938,1.909,null,0.938,1.256,null,0.938,-0.075,null,1.66,1.909,null,-0.075,0.938,null,0.49,1.256,null,6.634,6.242,null,5.547,6.242,null,7.96,7.389,null,6.974,7.389,null,11.688,11.076,null,16.434,15.243,null,16.434,16.405,null,16.434,17.62,null,16.405,16.434,null,17.62,16.434,null],\"z\":[11.242,12.421,null,12.421,11.242,null,12.421,12.715,null,12.421,13.51,null,12.715,12.421,null,13.51,12.421,null,13.51,13.53,null,13.51,14.47,null,13.51,13.351,null,13.53,13.51,null,13.53,14.508,null,14.47,13.51,null,13.351,13.51,null,14.508,14.586,null,14.508,13.53,null,14.508,15.509,null,15.509,16.515,null,15.509,14.508,null,15.509,15.777,null,14.586,15.683,null,14.586,13.269,null,14.586,14.508,null,15.777,15.139,null,15.777,16.78,null,15.777,15.509,null,16.515,15.683,null,16.515,15.509,null,15.139,15.777,null,16.78,15.777,null,15.683,16.515,null,15.683,14.586,null,15.683,16.062,null,16.062,15.876,null,16.062,15.683,null,16.062,16.638,null,16.638,16.062,null,16.638,16.987,null,16.638,16.816,null,15.876,16.226,null,15.876,15.453,null,15.876,16.062,null,16.987,17.426,null,16.987,16.638,null,16.987,16.773,null,16.816,16.638,null,16.773,16.226,null,16.773,17.031,null,16.773,16.987,null,17.426,16.987,null,16.226,15.992,null,16.226,15.876,null,16.226,16.773,null,17.031,16.773,null,15.992,16.226,null,15.992,14.885,null,15.992,16.654,null,14.885,15.992,null,14.885,14.535,null,14.885,14.021,null,14.885,15.346,null,16.654,15.992,null,14.535,14.885,null,14.535,13.419,null,14.535,15.428,null,14.535,14.213,null,15.346,14.27,null,15.346,15.598,null,15.346,14.885,null,15.346,16.223,null,14.021,14.885,null,13.419,14.535,null,13.419,13.615,null,13.419,12.473,null,13.419,13.407,null,14.213,14.535,null,15.428,14.535,null,13.615,14.27,null,13.615,13.419,null,13.615,13.851,null,12.473,13.419,null,13.407,13.419,null,13.851,12.845,null,13.851,15.446,null,13.851,13.615,null,13.851,13.936,null,14.27,14.765,null,14.27,15.346,null,14.27,13.615,null,14.27,13.503,null,13.936,13.851,null,12.845,13.851,null,15.446,15.483,null,15.446,16.224,null,15.446,15.686,null,15.446,13.851,null,15.686,15.446,null,15.686,16.185,null,15.686,15.393,null,15.483,15.446,null,16.224,15.446,null,16.185,15.686,null,16.185,16.396,null,16.185,16.411,null,15.393,14.997,null,15.393,15.686,null,15.393,15.605,null,16.396,16.79,null,16.396,16.185,null,16.396,16.107,null,16.411,16.185,null,16.107,16.396,null,16.107,15.605,null,16.107,16.274,null,16.79,16.396,null,15.605,15.377,null,15.605,16.107,null,15.605,15.393,null,16.274,16.107,null,15.377,15.605,null,14.997,15.393,null,13.503,14.27,null,14.765,14.27,null,15.598,15.346,null,16.223,15.346,null,15.453,15.876,null,13.269,14.586,null,12.296,12.364,null,12.364,12.296,null,12.364,11.648,null,12.364,13.197,null,11.648,12.364,null,13.197,12.364,null,13.197,13.911,null,13.197,12.565,null,13.197,13.898,null,13.911,13.197,null,13.911,14.672,null,13.898,13.197,null,12.565,13.197,null,14.672,15.314,null,14.672,13.911,null,14.672,14.868,null,14.868,14.672,null,14.868,14.427,null,14.868,15.688,null,15.314,15.415,null,15.314,14.672,null,15.314,16.14,null,15.688,16.062,null,15.688,14.868,null,15.688,16.14,null,14.427,14.868,null,16.062,16.64,null,16.062,15.866,null,16.062,15.688,null,16.14,15.314,null,16.14,15.688,null,16.64,16.062,null,16.64,16.988,null,16.64,16.82,null,15.866,16.062,null,15.866,15.431,null,15.866,16.221,null,16.988,17.427,null,16.988,16.64,null,16.988,16.773,null,16.82,16.64,null,16.773,17.033,null,16.773,16.988,null,16.773,16.221,null,17.427,16.988,null,16.221,16.773,null,16.221,15.987,null,16.221,15.866,null,17.033,16.773,null,15.987,16.625,null,15.987,16.221,null,15.987,14.903,null,14.903,15.363,null,14.903,14.012,null,14.903,15.987,null,14.903,14.539,null,16.625,15.987,null,14.539,13.593,null,14.539,14.051,null,14.539,15.459,null,14.539,14.903,null,15.363,15.428,null,15.363,16.346,null,15.363,14.38,null,15.363,14.903,null,14.012,14.903,null,13.593,14.253,null,13.593,13.353,null,13.593,12.655,null,13.593,14.539,null,14.051,14.539,null,15.459,14.539,null,14.253,13.593,null,14.253,13.457,null,14.253,14.38,null,12.655,13.593,null,13.353,13.593,null,13.457,14.253,null,13.457,11.971,null,13.457,13.814,null,13.457,13.97,null,14.38,14.739,null,14.38,14.253,null,14.38,15.363,null,14.38,13.401,null,11.971,13.457,null,13.814,13.457,null,13.97,13.389,null,13.97,13.791,null,13.97,13.457,null,13.97,15.421,null,15.421,15.818,null,15.421,13.97,null,15.421,16.388,null,13.389,13.97,null,13.791,13.97,null,16.388,17.747,null,16.388,16.078,null,16.388,15.421,null,15.818,15.06,null,15.818,17.177,null,15.818,15.421,null,17.747,18.141,null,17.747,18.506,null,17.747,16.388,null,16.078,16.388,null,18.141,17.747,null,18.141,17.177,null,18.141,19.21,null,18.506,17.747,null,17.177,18.141,null,17.177,15.818,null,17.177,17.487,null,19.21,18.141,null,17.487,17.177,null,15.06,15.818,null,13.401,14.38,null,14.739,14.38,null,15.428,15.363,null,16.346,15.363,null,15.431,15.866,null,15.415,15.314,null,15.415,15.871,null,15.415,14.974,null,15.871,15.415,null,14.974,15.415,null],\"type\":\"scatter3d\"}],                        {\"margin\":{\"b\":0,\"l\":0,\"r\":0,\"t\":0},\"scene\":{\"annotations\":[{\"showarrow\":false,\"text\":\"O\",\"x\":41.039,\"y\":17.188,\"yshift\":15,\"z\":11.242},{\"showarrow\":false,\"text\":\"C\",\"x\":40.735,\"y\":17.514,\"yshift\":15,\"z\":12.421},{\"showarrow\":false,\"text\":\"O\",\"x\":40.373,\"y\":18.806,\"yshift\":15,\"z\":12.715},{\"showarrow\":false,\"text\":\"C\",\"x\":40.775,\"y\":16.529,\"yshift\":15,\"z\":13.51},{\"showarrow\":false,\"text\":\"O\",\"x\":42.056,\"y\":15.953,\"yshift\":15,\"z\":13.53},{\"showarrow\":false,\"text\":\"C\",\"x\":42.358,\"y\":15.038,\"yshift\":15,\"z\":14.508},{\"showarrow\":false,\"text\":\"C\",\"x\":43.256,\"y\":15.323,\"yshift\":15,\"z\":15.509},{\"showarrow\":false,\"text\":\"C\",\"x\":43.917,\"y\":16.597,\"yshift\":15,\"z\":15.777},{\"showarrow\":false,\"text\":\"O\",\"x\":43.649,\"y\":17.652,\"yshift\":15,\"z\":15.139},{\"showarrow\":false,\"text\":\"O\",\"x\":44.856,\"y\":16.621,\"yshift\":15,\"z\":16.78},{\"showarrow\":false,\"text\":\"S\",\"x\":43.357,\"y\":13.98,\"yshift\":15,\"z\":16.515},{\"showarrow\":false,\"text\":\"C\",\"x\":42.242,\"y\":13.02,\"yshift\":15,\"z\":15.683},{\"showarrow\":false,\"text\":\"C\",\"x\":41.93,\"y\":11.624,\"yshift\":15,\"z\":16.062},{\"showarrow\":false,\"text\":\"C\",\"x\":42.944,\"y\":10.838,\"yshift\":15,\"z\":16.638},{\"showarrow\":false,\"text\":\"C\",\"x\":42.707,\"y\":9.503,\"yshift\":15,\"z\":16.987},{\"showarrow\":false,\"text\":\"C\",\"x\":41.439,\"y\":8.945,\"yshift\":15,\"z\":16.773},{\"showarrow\":false,\"text\":\"C\",\"x\":40.409,\"y\":9.736,\"yshift\":15,\"z\":16.226},{\"showarrow\":false,\"text\":\"N\",\"x\":39.103,\"y\":9.223,\"yshift\":15,\"z\":15.992},{\"showarrow\":false,\"text\":\"C\",\"x\":38.749,\"y\":8.357,\"yshift\":15,\"z\":14.885},{\"showarrow\":false,\"text\":\"C\",\"x\":39.987,\"y\":7.552,\"yshift\":15,\"z\":14.535},{\"showarrow\":false,\"text\":\"C\",\"x\":39.71,\"y\":6.561,\"yshift\":15,\"z\":13.419},{\"showarrow\":false,\"text\":\"N\",\"x\":38.481,\"y\":5.785,\"yshift\":15,\"z\":13.615},{\"showarrow\":false,\"text\":\"S\",\"x\":38.713,\"y\":4.094,\"yshift\":15,\"z\":13.851},{\"showarrow\":false,\"text\":\"O\",\"x\":37.419,\"y\":3.343,\"yshift\":15,\"z\":13.936},{\"showarrow\":false,\"text\":\"O\",\"x\":39.66,\"y\":3.51,\"yshift\":15,\"z\":12.845},{\"showarrow\":false,\"text\":\"C\",\"x\":39.5,\"y\":3.93,\"yshift\":15,\"z\":15.446},{\"showarrow\":false,\"text\":\"C\",\"x\":39.94,\"y\":2.526,\"yshift\":15,\"z\":15.686},{\"showarrow\":false,\"text\":\"C\",\"x\":39.035,\"y\":1.583,\"yshift\":15,\"z\":16.185},{\"showarrow\":false,\"text\":\"C\",\"x\":39.444,\"y\":0.263,\"yshift\":15,\"z\":16.396},{\"showarrow\":false,\"text\":\"C\",\"x\":40.758,\"y\":-0.116,\"yshift\":15,\"z\":16.107},{\"showarrow\":false,\"text\":\"C\",\"x\":41.663,\"y\":0.824,\"yshift\":15,\"z\":15.605},{\"showarrow\":false,\"text\":\"C\",\"x\":41.255,\"y\":2.144,\"yshift\":15,\"z\":15.393},{\"showarrow\":false,\"text\":\"C\",\"x\":37.31,\"y\":6.381,\"yshift\":15,\"z\":14.27},{\"showarrow\":false,\"text\":\"C\",\"x\":37.661,\"y\":7.397,\"yshift\":15,\"z\":15.346},{\"showarrow\":false,\"text\":\"C\",\"x\":40.656,\"y\":11.068,\"yshift\":15,\"z\":15.876},{\"showarrow\":false,\"text\":\"C\",\"x\":41.78,\"y\":13.756,\"yshift\":15,\"z\":14.586},{\"showarrow\":false,\"text\":\"Br\",\"x\":40.555,\"y\":13.098,\"yshift\":15,\"z\":13.269},{\"showarrow\":false,\"text\":\"H\",\"x\":40.575,\"y\":17.028,\"yshift\":15,\"z\":14.47},{\"showarrow\":false,\"text\":\"H\",\"x\":40.01,\"y\":15.755,\"yshift\":15,\"z\":13.351},{\"showarrow\":false,\"text\":\"H\",\"x\":43.936,\"y\":11.278,\"yshift\":15,\"z\":16.816},{\"showarrow\":false,\"text\":\"H\",\"x\":43.512,\"y\":8.895,\"yshift\":15,\"z\":17.426},{\"showarrow\":false,\"text\":\"H\",\"x\":41.248,\"y\":7.893,\"yshift\":15,\"z\":17.031},{\"showarrow\":false,\"text\":\"H\",\"x\":38.358,\"y\":9.483,\"yshift\":15,\"z\":16.654},{\"showarrow\":false,\"text\":\"H\",\"x\":38.394,\"y\":8.939,\"yshift\":15,\"z\":14.021},{\"showarrow\":false,\"text\":\"H\",\"x\":40.782,\"y\":8.24,\"yshift\":15,\"z\":14.213},{\"showarrow\":false,\"text\":\"H\",\"x\":40.294,\"y\":6.988,\"yshift\":15,\"z\":15.428},{\"showarrow\":false,\"text\":\"H\",\"x\":39.624,\"y\":7.117,\"yshift\":15,\"z\":12.473},{\"showarrow\":false,\"text\":\"H\",\"x\":40.546,\"y\":5.845,\"yshift\":15,\"z\":13.407},{\"showarrow\":false,\"text\":\"H\",\"x\":40.377,\"y\":4.593,\"yshift\":15,\"z\":15.483},{\"showarrow\":false,\"text\":\"H\",\"x\":38.773,\"y\":4.206,\"yshift\":15,\"z\":16.224},{\"showarrow\":false,\"text\":\"H\",\"x\":38.0,\"y\":1.881,\"yshift\":15,\"z\":16.411},{\"showarrow\":false,\"text\":\"H\",\"x\":38.732,\"y\":-0.477,\"yshift\":15,\"z\":16.79},{\"showarrow\":false,\"text\":\"H\",\"x\":41.08,\"y\":-1.155,\"yshift\":15,\"z\":16.274},{\"showarrow\":false,\"text\":\"H\",\"x\":42.697,\"y\":0.525,\"yshift\":15,\"z\":15.377},{\"showarrow\":false,\"text\":\"H\",\"x\":41.967,\"y\":2.883,\"yshift\":15,\"z\":14.997},{\"showarrow\":false,\"text\":\"H\",\"x\":36.702,\"y\":6.883,\"yshift\":15,\"z\":13.503},{\"showarrow\":false,\"text\":\"H\",\"x\":36.768,\"y\":5.562,\"yshift\":15,\"z\":14.765},{\"showarrow\":false,\"text\":\"H\",\"x\":36.76,\"y\":7.975,\"yshift\":15,\"z\":15.598},{\"showarrow\":false,\"text\":\"H\",\"x\":38.038,\"y\":6.85,\"yshift\":15,\"z\":16.223},{\"showarrow\":false,\"text\":\"H\",\"x\":39.847,\"y\":11.681,\"yshift\":15,\"z\":15.453},{\"showarrow\":false,\"text\":\"O\",\"x\":39.044,\"y\":17.603,\"yshift\":15,\"z\":12.296},{\"showarrow\":false,\"text\":\"C\",\"x\":40.196,\"y\":17.099,\"yshift\":15,\"z\":12.364},{\"showarrow\":false,\"text\":\"O\",\"x\":41.237,\"y\":17.64,\"yshift\":15,\"z\":11.648},{\"showarrow\":false,\"text\":\"C\",\"x\":40.455,\"y\":15.916,\"yshift\":15,\"z\":13.197},{\"showarrow\":false,\"text\":\"O\",\"x\":41.645,\"y\":16.135,\"yshift\":15,\"z\":13.911},{\"showarrow\":false,\"text\":\"C\",\"x\":42.164,\"y\":15.117,\"yshift\":15,\"z\":14.672},{\"showarrow\":false,\"text\":\"C\",\"x\":41.512,\"y\":13.882,\"yshift\":15,\"z\":14.868},{\"showarrow\":false,\"text\":\"C\",\"x\":42.249,\"y\":13.026,\"yshift\":15,\"z\":15.688},{\"showarrow\":false,\"text\":\"C\",\"x\":41.933,\"y\":11.631,\"yshift\":15,\"z\":16.062},{\"showarrow\":false,\"text\":\"C\",\"x\":42.944,\"y\":10.842,\"yshift\":15,\"z\":16.64},{\"showarrow\":false,\"text\":\"C\",\"x\":42.706,\"y\":9.507,\"yshift\":15,\"z\":16.988},{\"showarrow\":false,\"text\":\"C\",\"x\":41.438,\"y\":8.953,\"yshift\":15,\"z\":16.773},{\"showarrow\":false,\"text\":\"C\",\"x\":40.41,\"y\":9.745,\"yshift\":15,\"z\":16.221},{\"showarrow\":false,\"text\":\"N\",\"x\":39.105,\"y\":9.229,\"yshift\":15,\"z\":15.987},{\"showarrow\":false,\"text\":\"C\",\"x\":38.777,\"y\":8.326,\"yshift\":15,\"z\":14.903},{\"showarrow\":false,\"text\":\"C\",\"x\":40.05,\"y\":7.557,\"yshift\":15,\"z\":14.539},{\"showarrow\":false,\"text\":\"C\",\"x\":39.729,\"y\":6.41,\"yshift\":15,\"z\":13.593},{\"showarrow\":false,\"text\":\"N\",\"x\":38.749,\"y\":5.556,\"yshift\":15,\"z\":14.253},{\"showarrow\":false,\"text\":\"S\",\"x\":38.606,\"y\":4.027,\"yshift\":15,\"z\":13.457},{\"showarrow\":false,\"text\":\"O\",\"x\":38.676,\"y\":4.254,\"yshift\":15,\"z\":11.971},{\"showarrow\":false,\"text\":\"O\",\"x\":37.27,\"y\":3.436,\"yshift\":15,\"z\":13.814},{\"showarrow\":false,\"text\":\"C\",\"x\":39.877,\"y\":2.875,\"yshift\":15,\"z\":13.97},{\"showarrow\":false,\"text\":\"C\",\"x\":39.788,\"y\":2.546,\"yshift\":15,\"z\":15.421},{\"showarrow\":false,\"text\":\"C\",\"x\":40.079,\"y\":3.515,\"yshift\":15,\"z\":16.388},{\"showarrow\":false,\"text\":\"C\",\"x\":39.992,\"y\":3.197,\"yshift\":15,\"z\":17.747},{\"showarrow\":false,\"text\":\"C\",\"x\":39.616,\"y\":1.909,\"yshift\":15,\"z\":18.141},{\"showarrow\":false,\"text\":\"C\",\"x\":39.331,\"y\":0.938,\"yshift\":15,\"z\":17.177},{\"showarrow\":false,\"text\":\"C\",\"x\":39.418,\"y\":1.256,\"yshift\":15,\"z\":15.818},{\"showarrow\":false,\"text\":\"C\",\"x\":37.466,\"y\":6.242,\"yshift\":15,\"z\":14.38},{\"showarrow\":false,\"text\":\"C\",\"x\":37.648,\"y\":7.389,\"yshift\":15,\"z\":15.363},{\"showarrow\":false,\"text\":\"C\",\"x\":40.659,\"y\":11.076,\"yshift\":15,\"z\":15.866},{\"showarrow\":false,\"text\":\"S\",\"x\":43.673,\"y\":13.812,\"yshift\":15,\"z\":16.14},{\"showarrow\":false,\"text\":\"C\",\"x\":43.374,\"y\":15.243,\"yshift\":15,\"z\":15.314},{\"showarrow\":false,\"text\":\"C\",\"x\":44.212,\"y\":16.434,\"yshift\":15,\"z\":15.415},{\"showarrow\":false,\"text\":\"O\",\"x\":45.388,\"y\":16.405,\"yshift\":15,\"z\":15.871},{\"showarrow\":false,\"text\":\"O\",\"x\":43.675,\"y\":17.62,\"yshift\":15,\"z\":14.974},{\"showarrow\":false,\"text\":\"H\",\"x\":39.622,\"y\":15.764,\"yshift\":15,\"z\":13.898},{\"showarrow\":false,\"text\":\"H\",\"x\":40.55,\"y\":15.02,\"yshift\":15,\"z\":12.565},{\"showarrow\":false,\"text\":\"H\",\"x\":40.538,\"y\":13.624,\"yshift\":15,\"z\":14.427},{\"showarrow\":false,\"text\":\"H\",\"x\":43.937,\"y\":11.28,\"yshift\":15,\"z\":16.82},{\"showarrow\":false,\"text\":\"H\",\"x\":43.51,\"y\":8.898,\"yshift\":15,\"z\":17.427},{\"showarrow\":false,\"text\":\"H\",\"x\":41.244,\"y\":7.902,\"yshift\":15,\"z\":17.033},{\"showarrow\":false,\"text\":\"H\",\"x\":38.349,\"y\":9.514,\"yshift\":15,\"z\":16.625},{\"showarrow\":false,\"text\":\"H\",\"x\":38.421,\"y\":8.864,\"yshift\":15,\"z\":14.012},{\"showarrow\":false,\"text\":\"H\",\"x\":40.759,\"y\":8.241,\"yshift\":15,\"z\":14.051},{\"showarrow\":false,\"text\":\"H\",\"x\":40.491,\"y\":7.145,\"yshift\":15,\"z\":15.459},{\"showarrow\":false,\"text\":\"H\",\"x\":39.312,\"y\":6.804,\"yshift\":15,\"z\":12.655},{\"showarrow\":false,\"text\":\"H\",\"x\":40.639,\"y\":5.841,\"yshift\":15,\"z\":13.353},{\"showarrow\":false,\"text\":\"H\",\"x\":39.77,\"y\":1.947,\"yshift\":15,\"z\":13.389},{\"showarrow\":false,\"text\":\"H\",\"x\":40.854,\"y\":3.349,\"yshift\":15,\"z\":13.791},{\"showarrow\":false,\"text\":\"H\",\"x\":40.377,\"y\":4.528,\"yshift\":15,\"z\":16.078},{\"showarrow\":false,\"text\":\"H\",\"x\":40.218,\"y\":3.961,\"yshift\":15,\"z\":18.506},{\"showarrow\":false,\"text\":\"H\",\"x\":39.546,\"y\":1.66,\"yshift\":15,\"z\":19.21},{\"showarrow\":false,\"text\":\"H\",\"x\":39.037,\"y\":-0.075,\"yshift\":15,\"z\":17.487},{\"showarrow\":false,\"text\":\"H\",\"x\":39.196,\"y\":0.49,\"yshift\":15,\"z\":15.06},{\"showarrow\":false,\"text\":\"H\",\"x\":37.153,\"y\":6.634,\"yshift\":15,\"z\":13.401},{\"showarrow\":false,\"text\":\"H\",\"x\":36.693,\"y\":5.547,\"yshift\":15,\"z\":14.739},{\"showarrow\":false,\"text\":\"H\",\"x\":36.709,\"y\":7.96,\"yshift\":15,\"z\":15.428},{\"showarrow\":false,\"text\":\"H\",\"x\":37.912,\"y\":6.974,\"yshift\":15,\"z\":16.346},{\"showarrow\":false,\"text\":\"H\",\"x\":39.855,\"y\":11.688,\"yshift\":15,\"z\":15.431}],\"xaxis\":{\"showbackground\":false,\"showgrid\":false,\"showticklabels\":false,\"title\":{\"font\":{\"color\":\"white\"}},\"zeroline\":false},\"yaxis\":{\"showbackground\":false,\"showgrid\":false,\"showticklabels\":false,\"title\":{\"font\":{\"color\":\"white\"}},\"zeroline\":false},\"zaxis\":{\"showbackground\":false,\"showgrid\":false,\"showticklabels\":false,\"title\":{\"font\":{\"color\":\"white\"}},\"zeroline\":false}},\"showlegend\":false,\"updatemenus\":[{\"buttons\":[{\"args\":[{\"scene.annotations\":[{\"text\":\"O\",\"x\":41.039,\"y\":17.188,\"z\":11.242,\"showarrow\":false,\"yshift\":15},{\"text\":\"C\",\"x\":40.735,\"y\":17.514,\"z\":12.421,\"showarrow\":false,\"yshift\":15},{\"text\":\"O\",\"x\":40.373,\"y\":18.806,\"z\":12.715,\"showarrow\":false,\"yshift\":15},{\"text\":\"C\",\"x\":40.775,\"y\":16.529,\"z\":13.51,\"showarrow\":false,\"yshift\":15},{\"text\":\"O\",\"x\":42.056,\"y\":15.953,\"z\":13.53,\"showarrow\":false,\"yshift\":15},{\"text\":\"C\",\"x\":42.358,\"y\":15.038,\"z\":14.508,\"showarrow\":false,\"yshift\":15},{\"text\":\"C\",\"x\":43.256,\"y\":15.323,\"z\":15.509,\"showarrow\":false,\"yshift\":15},{\"text\":\"C\",\"x\":43.917,\"y\":16.597,\"z\":15.777,\"showarrow\":false,\"yshift\":15},{\"text\":\"O\",\"x\":43.649,\"y\":17.652,\"z\":15.139,\"showarrow\":false,\"yshift\":15},{\"text\":\"O\",\"x\":44.856,\"y\":16.621,\"z\":16.78,\"showarrow\":false,\"yshift\":15},{\"text\":\"S\",\"x\":43.357,\"y\":13.98,\"z\":16.515,\"showarrow\":false,\"yshift\":15},{\"text\":\"C\",\"x\":42.242,\"y\":13.02,\"z\":15.683,\"showarrow\":false,\"yshift\":15},{\"text\":\"C\",\"x\":41.93,\"y\":11.624,\"z\":16.062,\"showarrow\":false,\"yshift\":15},{\"text\":\"C\",\"x\":42.944,\"y\":10.838,\"z\":16.638,\"showarrow\":false,\"yshift\":15},{\"text\":\"C\",\"x\":42.707,\"y\":9.503,\"z\":16.987,\"showarrow\":false,\"yshift\":15},{\"text\":\"C\",\"x\":41.439,\"y\":8.945,\"z\":16.773,\"showarrow\":false,\"yshift\":15},{\"text\":\"C\",\"x\":40.409,\"y\":9.736,\"z\":16.226,\"showarrow\":false,\"yshift\":15},{\"text\":\"N\",\"x\":39.103,\"y\":9.223,\"z\":15.992,\"showarrow\":false,\"yshift\":15},{\"text\":\"C\",\"x\":38.749,\"y\":8.357,\"z\":14.885,\"showarrow\":false,\"yshift\":15},{\"text\":\"C\",\"x\":39.987,\"y\":7.552,\"z\":14.535,\"showarrow\":false,\"yshift\":15},{\"text\":\"C\",\"x\":39.71,\"y\":6.561,\"z\":13.419,\"showarrow\":false,\"yshift\":15},{\"text\":\"N\",\"x\":38.481,\"y\":5.785,\"z\":13.615,\"showarrow\":false,\"yshift\":15},{\"text\":\"S\",\"x\":38.713,\"y\":4.094,\"z\":13.851,\"showarrow\":false,\"yshift\":15},{\"text\":\"O\",\"x\":37.419,\"y\":3.343,\"z\":13.936,\"showarrow\":false,\"yshift\":15},{\"text\":\"O\",\"x\":39.66,\"y\":3.51,\"z\":12.845,\"showarrow\":false,\"yshift\":15},{\"text\":\"C\",\"x\":39.5,\"y\":3.93,\"z\":15.446,\"showarrow\":false,\"yshift\":15},{\"text\":\"C\",\"x\":39.94,\"y\":2.526,\"z\":15.686,\"showarrow\":false,\"yshift\":15},{\"text\":\"C\",\"x\":39.035,\"y\":1.583,\"z\":16.185,\"showarrow\":false,\"yshift\":15},{\"text\":\"C\",\"x\":39.444,\"y\":0.263,\"z\":16.396,\"showarrow\":false,\"yshift\":15},{\"text\":\"C\",\"x\":40.758,\"y\":-0.116,\"z\":16.107,\"showarrow\":false,\"yshift\":15},{\"text\":\"C\",\"x\":41.663,\"y\":0.824,\"z\":15.605,\"showarrow\":false,\"yshift\":15},{\"text\":\"C\",\"x\":41.255,\"y\":2.144,\"z\":15.393,\"showarrow\":false,\"yshift\":15},{\"text\":\"C\",\"x\":37.31,\"y\":6.381,\"z\":14.27,\"showarrow\":false,\"yshift\":15},{\"text\":\"C\",\"x\":37.661,\"y\":7.397,\"z\":15.346,\"showarrow\":false,\"yshift\":15},{\"text\":\"C\",\"x\":40.656,\"y\":11.068,\"z\":15.876,\"showarrow\":false,\"yshift\":15},{\"text\":\"C\",\"x\":41.78,\"y\":13.756,\"z\":14.586,\"showarrow\":false,\"yshift\":15},{\"text\":\"Br\",\"x\":40.555,\"y\":13.098,\"z\":13.269,\"showarrow\":false,\"yshift\":15},{\"text\":\"H\",\"x\":40.575,\"y\":17.028,\"z\":14.47,\"showarrow\":false,\"yshift\":15},{\"text\":\"H\",\"x\":40.01,\"y\":15.755,\"z\":13.351,\"showarrow\":false,\"yshift\":15},{\"text\":\"H\",\"x\":43.936,\"y\":11.278,\"z\":16.816,\"showarrow\":false,\"yshift\":15},{\"text\":\"H\",\"x\":43.512,\"y\":8.895,\"z\":17.426,\"showarrow\":false,\"yshift\":15},{\"text\":\"H\",\"x\":41.248,\"y\":7.893,\"z\":17.031,\"showarrow\":false,\"yshift\":15},{\"text\":\"H\",\"x\":38.358,\"y\":9.483,\"z\":16.654,\"showarrow\":false,\"yshift\":15},{\"text\":\"H\",\"x\":38.394,\"y\":8.939,\"z\":14.021,\"showarrow\":false,\"yshift\":15},{\"text\":\"H\",\"x\":40.782,\"y\":8.24,\"z\":14.213,\"showarrow\":false,\"yshift\":15},{\"text\":\"H\",\"x\":40.294,\"y\":6.988,\"z\":15.428,\"showarrow\":false,\"yshift\":15},{\"text\":\"H\",\"x\":39.624,\"y\":7.117,\"z\":12.473,\"showarrow\":false,\"yshift\":15},{\"text\":\"H\",\"x\":40.546,\"y\":5.845,\"z\":13.407,\"showarrow\":false,\"yshift\":15},{\"text\":\"H\",\"x\":40.377,\"y\":4.593,\"z\":15.483,\"showarrow\":false,\"yshift\":15},{\"text\":\"H\",\"x\":38.773,\"y\":4.206,\"z\":16.224,\"showarrow\":false,\"yshift\":15},{\"text\":\"H\",\"x\":38.0,\"y\":1.881,\"z\":16.411,\"showarrow\":false,\"yshift\":15},{\"text\":\"H\",\"x\":38.732,\"y\":-0.477,\"z\":16.79,\"showarrow\":false,\"yshift\":15},{\"text\":\"H\",\"x\":41.08,\"y\":-1.155,\"z\":16.274,\"showarrow\":false,\"yshift\":15},{\"text\":\"H\",\"x\":42.697,\"y\":0.525,\"z\":15.377,\"showarrow\":false,\"yshift\":15},{\"text\":\"H\",\"x\":41.967,\"y\":2.883,\"z\":14.997,\"showarrow\":false,\"yshift\":15},{\"text\":\"H\",\"x\":36.702,\"y\":6.883,\"z\":13.503,\"showarrow\":false,\"yshift\":15},{\"text\":\"H\",\"x\":36.768,\"y\":5.562,\"z\":14.765,\"showarrow\":false,\"yshift\":15},{\"text\":\"H\",\"x\":36.76,\"y\":7.975,\"z\":15.598,\"showarrow\":false,\"yshift\":15},{\"text\":\"H\",\"x\":38.038,\"y\":6.85,\"z\":16.223,\"showarrow\":false,\"yshift\":15},{\"text\":\"H\",\"x\":39.847,\"y\":11.681,\"z\":15.453,\"showarrow\":false,\"yshift\":15},{\"text\":\"O\",\"x\":39.044,\"y\":17.603,\"z\":12.296,\"showarrow\":false,\"yshift\":15},{\"text\":\"C\",\"x\":40.196,\"y\":17.099,\"z\":12.364,\"showarrow\":false,\"yshift\":15},{\"text\":\"O\",\"x\":41.237,\"y\":17.64,\"z\":11.648,\"showarrow\":false,\"yshift\":15},{\"text\":\"C\",\"x\":40.455,\"y\":15.916,\"z\":13.197,\"showarrow\":false,\"yshift\":15},{\"text\":\"O\",\"x\":41.645,\"y\":16.135,\"z\":13.911,\"showarrow\":false,\"yshift\":15},{\"text\":\"C\",\"x\":42.164,\"y\":15.117,\"z\":14.672,\"showarrow\":false,\"yshift\":15},{\"text\":\"C\",\"x\":41.512,\"y\":13.882,\"z\":14.868,\"showarrow\":false,\"yshift\":15},{\"text\":\"C\",\"x\":42.249,\"y\":13.026,\"z\":15.688,\"showarrow\":false,\"yshift\":15},{\"text\":\"C\",\"x\":41.933,\"y\":11.631,\"z\":16.062,\"showarrow\":false,\"yshift\":15},{\"text\":\"C\",\"x\":42.944,\"y\":10.842,\"z\":16.64,\"showarrow\":false,\"yshift\":15},{\"text\":\"C\",\"x\":42.706,\"y\":9.507,\"z\":16.988,\"showarrow\":false,\"yshift\":15},{\"text\":\"C\",\"x\":41.438,\"y\":8.953,\"z\":16.773,\"showarrow\":false,\"yshift\":15},{\"text\":\"C\",\"x\":40.41,\"y\":9.745,\"z\":16.221,\"showarrow\":false,\"yshift\":15},{\"text\":\"N\",\"x\":39.105,\"y\":9.229,\"z\":15.987,\"showarrow\":false,\"yshift\":15},{\"text\":\"C\",\"x\":38.777,\"y\":8.326,\"z\":14.903,\"showarrow\":false,\"yshift\":15},{\"text\":\"C\",\"x\":40.05,\"y\":7.557,\"z\":14.539,\"showarrow\":false,\"yshift\":15},{\"text\":\"C\",\"x\":39.729,\"y\":6.41,\"z\":13.593,\"showarrow\":false,\"yshift\":15},{\"text\":\"N\",\"x\":38.749,\"y\":5.556,\"z\":14.253,\"showarrow\":false,\"yshift\":15},{\"text\":\"S\",\"x\":38.606,\"y\":4.027,\"z\":13.457,\"showarrow\":false,\"yshift\":15},{\"text\":\"O\",\"x\":38.676,\"y\":4.254,\"z\":11.971,\"showarrow\":false,\"yshift\":15},{\"text\":\"O\",\"x\":37.27,\"y\":3.436,\"z\":13.814,\"showarrow\":false,\"yshift\":15},{\"text\":\"C\",\"x\":39.877,\"y\":2.875,\"z\":13.97,\"showarrow\":false,\"yshift\":15},{\"text\":\"C\",\"x\":39.788,\"y\":2.546,\"z\":15.421,\"showarrow\":false,\"yshift\":15},{\"text\":\"C\",\"x\":40.079,\"y\":3.515,\"z\":16.388,\"showarrow\":false,\"yshift\":15},{\"text\":\"C\",\"x\":39.992,\"y\":3.197,\"z\":17.747,\"showarrow\":false,\"yshift\":15},{\"text\":\"C\",\"x\":39.616,\"y\":1.909,\"z\":18.141,\"showarrow\":false,\"yshift\":15},{\"text\":\"C\",\"x\":39.331,\"y\":0.938,\"z\":17.177,\"showarrow\":false,\"yshift\":15},{\"text\":\"C\",\"x\":39.418,\"y\":1.256,\"z\":15.818,\"showarrow\":false,\"yshift\":15},{\"text\":\"C\",\"x\":37.466,\"y\":6.242,\"z\":14.38,\"showarrow\":false,\"yshift\":15},{\"text\":\"C\",\"x\":37.648,\"y\":7.389,\"z\":15.363,\"showarrow\":false,\"yshift\":15},{\"text\":\"C\",\"x\":40.659,\"y\":11.076,\"z\":15.866,\"showarrow\":false,\"yshift\":15},{\"text\":\"S\",\"x\":43.673,\"y\":13.812,\"z\":16.14,\"showarrow\":false,\"yshift\":15},{\"text\":\"C\",\"x\":43.374,\"y\":15.243,\"z\":15.314,\"showarrow\":false,\"yshift\":15},{\"text\":\"C\",\"x\":44.212,\"y\":16.434,\"z\":15.415,\"showarrow\":false,\"yshift\":15},{\"text\":\"O\",\"x\":45.388,\"y\":16.405,\"z\":15.871,\"showarrow\":false,\"yshift\":15},{\"text\":\"O\",\"x\":43.675,\"y\":17.62,\"z\":14.974,\"showarrow\":false,\"yshift\":15},{\"text\":\"H\",\"x\":39.622,\"y\":15.764,\"z\":13.898,\"showarrow\":false,\"yshift\":15},{\"text\":\"H\",\"x\":40.55,\"y\":15.02,\"z\":12.565,\"showarrow\":false,\"yshift\":15},{\"text\":\"H\",\"x\":40.538,\"y\":13.624,\"z\":14.427,\"showarrow\":false,\"yshift\":15},{\"text\":\"H\",\"x\":43.937,\"y\":11.28,\"z\":16.82,\"showarrow\":false,\"yshift\":15},{\"text\":\"H\",\"x\":43.51,\"y\":8.898,\"z\":17.427,\"showarrow\":false,\"yshift\":15},{\"text\":\"H\",\"x\":41.244,\"y\":7.902,\"z\":17.033,\"showarrow\":false,\"yshift\":15},{\"text\":\"H\",\"x\":38.349,\"y\":9.514,\"z\":16.625,\"showarrow\":false,\"yshift\":15},{\"text\":\"H\",\"x\":38.421,\"y\":8.864,\"z\":14.012,\"showarrow\":false,\"yshift\":15},{\"text\":\"H\",\"x\":40.759,\"y\":8.241,\"z\":14.051,\"showarrow\":false,\"yshift\":15},{\"text\":\"H\",\"x\":40.491,\"y\":7.145,\"z\":15.459,\"showarrow\":false,\"yshift\":15},{\"text\":\"H\",\"x\":39.312,\"y\":6.804,\"z\":12.655,\"showarrow\":false,\"yshift\":15},{\"text\":\"H\",\"x\":40.639,\"y\":5.841,\"z\":13.353,\"showarrow\":false,\"yshift\":15},{\"text\":\"H\",\"x\":39.77,\"y\":1.947,\"z\":13.389,\"showarrow\":false,\"yshift\":15},{\"text\":\"H\",\"x\":40.854,\"y\":3.349,\"z\":13.791,\"showarrow\":false,\"yshift\":15},{\"text\":\"H\",\"x\":40.377,\"y\":4.528,\"z\":16.078,\"showarrow\":false,\"yshift\":15},{\"text\":\"H\",\"x\":40.218,\"y\":3.961,\"z\":18.506,\"showarrow\":false,\"yshift\":15},{\"text\":\"H\",\"x\":39.546,\"y\":1.66,\"z\":19.21,\"showarrow\":false,\"yshift\":15},{\"text\":\"H\",\"x\":39.037,\"y\":-0.075,\"z\":17.487,\"showarrow\":false,\"yshift\":15},{\"text\":\"H\",\"x\":39.196,\"y\":0.49,\"z\":15.06,\"showarrow\":false,\"yshift\":15},{\"text\":\"H\",\"x\":37.153,\"y\":6.634,\"z\":13.401,\"showarrow\":false,\"yshift\":15},{\"text\":\"H\",\"x\":36.693,\"y\":5.547,\"z\":14.739,\"showarrow\":false,\"yshift\":15},{\"text\":\"H\",\"x\":36.709,\"y\":7.96,\"z\":15.428,\"showarrow\":false,\"yshift\":15},{\"text\":\"H\",\"x\":37.912,\"y\":6.974,\"z\":16.346,\"showarrow\":false,\"yshift\":15},{\"text\":\"H\",\"x\":39.855,\"y\":11.688,\"z\":15.431,\"showarrow\":false,\"yshift\":15}]}],\"label\":\" Elements\",\"method\":\"relayout\"},{\"args\":[{\"scene.annotations\":[{\"text\":\"O1\",\"x\":41.039,\"y\":17.188,\"z\":11.242,\"showarrow\":false,\"yshift\":15},{\"text\":\"C1\",\"x\":40.735,\"y\":17.514,\"z\":12.421,\"showarrow\":false,\"yshift\":15},{\"text\":\"O2\",\"x\":40.373,\"y\":18.806,\"z\":12.715,\"showarrow\":false,\"yshift\":15},{\"text\":\"C2\",\"x\":40.775,\"y\":16.529,\"z\":13.51,\"showarrow\":false,\"yshift\":15},{\"text\":\"O3\",\"x\":42.056,\"y\":15.953,\"z\":13.53,\"showarrow\":false,\"yshift\":15},{\"text\":\"C3\",\"x\":42.358,\"y\":15.038,\"z\":14.508,\"showarrow\":false,\"yshift\":15},{\"text\":\"C4\",\"x\":43.256,\"y\":15.323,\"z\":15.509,\"showarrow\":false,\"yshift\":15},{\"text\":\"C5\",\"x\":43.917,\"y\":16.597,\"z\":15.777,\"showarrow\":false,\"yshift\":15},{\"text\":\"O4\",\"x\":43.649,\"y\":17.652,\"z\":15.139,\"showarrow\":false,\"yshift\":15},{\"text\":\"O5\",\"x\":44.856,\"y\":16.621,\"z\":16.78,\"showarrow\":false,\"yshift\":15},{\"text\":\"S1\",\"x\":43.357,\"y\":13.98,\"z\":16.515,\"showarrow\":false,\"yshift\":15},{\"text\":\"C6\",\"x\":42.242,\"y\":13.02,\"z\":15.683,\"showarrow\":false,\"yshift\":15},{\"text\":\"C7\",\"x\":41.93,\"y\":11.624,\"z\":16.062,\"showarrow\":false,\"yshift\":15},{\"text\":\"C8\",\"x\":42.944,\"y\":10.838,\"z\":16.638,\"showarrow\":false,\"yshift\":15},{\"text\":\"C9\",\"x\":42.707,\"y\":9.503,\"z\":16.987,\"showarrow\":false,\"yshift\":15},{\"text\":\"C10\",\"x\":41.439,\"y\":8.945,\"z\":16.773,\"showarrow\":false,\"yshift\":15},{\"text\":\"C11\",\"x\":40.409,\"y\":9.736,\"z\":16.226,\"showarrow\":false,\"yshift\":15},{\"text\":\"N1\",\"x\":39.103,\"y\":9.223,\"z\":15.992,\"showarrow\":false,\"yshift\":15},{\"text\":\"C12\",\"x\":38.749,\"y\":8.357,\"z\":14.885,\"showarrow\":false,\"yshift\":15},{\"text\":\"C13\",\"x\":39.987,\"y\":7.552,\"z\":14.535,\"showarrow\":false,\"yshift\":15},{\"text\":\"C14\",\"x\":39.71,\"y\":6.561,\"z\":13.419,\"showarrow\":false,\"yshift\":15},{\"text\":\"N2\",\"x\":38.481,\"y\":5.785,\"z\":13.615,\"showarrow\":false,\"yshift\":15},{\"text\":\"S2\",\"x\":38.713,\"y\":4.094,\"z\":13.851,\"showarrow\":false,\"yshift\":15},{\"text\":\"O6\",\"x\":37.419,\"y\":3.343,\"z\":13.936,\"showarrow\":false,\"yshift\":15},{\"text\":\"O7\",\"x\":39.66,\"y\":3.51,\"z\":12.845,\"showarrow\":false,\"yshift\":15},{\"text\":\"C15\",\"x\":39.5,\"y\":3.93,\"z\":15.446,\"showarrow\":false,\"yshift\":15},{\"text\":\"C16\",\"x\":39.94,\"y\":2.526,\"z\":15.686,\"showarrow\":false,\"yshift\":15},{\"text\":\"C17\",\"x\":39.035,\"y\":1.583,\"z\":16.185,\"showarrow\":false,\"yshift\":15},{\"text\":\"C18\",\"x\":39.444,\"y\":0.263,\"z\":16.396,\"showarrow\":false,\"yshift\":15},{\"text\":\"C19\",\"x\":40.758,\"y\":-0.116,\"z\":16.107,\"showarrow\":false,\"yshift\":15},{\"text\":\"C20\",\"x\":41.663,\"y\":0.824,\"z\":15.605,\"showarrow\":false,\"yshift\":15},{\"text\":\"C21\",\"x\":41.255,\"y\":2.144,\"z\":15.393,\"showarrow\":false,\"yshift\":15},{\"text\":\"C22\",\"x\":37.31,\"y\":6.381,\"z\":14.27,\"showarrow\":false,\"yshift\":15},{\"text\":\"C23\",\"x\":37.661,\"y\":7.397,\"z\":15.346,\"showarrow\":false,\"yshift\":15},{\"text\":\"C24\",\"x\":40.656,\"y\":11.068,\"z\":15.876,\"showarrow\":false,\"yshift\":15},{\"text\":\"C25\",\"x\":41.78,\"y\":13.756,\"z\":14.586,\"showarrow\":false,\"yshift\":15},{\"text\":\"Br1\",\"x\":40.555,\"y\":13.098,\"z\":13.269,\"showarrow\":false,\"yshift\":15},{\"text\":\"H1\",\"x\":40.575,\"y\":17.028,\"z\":14.47,\"showarrow\":false,\"yshift\":15},{\"text\":\"H2\",\"x\":40.01,\"y\":15.755,\"z\":13.351,\"showarrow\":false,\"yshift\":15},{\"text\":\"H3\",\"x\":43.936,\"y\":11.278,\"z\":16.816,\"showarrow\":false,\"yshift\":15},{\"text\":\"H4\",\"x\":43.512,\"y\":8.895,\"z\":17.426,\"showarrow\":false,\"yshift\":15},{\"text\":\"H5\",\"x\":41.248,\"y\":7.893,\"z\":17.031,\"showarrow\":false,\"yshift\":15},{\"text\":\"H6\",\"x\":38.358,\"y\":9.483,\"z\":16.654,\"showarrow\":false,\"yshift\":15},{\"text\":\"H7\",\"x\":38.394,\"y\":8.939,\"z\":14.021,\"showarrow\":false,\"yshift\":15},{\"text\":\"H8\",\"x\":40.782,\"y\":8.24,\"z\":14.213,\"showarrow\":false,\"yshift\":15},{\"text\":\"H9\",\"x\":40.294,\"y\":6.988,\"z\":15.428,\"showarrow\":false,\"yshift\":15},{\"text\":\"H10\",\"x\":39.624,\"y\":7.117,\"z\":12.473,\"showarrow\":false,\"yshift\":15},{\"text\":\"H11\",\"x\":40.546,\"y\":5.845,\"z\":13.407,\"showarrow\":false,\"yshift\":15},{\"text\":\"H12\",\"x\":40.377,\"y\":4.593,\"z\":15.483,\"showarrow\":false,\"yshift\":15},{\"text\":\"H13\",\"x\":38.773,\"y\":4.206,\"z\":16.224,\"showarrow\":false,\"yshift\":15},{\"text\":\"H14\",\"x\":38.0,\"y\":1.881,\"z\":16.411,\"showarrow\":false,\"yshift\":15},{\"text\":\"H15\",\"x\":38.732,\"y\":-0.477,\"z\":16.79,\"showarrow\":false,\"yshift\":15},{\"text\":\"H16\",\"x\":41.08,\"y\":-1.155,\"z\":16.274,\"showarrow\":false,\"yshift\":15},{\"text\":\"H17\",\"x\":42.697,\"y\":0.525,\"z\":15.377,\"showarrow\":false,\"yshift\":15},{\"text\":\"H18\",\"x\":41.967,\"y\":2.883,\"z\":14.997,\"showarrow\":false,\"yshift\":15},{\"text\":\"H19\",\"x\":36.702,\"y\":6.883,\"z\":13.503,\"showarrow\":false,\"yshift\":15},{\"text\":\"H20\",\"x\":36.768,\"y\":5.562,\"z\":14.765,\"showarrow\":false,\"yshift\":15},{\"text\":\"H21\",\"x\":36.76,\"y\":7.975,\"z\":15.598,\"showarrow\":false,\"yshift\":15},{\"text\":\"H22\",\"x\":38.038,\"y\":6.85,\"z\":16.223,\"showarrow\":false,\"yshift\":15},{\"text\":\"H23\",\"x\":39.847,\"y\":11.681,\"z\":15.453,\"showarrow\":false,\"yshift\":15},{\"text\":\"O1\",\"x\":39.044,\"y\":17.603,\"z\":12.296,\"showarrow\":false,\"yshift\":15},{\"text\":\"C1\",\"x\":40.196,\"y\":17.099,\"z\":12.364,\"showarrow\":false,\"yshift\":15},{\"text\":\"O2\",\"x\":41.237,\"y\":17.64,\"z\":11.648,\"showarrow\":false,\"yshift\":15},{\"text\":\"C2\",\"x\":40.455,\"y\":15.916,\"z\":13.197,\"showarrow\":false,\"yshift\":15},{\"text\":\"O3\",\"x\":41.645,\"y\":16.135,\"z\":13.911,\"showarrow\":false,\"yshift\":15},{\"text\":\"C3\",\"x\":42.164,\"y\":15.117,\"z\":14.672,\"showarrow\":false,\"yshift\":15},{\"text\":\"C4\",\"x\":41.512,\"y\":13.882,\"z\":14.868,\"showarrow\":false,\"yshift\":15},{\"text\":\"C5\",\"x\":42.249,\"y\":13.026,\"z\":15.688,\"showarrow\":false,\"yshift\":15},{\"text\":\"C6\",\"x\":41.933,\"y\":11.631,\"z\":16.062,\"showarrow\":false,\"yshift\":15},{\"text\":\"C7\",\"x\":42.944,\"y\":10.842,\"z\":16.64,\"showarrow\":false,\"yshift\":15},{\"text\":\"C8\",\"x\":42.706,\"y\":9.507,\"z\":16.988,\"showarrow\":false,\"yshift\":15},{\"text\":\"C9\",\"x\":41.438,\"y\":8.953,\"z\":16.773,\"showarrow\":false,\"yshift\":15},{\"text\":\"C10\",\"x\":40.41,\"y\":9.745,\"z\":16.221,\"showarrow\":false,\"yshift\":15},{\"text\":\"N1\",\"x\":39.105,\"y\":9.229,\"z\":15.987,\"showarrow\":false,\"yshift\":15},{\"text\":\"C11\",\"x\":38.777,\"y\":8.326,\"z\":14.903,\"showarrow\":false,\"yshift\":15},{\"text\":\"C12\",\"x\":40.05,\"y\":7.557,\"z\":14.539,\"showarrow\":false,\"yshift\":15},{\"text\":\"C13\",\"x\":39.729,\"y\":6.41,\"z\":13.593,\"showarrow\":false,\"yshift\":15},{\"text\":\"N2\",\"x\":38.749,\"y\":5.556,\"z\":14.253,\"showarrow\":false,\"yshift\":15},{\"text\":\"S1\",\"x\":38.606,\"y\":4.027,\"z\":13.457,\"showarrow\":false,\"yshift\":15},{\"text\":\"O4\",\"x\":38.676,\"y\":4.254,\"z\":11.971,\"showarrow\":false,\"yshift\":15},{\"text\":\"O5\",\"x\":37.27,\"y\":3.436,\"z\":13.814,\"showarrow\":false,\"yshift\":15},{\"text\":\"C14\",\"x\":39.877,\"y\":2.875,\"z\":13.97,\"showarrow\":false,\"yshift\":15},{\"text\":\"C15\",\"x\":39.788,\"y\":2.546,\"z\":15.421,\"showarrow\":false,\"yshift\":15},{\"text\":\"C16\",\"x\":40.079,\"y\":3.515,\"z\":16.388,\"showarrow\":false,\"yshift\":15},{\"text\":\"C17\",\"x\":39.992,\"y\":3.197,\"z\":17.747,\"showarrow\":false,\"yshift\":15},{\"text\":\"C18\",\"x\":39.616,\"y\":1.909,\"z\":18.141,\"showarrow\":false,\"yshift\":15},{\"text\":\"C19\",\"x\":39.331,\"y\":0.938,\"z\":17.177,\"showarrow\":false,\"yshift\":15},{\"text\":\"C20\",\"x\":39.418,\"y\":1.256,\"z\":15.818,\"showarrow\":false,\"yshift\":15},{\"text\":\"C21\",\"x\":37.466,\"y\":6.242,\"z\":14.38,\"showarrow\":false,\"yshift\":15},{\"text\":\"C22\",\"x\":37.648,\"y\":7.389,\"z\":15.363,\"showarrow\":false,\"yshift\":15},{\"text\":\"C23\",\"x\":40.659,\"y\":11.076,\"z\":15.866,\"showarrow\":false,\"yshift\":15},{\"text\":\"S2\",\"x\":43.673,\"y\":13.812,\"z\":16.14,\"showarrow\":false,\"yshift\":15},{\"text\":\"C24\",\"x\":43.374,\"y\":15.243,\"z\":15.314,\"showarrow\":false,\"yshift\":15},{\"text\":\"C25\",\"x\":44.212,\"y\":16.434,\"z\":15.415,\"showarrow\":false,\"yshift\":15},{\"text\":\"O6\",\"x\":45.388,\"y\":16.405,\"z\":15.871,\"showarrow\":false,\"yshift\":15},{\"text\":\"O7\",\"x\":43.675,\"y\":17.62,\"z\":14.974,\"showarrow\":false,\"yshift\":15},{\"text\":\"H1\",\"x\":39.622,\"y\":15.764,\"z\":13.898,\"showarrow\":false,\"yshift\":15},{\"text\":\"H2\",\"x\":40.55,\"y\":15.02,\"z\":12.565,\"showarrow\":false,\"yshift\":15},{\"text\":\"H3\",\"x\":40.538,\"y\":13.624,\"z\":14.427,\"showarrow\":false,\"yshift\":15},{\"text\":\"H4\",\"x\":43.937,\"y\":11.28,\"z\":16.82,\"showarrow\":false,\"yshift\":15},{\"text\":\"H5\",\"x\":43.51,\"y\":8.898,\"z\":17.427,\"showarrow\":false,\"yshift\":15},{\"text\":\"H6\",\"x\":41.244,\"y\":7.902,\"z\":17.033,\"showarrow\":false,\"yshift\":15},{\"text\":\"H7\",\"x\":38.349,\"y\":9.514,\"z\":16.625,\"showarrow\":false,\"yshift\":15},{\"text\":\"H8\",\"x\":38.421,\"y\":8.864,\"z\":14.012,\"showarrow\":false,\"yshift\":15},{\"text\":\"H9\",\"x\":40.759,\"y\":8.241,\"z\":14.051,\"showarrow\":false,\"yshift\":15},{\"text\":\"H10\",\"x\":40.491,\"y\":7.145,\"z\":15.459,\"showarrow\":false,\"yshift\":15},{\"text\":\"H11\",\"x\":39.312,\"y\":6.804,\"z\":12.655,\"showarrow\":false,\"yshift\":15},{\"text\":\"H12\",\"x\":40.639,\"y\":5.841,\"z\":13.353,\"showarrow\":false,\"yshift\":15},{\"text\":\"H13\",\"x\":39.77,\"y\":1.947,\"z\":13.389,\"showarrow\":false,\"yshift\":15},{\"text\":\"H14\",\"x\":40.854,\"y\":3.349,\"z\":13.791,\"showarrow\":false,\"yshift\":15},{\"text\":\"H15\",\"x\":40.377,\"y\":4.528,\"z\":16.078,\"showarrow\":false,\"yshift\":15},{\"text\":\"H16\",\"x\":40.218,\"y\":3.961,\"z\":18.506,\"showarrow\":false,\"yshift\":15},{\"text\":\"H17\",\"x\":39.546,\"y\":1.66,\"z\":19.21,\"showarrow\":false,\"yshift\":15},{\"text\":\"H18\",\"x\":39.037,\"y\":-0.075,\"z\":17.487,\"showarrow\":false,\"yshift\":15},{\"text\":\"H19\",\"x\":39.196,\"y\":0.49,\"z\":15.06,\"showarrow\":false,\"yshift\":15},{\"text\":\"H20\",\"x\":37.153,\"y\":6.634,\"z\":13.401,\"showarrow\":false,\"yshift\":15},{\"text\":\"H21\",\"x\":36.693,\"y\":5.547,\"z\":14.739,\"showarrow\":false,\"yshift\":15},{\"text\":\"H22\",\"x\":36.709,\"y\":7.96,\"z\":15.428,\"showarrow\":false,\"yshift\":15},{\"text\":\"H23\",\"x\":37.912,\"y\":6.974,\"z\":16.346,\"showarrow\":false,\"yshift\":15},{\"text\":\"H24\",\"x\":39.855,\"y\":11.688,\"z\":15.431,\"showarrow\":false,\"yshift\":15}]}],\"label\":\"Atom Name\",\"method\":\"relayout\"},{\"args\":[{\"scene.annotations\":[{\"text\":\"O.co2\",\"x\":41.039,\"y\":17.188,\"z\":11.242,\"showarrow\":false,\"yshift\":15},{\"text\":\"C.2\",\"x\":40.735,\"y\":17.514,\"z\":12.421,\"showarrow\":false,\"yshift\":15},{\"text\":\"O.co2\",\"x\":40.373,\"y\":18.806,\"z\":12.715,\"showarrow\":false,\"yshift\":15},{\"text\":\"C.3\",\"x\":40.775,\"y\":16.529,\"z\":13.51,\"showarrow\":false,\"yshift\":15},{\"text\":\"O.3\",\"x\":42.056,\"y\":15.953,\"z\":13.53,\"showarrow\":false,\"yshift\":15},{\"text\":\"C.2\",\"x\":42.358,\"y\":15.038,\"z\":14.508,\"showarrow\":false,\"yshift\":15},{\"text\":\"C.2\",\"x\":43.256,\"y\":15.323,\"z\":15.509,\"showarrow\":false,\"yshift\":15},{\"text\":\"C.2\",\"x\":43.917,\"y\":16.597,\"z\":15.777,\"showarrow\":false,\"yshift\":15},{\"text\":\"O.co2\",\"x\":43.649,\"y\":17.652,\"z\":15.139,\"showarrow\":false,\"yshift\":15},{\"text\":\"O.co2\",\"x\":44.856,\"y\":16.621,\"z\":16.78,\"showarrow\":false,\"yshift\":15},{\"text\":\"S.3\",\"x\":43.357,\"y\":13.98,\"z\":16.515,\"showarrow\":false,\"yshift\":15},{\"text\":\"C.2\",\"x\":42.242,\"y\":13.02,\"z\":15.683,\"showarrow\":false,\"yshift\":15},{\"text\":\"C.ar\",\"x\":41.93,\"y\":11.624,\"z\":16.062,\"showarrow\":false,\"yshift\":15},{\"text\":\"C.ar\",\"x\":42.944,\"y\":10.838,\"z\":16.638,\"showarrow\":false,\"yshift\":15},{\"text\":\"C.ar\",\"x\":42.707,\"y\":9.503,\"z\":16.987,\"showarrow\":false,\"yshift\":15},{\"text\":\"C.ar\",\"x\":41.439,\"y\":8.945,\"z\":16.773,\"showarrow\":false,\"yshift\":15},{\"text\":\"C.ar\",\"x\":40.409,\"y\":9.736,\"z\":16.226,\"showarrow\":false,\"yshift\":15},{\"text\":\"N.3\",\"x\":39.103,\"y\":9.223,\"z\":15.992,\"showarrow\":false,\"yshift\":15},{\"text\":\"C.3\",\"x\":38.749,\"y\":8.357,\"z\":14.885,\"showarrow\":false,\"yshift\":15},{\"text\":\"C.3\",\"x\":39.987,\"y\":7.552,\"z\":14.535,\"showarrow\":false,\"yshift\":15},{\"text\":\"C.3\",\"x\":39.71,\"y\":6.561,\"z\":13.419,\"showarrow\":false,\"yshift\":15},{\"text\":\"N.3\",\"x\":38.481,\"y\":5.785,\"z\":13.615,\"showarrow\":false,\"yshift\":15},{\"text\":\"S.o2\",\"x\":38.713,\"y\":4.094,\"z\":13.851,\"showarrow\":false,\"yshift\":15},{\"text\":\"O.2\",\"x\":37.419,\"y\":3.343,\"z\":13.936,\"showarrow\":false,\"yshift\":15},{\"text\":\"O.2\",\"x\":39.66,\"y\":3.51,\"z\":12.845,\"showarrow\":false,\"yshift\":15},{\"text\":\"C.3\",\"x\":39.5,\"y\":3.93,\"z\":15.446,\"showarrow\":false,\"yshift\":15},{\"text\":\"C.ar\",\"x\":39.94,\"y\":2.526,\"z\":15.686,\"showarrow\":false,\"yshift\":15},{\"text\":\"C.ar\",\"x\":39.035,\"y\":1.583,\"z\":16.185,\"showarrow\":false,\"yshift\":15},{\"text\":\"C.ar\",\"x\":39.444,\"y\":0.263,\"z\":16.396,\"showarrow\":false,\"yshift\":15},{\"text\":\"C.ar\",\"x\":40.758,\"y\":-0.116,\"z\":16.107,\"showarrow\":false,\"yshift\":15},{\"text\":\"C.ar\",\"x\":41.663,\"y\":0.824,\"z\":15.605,\"showarrow\":false,\"yshift\":15},{\"text\":\"C.ar\",\"x\":41.255,\"y\":2.144,\"z\":15.393,\"showarrow\":false,\"yshift\":15},{\"text\":\"C.3\",\"x\":37.31,\"y\":6.381,\"z\":14.27,\"showarrow\":false,\"yshift\":15},{\"text\":\"C.3\",\"x\":37.661,\"y\":7.397,\"z\":15.346,\"showarrow\":false,\"yshift\":15},{\"text\":\"C.ar\",\"x\":40.656,\"y\":11.068,\"z\":15.876,\"showarrow\":false,\"yshift\":15},{\"text\":\"C.2\",\"x\":41.78,\"y\":13.756,\"z\":14.586,\"showarrow\":false,\"yshift\":15},{\"text\":\"Br\",\"x\":40.555,\"y\":13.098,\"z\":13.269,\"showarrow\":false,\"yshift\":15},{\"text\":\"H\",\"x\":40.575,\"y\":17.028,\"z\":14.47,\"showarrow\":false,\"yshift\":15},{\"text\":\"H\",\"x\":40.01,\"y\":15.755,\"z\":13.351,\"showarrow\":false,\"yshift\":15},{\"text\":\"H\",\"x\":43.936,\"y\":11.278,\"z\":16.816,\"showarrow\":false,\"yshift\":15},{\"text\":\"H\",\"x\":43.512,\"y\":8.895,\"z\":17.426,\"showarrow\":false,\"yshift\":15},{\"text\":\"H\",\"x\":41.248,\"y\":7.893,\"z\":17.031,\"showarrow\":false,\"yshift\":15},{\"text\":\"H\",\"x\":38.358,\"y\":9.483,\"z\":16.654,\"showarrow\":false,\"yshift\":15},{\"text\":\"H\",\"x\":38.394,\"y\":8.939,\"z\":14.021,\"showarrow\":false,\"yshift\":15},{\"text\":\"H\",\"x\":40.782,\"y\":8.24,\"z\":14.213,\"showarrow\":false,\"yshift\":15},{\"text\":\"H\",\"x\":40.294,\"y\":6.988,\"z\":15.428,\"showarrow\":false,\"yshift\":15},{\"text\":\"H\",\"x\":39.624,\"y\":7.117,\"z\":12.473,\"showarrow\":false,\"yshift\":15},{\"text\":\"H\",\"x\":40.546,\"y\":5.845,\"z\":13.407,\"showarrow\":false,\"yshift\":15},{\"text\":\"H\",\"x\":40.377,\"y\":4.593,\"z\":15.483,\"showarrow\":false,\"yshift\":15},{\"text\":\"H\",\"x\":38.773,\"y\":4.206,\"z\":16.224,\"showarrow\":false,\"yshift\":15},{\"text\":\"H\",\"x\":38.0,\"y\":1.881,\"z\":16.411,\"showarrow\":false,\"yshift\":15},{\"text\":\"H\",\"x\":38.732,\"y\":-0.477,\"z\":16.79,\"showarrow\":false,\"yshift\":15},{\"text\":\"H\",\"x\":41.08,\"y\":-1.155,\"z\":16.274,\"showarrow\":false,\"yshift\":15},{\"text\":\"H\",\"x\":42.697,\"y\":0.525,\"z\":15.377,\"showarrow\":false,\"yshift\":15},{\"text\":\"H\",\"x\":41.967,\"y\":2.883,\"z\":14.997,\"showarrow\":false,\"yshift\":15},{\"text\":\"H\",\"x\":36.702,\"y\":6.883,\"z\":13.503,\"showarrow\":false,\"yshift\":15},{\"text\":\"H\",\"x\":36.768,\"y\":5.562,\"z\":14.765,\"showarrow\":false,\"yshift\":15},{\"text\":\"H\",\"x\":36.76,\"y\":7.975,\"z\":15.598,\"showarrow\":false,\"yshift\":15},{\"text\":\"H\",\"x\":38.038,\"y\":6.85,\"z\":16.223,\"showarrow\":false,\"yshift\":15},{\"text\":\"H\",\"x\":39.847,\"y\":11.681,\"z\":15.453,\"showarrow\":false,\"yshift\":15},{\"text\":\"O.co2\",\"x\":39.044,\"y\":17.603,\"z\":12.296,\"showarrow\":false,\"yshift\":15},{\"text\":\"C.2\",\"x\":40.196,\"y\":17.099,\"z\":12.364,\"showarrow\":false,\"yshift\":15},{\"text\":\"O.co2\",\"x\":41.237,\"y\":17.64,\"z\":11.648,\"showarrow\":false,\"yshift\":15},{\"text\":\"C.3\",\"x\":40.455,\"y\":15.916,\"z\":13.197,\"showarrow\":false,\"yshift\":15},{\"text\":\"O.3\",\"x\":41.645,\"y\":16.135,\"z\":13.911,\"showarrow\":false,\"yshift\":15},{\"text\":\"C.2\",\"x\":42.164,\"y\":15.117,\"z\":14.672,\"showarrow\":false,\"yshift\":15},{\"text\":\"C.2\",\"x\":41.512,\"y\":13.882,\"z\":14.868,\"showarrow\":false,\"yshift\":15},{\"text\":\"C.2\",\"x\":42.249,\"y\":13.026,\"z\":15.688,\"showarrow\":false,\"yshift\":15},{\"text\":\"C.ar\",\"x\":41.933,\"y\":11.631,\"z\":16.062,\"showarrow\":false,\"yshift\":15},{\"text\":\"C.ar\",\"x\":42.944,\"y\":10.842,\"z\":16.64,\"showarrow\":false,\"yshift\":15},{\"text\":\"C.ar\",\"x\":42.706,\"y\":9.507,\"z\":16.988,\"showarrow\":false,\"yshift\":15},{\"text\":\"C.ar\",\"x\":41.438,\"y\":8.953,\"z\":16.773,\"showarrow\":false,\"yshift\":15},{\"text\":\"C.ar\",\"x\":40.41,\"y\":9.745,\"z\":16.221,\"showarrow\":false,\"yshift\":15},{\"text\":\"N.3\",\"x\":39.105,\"y\":9.229,\"z\":15.987,\"showarrow\":false,\"yshift\":15},{\"text\":\"C.3\",\"x\":38.777,\"y\":8.326,\"z\":14.903,\"showarrow\":false,\"yshift\":15},{\"text\":\"C.3\",\"x\":40.05,\"y\":7.557,\"z\":14.539,\"showarrow\":false,\"yshift\":15},{\"text\":\"C.3\",\"x\":39.729,\"y\":6.41,\"z\":13.593,\"showarrow\":false,\"yshift\":15},{\"text\":\"N.3\",\"x\":38.749,\"y\":5.556,\"z\":14.253,\"showarrow\":false,\"yshift\":15},{\"text\":\"S.o2\",\"x\":38.606,\"y\":4.027,\"z\":13.457,\"showarrow\":false,\"yshift\":15},{\"text\":\"O.2\",\"x\":38.676,\"y\":4.254,\"z\":11.971,\"showarrow\":false,\"yshift\":15},{\"text\":\"O.2\",\"x\":37.27,\"y\":3.436,\"z\":13.814,\"showarrow\":false,\"yshift\":15},{\"text\":\"C.3\",\"x\":39.877,\"y\":2.875,\"z\":13.97,\"showarrow\":false,\"yshift\":15},{\"text\":\"C.ar\",\"x\":39.788,\"y\":2.546,\"z\":15.421,\"showarrow\":false,\"yshift\":15},{\"text\":\"C.ar\",\"x\":40.079,\"y\":3.515,\"z\":16.388,\"showarrow\":false,\"yshift\":15},{\"text\":\"C.ar\",\"x\":39.992,\"y\":3.197,\"z\":17.747,\"showarrow\":false,\"yshift\":15},{\"text\":\"C.ar\",\"x\":39.616,\"y\":1.909,\"z\":18.141,\"showarrow\":false,\"yshift\":15},{\"text\":\"C.ar\",\"x\":39.331,\"y\":0.938,\"z\":17.177,\"showarrow\":false,\"yshift\":15},{\"text\":\"C.ar\",\"x\":39.418,\"y\":1.256,\"z\":15.818,\"showarrow\":false,\"yshift\":15},{\"text\":\"C.3\",\"x\":37.466,\"y\":6.242,\"z\":14.38,\"showarrow\":false,\"yshift\":15},{\"text\":\"C.3\",\"x\":37.648,\"y\":7.389,\"z\":15.363,\"showarrow\":false,\"yshift\":15},{\"text\":\"C.ar\",\"x\":40.659,\"y\":11.076,\"z\":15.866,\"showarrow\":false,\"yshift\":15},{\"text\":\"S.3\",\"x\":43.673,\"y\":13.812,\"z\":16.14,\"showarrow\":false,\"yshift\":15},{\"text\":\"C.2\",\"x\":43.374,\"y\":15.243,\"z\":15.314,\"showarrow\":false,\"yshift\":15},{\"text\":\"C.2\",\"x\":44.212,\"y\":16.434,\"z\":15.415,\"showarrow\":false,\"yshift\":15},{\"text\":\"O.co2\",\"x\":45.388,\"y\":16.405,\"z\":15.871,\"showarrow\":false,\"yshift\":15},{\"text\":\"O.co2\",\"x\":43.675,\"y\":17.62,\"z\":14.974,\"showarrow\":false,\"yshift\":15},{\"text\":\"H\",\"x\":39.622,\"y\":15.764,\"z\":13.898,\"showarrow\":false,\"yshift\":15},{\"text\":\"H\",\"x\":40.55,\"y\":15.02,\"z\":12.565,\"showarrow\":false,\"yshift\":15},{\"text\":\"H\",\"x\":40.538,\"y\":13.624,\"z\":14.427,\"showarrow\":false,\"yshift\":15},{\"text\":\"H\",\"x\":43.937,\"y\":11.28,\"z\":16.82,\"showarrow\":false,\"yshift\":15},{\"text\":\"H\",\"x\":43.51,\"y\":8.898,\"z\":17.427,\"showarrow\":false,\"yshift\":15},{\"text\":\"H\",\"x\":41.244,\"y\":7.902,\"z\":17.033,\"showarrow\":false,\"yshift\":15},{\"text\":\"H\",\"x\":38.349,\"y\":9.514,\"z\":16.625,\"showarrow\":false,\"yshift\":15},{\"text\":\"H\",\"x\":38.421,\"y\":8.864,\"z\":14.012,\"showarrow\":false,\"yshift\":15},{\"text\":\"H\",\"x\":40.759,\"y\":8.241,\"z\":14.051,\"showarrow\":false,\"yshift\":15},{\"text\":\"H\",\"x\":40.491,\"y\":7.145,\"z\":15.459,\"showarrow\":false,\"yshift\":15},{\"text\":\"H\",\"x\":39.312,\"y\":6.804,\"z\":12.655,\"showarrow\":false,\"yshift\":15},{\"text\":\"H\",\"x\":40.639,\"y\":5.841,\"z\":13.353,\"showarrow\":false,\"yshift\":15},{\"text\":\"H\",\"x\":39.77,\"y\":1.947,\"z\":13.389,\"showarrow\":false,\"yshift\":15},{\"text\":\"H\",\"x\":40.854,\"y\":3.349,\"z\":13.791,\"showarrow\":false,\"yshift\":15},{\"text\":\"H\",\"x\":40.377,\"y\":4.528,\"z\":16.078,\"showarrow\":false,\"yshift\":15},{\"text\":\"H\",\"x\":40.218,\"y\":3.961,\"z\":18.506,\"showarrow\":false,\"yshift\":15},{\"text\":\"H\",\"x\":39.546,\"y\":1.66,\"z\":19.21,\"showarrow\":false,\"yshift\":15},{\"text\":\"H\",\"x\":39.037,\"y\":-0.075,\"z\":17.487,\"showarrow\":false,\"yshift\":15},{\"text\":\"H\",\"x\":39.196,\"y\":0.49,\"z\":15.06,\"showarrow\":false,\"yshift\":15},{\"text\":\"H\",\"x\":37.153,\"y\":6.634,\"z\":13.401,\"showarrow\":false,\"yshift\":15},{\"text\":\"H\",\"x\":36.693,\"y\":5.547,\"z\":14.739,\"showarrow\":false,\"yshift\":15},{\"text\":\"H\",\"x\":36.709,\"y\":7.96,\"z\":15.428,\"showarrow\":false,\"yshift\":15},{\"text\":\"H\",\"x\":37.912,\"y\":6.974,\"z\":16.346,\"showarrow\":false,\"yshift\":15},{\"text\":\"H\",\"x\":39.855,\"y\":11.688,\"z\":15.431,\"showarrow\":false,\"yshift\":15}]}],\"label\":\"Atom Type\",\"method\":\"relayout\"},{\"args\":[{\"scene.annotations\":[{\"text\":\"1\",\"x\":40.887,\"y\":17.351,\"z\":11.8315,\"showarrow\":false,\"yshift\":15,\"font\":{\"color\":\"steelblue\"}},{\"text\":\"1\",\"x\":40.554,\"y\":18.16,\"z\":12.568,\"showarrow\":false,\"yshift\":15,\"font\":{\"color\":\"steelblue\"}},{\"text\":\"1\",\"x\":40.754999999999995,\"y\":17.0215,\"z\":12.965499999999999,\"showarrow\":false,\"yshift\":15,\"font\":{\"color\":\"steelblue\"}},{\"text\":\"1\",\"x\":41.415499999999994,\"y\":16.241,\"z\":13.52,\"showarrow\":false,\"yshift\":15,\"font\":{\"color\":\"steelblue\"}},{\"text\":\"1\",\"x\":40.675,\"y\":16.7785,\"z\":13.99,\"showarrow\":false,\"yshift\":15,\"font\":{\"color\":\"steelblue\"}},{\"text\":\"2\",\"x\":40.3925,\"y\":16.142,\"z\":13.4305,\"showarrow\":false,\"yshift\":15,\"font\":{\"color\":\"steelblue\"}},{\"text\":\"1\",\"x\":42.206999999999994,\"y\":15.4955,\"z\":14.018999999999998,\"showarrow\":false,\"yshift\":15,\"font\":{\"color\":\"steelblue\"}},{\"text\":\"1\",\"x\":42.807,\"y\":15.1805,\"z\":15.0085,\"showarrow\":false,\"yshift\":15,\"font\":{\"color\":\"steelblue\"}},{\"text\":\"1\",\"x\":42.069,\"y\":14.397,\"z\":14.547,\"showarrow\":false,\"yshift\":15,\"font\":{\"color\":\"steelblue\"}},{\"text\":\"1\",\"x\":43.5865,\"y\":15.96,\"z\":15.643,\"showarrow\":false,\"yshift\":15,\"font\":{\"color\":\"steelblue\"}},{\"text\":\"1\",\"x\":43.3065,\"y\":14.6515,\"z\":16.012,\"showarrow\":false,\"yshift\":15,\"font\":{\"color\":\"steelblue\"}},{\"text\":\"1\",\"x\":43.783,\"y\":17.1245,\"z\":15.457999999999998,\"showarrow\":false,\"yshift\":15,\"font\":{\"color\":\"steelblue\"}},{\"text\":\"ar\",\"x\":44.3865,\"y\":16.609,\"z\":16.2785,\"showarrow\":false,\"yshift\":15,\"font\":{\"color\":\"steelblue\"}},{\"text\":\"ar\",\"x\":42.799499999999995,\"y\":13.5,\"z\":16.099,\"showarrow\":false,\"yshift\":15,\"font\":{\"color\":\"steelblue\"}},{\"text\":\"ar\",\"x\":42.086,\"y\":12.322,\"z\":15.8725,\"showarrow\":false,\"yshift\":15,\"font\":{\"color\":\"steelblue\"}},{\"text\":\"ar\",\"x\":42.010999999999996,\"y\":13.388,\"z\":15.1345,\"showarrow\":false,\"yshift\":15,\"font\":{\"color\":\"steelblue\"}},{\"text\":\"1\",\"x\":42.437,\"y\":11.231,\"z\":16.35,\"showarrow\":false,\"yshift\":15,\"font\":{\"color\":\"steelblue\"}},{\"text\":\"1\",\"x\":41.293,\"y\":11.346,\"z\":15.969000000000001,\"showarrow\":false,\"yshift\":15,\"font\":{\"color\":\"steelblue\"}},{\"text\":\"1\",\"x\":42.825500000000005,\"y\":10.1705,\"z\":16.8125,\"showarrow\":false,\"yshift\":15,\"font\":{\"color\":\"steelblue\"}},{\"text\":\"1\",\"x\":43.44,\"y\":11.058,\"z\":16.727,\"showarrow\":false,\"yshift\":15,\"font\":{\"color\":\"steelblue\"}},{\"text\":\"1\",\"x\":42.073,\"y\":9.224,\"z\":16.88,\"showarrow\":false,\"yshift\":15,\"font\":{\"color\":\"steelblue\"}},{\"text\":\"1\",\"x\":43.1095,\"y\":9.199,\"z\":17.2065,\"showarrow\":false,\"yshift\":15,\"font\":{\"color\":\"steelblue\"}},{\"text\":\"2\",\"x\":40.924,\"y\":9.3405,\"z\":16.499499999999998,\"showarrow\":false,\"yshift\":15,\"font\":{\"color\":\"steelblue\"}},{\"text\":\"2\",\"x\":41.3435,\"y\":8.419,\"z\":16.902,\"showarrow\":false,\"yshift\":15,\"font\":{\"color\":\"steelblue\"}},{\"text\":\"1\",\"x\":39.756,\"y\":9.479500000000002,\"z\":16.109,\"showarrow\":false,\"yshift\":15,\"font\":{\"color\":\"steelblue\"}},{\"text\":\"1\",\"x\":40.5325,\"y\":10.402000000000001,\"z\":16.051,\"showarrow\":false,\"yshift\":15,\"font\":{\"color\":\"steelblue\"}},{\"text\":\"ar\",\"x\":38.926,\"y\":8.79,\"z\":15.438500000000001,\"showarrow\":false,\"yshift\":15,\"font\":{\"color\":\"steelblue\"}},{\"text\":\"ar\",\"x\":38.7305,\"y\":9.353000000000002,\"z\":16.323,\"showarrow\":false,\"yshift\":15,\"font\":{\"color\":\"steelblue\"}},{\"text\":\"ar\",\"x\":39.368,\"y\":7.9544999999999995,\"z\":14.71,\"showarrow\":false,\"yshift\":15,\"font\":{\"color\":\"steelblue\"}},{\"text\":\"ar\",\"x\":38.205,\"y\":7.877,\"z\":15.1155,\"showarrow\":false,\"yshift\":15,\"font\":{\"color\":\"steelblue\"}},{\"text\":\"ar\",\"x\":38.5715,\"y\":8.648,\"z\":14.453,\"showarrow\":false,\"yshift\":15,\"font\":{\"color\":\"steelblue\"}},{\"text\":\"1\",\"x\":39.8485,\"y\":7.0565,\"z\":13.977,\"showarrow\":false,\"yshift\":15,\"font\":{\"color\":\"steelblue\"}},{\"text\":\"1\",\"x\":40.3845,\"y\":7.896,\"z\":14.373999999999999,\"showarrow\":false,\"yshift\":15,\"font\":{\"color\":\"steelblue\"}},{\"text\":\"ar\",\"x\":40.1405,\"y\":7.27,\"z\":14.9815,\"showarrow\":false,\"yshift\":15,\"font\":{\"color\":\"steelblue\"}},{\"text\":\"2\",\"x\":39.0955,\"y\":6.173,\"z\":13.517,\"showarrow\":false,\"yshift\":15,\"font\":{\"color\":\"steelblue\"}},{\"text\":\"1\",\"x\":39.667,\"y\":6.839,\"z\":12.946000000000002,\"showarrow\":false,\"yshift\":15,\"font\":{\"color\":\"steelblue\"}},{\"text\":\"1\",\"x\":40.128,\"y\":6.202999999999999,\"z\":13.413,\"showarrow\":false,\"yshift\":15,\"font\":{\"color\":\"steelblue\"}},{\"text\":\"ar\",\"x\":38.597,\"y\":4.939500000000001,\"z\":13.733,\"showarrow\":false,\"yshift\":15,\"font\":{\"color\":\"steelblue\"}},{\"text\":\"1\",\"x\":37.8955,\"y\":6.083,\"z\":13.942499999999999,\"showarrow\":false,\"yshift\":15,\"font\":{\"color\":\"steelblue\"}},{\"text\":\"ar\",\"x\":38.066,\"y\":3.7185,\"z\":13.8935,\"showarrow\":false,\"yshift\":15,\"font\":{\"color\":\"steelblue\"}},{\"text\":\"1\",\"x\":39.186499999999995,\"y\":3.802,\"z\":13.348,\"showarrow\":false,\"yshift\":15,\"font\":{\"color\":\"steelblue\"}},{\"text\":\"1\",\"x\":39.1065,\"y\":4.0120000000000005,\"z\":14.6485,\"showarrow\":false,\"yshift\":15,\"font\":{\"color\":\"steelblue\"}},{\"text\":\"1\",\"x\":39.72,\"y\":3.2279999999999998,\"z\":15.565999999999999,\"showarrow\":false,\"yshift\":15,\"font\":{\"color\":\"steelblue\"}},{\"text\":\"1\",\"x\":39.938500000000005,\"y\":4.2615,\"z\":15.464500000000001,\"showarrow\":false,\"yshift\":15,\"font\":{\"color\":\"steelblue\"}},{\"text\":\"1\",\"x\":39.1365,\"y\":4.0680000000000005,\"z\":15.835,\"showarrow\":false,\"yshift\":15,\"font\":{\"color\":\"steelblue\"}},{\"text\":\"1\",\"x\":39.4875,\"y\":2.0545,\"z\":15.9355,\"showarrow\":false,\"yshift\":15,\"font\":{\"color\":\"steelblue\"}},{\"text\":\"1\",\"x\":40.5975,\"y\":2.335,\"z\":15.5395,\"showarrow\":false,\"yshift\":15,\"font\":{\"color\":\"steelblue\"}},{\"text\":\"1\",\"x\":39.2395,\"y\":0.923,\"z\":16.2905,\"showarrow\":false,\"yshift\":15,\"font\":{\"color\":\"steelblue\"}},{\"text\":\"1\",\"x\":38.5175,\"y\":1.732,\"z\":16.298000000000002,\"showarrow\":false,\"yshift\":15,\"font\":{\"color\":\"steelblue\"}},{\"text\":\"1\",\"x\":40.101,\"y\":0.07350000000000001,\"z\":16.2515,\"showarrow\":false,\"yshift\":15,\"font\":{\"color\":\"steelblue\"}},{\"text\":\"1\",\"x\":39.088,\"y\":-0.10699999999999998,\"z\":16.593,\"showarrow\":false,\"yshift\":15,\"font\":{\"color\":\"steelblue\"}},{\"text\":\"1\",\"x\":41.210499999999996,\"y\":0.354,\"z\":15.856,\"showarrow\":false,\"yshift\":15,\"font\":{\"color\":\"steelblue\"}},{\"text\":\"1\",\"x\":40.919,\"y\":-0.6355000000000001,\"z\":16.1905,\"showarrow\":false,\"yshift\":15,\"font\":{\"color\":\"steelblue\"}},{\"text\":\"1\",\"x\":41.459,\"y\":1.484,\"z\":15.499,\"showarrow\":false,\"yshift\":15,\"font\":{\"color\":\"steelblue\"}},{\"text\":\"1\",\"x\":42.18,\"y\":0.6745,\"z\":15.491,\"showarrow\":false,\"yshift\":15,\"font\":{\"color\":\"steelblue\"}},{\"text\":\"1\",\"x\":41.611000000000004,\"y\":2.5135,\"z\":15.195,\"showarrow\":false,\"yshift\":15,\"font\":{\"color\":\"steelblue\"}},{\"text\":\"1\",\"x\":37.4855,\"y\":6.889,\"z\":14.808,\"showarrow\":false,\"yshift\":15,\"font\":{\"color\":\"steelblue\"}},{\"text\":\"1\",\"x\":37.006,\"y\":6.632,\"z\":13.8865,\"showarrow\":false,\"yshift\":15,\"font\":{\"color\":\"steelblue\"}},{\"text\":\"1\",\"x\":37.039,\"y\":5.971500000000001,\"z\":14.5175,\"showarrow\":false,\"yshift\":15,\"font\":{\"color\":\"steelblue\"}},{\"text\":\"1\",\"x\":37.210499999999996,\"y\":7.686,\"z\":15.472000000000001,\"showarrow\":false,\"yshift\":15,\"font\":{\"color\":\"steelblue\"}},{\"text\":\"1\",\"x\":37.8495,\"y\":7.1235,\"z\":15.7845,\"showarrow\":false,\"yshift\":15,\"font\":{\"color\":\"steelblue\"}},{\"text\":\"1\",\"x\":40.2515,\"y\":11.3745,\"z\":15.6645,\"showarrow\":false,\"yshift\":15,\"font\":{\"color\":\"steelblue\"}},{\"text\":\"1\",\"x\":41.167500000000004,\"y\":13.427,\"z\":13.9275,\"showarrow\":false,\"yshift\":15,\"font\":{\"color\":\"steelblue\"}},{\"text\":\"1\",\"x\":39.62,\"y\":17.351,\"z\":12.33,\"showarrow\":false,\"yshift\":15,\"font\":{\"color\":\"steelblue\"}},{\"text\":\"1\",\"x\":40.716499999999996,\"y\":17.369500000000002,\"z\":12.006,\"showarrow\":false,\"yshift\":15,\"font\":{\"color\":\"steelblue\"}},{\"text\":\"1\",\"x\":40.3255,\"y\":16.5075,\"z\":12.7805,\"showarrow\":false,\"yshift\":15,\"font\":{\"color\":\"steelblue\"}},{\"text\":\"1\",\"x\":41.05,\"y\":16.0255,\"z\":13.553999999999998,\"showarrow\":false,\"yshift\":15,\"font\":{\"color\":\"steelblue\"}},{\"text\":\"1\",\"x\":40.0385,\"y\":15.84,\"z\":13.5475,\"showarrow\":false,\"yshift\":15,\"font\":{\"color\":\"steelblue\"}},{\"text\":\"1\",\"x\":40.5025,\"y\":15.468,\"z\":12.881,\"showarrow\":false,\"yshift\":15,\"font\":{\"color\":\"steelblue\"}},{\"text\":\"2\",\"x\":41.9045,\"y\":15.626000000000001,\"z\":14.2915,\"showarrow\":false,\"yshift\":15,\"font\":{\"color\":\"steelblue\"}},{\"text\":\"1\",\"x\":41.838,\"y\":14.499500000000001,\"z\":14.77,\"showarrow\":false,\"yshift\":15,\"font\":{\"color\":\"steelblue\"}},{\"text\":\"ar\",\"x\":42.769000000000005,\"y\":15.18,\"z\":14.993,\"showarrow\":false,\"yshift\":15,\"font\":{\"color\":\"steelblue\"}},{\"text\":\"ar\",\"x\":41.8805,\"y\":13.454,\"z\":15.278,\"showarrow\":false,\"yshift\":15,\"font\":{\"color\":\"steelblue\"}},{\"text\":\"ar\",\"x\":41.025,\"y\":13.753,\"z\":14.6475,\"showarrow\":false,\"yshift\":15,\"font\":{\"color\":\"steelblue\"}},{\"text\":\"ar\",\"x\":42.091,\"y\":12.3285,\"z\":15.875,\"showarrow\":false,\"yshift\":15,\"font\":{\"color\":\"steelblue\"}},{\"text\":\"1\",\"x\":42.961,\"y\":13.419,\"z\":15.914000000000001,\"showarrow\":false,\"yshift\":15,\"font\":{\"color\":\"steelblue\"}},{\"text\":\"1\",\"x\":42.438500000000005,\"y\":11.2365,\"z\":16.351,\"showarrow\":false,\"yshift\":15,\"font\":{\"color\":\"steelblue\"}},{\"text\":\"1\",\"x\":41.296,\"y\":11.3535,\"z\":15.964,\"showarrow\":false,\"yshift\":15,\"font\":{\"color\":\"steelblue\"}},{\"text\":\"1\",\"x\":42.825,\"y\":10.1745,\"z\":16.814,\"showarrow\":false,\"yshift\":15,\"font\":{\"color\":\"steelblue\"}},{\"text\":\"1\",\"x\":43.4405,\"y\":11.061,\"z\":16.73,\"showarrow\":false,\"yshift\":15,\"font\":{\"color\":\"steelblue\"}},{\"text\":\"1\",\"x\":42.072,\"y\":9.23,\"z\":16.880499999999998,\"showarrow\":false,\"yshift\":15,\"font\":{\"color\":\"steelblue\"}},{\"text\":\"2\",\"x\":43.108000000000004,\"y\":9.2025,\"z\":17.2075,\"showarrow\":false,\"yshift\":15,\"font\":{\"color\":\"steelblue\"}},{\"text\":\"2\",\"x\":40.924,\"y\":9.349,\"z\":16.497,\"showarrow\":false,\"yshift\":15,\"font\":{\"color\":\"steelblue\"}},{\"text\":\"1\",\"x\":41.341,\"y\":8.4275,\"z\":16.903,\"showarrow\":false,\"yshift\":15,\"font\":{\"color\":\"steelblue\"}},{\"text\":\"1\",\"x\":39.75749999999999,\"y\":9.486999999999998,\"z\":16.104,\"showarrow\":false,\"yshift\":15,\"font\":{\"color\":\"steelblue\"}},{\"text\":\"ar\",\"x\":40.534499999999994,\"y\":10.410499999999999,\"z\":16.0435,\"showarrow\":false,\"yshift\":15,\"font\":{\"color\":\"steelblue\"}},{\"text\":\"ar\",\"x\":38.941,\"y\":8.7775,\"z\":15.445,\"showarrow\":false,\"yshift\":15,\"font\":{\"color\":\"steelblue\"}},{\"text\":\"ar\",\"x\":38.727,\"y\":9.3715,\"z\":16.306,\"showarrow\":false,\"yshift\":15,\"font\":{\"color\":\"steelblue\"}},{\"text\":\"ar\",\"x\":39.4135,\"y\":7.9415000000000004,\"z\":14.721,\"showarrow\":false,\"yshift\":15,\"font\":{\"color\":\"steelblue\"}},{\"text\":\"ar\",\"x\":38.212500000000006,\"y\":7.8575,\"z\":15.133,\"showarrow\":false,\"yshift\":15,\"font\":{\"color\":\"steelblue\"}},{\"text\":\"1\",\"x\":38.599000000000004,\"y\":8.595,\"z\":14.4575,\"showarrow\":false,\"yshift\":15,\"font\":{\"color\":\"steelblue\"}},{\"text\":\"1\",\"x\":39.8895,\"y\":6.9835,\"z\":14.065999999999999,\"showarrow\":false,\"yshift\":15,\"font\":{\"color\":\"steelblue\"}},{\"text\":\"ar\",\"x\":40.4045,\"y\":7.899,\"z\":14.295,\"showarrow\":false,\"yshift\":15,\"font\":{\"color\":\"steelblue\"}},{\"text\":\"1\",\"x\":40.2705,\"y\":7.351,\"z\":14.998999999999999,\"showarrow\":false,\"yshift\":15,\"font\":{\"color\":\"steelblue\"}},{\"text\":\"1\",\"x\":39.239000000000004,\"y\":5.9830000000000005,\"z\":13.923,\"showarrow\":false,\"yshift\":15,\"font\":{\"color\":\"steelblue\"}},{\"text\":\"1\",\"x\":39.5205,\"y\":6.607,\"z\":13.123999999999999,\"showarrow\":false,\"yshift\":15,\"font\":{\"color\":\"steelblue\"}},{\"text\":\"1\",\"x\":40.184,\"y\":6.125500000000001,\"z\":13.472999999999999,\"showarrow\":false,\"yshift\":15,\"font\":{\"color\":\"steelblue\"}},{\"text\":\"1\",\"x\":38.6775,\"y\":4.7915,\"z\":13.855,\"showarrow\":false,\"yshift\":15,\"font\":{\"color\":\"steelblue\"}},{\"text\":\"2\",\"x\":38.1075,\"y\":5.899,\"z\":14.316500000000001,\"showarrow\":false,\"yshift\":15,\"font\":{\"color\":\"steelblue\"}},{\"text\":\"ar\",\"x\":38.641000000000005,\"y\":4.140499999999999,\"z\":12.714,\"showarrow\":false,\"yshift\":15,\"font\":{\"color\":\"steelblue\"}},{\"text\":\"1\",\"x\":37.938,\"y\":3.7315,\"z\":13.6355,\"showarrow\":false,\"yshift\":15,\"font\":{\"color\":\"steelblue\"}},{\"text\":\"ar\",\"x\":39.2415,\"y\":3.451,\"z\":13.7135,\"showarrow\":false,\"yshift\":15,\"font\":{\"color\":\"steelblue\"}},{\"text\":\"1\",\"x\":39.832499999999996,\"y\":2.7104999999999997,\"z\":14.6955,\"showarrow\":false,\"yshift\":15,\"font\":{\"color\":\"steelblue\"}},{\"text\":\"1\",\"x\":39.8235,\"y\":2.411,\"z\":13.6795,\"showarrow\":false,\"yshift\":15,\"font\":{\"color\":\"steelblue\"}},{\"text\":\"1\",\"x\":40.3655,\"y\":3.112,\"z\":13.880500000000001,\"showarrow\":false,\"yshift\":15,\"font\":{\"color\":\"steelblue\"}},{\"text\":\"1\",\"x\":39.933499999999995,\"y\":3.0305,\"z\":15.9045,\"showarrow\":false,\"yshift\":15,\"font\":{\"color\":\"steelblue\"}},{\"text\":\"1\",\"x\":39.602999999999994,\"y\":1.9009999999999998,\"z\":15.619499999999999,\"showarrow\":false,\"yshift\":15,\"font\":{\"color\":\"steelblue\"}},{\"text\":\"1\",\"x\":40.0355,\"y\":3.356,\"z\":17.067500000000003,\"showarrow\":false,\"yshift\":15,\"font\":{\"color\":\"steelblue\"}},{\"text\":\"1\",\"x\":40.228,\"y\":4.0215,\"z\":16.233,\"showarrow\":false,\"yshift\":15,\"font\":{\"color\":\"steelblue\"}},{\"text\":\"1\",\"x\":39.804,\"y\":2.553,\"z\":17.944,\"showarrow\":false,\"yshift\":15,\"font\":{\"color\":\"steelblue\"}},{\"text\":\"1\",\"x\":40.105000000000004,\"y\":3.5789999999999997,\"z\":18.1265,\"showarrow\":false,\"yshift\":15,\"font\":{\"color\":\"steelblue\"}},{\"text\":\"1\",\"x\":39.4735,\"y\":1.4235,\"z\":17.659,\"showarrow\":false,\"yshift\":15,\"font\":{\"color\":\"steelblue\"}},{\"text\":\"1\",\"x\":39.581,\"y\":1.7845,\"z\":18.6755,\"showarrow\":false,\"yshift\":15,\"font\":{\"color\":\"steelblue\"}},{\"text\":\"1\",\"x\":39.3745,\"y\":1.097,\"z\":16.4975,\"showarrow\":false,\"yshift\":15,\"font\":{\"color\":\"steelblue\"}},{\"text\":\"1\",\"x\":39.184,\"y\":0.4315,\"z\":17.332,\"showarrow\":false,\"yshift\":15,\"font\":{\"color\":\"steelblue\"}},{\"text\":\"1\",\"x\":39.307,\"y\":0.873,\"z\":15.439,\"showarrow\":false,\"yshift\":15,\"font\":{\"color\":\"steelblue\"}},{\"text\":\"1\",\"x\":37.557,\"y\":6.8155,\"z\":14.871500000000001,\"showarrow\":false,\"yshift\":15,\"font\":{\"color\":\"steelblue\"}},{\"text\":\"1\",\"x\":37.3095,\"y\":6.438000000000001,\"z\":13.8905,\"showarrow\":false,\"yshift\":15,\"font\":{\"color\":\"steelblue\"}},{\"text\":\"1\",\"x\":37.079499999999996,\"y\":5.8945,\"z\":14.5595,\"showarrow\":false,\"yshift\":15,\"font\":{\"color\":\"steelblue\"}},{\"text\":\"1\",\"x\":37.1785,\"y\":7.6745,\"z\":15.3955,\"showarrow\":false,\"yshift\":15,\"font\":{\"color\":\"steelblue\"}},{\"text\":\"1\",\"x\":37.78,\"y\":7.1815,\"z\":15.8545,\"showarrow\":false,\"yshift\":15,\"font\":{\"color\":\"steelblue\"}},{\"text\":\"1\",\"x\":40.257,\"y\":11.382000000000001,\"z\":15.648499999999999,\"showarrow\":false,\"yshift\":15,\"font\":{\"color\":\"steelblue\"}},{\"text\":\"1\",\"x\":43.5235,\"y\":14.5275,\"z\":15.727,\"showarrow\":false,\"yshift\":15,\"font\":{\"color\":\"steelblue\"}},{\"text\":\"1\",\"x\":43.793000000000006,\"y\":15.8385,\"z\":15.3645,\"showarrow\":false,\"yshift\":15,\"font\":{\"color\":\"steelblue\"}},{\"text\":\"1\",\"x\":44.8,\"y\":16.4195,\"z\":15.643,\"showarrow\":false,\"yshift\":15,\"font\":{\"color\":\"steelblue\"}},{\"text\":\"1\",\"x\":43.9435,\"y\":17.027,\"z\":15.1945,\"showarrow\":false,\"yshift\":15,\"font\":{\"color\":\"steelblue\"}}]}],\"label\":\"Bond Type\",\"method\":\"relayout\"},{\"args\":[{\"scene.annotations\":[{\"text\":\"O\",\"x\":41.039,\"y\":17.188,\"z\":11.242,\"showarrow\":false,\"yshift\":15},{\"text\":\"C\",\"x\":40.735,\"y\":17.514,\"z\":12.421,\"showarrow\":false,\"yshift\":15},{\"text\":\"O\",\"x\":40.373,\"y\":18.806,\"z\":12.715,\"showarrow\":false,\"yshift\":15},{\"text\":\"C\",\"x\":40.775,\"y\":16.529,\"z\":13.51,\"showarrow\":false,\"yshift\":15},{\"text\":\"O\",\"x\":42.056,\"y\":15.953,\"z\":13.53,\"showarrow\":false,\"yshift\":15},{\"text\":\"C\",\"x\":42.358,\"y\":15.038,\"z\":14.508,\"showarrow\":false,\"yshift\":15},{\"text\":\"C\",\"x\":43.256,\"y\":15.323,\"z\":15.509,\"showarrow\":false,\"yshift\":15},{\"text\":\"C\",\"x\":43.917,\"y\":16.597,\"z\":15.777,\"showarrow\":false,\"yshift\":15},{\"text\":\"O\",\"x\":43.649,\"y\":17.652,\"z\":15.139,\"showarrow\":false,\"yshift\":15},{\"text\":\"O\",\"x\":44.856,\"y\":16.621,\"z\":16.78,\"showarrow\":false,\"yshift\":15},{\"text\":\"S\",\"x\":43.357,\"y\":13.98,\"z\":16.515,\"showarrow\":false,\"yshift\":15},{\"text\":\"C\",\"x\":42.242,\"y\":13.02,\"z\":15.683,\"showarrow\":false,\"yshift\":15},{\"text\":\"C\",\"x\":41.93,\"y\":11.624,\"z\":16.062,\"showarrow\":false,\"yshift\":15},{\"text\":\"C\",\"x\":42.944,\"y\":10.838,\"z\":16.638,\"showarrow\":false,\"yshift\":15},{\"text\":\"C\",\"x\":42.707,\"y\":9.503,\"z\":16.987,\"showarrow\":false,\"yshift\":15},{\"text\":\"C\",\"x\":41.439,\"y\":8.945,\"z\":16.773,\"showarrow\":false,\"yshift\":15},{\"text\":\"C\",\"x\":40.409,\"y\":9.736,\"z\":16.226,\"showarrow\":false,\"yshift\":15},{\"text\":\"N\",\"x\":39.103,\"y\":9.223,\"z\":15.992,\"showarrow\":false,\"yshift\":15},{\"text\":\"C\",\"x\":38.749,\"y\":8.357,\"z\":14.885,\"showarrow\":false,\"yshift\":15},{\"text\":\"C\",\"x\":39.987,\"y\":7.552,\"z\":14.535,\"showarrow\":false,\"yshift\":15},{\"text\":\"C\",\"x\":39.71,\"y\":6.561,\"z\":13.419,\"showarrow\":false,\"yshift\":15},{\"text\":\"N\",\"x\":38.481,\"y\":5.785,\"z\":13.615,\"showarrow\":false,\"yshift\":15},{\"text\":\"S\",\"x\":38.713,\"y\":4.094,\"z\":13.851,\"showarrow\":false,\"yshift\":15},{\"text\":\"O\",\"x\":37.419,\"y\":3.343,\"z\":13.936,\"showarrow\":false,\"yshift\":15},{\"text\":\"O\",\"x\":39.66,\"y\":3.51,\"z\":12.845,\"showarrow\":false,\"yshift\":15},{\"text\":\"C\",\"x\":39.5,\"y\":3.93,\"z\":15.446,\"showarrow\":false,\"yshift\":15},{\"text\":\"C\",\"x\":39.94,\"y\":2.526,\"z\":15.686,\"showarrow\":false,\"yshift\":15},{\"text\":\"C\",\"x\":39.035,\"y\":1.583,\"z\":16.185,\"showarrow\":false,\"yshift\":15},{\"text\":\"C\",\"x\":39.444,\"y\":0.263,\"z\":16.396,\"showarrow\":false,\"yshift\":15},{\"text\":\"C\",\"x\":40.758,\"y\":-0.116,\"z\":16.107,\"showarrow\":false,\"yshift\":15},{\"text\":\"C\",\"x\":41.663,\"y\":0.824,\"z\":15.605,\"showarrow\":false,\"yshift\":15},{\"text\":\"C\",\"x\":41.255,\"y\":2.144,\"z\":15.393,\"showarrow\":false,\"yshift\":15},{\"text\":\"C\",\"x\":37.31,\"y\":6.381,\"z\":14.27,\"showarrow\":false,\"yshift\":15},{\"text\":\"C\",\"x\":37.661,\"y\":7.397,\"z\":15.346,\"showarrow\":false,\"yshift\":15},{\"text\":\"C\",\"x\":40.656,\"y\":11.068,\"z\":15.876,\"showarrow\":false,\"yshift\":15},{\"text\":\"C\",\"x\":41.78,\"y\":13.756,\"z\":14.586,\"showarrow\":false,\"yshift\":15},{\"text\":\"Br\",\"x\":40.555,\"y\":13.098,\"z\":13.269,\"showarrow\":false,\"yshift\":15},{\"text\":\"H\",\"x\":40.575,\"y\":17.028,\"z\":14.47,\"showarrow\":false,\"yshift\":15},{\"text\":\"H\",\"x\":40.01,\"y\":15.755,\"z\":13.351,\"showarrow\":false,\"yshift\":15},{\"text\":\"H\",\"x\":43.936,\"y\":11.278,\"z\":16.816,\"showarrow\":false,\"yshift\":15},{\"text\":\"H\",\"x\":43.512,\"y\":8.895,\"z\":17.426,\"showarrow\":false,\"yshift\":15},{\"text\":\"H\",\"x\":41.248,\"y\":7.893,\"z\":17.031,\"showarrow\":false,\"yshift\":15},{\"text\":\"H\",\"x\":38.358,\"y\":9.483,\"z\":16.654,\"showarrow\":false,\"yshift\":15},{\"text\":\"H\",\"x\":38.394,\"y\":8.939,\"z\":14.021,\"showarrow\":false,\"yshift\":15},{\"text\":\"H\",\"x\":40.782,\"y\":8.24,\"z\":14.213,\"showarrow\":false,\"yshift\":15},{\"text\":\"H\",\"x\":40.294,\"y\":6.988,\"z\":15.428,\"showarrow\":false,\"yshift\":15},{\"text\":\"H\",\"x\":39.624,\"y\":7.117,\"z\":12.473,\"showarrow\":false,\"yshift\":15},{\"text\":\"H\",\"x\":40.546,\"y\":5.845,\"z\":13.407,\"showarrow\":false,\"yshift\":15},{\"text\":\"H\",\"x\":40.377,\"y\":4.593,\"z\":15.483,\"showarrow\":false,\"yshift\":15},{\"text\":\"H\",\"x\":38.773,\"y\":4.206,\"z\":16.224,\"showarrow\":false,\"yshift\":15},{\"text\":\"H\",\"x\":38.0,\"y\":1.881,\"z\":16.411,\"showarrow\":false,\"yshift\":15},{\"text\":\"H\",\"x\":38.732,\"y\":-0.477,\"z\":16.79,\"showarrow\":false,\"yshift\":15},{\"text\":\"H\",\"x\":41.08,\"y\":-1.155,\"z\":16.274,\"showarrow\":false,\"yshift\":15},{\"text\":\"H\",\"x\":42.697,\"y\":0.525,\"z\":15.377,\"showarrow\":false,\"yshift\":15},{\"text\":\"H\",\"x\":41.967,\"y\":2.883,\"z\":14.997,\"showarrow\":false,\"yshift\":15},{\"text\":\"H\",\"x\":36.702,\"y\":6.883,\"z\":13.503,\"showarrow\":false,\"yshift\":15},{\"text\":\"H\",\"x\":36.768,\"y\":5.562,\"z\":14.765,\"showarrow\":false,\"yshift\":15},{\"text\":\"H\",\"x\":36.76,\"y\":7.975,\"z\":15.598,\"showarrow\":false,\"yshift\":15},{\"text\":\"H\",\"x\":38.038,\"y\":6.85,\"z\":16.223,\"showarrow\":false,\"yshift\":15},{\"text\":\"H\",\"x\":39.847,\"y\":11.681,\"z\":15.453,\"showarrow\":false,\"yshift\":15},{\"text\":1.77,\"x\":40.887,\"y\":17.351,\"z\":11.8315,\"showarrow\":false,\"yshift\":15,\"font\":{\"color\":\"steelblue\"}},{\"text\":1.77,\"x\":40.554,\"y\":18.16,\"z\":12.568,\"showarrow\":false,\"yshift\":15,\"font\":{\"color\":\"steelblue\"}},{\"text\":1.77,\"x\":40.754999999999995,\"y\":17.0215,\"z\":12.965499999999999,\"showarrow\":false,\"yshift\":15,\"font\":{\"color\":\"steelblue\"}},{\"text\":1.77,\"x\":41.415499999999994,\"y\":16.241,\"z\":13.52,\"showarrow\":false,\"yshift\":15,\"font\":{\"color\":\"steelblue\"}},{\"text\":1.18,\"x\":40.675,\"y\":16.7785,\"z\":13.99,\"showarrow\":false,\"yshift\":15,\"font\":{\"color\":\"steelblue\"}},{\"text\":1.18,\"x\":40.3925,\"y\":16.142,\"z\":13.4305,\"showarrow\":false,\"yshift\":15,\"font\":{\"color\":\"steelblue\"}},{\"text\":1.77,\"x\":42.206999999999994,\"y\":15.4955,\"z\":14.018999999999998,\"showarrow\":false,\"yshift\":15,\"font\":{\"color\":\"steelblue\"}},{\"text\":1.77,\"x\":42.807,\"y\":15.1805,\"z\":15.0085,\"showarrow\":false,\"yshift\":15,\"font\":{\"color\":\"steelblue\"}},{\"text\":1.77,\"x\":42.069,\"y\":14.397,\"z\":14.547,\"showarrow\":false,\"yshift\":15,\"font\":{\"color\":\"steelblue\"}},{\"text\":1.77,\"x\":43.5865,\"y\":15.96,\"z\":15.643,\"showarrow\":false,\"yshift\":15,\"font\":{\"color\":\"steelblue\"}},{\"text\":2.21,\"x\":43.3065,\"y\":14.6515,\"z\":16.012,\"showarrow\":false,\"yshift\":15,\"font\":{\"color\":\"steelblue\"}},{\"text\":1.77,\"x\":43.783,\"y\":17.1245,\"z\":15.457999999999998,\"showarrow\":false,\"yshift\":15,\"font\":{\"color\":\"steelblue\"}},{\"text\":1.77,\"x\":44.3865,\"y\":16.609,\"z\":16.2785,\"showarrow\":false,\"yshift\":15,\"font\":{\"color\":\"steelblue\"}},{\"text\":2.21,\"x\":42.799499999999995,\"y\":13.5,\"z\":16.099,\"showarrow\":false,\"yshift\":15,\"font\":{\"color\":\"steelblue\"}},{\"text\":1.77,\"x\":42.086,\"y\":12.322,\"z\":15.8725,\"showarrow\":false,\"yshift\":15,\"font\":{\"color\":\"steelblue\"}},{\"text\":1.77,\"x\":42.010999999999996,\"y\":13.388,\"z\":15.1345,\"showarrow\":false,\"yshift\":15,\"font\":{\"color\":\"steelblue\"}},{\"text\":1.77,\"x\":42.437,\"y\":11.231,\"z\":16.35,\"showarrow\":false,\"yshift\":15,\"font\":{\"color\":\"steelblue\"}},{\"text\":1.77,\"x\":41.293,\"y\":11.346,\"z\":15.969000000000001,\"showarrow\":false,\"yshift\":15,\"font\":{\"color\":\"steelblue\"}},{\"text\":1.77,\"x\":42.825500000000005,\"y\":10.1705,\"z\":16.8125,\"showarrow\":false,\"yshift\":15,\"font\":{\"color\":\"steelblue\"}},{\"text\":1.18,\"x\":43.44,\"y\":11.058,\"z\":16.727,\"showarrow\":false,\"yshift\":15,\"font\":{\"color\":\"steelblue\"}},{\"text\":1.77,\"x\":42.073,\"y\":9.224,\"z\":16.88,\"showarrow\":false,\"yshift\":15,\"font\":{\"color\":\"steelblue\"}},{\"text\":1.18,\"x\":43.1095,\"y\":9.199,\"z\":17.2065,\"showarrow\":false,\"yshift\":15,\"font\":{\"color\":\"steelblue\"}},{\"text\":1.77,\"x\":40.924,\"y\":9.3405,\"z\":16.499499999999998,\"showarrow\":false,\"yshift\":15,\"font\":{\"color\":\"steelblue\"}},{\"text\":1.18,\"x\":41.3435,\"y\":8.419,\"z\":16.902,\"showarrow\":false,\"yshift\":15,\"font\":{\"color\":\"steelblue\"}},{\"text\":1.77,\"x\":39.756,\"y\":9.479500000000002,\"z\":16.109,\"showarrow\":false,\"yshift\":15,\"font\":{\"color\":\"steelblue\"}},{\"text\":1.77,\"x\":40.5325,\"y\":10.402000000000001,\"z\":16.051,\"showarrow\":false,\"yshift\":15,\"font\":{\"color\":\"steelblue\"}},{\"text\":1.77,\"x\":38.926,\"y\":8.79,\"z\":15.438500000000001,\"showarrow\":false,\"yshift\":15,\"font\":{\"color\":\"steelblue\"}},{\"text\":1.18,\"x\":38.7305,\"y\":9.353000000000002,\"z\":16.323,\"showarrow\":false,\"yshift\":15,\"font\":{\"color\":\"steelblue\"}},{\"text\":1.77,\"x\":39.368,\"y\":7.9544999999999995,\"z\":14.71,\"showarrow\":false,\"yshift\":15,\"font\":{\"color\":\"steelblue\"}},{\"text\":1.77,\"x\":38.205,\"y\":7.877,\"z\":15.1155,\"showarrow\":false,\"yshift\":15,\"font\":{\"color\":\"steelblue\"}},{\"text\":1.18,\"x\":38.5715,\"y\":8.648,\"z\":14.453,\"showarrow\":false,\"yshift\":15,\"font\":{\"color\":\"steelblue\"}},{\"text\":1.77,\"x\":39.8485,\"y\":7.0565,\"z\":13.977,\"showarrow\":false,\"yshift\":15,\"font\":{\"color\":\"steelblue\"}},{\"text\":1.18,\"x\":40.3845,\"y\":7.896,\"z\":14.373999999999999,\"showarrow\":false,\"yshift\":15,\"font\":{\"color\":\"steelblue\"}},{\"text\":1.18,\"x\":40.1405,\"y\":7.27,\"z\":14.9815,\"showarrow\":false,\"yshift\":15,\"font\":{\"color\":\"steelblue\"}},{\"text\":1.77,\"x\":39.0955,\"y\":6.173,\"z\":13.517,\"showarrow\":false,\"yshift\":15,\"font\":{\"color\":\"steelblue\"}},{\"text\":1.18,\"x\":39.667,\"y\":6.839,\"z\":12.946000000000002,\"showarrow\":false,\"yshift\":15,\"font\":{\"color\":\"steelblue\"}},{\"text\":1.18,\"x\":40.128,\"y\":6.202999999999999,\"z\":13.413,\"showarrow\":false,\"yshift\":15,\"font\":{\"color\":\"steelblue\"}},{\"text\":2.21,\"x\":38.597,\"y\":4.939500000000001,\"z\":13.733,\"showarrow\":false,\"yshift\":15,\"font\":{\"color\":\"steelblue\"}},{\"text\":1.77,\"x\":37.8955,\"y\":6.083,\"z\":13.942499999999999,\"showarrow\":false,\"yshift\":15,\"font\":{\"color\":\"steelblue\"}},{\"text\":2.21,\"x\":38.066,\"y\":3.7185,\"z\":13.8935,\"showarrow\":false,\"yshift\":15,\"font\":{\"color\":\"steelblue\"}},{\"text\":2.21,\"x\":39.186499999999995,\"y\":3.802,\"z\":13.348,\"showarrow\":false,\"yshift\":15,\"font\":{\"color\":\"steelblue\"}},{\"text\":2.21,\"x\":39.1065,\"y\":4.0120000000000005,\"z\":14.6485,\"showarrow\":false,\"yshift\":15,\"font\":{\"color\":\"steelblue\"}},{\"text\":1.77,\"x\":39.72,\"y\":3.2279999999999998,\"z\":15.565999999999999,\"showarrow\":false,\"yshift\":15,\"font\":{\"color\":\"steelblue\"}},{\"text\":1.18,\"x\":39.938500000000005,\"y\":4.2615,\"z\":15.464500000000001,\"showarrow\":false,\"yshift\":15,\"font\":{\"color\":\"steelblue\"}},{\"text\":1.18,\"x\":39.1365,\"y\":4.0680000000000005,\"z\":15.835,\"showarrow\":false,\"yshift\":15,\"font\":{\"color\":\"steelblue\"}},{\"text\":1.77,\"x\":39.4875,\"y\":2.0545,\"z\":15.9355,\"showarrow\":false,\"yshift\":15,\"font\":{\"color\":\"steelblue\"}},{\"text\":1.77,\"x\":40.5975,\"y\":2.335,\"z\":15.5395,\"showarrow\":false,\"yshift\":15,\"font\":{\"color\":\"steelblue\"}},{\"text\":1.77,\"x\":39.2395,\"y\":0.923,\"z\":16.2905,\"showarrow\":false,\"yshift\":15,\"font\":{\"color\":\"steelblue\"}},{\"text\":1.18,\"x\":38.5175,\"y\":1.732,\"z\":16.298000000000002,\"showarrow\":false,\"yshift\":15,\"font\":{\"color\":\"steelblue\"}},{\"text\":1.77,\"x\":40.101,\"y\":0.07350000000000001,\"z\":16.2515,\"showarrow\":false,\"yshift\":15,\"font\":{\"color\":\"steelblue\"}},{\"text\":1.18,\"x\":39.088,\"y\":-0.10699999999999998,\"z\":16.593,\"showarrow\":false,\"yshift\":15,\"font\":{\"color\":\"steelblue\"}},{\"text\":1.77,\"x\":41.210499999999996,\"y\":0.354,\"z\":15.856,\"showarrow\":false,\"yshift\":15,\"font\":{\"color\":\"steelblue\"}},{\"text\":1.18,\"x\":40.919,\"y\":-0.6355000000000001,\"z\":16.1905,\"showarrow\":false,\"yshift\":15,\"font\":{\"color\":\"steelblue\"}},{\"text\":1.77,\"x\":41.459,\"y\":1.484,\"z\":15.499,\"showarrow\":false,\"yshift\":15,\"font\":{\"color\":\"steelblue\"}},{\"text\":1.18,\"x\":42.18,\"y\":0.6745,\"z\":15.491,\"showarrow\":false,\"yshift\":15,\"font\":{\"color\":\"steelblue\"}},{\"text\":1.18,\"x\":41.611000000000004,\"y\":2.5135,\"z\":15.195,\"showarrow\":false,\"yshift\":15,\"font\":{\"color\":\"steelblue\"}},{\"text\":1.77,\"x\":37.4855,\"y\":6.889,\"z\":14.808,\"showarrow\":false,\"yshift\":15,\"font\":{\"color\":\"steelblue\"}},{\"text\":1.18,\"x\":37.006,\"y\":6.632,\"z\":13.8865,\"showarrow\":false,\"yshift\":15,\"font\":{\"color\":\"steelblue\"}},{\"text\":1.18,\"x\":37.039,\"y\":5.971500000000001,\"z\":14.5175,\"showarrow\":false,\"yshift\":15,\"font\":{\"color\":\"steelblue\"}},{\"text\":1.18,\"x\":37.210499999999996,\"y\":7.686,\"z\":15.472000000000001,\"showarrow\":false,\"yshift\":15,\"font\":{\"color\":\"steelblue\"}},{\"text\":1.18,\"x\":37.8495,\"y\":7.1235,\"z\":15.7845,\"showarrow\":false,\"yshift\":15,\"font\":{\"color\":\"steelblue\"}},{\"text\":1.18,\"x\":40.2515,\"y\":11.3745,\"z\":15.6645,\"showarrow\":false,\"yshift\":15,\"font\":{\"color\":\"steelblue\"}},{\"text\":2.46,\"x\":41.167500000000004,\"y\":13.427,\"z\":13.9275,\"showarrow\":false,\"yshift\":15,\"font\":{\"color\":\"steelblue\"}},{\"text\":\"O\",\"x\":39.044,\"y\":17.603,\"z\":12.296,\"showarrow\":false,\"yshift\":15},{\"text\":\"C\",\"x\":40.196,\"y\":17.099,\"z\":12.364,\"showarrow\":false,\"yshift\":15},{\"text\":\"O\",\"x\":41.237,\"y\":17.64,\"z\":11.648,\"showarrow\":false,\"yshift\":15},{\"text\":\"C\",\"x\":40.455,\"y\":15.916,\"z\":13.197,\"showarrow\":false,\"yshift\":15},{\"text\":\"O\",\"x\":41.645,\"y\":16.135,\"z\":13.911,\"showarrow\":false,\"yshift\":15},{\"text\":\"C\",\"x\":42.164,\"y\":15.117,\"z\":14.672,\"showarrow\":false,\"yshift\":15},{\"text\":\"C\",\"x\":41.512,\"y\":13.882,\"z\":14.868,\"showarrow\":false,\"yshift\":15},{\"text\":\"C\",\"x\":42.249,\"y\":13.026,\"z\":15.688,\"showarrow\":false,\"yshift\":15},{\"text\":\"C\",\"x\":41.933,\"y\":11.631,\"z\":16.062,\"showarrow\":false,\"yshift\":15},{\"text\":\"C\",\"x\":42.944,\"y\":10.842,\"z\":16.64,\"showarrow\":false,\"yshift\":15},{\"text\":\"C\",\"x\":42.706,\"y\":9.507,\"z\":16.988,\"showarrow\":false,\"yshift\":15},{\"text\":\"C\",\"x\":41.438,\"y\":8.953,\"z\":16.773,\"showarrow\":false,\"yshift\":15},{\"text\":\"C\",\"x\":40.41,\"y\":9.745,\"z\":16.221,\"showarrow\":false,\"yshift\":15},{\"text\":\"N\",\"x\":39.105,\"y\":9.229,\"z\":15.987,\"showarrow\":false,\"yshift\":15},{\"text\":\"C\",\"x\":38.777,\"y\":8.326,\"z\":14.903,\"showarrow\":false,\"yshift\":15},{\"text\":\"C\",\"x\":40.05,\"y\":7.557,\"z\":14.539,\"showarrow\":false,\"yshift\":15},{\"text\":\"C\",\"x\":39.729,\"y\":6.41,\"z\":13.593,\"showarrow\":false,\"yshift\":15},{\"text\":\"N\",\"x\":38.749,\"y\":5.556,\"z\":14.253,\"showarrow\":false,\"yshift\":15},{\"text\":\"S\",\"x\":38.606,\"y\":4.027,\"z\":13.457,\"showarrow\":false,\"yshift\":15},{\"text\":\"O\",\"x\":38.676,\"y\":4.254,\"z\":11.971,\"showarrow\":false,\"yshift\":15},{\"text\":\"O\",\"x\":37.27,\"y\":3.436,\"z\":13.814,\"showarrow\":false,\"yshift\":15},{\"text\":\"C\",\"x\":39.877,\"y\":2.875,\"z\":13.97,\"showarrow\":false,\"yshift\":15},{\"text\":\"C\",\"x\":39.788,\"y\":2.546,\"z\":15.421,\"showarrow\":false,\"yshift\":15},{\"text\":\"C\",\"x\":40.079,\"y\":3.515,\"z\":16.388,\"showarrow\":false,\"yshift\":15},{\"text\":\"C\",\"x\":39.992,\"y\":3.197,\"z\":17.747,\"showarrow\":false,\"yshift\":15},{\"text\":\"C\",\"x\":39.616,\"y\":1.909,\"z\":18.141,\"showarrow\":false,\"yshift\":15},{\"text\":\"C\",\"x\":39.331,\"y\":0.938,\"z\":17.177,\"showarrow\":false,\"yshift\":15},{\"text\":\"C\",\"x\":39.418,\"y\":1.256,\"z\":15.818,\"showarrow\":false,\"yshift\":15},{\"text\":\"C\",\"x\":37.466,\"y\":6.242,\"z\":14.38,\"showarrow\":false,\"yshift\":15},{\"text\":\"C\",\"x\":37.648,\"y\":7.389,\"z\":15.363,\"showarrow\":false,\"yshift\":15},{\"text\":\"C\",\"x\":40.659,\"y\":11.076,\"z\":15.866,\"showarrow\":false,\"yshift\":15},{\"text\":\"S\",\"x\":43.673,\"y\":13.812,\"z\":16.14,\"showarrow\":false,\"yshift\":15},{\"text\":\"C\",\"x\":43.374,\"y\":15.243,\"z\":15.314,\"showarrow\":false,\"yshift\":15},{\"text\":\"C\",\"x\":44.212,\"y\":16.434,\"z\":15.415,\"showarrow\":false,\"yshift\":15},{\"text\":\"O\",\"x\":45.388,\"y\":16.405,\"z\":15.871,\"showarrow\":false,\"yshift\":15},{\"text\":\"O\",\"x\":43.675,\"y\":17.62,\"z\":14.974,\"showarrow\":false,\"yshift\":15},{\"text\":\"H\",\"x\":39.622,\"y\":15.764,\"z\":13.898,\"showarrow\":false,\"yshift\":15},{\"text\":\"H\",\"x\":40.55,\"y\":15.02,\"z\":12.565,\"showarrow\":false,\"yshift\":15},{\"text\":\"H\",\"x\":40.538,\"y\":13.624,\"z\":14.427,\"showarrow\":false,\"yshift\":15},{\"text\":\"H\",\"x\":43.937,\"y\":11.28,\"z\":16.82,\"showarrow\":false,\"yshift\":15},{\"text\":\"H\",\"x\":43.51,\"y\":8.898,\"z\":17.427,\"showarrow\":false,\"yshift\":15},{\"text\":\"H\",\"x\":41.244,\"y\":7.902,\"z\":17.033,\"showarrow\":false,\"yshift\":15},{\"text\":\"H\",\"x\":38.349,\"y\":9.514,\"z\":16.625,\"showarrow\":false,\"yshift\":15},{\"text\":\"H\",\"x\":38.421,\"y\":8.864,\"z\":14.012,\"showarrow\":false,\"yshift\":15},{\"text\":\"H\",\"x\":40.759,\"y\":8.241,\"z\":14.051,\"showarrow\":false,\"yshift\":15},{\"text\":\"H\",\"x\":40.491,\"y\":7.145,\"z\":15.459,\"showarrow\":false,\"yshift\":15},{\"text\":\"H\",\"x\":39.312,\"y\":6.804,\"z\":12.655,\"showarrow\":false,\"yshift\":15},{\"text\":\"H\",\"x\":40.639,\"y\":5.841,\"z\":13.353,\"showarrow\":false,\"yshift\":15},{\"text\":\"H\",\"x\":39.77,\"y\":1.947,\"z\":13.389,\"showarrow\":false,\"yshift\":15},{\"text\":\"H\",\"x\":40.854,\"y\":3.349,\"z\":13.791,\"showarrow\":false,\"yshift\":15},{\"text\":\"H\",\"x\":40.377,\"y\":4.528,\"z\":16.078,\"showarrow\":false,\"yshift\":15},{\"text\":\"H\",\"x\":40.218,\"y\":3.961,\"z\":18.506,\"showarrow\":false,\"yshift\":15},{\"text\":\"H\",\"x\":39.546,\"y\":1.66,\"z\":19.21,\"showarrow\":false,\"yshift\":15},{\"text\":\"H\",\"x\":39.037,\"y\":-0.075,\"z\":17.487,\"showarrow\":false,\"yshift\":15},{\"text\":\"H\",\"x\":39.196,\"y\":0.49,\"z\":15.06,\"showarrow\":false,\"yshift\":15},{\"text\":\"H\",\"x\":37.153,\"y\":6.634,\"z\":13.401,\"showarrow\":false,\"yshift\":15},{\"text\":\"H\",\"x\":36.693,\"y\":5.547,\"z\":14.739,\"showarrow\":false,\"yshift\":15},{\"text\":\"H\",\"x\":36.709,\"y\":7.96,\"z\":15.428,\"showarrow\":false,\"yshift\":15},{\"text\":\"H\",\"x\":37.912,\"y\":6.974,\"z\":16.346,\"showarrow\":false,\"yshift\":15},{\"text\":\"H\",\"x\":39.855,\"y\":11.688,\"z\":15.431,\"showarrow\":false,\"yshift\":15},{\"text\":1.77,\"x\":39.62,\"y\":17.351,\"z\":12.33,\"showarrow\":false,\"yshift\":15,\"font\":{\"color\":\"steelblue\"}},{\"text\":1.77,\"x\":40.716499999999996,\"y\":17.369500000000002,\"z\":12.006,\"showarrow\":false,\"yshift\":15,\"font\":{\"color\":\"steelblue\"}},{\"text\":1.77,\"x\":40.3255,\"y\":16.5075,\"z\":12.7805,\"showarrow\":false,\"yshift\":15,\"font\":{\"color\":\"steelblue\"}},{\"text\":1.77,\"x\":41.05,\"y\":16.0255,\"z\":13.553999999999998,\"showarrow\":false,\"yshift\":15,\"font\":{\"color\":\"steelblue\"}},{\"text\":1.18,\"x\":40.0385,\"y\":15.84,\"z\":13.5475,\"showarrow\":false,\"yshift\":15,\"font\":{\"color\":\"steelblue\"}},{\"text\":1.18,\"x\":40.5025,\"y\":15.468,\"z\":12.881,\"showarrow\":false,\"yshift\":15,\"font\":{\"color\":\"steelblue\"}},{\"text\":1.77,\"x\":41.9045,\"y\":15.626000000000001,\"z\":14.2915,\"showarrow\":false,\"yshift\":15,\"font\":{\"color\":\"steelblue\"}},{\"text\":1.77,\"x\":41.838,\"y\":14.499500000000001,\"z\":14.77,\"showarrow\":false,\"yshift\":15,\"font\":{\"color\":\"steelblue\"}},{\"text\":1.77,\"x\":42.769000000000005,\"y\":15.18,\"z\":14.993,\"showarrow\":false,\"yshift\":15,\"font\":{\"color\":\"steelblue\"}},{\"text\":1.77,\"x\":41.8805,\"y\":13.454,\"z\":15.278,\"showarrow\":false,\"yshift\":15,\"font\":{\"color\":\"steelblue\"}},{\"text\":1.18,\"x\":41.025,\"y\":13.753,\"z\":14.6475,\"showarrow\":false,\"yshift\":15,\"font\":{\"color\":\"steelblue\"}},{\"text\":1.77,\"x\":42.091,\"y\":12.3285,\"z\":15.875,\"showarrow\":false,\"yshift\":15,\"font\":{\"color\":\"steelblue\"}},{\"text\":2.21,\"x\":42.961,\"y\":13.419,\"z\":15.914000000000001,\"showarrow\":false,\"yshift\":15,\"font\":{\"color\":\"steelblue\"}},{\"text\":1.77,\"x\":42.438500000000005,\"y\":11.2365,\"z\":16.351,\"showarrow\":false,\"yshift\":15,\"font\":{\"color\":\"steelblue\"}},{\"text\":1.77,\"x\":41.296,\"y\":11.3535,\"z\":15.964,\"showarrow\":false,\"yshift\":15,\"font\":{\"color\":\"steelblue\"}},{\"text\":1.77,\"x\":42.825,\"y\":10.1745,\"z\":16.814,\"showarrow\":false,\"yshift\":15,\"font\":{\"color\":\"steelblue\"}},{\"text\":1.18,\"x\":43.4405,\"y\":11.061,\"z\":16.73,\"showarrow\":false,\"yshift\":15,\"font\":{\"color\":\"steelblue\"}},{\"text\":1.77,\"x\":42.072,\"y\":9.23,\"z\":16.880499999999998,\"showarrow\":false,\"yshift\":15,\"font\":{\"color\":\"steelblue\"}},{\"text\":1.18,\"x\":43.108000000000004,\"y\":9.2025,\"z\":17.2075,\"showarrow\":false,\"yshift\":15,\"font\":{\"color\":\"steelblue\"}},{\"text\":1.77,\"x\":40.924,\"y\":9.349,\"z\":16.497,\"showarrow\":false,\"yshift\":15,\"font\":{\"color\":\"steelblue\"}},{\"text\":1.18,\"x\":41.341,\"y\":8.4275,\"z\":16.903,\"showarrow\":false,\"yshift\":15,\"font\":{\"color\":\"steelblue\"}},{\"text\":1.77,\"x\":39.75749999999999,\"y\":9.486999999999998,\"z\":16.104,\"showarrow\":false,\"yshift\":15,\"font\":{\"color\":\"steelblue\"}},{\"text\":1.77,\"x\":40.534499999999994,\"y\":10.410499999999999,\"z\":16.0435,\"showarrow\":false,\"yshift\":15,\"font\":{\"color\":\"steelblue\"}},{\"text\":1.77,\"x\":38.941,\"y\":8.7775,\"z\":15.445,\"showarrow\":false,\"yshift\":15,\"font\":{\"color\":\"steelblue\"}},{\"text\":1.18,\"x\":38.727,\"y\":9.3715,\"z\":16.306,\"showarrow\":false,\"yshift\":15,\"font\":{\"color\":\"steelblue\"}},{\"text\":1.77,\"x\":39.4135,\"y\":7.9415000000000004,\"z\":14.721,\"showarrow\":false,\"yshift\":15,\"font\":{\"color\":\"steelblue\"}},{\"text\":1.77,\"x\":38.212500000000006,\"y\":7.8575,\"z\":15.133,\"showarrow\":false,\"yshift\":15,\"font\":{\"color\":\"steelblue\"}},{\"text\":1.18,\"x\":38.599000000000004,\"y\":8.595,\"z\":14.4575,\"showarrow\":false,\"yshift\":15,\"font\":{\"color\":\"steelblue\"}},{\"text\":1.77,\"x\":39.8895,\"y\":6.9835,\"z\":14.065999999999999,\"showarrow\":false,\"yshift\":15,\"font\":{\"color\":\"steelblue\"}},{\"text\":1.18,\"x\":40.4045,\"y\":7.899,\"z\":14.295,\"showarrow\":false,\"yshift\":15,\"font\":{\"color\":\"steelblue\"}},{\"text\":1.18,\"x\":40.2705,\"y\":7.351,\"z\":14.998999999999999,\"showarrow\":false,\"yshift\":15,\"font\":{\"color\":\"steelblue\"}},{\"text\":1.77,\"x\":39.239000000000004,\"y\":5.9830000000000005,\"z\":13.923,\"showarrow\":false,\"yshift\":15,\"font\":{\"color\":\"steelblue\"}},{\"text\":1.18,\"x\":39.5205,\"y\":6.607,\"z\":13.123999999999999,\"showarrow\":false,\"yshift\":15,\"font\":{\"color\":\"steelblue\"}},{\"text\":1.18,\"x\":40.184,\"y\":6.125500000000001,\"z\":13.472999999999999,\"showarrow\":false,\"yshift\":15,\"font\":{\"color\":\"steelblue\"}},{\"text\":2.21,\"x\":38.6775,\"y\":4.7915,\"z\":13.855,\"showarrow\":false,\"yshift\":15,\"font\":{\"color\":\"steelblue\"}},{\"text\":1.77,\"x\":38.1075,\"y\":5.899,\"z\":14.316500000000001,\"showarrow\":false,\"yshift\":15,\"font\":{\"color\":\"steelblue\"}},{\"text\":2.21,\"x\":38.641000000000005,\"y\":4.140499999999999,\"z\":12.714,\"showarrow\":false,\"yshift\":15,\"font\":{\"color\":\"steelblue\"}},{\"text\":2.21,\"x\":37.938,\"y\":3.7315,\"z\":13.6355,\"showarrow\":false,\"yshift\":15,\"font\":{\"color\":\"steelblue\"}},{\"text\":2.21,\"x\":39.2415,\"y\":3.451,\"z\":13.7135,\"showarrow\":false,\"yshift\":15,\"font\":{\"color\":\"steelblue\"}},{\"text\":1.77,\"x\":39.832499999999996,\"y\":2.7104999999999997,\"z\":14.6955,\"showarrow\":false,\"yshift\":15,\"font\":{\"color\":\"steelblue\"}},{\"text\":1.18,\"x\":39.8235,\"y\":2.411,\"z\":13.6795,\"showarrow\":false,\"yshift\":15,\"font\":{\"color\":\"steelblue\"}},{\"text\":1.18,\"x\":40.3655,\"y\":3.112,\"z\":13.880500000000001,\"showarrow\":false,\"yshift\":15,\"font\":{\"color\":\"steelblue\"}},{\"text\":1.77,\"x\":39.933499999999995,\"y\":3.0305,\"z\":15.9045,\"showarrow\":false,\"yshift\":15,\"font\":{\"color\":\"steelblue\"}},{\"text\":1.77,\"x\":39.602999999999994,\"y\":1.9009999999999998,\"z\":15.619499999999999,\"showarrow\":false,\"yshift\":15,\"font\":{\"color\":\"steelblue\"}},{\"text\":1.77,\"x\":40.0355,\"y\":3.356,\"z\":17.067500000000003,\"showarrow\":false,\"yshift\":15,\"font\":{\"color\":\"steelblue\"}},{\"text\":1.18,\"x\":40.228,\"y\":4.0215,\"z\":16.233,\"showarrow\":false,\"yshift\":15,\"font\":{\"color\":\"steelblue\"}},{\"text\":1.77,\"x\":39.804,\"y\":2.553,\"z\":17.944,\"showarrow\":false,\"yshift\":15,\"font\":{\"color\":\"steelblue\"}},{\"text\":1.18,\"x\":40.105000000000004,\"y\":3.5789999999999997,\"z\":18.1265,\"showarrow\":false,\"yshift\":15,\"font\":{\"color\":\"steelblue\"}},{\"text\":1.77,\"x\":39.4735,\"y\":1.4235,\"z\":17.659,\"showarrow\":false,\"yshift\":15,\"font\":{\"color\":\"steelblue\"}},{\"text\":1.18,\"x\":39.581,\"y\":1.7845,\"z\":18.6755,\"showarrow\":false,\"yshift\":15,\"font\":{\"color\":\"steelblue\"}},{\"text\":1.77,\"x\":39.3745,\"y\":1.097,\"z\":16.4975,\"showarrow\":false,\"yshift\":15,\"font\":{\"color\":\"steelblue\"}},{\"text\":1.18,\"x\":39.184,\"y\":0.4315,\"z\":17.332,\"showarrow\":false,\"yshift\":15,\"font\":{\"color\":\"steelblue\"}},{\"text\":1.18,\"x\":39.307,\"y\":0.873,\"z\":15.439,\"showarrow\":false,\"yshift\":15,\"font\":{\"color\":\"steelblue\"}},{\"text\":1.77,\"x\":37.557,\"y\":6.8155,\"z\":14.871500000000001,\"showarrow\":false,\"yshift\":15,\"font\":{\"color\":\"steelblue\"}},{\"text\":1.18,\"x\":37.3095,\"y\":6.438000000000001,\"z\":13.8905,\"showarrow\":false,\"yshift\":15,\"font\":{\"color\":\"steelblue\"}},{\"text\":1.18,\"x\":37.079499999999996,\"y\":5.8945,\"z\":14.5595,\"showarrow\":false,\"yshift\":15,\"font\":{\"color\":\"steelblue\"}},{\"text\":1.18,\"x\":37.1785,\"y\":7.6745,\"z\":15.3955,\"showarrow\":false,\"yshift\":15,\"font\":{\"color\":\"steelblue\"}},{\"text\":1.18,\"x\":37.78,\"y\":7.1815,\"z\":15.8545,\"showarrow\":false,\"yshift\":15,\"font\":{\"color\":\"steelblue\"}},{\"text\":1.18,\"x\":40.257,\"y\":11.382000000000001,\"z\":15.648499999999999,\"showarrow\":false,\"yshift\":15,\"font\":{\"color\":\"steelblue\"}},{\"text\":2.21,\"x\":43.5235,\"y\":14.5275,\"z\":15.727,\"showarrow\":false,\"yshift\":15,\"font\":{\"color\":\"steelblue\"}},{\"text\":1.77,\"x\":43.793000000000006,\"y\":15.8385,\"z\":15.3645,\"showarrow\":false,\"yshift\":15,\"font\":{\"color\":\"steelblue\"}},{\"text\":1.77,\"x\":44.8,\"y\":16.4195,\"z\":15.643,\"showarrow\":false,\"yshift\":15,\"font\":{\"color\":\"steelblue\"}},{\"text\":1.77,\"x\":43.9435,\"y\":17.027,\"z\":15.1945,\"showarrow\":false,\"yshift\":15,\"font\":{\"color\":\"steelblue\"}}]}],\"label\":\" Elements & Bond Lengths\",\"method\":\"relayout\"},{\"args\":[{\"scene.annotations\":[{\"text\":0,\"x\":41.039,\"y\":17.188,\"z\":11.242,\"showarrow\":false,\"yshift\":15},{\"text\":1,\"x\":40.735,\"y\":17.514,\"z\":12.421,\"showarrow\":false,\"yshift\":15},{\"text\":2,\"x\":40.373,\"y\":18.806,\"z\":12.715,\"showarrow\":false,\"yshift\":15},{\"text\":3,\"x\":40.775,\"y\":16.529,\"z\":13.51,\"showarrow\":false,\"yshift\":15},{\"text\":4,\"x\":42.056,\"y\":15.953,\"z\":13.53,\"showarrow\":false,\"yshift\":15},{\"text\":5,\"x\":42.358,\"y\":15.038,\"z\":14.508,\"showarrow\":false,\"yshift\":15},{\"text\":6,\"x\":43.256,\"y\":15.323,\"z\":15.509,\"showarrow\":false,\"yshift\":15},{\"text\":7,\"x\":43.917,\"y\":16.597,\"z\":15.777,\"showarrow\":false,\"yshift\":15},{\"text\":8,\"x\":43.649,\"y\":17.652,\"z\":15.139,\"showarrow\":false,\"yshift\":15},{\"text\":9,\"x\":44.856,\"y\":16.621,\"z\":16.78,\"showarrow\":false,\"yshift\":15},{\"text\":10,\"x\":43.357,\"y\":13.98,\"z\":16.515,\"showarrow\":false,\"yshift\":15},{\"text\":11,\"x\":42.242,\"y\":13.02,\"z\":15.683,\"showarrow\":false,\"yshift\":15},{\"text\":12,\"x\":41.93,\"y\":11.624,\"z\":16.062,\"showarrow\":false,\"yshift\":15},{\"text\":13,\"x\":42.944,\"y\":10.838,\"z\":16.638,\"showarrow\":false,\"yshift\":15},{\"text\":14,\"x\":42.707,\"y\":9.503,\"z\":16.987,\"showarrow\":false,\"yshift\":15},{\"text\":15,\"x\":41.439,\"y\":8.945,\"z\":16.773,\"showarrow\":false,\"yshift\":15},{\"text\":16,\"x\":40.409,\"y\":9.736,\"z\":16.226,\"showarrow\":false,\"yshift\":15},{\"text\":17,\"x\":39.103,\"y\":9.223,\"z\":15.992,\"showarrow\":false,\"yshift\":15},{\"text\":18,\"x\":38.749,\"y\":8.357,\"z\":14.885,\"showarrow\":false,\"yshift\":15},{\"text\":19,\"x\":39.987,\"y\":7.552,\"z\":14.535,\"showarrow\":false,\"yshift\":15},{\"text\":20,\"x\":39.71,\"y\":6.561,\"z\":13.419,\"showarrow\":false,\"yshift\":15},{\"text\":21,\"x\":38.481,\"y\":5.785,\"z\":13.615,\"showarrow\":false,\"yshift\":15},{\"text\":22,\"x\":38.713,\"y\":4.094,\"z\":13.851,\"showarrow\":false,\"yshift\":15},{\"text\":23,\"x\":37.419,\"y\":3.343,\"z\":13.936,\"showarrow\":false,\"yshift\":15},{\"text\":24,\"x\":39.66,\"y\":3.51,\"z\":12.845,\"showarrow\":false,\"yshift\":15},{\"text\":25,\"x\":39.5,\"y\":3.93,\"z\":15.446,\"showarrow\":false,\"yshift\":15},{\"text\":26,\"x\":39.94,\"y\":2.526,\"z\":15.686,\"showarrow\":false,\"yshift\":15},{\"text\":27,\"x\":39.035,\"y\":1.583,\"z\":16.185,\"showarrow\":false,\"yshift\":15},{\"text\":28,\"x\":39.444,\"y\":0.263,\"z\":16.396,\"showarrow\":false,\"yshift\":15},{\"text\":29,\"x\":40.758,\"y\":-0.116,\"z\":16.107,\"showarrow\":false,\"yshift\":15},{\"text\":30,\"x\":41.663,\"y\":0.824,\"z\":15.605,\"showarrow\":false,\"yshift\":15},{\"text\":31,\"x\":41.255,\"y\":2.144,\"z\":15.393,\"showarrow\":false,\"yshift\":15},{\"text\":32,\"x\":37.31,\"y\":6.381,\"z\":14.27,\"showarrow\":false,\"yshift\":15},{\"text\":33,\"x\":37.661,\"y\":7.397,\"z\":15.346,\"showarrow\":false,\"yshift\":15},{\"text\":34,\"x\":40.656,\"y\":11.068,\"z\":15.876,\"showarrow\":false,\"yshift\":15},{\"text\":35,\"x\":41.78,\"y\":13.756,\"z\":14.586,\"showarrow\":false,\"yshift\":15},{\"text\":36,\"x\":40.555,\"y\":13.098,\"z\":13.269,\"showarrow\":false,\"yshift\":15},{\"text\":37,\"x\":40.575,\"y\":17.028,\"z\":14.47,\"showarrow\":false,\"yshift\":15},{\"text\":38,\"x\":40.01,\"y\":15.755,\"z\":13.351,\"showarrow\":false,\"yshift\":15},{\"text\":39,\"x\":43.936,\"y\":11.278,\"z\":16.816,\"showarrow\":false,\"yshift\":15},{\"text\":40,\"x\":43.512,\"y\":8.895,\"z\":17.426,\"showarrow\":false,\"yshift\":15},{\"text\":41,\"x\":41.248,\"y\":7.893,\"z\":17.031,\"showarrow\":false,\"yshift\":15},{\"text\":42,\"x\":38.358,\"y\":9.483,\"z\":16.654,\"showarrow\":false,\"yshift\":15},{\"text\":43,\"x\":38.394,\"y\":8.939,\"z\":14.021,\"showarrow\":false,\"yshift\":15},{\"text\":44,\"x\":40.782,\"y\":8.24,\"z\":14.213,\"showarrow\":false,\"yshift\":15},{\"text\":45,\"x\":40.294,\"y\":6.988,\"z\":15.428,\"showarrow\":false,\"yshift\":15},{\"text\":46,\"x\":39.624,\"y\":7.117,\"z\":12.473,\"showarrow\":false,\"yshift\":15},{\"text\":47,\"x\":40.546,\"y\":5.845,\"z\":13.407,\"showarrow\":false,\"yshift\":15},{\"text\":48,\"x\":40.377,\"y\":4.593,\"z\":15.483,\"showarrow\":false,\"yshift\":15},{\"text\":49,\"x\":38.773,\"y\":4.206,\"z\":16.224,\"showarrow\":false,\"yshift\":15},{\"text\":50,\"x\":38.0,\"y\":1.881,\"z\":16.411,\"showarrow\":false,\"yshift\":15},{\"text\":51,\"x\":38.732,\"y\":-0.477,\"z\":16.79,\"showarrow\":false,\"yshift\":15},{\"text\":52,\"x\":41.08,\"y\":-1.155,\"z\":16.274,\"showarrow\":false,\"yshift\":15},{\"text\":53,\"x\":42.697,\"y\":0.525,\"z\":15.377,\"showarrow\":false,\"yshift\":15},{\"text\":54,\"x\":41.967,\"y\":2.883,\"z\":14.997,\"showarrow\":false,\"yshift\":15},{\"text\":55,\"x\":36.702,\"y\":6.883,\"z\":13.503,\"showarrow\":false,\"yshift\":15},{\"text\":56,\"x\":36.768,\"y\":5.562,\"z\":14.765,\"showarrow\":false,\"yshift\":15},{\"text\":57,\"x\":36.76,\"y\":7.975,\"z\":15.598,\"showarrow\":false,\"yshift\":15},{\"text\":58,\"x\":38.038,\"y\":6.85,\"z\":16.223,\"showarrow\":false,\"yshift\":15},{\"text\":59,\"x\":39.847,\"y\":11.681,\"z\":15.453,\"showarrow\":false,\"yshift\":15},{\"text\":0,\"x\":39.044,\"y\":17.603,\"z\":12.296,\"showarrow\":false,\"yshift\":15},{\"text\":1,\"x\":40.196,\"y\":17.099,\"z\":12.364,\"showarrow\":false,\"yshift\":15},{\"text\":2,\"x\":41.237,\"y\":17.64,\"z\":11.648,\"showarrow\":false,\"yshift\":15},{\"text\":3,\"x\":40.455,\"y\":15.916,\"z\":13.197,\"showarrow\":false,\"yshift\":15},{\"text\":4,\"x\":41.645,\"y\":16.135,\"z\":13.911,\"showarrow\":false,\"yshift\":15},{\"text\":5,\"x\":42.164,\"y\":15.117,\"z\":14.672,\"showarrow\":false,\"yshift\":15},{\"text\":6,\"x\":41.512,\"y\":13.882,\"z\":14.868,\"showarrow\":false,\"yshift\":15},{\"text\":7,\"x\":42.249,\"y\":13.026,\"z\":15.688,\"showarrow\":false,\"yshift\":15},{\"text\":8,\"x\":41.933,\"y\":11.631,\"z\":16.062,\"showarrow\":false,\"yshift\":15},{\"text\":9,\"x\":42.944,\"y\":10.842,\"z\":16.64,\"showarrow\":false,\"yshift\":15},{\"text\":10,\"x\":42.706,\"y\":9.507,\"z\":16.988,\"showarrow\":false,\"yshift\":15},{\"text\":11,\"x\":41.438,\"y\":8.953,\"z\":16.773,\"showarrow\":false,\"yshift\":15},{\"text\":12,\"x\":40.41,\"y\":9.745,\"z\":16.221,\"showarrow\":false,\"yshift\":15},{\"text\":13,\"x\":39.105,\"y\":9.229,\"z\":15.987,\"showarrow\":false,\"yshift\":15},{\"text\":14,\"x\":38.777,\"y\":8.326,\"z\":14.903,\"showarrow\":false,\"yshift\":15},{\"text\":15,\"x\":40.05,\"y\":7.557,\"z\":14.539,\"showarrow\":false,\"yshift\":15},{\"text\":16,\"x\":39.729,\"y\":6.41,\"z\":13.593,\"showarrow\":false,\"yshift\":15},{\"text\":17,\"x\":38.749,\"y\":5.556,\"z\":14.253,\"showarrow\":false,\"yshift\":15},{\"text\":18,\"x\":38.606,\"y\":4.027,\"z\":13.457,\"showarrow\":false,\"yshift\":15},{\"text\":19,\"x\":38.676,\"y\":4.254,\"z\":11.971,\"showarrow\":false,\"yshift\":15},{\"text\":20,\"x\":37.27,\"y\":3.436,\"z\":13.814,\"showarrow\":false,\"yshift\":15},{\"text\":21,\"x\":39.877,\"y\":2.875,\"z\":13.97,\"showarrow\":false,\"yshift\":15},{\"text\":22,\"x\":39.788,\"y\":2.546,\"z\":15.421,\"showarrow\":false,\"yshift\":15},{\"text\":23,\"x\":40.079,\"y\":3.515,\"z\":16.388,\"showarrow\":false,\"yshift\":15},{\"text\":24,\"x\":39.992,\"y\":3.197,\"z\":17.747,\"showarrow\":false,\"yshift\":15},{\"text\":25,\"x\":39.616,\"y\":1.909,\"z\":18.141,\"showarrow\":false,\"yshift\":15},{\"text\":26,\"x\":39.331,\"y\":0.938,\"z\":17.177,\"showarrow\":false,\"yshift\":15},{\"text\":27,\"x\":39.418,\"y\":1.256,\"z\":15.818,\"showarrow\":false,\"yshift\":15},{\"text\":28,\"x\":37.466,\"y\":6.242,\"z\":14.38,\"showarrow\":false,\"yshift\":15},{\"text\":29,\"x\":37.648,\"y\":7.389,\"z\":15.363,\"showarrow\":false,\"yshift\":15},{\"text\":30,\"x\":40.659,\"y\":11.076,\"z\":15.866,\"showarrow\":false,\"yshift\":15},{\"text\":31,\"x\":43.673,\"y\":13.812,\"z\":16.14,\"showarrow\":false,\"yshift\":15},{\"text\":32,\"x\":43.374,\"y\":15.243,\"z\":15.314,\"showarrow\":false,\"yshift\":15},{\"text\":33,\"x\":44.212,\"y\":16.434,\"z\":15.415,\"showarrow\":false,\"yshift\":15},{\"text\":34,\"x\":45.388,\"y\":16.405,\"z\":15.871,\"showarrow\":false,\"yshift\":15},{\"text\":35,\"x\":43.675,\"y\":17.62,\"z\":14.974,\"showarrow\":false,\"yshift\":15},{\"text\":36,\"x\":39.622,\"y\":15.764,\"z\":13.898,\"showarrow\":false,\"yshift\":15},{\"text\":37,\"x\":40.55,\"y\":15.02,\"z\":12.565,\"showarrow\":false,\"yshift\":15},{\"text\":38,\"x\":40.538,\"y\":13.624,\"z\":14.427,\"showarrow\":false,\"yshift\":15},{\"text\":39,\"x\":43.937,\"y\":11.28,\"z\":16.82,\"showarrow\":false,\"yshift\":15},{\"text\":40,\"x\":43.51,\"y\":8.898,\"z\":17.427,\"showarrow\":false,\"yshift\":15},{\"text\":41,\"x\":41.244,\"y\":7.902,\"z\":17.033,\"showarrow\":false,\"yshift\":15},{\"text\":42,\"x\":38.349,\"y\":9.514,\"z\":16.625,\"showarrow\":false,\"yshift\":15},{\"text\":43,\"x\":38.421,\"y\":8.864,\"z\":14.012,\"showarrow\":false,\"yshift\":15},{\"text\":44,\"x\":40.759,\"y\":8.241,\"z\":14.051,\"showarrow\":false,\"yshift\":15},{\"text\":45,\"x\":40.491,\"y\":7.145,\"z\":15.459,\"showarrow\":false,\"yshift\":15},{\"text\":46,\"x\":39.312,\"y\":6.804,\"z\":12.655,\"showarrow\":false,\"yshift\":15},{\"text\":47,\"x\":40.639,\"y\":5.841,\"z\":13.353,\"showarrow\":false,\"yshift\":15},{\"text\":48,\"x\":39.77,\"y\":1.947,\"z\":13.389,\"showarrow\":false,\"yshift\":15},{\"text\":49,\"x\":40.854,\"y\":3.349,\"z\":13.791,\"showarrow\":false,\"yshift\":15},{\"text\":50,\"x\":40.377,\"y\":4.528,\"z\":16.078,\"showarrow\":false,\"yshift\":15},{\"text\":51,\"x\":40.218,\"y\":3.961,\"z\":18.506,\"showarrow\":false,\"yshift\":15},{\"text\":52,\"x\":39.546,\"y\":1.66,\"z\":19.21,\"showarrow\":false,\"yshift\":15},{\"text\":53,\"x\":39.037,\"y\":-0.075,\"z\":17.487,\"showarrow\":false,\"yshift\":15},{\"text\":54,\"x\":39.196,\"y\":0.49,\"z\":15.06,\"showarrow\":false,\"yshift\":15},{\"text\":55,\"x\":37.153,\"y\":6.634,\"z\":13.401,\"showarrow\":false,\"yshift\":15},{\"text\":56,\"x\":36.693,\"y\":5.547,\"z\":14.739,\"showarrow\":false,\"yshift\":15},{\"text\":57,\"x\":36.709,\"y\":7.96,\"z\":15.428,\"showarrow\":false,\"yshift\":15},{\"text\":58,\"x\":37.912,\"y\":6.974,\"z\":16.346,\"showarrow\":false,\"yshift\":15},{\"text\":59,\"x\":39.855,\"y\":11.688,\"z\":15.431,\"showarrow\":false,\"yshift\":15}]}],\"label\":\"Indices\",\"method\":\"relayout\"},{\"args\":[{\"scene.annotations\":[{\"text\":0,\"x\":41.039,\"y\":17.188,\"z\":11.242,\"showarrow\":false,\"yshift\":15},{\"text\":1,\"x\":40.735,\"y\":17.514,\"z\":12.421,\"showarrow\":false,\"yshift\":15},{\"text\":2,\"x\":40.373,\"y\":18.806,\"z\":12.715,\"showarrow\":false,\"yshift\":15},{\"text\":3,\"x\":40.775,\"y\":16.529,\"z\":13.51,\"showarrow\":false,\"yshift\":15},{\"text\":4,\"x\":42.056,\"y\":15.953,\"z\":13.53,\"showarrow\":false,\"yshift\":15},{\"text\":5,\"x\":42.358,\"y\":15.038,\"z\":14.508,\"showarrow\":false,\"yshift\":15},{\"text\":6,\"x\":43.256,\"y\":15.323,\"z\":15.509,\"showarrow\":false,\"yshift\":15},{\"text\":7,\"x\":43.917,\"y\":16.597,\"z\":15.777,\"showarrow\":false,\"yshift\":15},{\"text\":8,\"x\":43.649,\"y\":17.652,\"z\":15.139,\"showarrow\":false,\"yshift\":15},{\"text\":9,\"x\":44.856,\"y\":16.621,\"z\":16.78,\"showarrow\":false,\"yshift\":15},{\"text\":10,\"x\":43.357,\"y\":13.98,\"z\":16.515,\"showarrow\":false,\"yshift\":15},{\"text\":11,\"x\":42.242,\"y\":13.02,\"z\":15.683,\"showarrow\":false,\"yshift\":15},{\"text\":12,\"x\":41.93,\"y\":11.624,\"z\":16.062,\"showarrow\":false,\"yshift\":15},{\"text\":13,\"x\":42.944,\"y\":10.838,\"z\":16.638,\"showarrow\":false,\"yshift\":15},{\"text\":14,\"x\":42.707,\"y\":9.503,\"z\":16.987,\"showarrow\":false,\"yshift\":15},{\"text\":15,\"x\":41.439,\"y\":8.945,\"z\":16.773,\"showarrow\":false,\"yshift\":15},{\"text\":16,\"x\":40.409,\"y\":9.736,\"z\":16.226,\"showarrow\":false,\"yshift\":15},{\"text\":17,\"x\":39.103,\"y\":9.223,\"z\":15.992,\"showarrow\":false,\"yshift\":15},{\"text\":18,\"x\":38.749,\"y\":8.357,\"z\":14.885,\"showarrow\":false,\"yshift\":15},{\"text\":19,\"x\":39.987,\"y\":7.552,\"z\":14.535,\"showarrow\":false,\"yshift\":15},{\"text\":20,\"x\":39.71,\"y\":6.561,\"z\":13.419,\"showarrow\":false,\"yshift\":15},{\"text\":21,\"x\":38.481,\"y\":5.785,\"z\":13.615,\"showarrow\":false,\"yshift\":15},{\"text\":22,\"x\":38.713,\"y\":4.094,\"z\":13.851,\"showarrow\":false,\"yshift\":15},{\"text\":23,\"x\":37.419,\"y\":3.343,\"z\":13.936,\"showarrow\":false,\"yshift\":15},{\"text\":24,\"x\":39.66,\"y\":3.51,\"z\":12.845,\"showarrow\":false,\"yshift\":15},{\"text\":25,\"x\":39.5,\"y\":3.93,\"z\":15.446,\"showarrow\":false,\"yshift\":15},{\"text\":26,\"x\":39.94,\"y\":2.526,\"z\":15.686,\"showarrow\":false,\"yshift\":15},{\"text\":27,\"x\":39.035,\"y\":1.583,\"z\":16.185,\"showarrow\":false,\"yshift\":15},{\"text\":28,\"x\":39.444,\"y\":0.263,\"z\":16.396,\"showarrow\":false,\"yshift\":15},{\"text\":29,\"x\":40.758,\"y\":-0.116,\"z\":16.107,\"showarrow\":false,\"yshift\":15},{\"text\":30,\"x\":41.663,\"y\":0.824,\"z\":15.605,\"showarrow\":false,\"yshift\":15},{\"text\":31,\"x\":41.255,\"y\":2.144,\"z\":15.393,\"showarrow\":false,\"yshift\":15},{\"text\":32,\"x\":37.31,\"y\":6.381,\"z\":14.27,\"showarrow\":false,\"yshift\":15},{\"text\":33,\"x\":37.661,\"y\":7.397,\"z\":15.346,\"showarrow\":false,\"yshift\":15},{\"text\":34,\"x\":40.656,\"y\":11.068,\"z\":15.876,\"showarrow\":false,\"yshift\":15},{\"text\":35,\"x\":41.78,\"y\":13.756,\"z\":14.586,\"showarrow\":false,\"yshift\":15},{\"text\":36,\"x\":40.555,\"y\":13.098,\"z\":13.269,\"showarrow\":false,\"yshift\":15},{\"text\":37,\"x\":40.575,\"y\":17.028,\"z\":14.47,\"showarrow\":false,\"yshift\":15},{\"text\":38,\"x\":40.01,\"y\":15.755,\"z\":13.351,\"showarrow\":false,\"yshift\":15},{\"text\":39,\"x\":43.936,\"y\":11.278,\"z\":16.816,\"showarrow\":false,\"yshift\":15},{\"text\":40,\"x\":43.512,\"y\":8.895,\"z\":17.426,\"showarrow\":false,\"yshift\":15},{\"text\":41,\"x\":41.248,\"y\":7.893,\"z\":17.031,\"showarrow\":false,\"yshift\":15},{\"text\":42,\"x\":38.358,\"y\":9.483,\"z\":16.654,\"showarrow\":false,\"yshift\":15},{\"text\":43,\"x\":38.394,\"y\":8.939,\"z\":14.021,\"showarrow\":false,\"yshift\":15},{\"text\":44,\"x\":40.782,\"y\":8.24,\"z\":14.213,\"showarrow\":false,\"yshift\":15},{\"text\":45,\"x\":40.294,\"y\":6.988,\"z\":15.428,\"showarrow\":false,\"yshift\":15},{\"text\":46,\"x\":39.624,\"y\":7.117,\"z\":12.473,\"showarrow\":false,\"yshift\":15},{\"text\":47,\"x\":40.546,\"y\":5.845,\"z\":13.407,\"showarrow\":false,\"yshift\":15},{\"text\":48,\"x\":40.377,\"y\":4.593,\"z\":15.483,\"showarrow\":false,\"yshift\":15},{\"text\":49,\"x\":38.773,\"y\":4.206,\"z\":16.224,\"showarrow\":false,\"yshift\":15},{\"text\":50,\"x\":38.0,\"y\":1.881,\"z\":16.411,\"showarrow\":false,\"yshift\":15},{\"text\":51,\"x\":38.732,\"y\":-0.477,\"z\":16.79,\"showarrow\":false,\"yshift\":15},{\"text\":52,\"x\":41.08,\"y\":-1.155,\"z\":16.274,\"showarrow\":false,\"yshift\":15},{\"text\":53,\"x\":42.697,\"y\":0.525,\"z\":15.377,\"showarrow\":false,\"yshift\":15},{\"text\":54,\"x\":41.967,\"y\":2.883,\"z\":14.997,\"showarrow\":false,\"yshift\":15},{\"text\":55,\"x\":36.702,\"y\":6.883,\"z\":13.503,\"showarrow\":false,\"yshift\":15},{\"text\":56,\"x\":36.768,\"y\":5.562,\"z\":14.765,\"showarrow\":false,\"yshift\":15},{\"text\":57,\"x\":36.76,\"y\":7.975,\"z\":15.598,\"showarrow\":false,\"yshift\":15},{\"text\":58,\"x\":38.038,\"y\":6.85,\"z\":16.223,\"showarrow\":false,\"yshift\":15},{\"text\":59,\"x\":39.847,\"y\":11.681,\"z\":15.453,\"showarrow\":false,\"yshift\":15},{\"text\":1.77,\"x\":40.887,\"y\":17.351,\"z\":11.8315,\"showarrow\":false,\"yshift\":15,\"font\":{\"color\":\"steelblue\"}},{\"text\":1.77,\"x\":40.554,\"y\":18.16,\"z\":12.568,\"showarrow\":false,\"yshift\":15,\"font\":{\"color\":\"steelblue\"}},{\"text\":1.77,\"x\":40.754999999999995,\"y\":17.0215,\"z\":12.965499999999999,\"showarrow\":false,\"yshift\":15,\"font\":{\"color\":\"steelblue\"}},{\"text\":1.77,\"x\":41.415499999999994,\"y\":16.241,\"z\":13.52,\"showarrow\":false,\"yshift\":15,\"font\":{\"color\":\"steelblue\"}},{\"text\":1.18,\"x\":40.675,\"y\":16.7785,\"z\":13.99,\"showarrow\":false,\"yshift\":15,\"font\":{\"color\":\"steelblue\"}},{\"text\":1.18,\"x\":40.3925,\"y\":16.142,\"z\":13.4305,\"showarrow\":false,\"yshift\":15,\"font\":{\"color\":\"steelblue\"}},{\"text\":1.77,\"x\":42.206999999999994,\"y\":15.4955,\"z\":14.018999999999998,\"showarrow\":false,\"yshift\":15,\"font\":{\"color\":\"steelblue\"}},{\"text\":1.77,\"x\":42.807,\"y\":15.1805,\"z\":15.0085,\"showarrow\":false,\"yshift\":15,\"font\":{\"color\":\"steelblue\"}},{\"text\":1.77,\"x\":42.069,\"y\":14.397,\"z\":14.547,\"showarrow\":false,\"yshift\":15,\"font\":{\"color\":\"steelblue\"}},{\"text\":1.77,\"x\":43.5865,\"y\":15.96,\"z\":15.643,\"showarrow\":false,\"yshift\":15,\"font\":{\"color\":\"steelblue\"}},{\"text\":2.21,\"x\":43.3065,\"y\":14.6515,\"z\":16.012,\"showarrow\":false,\"yshift\":15,\"font\":{\"color\":\"steelblue\"}},{\"text\":1.77,\"x\":43.783,\"y\":17.1245,\"z\":15.457999999999998,\"showarrow\":false,\"yshift\":15,\"font\":{\"color\":\"steelblue\"}},{\"text\":1.77,\"x\":44.3865,\"y\":16.609,\"z\":16.2785,\"showarrow\":false,\"yshift\":15,\"font\":{\"color\":\"steelblue\"}},{\"text\":2.21,\"x\":42.799499999999995,\"y\":13.5,\"z\":16.099,\"showarrow\":false,\"yshift\":15,\"font\":{\"color\":\"steelblue\"}},{\"text\":1.77,\"x\":42.086,\"y\":12.322,\"z\":15.8725,\"showarrow\":false,\"yshift\":15,\"font\":{\"color\":\"steelblue\"}},{\"text\":1.77,\"x\":42.010999999999996,\"y\":13.388,\"z\":15.1345,\"showarrow\":false,\"yshift\":15,\"font\":{\"color\":\"steelblue\"}},{\"text\":1.77,\"x\":42.437,\"y\":11.231,\"z\":16.35,\"showarrow\":false,\"yshift\":15,\"font\":{\"color\":\"steelblue\"}},{\"text\":1.77,\"x\":41.293,\"y\":11.346,\"z\":15.969000000000001,\"showarrow\":false,\"yshift\":15,\"font\":{\"color\":\"steelblue\"}},{\"text\":1.77,\"x\":42.825500000000005,\"y\":10.1705,\"z\":16.8125,\"showarrow\":false,\"yshift\":15,\"font\":{\"color\":\"steelblue\"}},{\"text\":1.18,\"x\":43.44,\"y\":11.058,\"z\":16.727,\"showarrow\":false,\"yshift\":15,\"font\":{\"color\":\"steelblue\"}},{\"text\":1.77,\"x\":42.073,\"y\":9.224,\"z\":16.88,\"showarrow\":false,\"yshift\":15,\"font\":{\"color\":\"steelblue\"}},{\"text\":1.18,\"x\":43.1095,\"y\":9.199,\"z\":17.2065,\"showarrow\":false,\"yshift\":15,\"font\":{\"color\":\"steelblue\"}},{\"text\":1.77,\"x\":40.924,\"y\":9.3405,\"z\":16.499499999999998,\"showarrow\":false,\"yshift\":15,\"font\":{\"color\":\"steelblue\"}},{\"text\":1.18,\"x\":41.3435,\"y\":8.419,\"z\":16.902,\"showarrow\":false,\"yshift\":15,\"font\":{\"color\":\"steelblue\"}},{\"text\":1.77,\"x\":39.756,\"y\":9.479500000000002,\"z\":16.109,\"showarrow\":false,\"yshift\":15,\"font\":{\"color\":\"steelblue\"}},{\"text\":1.77,\"x\":40.5325,\"y\":10.402000000000001,\"z\":16.051,\"showarrow\":false,\"yshift\":15,\"font\":{\"color\":\"steelblue\"}},{\"text\":1.77,\"x\":38.926,\"y\":8.79,\"z\":15.438500000000001,\"showarrow\":false,\"yshift\":15,\"font\":{\"color\":\"steelblue\"}},{\"text\":1.18,\"x\":38.7305,\"y\":9.353000000000002,\"z\":16.323,\"showarrow\":false,\"yshift\":15,\"font\":{\"color\":\"steelblue\"}},{\"text\":1.77,\"x\":39.368,\"y\":7.9544999999999995,\"z\":14.71,\"showarrow\":false,\"yshift\":15,\"font\":{\"color\":\"steelblue\"}},{\"text\":1.77,\"x\":38.205,\"y\":7.877,\"z\":15.1155,\"showarrow\":false,\"yshift\":15,\"font\":{\"color\":\"steelblue\"}},{\"text\":1.18,\"x\":38.5715,\"y\":8.648,\"z\":14.453,\"showarrow\":false,\"yshift\":15,\"font\":{\"color\":\"steelblue\"}},{\"text\":1.77,\"x\":39.8485,\"y\":7.0565,\"z\":13.977,\"showarrow\":false,\"yshift\":15,\"font\":{\"color\":\"steelblue\"}},{\"text\":1.18,\"x\":40.3845,\"y\":7.896,\"z\":14.373999999999999,\"showarrow\":false,\"yshift\":15,\"font\":{\"color\":\"steelblue\"}},{\"text\":1.18,\"x\":40.1405,\"y\":7.27,\"z\":14.9815,\"showarrow\":false,\"yshift\":15,\"font\":{\"color\":\"steelblue\"}},{\"text\":1.77,\"x\":39.0955,\"y\":6.173,\"z\":13.517,\"showarrow\":false,\"yshift\":15,\"font\":{\"color\":\"steelblue\"}},{\"text\":1.18,\"x\":39.667,\"y\":6.839,\"z\":12.946000000000002,\"showarrow\":false,\"yshift\":15,\"font\":{\"color\":\"steelblue\"}},{\"text\":1.18,\"x\":40.128,\"y\":6.202999999999999,\"z\":13.413,\"showarrow\":false,\"yshift\":15,\"font\":{\"color\":\"steelblue\"}},{\"text\":2.21,\"x\":38.597,\"y\":4.939500000000001,\"z\":13.733,\"showarrow\":false,\"yshift\":15,\"font\":{\"color\":\"steelblue\"}},{\"text\":1.77,\"x\":37.8955,\"y\":6.083,\"z\":13.942499999999999,\"showarrow\":false,\"yshift\":15,\"font\":{\"color\":\"steelblue\"}},{\"text\":2.21,\"x\":38.066,\"y\":3.7185,\"z\":13.8935,\"showarrow\":false,\"yshift\":15,\"font\":{\"color\":\"steelblue\"}},{\"text\":2.21,\"x\":39.186499999999995,\"y\":3.802,\"z\":13.348,\"showarrow\":false,\"yshift\":15,\"font\":{\"color\":\"steelblue\"}},{\"text\":2.21,\"x\":39.1065,\"y\":4.0120000000000005,\"z\":14.6485,\"showarrow\":false,\"yshift\":15,\"font\":{\"color\":\"steelblue\"}},{\"text\":1.77,\"x\":39.72,\"y\":3.2279999999999998,\"z\":15.565999999999999,\"showarrow\":false,\"yshift\":15,\"font\":{\"color\":\"steelblue\"}},{\"text\":1.18,\"x\":39.938500000000005,\"y\":4.2615,\"z\":15.464500000000001,\"showarrow\":false,\"yshift\":15,\"font\":{\"color\":\"steelblue\"}},{\"text\":1.18,\"x\":39.1365,\"y\":4.0680000000000005,\"z\":15.835,\"showarrow\":false,\"yshift\":15,\"font\":{\"color\":\"steelblue\"}},{\"text\":1.77,\"x\":39.4875,\"y\":2.0545,\"z\":15.9355,\"showarrow\":false,\"yshift\":15,\"font\":{\"color\":\"steelblue\"}},{\"text\":1.77,\"x\":40.5975,\"y\":2.335,\"z\":15.5395,\"showarrow\":false,\"yshift\":15,\"font\":{\"color\":\"steelblue\"}},{\"text\":1.77,\"x\":39.2395,\"y\":0.923,\"z\":16.2905,\"showarrow\":false,\"yshift\":15,\"font\":{\"color\":\"steelblue\"}},{\"text\":1.18,\"x\":38.5175,\"y\":1.732,\"z\":16.298000000000002,\"showarrow\":false,\"yshift\":15,\"font\":{\"color\":\"steelblue\"}},{\"text\":1.77,\"x\":40.101,\"y\":0.07350000000000001,\"z\":16.2515,\"showarrow\":false,\"yshift\":15,\"font\":{\"color\":\"steelblue\"}},{\"text\":1.18,\"x\":39.088,\"y\":-0.10699999999999998,\"z\":16.593,\"showarrow\":false,\"yshift\":15,\"font\":{\"color\":\"steelblue\"}},{\"text\":1.77,\"x\":41.210499999999996,\"y\":0.354,\"z\":15.856,\"showarrow\":false,\"yshift\":15,\"font\":{\"color\":\"steelblue\"}},{\"text\":1.18,\"x\":40.919,\"y\":-0.6355000000000001,\"z\":16.1905,\"showarrow\":false,\"yshift\":15,\"font\":{\"color\":\"steelblue\"}},{\"text\":1.77,\"x\":41.459,\"y\":1.484,\"z\":15.499,\"showarrow\":false,\"yshift\":15,\"font\":{\"color\":\"steelblue\"}},{\"text\":1.18,\"x\":42.18,\"y\":0.6745,\"z\":15.491,\"showarrow\":false,\"yshift\":15,\"font\":{\"color\":\"steelblue\"}},{\"text\":1.18,\"x\":41.611000000000004,\"y\":2.5135,\"z\":15.195,\"showarrow\":false,\"yshift\":15,\"font\":{\"color\":\"steelblue\"}},{\"text\":1.77,\"x\":37.4855,\"y\":6.889,\"z\":14.808,\"showarrow\":false,\"yshift\":15,\"font\":{\"color\":\"steelblue\"}},{\"text\":1.18,\"x\":37.006,\"y\":6.632,\"z\":13.8865,\"showarrow\":false,\"yshift\":15,\"font\":{\"color\":\"steelblue\"}},{\"text\":1.18,\"x\":37.039,\"y\":5.971500000000001,\"z\":14.5175,\"showarrow\":false,\"yshift\":15,\"font\":{\"color\":\"steelblue\"}},{\"text\":1.18,\"x\":37.210499999999996,\"y\":7.686,\"z\":15.472000000000001,\"showarrow\":false,\"yshift\":15,\"font\":{\"color\":\"steelblue\"}},{\"text\":1.18,\"x\":37.8495,\"y\":7.1235,\"z\":15.7845,\"showarrow\":false,\"yshift\":15,\"font\":{\"color\":\"steelblue\"}},{\"text\":1.18,\"x\":40.2515,\"y\":11.3745,\"z\":15.6645,\"showarrow\":false,\"yshift\":15,\"font\":{\"color\":\"steelblue\"}},{\"text\":2.46,\"x\":41.167500000000004,\"y\":13.427,\"z\":13.9275,\"showarrow\":false,\"yshift\":15,\"font\":{\"color\":\"steelblue\"}},{\"text\":0,\"x\":39.044,\"y\":17.603,\"z\":12.296,\"showarrow\":false,\"yshift\":15},{\"text\":1,\"x\":40.196,\"y\":17.099,\"z\":12.364,\"showarrow\":false,\"yshift\":15},{\"text\":2,\"x\":41.237,\"y\":17.64,\"z\":11.648,\"showarrow\":false,\"yshift\":15},{\"text\":3,\"x\":40.455,\"y\":15.916,\"z\":13.197,\"showarrow\":false,\"yshift\":15},{\"text\":4,\"x\":41.645,\"y\":16.135,\"z\":13.911,\"showarrow\":false,\"yshift\":15},{\"text\":5,\"x\":42.164,\"y\":15.117,\"z\":14.672,\"showarrow\":false,\"yshift\":15},{\"text\":6,\"x\":41.512,\"y\":13.882,\"z\":14.868,\"showarrow\":false,\"yshift\":15},{\"text\":7,\"x\":42.249,\"y\":13.026,\"z\":15.688,\"showarrow\":false,\"yshift\":15},{\"text\":8,\"x\":41.933,\"y\":11.631,\"z\":16.062,\"showarrow\":false,\"yshift\":15},{\"text\":9,\"x\":42.944,\"y\":10.842,\"z\":16.64,\"showarrow\":false,\"yshift\":15},{\"text\":10,\"x\":42.706,\"y\":9.507,\"z\":16.988,\"showarrow\":false,\"yshift\":15},{\"text\":11,\"x\":41.438,\"y\":8.953,\"z\":16.773,\"showarrow\":false,\"yshift\":15},{\"text\":12,\"x\":40.41,\"y\":9.745,\"z\":16.221,\"showarrow\":false,\"yshift\":15},{\"text\":13,\"x\":39.105,\"y\":9.229,\"z\":15.987,\"showarrow\":false,\"yshift\":15},{\"text\":14,\"x\":38.777,\"y\":8.326,\"z\":14.903,\"showarrow\":false,\"yshift\":15},{\"text\":15,\"x\":40.05,\"y\":7.557,\"z\":14.539,\"showarrow\":false,\"yshift\":15},{\"text\":16,\"x\":39.729,\"y\":6.41,\"z\":13.593,\"showarrow\":false,\"yshift\":15},{\"text\":17,\"x\":38.749,\"y\":5.556,\"z\":14.253,\"showarrow\":false,\"yshift\":15},{\"text\":18,\"x\":38.606,\"y\":4.027,\"z\":13.457,\"showarrow\":false,\"yshift\":15},{\"text\":19,\"x\":38.676,\"y\":4.254,\"z\":11.971,\"showarrow\":false,\"yshift\":15},{\"text\":20,\"x\":37.27,\"y\":3.436,\"z\":13.814,\"showarrow\":false,\"yshift\":15},{\"text\":21,\"x\":39.877,\"y\":2.875,\"z\":13.97,\"showarrow\":false,\"yshift\":15},{\"text\":22,\"x\":39.788,\"y\":2.546,\"z\":15.421,\"showarrow\":false,\"yshift\":15},{\"text\":23,\"x\":40.079,\"y\":3.515,\"z\":16.388,\"showarrow\":false,\"yshift\":15},{\"text\":24,\"x\":39.992,\"y\":3.197,\"z\":17.747,\"showarrow\":false,\"yshift\":15},{\"text\":25,\"x\":39.616,\"y\":1.909,\"z\":18.141,\"showarrow\":false,\"yshift\":15},{\"text\":26,\"x\":39.331,\"y\":0.938,\"z\":17.177,\"showarrow\":false,\"yshift\":15},{\"text\":27,\"x\":39.418,\"y\":1.256,\"z\":15.818,\"showarrow\":false,\"yshift\":15},{\"text\":28,\"x\":37.466,\"y\":6.242,\"z\":14.38,\"showarrow\":false,\"yshift\":15},{\"text\":29,\"x\":37.648,\"y\":7.389,\"z\":15.363,\"showarrow\":false,\"yshift\":15},{\"text\":30,\"x\":40.659,\"y\":11.076,\"z\":15.866,\"showarrow\":false,\"yshift\":15},{\"text\":31,\"x\":43.673,\"y\":13.812,\"z\":16.14,\"showarrow\":false,\"yshift\":15},{\"text\":32,\"x\":43.374,\"y\":15.243,\"z\":15.314,\"showarrow\":false,\"yshift\":15},{\"text\":33,\"x\":44.212,\"y\":16.434,\"z\":15.415,\"showarrow\":false,\"yshift\":15},{\"text\":34,\"x\":45.388,\"y\":16.405,\"z\":15.871,\"showarrow\":false,\"yshift\":15},{\"text\":35,\"x\":43.675,\"y\":17.62,\"z\":14.974,\"showarrow\":false,\"yshift\":15},{\"text\":36,\"x\":39.622,\"y\":15.764,\"z\":13.898,\"showarrow\":false,\"yshift\":15},{\"text\":37,\"x\":40.55,\"y\":15.02,\"z\":12.565,\"showarrow\":false,\"yshift\":15},{\"text\":38,\"x\":40.538,\"y\":13.624,\"z\":14.427,\"showarrow\":false,\"yshift\":15},{\"text\":39,\"x\":43.937,\"y\":11.28,\"z\":16.82,\"showarrow\":false,\"yshift\":15},{\"text\":40,\"x\":43.51,\"y\":8.898,\"z\":17.427,\"showarrow\":false,\"yshift\":15},{\"text\":41,\"x\":41.244,\"y\":7.902,\"z\":17.033,\"showarrow\":false,\"yshift\":15},{\"text\":42,\"x\":38.349,\"y\":9.514,\"z\":16.625,\"showarrow\":false,\"yshift\":15},{\"text\":43,\"x\":38.421,\"y\":8.864,\"z\":14.012,\"showarrow\":false,\"yshift\":15},{\"text\":44,\"x\":40.759,\"y\":8.241,\"z\":14.051,\"showarrow\":false,\"yshift\":15},{\"text\":45,\"x\":40.491,\"y\":7.145,\"z\":15.459,\"showarrow\":false,\"yshift\":15},{\"text\":46,\"x\":39.312,\"y\":6.804,\"z\":12.655,\"showarrow\":false,\"yshift\":15},{\"text\":47,\"x\":40.639,\"y\":5.841,\"z\":13.353,\"showarrow\":false,\"yshift\":15},{\"text\":48,\"x\":39.77,\"y\":1.947,\"z\":13.389,\"showarrow\":false,\"yshift\":15},{\"text\":49,\"x\":40.854,\"y\":3.349,\"z\":13.791,\"showarrow\":false,\"yshift\":15},{\"text\":50,\"x\":40.377,\"y\":4.528,\"z\":16.078,\"showarrow\":false,\"yshift\":15},{\"text\":51,\"x\":40.218,\"y\":3.961,\"z\":18.506,\"showarrow\":false,\"yshift\":15},{\"text\":52,\"x\":39.546,\"y\":1.66,\"z\":19.21,\"showarrow\":false,\"yshift\":15},{\"text\":53,\"x\":39.037,\"y\":-0.075,\"z\":17.487,\"showarrow\":false,\"yshift\":15},{\"text\":54,\"x\":39.196,\"y\":0.49,\"z\":15.06,\"showarrow\":false,\"yshift\":15},{\"text\":55,\"x\":37.153,\"y\":6.634,\"z\":13.401,\"showarrow\":false,\"yshift\":15},{\"text\":56,\"x\":36.693,\"y\":5.547,\"z\":14.739,\"showarrow\":false,\"yshift\":15},{\"text\":57,\"x\":36.709,\"y\":7.96,\"z\":15.428,\"showarrow\":false,\"yshift\":15},{\"text\":58,\"x\":37.912,\"y\":6.974,\"z\":16.346,\"showarrow\":false,\"yshift\":15},{\"text\":59,\"x\":39.855,\"y\":11.688,\"z\":15.431,\"showarrow\":false,\"yshift\":15},{\"text\":1.77,\"x\":39.62,\"y\":17.351,\"z\":12.33,\"showarrow\":false,\"yshift\":15,\"font\":{\"color\":\"steelblue\"}},{\"text\":1.77,\"x\":40.716499999999996,\"y\":17.369500000000002,\"z\":12.006,\"showarrow\":false,\"yshift\":15,\"font\":{\"color\":\"steelblue\"}},{\"text\":1.77,\"x\":40.3255,\"y\":16.5075,\"z\":12.7805,\"showarrow\":false,\"yshift\":15,\"font\":{\"color\":\"steelblue\"}},{\"text\":1.77,\"x\":41.05,\"y\":16.0255,\"z\":13.553999999999998,\"showarrow\":false,\"yshift\":15,\"font\":{\"color\":\"steelblue\"}},{\"text\":1.18,\"x\":40.0385,\"y\":15.84,\"z\":13.5475,\"showarrow\":false,\"yshift\":15,\"font\":{\"color\":\"steelblue\"}},{\"text\":1.18,\"x\":40.5025,\"y\":15.468,\"z\":12.881,\"showarrow\":false,\"yshift\":15,\"font\":{\"color\":\"steelblue\"}},{\"text\":1.77,\"x\":41.9045,\"y\":15.626000000000001,\"z\":14.2915,\"showarrow\":false,\"yshift\":15,\"font\":{\"color\":\"steelblue\"}},{\"text\":1.77,\"x\":41.838,\"y\":14.499500000000001,\"z\":14.77,\"showarrow\":false,\"yshift\":15,\"font\":{\"color\":\"steelblue\"}},{\"text\":1.77,\"x\":42.769000000000005,\"y\":15.18,\"z\":14.993,\"showarrow\":false,\"yshift\":15,\"font\":{\"color\":\"steelblue\"}},{\"text\":1.77,\"x\":41.8805,\"y\":13.454,\"z\":15.278,\"showarrow\":false,\"yshift\":15,\"font\":{\"color\":\"steelblue\"}},{\"text\":1.18,\"x\":41.025,\"y\":13.753,\"z\":14.6475,\"showarrow\":false,\"yshift\":15,\"font\":{\"color\":\"steelblue\"}},{\"text\":1.77,\"x\":42.091,\"y\":12.3285,\"z\":15.875,\"showarrow\":false,\"yshift\":15,\"font\":{\"color\":\"steelblue\"}},{\"text\":2.21,\"x\":42.961,\"y\":13.419,\"z\":15.914000000000001,\"showarrow\":false,\"yshift\":15,\"font\":{\"color\":\"steelblue\"}},{\"text\":1.77,\"x\":42.438500000000005,\"y\":11.2365,\"z\":16.351,\"showarrow\":false,\"yshift\":15,\"font\":{\"color\":\"steelblue\"}},{\"text\":1.77,\"x\":41.296,\"y\":11.3535,\"z\":15.964,\"showarrow\":false,\"yshift\":15,\"font\":{\"color\":\"steelblue\"}},{\"text\":1.77,\"x\":42.825,\"y\":10.1745,\"z\":16.814,\"showarrow\":false,\"yshift\":15,\"font\":{\"color\":\"steelblue\"}},{\"text\":1.18,\"x\":43.4405,\"y\":11.061,\"z\":16.73,\"showarrow\":false,\"yshift\":15,\"font\":{\"color\":\"steelblue\"}},{\"text\":1.77,\"x\":42.072,\"y\":9.23,\"z\":16.880499999999998,\"showarrow\":false,\"yshift\":15,\"font\":{\"color\":\"steelblue\"}},{\"text\":1.18,\"x\":43.108000000000004,\"y\":9.2025,\"z\":17.2075,\"showarrow\":false,\"yshift\":15,\"font\":{\"color\":\"steelblue\"}},{\"text\":1.77,\"x\":40.924,\"y\":9.349,\"z\":16.497,\"showarrow\":false,\"yshift\":15,\"font\":{\"color\":\"steelblue\"}},{\"text\":1.18,\"x\":41.341,\"y\":8.4275,\"z\":16.903,\"showarrow\":false,\"yshift\":15,\"font\":{\"color\":\"steelblue\"}},{\"text\":1.77,\"x\":39.75749999999999,\"y\":9.486999999999998,\"z\":16.104,\"showarrow\":false,\"yshift\":15,\"font\":{\"color\":\"steelblue\"}},{\"text\":1.77,\"x\":40.534499999999994,\"y\":10.410499999999999,\"z\":16.0435,\"showarrow\":false,\"yshift\":15,\"font\":{\"color\":\"steelblue\"}},{\"text\":1.77,\"x\":38.941,\"y\":8.7775,\"z\":15.445,\"showarrow\":false,\"yshift\":15,\"font\":{\"color\":\"steelblue\"}},{\"text\":1.18,\"x\":38.727,\"y\":9.3715,\"z\":16.306,\"showarrow\":false,\"yshift\":15,\"font\":{\"color\":\"steelblue\"}},{\"text\":1.77,\"x\":39.4135,\"y\":7.9415000000000004,\"z\":14.721,\"showarrow\":false,\"yshift\":15,\"font\":{\"color\":\"steelblue\"}},{\"text\":1.77,\"x\":38.212500000000006,\"y\":7.8575,\"z\":15.133,\"showarrow\":false,\"yshift\":15,\"font\":{\"color\":\"steelblue\"}},{\"text\":1.18,\"x\":38.599000000000004,\"y\":8.595,\"z\":14.4575,\"showarrow\":false,\"yshift\":15,\"font\":{\"color\":\"steelblue\"}},{\"text\":1.77,\"x\":39.8895,\"y\":6.9835,\"z\":14.065999999999999,\"showarrow\":false,\"yshift\":15,\"font\":{\"color\":\"steelblue\"}},{\"text\":1.18,\"x\":40.4045,\"y\":7.899,\"z\":14.295,\"showarrow\":false,\"yshift\":15,\"font\":{\"color\":\"steelblue\"}},{\"text\":1.18,\"x\":40.2705,\"y\":7.351,\"z\":14.998999999999999,\"showarrow\":false,\"yshift\":15,\"font\":{\"color\":\"steelblue\"}},{\"text\":1.77,\"x\":39.239000000000004,\"y\":5.9830000000000005,\"z\":13.923,\"showarrow\":false,\"yshift\":15,\"font\":{\"color\":\"steelblue\"}},{\"text\":1.18,\"x\":39.5205,\"y\":6.607,\"z\":13.123999999999999,\"showarrow\":false,\"yshift\":15,\"font\":{\"color\":\"steelblue\"}},{\"text\":1.18,\"x\":40.184,\"y\":6.125500000000001,\"z\":13.472999999999999,\"showarrow\":false,\"yshift\":15,\"font\":{\"color\":\"steelblue\"}},{\"text\":2.21,\"x\":38.6775,\"y\":4.7915,\"z\":13.855,\"showarrow\":false,\"yshift\":15,\"font\":{\"color\":\"steelblue\"}},{\"text\":1.77,\"x\":38.1075,\"y\":5.899,\"z\":14.316500000000001,\"showarrow\":false,\"yshift\":15,\"font\":{\"color\":\"steelblue\"}},{\"text\":2.21,\"x\":38.641000000000005,\"y\":4.140499999999999,\"z\":12.714,\"showarrow\":false,\"yshift\":15,\"font\":{\"color\":\"steelblue\"}},{\"text\":2.21,\"x\":37.938,\"y\":3.7315,\"z\":13.6355,\"showarrow\":false,\"yshift\":15,\"font\":{\"color\":\"steelblue\"}},{\"text\":2.21,\"x\":39.2415,\"y\":3.451,\"z\":13.7135,\"showarrow\":false,\"yshift\":15,\"font\":{\"color\":\"steelblue\"}},{\"text\":1.77,\"x\":39.832499999999996,\"y\":2.7104999999999997,\"z\":14.6955,\"showarrow\":false,\"yshift\":15,\"font\":{\"color\":\"steelblue\"}},{\"text\":1.18,\"x\":39.8235,\"y\":2.411,\"z\":13.6795,\"showarrow\":false,\"yshift\":15,\"font\":{\"color\":\"steelblue\"}},{\"text\":1.18,\"x\":40.3655,\"y\":3.112,\"z\":13.880500000000001,\"showarrow\":false,\"yshift\":15,\"font\":{\"color\":\"steelblue\"}},{\"text\":1.77,\"x\":39.933499999999995,\"y\":3.0305,\"z\":15.9045,\"showarrow\":false,\"yshift\":15,\"font\":{\"color\":\"steelblue\"}},{\"text\":1.77,\"x\":39.602999999999994,\"y\":1.9009999999999998,\"z\":15.619499999999999,\"showarrow\":false,\"yshift\":15,\"font\":{\"color\":\"steelblue\"}},{\"text\":1.77,\"x\":40.0355,\"y\":3.356,\"z\":17.067500000000003,\"showarrow\":false,\"yshift\":15,\"font\":{\"color\":\"steelblue\"}},{\"text\":1.18,\"x\":40.228,\"y\":4.0215,\"z\":16.233,\"showarrow\":false,\"yshift\":15,\"font\":{\"color\":\"steelblue\"}},{\"text\":1.77,\"x\":39.804,\"y\":2.553,\"z\":17.944,\"showarrow\":false,\"yshift\":15,\"font\":{\"color\":\"steelblue\"}},{\"text\":1.18,\"x\":40.105000000000004,\"y\":3.5789999999999997,\"z\":18.1265,\"showarrow\":false,\"yshift\":15,\"font\":{\"color\":\"steelblue\"}},{\"text\":1.77,\"x\":39.4735,\"y\":1.4235,\"z\":17.659,\"showarrow\":false,\"yshift\":15,\"font\":{\"color\":\"steelblue\"}},{\"text\":1.18,\"x\":39.581,\"y\":1.7845,\"z\":18.6755,\"showarrow\":false,\"yshift\":15,\"font\":{\"color\":\"steelblue\"}},{\"text\":1.77,\"x\":39.3745,\"y\":1.097,\"z\":16.4975,\"showarrow\":false,\"yshift\":15,\"font\":{\"color\":\"steelblue\"}},{\"text\":1.18,\"x\":39.184,\"y\":0.4315,\"z\":17.332,\"showarrow\":false,\"yshift\":15,\"font\":{\"color\":\"steelblue\"}},{\"text\":1.18,\"x\":39.307,\"y\":0.873,\"z\":15.439,\"showarrow\":false,\"yshift\":15,\"font\":{\"color\":\"steelblue\"}},{\"text\":1.77,\"x\":37.557,\"y\":6.8155,\"z\":14.871500000000001,\"showarrow\":false,\"yshift\":15,\"font\":{\"color\":\"steelblue\"}},{\"text\":1.18,\"x\":37.3095,\"y\":6.438000000000001,\"z\":13.8905,\"showarrow\":false,\"yshift\":15,\"font\":{\"color\":\"steelblue\"}},{\"text\":1.18,\"x\":37.079499999999996,\"y\":5.8945,\"z\":14.5595,\"showarrow\":false,\"yshift\":15,\"font\":{\"color\":\"steelblue\"}},{\"text\":1.18,\"x\":37.1785,\"y\":7.6745,\"z\":15.3955,\"showarrow\":false,\"yshift\":15,\"font\":{\"color\":\"steelblue\"}},{\"text\":1.18,\"x\":37.78,\"y\":7.1815,\"z\":15.8545,\"showarrow\":false,\"yshift\":15,\"font\":{\"color\":\"steelblue\"}},{\"text\":1.18,\"x\":40.257,\"y\":11.382000000000001,\"z\":15.648499999999999,\"showarrow\":false,\"yshift\":15,\"font\":{\"color\":\"steelblue\"}},{\"text\":2.21,\"x\":43.5235,\"y\":14.5275,\"z\":15.727,\"showarrow\":false,\"yshift\":15,\"font\":{\"color\":\"steelblue\"}},{\"text\":1.77,\"x\":43.793000000000006,\"y\":15.8385,\"z\":15.3645,\"showarrow\":false,\"yshift\":15,\"font\":{\"color\":\"steelblue\"}},{\"text\":1.77,\"x\":44.8,\"y\":16.4195,\"z\":15.643,\"showarrow\":false,\"yshift\":15,\"font\":{\"color\":\"steelblue\"}},{\"text\":1.77,\"x\":43.9435,\"y\":17.027,\"z\":15.1945,\"showarrow\":false,\"yshift\":15,\"font\":{\"color\":\"steelblue\"}}]}],\"label\":\"Indices & Bond Lengths\",\"method\":\"relayout\"},{\"args\":[{\"scene.annotations\":[{\"text\":1.77,\"x\":40.887,\"y\":17.351,\"z\":11.8315,\"showarrow\":false,\"yshift\":15,\"font\":{\"color\":\"steelblue\"}},{\"text\":1.77,\"x\":40.554,\"y\":18.16,\"z\":12.568,\"showarrow\":false,\"yshift\":15,\"font\":{\"color\":\"steelblue\"}},{\"text\":1.77,\"x\":40.754999999999995,\"y\":17.0215,\"z\":12.965499999999999,\"showarrow\":false,\"yshift\":15,\"font\":{\"color\":\"steelblue\"}},{\"text\":1.77,\"x\":41.415499999999994,\"y\":16.241,\"z\":13.52,\"showarrow\":false,\"yshift\":15,\"font\":{\"color\":\"steelblue\"}},{\"text\":1.18,\"x\":40.675,\"y\":16.7785,\"z\":13.99,\"showarrow\":false,\"yshift\":15,\"font\":{\"color\":\"steelblue\"}},{\"text\":1.18,\"x\":40.3925,\"y\":16.142,\"z\":13.4305,\"showarrow\":false,\"yshift\":15,\"font\":{\"color\":\"steelblue\"}},{\"text\":1.77,\"x\":42.206999999999994,\"y\":15.4955,\"z\":14.018999999999998,\"showarrow\":false,\"yshift\":15,\"font\":{\"color\":\"steelblue\"}},{\"text\":1.77,\"x\":42.807,\"y\":15.1805,\"z\":15.0085,\"showarrow\":false,\"yshift\":15,\"font\":{\"color\":\"steelblue\"}},{\"text\":1.77,\"x\":42.069,\"y\":14.397,\"z\":14.547,\"showarrow\":false,\"yshift\":15,\"font\":{\"color\":\"steelblue\"}},{\"text\":1.77,\"x\":43.5865,\"y\":15.96,\"z\":15.643,\"showarrow\":false,\"yshift\":15,\"font\":{\"color\":\"steelblue\"}},{\"text\":2.21,\"x\":43.3065,\"y\":14.6515,\"z\":16.012,\"showarrow\":false,\"yshift\":15,\"font\":{\"color\":\"steelblue\"}},{\"text\":1.77,\"x\":43.783,\"y\":17.1245,\"z\":15.457999999999998,\"showarrow\":false,\"yshift\":15,\"font\":{\"color\":\"steelblue\"}},{\"text\":1.77,\"x\":44.3865,\"y\":16.609,\"z\":16.2785,\"showarrow\":false,\"yshift\":15,\"font\":{\"color\":\"steelblue\"}},{\"text\":2.21,\"x\":42.799499999999995,\"y\":13.5,\"z\":16.099,\"showarrow\":false,\"yshift\":15,\"font\":{\"color\":\"steelblue\"}},{\"text\":1.77,\"x\":42.086,\"y\":12.322,\"z\":15.8725,\"showarrow\":false,\"yshift\":15,\"font\":{\"color\":\"steelblue\"}},{\"text\":1.77,\"x\":42.010999999999996,\"y\":13.388,\"z\":15.1345,\"showarrow\":false,\"yshift\":15,\"font\":{\"color\":\"steelblue\"}},{\"text\":1.77,\"x\":42.437,\"y\":11.231,\"z\":16.35,\"showarrow\":false,\"yshift\":15,\"font\":{\"color\":\"steelblue\"}},{\"text\":1.77,\"x\":41.293,\"y\":11.346,\"z\":15.969000000000001,\"showarrow\":false,\"yshift\":15,\"font\":{\"color\":\"steelblue\"}},{\"text\":1.77,\"x\":42.825500000000005,\"y\":10.1705,\"z\":16.8125,\"showarrow\":false,\"yshift\":15,\"font\":{\"color\":\"steelblue\"}},{\"text\":1.18,\"x\":43.44,\"y\":11.058,\"z\":16.727,\"showarrow\":false,\"yshift\":15,\"font\":{\"color\":\"steelblue\"}},{\"text\":1.77,\"x\":42.073,\"y\":9.224,\"z\":16.88,\"showarrow\":false,\"yshift\":15,\"font\":{\"color\":\"steelblue\"}},{\"text\":1.18,\"x\":43.1095,\"y\":9.199,\"z\":17.2065,\"showarrow\":false,\"yshift\":15,\"font\":{\"color\":\"steelblue\"}},{\"text\":1.77,\"x\":40.924,\"y\":9.3405,\"z\":16.499499999999998,\"showarrow\":false,\"yshift\":15,\"font\":{\"color\":\"steelblue\"}},{\"text\":1.18,\"x\":41.3435,\"y\":8.419,\"z\":16.902,\"showarrow\":false,\"yshift\":15,\"font\":{\"color\":\"steelblue\"}},{\"text\":1.77,\"x\":39.756,\"y\":9.479500000000002,\"z\":16.109,\"showarrow\":false,\"yshift\":15,\"font\":{\"color\":\"steelblue\"}},{\"text\":1.77,\"x\":40.5325,\"y\":10.402000000000001,\"z\":16.051,\"showarrow\":false,\"yshift\":15,\"font\":{\"color\":\"steelblue\"}},{\"text\":1.77,\"x\":38.926,\"y\":8.79,\"z\":15.438500000000001,\"showarrow\":false,\"yshift\":15,\"font\":{\"color\":\"steelblue\"}},{\"text\":1.18,\"x\":38.7305,\"y\":9.353000000000002,\"z\":16.323,\"showarrow\":false,\"yshift\":15,\"font\":{\"color\":\"steelblue\"}},{\"text\":1.77,\"x\":39.368,\"y\":7.9544999999999995,\"z\":14.71,\"showarrow\":false,\"yshift\":15,\"font\":{\"color\":\"steelblue\"}},{\"text\":1.77,\"x\":38.205,\"y\":7.877,\"z\":15.1155,\"showarrow\":false,\"yshift\":15,\"font\":{\"color\":\"steelblue\"}},{\"text\":1.18,\"x\":38.5715,\"y\":8.648,\"z\":14.453,\"showarrow\":false,\"yshift\":15,\"font\":{\"color\":\"steelblue\"}},{\"text\":1.77,\"x\":39.8485,\"y\":7.0565,\"z\":13.977,\"showarrow\":false,\"yshift\":15,\"font\":{\"color\":\"steelblue\"}},{\"text\":1.18,\"x\":40.3845,\"y\":7.896,\"z\":14.373999999999999,\"showarrow\":false,\"yshift\":15,\"font\":{\"color\":\"steelblue\"}},{\"text\":1.18,\"x\":40.1405,\"y\":7.27,\"z\":14.9815,\"showarrow\":false,\"yshift\":15,\"font\":{\"color\":\"steelblue\"}},{\"text\":1.77,\"x\":39.0955,\"y\":6.173,\"z\":13.517,\"showarrow\":false,\"yshift\":15,\"font\":{\"color\":\"steelblue\"}},{\"text\":1.18,\"x\":39.667,\"y\":6.839,\"z\":12.946000000000002,\"showarrow\":false,\"yshift\":15,\"font\":{\"color\":\"steelblue\"}},{\"text\":1.18,\"x\":40.128,\"y\":6.202999999999999,\"z\":13.413,\"showarrow\":false,\"yshift\":15,\"font\":{\"color\":\"steelblue\"}},{\"text\":2.21,\"x\":38.597,\"y\":4.939500000000001,\"z\":13.733,\"showarrow\":false,\"yshift\":15,\"font\":{\"color\":\"steelblue\"}},{\"text\":1.77,\"x\":37.8955,\"y\":6.083,\"z\":13.942499999999999,\"showarrow\":false,\"yshift\":15,\"font\":{\"color\":\"steelblue\"}},{\"text\":2.21,\"x\":38.066,\"y\":3.7185,\"z\":13.8935,\"showarrow\":false,\"yshift\":15,\"font\":{\"color\":\"steelblue\"}},{\"text\":2.21,\"x\":39.186499999999995,\"y\":3.802,\"z\":13.348,\"showarrow\":false,\"yshift\":15,\"font\":{\"color\":\"steelblue\"}},{\"text\":2.21,\"x\":39.1065,\"y\":4.0120000000000005,\"z\":14.6485,\"showarrow\":false,\"yshift\":15,\"font\":{\"color\":\"steelblue\"}},{\"text\":1.77,\"x\":39.72,\"y\":3.2279999999999998,\"z\":15.565999999999999,\"showarrow\":false,\"yshift\":15,\"font\":{\"color\":\"steelblue\"}},{\"text\":1.18,\"x\":39.938500000000005,\"y\":4.2615,\"z\":15.464500000000001,\"showarrow\":false,\"yshift\":15,\"font\":{\"color\":\"steelblue\"}},{\"text\":1.18,\"x\":39.1365,\"y\":4.0680000000000005,\"z\":15.835,\"showarrow\":false,\"yshift\":15,\"font\":{\"color\":\"steelblue\"}},{\"text\":1.77,\"x\":39.4875,\"y\":2.0545,\"z\":15.9355,\"showarrow\":false,\"yshift\":15,\"font\":{\"color\":\"steelblue\"}},{\"text\":1.77,\"x\":40.5975,\"y\":2.335,\"z\":15.5395,\"showarrow\":false,\"yshift\":15,\"font\":{\"color\":\"steelblue\"}},{\"text\":1.77,\"x\":39.2395,\"y\":0.923,\"z\":16.2905,\"showarrow\":false,\"yshift\":15,\"font\":{\"color\":\"steelblue\"}},{\"text\":1.18,\"x\":38.5175,\"y\":1.732,\"z\":16.298000000000002,\"showarrow\":false,\"yshift\":15,\"font\":{\"color\":\"steelblue\"}},{\"text\":1.77,\"x\":40.101,\"y\":0.07350000000000001,\"z\":16.2515,\"showarrow\":false,\"yshift\":15,\"font\":{\"color\":\"steelblue\"}},{\"text\":1.18,\"x\":39.088,\"y\":-0.10699999999999998,\"z\":16.593,\"showarrow\":false,\"yshift\":15,\"font\":{\"color\":\"steelblue\"}},{\"text\":1.77,\"x\":41.210499999999996,\"y\":0.354,\"z\":15.856,\"showarrow\":false,\"yshift\":15,\"font\":{\"color\":\"steelblue\"}},{\"text\":1.18,\"x\":40.919,\"y\":-0.6355000000000001,\"z\":16.1905,\"showarrow\":false,\"yshift\":15,\"font\":{\"color\":\"steelblue\"}},{\"text\":1.77,\"x\":41.459,\"y\":1.484,\"z\":15.499,\"showarrow\":false,\"yshift\":15,\"font\":{\"color\":\"steelblue\"}},{\"text\":1.18,\"x\":42.18,\"y\":0.6745,\"z\":15.491,\"showarrow\":false,\"yshift\":15,\"font\":{\"color\":\"steelblue\"}},{\"text\":1.18,\"x\":41.611000000000004,\"y\":2.5135,\"z\":15.195,\"showarrow\":false,\"yshift\":15,\"font\":{\"color\":\"steelblue\"}},{\"text\":1.77,\"x\":37.4855,\"y\":6.889,\"z\":14.808,\"showarrow\":false,\"yshift\":15,\"font\":{\"color\":\"steelblue\"}},{\"text\":1.18,\"x\":37.006,\"y\":6.632,\"z\":13.8865,\"showarrow\":false,\"yshift\":15,\"font\":{\"color\":\"steelblue\"}},{\"text\":1.18,\"x\":37.039,\"y\":5.971500000000001,\"z\":14.5175,\"showarrow\":false,\"yshift\":15,\"font\":{\"color\":\"steelblue\"}},{\"text\":1.18,\"x\":37.210499999999996,\"y\":7.686,\"z\":15.472000000000001,\"showarrow\":false,\"yshift\":15,\"font\":{\"color\":\"steelblue\"}},{\"text\":1.18,\"x\":37.8495,\"y\":7.1235,\"z\":15.7845,\"showarrow\":false,\"yshift\":15,\"font\":{\"color\":\"steelblue\"}},{\"text\":1.18,\"x\":40.2515,\"y\":11.3745,\"z\":15.6645,\"showarrow\":false,\"yshift\":15,\"font\":{\"color\":\"steelblue\"}},{\"text\":2.46,\"x\":41.167500000000004,\"y\":13.427,\"z\":13.9275,\"showarrow\":false,\"yshift\":15,\"font\":{\"color\":\"steelblue\"}},{\"text\":1.77,\"x\":39.62,\"y\":17.351,\"z\":12.33,\"showarrow\":false,\"yshift\":15,\"font\":{\"color\":\"steelblue\"}},{\"text\":1.77,\"x\":40.716499999999996,\"y\":17.369500000000002,\"z\":12.006,\"showarrow\":false,\"yshift\":15,\"font\":{\"color\":\"steelblue\"}},{\"text\":1.77,\"x\":40.3255,\"y\":16.5075,\"z\":12.7805,\"showarrow\":false,\"yshift\":15,\"font\":{\"color\":\"steelblue\"}},{\"text\":1.77,\"x\":41.05,\"y\":16.0255,\"z\":13.553999999999998,\"showarrow\":false,\"yshift\":15,\"font\":{\"color\":\"steelblue\"}},{\"text\":1.18,\"x\":40.0385,\"y\":15.84,\"z\":13.5475,\"showarrow\":false,\"yshift\":15,\"font\":{\"color\":\"steelblue\"}},{\"text\":1.18,\"x\":40.5025,\"y\":15.468,\"z\":12.881,\"showarrow\":false,\"yshift\":15,\"font\":{\"color\":\"steelblue\"}},{\"text\":1.77,\"x\":41.9045,\"y\":15.626000000000001,\"z\":14.2915,\"showarrow\":false,\"yshift\":15,\"font\":{\"color\":\"steelblue\"}},{\"text\":1.77,\"x\":41.838,\"y\":14.499500000000001,\"z\":14.77,\"showarrow\":false,\"yshift\":15,\"font\":{\"color\":\"steelblue\"}},{\"text\":1.77,\"x\":42.769000000000005,\"y\":15.18,\"z\":14.993,\"showarrow\":false,\"yshift\":15,\"font\":{\"color\":\"steelblue\"}},{\"text\":1.77,\"x\":41.8805,\"y\":13.454,\"z\":15.278,\"showarrow\":false,\"yshift\":15,\"font\":{\"color\":\"steelblue\"}},{\"text\":1.18,\"x\":41.025,\"y\":13.753,\"z\":14.6475,\"showarrow\":false,\"yshift\":15,\"font\":{\"color\":\"steelblue\"}},{\"text\":1.77,\"x\":42.091,\"y\":12.3285,\"z\":15.875,\"showarrow\":false,\"yshift\":15,\"font\":{\"color\":\"steelblue\"}},{\"text\":2.21,\"x\":42.961,\"y\":13.419,\"z\":15.914000000000001,\"showarrow\":false,\"yshift\":15,\"font\":{\"color\":\"steelblue\"}},{\"text\":1.77,\"x\":42.438500000000005,\"y\":11.2365,\"z\":16.351,\"showarrow\":false,\"yshift\":15,\"font\":{\"color\":\"steelblue\"}},{\"text\":1.77,\"x\":41.296,\"y\":11.3535,\"z\":15.964,\"showarrow\":false,\"yshift\":15,\"font\":{\"color\":\"steelblue\"}},{\"text\":1.77,\"x\":42.825,\"y\":10.1745,\"z\":16.814,\"showarrow\":false,\"yshift\":15,\"font\":{\"color\":\"steelblue\"}},{\"text\":1.18,\"x\":43.4405,\"y\":11.061,\"z\":16.73,\"showarrow\":false,\"yshift\":15,\"font\":{\"color\":\"steelblue\"}},{\"text\":1.77,\"x\":42.072,\"y\":9.23,\"z\":16.880499999999998,\"showarrow\":false,\"yshift\":15,\"font\":{\"color\":\"steelblue\"}},{\"text\":1.18,\"x\":43.108000000000004,\"y\":9.2025,\"z\":17.2075,\"showarrow\":false,\"yshift\":15,\"font\":{\"color\":\"steelblue\"}},{\"text\":1.77,\"x\":40.924,\"y\":9.349,\"z\":16.497,\"showarrow\":false,\"yshift\":15,\"font\":{\"color\":\"steelblue\"}},{\"text\":1.18,\"x\":41.341,\"y\":8.4275,\"z\":16.903,\"showarrow\":false,\"yshift\":15,\"font\":{\"color\":\"steelblue\"}},{\"text\":1.77,\"x\":39.75749999999999,\"y\":9.486999999999998,\"z\":16.104,\"showarrow\":false,\"yshift\":15,\"font\":{\"color\":\"steelblue\"}},{\"text\":1.77,\"x\":40.534499999999994,\"y\":10.410499999999999,\"z\":16.0435,\"showarrow\":false,\"yshift\":15,\"font\":{\"color\":\"steelblue\"}},{\"text\":1.77,\"x\":38.941,\"y\":8.7775,\"z\":15.445,\"showarrow\":false,\"yshift\":15,\"font\":{\"color\":\"steelblue\"}},{\"text\":1.18,\"x\":38.727,\"y\":9.3715,\"z\":16.306,\"showarrow\":false,\"yshift\":15,\"font\":{\"color\":\"steelblue\"}},{\"text\":1.77,\"x\":39.4135,\"y\":7.9415000000000004,\"z\":14.721,\"showarrow\":false,\"yshift\":15,\"font\":{\"color\":\"steelblue\"}},{\"text\":1.77,\"x\":38.212500000000006,\"y\":7.8575,\"z\":15.133,\"showarrow\":false,\"yshift\":15,\"font\":{\"color\":\"steelblue\"}},{\"text\":1.18,\"x\":38.599000000000004,\"y\":8.595,\"z\":14.4575,\"showarrow\":false,\"yshift\":15,\"font\":{\"color\":\"steelblue\"}},{\"text\":1.77,\"x\":39.8895,\"y\":6.9835,\"z\":14.065999999999999,\"showarrow\":false,\"yshift\":15,\"font\":{\"color\":\"steelblue\"}},{\"text\":1.18,\"x\":40.4045,\"y\":7.899,\"z\":14.295,\"showarrow\":false,\"yshift\":15,\"font\":{\"color\":\"steelblue\"}},{\"text\":1.18,\"x\":40.2705,\"y\":7.351,\"z\":14.998999999999999,\"showarrow\":false,\"yshift\":15,\"font\":{\"color\":\"steelblue\"}},{\"text\":1.77,\"x\":39.239000000000004,\"y\":5.9830000000000005,\"z\":13.923,\"showarrow\":false,\"yshift\":15,\"font\":{\"color\":\"steelblue\"}},{\"text\":1.18,\"x\":39.5205,\"y\":6.607,\"z\":13.123999999999999,\"showarrow\":false,\"yshift\":15,\"font\":{\"color\":\"steelblue\"}},{\"text\":1.18,\"x\":40.184,\"y\":6.125500000000001,\"z\":13.472999999999999,\"showarrow\":false,\"yshift\":15,\"font\":{\"color\":\"steelblue\"}},{\"text\":2.21,\"x\":38.6775,\"y\":4.7915,\"z\":13.855,\"showarrow\":false,\"yshift\":15,\"font\":{\"color\":\"steelblue\"}},{\"text\":1.77,\"x\":38.1075,\"y\":5.899,\"z\":14.316500000000001,\"showarrow\":false,\"yshift\":15,\"font\":{\"color\":\"steelblue\"}},{\"text\":2.21,\"x\":38.641000000000005,\"y\":4.140499999999999,\"z\":12.714,\"showarrow\":false,\"yshift\":15,\"font\":{\"color\":\"steelblue\"}},{\"text\":2.21,\"x\":37.938,\"y\":3.7315,\"z\":13.6355,\"showarrow\":false,\"yshift\":15,\"font\":{\"color\":\"steelblue\"}},{\"text\":2.21,\"x\":39.2415,\"y\":3.451,\"z\":13.7135,\"showarrow\":false,\"yshift\":15,\"font\":{\"color\":\"steelblue\"}},{\"text\":1.77,\"x\":39.832499999999996,\"y\":2.7104999999999997,\"z\":14.6955,\"showarrow\":false,\"yshift\":15,\"font\":{\"color\":\"steelblue\"}},{\"text\":1.18,\"x\":39.8235,\"y\":2.411,\"z\":13.6795,\"showarrow\":false,\"yshift\":15,\"font\":{\"color\":\"steelblue\"}},{\"text\":1.18,\"x\":40.3655,\"y\":3.112,\"z\":13.880500000000001,\"showarrow\":false,\"yshift\":15,\"font\":{\"color\":\"steelblue\"}},{\"text\":1.77,\"x\":39.933499999999995,\"y\":3.0305,\"z\":15.9045,\"showarrow\":false,\"yshift\":15,\"font\":{\"color\":\"steelblue\"}},{\"text\":1.77,\"x\":39.602999999999994,\"y\":1.9009999999999998,\"z\":15.619499999999999,\"showarrow\":false,\"yshift\":15,\"font\":{\"color\":\"steelblue\"}},{\"text\":1.77,\"x\":40.0355,\"y\":3.356,\"z\":17.067500000000003,\"showarrow\":false,\"yshift\":15,\"font\":{\"color\":\"steelblue\"}},{\"text\":1.18,\"x\":40.228,\"y\":4.0215,\"z\":16.233,\"showarrow\":false,\"yshift\":15,\"font\":{\"color\":\"steelblue\"}},{\"text\":1.77,\"x\":39.804,\"y\":2.553,\"z\":17.944,\"showarrow\":false,\"yshift\":15,\"font\":{\"color\":\"steelblue\"}},{\"text\":1.18,\"x\":40.105000000000004,\"y\":3.5789999999999997,\"z\":18.1265,\"showarrow\":false,\"yshift\":15,\"font\":{\"color\":\"steelblue\"}},{\"text\":1.77,\"x\":39.4735,\"y\":1.4235,\"z\":17.659,\"showarrow\":false,\"yshift\":15,\"font\":{\"color\":\"steelblue\"}},{\"text\":1.18,\"x\":39.581,\"y\":1.7845,\"z\":18.6755,\"showarrow\":false,\"yshift\":15,\"font\":{\"color\":\"steelblue\"}},{\"text\":1.77,\"x\":39.3745,\"y\":1.097,\"z\":16.4975,\"showarrow\":false,\"yshift\":15,\"font\":{\"color\":\"steelblue\"}},{\"text\":1.18,\"x\":39.184,\"y\":0.4315,\"z\":17.332,\"showarrow\":false,\"yshift\":15,\"font\":{\"color\":\"steelblue\"}},{\"text\":1.18,\"x\":39.307,\"y\":0.873,\"z\":15.439,\"showarrow\":false,\"yshift\":15,\"font\":{\"color\":\"steelblue\"}},{\"text\":1.77,\"x\":37.557,\"y\":6.8155,\"z\":14.871500000000001,\"showarrow\":false,\"yshift\":15,\"font\":{\"color\":\"steelblue\"}},{\"text\":1.18,\"x\":37.3095,\"y\":6.438000000000001,\"z\":13.8905,\"showarrow\":false,\"yshift\":15,\"font\":{\"color\":\"steelblue\"}},{\"text\":1.18,\"x\":37.079499999999996,\"y\":5.8945,\"z\":14.5595,\"showarrow\":false,\"yshift\":15,\"font\":{\"color\":\"steelblue\"}},{\"text\":1.18,\"x\":37.1785,\"y\":7.6745,\"z\":15.3955,\"showarrow\":false,\"yshift\":15,\"font\":{\"color\":\"steelblue\"}},{\"text\":1.18,\"x\":37.78,\"y\":7.1815,\"z\":15.8545,\"showarrow\":false,\"yshift\":15,\"font\":{\"color\":\"steelblue\"}},{\"text\":1.18,\"x\":40.257,\"y\":11.382000000000001,\"z\":15.648499999999999,\"showarrow\":false,\"yshift\":15,\"font\":{\"color\":\"steelblue\"}},{\"text\":2.21,\"x\":43.5235,\"y\":14.5275,\"z\":15.727,\"showarrow\":false,\"yshift\":15,\"font\":{\"color\":\"steelblue\"}},{\"text\":1.77,\"x\":43.793000000000006,\"y\":15.8385,\"z\":15.3645,\"showarrow\":false,\"yshift\":15,\"font\":{\"color\":\"steelblue\"}},{\"text\":1.77,\"x\":44.8,\"y\":16.4195,\"z\":15.643,\"showarrow\":false,\"yshift\":15,\"font\":{\"color\":\"steelblue\"}},{\"text\":1.77,\"x\":43.9435,\"y\":17.027,\"z\":15.1945,\"showarrow\":false,\"yshift\":15,\"font\":{\"color\":\"steelblue\"}}]}],\"label\":\"Bond Lengths\",\"method\":\"relayout\"},{\"args\":[{\"scene.annotations\":[]}],\"label\":\"Hide All\",\"method\":\"relayout\"}],\"direction\":\"down\",\"xanchor\":\"left\",\"yanchor\":\"top\"}],\"template\":{\"data\":{\"histogram2dcontour\":[{\"type\":\"histogram2dcontour\",\"colorbar\":{\"outlinewidth\":0,\"ticks\":\"\"},\"colorscale\":[[0.0,\"#0d0887\"],[0.1111111111111111,\"#46039f\"],[0.2222222222222222,\"#7201a8\"],[0.3333333333333333,\"#9c179e\"],[0.4444444444444444,\"#bd3786\"],[0.5555555555555556,\"#d8576b\"],[0.6666666666666666,\"#ed7953\"],[0.7777777777777778,\"#fb9f3a\"],[0.8888888888888888,\"#fdca26\"],[1.0,\"#f0f921\"]]}],\"choropleth\":[{\"type\":\"choropleth\",\"colorbar\":{\"outlinewidth\":0,\"ticks\":\"\"}}],\"histogram2d\":[{\"type\":\"histogram2d\",\"colorbar\":{\"outlinewidth\":0,\"ticks\":\"\"},\"colorscale\":[[0.0,\"#0d0887\"],[0.1111111111111111,\"#46039f\"],[0.2222222222222222,\"#7201a8\"],[0.3333333333333333,\"#9c179e\"],[0.4444444444444444,\"#bd3786\"],[0.5555555555555556,\"#d8576b\"],[0.6666666666666666,\"#ed7953\"],[0.7777777777777778,\"#fb9f3a\"],[0.8888888888888888,\"#fdca26\"],[1.0,\"#f0f921\"]]}],\"heatmap\":[{\"type\":\"heatmap\",\"colorbar\":{\"outlinewidth\":0,\"ticks\":\"\"},\"colorscale\":[[0.0,\"#0d0887\"],[0.1111111111111111,\"#46039f\"],[0.2222222222222222,\"#7201a8\"],[0.3333333333333333,\"#9c179e\"],[0.4444444444444444,\"#bd3786\"],[0.5555555555555556,\"#d8576b\"],[0.6666666666666666,\"#ed7953\"],[0.7777777777777778,\"#fb9f3a\"],[0.8888888888888888,\"#fdca26\"],[1.0,\"#f0f921\"]]}],\"heatmapgl\":[{\"type\":\"heatmapgl\",\"colorbar\":{\"outlinewidth\":0,\"ticks\":\"\"},\"colorscale\":[[0.0,\"#0d0887\"],[0.1111111111111111,\"#46039f\"],[0.2222222222222222,\"#7201a8\"],[0.3333333333333333,\"#9c179e\"],[0.4444444444444444,\"#bd3786\"],[0.5555555555555556,\"#d8576b\"],[0.6666666666666666,\"#ed7953\"],[0.7777777777777778,\"#fb9f3a\"],[0.8888888888888888,\"#fdca26\"],[1.0,\"#f0f921\"]]}],\"contourcarpet\":[{\"type\":\"contourcarpet\",\"colorbar\":{\"outlinewidth\":0,\"ticks\":\"\"}}],\"contour\":[{\"type\":\"contour\",\"colorbar\":{\"outlinewidth\":0,\"ticks\":\"\"},\"colorscale\":[[0.0,\"#0d0887\"],[0.1111111111111111,\"#46039f\"],[0.2222222222222222,\"#7201a8\"],[0.3333333333333333,\"#9c179e\"],[0.4444444444444444,\"#bd3786\"],[0.5555555555555556,\"#d8576b\"],[0.6666666666666666,\"#ed7953\"],[0.7777777777777778,\"#fb9f3a\"],[0.8888888888888888,\"#fdca26\"],[1.0,\"#f0f921\"]]}],\"surface\":[{\"type\":\"surface\",\"colorbar\":{\"outlinewidth\":0,\"ticks\":\"\"},\"colorscale\":[[0.0,\"#0d0887\"],[0.1111111111111111,\"#46039f\"],[0.2222222222222222,\"#7201a8\"],[0.3333333333333333,\"#9c179e\"],[0.4444444444444444,\"#bd3786\"],[0.5555555555555556,\"#d8576b\"],[0.6666666666666666,\"#ed7953\"],[0.7777777777777778,\"#fb9f3a\"],[0.8888888888888888,\"#fdca26\"],[1.0,\"#f0f921\"]]}],\"mesh3d\":[{\"type\":\"mesh3d\",\"colorbar\":{\"outlinewidth\":0,\"ticks\":\"\"}}],\"scatter\":[{\"fillpattern\":{\"fillmode\":\"overlay\",\"size\":10,\"solidity\":0.2},\"type\":\"scatter\"}],\"parcoords\":[{\"type\":\"parcoords\",\"line\":{\"colorbar\":{\"outlinewidth\":0,\"ticks\":\"\"}}}],\"scatterpolargl\":[{\"type\":\"scatterpolargl\",\"marker\":{\"colorbar\":{\"outlinewidth\":0,\"ticks\":\"\"}}}],\"bar\":[{\"error_x\":{\"color\":\"#2a3f5f\"},\"error_y\":{\"color\":\"#2a3f5f\"},\"marker\":{\"line\":{\"color\":\"#E5ECF6\",\"width\":0.5},\"pattern\":{\"fillmode\":\"overlay\",\"size\":10,\"solidity\":0.2}},\"type\":\"bar\"}],\"scattergeo\":[{\"type\":\"scattergeo\",\"marker\":{\"colorbar\":{\"outlinewidth\":0,\"ticks\":\"\"}}}],\"scatterpolar\":[{\"type\":\"scatterpolar\",\"marker\":{\"colorbar\":{\"outlinewidth\":0,\"ticks\":\"\"}}}],\"histogram\":[{\"marker\":{\"pattern\":{\"fillmode\":\"overlay\",\"size\":10,\"solidity\":0.2}},\"type\":\"histogram\"}],\"scattergl\":[{\"type\":\"scattergl\",\"marker\":{\"colorbar\":{\"outlinewidth\":0,\"ticks\":\"\"}}}],\"scatter3d\":[{\"type\":\"scatter3d\",\"line\":{\"colorbar\":{\"outlinewidth\":0,\"ticks\":\"\"}},\"marker\":{\"colorbar\":{\"outlinewidth\":0,\"ticks\":\"\"}}}],\"scattermapbox\":[{\"type\":\"scattermapbox\",\"marker\":{\"colorbar\":{\"outlinewidth\":0,\"ticks\":\"\"}}}],\"scatterternary\":[{\"type\":\"scatterternary\",\"marker\":{\"colorbar\":{\"outlinewidth\":0,\"ticks\":\"\"}}}],\"scattercarpet\":[{\"type\":\"scattercarpet\",\"marker\":{\"colorbar\":{\"outlinewidth\":0,\"ticks\":\"\"}}}],\"carpet\":[{\"aaxis\":{\"endlinecolor\":\"#2a3f5f\",\"gridcolor\":\"white\",\"linecolor\":\"white\",\"minorgridcolor\":\"white\",\"startlinecolor\":\"#2a3f5f\"},\"baxis\":{\"endlinecolor\":\"#2a3f5f\",\"gridcolor\":\"white\",\"linecolor\":\"white\",\"minorgridcolor\":\"white\",\"startlinecolor\":\"#2a3f5f\"},\"type\":\"carpet\"}],\"table\":[{\"cells\":{\"fill\":{\"color\":\"#EBF0F8\"},\"line\":{\"color\":\"white\"}},\"header\":{\"fill\":{\"color\":\"#C8D4E3\"},\"line\":{\"color\":\"white\"}},\"type\":\"table\"}],\"barpolar\":[{\"marker\":{\"line\":{\"color\":\"#E5ECF6\",\"width\":0.5},\"pattern\":{\"fillmode\":\"overlay\",\"size\":10,\"solidity\":0.2}},\"type\":\"barpolar\"}],\"pie\":[{\"automargin\":true,\"type\":\"pie\"}]},\"layout\":{\"autotypenumbers\":\"strict\",\"colorway\":[\"#636efa\",\"#EF553B\",\"#00cc96\",\"#ab63fa\",\"#FFA15A\",\"#19d3f3\",\"#FF6692\",\"#B6E880\",\"#FF97FF\",\"#FECB52\"],\"font\":{\"color\":\"#2a3f5f\"},\"hovermode\":\"closest\",\"hoverlabel\":{\"align\":\"left\"},\"paper_bgcolor\":\"white\",\"plot_bgcolor\":\"#E5ECF6\",\"polar\":{\"bgcolor\":\"#E5ECF6\",\"angularaxis\":{\"gridcolor\":\"white\",\"linecolor\":\"white\",\"ticks\":\"\"},\"radialaxis\":{\"gridcolor\":\"white\",\"linecolor\":\"white\",\"ticks\":\"\"}},\"ternary\":{\"bgcolor\":\"#E5ECF6\",\"aaxis\":{\"gridcolor\":\"white\",\"linecolor\":\"white\",\"ticks\":\"\"},\"baxis\":{\"gridcolor\":\"white\",\"linecolor\":\"white\",\"ticks\":\"\"},\"caxis\":{\"gridcolor\":\"white\",\"linecolor\":\"white\",\"ticks\":\"\"}},\"coloraxis\":{\"colorbar\":{\"outlinewidth\":0,\"ticks\":\"\"}},\"colorscale\":{\"sequential\":[[0.0,\"#0d0887\"],[0.1111111111111111,\"#46039f\"],[0.2222222222222222,\"#7201a8\"],[0.3333333333333333,\"#9c179e\"],[0.4444444444444444,\"#bd3786\"],[0.5555555555555556,\"#d8576b\"],[0.6666666666666666,\"#ed7953\"],[0.7777777777777778,\"#fb9f3a\"],[0.8888888888888888,\"#fdca26\"],[1.0,\"#f0f921\"]],\"sequentialminus\":[[0.0,\"#0d0887\"],[0.1111111111111111,\"#46039f\"],[0.2222222222222222,\"#7201a8\"],[0.3333333333333333,\"#9c179e\"],[0.4444444444444444,\"#bd3786\"],[0.5555555555555556,\"#d8576b\"],[0.6666666666666666,\"#ed7953\"],[0.7777777777777778,\"#fb9f3a\"],[0.8888888888888888,\"#fdca26\"],[1.0,\"#f0f921\"]],\"diverging\":[[0,\"#8e0152\"],[0.1,\"#c51b7d\"],[0.2,\"#de77ae\"],[0.3,\"#f1b6da\"],[0.4,\"#fde0ef\"],[0.5,\"#f7f7f7\"],[0.6,\"#e6f5d0\"],[0.7,\"#b8e186\"],[0.8,\"#7fbc41\"],[0.9,\"#4d9221\"],[1,\"#276419\"]]},\"xaxis\":{\"gridcolor\":\"white\",\"linecolor\":\"white\",\"ticks\":\"\",\"title\":{\"standoff\":15},\"zerolinecolor\":\"white\",\"automargin\":true,\"zerolinewidth\":2},\"yaxis\":{\"gridcolor\":\"white\",\"linecolor\":\"white\",\"ticks\":\"\",\"title\":{\"standoff\":15},\"zerolinecolor\":\"white\",\"automargin\":true,\"zerolinewidth\":2},\"scene\":{\"xaxis\":{\"backgroundcolor\":\"#E5ECF6\",\"gridcolor\":\"white\",\"linecolor\":\"white\",\"showbackground\":true,\"ticks\":\"\",\"zerolinecolor\":\"white\",\"gridwidth\":2},\"yaxis\":{\"backgroundcolor\":\"#E5ECF6\",\"gridcolor\":\"white\",\"linecolor\":\"white\",\"showbackground\":true,\"ticks\":\"\",\"zerolinecolor\":\"white\",\"gridwidth\":2},\"zaxis\":{\"backgroundcolor\":\"#E5ECF6\",\"gridcolor\":\"white\",\"linecolor\":\"white\",\"showbackground\":true,\"ticks\":\"\",\"zerolinecolor\":\"white\",\"gridwidth\":2}},\"shapedefaults\":{\"line\":{\"color\":\"#2a3f5f\"}},\"annotationdefaults\":{\"arrowcolor\":\"#2a3f5f\",\"arrowhead\":0,\"arrowwidth\":1},\"geo\":{\"bgcolor\":\"white\",\"landcolor\":\"#E5ECF6\",\"subunitcolor\":\"white\",\"showland\":true,\"showlakes\":true,\"lakecolor\":\"white\"},\"title\":{\"x\":0.05},\"mapbox\":{\"style\":\"light\"}}}},                        {\"responsive\": true}                    ).then(function(){\n",
       "                            \n",
       "var gd = document.getElementById('8aa3e6a1-5164-4160-b6bf-f61a08daa5c8');\n",
       "var x = new MutationObserver(function (mutations, observer) {{\n",
       "        var display = window.getComputedStyle(gd).display;\n",
       "        if (!display || display === 'none') {{\n",
       "            console.log([gd, 'removed!']);\n",
       "            Plotly.purge(gd);\n",
       "            observer.disconnect();\n",
       "        }}\n",
       "}});\n",
       "\n",
       "// Listen for the removal of the full notebook cells\n",
       "var notebookContainer = gd.closest('#notebook-container');\n",
       "if (notebookContainer) {{\n",
       "    x.observe(notebookContainer, {childList: true});\n",
       "}}\n",
       "\n",
       "// Listen for the clearing of the current output cell\n",
       "var outputEl = gd.closest('.output');\n",
       "if (outputEl) {{\n",
       "    x.observe(outputEl, {childList: true});\n",
       "}}\n",
       "\n",
       "                        })                };                });            </script>        </div>"
      ]
     },
     "metadata": {},
     "output_type": "display_data"
    }
   ],
   "source": [
    "two_graphs(file_path1,file_path2)"
   ]
  },
  {
   "cell_type": "code",
   "execution_count": null,
   "id": "11a2618c",
   "metadata": {},
   "outputs": [],
   "source": []
  }
 ],
 "metadata": {
  "kernelspec": {
   "display_name": "Python 3 (ipykernel)",
   "language": "python",
   "name": "python3"
  },
  "language_info": {
   "codemirror_mode": {
    "name": "ipython",
    "version": 3
   },
   "file_extension": ".py",
   "mimetype": "text/x-python",
   "name": "python",
   "nbconvert_exporter": "python",
   "pygments_lexer": "ipython3",
   "version": "3.8.16"
  }
 },
 "nbformat": 4,
 "nbformat_minor": 5
}
